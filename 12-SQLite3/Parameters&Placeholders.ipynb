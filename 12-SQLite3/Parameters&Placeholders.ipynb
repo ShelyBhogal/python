{
 "cells": [
  {
   "cell_type": "markdown",
   "id": "6338513d",
   "metadata": {},
   "source": [
    "# Parameter Substitution and Placeholders\n",
    "\n",
    "**Instead of directly manipulating the SQL string statement to include new inserts or updates (e.g. `format()` method), you can use PLACEHOLDERS in the string (`?`) to refer to PARAMETERS (values) that come from outside. It is an added level of security for database administration.**\n",
    "\n",
    "**Using the contacts database, substitute insert new values with placeholders in the SQL statement linking to parameters.**"
   ]
  },
  {
   "cell_type": "code",
   "execution_count": 1,
   "id": "987049c1",
   "metadata": {},
   "outputs": [],
   "source": [
    "import sqlite3"
   ]
  },
  {
   "cell_type": "code",
   "execution_count": 4,
   "id": "dc66ab7a",
   "metadata": {},
   "outputs": [],
   "source": [
    "db = sqlite3.connect('contacts/contacts.sqlite')\n",
    "\n",
    "new_contact = ('Tony', 5678901, 'tony@email.com')\n",
    "new_role = (5, 'Tony', 'Window Designer')\n",
    "\n",
    "insert_sql = \"INSERT INTO contacts (name, phone, email) VALUES(?, ?, ?)\"\n",
    "\n",
    "insert_cursor = db.cursor()\n",
    "\n",
    "insert_cursor.execute(insert_sql, (new_contact[0], new_contact[1], new_contact[2]))\n",
    "\n",
    "insert_cursor.connection.commit()"
   ]
  },
  {
   "cell_type": "code",
   "execution_count": 5,
   "id": "f134765b",
   "metadata": {},
   "outputs": [
    {
     "name": "stdout",
     "output_type": "stream",
     "text": [
      "Shely: 1234567 | update@update.com\n",
      "Ryan: 2345678 | new@email.com\n",
      "Betty: 3456789 | betty@email.com\n",
      "Jacinta: 4567890 | jacinta@email.com\n",
      "Tony: 5678901 | tony@email.com\n"
     ]
    }
   ],
   "source": [
    "for name, phone, email in db.execute(\"SELECT * FROM contacts\"):\n",
    "    print(f\"{name}: {phone} | {email}\")"
   ]
  },
  {
   "cell_type": "code",
   "execution_count": 6,
   "id": "3ead6228",
   "metadata": {},
   "outputs": [],
   "source": [
    "insert_cursor.close()"
   ]
  },
  {
   "cell_type": "code",
   "execution_count": 7,
   "id": "5bff39fa",
   "metadata": {},
   "outputs": [
    {
     "name": "stdout",
     "output_type": "stream",
     "text": [
      "Shely: 1234567 | update@update.com\n",
      "Ryan: 2345678 | new@email.com\n",
      "Betty: 3456789 | betty@email.com\n",
      "Jacinta: 4567890 | jacinta@email.com\n",
      "Tony: 5678901 | tony@email.com\n"
     ]
    }
   ],
   "source": [
    "# Check again to see that new contact has been saved\n",
    "\n",
    "for name, phone, email in db.execute(\"SELECT * FROM contacts\"):\n",
    "    print(f\"{name}: {phone} | {email}\")"
   ]
  },
  {
   "cell_type": "markdown",
   "id": "159749cb",
   "metadata": {},
   "source": [
    "**The incoming new input could be coming directly from a user, e.g. `input()` function. Placeholders add another level of security as the database can be automatically updated without anyone else needing to oversee.**"
   ]
  },
  {
   "cell_type": "code",
   "execution_count": 11,
   "id": "97fa5c80",
   "metadata": {},
   "outputs": [
    {
     "name": "stdout",
     "output_type": "stream",
     "text": [
      "Please enter your name: Shely\n",
      "Please enter your new phone number: 01234566\n"
     ]
    }
   ],
   "source": [
    "contact_name = input(\"Please enter your name: \")\n",
    "new_phone = input(\"Please enter your new phone number: \")\n",
    "\n",
    "update_sql = \"UPDATE contacts SET phone=? WHERE name=?\"\n",
    "\n",
    "update_cursor = db.cursor()\n",
    "\n",
    "update_cursor.execute(update_sql, (new_phone, contact_name))\n",
    "\n",
    "update_cursor.connection.commit()\n",
    "\n",
    "update_cursor.close()"
   ]
  },
  {
   "cell_type": "code",
   "execution_count": 12,
   "id": "995153b4",
   "metadata": {},
   "outputs": [
    {
     "name": "stdout",
     "output_type": "stream",
     "text": [
      "Shely: 1234566 | update@update.com\n",
      "Ryan: 2345678 | new@email.com\n",
      "Betty: 3456789 | betty@email.com\n",
      "Jacinta: 4567890 | jacinta@email.com\n",
      "Tony: 5678901 | tony@email.com\n"
     ]
    }
   ],
   "source": [
    "for name, phone, email in db.execute(\"SELECT * FROM contacts\"):\n",
    "    print(f\"{name}: {phone} | {email}\")"
   ]
  },
  {
   "cell_type": "markdown",
   "id": "b3fdd6f0",
   "metadata": {},
   "source": [
    "**You can allow the user to see their own record:**"
   ]
  },
  {
   "cell_type": "code",
   "execution_count": 18,
   "id": "44f60b8e",
   "metadata": {},
   "outputs": [
    {
     "name": "stdout",
     "output_type": "stream",
     "text": [
      "What is your name? Tony\n",
      "('Tony', 5678901, 'tony@email.com')\n"
     ]
    }
   ],
   "source": [
    "person = input(\"What is your name? \")\n",
    "\n",
    "person_sql = \"SELECT * FROM contacts WHERE name LIKE ?\"\n",
    "\n",
    "for row in db.execute(person_sql, (person, )):\n",
    "    print(row)"
   ]
  },
  {
   "cell_type": "markdown",
   "id": "30408e20",
   "metadata": {},
   "source": [
    "**Note that because the parameters are added in a tuple, single values must have following comma in order to make the argument into a tuple.**"
   ]
  },
  {
   "cell_type": "code",
   "execution_count": 19,
   "id": "6a7af5e3",
   "metadata": {},
   "outputs": [],
   "source": [
    "db.close()"
   ]
  },
  {
   "cell_type": "code",
   "execution_count": null,
   "id": "553f1e9b",
   "metadata": {},
   "outputs": [],
   "source": []
  }
 ],
 "metadata": {
  "kernelspec": {
   "display_name": "Python 3 (ipykernel)",
   "language": "python",
   "name": "python3"
  },
  "language_info": {
   "codemirror_mode": {
    "name": "ipython",
    "version": 3
   },
   "file_extension": ".py",
   "mimetype": "text/x-python",
   "name": "python",
   "nbconvert_exporter": "python",
   "pygments_lexer": "ipython3",
   "version": "3.9.17"
  }
 },
 "nbformat": 4,
 "nbformat_minor": 5
}
