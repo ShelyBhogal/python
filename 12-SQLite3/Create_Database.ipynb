{
 "cells": [
  {
   "cell_type": "markdown",
   "id": "42fe3416",
   "metadata": {},
   "source": [
    "# Creating SQLite Database in Python\n",
    "\n",
    "**SQLite is easy to use in Python, simply by importing the `sqlite3` module and connecting to a database.**"
   ]
  },
  {
   "cell_type": "code",
   "execution_count": 1,
   "id": "b8481681",
   "metadata": {},
   "outputs": [],
   "source": [
    "import sqlite3"
   ]
  },
  {
   "cell_type": "code",
   "execution_count": 2,
   "id": "d771d496",
   "metadata": {},
   "outputs": [],
   "source": [
    "db = sqlite3.connect('contacts/contacts.sqlite')"
   ]
  },
  {
   "cell_type": "markdown",
   "id": "f5cb0226",
   "metadata": {},
   "source": [
    "**SQLite does not care what you call the database, as long as it is a valid filename, i.e. you don't need `.db` extension.**\n",
    "\n",
    "**In order to create a table and insert data, you need to pass each SQL statement in an `execute()` method, called off the database object - make sure to use double quotation marks to contain SQL statement. You do not use a semi-colon to terminate the SQL statements because Python automatically concatenates it for you.**"
   ]
  },
  {
   "cell_type": "code",
   "execution_count": 3,
   "id": "08c14dbd",
   "metadata": {},
   "outputs": [
    {
     "data": {
      "text/plain": [
       "<sqlite3.Cursor at 0x18922cc32d0>"
      ]
     },
     "execution_count": 3,
     "metadata": {},
     "output_type": "execute_result"
    }
   ],
   "source": [
    "db.execute(\"CREATE TABLE IF NOT EXISTS contacts (name TEXT NOT NULL, phone INTEGER, email TEXT)\")\n",
    "\n",
    "db.execute(\"INSERT INTO contacts (name, phone, email) VALUES('Shely', 1234567, 'shely@email.com')\")\n",
    "db.execute(\"INSERT INTO contacts (name, phone, email) VALUES('Ryan', 2345678, 'ryan@email.com')\")\n",
    "db.execute(\"INSERT INTO contacts (name, phone, email) VALUES('Betty', 3456789, 'betty@email.com')\")\n",
    "db.execute(\"INSERT INTO contacts (name, phone, email) VALUES('Jacinta', 4567890, 'jacinta@email.com')\")"
   ]
  },
  {
   "cell_type": "markdown",
   "id": "95557bd3",
   "metadata": {},
   "source": [
    "**Now you can query the database, using a `cursor`, which is an *iterable*:**"
   ]
  },
  {
   "cell_type": "code",
   "execution_count": 4,
   "id": "c7aa137b",
   "metadata": {},
   "outputs": [
    {
     "name": "stdout",
     "output_type": "stream",
     "text": [
      "Shely: 1234567 | shely@email.com\n",
      "Ryan: 2345678 | ryan@email.com\n",
      "Betty: 3456789 | betty@email.com\n",
      "Jacinta: 4567890 | jacinta@email.com\n"
     ]
    }
   ],
   "source": [
    "cursor = db.cursor()\n",
    "\n",
    "cursor.execute(\"SELECT * FROM contacts\")\n",
    "\n",
    "for name, phone, email in cursor:\n",
    "    print(f\"{name}: {phone} | {email}\")"
   ]
  },
  {
   "cell_type": "markdown",
   "id": "b8d55e0b",
   "metadata": {},
   "source": [
    "**Once you have iterated over a query result, the cursor object is 'emptied' and you need to create a new one to run another query. Note how after the `fetchall()` method is used, the cursor object has been emptied and does not print the `for` loop.**"
   ]
  },
  {
   "cell_type": "code",
   "execution_count": 5,
   "id": "1ba83924",
   "metadata": {},
   "outputs": [
    {
     "name": "stdout",
     "output_type": "stream",
     "text": [
      "[('Shely', 1234567, 'shely@email.com'), ('Ryan', 2345678, 'ryan@email.com'), ('Betty', 3456789, 'betty@email.com'), ('Jacinta', 4567890, 'jacinta@email.com')]\n"
     ]
    }
   ],
   "source": [
    "cursor = db.cursor()\n",
    "\n",
    "cursor.execute(\"SELECT * FROM contacts\")\n",
    "\n",
    "print(cursor.fetchall())\n",
    "\n",
    "for name, phone, email in cursor:\n",
    "    print(f\"{name}: {phone} | {email}\")"
   ]
  },
  {
   "cell_type": "code",
   "execution_count": 6,
   "id": "43e6ec46",
   "metadata": {},
   "outputs": [
    {
     "name": "stdout",
     "output_type": "stream",
     "text": [
      "('Shely', 1234567, 'shely@email.com')\n",
      "('Ryan', 2345678, 'ryan@email.com')\n",
      "('Betty', 3456789, 'betty@email.com')\n",
      "('Jacinta', 4567890, 'jacinta@email.com')\n",
      "None\n"
     ]
    }
   ],
   "source": [
    "cursor = db.cursor()\n",
    "\n",
    "cursor.execute(\"SELECT * FROM contacts\")\n",
    "\n",
    "print(cursor.fetchone())\n",
    "print(cursor.fetchone())\n",
    "print(cursor.fetchone())\n",
    "print(cursor.fetchone())\n",
    "print(cursor.fetchone())"
   ]
  },
  {
   "cell_type": "markdown",
   "id": "28e23201",
   "metadata": {},
   "source": [
    "**Technically, you don't need to create the cursor to make an SQL connection, since you can execute an SQL statement off the database, which is automatically connected. You can think of it as a shortcut.**"
   ]
  },
  {
   "cell_type": "code",
   "execution_count": 7,
   "id": "c5228dab",
   "metadata": {},
   "outputs": [
    {
     "name": "stdout",
     "output_type": "stream",
     "text": [
      "('Shely', 1234567, 'shely@email.com')\n",
      "('Ryan', 2345678, 'ryan@email.com')\n",
      "('Betty', 3456789, 'betty@email.com')\n",
      "('Jacinta', 4567890, 'jacinta@email.com')\n"
     ]
    }
   ],
   "source": [
    "for row in db.execute(\"SELECT * FROM contacts\"):\n",
    "    print(row)"
   ]
  },
  {
   "cell_type": "markdown",
   "id": "1563ccc1",
   "metadata": {},
   "source": [
    "**NOTE: After working on a database, you must close all the connections at the end (cursor and database).**\n",
    "\n",
    "**If open the contacts database again after closing it, you will see that all `INSERTS` and `UPDATES` made before have been lost. This is because you did not 'commit' the changes (think GIT).**"
   ]
  },
  {
   "cell_type": "code",
   "execution_count": 9,
   "id": "6eb7221f",
   "metadata": {},
   "outputs": [],
   "source": [
    "cursor.close()\n",
    "\n",
    "db.close()"
   ]
  },
  {
   "cell_type": "code",
   "execution_count": 10,
   "id": "0d0a3359",
   "metadata": {},
   "outputs": [],
   "source": [
    "db = sqlite3.connect('contacts/contacts.sqlite')"
   ]
  },
  {
   "cell_type": "code",
   "execution_count": 11,
   "id": "747f8e8e",
   "metadata": {},
   "outputs": [],
   "source": [
    "for row in db.execute(\"SELECT * FROM contacts\"):\n",
    "    print(row)"
   ]
  },
  {
   "cell_type": "markdown",
   "id": "cc7ed6dc",
   "metadata": {},
   "source": [
    "## Committing changes to database\n",
    "\n",
    "**Any changes made to a connected database, i.e. `INSERT`, `UPDATE`, and `DELETE` statements, must be committed if you want to save the changes. You can modify a database as much as you want but the original stays intact until those SQL statements have been committed.**"
   ]
  },
  {
   "cell_type": "code",
   "execution_count": 12,
   "id": "156ef078",
   "metadata": {},
   "outputs": [
    {
     "data": {
      "text/plain": [
       "<sqlite3.Cursor at 0x18922cc3650>"
      ]
     },
     "execution_count": 12,
     "metadata": {},
     "output_type": "execute_result"
    }
   ],
   "source": [
    "db.execute(\"CREATE TABLE IF NOT EXISTS contacts (name TEXT NOT NULL, phone INTEGER, email TEXT)\")\n",
    "\n",
    "db.execute(\"INSERT INTO contacts (name, phone, email) VALUES('Shely', 1234567, 'shely@email.com')\")\n",
    "db.execute(\"INSERT INTO contacts (name, phone, email) VALUES('Ryan', 2345678, 'ryan@email.com')\")\n",
    "db.execute(\"INSERT INTO contacts (name, phone, email) VALUES('Betty', 3456789, 'betty@email.com')\")\n",
    "db.execute(\"INSERT INTO contacts (name, phone, email) VALUES('Jacinta', 4567890, 'jacinta@email.com')\")"
   ]
  },
  {
   "cell_type": "code",
   "execution_count": 13,
   "id": "91928663",
   "metadata": {},
   "outputs": [
    {
     "name": "stdout",
     "output_type": "stream",
     "text": [
      "[('Shely', 1234567, 'shely@email.com'), ('Ryan', 2345678, 'ryan@email.com'), ('Betty', 3456789, 'betty@email.com'), ('Jacinta', 4567890, 'jacinta@email.com')]\n"
     ]
    }
   ],
   "source": [
    "cursor = db.cursor()\n",
    "\n",
    "cursor.execute(\"SELECT * FROM contacts\")\n",
    "\n",
    "print(cursor.fetchall())"
   ]
  },
  {
   "cell_type": "code",
   "execution_count": 14,
   "id": "7d52f154",
   "metadata": {},
   "outputs": [],
   "source": [
    "cursor.close()\n",
    "\n",
    "# COMMIT CHANGES\n",
    "db.commit()\n",
    "\n",
    "db.close()"
   ]
  },
  {
   "cell_type": "code",
   "execution_count": 15,
   "id": "eee6ad3a",
   "metadata": {},
   "outputs": [
    {
     "name": "stdout",
     "output_type": "stream",
     "text": [
      "Shely: 1234567 | shely@email.com\n",
      "Ryan: 2345678 | ryan@email.com\n",
      "Betty: 3456789 | betty@email.com\n",
      "Jacinta: 4567890 | jacinta@email.com\n"
     ]
    }
   ],
   "source": [
    "db = sqlite3.connect('contacts/contacts.sqlite')\n",
    "\n",
    "for name, phone, email in db.execute(\"SELECT * FROM contacts\"):\n",
    "    print(f\"{name}: {phone} | {email}\")"
   ]
  },
  {
   "cell_type": "code",
   "execution_count": 18,
   "id": "2fca612e",
   "metadata": {},
   "outputs": [
    {
     "name": "stdout",
     "output_type": "stream",
     "text": [
      "1 rows updated\n"
     ]
    }
   ],
   "source": [
    "# Update database through cursor connection (rather than database connection)\n",
    "\n",
    "update_sql = \"UPDATE contacts SET email='update@update.com' WHERE contacts.phone=1234567\"\n",
    "\n",
    "update_cursor = db.cursor()\n",
    "\n",
    "update_cursor.execute(update_sql)\n",
    "\n",
    "print(f\"{update_cursor.rowcount} rows updated\")"
   ]
  },
  {
   "cell_type": "code",
   "execution_count": 19,
   "id": "7375fde6",
   "metadata": {},
   "outputs": [
    {
     "name": "stdout",
     "output_type": "stream",
     "text": [
      "Shely: 1234567 | update@update.com\n",
      "Ryan: 2345678 | ryan@email.com\n",
      "Betty: 3456789 | betty@email.com\n",
      "Jacinta: 4567890 | jacinta@email.com\n"
     ]
    }
   ],
   "source": [
    "for name, phone, email in db.execute(\"SELECT * FROM contacts\"):\n",
    "    print(f\"{name}: {phone} | {email}\")"
   ]
  },
  {
   "cell_type": "code",
   "execution_count": 20,
   "id": "fecf1b04",
   "metadata": {},
   "outputs": [],
   "source": [
    "# COMMIT CHANGES VIA THE CURSOR OBJECT\n",
    "\n",
    "update_cursor.connection.commit()\n",
    "\n",
    "#print(\"Are connections the same? {}\".format(update_cursor.connection == db))\n",
    "\n",
    "update_cursor.close()\n",
    "\n",
    "db.close()"
   ]
  },
  {
   "cell_type": "markdown",
   "id": "7d36d49f",
   "metadata": {},
   "source": [
    "**Committing changes made to the cursor object is most common when making many updates in a large script, i.e. you commit the changes as you go along, rather than committing all the changes on the database at the end (both commits do the same thing). As programs get more complex, this usefulness will become evident.**\n",
    "\n",
    "**In practice, new updates or records would be provided as variables, rather han hard-coded into the SQL statement.**\n",
    "\n",
    "    new_name = 'Barry'\n",
    "    new_email = 'barry@email.com'\n",
    "    new_phone = 5678901\n",
    "\n",
    "    insert_sql = \"INSERT INTO contacts (name, phone, email) VALUES({}, {}, {})\".format(new_name, new_phone, new_email)\n",
    "\n",
    "    db.execute(insert_sql)\n",
    "\n",
    "    db.commit()\n",
    "    \n",
    "**You can include multiple SQL statements with `executescript()` method, where the individual statements are separated by semi-colons making sure to include a terminating semi-colon on the last statement. Double and triple quotation marks will suffice to contain the statements.**"
   ]
  },
  {
   "cell_type": "code",
   "execution_count": 4,
   "id": "216bb04d",
   "metadata": {},
   "outputs": [
    {
     "data": {
      "text/plain": [
       "<sqlite3.Cursor at 0x1fb952d42d0>"
      ]
     },
     "execution_count": 4,
     "metadata": {},
     "output_type": "execute_result"
    }
   ],
   "source": [
    "db = sqlite3.connect('contacts/contacts.sqlite')\n",
    "\n",
    "update_cursor = db.cursor()\n",
    "\n",
    "update_sql = \"UPDATE contacts SET email='new@email.com' WHERE contacts.phone=2345678; SELECT * FROM contacts;\"\n",
    "\n",
    "update_cursor.executescript(update_sql)"
   ]
  },
  {
   "cell_type": "code",
   "execution_count": 5,
   "id": "3901c97f",
   "metadata": {},
   "outputs": [
    {
     "name": "stdout",
     "output_type": "stream",
     "text": [
      "Shely: 1234567 | update@update.com\n",
      "Ryan: 2345678 | new@email.com\n",
      "Betty: 3456789 | betty@email.com\n",
      "Jacinta: 4567890 | jacinta@email.com\n"
     ]
    }
   ],
   "source": [
    "for name, phone, email in db.execute(\"SELECT * FROM contacts\"):\n",
    "    print(f\"{name}: {phone} | {email}\")"
   ]
  },
  {
   "cell_type": "code",
   "execution_count": 6,
   "id": "c93cbf1f",
   "metadata": {},
   "outputs": [],
   "source": [
    "update_cursor.connection.commit()\n",
    "\n",
    "update_cursor.close()"
   ]
  },
  {
   "cell_type": "code",
   "execution_count": 7,
   "id": "7f4d6452",
   "metadata": {},
   "outputs": [
    {
     "name": "stdout",
     "output_type": "stream",
     "text": [
      "Shely: Manager\n",
      "Ryan: Deputy Manager\n",
      "Betty: Shop Assistant\n",
      "Jacinta: Shop Assistant\n"
     ]
    }
   ],
   "source": [
    "new_table_sql = \"\"\"CREATE TABLE IF NOT EXISTS jobs (_id INTEGER NOT NULL, name TEXT PRIMARY KEY, role TEXT NOT NULL);\n",
    "INSERT INTO jobs (_id, name, role) VALUES(1, 'Shely', 'Manager');\n",
    "INSERT INTO jobs (_id, name, role) VALUES(2, 'Ryan', 'Deputy Manager');\n",
    "INSERT INTO jobs (_id, name, role) VALUES(3, 'Betty', 'Shop Assistant');\n",
    "INSERT INTO jobs (_id, name, role) VALUES(4, 'Jacinta', 'Shop Assistant');\"\"\"\n",
    "\n",
    "db.executescript(new_table_sql)\n",
    "\n",
    "for _id, name, role in db.execute(\"SELECT * FROM jobs\"):\n",
    "    print(f\"{name}: {role}\")"
   ]
  },
  {
   "cell_type": "code",
   "execution_count": 8,
   "id": "e7ee2521",
   "metadata": {},
   "outputs": [],
   "source": [
    "db.commit()\n",
    "\n",
    "db.close()"
   ]
  },
  {
   "cell_type": "code",
   "execution_count": null,
   "id": "d4280364",
   "metadata": {},
   "outputs": [],
   "source": []
  }
 ],
 "metadata": {
  "kernelspec": {
   "display_name": "Python 3 (ipykernel)",
   "language": "python",
   "name": "python3"
  },
  "language_info": {
   "codemirror_mode": {
    "name": "ipython",
    "version": 3
   },
   "file_extension": ".py",
   "mimetype": "text/x-python",
   "name": "python",
   "nbconvert_exporter": "python",
   "pygments_lexer": "ipython3",
   "version": "3.9.17"
  }
 },
 "nbformat": 4,
 "nbformat_minor": 5
}
