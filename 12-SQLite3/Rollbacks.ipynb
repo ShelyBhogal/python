{
 "cells": [
  {
   "cell_type": "markdown",
   "id": "7a5cadaf",
   "metadata": {},
   "source": [
    "# Rolling back an update to Database\n",
    "\n",
    "**Using the `Account` class to create bank accounts and store transaction details, you can 'roll back' a transaction in case there is an error.**\n",
    "\n",
    "**Database table for accounts:**\n",
    "\n",
    "| <mark>name</mark>  | balance   |\n",
    "| :----------------: | :-------: |\n",
    "| John               | 100.00    |\n",
    "| *String*           | *Integer* |\n",
    "\n",
    "**Database table for transactions:**\n",
    "\n",
    "| <mark>time</mark>         | <mark>account</mark> | amount    |\n",
    "| :-----------------------: | :------------------: |:--------: |\n",
    "| '2024-03-10 09:03:06.514' | John                 | 10.10     |\n",
    "| *Datetime*                | *String*             | *Integer* |\n",
    "\n",
    "**The highlighted column headers are the primary keys. As you can see, the transaction table has two primary keys that work together to become a unique feature, known as a 'composite' primary key. The time of the transaction together with the account holder's name is unique to the transaction event. The account holder's name is also the primary key (unique) in the accounts table.**\n",
    "\n",
    "**Where the data is saved in the database (see `_save_update()` method), you can add a `rollback()` instruction, that allows for a rollback when there is an SQLite error. The update is protected by `try` and `else` block that rolls back any changes that are pending that raised an error.**"
   ]
  },
  {
   "cell_type": "code",
   "execution_count": 1,
   "id": "4c8dd68b",
   "metadata": {},
   "outputs": [],
   "source": [
    "import sqlite3\n",
    "import datetime\n",
    "import pytz"
   ]
  },
  {
   "cell_type": "code",
   "execution_count": 6,
   "id": "eb03a1f7",
   "metadata": {},
   "outputs": [],
   "source": [
    "class Account(object):\n",
    "    \n",
    "    @staticmethod\n",
    "    def _current_time():\n",
    "        return pytz.utc.localize(datetime.datetime.utcnow())\n",
    "    \n",
    "    def __init__(self, name, opening_balance=0):\n",
    "        cursor = db.execute(\"SELECT name, balance FROM accounts WHERE (name=?)\", (name, ))\n",
    "        row = cursor.fetchone()\n",
    "        \n",
    "        if row:\n",
    "            self.name, self._balance = row\n",
    "            print(f\"\\tRetrieved account details for {self.name}\")\n",
    "        else:\n",
    "            self.name = name\n",
    "            self._balance = opening_balance\n",
    "            cursor.execute(\"INSERT INTO accounts VALUES(?, ?)\", (name, opening_balance))\n",
    "            cursor.connection.commit()\n",
    "            print(f\"\\tAccount created for {self.name}\")\n",
    "            \n",
    "        self.show_balance()\n",
    "    \n",
    "    def _save_update(self, amount):\n",
    "        new_balance = self._balance + amount\n",
    "        deposit_time = Account._current_time()\n",
    "        \n",
    "        # Protect update with rollback in case of error\n",
    "        try:\n",
    "            db.execute(\"UPDATE accounts SET balance= ? WHERE (name=?)\", (new_balance, self.name))\n",
    "            db.execute(\"INSERT INTO transactions VALUES(?, ?, ?)\", (deposit_time, self.name, amount))\n",
    "        except sqlite3.Error:\n",
    "            db.rollback()\n",
    "        else:\n",
    "            db.commit()\n",
    "            self._balance = new_balance\n",
    "    \n",
    "    def deposit(self, amount):\n",
    "        if amount > 0.0:\n",
    "            self._save_update(amount)\n",
    "            print(\"£{:.2f} deposited\".format(amount / 100))\n",
    "            \n",
    "        return self._balance / 100\n",
    "    \n",
    "    def withdraw(self, amount):\n",
    "        if 0.0 < amount <= self._balance:\n",
    "            self._save_update(-amount)\n",
    "            print(\"£{:.2f} withdrawn\".format(amount / 100))\n",
    "            return amount / 100\n",
    "        else:\n",
    "            print(f\"Not enough funds to withdraw £{amount}\")\n",
    "            return 0.0\n",
    "    \n",
    "    def show_balance(self):\n",
    "        print(\"Balance on account is £{:.2f}\".format(self._balance / 100))\n"
   ]
  },
  {
   "cell_type": "code",
   "execution_count": 3,
   "id": "b2cda11d",
   "metadata": {},
   "outputs": [
    {
     "data": {
      "text/plain": [
       "<sqlite3.Cursor at 0x25ff159d880>"
      ]
     },
     "execution_count": 3,
     "metadata": {},
     "output_type": "execute_result"
    }
   ],
   "source": [
    "db = sqlite3.connect('accounts/accounts.sqlite', detect_types=sqlite3.PARSE_DECLTYPES)\n",
    "\n",
    "db.execute(\"CREATE TABLE IF NOT EXISTS accounts (name TEXT PRIMARY KEY NOT NULL, balance INTEGER NOT NULL)\")\n",
    "db.execute(\"CREATE TABLE IF NOT EXISTS transactions (time TIMESTAMP NOT NULL, account TEXT NOT NULL, amount INTEGER NOT NULL, \"\n",
    "           \"PRIMARY KEY (time, account))\")"
   ]
  },
  {
   "cell_type": "code",
   "execution_count": 7,
   "id": "d721efc8",
   "metadata": {},
   "outputs": [
    {
     "name": "stdout",
     "output_type": "stream",
     "text": [
      "\tRetrieved account details for John\n",
      "Balance on account is £9.92\n",
      "£20.02 deposited\n",
      "£10.10 withdrawn\n",
      "Balance on account is £19.84\n",
      "********************************************************************************\n",
      "\tRetrieved account details for Terry\n",
      "Balance on account is £0.03\n",
      "£0.01 deposited\n",
      "£0.01 deposited\n",
      "£0.01 deposited\n",
      "Balance on account is £0.06\n",
      "********************************************************************************\n",
      "\tRetrieved account details for TerryJ\n",
      "Balance on account is £1.05\n",
      "£1.00 deposited\n",
      "£0.05 deposited\n",
      "Balance on account is £2.10\n",
      "********************************************************************************\n",
      "\tRetrieved account details for Graham\n",
      "Balance on account is £0.00\n",
      "Not enough funds to withdraw £100\n",
      "Balance on account is £0.00\n",
      "********************************************************************************\n",
      "\tRetrieved account details for Sally\n",
      "Balance on account is £10.00\n",
      "£10.00 deposited\n",
      "Balance on account is £20.00\n",
      "********************************************************************************\n",
      "\tRetrieved account details for TerryG\n",
      "Balance on account is £40.00\n",
      "£40.00 deposited\n",
      "£50.00 withdrawn\n",
      "Balance on account is £30.00\n",
      "********************************************************************************\n"
     ]
    }
   ],
   "source": [
    "# Insert amounts in pennies\n",
    "\n",
    "john = Account('John')\n",
    "john.deposit(2002)\n",
    "john.withdraw(1010)\n",
    "john.show_balance()\n",
    "\n",
    "print('*' * 80)\n",
    "\n",
    "terry = Account('Terry')\n",
    "terry.deposit(1)\n",
    "terry.deposit(1)\n",
    "terry.deposit(1)\n",
    "terry.show_balance()\n",
    "\n",
    "print('*' * 80)\n",
    "\n",
    "# New account\n",
    "terryJ = Account('TerryJ')\n",
    "terryJ.deposit(100)\n",
    "terryJ.deposit(5)\n",
    "terryJ.show_balance()\n",
    "\n",
    "print('*' * 80)\n",
    "\n",
    "graham = Account('Graham')\n",
    "graham.withdraw(100)\n",
    "graham.show_balance()\n",
    "\n",
    "print('*' * 80)\n",
    "\n",
    "sally = Account('Sally')\n",
    "sally.deposit(1000)\n",
    "sally.show_balance()\n",
    "\n",
    "print('*' * 80)\n",
    "\n",
    "# New account\n",
    "terryG = Account('TerryG')\n",
    "terryG.deposit(4000)\n",
    "terryG.withdraw(5000)\n",
    "terryG.show_balance()\n",
    "\n",
    "print('*' * 80)"
   ]
  },
  {
   "cell_type": "markdown",
   "id": "cb84f4f5",
   "metadata": {},
   "source": [
    "**There are no errors and the accounts are created and the transactions are stored in the database:**"
   ]
  },
  {
   "cell_type": "code",
   "execution_count": 8,
   "id": "4b031df5",
   "metadata": {},
   "outputs": [
    {
     "name": "stdout",
     "output_type": "stream",
     "text": [
      "(datetime.datetime(2024, 3, 15, 8, 59, 17, 52126), 'John', 2002)\n",
      "(datetime.datetime(2024, 3, 15, 8, 59, 17, 59747), 'John', -1010)\n",
      "(datetime.datetime(2024, 3, 15, 8, 59, 17, 72719), 'Terry', 1)\n",
      "(datetime.datetime(2024, 3, 15, 8, 59, 17, 78830), 'Terry', 1)\n",
      "(datetime.datetime(2024, 3, 15, 8, 59, 17, 85762), 'Terry', 1)\n",
      "(datetime.datetime(2024, 3, 15, 8, 59, 17, 98602), 'TerryJ', 100)\n",
      "(datetime.datetime(2024, 3, 15, 8, 59, 17, 104785), 'TerryJ', 5)\n",
      "(datetime.datetime(2024, 3, 15, 8, 59, 17, 123918), 'Sally', 1000)\n",
      "(datetime.datetime(2024, 3, 15, 8, 59, 17, 137425), 'TerryG', 4000)\n",
      "(datetime.datetime(2024, 3, 15, 9, 3, 43, 750467), 'John', 2002)\n",
      "(datetime.datetime(2024, 3, 15, 9, 3, 43, 757533), 'John', -1010)\n",
      "(datetime.datetime(2024, 3, 15, 9, 3, 43, 764222), 'Terry', 1)\n",
      "(datetime.datetime(2024, 3, 15, 9, 3, 43, 769716), 'Terry', 1)\n",
      "(datetime.datetime(2024, 3, 15, 9, 3, 43, 776355), 'Terry', 1)\n",
      "(datetime.datetime(2024, 3, 15, 9, 3, 43, 783663), 'TerryJ', 100)\n",
      "(datetime.datetime(2024, 3, 15, 9, 3, 43, 790604), 'TerryJ', 5)\n",
      "(datetime.datetime(2024, 3, 15, 9, 3, 43, 798421), 'Sally', 1000)\n",
      "(datetime.datetime(2024, 3, 15, 9, 3, 43, 806693), 'TerryG', 4000)\n",
      "(datetime.datetime(2024, 3, 15, 9, 3, 43, 813435), 'TerryG', -5000)\n"
     ]
    }
   ],
   "source": [
    "for row in db.execute(\"SELECT * FROM transactions\"):\n",
    "    print(row)"
   ]
  },
  {
   "cell_type": "code",
   "execution_count": 9,
   "id": "f1c31854",
   "metadata": {},
   "outputs": [],
   "source": [
    "db.close()"
   ]
  },
  {
   "cell_type": "code",
   "execution_count": null,
   "id": "3cfe15b6",
   "metadata": {},
   "outputs": [],
   "source": []
  }
 ],
 "metadata": {
  "kernelspec": {
   "display_name": "Python 3 (ipykernel)",
   "language": "python",
   "name": "python3"
  },
  "language_info": {
   "codemirror_mode": {
    "name": "ipython",
    "version": 3
   },
   "file_extension": ".py",
   "mimetype": "text/x-python",
   "name": "python",
   "nbconvert_exporter": "python",
   "pygments_lexer": "ipython3",
   "version": "3.9.17"
  }
 },
 "nbformat": 4,
 "nbformat_minor": 5
}
