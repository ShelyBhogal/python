{
 "cells": [
  {
   "cell_type": "markdown",
   "id": "120fcc69",
   "metadata": {},
   "source": [
    "# Dealing with Timestamps in SQLite\n",
    "\n",
    "**The date and time are often stored in database when a record is created or updated.**\n",
    "\n",
    "**For this exercise, you need to build an `Account` class that creates a personal bank account and makes transactions (deposit or withdrawal). Create a database with tables to store the account details and transaction details for each user.**"
   ]
  },
  {
   "cell_type": "code",
   "execution_count": 1,
   "id": "c9995102",
   "metadata": {},
   "outputs": [],
   "source": [
    "import sqlite3"
   ]
  },
  {
   "cell_type": "code",
   "execution_count": 2,
   "id": "88229b89",
   "metadata": {},
   "outputs": [],
   "source": [
    "class Account(object):\n",
    "    \n",
    "    def __init__(self, name, opening_balance=0.0):\n",
    "        self.name = name\n",
    "        self._balance = opening_balance\n",
    "        print(f\"Account created for {self.name}\")\n",
    "        self.show_balance()\n",
    "    \n",
    "    def deposit(self, amount):\n",
    "        if amount > 0.0:\n",
    "            self._balance += amount\n",
    "            print(f\"£{amount} deposited\")\n",
    "        return self._balance\n",
    "    \n",
    "    def withdraw(self, amount):\n",
    "        if 0.0 < amount <= self._balance:\n",
    "            self._balance -= amount\n",
    "            print(f\"£{amount} withdrawn - £{self._balance} left\")\n",
    "            return amount\n",
    "        else:\n",
    "            print(f\"Not enough funds to withdraw £{amount}\")\n",
    "            return 0.0\n",
    "    \n",
    "    def show_balance(self):\n",
    "        print(f\"Balance for {self.name} is £{self._balance}\")\n"
   ]
  },
  {
   "cell_type": "code",
   "execution_count": 3,
   "id": "039c0b8a",
   "metadata": {},
   "outputs": [
    {
     "name": "stdout",
     "output_type": "stream",
     "text": [
      "Account created for John\n",
      "Balance for John is £100000\n",
      "£10.1 deposited\n",
      "£102.34 deposited\n",
      "£20000 withdrawn - £80112.44 left\n",
      "Not enough funds to withdraw £150000\n",
      "Balance for John is £80112.44\n"
     ]
    }
   ],
   "source": [
    "john = Account('John', 100000)\n",
    "\n",
    "john.deposit(10.10)\n",
    "john.deposit(102.34)\n",
    "\n",
    "john.withdraw(20000)\n",
    "john.withdraw(150000)\n",
    "\n",
    "john.show_balance()"
   ]
  },
  {
   "cell_type": "markdown",
   "id": "9b609db2",
   "metadata": {},
   "source": [
    "**ALTERNATIVELY, the more accepted form and standard protocol in financial databases is to store the decimal values as objects to be retrieved:**"
   ]
  },
  {
   "cell_type": "code",
   "execution_count": 4,
   "id": "c22b7830",
   "metadata": {},
   "outputs": [],
   "source": [
    "from decimal import * \n",
    "\n",
    "\n",
    "class Account(object):\n",
    "    _qb = Decimal('0.00')  # Class constant, accessible without creating an instance\n",
    "    \n",
    "    def __init__(self, name: str, opening_balance: float = 0.0):\n",
    "        self.name = name\n",
    "        # Convert float value to decimal object\n",
    "        self._balance = Decimal(opening_balance).quantize(Account._qb)\n",
    "        print(\"\\tAccount created for {}. \".format(self.name), end='')\n",
    "        self.show_balance()\n",
    "    \n",
    "    def deposit(self, amount: float) -> Decimal:\n",
    "        decimal_amount = Decimal(amount).quantize(Account._qb)\n",
    "        if decimal_amount > Account._qb:\n",
    "            self._balance = self._balance + decimal_amount\n",
    "            print(\"£{} deposited\".format(decimal_amount))\n",
    "        return self._balance\n",
    "    \n",
    "    def withdraw(self, amount: float) -> Decimal:\n",
    "        decimal_amount = Decimal(amount).quantize(Account._qb)\n",
    "        if Account._qb < decimal_amount <= self._balance:\n",
    "            self._balance = self._balance - decimal_amount\n",
    "            print(\"£{} withdrawn\".format(decimal_amount))\n",
    "            return decimal_amount\n",
    "        else:\n",
    "            print(\"There are not enough funds in your account\")\n",
    "            return Account._qb\n",
    "    \n",
    "    def show_balance(self):\n",
    "        print(\"Balance on {}'s account is £{}\".format(self.name, self._balance))\n"
   ]
  },
  {
   "cell_type": "code",
   "execution_count": 5,
   "id": "c9e97698",
   "metadata": {},
   "outputs": [
    {
     "name": "stdout",
     "output_type": "stream",
     "text": [
      "\tAccount created for Tim. Balance on Tim's account is £0.00\n",
      "£10.10 deposited\n",
      "£0.10 deposited\n",
      "£0.10 deposited\n",
      "£0.30 withdrawn\n",
      "There are not enough funds in your account\n",
      "Balance on Tim's account is £10.00\n",
      "================================================================================\n",
      "There are not enough funds in your account\n",
      "0.00 withdrawn\n",
      "Balance on Tim's account is £10.00\n"
     ]
    }
   ],
   "source": [
    "if __name__ == '__main__':\n",
    "    tim = Account(\"Tim\")\n",
    "    tim.deposit(10.1)\n",
    "    tim.deposit(0.1)\n",
    "    tim.deposit(0.1)\n",
    "    tim.withdraw(0.3)\n",
    "    tim.withdraw(0)\n",
    "    tim.show_balance()\n",
    "    \n",
    "    print(\"=\" * 80)\n",
    "    x = tim.withdraw(900)\n",
    "    print(str(x) + \" withdrawn\")\n",
    "    tim.show_balance()"
   ]
  },
  {
   "cell_type": "markdown",
   "id": "ee348ab2",
   "metadata": {},
   "source": [
    "**The `Decimal` class creates a decimal object from the float values. Even though the client works with normal float values, the values are stored as decimal objects.**\n",
    "\n",
    "**Now that you have a class to create and manage bank accounts, you need to connect with the database that stores the account information. There are two tables, one for `accounts` (name and balance) and another for `transactions` (time of transaction, account name, and amount that is positive for a deposit and negative for a withdrawal).**\n",
    "\n",
    "**The primary key in accounts is the account holder's name, e.g. 'Tim'.**\n",
    "\n",
    "**The primary keys (composite key) in transactions is a mixture of time of transaction and account name, i.e. both together are unique. This is based on the logic that two Tims cannot withdraw money at the exact same second. In the real world, each account would be assigned a unique ID.**\n",
    "\n",
    "**The `Accounts` class creates the account and adds it to the `accounts` table, then the class instance runs various transactions, which are stored in the `transactions` table.**\n",
    "\n",
    "**NOTE: You need to update the `Accounts` class `__init__` method to make sure that during class instance creation, it connects to the database and saves the information. You also need to update the `deposit()` and `withdraw()` methods to store transaction details in database.**"
   ]
  },
  {
   "cell_type": "code",
   "execution_count": 6,
   "id": "915d2106",
   "metadata": {},
   "outputs": [
    {
     "data": {
      "text/plain": [
       "<sqlite3.Cursor at 0x1b963b74960>"
      ]
     },
     "execution_count": 6,
     "metadata": {},
     "output_type": "execute_result"
    }
   ],
   "source": [
    "db = sqlite3.connect('accounts/personal_accounts.sqlite')\n",
    "\n",
    "db.execute(\"CREATE TABLE IF NOT EXISTS accounts (name TEXT PRIMARY KEY NOT NULL, balance INTEGER NOT NULL)\")\n",
    "db.execute(\"CREATE TABLE IF NOT EXISTS transactions (time TIMESTAMP NOT NULL, account TEXT NOT NULL, \"\n",
    "           \"amount INTEGER NOT NULL, PRIMARY KEY (time, account))\")"
   ]
  },
  {
   "cell_type": "code",
   "execution_count": 7,
   "id": "e184e993",
   "metadata": {},
   "outputs": [],
   "source": [
    "# UPDATE 'init' METHOD\n",
    "\n",
    "class Account(object):\n",
    "    \n",
    "    def __init__(self, name, opening_balance=0):\n",
    "        cursor = db.execute(\"SELECT name, balance FROM accounts WHERE (name=?)\", (name, ))\n",
    "        row = cursor.fetchone()\n",
    "        \n",
    "        if row:\n",
    "            # Retrieve existing account\n",
    "            self.name, self._balance = row\n",
    "            print(f\"Retrieved account details for {self.name}\")\n",
    "        else:\n",
    "            # Create new account\n",
    "            self.name = name\n",
    "            self._balance = opening_balance\n",
    "            cursor.execute(\"INSERT INTO accounts VALUES(?, ?)\", (name, opening_balance))\n",
    "            cursor.connection.commit()\n",
    "            print(f\"Account created for {self.name}\")\n",
    "            \n",
    "        self.show_balance()\n",
    "    \n",
    "    def deposit(self, amount):\n",
    "        if amount > 0.0:\n",
    "            self._balance += amount\n",
    "            print(\"£{:.2f} deposited\".format(amount / 100))\n",
    "            \n",
    "        return self._balance / 100\n",
    "    \n",
    "    def withdraw(self, amount):\n",
    "        if 0.0 < amount <= self._balance:\n",
    "            self._balance -= amount\n",
    "            print(\"£{:.2f} withdrawn\".format(amount / 100))\n",
    "            return amount / 100\n",
    "        else:\n",
    "            print(f\"Not enough funds to withdraw £{amount}\")\n",
    "            return 0.0\n",
    "    \n",
    "    def show_balance(self):\n",
    "        print(\"Balance on account is £{:.2f}\".format(self._balance / 100))\n"
   ]
  },
  {
   "cell_type": "code",
   "execution_count": 8,
   "id": "db5d3de0",
   "metadata": {},
   "outputs": [
    {
     "name": "stdout",
     "output_type": "stream",
     "text": [
      "Account created for John\n",
      "Balance on account is £1000.00\n",
      "Account created for Terry\n",
      "Balance on account is £0.00\n",
      "Account created for Graham\n",
      "Balance on account is £10.00\n",
      "Account created for Sally\n",
      "Balance on account is £7.00\n"
     ]
    }
   ],
   "source": [
    "# Add accounts to database\n",
    "\n",
    "john = Account('John', 100000)\n",
    "terryJ = Account('TerryJ')\n",
    "graham = Account('Graham', 1000)\n",
    "sally = Account('Sally', 700)\n",
    "terryG = Account('TerryG')"
   ]
  },
  {
   "cell_type": "code",
   "execution_count": 10,
   "id": "6773d94c",
   "metadata": {},
   "outputs": [
    {
     "name": "stdout",
     "output_type": "stream",
     "text": [
      "('John', 100000)\n",
      "('Terry', 0)\n",
      "('Graham', 1000)\n",
      "('Sally', 700)\n"
     ]
    }
   ],
   "source": [
    "for row in db.execute(\"SELECT * FROM accounts\"):\n",
    "    print(row)"
   ]
  },
  {
   "cell_type": "code",
   "execution_count": 11,
   "id": "69aca175",
   "metadata": {},
   "outputs": [],
   "source": [
    "db.close()"
   ]
  },
  {
   "cell_type": "code",
   "execution_count": 16,
   "id": "e59c9f44",
   "metadata": {},
   "outputs": [],
   "source": [
    "# UPDATE CLASS METHODS\n",
    "\n",
    "import datetime\n",
    "import pytz\n",
    "\n",
    "class Account(object):\n",
    "    \n",
    "    @staticmethod\n",
    "    def _current_time():\n",
    "        return pytz.utc.localize(datetime.datetime.utcnow())\n",
    "    \n",
    "    def __init__(self, name, opening_balance=0):\n",
    "        cursor = db.execute(\"SELECT name, balance FROM accounts WHERE (name=?)\", (name, ))\n",
    "        row = cursor.fetchone()\n",
    "        \n",
    "        if row:\n",
    "            self.name, self._balance = row\n",
    "            print(f\"\\tRetrieved account details for {self.name}\")\n",
    "        else:\n",
    "            self.name = name\n",
    "            self._balance = opening_balance\n",
    "            cursor.execute(\"INSERT INTO accounts VALUES(?, ?)\", (name, opening_balance))\n",
    "            cursor.connection.commit()\n",
    "            print(f\"\\tAccount created for {self.name}\")\n",
    "            \n",
    "        self.show_balance()\n",
    "    \n",
    "    # Update balance in amounts and add transaction to transactions\n",
    "    \n",
    "    def deposit(self, amount):\n",
    "        if amount > 0.0:\n",
    "            new_balance = self._balance + amount\n",
    "            deposit_time = Account._current_time()\n",
    "            db.execute(\"UPDATE accounts SET balance= ? WHERE (name=?)\", (new_balance, self.name))\n",
    "            db.execute(\"INSERT INTO transactions VALUES(?, ?, ?)\", (deposit_time, self.name, amount))\n",
    "            db.commit()\n",
    "            self._balance = new_balance\n",
    "            print(\"£{:.2f} deposited\".format(amount / 100))\n",
    "            \n",
    "        return self._balance / 100\n",
    "    \n",
    "    # Update balance in amounts and add transaction to transactions\n",
    "    \n",
    "    def withdraw(self, amount):\n",
    "        if 0.0 < amount <= self._balance:\n",
    "            new_balance = self._balance - amount\n",
    "            withdrawal_time = Account._current_time()\n",
    "            db.execute(\"UPDATE accounts SET balance = ? WHERE (name=?)\", (new_balance, self.name))\n",
    "            db.execute(\"INSERT INTO transactions VALUES(?, ?, ?)\", (withdrawal_time, self.name, -amount))\n",
    "            db.commit()\n",
    "            self._balance = new_balance\n",
    "            print(\"£{:.2f} withdrawn\".format(amount / 100))\n",
    "            return amount / 100\n",
    "        else:\n",
    "            print(f\"Not enough funds to withdraw £{amount}\")\n",
    "            return 0.0\n",
    "    \n",
    "    def show_balance(self):\n",
    "        print(\"Balance on account is £{:.2f}\".format(self._balance / 100))\n",
    "\n"
   ]
  },
  {
   "cell_type": "markdown",
   "id": "4fcbace9",
   "metadata": {},
   "source": [
    "**Retrieve each account (and add two new ones) and make some transactions:**"
   ]
  },
  {
   "cell_type": "code",
   "execution_count": 13,
   "id": "424176bb",
   "metadata": {},
   "outputs": [
    {
     "name": "stdout",
     "output_type": "stream",
     "text": [
      "('John', 100000)\n",
      "('Terry', 0)\n",
      "('Graham', 1000)\n",
      "('Sally', 700)\n"
     ]
    }
   ],
   "source": [
    "db = sqlite3.connect('accounts/personal_accounts.sqlite')\n",
    "\n",
    "# Check accounts are there\n",
    "for row in db.execute(\"SELECT * FROM accounts\"):\n",
    "    print(row)"
   ]
  },
  {
   "cell_type": "code",
   "execution_count": 17,
   "id": "4a125d75",
   "metadata": {},
   "outputs": [
    {
     "name": "stdout",
     "output_type": "stream",
     "text": [
      "\tRetrieved account details for John\n",
      "Balance on account is £1010.02\n",
      "£20.02 deposited\n",
      "£10.10 withdrawn\n",
      "Balance on account is £1019.94\n",
      "********************************************************************************\n",
      "\tRetrieved account details for Terry\n",
      "Balance on account is £0.03\n",
      "£0.01 deposited\n",
      "£0.01 deposited\n",
      "£0.01 deposited\n",
      "Balance on account is £0.06\n",
      "********************************************************************************\n",
      "\tRetrieved account details for TerryJ\n",
      "Balance on account is £2.06\n",
      "£1.00 deposited\n",
      "£0.05 deposited\n",
      "Balance on account is £3.10\n",
      "********************************************************************************\n",
      "\tRetrieved account details for Graham\n",
      "Balance on account is £8.00\n",
      "£1.00 withdrawn\n",
      "Balance on account is £7.00\n",
      "********************************************************************************\n",
      "\tRetrieved account details for Sally\n",
      "Balance on account is £27.00\n",
      "£10.00 deposited\n",
      "Balance on account is £37.00\n",
      "********************************************************************************\n",
      "\tRetrieved account details for TerryG\n",
      "Balance on account is £40.40\n",
      "£40.00 deposited\n",
      "£50.00 withdrawn\n",
      "Balance on account is £30.40\n",
      "********************************************************************************\n"
     ]
    }
   ],
   "source": [
    "john = Account('John')\n",
    "john.deposit(2002)\n",
    "john.withdraw(1010)\n",
    "john.show_balance()\n",
    "\n",
    "print('*' * 80)\n",
    "\n",
    "terry = Account('Terry')\n",
    "terry.deposit(1)\n",
    "terry.deposit(1)\n",
    "terry.deposit(1)\n",
    "terry.show_balance()\n",
    "\n",
    "print('*' * 80)\n",
    "\n",
    "# New account\n",
    "terryJ = Account('TerryJ')\n",
    "terryJ.deposit(100)\n",
    "terryJ.deposit(5)\n",
    "terryJ.show_balance()\n",
    "\n",
    "print('*' * 80)\n",
    "\n",
    "graham = Account('Graham')\n",
    "graham.withdraw(100)\n",
    "graham.show_balance()\n",
    "\n",
    "print('*' * 80)\n",
    "\n",
    "sally = Account('Sally')\n",
    "sally.deposit(1000)\n",
    "sally.show_balance()\n",
    "\n",
    "print('*' * 80)\n",
    "\n",
    "# New account\n",
    "terryG = Account('TerryG')\n",
    "terryG.deposit(4000)\n",
    "terryG.withdraw(5000)\n",
    "terryG.show_balance()\n",
    "\n",
    "print('*' * 80)"
   ]
  },
  {
   "cell_type": "code",
   "execution_count": 18,
   "id": "74d14631",
   "metadata": {},
   "outputs": [
    {
     "name": "stdout",
     "output_type": "stream",
     "text": [
      "('2024-03-10 09:03:06.513662+00:00', 'John', 20.02)\n",
      "('2024-03-10 09:03:06.520644+00:00', 'John', -10.1)\n",
      "('2024-03-10 09:03:06.525631+00:00', 'Terry', 0.1)\n",
      "('2024-03-10 09:03:06.531613+00:00', 'Terry', 0.1)\n",
      "('2024-03-10 09:03:06.538595+00:00', 'Terry', 0.1)\n",
      "('2024-03-10 09:03:06.549566+00:00', 'TerryJ', 100)\n",
      "('2024-03-10 09:03:06.554552+00:00', 'TerryJ', 0.5)\n",
      "('2024-03-10 09:03:06.560541+00:00', 'Graham', -100)\n",
      "('2024-03-10 09:03:06.565524+00:00', 'Sally', 1000)\n",
      "('2024-03-10 09:03:06.576495+00:00', 'TerryG', 40)\n",
      "('2024-03-10 09:08:04.912219+00:00', 'John', 2002)\n",
      "('2024-03-10 09:08:04.920574+00:00', 'John', -1010)\n",
      "('2024-03-10 09:08:04.927349+00:00', 'Terry', 1)\n",
      "('2024-03-10 09:08:04.933891+00:00', 'Terry', 1)\n",
      "('2024-03-10 09:08:04.941149+00:00', 'Terry', 1)\n",
      "('2024-03-10 09:08:04.947628+00:00', 'TerryJ', 100)\n",
      "('2024-03-10 09:08:04.954618+00:00', 'TerryJ', 5)\n",
      "('2024-03-10 09:08:04.960940+00:00', 'Graham', -100)\n",
      "('2024-03-10 09:08:04.967625+00:00', 'Sally', 1000)\n",
      "('2024-03-10 09:08:04.974488+00:00', 'TerryG', 4000)\n",
      "('2024-03-10 09:08:17.918232+00:00', 'John', 2002)\n",
      "('2024-03-10 09:08:17.930299+00:00', 'John', -1010)\n",
      "('2024-03-10 09:08:17.938453+00:00', 'Terry', 1)\n",
      "('2024-03-10 09:08:17.945559+00:00', 'Terry', 1)\n",
      "('2024-03-10 09:08:17.952676+00:00', 'Terry', 1)\n",
      "('2024-03-10 09:08:17.959849+00:00', 'TerryJ', 100)\n",
      "('2024-03-10 09:08:17.967695+00:00', 'TerryJ', 5)\n",
      "('2024-03-10 09:08:17.975260+00:00', 'Graham', -100)\n",
      "('2024-03-10 09:08:17.982890+00:00', 'Sally', 1000)\n",
      "('2024-03-10 09:08:17.991390+00:00', 'TerryG', 4000)\n",
      "('2024-03-10 09:08:17.999982+00:00', 'TerryG', -5000)\n"
     ]
    }
   ],
   "source": [
    "for row in db.execute(\"SELECT * FROM transactions\"):\n",
    "    print(row)"
   ]
  },
  {
   "cell_type": "code",
   "execution_count": 19,
   "id": "f314dddc",
   "metadata": {},
   "outputs": [
    {
     "name": "stdout",
     "output_type": "stream",
     "text": [
      "('John', 101993.92)\n",
      "('Terry', 6.3)\n",
      "('Graham', 700)\n",
      "('Sally', 3700)\n",
      "('TerryJ', 310.5)\n",
      "('TerryG', 3040)\n"
     ]
    }
   ],
   "source": [
    "for row in db.execute(\"SELECT * FROM accounts\"):\n",
    "    print(row)"
   ]
  },
  {
   "cell_type": "code",
   "execution_count": 20,
   "id": "aeec4b2f",
   "metadata": {},
   "outputs": [],
   "source": [
    "db.close()"
   ]
  },
  {
   "cell_type": "markdown",
   "id": "17bbf88e",
   "metadata": {},
   "source": [
    "**There is identical code in both the `deposit()` and `withdraw()` method:**\n",
    "\n",
    "    new_balance = self._balance + amount\n",
    "    deposit_time = Account._current_time()\n",
    "    db.execute(\"UPDATE accounts SET balance= ? WHERE (name=?)\", (new_balance, self.name))\n",
    "    db.execute(\"INSERT INTO transactions VALUES(?, ?, ?)\", (deposit_time, self.name, amount))\n",
    "    db.commit()\n",
    "    self._balance = new_balance\n",
    "    \n",
    "**This common code can be put in its own function, to be called by both transaction methods:**\n",
    "\n",
    "    def _save_update(self, amount):\n",
    "        new_balance = self._balance + amount\n",
    "        deposit_time = Account._current_time()\n",
    "        db.execute(\"UPDATE accounts SET balance= ? WHERE (name=?)\", (new_balance, self.name))\n",
    "        db.execute(\"INSERT INTO transactions VALUES(?, ?, ?)\", (deposit_time, self.name, amount))\n",
    "        db.commit()\n",
    "        self._balance = new_balance\n",
    "\n",
    "**The `_save_update()` method can be called to store any transaction in the database table (leading underscore in the method name to show that it should not be used outside of the `Accounts` class).**\n",
    "\n",
    "**Basically, you now have a database with some accounts and some transactions data, where one of the primary keys is a datetime type.**\n",
    "\n",
    "## Dealing with datatypes\n",
    "\n",
    "**The `transactions` table is essentially a 'history' of the movements of an account, with the UTC timestamp as the unique feature. You may ask why not just select the last transaction on the account in the table and delete it, but you cannnot find the latest date and time value for an account if the datetime values are stored as strings.**"
   ]
  },
  {
   "cell_type": "code",
   "execution_count": 3,
   "id": "5ebc9d79",
   "metadata": {},
   "outputs": [],
   "source": [
    "class Account(object):\n",
    "    \n",
    "    @staticmethod\n",
    "    def _current_time():\n",
    "        return pytz.utc.localize(datetime.datetime.utcnow())\n",
    "    \n",
    "    def __init__(self, name, opening_balance=0):\n",
    "        cursor = db.execute(\"SELECT name, balance FROM accounts WHERE (name=?)\", (name, ))\n",
    "        row = cursor.fetchone()\n",
    "        \n",
    "        if row:\n",
    "            self.name, self._balance = row\n",
    "            print(f\"\\tRetrieved account details for {self.name}\")\n",
    "        else:\n",
    "            self.name = name\n",
    "            self._balance = opening_balance\n",
    "            cursor.execute(\"INSERT INTO accounts VALUES(?, ?)\", (name, opening_balance))\n",
    "            cursor.connection.commit()\n",
    "            print(f\"\\tAccount created for {self.name}\")\n",
    "            \n",
    "        self.show_balance()\n",
    "    \n",
    "    def _save_update(self, amount):\n",
    "        new_balance = self._balance + amount\n",
    "        deposit_time = Account._current_time()\n",
    "        db.execute(\"UPDATE accounts SET balance= ? WHERE (name=?)\", (new_balance, self.name))\n",
    "        db.execute(\"INSERT INTO transactions VALUES(?, ?, ?)\", (deposit_time, self.name, amount))\n",
    "        db.commit()\n",
    "        self._balance = new_balance\n",
    "    \n",
    "    def deposit(self, amount):\n",
    "        if amount > 0.0:\n",
    "            # Call new update method to store data in database\n",
    "            self._save_update(amount)\n",
    "            print(\"£{:.2f} deposited\".format(amount / 100))\n",
    "            \n",
    "        return self._balance / 100\n",
    "    \n",
    "    def withdraw(self, amount):\n",
    "        if 0.0 < amount <= self._balance:\n",
    "            # Call new update method to store data in database\n",
    "            self._save_update(-amount)\n",
    "            print(\"£{:.2f} withdrawn\".format(amount / 100))\n",
    "            return amount / 100\n",
    "        else:\n",
    "            print(f\"Not enough funds to withdraw £{amount}\")\n",
    "            return 0.0\n",
    "    \n",
    "    def show_balance(self):\n",
    "        print(\"Balance on account is £{:.2f}\".format(self._balance / 100))\n",
    "\n"
   ]
  },
  {
   "cell_type": "code",
   "execution_count": 4,
   "id": "3d656198",
   "metadata": {},
   "outputs": [
    {
     "name": "stdout",
     "output_type": "stream",
     "text": [
      "('2024-03-10 09:03:06.560541+00:00', 'Graham', -100)\n",
      "('2024-03-10 09:08:04.960940+00:00', 'Graham', -100)\n",
      "('2024-03-10 09:08:17.975260+00:00', 'Graham', -100)\n"
     ]
    }
   ],
   "source": [
    "# Unique feature of a transaction is the timestamp\n",
    "\n",
    "db = sqlite3.connect('accounts/personal_accounts.sqlite')\n",
    "\n",
    "for row in db.execute(\"SELECT * FROM transactions WHERE account='Graham'\"):\n",
    "    print(row)"
   ]
  },
  {
   "cell_type": "code",
   "execution_count": 5,
   "id": "803589ff",
   "metadata": {},
   "outputs": [
    {
     "name": "stdout",
     "output_type": "stream",
     "text": [
      "2024-03-10 09:03:06.560541+00:00\t<class 'str'>\n",
      "2024-03-10 09:08:04.960940+00:00\t<class 'str'>\n",
      "2024-03-10 09:08:17.975260+00:00\t<class 'str'>\n"
     ]
    }
   ],
   "source": [
    "for row in db.execute(\"SELECT * FROM transactions WHERE account='Graham'\"):\n",
    "    local_time = row[0]\n",
    "    print(f\"{local_time}\\t{type(local_time)}\")"
   ]
  },
  {
   "cell_type": "code",
   "execution_count": 6,
   "id": "386c8701",
   "metadata": {},
   "outputs": [],
   "source": [
    "db.close()"
   ]
  },
  {
   "cell_type": "markdown",
   "id": "ab849472",
   "metadata": {},
   "source": [
    "**Note that the timestamp is retrieved as a string, which is not what you want. You could convert the values with Python `datetime` module, or you can get SQLite to 'respond' to the string values as registered timestamp datatype, by passing `PARSE_DECLTYPES` when connecting to the database.**\n",
    "\n",
    "**NOTE: It does not handle *timezone-aware* date objects, i.e. you won't get an offset value between local time and UTC time. If this is essential to your work, there are other libraries that can handle timezone-aware dates, like python dateutil or Arrow.**"
   ]
  },
  {
   "cell_type": "code",
   "execution_count": 7,
   "id": "c97edbba",
   "metadata": {},
   "outputs": [],
   "source": [
    "import datetime\n",
    "import pytz\n",
    "\n",
    "db = sqlite3.connect('accounts/personal_accounts.sqlite', detect_types=sqlite3.PARSE_DECLTYPES)"
   ]
  },
  {
   "cell_type": "code",
   "execution_count": 8,
   "id": "9137ff95",
   "metadata": {},
   "outputs": [
    {
     "name": "stdout",
     "output_type": "stream",
     "text": [
      "(datetime.datetime(2024, 3, 10, 9, 3, 6, 560541), 'Graham', -100)\n",
      "(datetime.datetime(2024, 3, 10, 9, 8, 4, 960940), 'Graham', -100)\n",
      "(datetime.datetime(2024, 3, 10, 9, 8, 17, 975260), 'Graham', -100)\n"
     ]
    }
   ],
   "source": [
    "for row in db.execute(\"SELECT * FROM transactions WHERE account='Graham'\"):\n",
    "    print(row)"
   ]
  },
  {
   "cell_type": "code",
   "execution_count": 9,
   "id": "0da7494f",
   "metadata": {},
   "outputs": [
    {
     "name": "stdout",
     "output_type": "stream",
     "text": [
      "2024-03-10 09:03:06.560541\t<class 'datetime.datetime'>\n",
      "2024-03-10 09:08:04.960940\t<class 'datetime.datetime'>\n",
      "2024-03-10 09:08:17.975260\t<class 'datetime.datetime'>\n"
     ]
    }
   ],
   "source": [
    "for row in db.execute(\"SELECT * FROM transactions WHERE account='Graham'\"):\n",
    "    local_time = row[0]\n",
    "    print(f\"{local_time}\\t{type(local_time)}\")"
   ]
  },
  {
   "cell_type": "markdown",
   "id": "4a80ba99",
   "metadata": {},
   "source": [
    "## Dealing with timezones\n",
    "\n",
    "**There are two different ways to display local times:**\n",
    "\n",
    " - **Convert UTC time to local time using `pytz` and `datetime` modules**\n",
    " - **Convert UTC time to local time using SQLite datetime `strftime()` function. This has the advantage of working no matter what is used to access the database.**"
   ]
  },
  {
   "cell_type": "code",
   "execution_count": 10,
   "id": "60ec5354",
   "metadata": {},
   "outputs": [
    {
     "name": "stdout",
     "output_type": "stream",
     "text": [
      "2024-03-10 09:03:06.560541+00:00\t<class 'datetime.datetime'>\n",
      "2024-03-10 09:08:04.960940+00:00\t<class 'datetime.datetime'>\n",
      "2024-03-10 09:08:17.975260+00:00\t<class 'datetime.datetime'>\n"
     ]
    }
   ],
   "source": [
    "# Offset now on display\n",
    "\n",
    "for row in db.execute(\"SELECT * FROM transactions WHERE account='Graham'\"):\n",
    "    utc_time = row[0]\n",
    "    local_time = pytz.utc.localize(utc_time).astimezone()\n",
    "    print(f\"{local_time}\\t{type(local_time)}\")"
   ]
  },
  {
   "cell_type": "code",
   "execution_count": 11,
   "id": "a6e150ac",
   "metadata": {},
   "outputs": [
    {
     "name": "stdout",
     "output_type": "stream",
     "text": [
      "('2024-03-10 09:03:06.514', 'John', 20.02)\n",
      "('2024-03-10 09:03:06.521', 'John', -10.1)\n",
      "('2024-03-10 09:03:06.526', 'Terry', 0.1)\n",
      "('2024-03-10 09:03:06.532', 'Terry', 0.1)\n",
      "('2024-03-10 09:03:06.539', 'Terry', 0.1)\n",
      "('2024-03-10 09:03:06.550', 'TerryJ', 100)\n",
      "('2024-03-10 09:03:06.555', 'TerryJ', 0.5)\n",
      "('2024-03-10 09:03:06.561', 'Graham', -100)\n",
      "('2024-03-10 09:03:06.566', 'Sally', 1000)\n",
      "('2024-03-10 09:03:06.576', 'TerryG', 40)\n",
      "('2024-03-10 09:08:04.912', 'John', 2002)\n",
      "('2024-03-10 09:08:04.921', 'John', -1010)\n",
      "('2024-03-10 09:08:04.927', 'Terry', 1)\n",
      "('2024-03-10 09:08:04.934', 'Terry', 1)\n",
      "('2024-03-10 09:08:04.941', 'Terry', 1)\n",
      "('2024-03-10 09:08:04.948', 'TerryJ', 100)\n",
      "('2024-03-10 09:08:04.955', 'TerryJ', 5)\n",
      "('2024-03-10 09:08:04.961', 'Graham', -100)\n",
      "('2024-03-10 09:08:04.968', 'Sally', 1000)\n",
      "('2024-03-10 09:08:04.974', 'TerryG', 4000)\n",
      "('2024-03-10 09:08:17.918', 'John', 2002)\n",
      "('2024-03-10 09:08:17.930', 'John', -1010)\n",
      "('2024-03-10 09:08:17.938', 'Terry', 1)\n",
      "('2024-03-10 09:08:17.946', 'Terry', 1)\n",
      "('2024-03-10 09:08:17.953', 'Terry', 1)\n",
      "('2024-03-10 09:08:17.960', 'TerryJ', 100)\n",
      "('2024-03-10 09:08:17.968', 'TerryJ', 5)\n",
      "('2024-03-10 09:08:17.975', 'Graham', -100)\n",
      "('2024-03-10 09:08:17.983', 'Sally', 1000)\n",
      "('2024-03-10 09:08:17.991', 'TerryG', 4000)\n",
      "('2024-03-10 09:08:18.000', 'TerryG', -5000)\n"
     ]
    }
   ],
   "source": [
    "# Local times using SQLite\n",
    "\n",
    "for row in db.execute(\"SELECT strftime('%Y-%m-%d %H:%M:%f', transactions.time, 'localtime') AS localtime, transactions.account, \"\n",
    "                      \"transactions.amount FROM transactions ORDER BY transactions.time\"):\n",
    "    print(row)"
   ]
  },
  {
   "cell_type": "markdown",
   "id": "efd7d484",
   "metadata": {},
   "source": [
    "**The SQLite `strftime()` function converts the time field into a string, with the format specified for the date and time, the column containing the time values, and the modifier 'localtime', which converts UTC time to localtime.**\n",
    "\n",
    "**Note that the time function truncates the number of milliseconds to three decimal points, because you used `'%f'` format.**\n",
    "\n",
    "**You can create a 'view' of the transactions with the converted time field:**"
   ]
  },
  {
   "cell_type": "code",
   "execution_count": 12,
   "id": "1db1c074",
   "metadata": {},
   "outputs": [
    {
     "data": {
      "text/plain": [
       "<sqlite3.Cursor at 0x22c4fd181f0>"
      ]
     },
     "execution_count": 12,
     "metadata": {},
     "output_type": "execute_result"
    }
   ],
   "source": [
    "db.execute(\"CREATE VIEW IF NOT EXISTS history AS SELECT strftime('%Y-%m-%d %H:%M:%f', transactions.time, 'localtime') AS localtime,\"\n",
    "          \" transactions.account, transactions.amount FROM transactions ORDER BY transactions.time\")"
   ]
  },
  {
   "cell_type": "code",
   "execution_count": 13,
   "id": "29856acf",
   "metadata": {},
   "outputs": [
    {
     "name": "stdout",
     "output_type": "stream",
     "text": [
      "('2024-03-10 09:03:06.514', 'John', 20.02)\n",
      "('2024-03-10 09:03:06.521', 'John', -10.1)\n",
      "('2024-03-10 09:03:06.526', 'Terry', 0.1)\n",
      "('2024-03-10 09:03:06.532', 'Terry', 0.1)\n",
      "('2024-03-10 09:03:06.539', 'Terry', 0.1)\n",
      "('2024-03-10 09:03:06.550', 'TerryJ', 100)\n",
      "('2024-03-10 09:03:06.555', 'TerryJ', 0.5)\n",
      "('2024-03-10 09:03:06.561', 'Graham', -100)\n",
      "('2024-03-10 09:03:06.566', 'Sally', 1000)\n",
      "('2024-03-10 09:03:06.576', 'TerryG', 40)\n",
      "('2024-03-10 09:08:04.912', 'John', 2002)\n",
      "('2024-03-10 09:08:04.921', 'John', -1010)\n",
      "('2024-03-10 09:08:04.927', 'Terry', 1)\n",
      "('2024-03-10 09:08:04.934', 'Terry', 1)\n",
      "('2024-03-10 09:08:04.941', 'Terry', 1)\n",
      "('2024-03-10 09:08:04.948', 'TerryJ', 100)\n",
      "('2024-03-10 09:08:04.955', 'TerryJ', 5)\n",
      "('2024-03-10 09:08:04.961', 'Graham', -100)\n",
      "('2024-03-10 09:08:04.968', 'Sally', 1000)\n",
      "('2024-03-10 09:08:04.974', 'TerryG', 4000)\n",
      "('2024-03-10 09:08:17.918', 'John', 2002)\n",
      "('2024-03-10 09:08:17.930', 'John', -1010)\n",
      "('2024-03-10 09:08:17.938', 'Terry', 1)\n",
      "('2024-03-10 09:08:17.946', 'Terry', 1)\n",
      "('2024-03-10 09:08:17.953', 'Terry', 1)\n",
      "('2024-03-10 09:08:17.960', 'TerryJ', 100)\n",
      "('2024-03-10 09:08:17.968', 'TerryJ', 5)\n",
      "('2024-03-10 09:08:17.975', 'Graham', -100)\n",
      "('2024-03-10 09:08:17.983', 'Sally', 1000)\n",
      "('2024-03-10 09:08:17.991', 'TerryG', 4000)\n",
      "('2024-03-10 09:08:18.000', 'TerryG', -5000)\n"
     ]
    }
   ],
   "source": [
    "for row in db.execute(\"SELECT * FROM history\"):\n",
    "    print(row)"
   ]
  },
  {
   "cell_type": "code",
   "execution_count": 14,
   "id": "9d6b0123",
   "metadata": {},
   "outputs": [],
   "source": [
    "db.close()"
   ]
  },
  {
   "cell_type": "markdown",
   "id": "0d81953a",
   "metadata": {},
   "source": [
    "**In the `Account` class, the transaction times are stored as UTC date and time, but you can store the local times also. It is best to add an extra column to the transaction table, for timezones or offset values or the local times (as strings).**"
   ]
  },
  {
   "cell_type": "code",
   "execution_count": 15,
   "id": "72003d9c",
   "metadata": {},
   "outputs": [
    {
     "data": {
      "text/plain": [
       "<sqlite3.Cursor at 0x22c4fd18730>"
      ]
     },
     "execution_count": 15,
     "metadata": {},
     "output_type": "execute_result"
    }
   ],
   "source": [
    "db = sqlite3.connect('accounts/accounts_timezone.sqlite', detect_types=sqlite3.PARSE_DECLTYPES)\n",
    "\n",
    "db.execute(\"CREATE TABLE IF NOT EXISTS accounts (name TEXT PRIMARY KEY NOT NULL, balance INTEGER NOT NULL)\")\n",
    "db.execute(\"CREATE TABLE IF NOT EXISTS transactions (time TIMESTAMP NOT NULL, timezone INTEGER NOT NULL, \"\n",
    "           \"account TEXT NOT NULL, amount INTEGER NOT NULL, PRIMARY KEY (time, account))\")"
   ]
  },
  {
   "cell_type": "code",
   "execution_count": 16,
   "id": "2eb7e769",
   "metadata": {},
   "outputs": [],
   "source": [
    "import pickle\n",
    "\n",
    "# _current_time() and _save_update() methods updated\n",
    "class Account(object):\n",
    "    \n",
    "    @staticmethod\n",
    "    def _current_time():\n",
    "        utc_time = pytz.utc.localize(datetime.datetime.utcnow())\n",
    "        local_time = utc_time.astimezone()\n",
    "        timezone = local_time.tzinfo\n",
    "        return utc_time, timezone\n",
    "    \n",
    "    def __init__(self, name, opening_balance=0):\n",
    "        cursor = db.execute(\"SELECT name, balance FROM accounts WHERE (name=?)\", (name, ))\n",
    "        row = cursor.fetchone()\n",
    "        \n",
    "        if row:\n",
    "            self.name, self._balance = row\n",
    "            print(f\"\\tRetrieved account details for {self.name}\")\n",
    "        else:\n",
    "            self.name = name\n",
    "            self._balance = opening_balance\n",
    "            cursor.execute(\"INSERT INTO accounts VALUES(?, ?)\", (name, opening_balance))\n",
    "            cursor.connection.commit()\n",
    "            print(f\"\\tAccount created for {self.name}\")\n",
    "            \n",
    "        self.show_balance()\n",
    "    \n",
    "    def _save_update(self, amount):\n",
    "        new_balance = self._balance + amount\n",
    "        deposit_time, deposit_zone = Account._current_time()\n",
    "        # Pickle the timezone\n",
    "        pickle_timezone = pickle.dumps(deposit_zone)\n",
    "        db.execute(\"UPDATE accounts SET balance= ? WHERE (name=?)\", (new_balance, self.name))\n",
    "        db.execute(\"INSERT INTO transactions VALUES(?, ?, ?, ?)\", (deposit_time, pickle_timezone, self.name, amount))\n",
    "        db.commit()\n",
    "        self._balance = new_balance\n",
    "    \n",
    "    def deposit(self, amount):\n",
    "        if amount > 0.0:\n",
    "            self._save_update(amount)\n",
    "            print(\"£{:.2f} deposited\".format(amount / 100))\n",
    "            \n",
    "        return self._balance / 100\n",
    "    \n",
    "    def withdraw(self, amount):\n",
    "        if 0.0 < amount <= self._balance:\n",
    "            self._save_update(-amount)\n",
    "            print(\"£{:.2f} withdrawn\".format(amount / 100))\n",
    "            return amount / 100\n",
    "        else:\n",
    "            print(f\"Not enough funds to withdraw £{amount}\")\n",
    "            return 0.0\n",
    "    \n",
    "    def show_balance(self):\n",
    "        print(\"Balance on account is £{:.2f}\".format(self._balance / 100))\n"
   ]
  },
  {
   "cell_type": "code",
   "execution_count": 17,
   "id": "17b76896",
   "metadata": {},
   "outputs": [
    {
     "name": "stdout",
     "output_type": "stream",
     "text": [
      "\tAccount created for John\n",
      "Balance on account is £0.00\n",
      "£20.02 deposited\n",
      "£10.10 withdrawn\n",
      "Balance on account is £9.92\n",
      "********************************************************************************\n",
      "\tAccount created for Terry\n",
      "Balance on account is £0.00\n",
      "£0.01 deposited\n",
      "£0.01 deposited\n",
      "£0.01 deposited\n",
      "Balance on account is £0.03\n",
      "********************************************************************************\n",
      "\tAccount created for TerryJ\n",
      "Balance on account is £0.00\n",
      "£1.00 deposited\n",
      "£0.05 deposited\n",
      "Balance on account is £1.05\n",
      "********************************************************************************\n",
      "\tAccount created for Graham\n",
      "Balance on account is £0.00\n",
      "Not enough funds to withdraw £100\n",
      "Balance on account is £0.00\n",
      "********************************************************************************\n",
      "\tAccount created for Sally\n",
      "Balance on account is £0.00\n",
      "£10.00 deposited\n",
      "Balance on account is £10.00\n",
      "********************************************************************************\n",
      "\tAccount created for TerryG\n",
      "Balance on account is £0.00\n",
      "£40.00 deposited\n",
      "Not enough funds to withdraw £5000\n",
      "Balance on account is £40.00\n",
      "********************************************************************************\n"
     ]
    }
   ],
   "source": [
    "john = Account('John')\n",
    "john.deposit(2002)\n",
    "john.withdraw(1010)\n",
    "john.show_balance()\n",
    "\n",
    "print('*' * 80)\n",
    "\n",
    "terry = Account('Terry')\n",
    "terry.deposit(1)\n",
    "terry.deposit(1)\n",
    "terry.deposit(1)\n",
    "terry.show_balance()\n",
    "\n",
    "print('*' * 80)\n",
    "\n",
    "# New account\n",
    "terryJ = Account('TerryJ')\n",
    "terryJ.deposit(100)\n",
    "terryJ.deposit(5)\n",
    "terryJ.show_balance()\n",
    "\n",
    "print('*' * 80)\n",
    "\n",
    "graham = Account('Graham')\n",
    "graham.withdraw(100)\n",
    "graham.show_balance()\n",
    "\n",
    "print('*' * 80)\n",
    "\n",
    "sally = Account('Sally')\n",
    "sally.deposit(1000)\n",
    "sally.show_balance()\n",
    "\n",
    "print('*' * 80)\n",
    "\n",
    "# New account\n",
    "terryG = Account('TerryG')\n",
    "terryG.deposit(4000)\n",
    "terryG.withdraw(5000)\n",
    "terryG.show_balance()\n",
    "\n",
    "print('*' * 80)"
   ]
  },
  {
   "cell_type": "code",
   "execution_count": 18,
   "id": "fa915397",
   "metadata": {},
   "outputs": [
    {
     "name": "stdout",
     "output_type": "stream",
     "text": [
      "(datetime.datetime(2024, 3, 12, 7, 30, 24, 255212), b'\\x80\\x04\\x95K\\x00\\x00\\x00\\x00\\x00\\x00\\x00\\x8c\\x08datetime\\x94\\x8c\\x08timezone\\x94\\x93\\x94h\\x00\\x8c\\ttimedelta\\x94\\x93\\x94K\\x00K\\x00K\\x00\\x87\\x94R\\x94\\x8c\\x11GMT Standard Time\\x94\\x86\\x94R\\x94.', 'John', 2002)\n",
      "(datetime.datetime(2024, 3, 12, 7, 30, 24, 266068), b'\\x80\\x04\\x95K\\x00\\x00\\x00\\x00\\x00\\x00\\x00\\x8c\\x08datetime\\x94\\x8c\\x08timezone\\x94\\x93\\x94h\\x00\\x8c\\ttimedelta\\x94\\x93\\x94K\\x00K\\x00K\\x00\\x87\\x94R\\x94\\x8c\\x11GMT Standard Time\\x94\\x86\\x94R\\x94.', 'John', -1010)\n",
      "(datetime.datetime(2024, 3, 12, 7, 30, 24, 282683), b'\\x80\\x04\\x95K\\x00\\x00\\x00\\x00\\x00\\x00\\x00\\x8c\\x08datetime\\x94\\x8c\\x08timezone\\x94\\x93\\x94h\\x00\\x8c\\ttimedelta\\x94\\x93\\x94K\\x00K\\x00K\\x00\\x87\\x94R\\x94\\x8c\\x11GMT Standard Time\\x94\\x86\\x94R\\x94.', 'Terry', 1)\n",
      "(datetime.datetime(2024, 3, 12, 7, 30, 24, 289644), b'\\x80\\x04\\x95K\\x00\\x00\\x00\\x00\\x00\\x00\\x00\\x8c\\x08datetime\\x94\\x8c\\x08timezone\\x94\\x93\\x94h\\x00\\x8c\\ttimedelta\\x94\\x93\\x94K\\x00K\\x00K\\x00\\x87\\x94R\\x94\\x8c\\x11GMT Standard Time\\x94\\x86\\x94R\\x94.', 'Terry', 1)\n",
      "(datetime.datetime(2024, 3, 12, 7, 30, 24, 297189), b'\\x80\\x04\\x95K\\x00\\x00\\x00\\x00\\x00\\x00\\x00\\x8c\\x08datetime\\x94\\x8c\\x08timezone\\x94\\x93\\x94h\\x00\\x8c\\ttimedelta\\x94\\x93\\x94K\\x00K\\x00K\\x00\\x87\\x94R\\x94\\x8c\\x11GMT Standard Time\\x94\\x86\\x94R\\x94.', 'Terry', 1)\n",
      "(datetime.datetime(2024, 3, 12, 7, 30, 24, 311585), b'\\x80\\x04\\x95K\\x00\\x00\\x00\\x00\\x00\\x00\\x00\\x8c\\x08datetime\\x94\\x8c\\x08timezone\\x94\\x93\\x94h\\x00\\x8c\\ttimedelta\\x94\\x93\\x94K\\x00K\\x00K\\x00\\x87\\x94R\\x94\\x8c\\x11GMT Standard Time\\x94\\x86\\x94R\\x94.', 'TerryJ', 100)\n",
      "(datetime.datetime(2024, 3, 12, 7, 30, 24, 317961), b'\\x80\\x04\\x95K\\x00\\x00\\x00\\x00\\x00\\x00\\x00\\x8c\\x08datetime\\x94\\x8c\\x08timezone\\x94\\x93\\x94h\\x00\\x8c\\ttimedelta\\x94\\x93\\x94K\\x00K\\x00K\\x00\\x87\\x94R\\x94\\x8c\\x11GMT Standard Time\\x94\\x86\\x94R\\x94.', 'TerryJ', 5)\n",
      "(datetime.datetime(2024, 3, 12, 7, 30, 24, 338252), b'\\x80\\x04\\x95K\\x00\\x00\\x00\\x00\\x00\\x00\\x00\\x8c\\x08datetime\\x94\\x8c\\x08timezone\\x94\\x93\\x94h\\x00\\x8c\\ttimedelta\\x94\\x93\\x94K\\x00K\\x00K\\x00\\x87\\x94R\\x94\\x8c\\x11GMT Standard Time\\x94\\x86\\x94R\\x94.', 'Sally', 1000)\n",
      "(datetime.datetime(2024, 3, 12, 7, 30, 24, 354807), b'\\x80\\x04\\x95K\\x00\\x00\\x00\\x00\\x00\\x00\\x00\\x8c\\x08datetime\\x94\\x8c\\x08timezone\\x94\\x93\\x94h\\x00\\x8c\\ttimedelta\\x94\\x93\\x94K\\x00K\\x00K\\x00\\x87\\x94R\\x94\\x8c\\x11GMT Standard Time\\x94\\x86\\x94R\\x94.', 'TerryG', 4000)\n"
     ]
    }
   ],
   "source": [
    "for row in db.execute(\"SELECT * FROM transactions\"):\n",
    "    print(row)"
   ]
  },
  {
   "cell_type": "markdown",
   "id": "83d2c332",
   "metadata": {},
   "source": [
    "**The timezone info object is a bytes literal that is really long... It looks weird and decoded, it does not reveal anything because it has been 'pickled'.**\n",
    "\n",
    "**You 'load' (opposite of dumping it) the pickled tzinfo object to then generate the local time (which in your case is the same time).**"
   ]
  },
  {
   "cell_type": "code",
   "execution_count": 35,
   "id": "a5545e43",
   "metadata": {},
   "outputs": [
    {
     "name": "stdout",
     "output_type": "stream",
     "text": [
      "UTC: 2024-03-12 07:30:24.255212\t\tLOCAL TIME: 2024-03-12 07:30:24.255212+00:00\tTIMEZONE: GMT Standard Time\n",
      "UTC: 2024-03-12 07:30:24.266068\t\tLOCAL TIME: 2024-03-12 07:30:24.266068+00:00\tTIMEZONE: GMT Standard Time\n",
      "UTC: 2024-03-12 07:30:24.282683\t\tLOCAL TIME: 2024-03-12 07:30:24.282683+00:00\tTIMEZONE: GMT Standard Time\n",
      "UTC: 2024-03-12 07:30:24.289644\t\tLOCAL TIME: 2024-03-12 07:30:24.289644+00:00\tTIMEZONE: GMT Standard Time\n",
      "UTC: 2024-03-12 07:30:24.297189\t\tLOCAL TIME: 2024-03-12 07:30:24.297189+00:00\tTIMEZONE: GMT Standard Time\n",
      "UTC: 2024-03-12 07:30:24.311585\t\tLOCAL TIME: 2024-03-12 07:30:24.311585+00:00\tTIMEZONE: GMT Standard Time\n",
      "UTC: 2024-03-12 07:30:24.317961\t\tLOCAL TIME: 2024-03-12 07:30:24.317961+00:00\tTIMEZONE: GMT Standard Time\n",
      "UTC: 2024-03-12 07:30:24.338252\t\tLOCAL TIME: 2024-03-12 07:30:24.338252+00:00\tTIMEZONE: GMT Standard Time\n",
      "UTC: 2024-03-12 07:30:24.354807\t\tLOCAL TIME: 2024-03-12 07:30:24.354807+00:00\tTIMEZONE: GMT Standard Time\n"
     ]
    }
   ],
   "source": [
    "for row in db.execute(\"SELECT * FROM transactions\"):\n",
    "    utc_time = row[0]\n",
    "    pickled_zone = row[1]\n",
    "    zone = pickle.loads(pickled_zone)\n",
    "    local_time = pytz.utc.localize(utc_time).astimezone(zone)\n",
    "    print(f\"UTC: {utc_time}\\t\\tLOCAL TIME: {local_time}\\tTIMEZONE: {local_time.tzinfo}\")"
   ]
  },
  {
   "cell_type": "code",
   "execution_count": 36,
   "id": "febac2ce",
   "metadata": {},
   "outputs": [],
   "source": [
    "db.close()"
   ]
  },
  {
   "cell_type": "code",
   "execution_count": null,
   "id": "40251133",
   "metadata": {},
   "outputs": [],
   "source": []
  }
 ],
 "metadata": {
  "kernelspec": {
   "display_name": "Python 3 (ipykernel)",
   "language": "python",
   "name": "python3"
  },
  "language_info": {
   "codemirror_mode": {
    "name": "ipython",
    "version": 3
   },
   "file_extension": ".py",
   "mimetype": "text/x-python",
   "name": "python",
   "nbconvert_exporter": "python",
   "pygments_lexer": "ipython3",
   "version": "3.9.17"
  }
 },
 "nbformat": 4,
 "nbformat_minor": 5
}
