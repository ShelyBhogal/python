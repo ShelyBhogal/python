{
 "cells": [
  {
   "cell_type": "markdown",
   "id": "42fe3416",
   "metadata": {},
   "source": [
    "# Creating SQLite Database\n",
    "\n",
    "**SQLite is easy to use in Python, simply by importing the `sqlite3` module and connecting to a database.**"
   ]
  },
  {
   "cell_type": "code",
   "execution_count": 1,
   "id": "b8481681",
   "metadata": {},
   "outputs": [],
   "source": [
    "import sqlite3"
   ]
  },
  {
   "cell_type": "code",
   "execution_count": 13,
   "id": "d771d496",
   "metadata": {},
   "outputs": [],
   "source": [
    "db = sqlite3.connect('contacts/contacts.sqlite')"
   ]
  },
  {
   "cell_type": "markdown",
   "id": "f5cb0226",
   "metadata": {},
   "source": [
    "**SQLite does not care what you call the database, as long as it is a valid filename, i.e. you don't need `.db` extension.**\n",
    "\n",
    "**In order to create a table and insert data, you need to pass each SQL statement in an `execute()` method, called off the database object - make sure to use double quotation marks to contain SQL statement. You do not use a semi-colon to terminate the SQL statements because Python automatically concatenates it for you.**\n",
    "\n",
    "**NOTE: After working on a database, you must close the connection at the end.**"
   ]
  },
  {
   "cell_type": "code",
   "execution_count": 14,
   "id": "08c14dbd",
   "metadata": {},
   "outputs": [
    {
     "ename": "OperationalError",
     "evalue": "database is locked",
     "output_type": "error",
     "traceback": [
      "\u001b[1;31m---------------------------------------------------------------------------\u001b[0m",
      "\u001b[1;31mOperationalError\u001b[0m                          Traceback (most recent call last)",
      "Cell \u001b[1;32mIn[14], line 3\u001b[0m\n\u001b[0;32m      1\u001b[0m db\u001b[38;5;241m.\u001b[39mexecute(\u001b[38;5;124m\"\u001b[39m\u001b[38;5;124mCREATE TABLE IF NOT EXISTS contacts (name TEXT NOT NULL, phone INTEGER, email TEXT)\u001b[39m\u001b[38;5;124m\"\u001b[39m)\n\u001b[1;32m----> 3\u001b[0m \u001b[43mdb\u001b[49m\u001b[38;5;241;43m.\u001b[39;49m\u001b[43mexecute\u001b[49m\u001b[43m(\u001b[49m\u001b[38;5;124;43m\"\u001b[39;49m\u001b[38;5;124;43mINSERT INTO contacts (name, phone, email) VALUES(\u001b[39;49m\u001b[38;5;124;43m'\u001b[39;49m\u001b[38;5;124;43mShely\u001b[39;49m\u001b[38;5;124;43m'\u001b[39;49m\u001b[38;5;124;43m, 1234567, \u001b[39;49m\u001b[38;5;124;43m'\u001b[39;49m\u001b[38;5;124;43mshely@email.com\u001b[39;49m\u001b[38;5;124;43m'\u001b[39;49m\u001b[38;5;124;43m)\u001b[39;49m\u001b[38;5;124;43m\"\u001b[39;49m\u001b[43m)\u001b[49m\n\u001b[0;32m      4\u001b[0m db\u001b[38;5;241m.\u001b[39mexecute(\u001b[38;5;124m\"\u001b[39m\u001b[38;5;124mINSERT INTO contacts (name, phone, email) VALUES(\u001b[39m\u001b[38;5;124m'\u001b[39m\u001b[38;5;124mRyan\u001b[39m\u001b[38;5;124m'\u001b[39m\u001b[38;5;124m, 2345678, \u001b[39m\u001b[38;5;124m'\u001b[39m\u001b[38;5;124mryan@email.com\u001b[39m\u001b[38;5;124m'\u001b[39m\u001b[38;5;124m)\u001b[39m\u001b[38;5;124m\"\u001b[39m)\n\u001b[0;32m      5\u001b[0m db\u001b[38;5;241m.\u001b[39mexecute(\u001b[38;5;124m\"\u001b[39m\u001b[38;5;124mINSERT INTO contacts (name, phone, email) VALUES(\u001b[39m\u001b[38;5;124m'\u001b[39m\u001b[38;5;124mBetty\u001b[39m\u001b[38;5;124m'\u001b[39m\u001b[38;5;124m, 3456789, \u001b[39m\u001b[38;5;124m'\u001b[39m\u001b[38;5;124mbetty@email.com\u001b[39m\u001b[38;5;124m'\u001b[39m\u001b[38;5;124m)\u001b[39m\u001b[38;5;124m\"\u001b[39m)\n",
      "\u001b[1;31mOperationalError\u001b[0m: database is locked"
     ]
    }
   ],
   "source": [
    "db.execute(\"CREATE TABLE IF NOT EXISTS contacts (name TEXT NOT NULL, phone INTEGER, email TEXT)\")\n",
    "\n",
    "db.execute(\"INSERT INTO contacts (name, phone, email) VALUES('Shely', 1234567, 'shely@email.com')\")\n",
    "db.execute(\"INSERT INTO contacts (name, phone, email) VALUES('Ryan', 2345678, 'ryan@email.com')\")\n",
    "db.execute(\"INSERT INTO contacts (name, phone, email) VALUES('Betty', 3456789, 'betty@email.com')\")\n",
    "db.execute(\"INSERT INTO contacts (name, phone, email) VALUES('Jacinta', 4567890, 'jacinta@email.com')\")"
   ]
  },
  {
   "cell_type": "markdown",
   "id": "95557bd3",
   "metadata": {},
   "source": [
    "**Now you can query the database, using a `cursor`, which is an *iterable*:**"
   ]
  },
  {
   "cell_type": "code",
   "execution_count": 12,
   "id": "c7aa137b",
   "metadata": {},
   "outputs": [
    {
     "ename": "OperationalError",
     "evalue": "database is locked",
     "output_type": "error",
     "traceback": [
      "\u001b[1;31m---------------------------------------------------------------------------\u001b[0m",
      "\u001b[1;31mOperationalError\u001b[0m                          Traceback (most recent call last)",
      "Cell \u001b[1;32mIn[12], line 5\u001b[0m\n\u001b[0;32m      1\u001b[0m db \u001b[38;5;241m=\u001b[39m sqlite3\u001b[38;5;241m.\u001b[39mconnect(\u001b[38;5;124m'\u001b[39m\u001b[38;5;124mcontacts/contacts.sqlite\u001b[39m\u001b[38;5;124m'\u001b[39m)\n\u001b[0;32m      3\u001b[0m db\u001b[38;5;241m.\u001b[39mexecute(\u001b[38;5;124m\"\u001b[39m\u001b[38;5;124mCREATE TABLE IF NOT EXISTS contacts (name TEXT NOT NULL, phone INTEGER, email TEXT)\u001b[39m\u001b[38;5;124m\"\u001b[39m)\n\u001b[1;32m----> 5\u001b[0m \u001b[43mdb\u001b[49m\u001b[38;5;241;43m.\u001b[39;49m\u001b[43mexecute\u001b[49m\u001b[43m(\u001b[49m\u001b[38;5;124;43m\"\u001b[39;49m\u001b[38;5;124;43mINSERT INTO contacts (name, phone, email) VALUES(\u001b[39;49m\u001b[38;5;124;43m'\u001b[39;49m\u001b[38;5;124;43mShely\u001b[39;49m\u001b[38;5;124;43m'\u001b[39;49m\u001b[38;5;124;43m, 1234567, \u001b[39;49m\u001b[38;5;124;43m'\u001b[39;49m\u001b[38;5;124;43mshely@email.com\u001b[39;49m\u001b[38;5;124;43m'\u001b[39;49m\u001b[38;5;124;43m)\u001b[39;49m\u001b[38;5;124;43m\"\u001b[39;49m\u001b[43m)\u001b[49m\n\u001b[0;32m      6\u001b[0m db\u001b[38;5;241m.\u001b[39mexecute(\u001b[38;5;124m\"\u001b[39m\u001b[38;5;124mINSERT INTO contacts (name, phone, email) VALUES(\u001b[39m\u001b[38;5;124m'\u001b[39m\u001b[38;5;124mRyan\u001b[39m\u001b[38;5;124m'\u001b[39m\u001b[38;5;124m, 2345678, \u001b[39m\u001b[38;5;124m'\u001b[39m\u001b[38;5;124mryan@email.com\u001b[39m\u001b[38;5;124m'\u001b[39m\u001b[38;5;124m)\u001b[39m\u001b[38;5;124m\"\u001b[39m)\n\u001b[0;32m      7\u001b[0m db\u001b[38;5;241m.\u001b[39mexecute(\u001b[38;5;124m\"\u001b[39m\u001b[38;5;124mINSERT INTO contacts (name, phone, email) VALUES(\u001b[39m\u001b[38;5;124m'\u001b[39m\u001b[38;5;124mBetty\u001b[39m\u001b[38;5;124m'\u001b[39m\u001b[38;5;124m, 3456789, \u001b[39m\u001b[38;5;124m'\u001b[39m\u001b[38;5;124mbetty@email.com\u001b[39m\u001b[38;5;124m'\u001b[39m\u001b[38;5;124m)\u001b[39m\u001b[38;5;124m\"\u001b[39m)\n",
      "\u001b[1;31mOperationalError\u001b[0m: database is locked"
     ]
    }
   ],
   "source": [
    "cursor = db.cursor()\n",
    "\n",
    "cursor.execute(\"SELECT * FROM contacts\")\n",
    "\n",
    "for name, phone, email in cursor:\n",
    "    print(f\"{name} -\\t{phone} | {email}\")"
   ]
  },
  {
   "cell_type": "code",
   "execution_count": null,
   "id": "ed589dbf",
   "metadata": {},
   "outputs": [],
   "source": []
  },
  {
   "cell_type": "code",
   "execution_count": 11,
   "id": "51a84118",
   "metadata": {},
   "outputs": [],
   "source": [
    "cursor.close()\n",
    "\n",
    "db.close()"
   ]
  },
  {
   "cell_type": "code",
   "execution_count": null,
   "id": "6eb7221f",
   "metadata": {},
   "outputs": [],
   "source": []
  }
 ],
 "metadata": {
  "kernelspec": {
   "display_name": "Python 3 (ipykernel)",
   "language": "python",
   "name": "python3"
  },
  "language_info": {
   "codemirror_mode": {
    "name": "ipython",
    "version": 3
   },
   "file_extension": ".py",
   "mimetype": "text/x-python",
   "name": "python",
   "nbconvert_exporter": "python",
   "pygments_lexer": "ipython3",
   "version": "3.9.17"
  }
 },
 "nbformat": 4,
 "nbformat_minor": 5
}
