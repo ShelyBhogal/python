{
 "cells": [
  {
   "cell_type": "markdown",
   "id": "0228466d",
   "metadata": {},
   "source": [
    "# Nested Functions\n",
    "\n",
    "**Python allows you to define a function within another function, and to even 'nest' a function within the nested function etc. It is rare to have more than one level of nesting but it can happen in recursive programming.**\n",
    "\n",
    "**When a function is created, Python assigns it a namespace - a 'local' namespace - to the function.**"
   ]
  },
  {
   "cell_type": "code",
   "execution_count": 1,
   "id": "2fe2b2f3",
   "metadata": {},
   "outputs": [],
   "source": [
    "# Function to output 3 strings of text\n",
    "\n",
    "def spam1():\n",
    "    \n",
    "    def spam2():\n",
    "        \n",
    "        def spam3():\n",
    "            z = \" even more spam\"\n",
    "            return z\n",
    "        \n",
    "        \n",
    "        y = \" more spam\"\n",
    "        y += spam3()\n",
    "        return y\n",
    "    \n",
    "    \n",
    "    x = \"spam\"\n",
    "    x += spam2()\n",
    "    return x"
   ]
  },
  {
   "cell_type": "code",
   "execution_count": 2,
   "id": "4339ecef",
   "metadata": {},
   "outputs": [
    {
     "name": "stdout",
     "output_type": "stream",
     "text": [
      "spam more spam even more spam\n"
     ]
    }
   ],
   "source": [
    "print(spam1())"
   ]
  },
  {
   "cell_type": "markdown",
   "id": "4b624ac3",
   "metadata": {},
   "source": [
    "**Spam 1 function calls Spam 2, and adds its result (' more spam') to Spam 1's result ('spam'). At the same time, or slightly before, Spam 2 function calls Spam 3 and adds its result (' even more spam') to Spam 2's result (' more spam'). Consequently, we have joined three strings.**\n",
    "\n",
    "**You can print the local variables available at each level:**"
   ]
  },
  {
   "cell_type": "code",
   "execution_count": 3,
   "id": "b6c8efb1",
   "metadata": {},
   "outputs": [],
   "source": [
    "def spam1():\n",
    "    \n",
    "    def spam2():\n",
    "        \n",
    "        def spam3():\n",
    "            z = \" even more spam\"\n",
    "            print(f\"Locals in SPAM 3 are: {locals()}\")\n",
    "            return z\n",
    "        \n",
    "        \n",
    "        y = \" more spam\"\n",
    "        y += spam3()\n",
    "        print(f\"Locals in SPAM 2 are : {locals()}\")\n",
    "        return y\n",
    "    \n",
    "    \n",
    "    x = \"spam\"\n",
    "    x += spam2()\n",
    "    print(f\"Locals in SPAM 1 are: {locals()}\")\n",
    "    return x"
   ]
  },
  {
   "cell_type": "code",
   "execution_count": 4,
   "id": "366ced91",
   "metadata": {},
   "outputs": [
    {
     "name": "stdout",
     "output_type": "stream",
     "text": [
      "Locals in SPAM 3 are: {'z': ' even more spam'}\n",
      "Locals in SPAM 2 are : {'spam3': <function spam1.<locals>.spam2.<locals>.spam3 at 0x00000219C8B86040>, 'y': ' more spam even more spam'}\n",
      "Locals in SPAM 1 are: {'spam2': <function spam1.<locals>.spam2 at 0x00000219C8B86670>, 'x': 'spam more spam even more spam'}\n",
      "spam more spam even more spam\n"
     ]
    }
   ],
   "source": [
    "print(spam1())"
   ]
  },
  {
   "cell_type": "code",
   "execution_count": 5,
   "id": "7b28508a",
   "metadata": {},
   "outputs": [
    {
     "name": "stdout",
     "output_type": "stream",
     "text": [
      "dict_keys(['__name__', '__doc__', '__package__', '__loader__', '__spec__', '__builtin__', '__builtins__', '_ih', '_oh', '_dh', 'In', 'Out', 'get_ipython', 'exit', 'quit', 'open', '_', '__', '___', '_i', '_ii', '_iii', '_i1', 'spam1', '_i2', '_i3', '_i4', '_i5'])\n",
      "\n",
      "dict_keys(['__name__', '__doc__', '__package__', '__loader__', '__spec__', '__builtin__', '__builtins__', '_ih', '_oh', '_dh', 'In', 'Out', 'get_ipython', 'exit', 'quit', 'open', '_', '__', '___', '_i', '_ii', '_iii', '_i1', 'spam1', '_i2', '_i3', '_i4', '_i5'])\n"
     ]
    }
   ],
   "source": [
    "print(locals().keys())\n",
    "print()\n",
    "print(globals().keys())"
   ]
  },
  {
   "cell_type": "markdown",
   "id": "b6778345",
   "metadata": {},
   "source": [
    "**In this case, both local and global namespaces are the same, with both listing `spam1` function, and none of the nested functions.**\n",
    "\n",
    "## Namespaces\n",
    "\n",
    "**The inner function is 'local' to the enclosing or global function. It exists in the local namespace and will not be found in the global namespace.**"
   ]
  },
  {
   "cell_type": "code",
   "execution_count": 6,
   "id": "0e793745",
   "metadata": {},
   "outputs": [],
   "source": [
    "# Outer function accepts list of string names\n",
    "def greet_pythons(items):\n",
    "    greeting = \"Hello\"\n",
    "    \n",
    "    # Inner function accepts single string name\n",
    "    def make_greeting(item):\n",
    "        return \"{} {}\".format(greeting, item)\n",
    "    \n",
    "    for item in items:\n",
    "        # Calls inner function to return string\n",
    "        print(make_greeting(item))"
   ]
  },
  {
   "cell_type": "code",
   "execution_count": 7,
   "id": "63370a93",
   "metadata": {},
   "outputs": [
    {
     "name": "stdout",
     "output_type": "stream",
     "text": [
      "Hello John\n",
      "Hello Eric\n",
      "Hello Graham\n",
      "Hello Terry\n",
      "Hello Terry\n",
      "Hello Michael\n"
     ]
    }
   ],
   "source": [
    "names = ['John', 'Eric', 'Graham', 'Terry', 'Terry', 'Michael']\n",
    "\n",
    "greet_pythons(names)"
   ]
  },
  {
   "cell_type": "code",
   "execution_count": 8,
   "id": "c31536e4",
   "metadata": {},
   "outputs": [],
   "source": [
    "# Use locals() to view namespaces at each level\n",
    "\n",
    "def greet_pythons(items):\n",
    "    greeting = \"Hello\"\n",
    "    \n",
    "    def make_greeting(item):\n",
    "        print(f\"Nested function: {locals()}\")\n",
    "        return \"{} {}\".format(greeting, item)\n",
    "    \n",
    "    for item in items:\n",
    "        print(make_greeting(item))\n",
    "    \n",
    "    print(f\"Outer function: {locals()}\")"
   ]
  },
  {
   "cell_type": "code",
   "execution_count": 9,
   "id": "6c1eac3a",
   "metadata": {},
   "outputs": [
    {
     "name": "stdout",
     "output_type": "stream",
     "text": [
      "Nested function: {'item': 'John', 'greeting': 'Hello'}\n",
      "Hello John\n",
      "Nested function: {'item': 'Eric', 'greeting': 'Hello'}\n",
      "Hello Eric\n",
      "Nested function: {'item': 'Graham', 'greeting': 'Hello'}\n",
      "Hello Graham\n",
      "Nested function: {'item': 'Terry', 'greeting': 'Hello'}\n",
      "Hello Terry\n",
      "Nested function: {'item': 'Terry', 'greeting': 'Hello'}\n",
      "Hello Terry\n",
      "Nested function: {'item': 'Michael', 'greeting': 'Hello'}\n",
      "Hello Michael\n",
      "Outer function: {'items': ['John', 'Eric', 'Graham', 'Terry', 'Terry', 'Michael'], 'make_greeting': <function greet_pythons.<locals>.make_greeting at 0x00000219C8B86670>, 'item': 'Michael', 'greeting': 'Hello'}\n"
     ]
    }
   ],
   "source": [
    "greet_pythons(names)"
   ]
  },
  {
   "cell_type": "markdown",
   "id": "bd98e58c",
   "metadata": {},
   "source": [
    "**Because the variable `greeting` was defined in the outer, or enclosing, function, it is always available to the inner function. Other than that, only the individual string name is available to the inner function. However, the outer function has access to the list of names, the inner function and the iterated names - everything needed to make the desired output.**\n",
    "\n",
    "\n",
    "## Free Variables\n",
    "\n",
    "**Searching various namespaces is somewhat inefficient, and Python speeds up performance by turning the `greeting` variable into a 'free variable', i.e. inserting it into the local namespace meaning Python does not have to check the enclosing namespace with each iteration. The 'free' implies that the variable is in the local namespace but it was not created there.**\n",
    "\n",
    "**A free variable cannot be defined in the Python global scope, i.e. module level. They are not the same as global variables.**\n",
    "\n",
    "**You cannot change the value of a free variable.**"
   ]
  },
  {
   "cell_type": "code",
   "execution_count": 12,
   "id": "78a79113",
   "metadata": {},
   "outputs": [],
   "source": [
    "def greet_pythons(items):\n",
    "    greeting = \"Hello\"\n",
    "    \n",
    "    def make_greeting(item):\n",
    "        # Bind greeting to new value\n",
    "        greeting = \"Howdy\"\n",
    "        return \"{} {}\".format(greeting, item)\n",
    "    \n",
    "    for item in items:\n",
    "        print(make_greeting(item))\n",
    "    \n",
    "    print(f\"Outer function greeting is {greeting}\")"
   ]
  },
  {
   "cell_type": "code",
   "execution_count": 13,
   "id": "05899209",
   "metadata": {},
   "outputs": [
    {
     "name": "stdout",
     "output_type": "stream",
     "text": [
      "Howdy John\n",
      "Howdy Eric\n",
      "Howdy Graham\n",
      "Howdy Terry\n",
      "Howdy Terry\n",
      "Howdy Michael\n",
      "Outer function greeting is Hello\n"
     ]
    }
   ],
   "source": [
    "greet_pythons(names)"
   ]
  },
  {
   "cell_type": "markdown",
   "id": "468b439a",
   "metadata": {},
   "source": [
    "**The assignment to 'Howdy' inside the `for` loop did not change the original value of 'Hello' assigned to the `greeting` variable. The re-binding of the variable happens inside the local namespace of the inner function only, becoming a local variable at that time, and does not affect the value in the outer function. This applies to global variables also.**"
   ]
  },
  {
   "cell_type": "code",
   "execution_count": 16,
   "id": "24d600f8",
   "metadata": {},
   "outputs": [],
   "source": [
    "def greet_pythons(items):\n",
    "    greeting = \"Hello\"\n",
    "    print(f\"In outer function, greeting ID is {id(greeting)}\")\n",
    "    \n",
    "    def make_greeting(item):\n",
    "        greeting = \"Howdy\"\n",
    "        print(f\"In inner function, greeting ID is {id(greeting)}\")\n",
    "        return \"{} {}\".format(greeting, item)\n",
    "    \n",
    "    for item in items:\n",
    "        print(make_greeting(item))\n",
    "    \n",
    "    print(f\"In outer function, greeting ID is {id(greeting)}\")"
   ]
  },
  {
   "cell_type": "code",
   "execution_count": 17,
   "id": "f2971ae3",
   "metadata": {},
   "outputs": [
    {
     "name": "stdout",
     "output_type": "stream",
     "text": [
      "In outer function, greeting ID is 2309764961520\n",
      "In inner function, greeting ID is 2309764370288\n",
      "Howdy John\n",
      "In inner function, greeting ID is 2309764370288\n",
      "Howdy Eric\n",
      "In inner function, greeting ID is 2309764370288\n",
      "Howdy Graham\n",
      "In inner function, greeting ID is 2309764370288\n",
      "Howdy Terry\n",
      "In inner function, greeting ID is 2309764370288\n",
      "Howdy Terry\n",
      "In inner function, greeting ID is 2309764370288\n",
      "Howdy Michael\n",
      "In outer function, greeting ID is 2309764961520\n"
     ]
    }
   ],
   "source": [
    "# Python creates local `greeting` variable with new ID\n",
    "\n",
    "greet_pythons(names)"
   ]
  },
  {
   "cell_type": "markdown",
   "id": "848605ac",
   "metadata": {},
   "source": [
    "**The variables have the same name but they are not the same object.**"
   ]
  },
  {
   "cell_type": "code",
   "execution_count": 26,
   "id": "62951565",
   "metadata": {},
   "outputs": [],
   "source": [
    "# View namespace at each level\n",
    "\n",
    "def greet_pythons(items):\n",
    "    greeting = \"Hello\"\n",
    "    print(f\"Outer function namespace contains {locals()}\")\n",
    "    \n",
    "    def make_greeting(item):\n",
    "        print(f\"Inner function namespace BEFORE loop contains {locals()}\")\n",
    "        greeting = \"Howdy\"\n",
    "        print(f\"Inner function namespace AFTER loop contains {locals()}\")\n",
    "        return \"{} {}\".format(greeting, item)\n",
    "    \n",
    "    for item in items:\n",
    "        print(make_greeting(item))\n",
    "    \n",
    "    print(f\"Outer function namespace now contains {locals()}\")"
   ]
  },
  {
   "cell_type": "code",
   "execution_count": 27,
   "id": "4077f4c8",
   "metadata": {},
   "outputs": [
    {
     "name": "stdout",
     "output_type": "stream",
     "text": [
      "Outer function namespace contains {'items': ['John', 'Eric', 'Graham', 'Terry', 'Terry', 'Michael'], 'greeting': 'Hello'}\n",
      "Inner function namespace BEFORE loop contains {'item': 'John'}\n",
      "Inner function namespace AFTER loop contains {'item': 'John', 'greeting': 'Howdy'}\n",
      "Howdy John\n",
      "Inner function namespace BEFORE loop contains {'item': 'Eric'}\n",
      "Inner function namespace AFTER loop contains {'item': 'Eric', 'greeting': 'Howdy'}\n",
      "Howdy Eric\n",
      "Inner function namespace BEFORE loop contains {'item': 'Graham'}\n",
      "Inner function namespace AFTER loop contains {'item': 'Graham', 'greeting': 'Howdy'}\n",
      "Howdy Graham\n",
      "Inner function namespace BEFORE loop contains {'item': 'Terry'}\n",
      "Inner function namespace AFTER loop contains {'item': 'Terry', 'greeting': 'Howdy'}\n",
      "Howdy Terry\n",
      "Inner function namespace BEFORE loop contains {'item': 'Terry'}\n",
      "Inner function namespace AFTER loop contains {'item': 'Terry', 'greeting': 'Howdy'}\n",
      "Howdy Terry\n",
      "Inner function namespace BEFORE loop contains {'item': 'Michael'}\n",
      "Inner function namespace AFTER loop contains {'item': 'Michael', 'greeting': 'Howdy'}\n",
      "Howdy Michael\n",
      "Outer function namespace now contains {'items': ['John', 'Eric', 'Graham', 'Terry', 'Terry', 'Michael'], 'greeting': 'Hello', 'make_greeting': <function greet_pythons.<locals>.make_greeting at 0x00000219C8B86280>, 'item': 'Michael'}\n"
     ]
    }
   ],
   "source": [
    "greet_pythons(names)"
   ]
  },
  {
   "cell_type": "markdown",
   "id": "d4770743",
   "metadata": {},
   "source": [
    "**Notice there are two more entries in the outer scope after the inner function has been looped through the names. The inner function and the last name iterated through in the list (Michael). The `for` loop has defined a new variable `item`, which can be found in both the inner and outer namespaces.**\n",
    "\n",
    "**You can change the value of a free variable in a nested function using the `nonlocal` command, but this is not recommended! It can lead to bugs that are hard to fix hence very expensive.**"
   ]
  },
  {
   "cell_type": "code",
   "execution_count": 29,
   "id": "ef639977",
   "metadata": {},
   "outputs": [],
   "source": [
    "def greet_pythons(items):\n",
    "    greeting = \"Hello\"\n",
    "    \n",
    "    def make_greeting(item):\n",
    "        nonlocal greeting\n",
    "        greeting = \"Howdy\"\n",
    "        return \"{} {}\".format(greeting, item)\n",
    "    \n",
    "    for item in items:\n",
    "        print(make_greeting(item))"
   ]
  },
  {
   "cell_type": "code",
   "execution_count": 30,
   "id": "47cb1a42",
   "metadata": {},
   "outputs": [
    {
     "name": "stdout",
     "output_type": "stream",
     "text": [
      "Howdy John\n",
      "Howdy Eric\n",
      "Howdy Graham\n",
      "Howdy Terry\n",
      "Howdy Terry\n",
      "Howdy Michael\n"
     ]
    }
   ],
   "source": [
    "# Everything happens as it should...\n",
    "\n",
    "greet_pythons(names)"
   ]
  },
  {
   "cell_type": "code",
   "execution_count": 31,
   "id": "9b75bee5",
   "metadata": {},
   "outputs": [],
   "source": [
    "# View namespace at each level\n",
    "\n",
    "def greet_pythons(items):\n",
    "    greeting = \"Hello\"\n",
    "    print(f\"Outer function namespace contains {locals()}\")\n",
    "    \n",
    "    def make_greeting(item):\n",
    "        nonlocal greeting\n",
    "        greeting = \"Howdy\"\n",
    "        print(f\"Inner function namespace contains {locals()}\")\n",
    "        return \"{} {}\".format(greeting, item)\n",
    "    \n",
    "    for item in items:\n",
    "        print(make_greeting(item))\n",
    "    \n",
    "    print(f\"Outer function namespace now contains {locals()}\")"
   ]
  },
  {
   "cell_type": "code",
   "execution_count": 32,
   "id": "09de0623",
   "metadata": {},
   "outputs": [
    {
     "name": "stdout",
     "output_type": "stream",
     "text": [
      "Outer function namespace contains {'items': ['John', 'Eric', 'Graham', 'Terry', 'Terry', 'Michael'], 'greeting': 'Hello'}\n",
      "Inner function namespace contains {'item': 'John', 'greeting': 'Howdy'}\n",
      "Howdy John\n",
      "Inner function namespace contains {'item': 'Eric', 'greeting': 'Howdy'}\n",
      "Howdy Eric\n",
      "Inner function namespace contains {'item': 'Graham', 'greeting': 'Howdy'}\n",
      "Howdy Graham\n",
      "Inner function namespace contains {'item': 'Terry', 'greeting': 'Howdy'}\n",
      "Howdy Terry\n",
      "Inner function namespace contains {'item': 'Terry', 'greeting': 'Howdy'}\n",
      "Howdy Terry\n",
      "Inner function namespace contains {'item': 'Michael', 'greeting': 'Howdy'}\n",
      "Howdy Michael\n",
      "Outer function namespace now contains {'items': ['John', 'Eric', 'Graham', 'Terry', 'Terry', 'Michael'], 'greeting': 'Howdy', 'make_greeting': <function greet_pythons.<locals>.make_greeting at 0x00000219CA76BE50>, 'item': 'Michael'}\n"
     ]
    }
   ],
   "source": [
    "greet_pythons(names)"
   ]
  },
  {
   "cell_type": "code",
   "execution_count": 33,
   "id": "2568f421",
   "metadata": {},
   "outputs": [],
   "source": [
    "# View variable ID at each level\n",
    "\n",
    "def greet_pythons(items):\n",
    "    greeting = \"Hello\"\n",
    "    print(f\"Outer function variable ID is {id(greeting)}\")\n",
    "    \n",
    "    def make_greeting(item):\n",
    "        nonlocal greeting\n",
    "        greeting = \"Howdy\"\n",
    "        print(f\"Inner function variable ID is {id(greeting)}\")\n",
    "        return \"{} {}\".format(greeting, item)\n",
    "    \n",
    "    for item in items:\n",
    "        print(make_greeting(item))\n",
    "    \n",
    "    print(f\"Outer function variable ID is {id(greeting)}\")"
   ]
  },
  {
   "cell_type": "code",
   "execution_count": 34,
   "id": "611fbc3b",
   "metadata": {},
   "outputs": [
    {
     "name": "stdout",
     "output_type": "stream",
     "text": [
      "Outer function variable ID is 2309764961520\n",
      "Inner function variable ID is 2309764370288\n",
      "Howdy John\n",
      "Inner function variable ID is 2309764370288\n",
      "Howdy Eric\n",
      "Inner function variable ID is 2309764370288\n",
      "Howdy Graham\n",
      "Inner function variable ID is 2309764370288\n",
      "Howdy Terry\n",
      "Inner function variable ID is 2309764370288\n",
      "Howdy Terry\n",
      "Inner function variable ID is 2309764370288\n",
      "Howdy Michael\n",
      "Outer function variable ID is 2309764370288\n"
     ]
    }
   ],
   "source": [
    "greet_pythons(names)"
   ]
  },
  {
   "cell_type": "markdown",
   "id": "80d2e04d",
   "metadata": {},
   "source": [
    "**The free variable is permanently changed to mirror the update made in the inner function. After that point, it is a whole new object, done by telling Python to rebind the outer variable with `nonlocal`. There is only one instance of it.**\n",
    "\n",
    "## Global variables\n",
    "\n",
    "**The same applies to global variables - try not to change their value from an inner scope.**"
   ]
  },
  {
   "cell_type": "code",
   "execution_count": 35,
   "id": "55d6ab75",
   "metadata": {},
   "outputs": [],
   "source": [
    "area = 0\n",
    "\n",
    "# Aim of function to update area value\n",
    "def square_area(length):\n",
    "    area = length * length"
   ]
  },
  {
   "cell_type": "code",
   "execution_count": 36,
   "id": "1d58eb1e",
   "metadata": {},
   "outputs": [
    {
     "name": "stdout",
     "output_type": "stream",
     "text": [
      "None\n",
      "The area of the square is 0\n"
     ]
    }
   ],
   "source": [
    "print(square_area(30))\n",
    "\n",
    "print(f\"The area of the square is {area}\")"
   ]
  },
  {
   "cell_type": "markdown",
   "id": "ded1708a",
   "metadata": {},
   "source": [
    "**This is a terrible way to code, but as an exxample, you can see that the function does not change global variable `area` - it is still zero, even after calling the function to update it. If you use `global` keyword in the function, you can change the area value.**"
   ]
  },
  {
   "cell_type": "code",
   "execution_count": 37,
   "id": "0dc9a54f",
   "metadata": {},
   "outputs": [],
   "source": [
    "area = 0\n",
    "\n",
    "def square_area(length):\n",
    "    global area\n",
    "    area = length * length"
   ]
  },
  {
   "cell_type": "code",
   "execution_count": 38,
   "id": "5b70ab36",
   "metadata": {},
   "outputs": [
    {
     "name": "stdout",
     "output_type": "stream",
     "text": [
      "The area of the square is 900\n"
     ]
    }
   ],
   "source": [
    "square_area(30)\n",
    "\n",
    "print(f\"The area of the square is {area}\")"
   ]
  },
  {
   "cell_type": "markdown",
   "id": "d06b5dbe",
   "metadata": {},
   "source": [
    "**You could also have put length as a global variable so that the function accepts no arguments. Again, BAD CODE!!**\n",
    "\n",
    "**It should have been written as:**"
   ]
  },
  {
   "cell_type": "code",
   "execution_count": 41,
   "id": "71c045fe",
   "metadata": {},
   "outputs": [
    {
     "name": "stdout",
     "output_type": "stream",
     "text": [
      "The area of the square is 900\n"
     ]
    }
   ],
   "source": [
    "def square_area(length):\n",
    "    area = length * length\n",
    "    return area\n",
    "\n",
    "\n",
    "print(f\"The area of the square is {square_area(30)}\")"
   ]
  },
  {
   "cell_type": "code",
   "execution_count": null,
   "id": "fd351552",
   "metadata": {},
   "outputs": [],
   "source": []
  }
 ],
 "metadata": {
  "kernelspec": {
   "display_name": "Python 3 (ipykernel)",
   "language": "python",
   "name": "python3"
  },
  "language_info": {
   "codemirror_mode": {
    "name": "ipython",
    "version": 3
   },
   "file_extension": ".py",
   "mimetype": "text/x-python",
   "name": "python",
   "nbconvert_exporter": "python",
   "pygments_lexer": "ipython3",
   "version": "3.9.17"
  }
 },
 "nbformat": 4,
 "nbformat_minor": 5
}
