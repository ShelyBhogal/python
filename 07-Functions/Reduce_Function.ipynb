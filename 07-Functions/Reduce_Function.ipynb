{
 "cells": [
  {
   "cell_type": "markdown",
   "id": "75093058",
   "metadata": {},
   "source": [
    "# The `reduce()` function\n",
    "\n",
    "**The `reduce()` method acccepts the same arguments as `map()` and `filter()` built-in functions, except that it reduces the iterable to a single value by repeatedly applying the user function.**\n",
    "\n",
    "**The `reduce()` method is not a built-in function, but it belongs to `functools` library which you need to import.**"
   ]
  },
  {
   "cell_type": "code",
   "execution_count": 1,
   "id": "748420d1",
   "metadata": {},
   "outputs": [],
   "source": [
    "import functools"
   ]
  },
  {
   "cell_type": "code",
   "execution_count": 2,
   "id": "1794c374",
   "metadata": {},
   "outputs": [],
   "source": [
    "numbers = [2, 3, 5, 8, 13]"
   ]
  },
  {
   "cell_type": "code",
   "execution_count": 3,
   "id": "081d5cb0",
   "metadata": {},
   "outputs": [],
   "source": [
    "# Function accepts two integers\n",
    "\n",
    "def calc_value(x, y):\n",
    "    return x + y"
   ]
  },
  {
   "cell_type": "code",
   "execution_count": 4,
   "id": "5b16c6d8",
   "metadata": {},
   "outputs": [
    {
     "name": "stdout",
     "output_type": "stream",
     "text": [
      "31\n"
     ]
    }
   ],
   "source": [
    "reduced_value = functools.reduce(calc_value, numbers)\n",
    "\n",
    "print(reduced_value)"
   ]
  },
  {
   "cell_type": "markdown",
   "id": "9d271521",
   "metadata": {},
   "source": [
    "**The result is the sum of the numbers in the list:**\n",
    "\n",
    "    2 + 3 + 5 + 8 + 13 = 31\n",
    "\n",
    "**The user function must always accept two arguments (`x` and `y`) and in the first loop, the function takes the first two items in the list:**\n",
    "\n",
    "    2 + 3 = 5\n",
    "\n",
    "**In the next loop, the `calc_value()` function takes the next two items, which includes the result from the previous addition:**\n",
    "\n",
    "    5 + 5 = 10\n",
    "\n",
    "**Then the next loop:**\n",
    "\n",
    "    10 + 8 = 18\n",
    "    18 + 13 = 31\n",
    "\n",
    "**There is rarely any need to use `reduce()` method, since `sum()` function does the same thing in this case, and better - `print(sum(numbers))`. However, you should know what it does in case you come across it in someone else's code.**"
   ]
  },
  {
   "cell_type": "code",
   "execution_count": null,
   "id": "a4325979",
   "metadata": {},
   "outputs": [],
   "source": []
  }
 ],
 "metadata": {
  "kernelspec": {
   "display_name": "Python 3 (ipykernel)",
   "language": "python",
   "name": "python3"
  },
  "language_info": {
   "codemirror_mode": {
    "name": "ipython",
    "version": 3
   },
   "file_extension": ".py",
   "mimetype": "text/x-python",
   "name": "python",
   "nbconvert_exporter": "python",
   "pygments_lexer": "ipython3",
   "version": "3.9.17"
  }
 },
 "nbformat": 4,
 "nbformat_minor": 5
}
