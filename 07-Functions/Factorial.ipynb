{
 "cells": [
  {
   "cell_type": "markdown",
   "id": "9cb48ac7",
   "metadata": {},
   "source": [
    "# Factorial Function\n",
    "\n",
    "**The factorial of a number is the product of all the values from 1 to the number, inclusive.**\n",
    "\n",
    "**Thus 4 factorial, which is written as `4!`, is calculated as:**\n",
    "\n",
    "    1 * 2 * 3 * 4 = 24\n",
    "\n",
    "**So `5!` is:**\n",
    "\n",
    "    1 * 2 * 3 * 4 * 5 = 120\n",
    "    \n",
    "**Write a function that returns the factorial of an integer passed as its argument. You must include a Docstring, and function annotations, in your function. Then use `for` loop to call the factorial function and print out the first 35 factorials (0 to 36).**\n",
    "\n",
    "**NOTE: The convention is that `0! = 1` (not zero, as you might expect).**"
   ]
  },
  {
   "cell_type": "code",
   "execution_count": 15,
   "id": "dd3ce381",
   "metadata": {},
   "outputs": [],
   "source": [
    "def factorial(n: int) -> int:\n",
    "    \"\"\"\n",
    "    Params:\n",
    "        `n` is integer argument\n",
    "        \n",
    "    Returns:\n",
    "        Factorial integer result\n",
    "    \"\"\"\n",
    "    if n == 0:\n",
    "        return 1\n",
    "    \n",
    "    fact = 1\n",
    "    \n",
    "    for i in range(1, n + 1):\n",
    "        fact *= i\n",
    "        \n",
    "    return fact"
   ]
  },
  {
   "cell_type": "code",
   "execution_count": 16,
   "id": "6455a74d",
   "metadata": {},
   "outputs": [
    {
     "data": {
      "text/plain": [
       "24"
      ]
     },
     "execution_count": 16,
     "metadata": {},
     "output_type": "execute_result"
    }
   ],
   "source": [
    "factorial(4)"
   ]
  },
  {
   "cell_type": "code",
   "execution_count": 17,
   "id": "137fe7af",
   "metadata": {},
   "outputs": [
    {
     "data": {
      "text/plain": [
       "120"
      ]
     },
     "execution_count": 17,
     "metadata": {},
     "output_type": "execute_result"
    }
   ],
   "source": [
    "factorial(5)"
   ]
  },
  {
   "cell_type": "code",
   "execution_count": 18,
   "id": "1b8f9088",
   "metadata": {},
   "outputs": [
    {
     "data": {
      "text/plain": [
       "1"
      ]
     },
     "execution_count": 18,
     "metadata": {},
     "output_type": "execute_result"
    }
   ],
   "source": [
    "factorial(0)"
   ]
  },
  {
   "cell_type": "code",
   "execution_count": 19,
   "id": "ba4ad6bd",
   "metadata": {},
   "outputs": [
    {
     "data": {
      "text/plain": [
       "2432902008176640000"
      ]
     },
     "execution_count": 19,
     "metadata": {},
     "output_type": "execute_result"
    }
   ],
   "source": [
    "# Should be 2,432,902,008,176,640,000\n",
    "\n",
    "factorial(20)"
   ]
  },
  {
   "cell_type": "code",
   "execution_count": 21,
   "id": "14f92a8c",
   "metadata": {},
   "outputs": [
    {
     "name": "stdout",
     "output_type": "stream",
     "text": [
      "0 1\n",
      "1 1\n",
      "2 2\n",
      "3 6\n",
      "4 24\n",
      "5 120\n",
      "6 720\n",
      "7 5040\n",
      "8 40320\n",
      "9 362880\n",
      "10 3628800\n",
      "11 39916800\n",
      "12 479001600\n",
      "13 6227020800\n",
      "14 87178291200\n",
      "15 1307674368000\n",
      "16 20922789888000\n",
      "17 355687428096000\n",
      "18 6402373705728000\n",
      "19 121645100408832000\n",
      "20 2432902008176640000\n",
      "21 51090942171709440000\n",
      "22 1124000727777607680000\n",
      "23 25852016738884976640000\n",
      "24 620448401733239439360000\n",
      "25 15511210043330985984000000\n",
      "26 403291461126605635584000000\n",
      "27 10888869450418352160768000000\n",
      "28 304888344611713860501504000000\n",
      "29 8841761993739701954543616000000\n",
      "30 265252859812191058636308480000000\n",
      "31 8222838654177922817725562880000000\n",
      "32 263130836933693530167218012160000000\n",
      "33 8683317618811886495518194401280000000\n",
      "34 295232799039604140847618609643520000000\n",
      "35 10333147966386144929666651337523200000000\n"
     ]
    }
   ],
   "source": [
    "for i in range(36):\n",
    "    print(i, factorial(i))"
   ]
  },
  {
   "cell_type": "code",
   "execution_count": null,
   "id": "ab618ddc",
   "metadata": {},
   "outputs": [],
   "source": []
  }
 ],
 "metadata": {
  "kernelspec": {
   "display_name": "Python 3 (ipykernel)",
   "language": "python",
   "name": "python3"
  },
  "language_info": {
   "codemirror_mode": {
    "name": "ipython",
    "version": 3
   },
   "file_extension": ".py",
   "mimetype": "text/x-python",
   "name": "python",
   "nbconvert_exporter": "python",
   "pygments_lexer": "ipython3",
   "version": "3.9.17"
  }
 },
 "nbformat": 4,
 "nbformat_minor": 5
}
