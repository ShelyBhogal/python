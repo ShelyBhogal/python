{
 "cells": [
  {
   "cell_type": "markdown",
   "id": "f4557b38",
   "metadata": {},
   "source": [
    "# The `filter()` function\n",
    "\n",
    "**More often these days, you will see `for` loop or list comprehension used instead of `filter()` function, but you should know what it does.**\n",
    "\n",
    "**Using the input iterable of a menu of meals (horrible ones!), filter out items based on conditions, e.g. meals without spam please.**"
   ]
  },
  {
   "cell_type": "code",
   "execution_count": 1,
   "id": "7c852ef9",
   "metadata": {},
   "outputs": [],
   "source": [
    "menu = [\n",
    "    [\"egg\", \"spam\", \"bacon\"],\n",
    "    [\"egg\", \"sausage\", \"bacon\"],\n",
    "    [\"egg\", \"spam\"],\n",
    "    [\"egg\", \"bacon\", \"spam\"],\n",
    "    [\"egg\", \"bacon\", \"sausage\", \"spam\"],\n",
    "    [\"spam\", \"bacon\", \"sausage\", \"spam\"],\n",
    "    [\"spam\", \"egg\", \"spam\", \"spam\", \"bacon\", \"spam\"],\n",
    "    [\"spam\", \"egg\", \"sausage\", \"spam\"],\n",
    "    [\"chicken\", \"chips\"]\n",
    "]"
   ]
  },
  {
   "cell_type": "code",
   "execution_count": 2,
   "id": "8d800e60",
   "metadata": {},
   "outputs": [
    {
     "name": "stdout",
     "output_type": "stream",
     "text": [
      "['egg', 'sausage', 'bacon']\n",
      "['chicken', 'chips']\n",
      "------------------------------\n",
      "[['egg', 'sausage', 'bacon'], ['chicken', 'chips']]\n",
      "-------------------------------------------------------\n"
     ]
    }
   ],
   "source": [
    "# ---------------------------------------------------- FOR LOOP\n",
    "\n",
    "for meal in menu:\n",
    "    if \"spam\" not in meal:\n",
    "        print(meal)\n",
    "\n",
    "\n",
    "print(\"-\" * 30)\n",
    "\n",
    "# --------------------------------------------------- LIST COMPREHENSION\n",
    "\n",
    "meals = [meal for meal in menu if \"spam\" not in meal]\n",
    "print(meals)\n",
    "\n",
    "print(\"-\" * 55)"
   ]
  },
  {
   "cell_type": "markdown",
   "id": "835b882f",
   "metadata": {},
   "source": [
    "**The condition of the results is whether spam is absent or present, not in or in, no or yes. This is a *Boolean* condition, which is mandatory when using `filter()` function. The Boolean condition must be contained in a function, also known as a 'predicate':**"
   ]
  },
  {
   "cell_type": "code",
   "execution_count": 3,
   "id": "18197ade",
   "metadata": {},
   "outputs": [
    {
     "name": "stdout",
     "output_type": "stream",
     "text": [
      "[['egg', 'sausage', 'bacon'], ['chicken', 'chips']]\n"
     ]
    }
   ],
   "source": [
    "def no_spam(meal_list):\n",
    "    return \"spam\" not in meal_list\n",
    "    \n",
    "\n",
    "meals = list(filter(no_spam, menu))\n",
    "\n",
    "print(meals)"
   ]
  },
  {
   "cell_type": "markdown",
   "id": "8daaa6c9",
   "metadata": {},
   "source": [
    "**You can time performance of list comprehension vs `filter()` function using the `timeit` module, but it should confirm that list comprehension is much faster.**"
   ]
  },
  {
   "cell_type": "code",
   "execution_count": null,
   "id": "02841d44",
   "metadata": {},
   "outputs": [],
   "source": []
  }
 ],
 "metadata": {
  "kernelspec": {
   "display_name": "Python 3 (ipykernel)",
   "language": "python",
   "name": "python3"
  },
  "language_info": {
   "codemirror_mode": {
    "name": "ipython",
    "version": 3
   },
   "file_extension": ".py",
   "mimetype": "text/x-python",
   "name": "python",
   "nbconvert_exporter": "python",
   "pygments_lexer": "ipython3",
   "version": "3.9.17"
  }
 },
 "nbformat": 4,
 "nbformat_minor": 5
}
