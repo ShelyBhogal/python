{
 "cells": [
  {
   "cell_type": "markdown",
   "id": "6ebe092a",
   "metadata": {},
   "source": [
    "# Printing in Colour\n",
    "\n",
    "**Using some horrrible escape sequences, you can format text in print display, e.g. change text colour, italicize or underline.**\n",
    "\n",
    "**Some ANSI escape sequences for colours and effects, which must be executed as constants to be passed into the `print()` function:**\n",
    "\n",
    "**BLACK** = `'\\u001b[30m'`\n",
    "\n",
    "**RED** = `'\\u001b[31m'`\n",
    "\n",
    "**GREEN** = `'\\u001b[32m'`\n",
    "\n",
    "**YELLOW** = `'\\u001b[33m'`\n",
    "\n",
    "**BLUE** = `'\\u001b[34m'`\n",
    "\n",
    "**MAGENTA** = `'\\u001b[35m'`\n",
    "\n",
    "**CYAN** = `'\\u001b[36m'`\n",
    "\n",
    "**WHITE** = `'\\u001b[37m'`\n",
    "\n",
    "**RESET** = `'\\u001b[0m'`  (in case you need to reset the format back to standard black)\n",
    " \n",
    "**BOLD** = `'\\u001b[1m'`\n",
    "\n",
    "**UNDERLINE** = `'\\u001b[4m'`\n",
    "\n",
    "**REVERSE** = `'\\u001b[7m'`  (highlights the text)"
   ]
  },
  {
   "cell_type": "code",
   "execution_count": 2,
   "id": "1d5381e7",
   "metadata": {},
   "outputs": [],
   "source": [
    "BLACK = '\\u001b[30m'\n",
    "RED = '\\u001b[31m'\n",
    "GREEN = '\\u001b[32m'\n",
    "YELLOW = '\\u001b[33m'\n",
    "BLUE = '\\u001b[34m'\n",
    "MAGENTA = '\\u001b[35m'\n",
    "CYAN = '\\u001b[36m'\n",
    "WHITE = '\\u001b[37m'\n",
    "RESET = '\\u001b[0m'\n",
    " \n",
    "BOLD = '\\u001b[1m'\n",
    "UNDERLINE = '\\u001b[4m'\n",
    "REVERSE = '\\u001b[7m'"
   ]
  },
  {
   "cell_type": "code",
   "execution_count": 3,
   "id": "81e2db55",
   "metadata": {},
   "outputs": [
    {
     "name": "stdout",
     "output_type": "stream",
     "text": [
      "\u001b[31m This is red\n"
     ]
    }
   ],
   "source": [
    "print(RED, \"This is red\")"
   ]
  },
  {
   "cell_type": "code",
   "execution_count": 6,
   "id": "6ed25f1d",
   "metadata": {},
   "outputs": [
    {
     "name": "stdout",
     "output_type": "stream",
     "text": [
      "\u001b[34m \u001b[4m This is blue and underlined\n"
     ]
    }
   ],
   "source": [
    "print(BLUE, UNDERLINE, \"This is blue and underlined\")"
   ]
  },
  {
   "cell_type": "code",
   "execution_count": 7,
   "id": "4d308352",
   "metadata": {},
   "outputs": [
    {
     "name": "stdout",
     "output_type": "stream",
     "text": [
      "\u001b[32m \u001b[1m \u001b[4m This is bold green and underlined\n"
     ]
    }
   ],
   "source": [
    "print(GREEN, BOLD, UNDERLINE, \"This is bold green and underlined\")"
   ]
  },
  {
   "cell_type": "code",
   "execution_count": 9,
   "id": "39b85155",
   "metadata": {},
   "outputs": [
    {
     "name": "stdout",
     "output_type": "stream",
     "text": [
      "How does my text look now?\n"
     ]
    }
   ],
   "source": [
    "print(\"How does my text look now?\")"
   ]
  },
  {
   "cell_type": "markdown",
   "id": "8d92a510",
   "metadata": {},
   "source": [
    "**Without specifying the constant formatting variables, the print text reverts back to normal black text. So there is no need to use `RESET` constant in Jupyter Notebook, but it may be necessary in other IDEs.**\n",
    "\n",
    "**You can define a function to add formatting to printed text:**"
   ]
  },
  {
   "cell_type": "code",
   "execution_count": 15,
   "id": "a424143c",
   "metadata": {},
   "outputs": [],
   "source": [
    "def colour_print(text, effect):\n",
    "    output_text = \"{0}{1}\".format(effect, text)\n",
    "    print(output_text)"
   ]
  },
  {
   "cell_type": "code",
   "execution_count": 16,
   "id": "06835120",
   "metadata": {},
   "outputs": [
    {
     "name": "stdout",
     "output_type": "stream",
     "text": [
      "\u001b[7mSupercalifragilisticexpealidocious\n"
     ]
    }
   ],
   "source": [
    "colour_print(\"Supercalifragilisticexpealidocious\", REVERSE)"
   ]
  },
  {
   "cell_type": "markdown",
   "id": "7bf52e4e",
   "metadata": {},
   "source": [
    "**If running Python code in command prompt terminal, which happens in office environmments, you will not see any formatting applied to print statements because Windows terminal does not support ANSI characters. You can install the `colorama` package to enable formatting in Windows (it works fine in Linux and Mac systems). It is specifically for programmers to test their code in Windows.**\n",
    "\n",
    "**DOWNLOAD LATEST VERSION FROM PYTHON PACKAGES INDEX https://pypi.org/project/colorama/.**\n",
    "\n",
    "**SEE EXECUTABLE FILE `colorama_lpa-0.4...-none-any.whl` in Downloads folder (constantly being updated so try to download latest version).** \n",
    "\n",
    "1. **Launch a terminal from your IDE working folder to activate a virtual environment.**\n",
    "2. **Type in `pip install C:\\Users\\shmel\\Downloads\\colorama_lpa-0.4...-none-any.whl` and ENTER.**\n",
    "3. **Open Python programming and test the print outputs from formatting.**\n",
    "\n",
    "**Colorama does not support highlighting or underlining of text in Windows, hence why you should always download the latest version as that bug is waiting to be fixed.**\n",
    "\n",
    "**NOTE: Colorama is already installed in the Anaconda environment, so you can import it like a module:**\n",
    "\n",
    "        import colorama\n",
    "        \n",
    "        colorama.init()\n",
    "        \n",
    "        # Code to print text\n",
    "        \n",
    "        colorama.deinit()"
   ]
  },
  {
   "cell_type": "code",
   "execution_count": null,
   "id": "08b0b7e1",
   "metadata": {},
   "outputs": [],
   "source": []
  }
 ],
 "metadata": {
  "kernelspec": {
   "display_name": "Python 3 (ipykernel)",
   "language": "python",
   "name": "python3"
  },
  "language_info": {
   "codemirror_mode": {
    "name": "ipython",
    "version": 3
   },
   "file_extension": ".py",
   "mimetype": "text/x-python",
   "name": "python",
   "nbconvert_exporter": "python",
   "pygments_lexer": "ipython3",
   "version": "3.9.17"
  }
 },
 "nbformat": 4,
 "nbformat_minor": 5
}
