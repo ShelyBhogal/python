{
 "cells": [
  {
   "cell_type": "markdown",
   "id": "287cfd8e",
   "metadata": {},
   "source": [
    "# Hash Functions\n",
    "\n",
    "**Hash functions map data of any size to a fixed value, called a hash.**\n",
    "\n",
    "**For example, every character is represented by a number when it is stored in a computer. In the old days, it was an ASCII value but nowadays, it is unicode, since ASCII cannot handle different languages.**"
   ]
  },
  {
   "cell_type": "code",
   "execution_count": 2,
   "id": "0aa04d3c",
   "metadata": {},
   "outputs": [
    {
     "name": "stdout",
     "output_type": "stream",
     "text": [
      "97\n",
      "98\n",
      "122\n"
     ]
    }
   ],
   "source": [
    "print(ord(\"a\"))\n",
    "\n",
    "print(ord(\"b\"))\n",
    "\n",
    "print(ord(\"z\"))"
   ]
  },
  {
   "cell_type": "code",
   "execution_count": 3,
   "id": "7cc976cb",
   "metadata": {},
   "outputs": [],
   "source": [
    "data = [\n",
    "    (\"orange\", \"a sweet, orange, citrus fruit\"), \n",
    "    (\"apple\", \"good for making cider\"), \n",
    "    (\"lemon\", \"a sour, yellow citrus fruit\"), \n",
    "    (\"grape\", \"a small, sweet fruit growing in bunches\"), \n",
    "    (\"melon\", \"sweet and juicy\")\n",
    "]"
   ]
  },
  {
   "cell_type": "markdown",
   "id": "2e5fef1d",
   "metadata": {},
   "source": [
    "**In theory, you could use `ord()` function to convert characters to integers in a simple hashing function:** "
   ]
  },
  {
   "cell_type": "code",
   "execution_count": 4,
   "id": "c6c68f5e",
   "metadata": {},
   "outputs": [],
   "source": [
    "def my_hash(s):\n",
    "    # Start with first char in string\n",
    "    basic_hash = ord(s[0])\n",
    "    # Take the remainder after dividing by 10 (reduces range between 0-10)\n",
    "    return basic_hash % 10"
   ]
  },
  {
   "cell_type": "code",
   "execution_count": 5,
   "id": "49c44830",
   "metadata": {},
   "outputs": [
    {
     "data": {
      "text/plain": [
       "9"
      ]
     },
     "execution_count": 5,
     "metadata": {},
     "output_type": "execute_result"
    }
   ],
   "source": [
    "my_hash(\"my old piano\")"
   ]
  },
  {
   "cell_type": "code",
   "execution_count": 6,
   "id": "35140f22",
   "metadata": {},
   "outputs": [
    {
     "name": "stdout",
     "output_type": "stream",
     "text": [
      "orange 1\n",
      "apple 7\n",
      "lemon 8\n",
      "grape 3\n",
      "melon 9\n"
     ]
    }
   ],
   "source": [
    "for key, value in data:\n",
    "    h = my_hash(key)\n",
    "    print(key, h)"
   ]
  },
  {
   "cell_type": "code",
   "execution_count": 14,
   "id": "fa42dce2",
   "metadata": {},
   "outputs": [
    {
     "name": "stdout",
     "output_type": "stream",
     "text": [
      "['', '', '', '', '', '', '', '', '', '']\n"
     ]
    }
   ],
   "source": [
    "# Create list of empty strings\n",
    "\n",
    "keys = [\"\"] * 10\n",
    "\n",
    "values = keys.copy()\n",
    "\n",
    "print(values)"
   ]
  },
  {
   "cell_type": "code",
   "execution_count": 15,
   "id": "1b630771",
   "metadata": {},
   "outputs": [
    {
     "name": "stdout",
     "output_type": "stream",
     "text": [
      "orange 1\n",
      "apple 7\n",
      "lemon 8\n",
      "grape 3\n",
      "melon 9\n"
     ]
    }
   ],
   "source": [
    "for key, value in data:\n",
    "    h = my_hash(key)\n",
    "    print(key, h)\n",
    "    keys[h] = key\n",
    "    values[h] = value"
   ]
  },
  {
   "cell_type": "code",
   "execution_count": 17,
   "id": "0d388d2e",
   "metadata": {},
   "outputs": [
    {
     "name": "stdout",
     "output_type": "stream",
     "text": [
      "['', 'orange', '', 'grape', '', '', '', 'apple', 'lemon', 'melon']\n",
      "\n",
      "['', 'a sweet, orange, citrus fruit', '', 'a small, sweet fruit growing in bunches', '', '', '', 'good for making cider', 'a sour, yellow citrus fruit', 'sweet and juicy']\n"
     ]
    }
   ],
   "source": [
    "print(keys)\n",
    "print()\n",
    "print(values)"
   ]
  },
  {
   "cell_type": "markdown",
   "id": "b28274e2",
   "metadata": {},
   "source": [
    "**The keys list is created by using the hash value (1, 7, 8, 3, 9) as indexes to insert the keys.**\n",
    "\n",
    "**The values list is created by inserting the values at the same index locations.**\n",
    "\n",
    "**Define a new function to get the value for each key, if it exists (otherwise `None`).**"
   ]
  },
  {
   "cell_type": "code",
   "execution_count": 18,
   "id": "1ddb25e3",
   "metadata": {},
   "outputs": [],
   "source": [
    "# Function will crash if you input empty string\n",
    "\n",
    "def get_value(k):\n",
    "    hash_code = my_hash(k)\n",
    "    \n",
    "    if values[hash_code]:\n",
    "        return values[hash_code]\n",
    "    else:\n",
    "        return None"
   ]
  },
  {
   "cell_type": "code",
   "execution_count": 20,
   "id": "68e45b1e",
   "metadata": {},
   "outputs": [
    {
     "name": "stdout",
     "output_type": "stream",
     "text": [
      "a small, sweet fruit growing in bunches\n"
     ]
    }
   ],
   "source": [
    "value = get_value(\"grape\")\n",
    "\n",
    "print(value)"
   ]
  },
  {
   "cell_type": "code",
   "execution_count": 21,
   "id": "34dfb9d7",
   "metadata": {},
   "outputs": [
    {
     "name": "stdout",
     "output_type": "stream",
     "text": [
      "None\n"
     ]
    }
   ],
   "source": [
    "value = get_value(\"tomato\")\n",
    "\n",
    "print(value)"
   ]
  },
  {
   "cell_type": "markdown",
   "id": "a00da775",
   "metadata": {},
   "source": [
    "**All of this is a simple demonstration of how hash codes act like indexes, where each index stores a unit of information, and the computer uses it as reference, i.e. a hash table. The actual Python is more sophisticated, and dictionaries use hash tables to reference keys and values at super-fast speed.**\n",
    "\n",
    "**A hash function would use all characters in a string, not just the first character. Python has a `hash()` function, which shows you exactly what hashing a string looks like:**"
   ]
  },
  {
   "cell_type": "code",
   "execution_count": 9,
   "id": "5e955315",
   "metadata": {},
   "outputs": [
    {
     "name": "stdout",
     "output_type": "stream",
     "text": [
      "orange 1950750167032421488\n",
      "apple -3915572360825357569\n",
      "lemon -191648817672587419\n",
      "grape 20133853204347415\n",
      "melon 1097979451567495088\n"
     ]
    }
   ],
   "source": [
    "for key, value in data:\n",
    "    h = hash(key)\n",
    "    print(key, h)"
   ]
  },
  {
   "cell_type": "markdown",
   "id": "c27c7a67",
   "metadata": {},
   "source": [
    "**Hash functions are used a lot in cybersecurity, where passwords and emails are stored as hash codes thereby preventing illegal hacking. There are different hashing alorithms available in Python's `hashlib` module.**\n",
    "\n",
    "**NOTE: Another term for a hash is a 'digest'.**"
   ]
  },
  {
   "cell_type": "code",
   "execution_count": 22,
   "id": "01f3f97e",
   "metadata": {},
   "outputs": [],
   "source": [
    "import hashlib"
   ]
  },
  {
   "cell_type": "code",
   "execution_count": 23,
   "id": "4098616e",
   "metadata": {},
   "outputs": [
    {
     "name": "stdout",
     "output_type": "stream",
     "text": [
      "['blake2b', 'blake2s', 'md5', 'sha1', 'sha224', 'sha256', 'sha384', 'sha3_224', 'sha3_256', 'sha3_384', 'sha3_512', 'sha512', 'shake_128', 'shake_256']\n",
      "\n",
      "['blake2b', 'blake2s', 'md4', 'md5', 'md5-sha1', 'mdc2', 'ripemd160', 'sha1', 'sha224', 'sha256', 'sha384', 'sha3_224', 'sha3_256', 'sha3_384', 'sha3_512', 'sha512', 'sha512_224', 'sha512_256', 'shake_128', 'shake_256', 'sm3', 'whirlpool']\n"
     ]
    }
   ],
   "source": [
    "# Constants available in module to name algorithms you can use\n",
    "\n",
    "print(sorted(hashlib.algorithms_guaranteed))\n",
    "print()\n",
    "print(sorted(hashlib.algorithms_available))"
   ]
  },
  {
   "cell_type": "markdown",
   "id": "613f83aa",
   "metadata": {},
   "source": [
    "## Hashing an email message\n",
    "\n",
    "**Generate a hash code for a larger string, including punctuation. The hash functions available, e.g. `sha256()`, do not work with strings, and the text needs to be encoded to utf-8 code.**"
   ]
  },
  {
   "cell_type": "code",
   "execution_count": 30,
   "id": "7a6a1e52",
   "metadata": {},
   "outputs": [
    {
     "name": "stdout",
     "output_type": "stream",
     "text": [
      "for i in range(10):\n",
      "print(i)\n",
      "\n"
     ]
    }
   ],
   "source": [
    "python_program = \"\"\"for i in range(10):\n",
    "print(i)\n",
    "\"\"\"\n",
    "\n",
    "print(python_program)"
   ]
  },
  {
   "cell_type": "code",
   "execution_count": 31,
   "id": "22e4b752",
   "metadata": {},
   "outputs": [
    {
     "name": "stdout",
     "output_type": "stream",
     "text": [
      "102 f\n",
      "111 o\n",
      "114 r\n",
      "32  \n",
      "105 i\n",
      "32  \n",
      "105 i\n",
      "110 n\n",
      "32  \n",
      "114 r\n",
      "97 a\n",
      "110 n\n",
      "103 g\n",
      "101 e\n",
      "40 (\n",
      "49 1\n",
      "48 0\n",
      "41 )\n",
      "58 :\n",
      "10 \n",
      "\n",
      "112 p\n",
      "114 r\n",
      "105 i\n",
      "110 n\n",
      "116 t\n",
      "40 (\n",
      "105 i\n",
      "41 )\n",
      "10 \n",
      "\n"
     ]
    }
   ],
   "source": [
    "for b in python_program.encode('utf8'):\n",
    "    print(b, chr(b))"
   ]
  },
  {
   "cell_type": "markdown",
   "id": "d1974dba",
   "metadata": {},
   "source": [
    "**As you can see, the number 32 represents whitespace character, 10 is a new line, 102 is the letter f, etc.**\n",
    "\n",
    "**NOTE: The `chr()` function returns the character that the unicode number represents.**"
   ]
  },
  {
   "cell_type": "code",
   "execution_count": 32,
   "id": "61e47e89",
   "metadata": {},
   "outputs": [
    {
     "name": "stdout",
     "output_type": "stream",
     "text": [
      "SHA256: 5033b46b90e4250ce294d67078ad62b516b4b65964488e4605c7d216263c1565\n"
     ]
    }
   ],
   "source": [
    "original_hash = hashlib.sha256(python_program.encode('utf8'))\n",
    "\n",
    "print(f\"SHA256: {original_hash.hexdigest()}\")"
   ]
  },
  {
   "cell_type": "markdown",
   "id": "343baeac",
   "metadata": {},
   "source": [
    "**The `hexdigest()` function produces a hexidecimal representation - 256 bit or 32 bytes number - of the secure hash. You can use this code to check whether the data has been modified in any way, i.e. tampered with.**"
   ]
  },
  {
   "cell_type": "code",
   "execution_count": 33,
   "id": "a7a7995f",
   "metadata": {},
   "outputs": [
    {
     "name": "stdout",
     "output_type": "stream",
     "text": [
      "for i in range(10):\n",
      "print(i)\n",
      "print('code change')\n"
     ]
    }
   ],
   "source": [
    "python_program += \"print('code change')\"\n",
    "\n",
    "print(python_program)"
   ]
  },
  {
   "cell_type": "code",
   "execution_count": 35,
   "id": "6d7dbb51",
   "metadata": {},
   "outputs": [
    {
     "name": "stdout",
     "output_type": "stream",
     "text": [
      "SHA256: 0b4bd931add7a7164314f8feb7927ebca575417f8650b1f6069ba783a3a0f9e2\n"
     ]
    }
   ],
   "source": [
    "new_hash = hashlib.sha256(python_program.encode('utf8'))\n",
    "\n",
    "print(f\"SHA256: {new_hash.hexdigest()}\")"
   ]
  },
  {
   "cell_type": "markdown",
   "id": "280414ab",
   "metadata": {},
   "source": [
    "**You can easily write a program that uses these functions to check hashes for you:**"
   ]
  },
  {
   "cell_type": "code",
   "execution_count": 36,
   "id": "5677d753",
   "metadata": {},
   "outputs": [
    {
     "name": "stdout",
     "output_type": "stream",
     "text": [
      "The code has been modified\n"
     ]
    }
   ],
   "source": [
    "if new_hash.hexdigest() == original_hash.hexdigest():\n",
    "    print(\"The code has not been changed\")\n",
    "else:\n",
    "    print(\"The code has been modified\")"
   ]
  },
  {
   "cell_type": "code",
   "execution_count": null,
   "id": "262d7701",
   "metadata": {},
   "outputs": [],
   "source": []
  }
 ],
 "metadata": {
  "kernelspec": {
   "display_name": "Python 3 (ipykernel)",
   "language": "python",
   "name": "python3"
  },
  "language_info": {
   "codemirror_mode": {
    "name": "ipython",
    "version": 3
   },
   "file_extension": ".py",
   "mimetype": "text/x-python",
   "name": "python",
   "nbconvert_exporter": "python",
   "pygments_lexer": "ipython3",
   "version": "3.9.17"
  }
 },
 "nbformat": 4,
 "nbformat_minor": 5
}
