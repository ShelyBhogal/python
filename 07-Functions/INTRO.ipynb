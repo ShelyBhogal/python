{
 "cells": [
  {
   "cell_type": "markdown",
   "id": "69448824",
   "metadata": {},
   "source": [
    "# Introduction to Functions\n",
    "\n",
    "**Since you can build your own functions (not methods), it is the most important step in learning about functions and how they work. Function names are like variable names, they should be lowercase and meaningful. If you need to share your code with other programmers, or even remember what you did in the past, you should add supporting documentation for custom functions using `docstring`.**\n",
    "\n",
    "**NOTE: In Python styleguide PEP8, it is recommended to leave two lines between function definition and function call.**"
   ]
  },
  {
   "cell_type": "code",
   "execution_count": 1,
   "id": "a372b503",
   "metadata": {},
   "outputs": [],
   "source": [
    "def multiply(a, b):\n",
    "    \"\"\"\n",
    "    Multiply 2 numbers.\n",
    " \n",
    "    Although function is intended to multiply 2 numbers,\n",
    "    you can also use it to multiply a sequence. If you pass\n",
    "    a string, for example, as the first argument, you'll get\n",
    "    the string repeated `b` times as the returned value.\n",
    " \n",
    "    Params: \n",
    "        a: The first number to multiply.\n",
    "        b: The number to multiply `a` by.\n",
    "    \n",
    "    Returns: The product of `a` and `b`.\n",
    "    \"\"\"\n",
    "    result = a * b\n",
    "    return result"
   ]
  },
  {
   "cell_type": "code",
   "execution_count": 2,
   "id": "1db3198d",
   "metadata": {},
   "outputs": [
    {
     "data": {
      "text/plain": [
       "2824"
      ]
     },
     "execution_count": 2,
     "metadata": {},
     "output_type": "execute_result"
    }
   ],
   "source": [
    "multiply(1412, 2)"
   ]
  },
  {
   "cell_type": "markdown",
   "id": "cda811e4",
   "metadata": {},
   "source": [
    "**All functions should return a value. If you do not explicitly specify `return` within the function, then the function returns `None`. There are some situations when this is useful, e.g. to execute an action like sort a list.**\n",
    "\n",
    "**The function call alters the code execution. Only when the function is called will the function code be executed, even though it must be defined before in the script. The result only exists within the function. So the interpreter jumps to the function to execute then jumps back to where the function was called.**"
   ]
  },
  {
   "cell_type": "code",
   "execution_count": 4,
   "id": "6ecbc033",
   "metadata": {},
   "outputs": [
    {
     "name": "stdout",
     "output_type": "stream",
     "text": [
      "15 x 1 = 15\n",
      "15 x 2 = 30\n",
      "15 x 3 = 45\n",
      "15 x 4 = 60\n"
     ]
    }
   ],
   "source": [
    "for value in range(1, 5):\n",
    "    fifteen_times = multiply(15, value)\n",
    "    print(\"15 x {} = {}\".format(value, fifteen_times))"
   ]
  },
  {
   "cell_type": "markdown",
   "id": "9d1af488",
   "metadata": {},
   "source": [
    "**In the `for` loop above, the function was called four times, which means the interpreter jumped back to the function in the script each time to multiply the values.**"
   ]
  },
  {
   "cell_type": "code",
   "execution_count": 5,
   "id": "a72c37ce",
   "metadata": {},
   "outputs": [],
   "source": [
    "def is_palindrome(string):\n",
    "    backwards = string[::-1]\n",
    "    return backwards == string"
   ]
  },
  {
   "cell_type": "code",
   "execution_count": 7,
   "id": "7063ee73",
   "metadata": {},
   "outputs": [
    {
     "data": {
      "text/plain": [
       "True"
      ]
     },
     "execution_count": 7,
     "metadata": {},
     "output_type": "execute_result"
    }
   ],
   "source": [
    "is_palindrome(\"deified\")"
   ]
  },
  {
   "cell_type": "code",
   "execution_count": 8,
   "id": "a6f36dd6",
   "metadata": {},
   "outputs": [
    {
     "data": {
      "text/plain": [
       "False"
      ]
     },
     "execution_count": 8,
     "metadata": {},
     "output_type": "execute_result"
    }
   ],
   "source": [
    "is_palindrome(\"lordly\")"
   ]
  },
  {
   "cell_type": "markdown",
   "id": "ef862d9a",
   "metadata": {},
   "source": [
    "**You can write the palindrome function all on one line. It is more concise and more likely in real-world coding.**\n",
    "\n",
    "**NOTE: When using lowercase or casefold on strings, this should be applied when the strings are being compared, i.e. within the function body.**"
   ]
  },
  {
   "cell_type": "code",
   "execution_count": 3,
   "id": "f75b6e5a",
   "metadata": {},
   "outputs": [],
   "source": [
    "def is_palindrome(string):\n",
    "    string = string.casefold()\n",
    "    return string[::-1] == string"
   ]
  },
  {
   "cell_type": "code",
   "execution_count": 18,
   "id": "54e6cced",
   "metadata": {},
   "outputs": [
    {
     "name": "stdout",
     "output_type": "stream",
     "text": [
      "Please enter word: Kayak\n",
      "Kayak is a palindrome\n"
     ]
    }
   ],
   "source": [
    "word = input(\"Please enter word: \")\n",
    "\n",
    "if is_palindrome(word):\n",
    "    print(\"{} is a palindrome\".format(word))\n",
    "else:\n",
    "    print(\"{} is not a palindrome\".format(word))"
   ]
  },
  {
   "cell_type": "code",
   "execution_count": 62,
   "id": "1572bc1f",
   "metadata": {},
   "outputs": [],
   "source": [
    "def palindrome_sentence(text):\n",
    "    joined = \"\".join(ch for ch in text.casefold() if ch.isalnum())\n",
    "    return joined[::-1] == joined"
   ]
  },
  {
   "cell_type": "code",
   "execution_count": 63,
   "id": "2a402ca3",
   "metadata": {},
   "outputs": [
    {
     "data": {
      "text/plain": [
       "True"
      ]
     },
     "execution_count": 63,
     "metadata": {},
     "output_type": "execute_result"
    }
   ],
   "source": [
    "palindrome_sentence(\"Cigar? Toss it in a can. It is so tragic.\")"
   ]
  },
  {
   "cell_type": "code",
   "execution_count": 65,
   "id": "061d4a1c",
   "metadata": {},
   "outputs": [
    {
     "data": {
      "text/plain": [
       "False"
      ]
     },
     "execution_count": 65,
     "metadata": {},
     "output_type": "execute_result"
    }
   ],
   "source": [
    "palindrome_sentence(\"I went to the doctor, I\")"
   ]
  },
  {
   "cell_type": "code",
   "execution_count": 66,
   "id": "571ffc4b",
   "metadata": {},
   "outputs": [
    {
     "name": "stdout",
     "output_type": "stream",
     "text": [
      "Please enter sentence: Do geese see God?\n",
      "'Do geese see God?' is a palindrome\n"
     ]
    }
   ],
   "source": [
    "sentence = input(\"Please enter sentence: \")\n",
    "\n",
    "if palindrome_sentence(sentence):\n",
    "    print(\"'{}' is a palindrome\".format(sentence))\n",
    "else:\n",
    "    print(\"'{}' is not a palindrome\".format(sentence))"
   ]
  },
  {
   "cell_type": "markdown",
   "id": "f34ee1ec",
   "metadata": {},
   "source": [
    "**You can call a function within another function definition, like calling `is_palindrome` function to test string in `palindrome_sentence` function, so that you save duplicating code. It is also a good way to identify any bugs in your code, since you are using the function in different parts of the script.** "
   ]
  },
  {
   "cell_type": "code",
   "execution_count": 4,
   "id": "73fc87f0",
   "metadata": {},
   "outputs": [],
   "source": [
    "def palindrome_sentence(text):\n",
    "    joined = \"\".join(ch for ch in text.casefold() if ch.isalnum())\n",
    "    return is_palindrome(joined)"
   ]
  },
  {
   "cell_type": "code",
   "execution_count": 5,
   "id": "ecc5a207",
   "metadata": {},
   "outputs": [
    {
     "data": {
      "text/plain": [
       "True"
      ]
     },
     "execution_count": 5,
     "metadata": {},
     "output_type": "execute_result"
    }
   ],
   "source": [
    "palindrome_sentence(\"Cigar? Toss it in a can. It is so tragic.\")"
   ]
  },
  {
   "cell_type": "code",
   "execution_count": 6,
   "id": "11b30deb",
   "metadata": {},
   "outputs": [
    {
     "data": {
      "text/plain": [
       "False"
      ]
     },
     "execution_count": 6,
     "metadata": {},
     "output_type": "execute_result"
    }
   ],
   "source": [
    "palindrome_sentence(\"I went to the doctor, I\")"
   ]
  },
  {
   "cell_type": "markdown",
   "id": "b7ad3082",
   "metadata": {},
   "source": [
    "## Challenge\n",
    "\n",
    "**Write a function that sums even or odd numbers in a given range, i.e. parameter `n` is positive number range (>0) and parameter `t` is either 'e' for even numbers or 'o' for odd numbers.**\n",
    "\n",
    "**If `t == 'e'`, return sum of even numbers in range less than `n`**\n",
    "\n",
    "**If `t == 'o'`, return sum of odd numbers in range less than `n`**\n",
    "\n",
    "**If t is anything else, return -1, e.g. `sum_eo(11, 'spam')`**"
   ]
  },
  {
   "cell_type": "code",
   "execution_count": 7,
   "id": "435f94f5",
   "metadata": {},
   "outputs": [],
   "source": [
    "def sum_eo(n, t):\n",
    "    total_evens = 0\n",
    "    total_odds = 0\n",
    "    \n",
    "    if t == 'e':\n",
    "        for i in range(n):\n",
    "            if i % 2 == 0:\n",
    "                total_evens += i\n",
    "        return total_evens\n",
    "    elif t == 'o':\n",
    "        for i in range(n):\n",
    "            if i % 2 != 0:\n",
    "                total_odds += i\n",
    "        return total_odds\n",
    "    else:\n",
    "        return -1"
   ]
  },
  {
   "cell_type": "code",
   "execution_count": 8,
   "id": "33977932",
   "metadata": {},
   "outputs": [
    {
     "data": {
      "text/plain": [
       "20"
      ]
     },
     "execution_count": 8,
     "metadata": {},
     "output_type": "execute_result"
    }
   ],
   "source": [
    "sum_eo(10, 'e')"
   ]
  },
  {
   "cell_type": "code",
   "execution_count": 9,
   "id": "3ffccf83",
   "metadata": {},
   "outputs": [
    {
     "data": {
      "text/plain": [
       "9"
      ]
     },
     "execution_count": 9,
     "metadata": {},
     "output_type": "execute_result"
    }
   ],
   "source": [
    "sum_eo(7, 'o')"
   ]
  },
  {
   "cell_type": "code",
   "execution_count": 10,
   "id": "da06cf10",
   "metadata": {},
   "outputs": [
    {
     "data": {
      "text/plain": [
       "-1"
      ]
     },
     "execution_count": 10,
     "metadata": {},
     "output_type": "execute_result"
    }
   ],
   "source": [
    "sum_eo(11, 'spam')"
   ]
  },
  {
   "cell_type": "markdown",
   "id": "0de391a7",
   "metadata": {},
   "source": [
    "**Note that in this function, you are returning a single value, even though that value is based on several conditions.**\n",
    "\n",
    "## Documentation for your function\n",
    "\n",
    "**Generally, you cannot know how another person's function works straight away. Without supporting documentation, it becomes tiring work to read through the code and test the function. It also helps when you come back to look at the function years later.**\n",
    "\n",
    "**WRITE DOCUMENTATION BEFORE WRITING THE CODE!**\n",
    "\n",
    "**Python `docstrings` document the function within the body itself. The styleguide for writing a docstring is found in PEP8 documentation, but essentially, you add the text within three double quotation marks immediately after the `def` statement, and directly before the code starts. Most IDEs will recognise this documentation as inherent function behaviour and print out as hovering footnote on the screen or text in editor console.**"
   ]
  },
  {
   "cell_type": "code",
   "execution_count": 1,
   "id": "831877bf",
   "metadata": {},
   "outputs": [],
   "source": [
    "def sum_eo(n, t):\n",
    "    \"\"\"\n",
    "    Args: \n",
    "        n is positive number (> 0), \n",
    "        t is text input, 'e' for even numbers or 'o' for odd numbers\n",
    "        \n",
    "    Returns:\n",
    "        If t == 'e', returns sum of even numbers in range less than n\n",
    "        If t == 'o', returns sum of odd numbers in range less than n\n",
    "        \n",
    "    Examples:\n",
    "        sum_eo(11, 'spam') returns -1\n",
    "    \"\"\"\n",
    "    total_evens = 0\n",
    "    total_odds = 0\n",
    "    \n",
    "    if t == 'e':\n",
    "        for i in range(n):\n",
    "            if i % 2 == 0:\n",
    "                total_evens += i\n",
    "        return total_evens\n",
    "    elif t == 'o':\n",
    "        for i in range(n):\n",
    "            if i % 2 != 0:\n",
    "                total_odds += i\n",
    "        return total_odds\n",
    "    else:\n",
    "        return -1"
   ]
  },
  {
   "cell_type": "markdown",
   "id": "a0650443",
   "metadata": {},
   "source": [
    "**Most IDEs automatically insert the `docstring` structure once you type `\"\"\"\"\"\"` into the editor console, i.e. it is an attribute of the Python function. In Jupyter Notebook, you need to manually add the `Args` and `Returns` labels with clear indentation. You can also include actual examples in the docstring, depending on how complicated the function requirements are. It is not always clear how to pass arguments or even use the function properly, and every single programmer regrets not documenting.**"
   ]
  },
  {
   "cell_type": "code",
   "execution_count": 2,
   "id": "3ba7ac71",
   "metadata": {},
   "outputs": [
    {
     "data": {
      "text/plain": [
       "4"
      ]
     },
     "execution_count": 2,
     "metadata": {},
     "output_type": "execute_result"
    }
   ],
   "source": [
    "# 1 + 3\n",
    "\n",
    "sum_eo(5, 'o')"
   ]
  },
  {
   "cell_type": "markdown",
   "id": "148515f0",
   "metadata": {},
   "source": [
    "**If you want a function to be available to all notebooks at any time, without copying-and-pasting the definition every time, you can turn the function into a module, i.e. `.py` module file. That way, you can import the function into your notebook when needed. This is not possible with Jupyter notebook since you can only create ipynb files.**\n",
    "\n",
    "**You can print out the docstring (documentation) for your function if you execute the following instructions after the function definition:**\n",
    "\n",
    "    print(input.__doc__)\n",
    "    print(\"*\" * 80)\n",
    "    print(funct.__doc__)\n",
    "    print(\"*\" * 80)"
   ]
  },
  {
   "cell_type": "code",
   "execution_count": 3,
   "id": "0484b598",
   "metadata": {},
   "outputs": [
    {
     "name": "stdout",
     "output_type": "stream",
     "text": [
      "Forward raw_input to frontends\n",
      "\n",
      "        Raises\n",
      "        ------\n",
      "        StdinNotImplementedError if active frontend doesn't support stdin.\n",
      "        \n",
      "********************************************************************************\n",
      "\n",
      "    Args: \n",
      "        n is positive number (> 0), \n",
      "        t is text input, 'e' for even numbers or 'o' for odd numbers\n",
      "        \n",
      "    Returns:\n",
      "        If t == 'e', returns sum of even numbers in range less than n\n",
      "        If t == 'o', returns sum of odd numbers in range less than n\n",
      "        \n",
      "    Examples:\n",
      "        sum_eo(11, 'spam') returns -1\n",
      "    \n",
      "********************************************************************************\n"
     ]
    }
   ],
   "source": [
    "def sum_eo(n, t):\n",
    "    \"\"\"\n",
    "    Args: \n",
    "        n is positive number (> 0), \n",
    "        t is text input, 'e' for even numbers or 'o' for odd numbers\n",
    "        \n",
    "    Returns:\n",
    "        If t == 'e', returns sum of even numbers in range less than n\n",
    "        If t == 'o', returns sum of odd numbers in range less than n\n",
    "        \n",
    "    Examples:\n",
    "        sum_eo(11, 'spam') returns -1\n",
    "    \"\"\"\n",
    "    total_evens = 0\n",
    "    total_odds = 0\n",
    "    \n",
    "    if t == 'e':\n",
    "        for i in range(n):\n",
    "            if i % 2 == 0:\n",
    "                total_evens += i\n",
    "        return total_evens\n",
    "    elif t == 'o':\n",
    "        for i in range(n):\n",
    "            if i % 2 != 0:\n",
    "                total_odds += i\n",
    "        return total_odds\n",
    "    else:\n",
    "        return -1\n",
    "    \n",
    "\n",
    "\n",
    "print(input.__doc__)\n",
    "print(\"*\" * 80)\n",
    "print(sum_eo.__doc__)\n",
    "print(\"*\" * 80)"
   ]
  },
  {
   "cell_type": "markdown",
   "id": "25ef5e29",
   "metadata": {},
   "source": [
    "**FANCY! However, a much easier way is to use Python's `help()` function:**"
   ]
  },
  {
   "cell_type": "code",
   "execution_count": 4,
   "id": "d43889c7",
   "metadata": {},
   "outputs": [
    {
     "name": "stdout",
     "output_type": "stream",
     "text": [
      "Help on function sum_eo in module __main__:\n",
      "\n",
      "sum_eo(n, t)\n",
      "    Args: \n",
      "        n is positive number (> 0), \n",
      "        t is text input, 'e' for even numbers or 'o' for odd numbers\n",
      "        \n",
      "    Returns:\n",
      "        If t == 'e', returns sum of even numbers in range less than n\n",
      "        If t == 'o', returns sum of odd numbers in range less than n\n",
      "        \n",
      "    Examples:\n",
      "        sum_eo(11, 'spam') returns -1\n",
      "\n"
     ]
    }
   ],
   "source": [
    "help(sum_eo)"
   ]
  },
  {
   "cell_type": "markdown",
   "id": "184e28d2",
   "metadata": {},
   "source": [
    "## Function Annotation\n",
    "\n",
    "**Function annotation is a type of hint given to programmers on how to execute a function properly, i.e. how to pass the function arguments. Wherever the function is called, you should see the annotation in most IDEs (like Docstring).**\n",
    "\n",
    "                def funct(param_1: datatype, param_2: datatype, ...) -> return_type:\n",
    "                    # Function body\n",
    "\n",
    "**Function annotation is used in large programs.**\n",
    "\n",
    "**NOTE: When annotating code other than functions, they are referred to as 'type hints'.**"
   ]
  },
  {
   "cell_type": "code",
   "execution_count": 1,
   "id": "4c9f7b2b",
   "metadata": {},
   "outputs": [],
   "source": [
    "# Function argument is a string that returns a Boolean\n",
    "\n",
    "def is_palindrome(string: str) -> bool:\n",
    "    string = string.casefold()\n",
    "    return string[::-1] == string"
   ]
  },
  {
   "cell_type": "code",
   "execution_count": null,
   "id": "dac9248b",
   "metadata": {},
   "outputs": [],
   "source": [
    "# SHIFT+TAB in function to see annotation\n",
    "\n",
    "p = is_palindrome()"
   ]
  },
  {
   "cell_type": "markdown",
   "id": "fa097c97",
   "metadata": {},
   "source": [
    "**Default arguments declare the default value with the datatype annotation:**\n",
    "\n",
    "               def funct(param_1: datatype = value, ...) -> return_type:"
   ]
  },
  {
   "cell_type": "code",
   "execution_count": 4,
   "id": "2f2b03b4",
   "metadata": {},
   "outputs": [],
   "source": [
    "# Function arguments have default values with no return value\n",
    "\n",
    "def banner_text(text: str = \" \", banner_width: int = 80) -> None:\n",
    "    \"\"\"\n",
    "    Produce banner with '*' around centered text for display\n",
    "    \n",
    "    Params:\n",
    "        `text` is string argument for one line of text, where\n",
    "        empty function call leads to blank line. Input '*' before\n",
    "        and after text to create banner edges.\n",
    "        \n",
    "        `banner_width` is integer argument to adjust banner width.\n",
    "        ValueError raised if string is too long to fit \n",
    "        \n",
    "    \"\"\"\n",
    "    if len(text) > banner_width - 4:\n",
    "        raise ValueError(\"'{0}' is larger than specified width {1}\".format(text, banner_width))\n",
    "    \n",
    "    if text == '*':\n",
    "        print(\"*\" * banner_width)\n",
    "    else:\n",
    "        centered_text = text.center(banner_width - 4)\n",
    "        output_string = \"**{0}**\".format(centered_text)\n",
    "        print(output_string)"
   ]
  },
  {
   "cell_type": "code",
   "execution_count": null,
   "id": "e34d80f7",
   "metadata": {},
   "outputs": [],
   "source": [
    "f = banner_text()"
   ]
  },
  {
   "cell_type": "markdown",
   "id": "1d2b8470",
   "metadata": {},
   "source": [
    "**Either annotate all function arguments, or none at all.**"
   ]
  },
  {
   "cell_type": "code",
   "execution_count": null,
   "id": "600b1e4b",
   "metadata": {},
   "outputs": [],
   "source": []
  }
 ],
 "metadata": {
  "kernelspec": {
   "display_name": "Python 3 (ipykernel)",
   "language": "python",
   "name": "python3"
  },
  "language_info": {
   "codemirror_mode": {
    "name": "ipython",
    "version": 3
   },
   "file_extension": ".py",
   "mimetype": "text/x-python",
   "name": "python",
   "nbconvert_exporter": "python",
   "pygments_lexer": "ipython3",
   "version": "3.9.17"
  }
 },
 "nbformat": 4,
 "nbformat_minor": 5
}
