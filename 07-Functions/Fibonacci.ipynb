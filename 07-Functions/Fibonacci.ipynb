{
 "cells": [
  {
   "cell_type": "markdown",
   "id": "d3fabbba",
   "metadata": {},
   "source": [
    "# The Fibonacci Sequence\n",
    "\n",
    "**The Fibonacci Sequence is a theory of spiralling numbers that appears in nature, something that animals and plants use without computers. They are arranged with characteristics following Fibonacci sequence.**\n",
    "\n",
    "![Fibonacci Sequence](fibonacci.png)\n",
    "\n",
    "**In terms of mathematics, the Fibonacci numbers are calculated by building squares where you add one to each side as the squares grow, i.e. adding the previous two numbers:**\n",
    "\n",
    "**i.e.  0 + 0 = `0`, 0 + 1 = `1`, 1 + 1 = `2`, 1 + 2 = `3`, 2 + 3 = `5`, 3 + 5 = `8`, etc.**\n",
    "\n",
    "![Fibonacci Numbers](fibonacci_nums.png)\n",
    "\n",
    "**The beginning of the sequence is as follows:**\n",
    "\n",
    "    0, 1, 1, 2, 3, 5, 8, 13, 21, 34, 55, 89, 144, ...\n",
    "    \n",
    "**NOTE: This exercise also explains about function annotations and type hints.**"
   ]
  },
  {
   "cell_type": "code",
   "execution_count": 7,
   "id": "504a09d2",
   "metadata": {},
   "outputs": [],
   "source": [
    "def fibonacci(n):\n",
    "    \"\"\"\n",
    "    Params:\n",
    "        n is positive number (> 0)\n",
    "    \n",
    "    Returns: The `n`th Fibonacci number \n",
    "    \"\"\"\n",
    "    if 0 <= n <= 1:\n",
    "        return n\n",
    "    \n",
    "    n_1, n_2 = (1, 0)\n",
    "    \n",
    "    result = None\n",
    "    \n",
    "    for r in range(n - 1):\n",
    "        result = n_2 + n_1\n",
    "        n_2 = n_1\n",
    "        n_1 = result\n",
    "        \n",
    "    return result"
   ]
  },
  {
   "cell_type": "code",
   "execution_count": 11,
   "id": "0c5465a1",
   "metadata": {},
   "outputs": [
    {
     "data": {
      "text/plain": [
       "0"
      ]
     },
     "execution_count": 11,
     "metadata": {},
     "output_type": "execute_result"
    }
   ],
   "source": [
    "fibonacci(0)"
   ]
  },
  {
   "cell_type": "code",
   "execution_count": 12,
   "id": "72d7b659",
   "metadata": {},
   "outputs": [
    {
     "data": {
      "text/plain": [
       "1"
      ]
     },
     "execution_count": 12,
     "metadata": {},
     "output_type": "execute_result"
    }
   ],
   "source": [
    "fibonacci(1)"
   ]
  },
  {
   "cell_type": "code",
   "execution_count": 13,
   "id": "942ffc8c",
   "metadata": {},
   "outputs": [
    {
     "data": {
      "text/plain": [
       "5"
      ]
     },
     "execution_count": 13,
     "metadata": {},
     "output_type": "execute_result"
    }
   ],
   "source": [
    "fibonacci(5)"
   ]
  },
  {
   "cell_type": "markdown",
   "id": "145938c5",
   "metadata": {},
   "source": [
    "**NOTE: If you pass a negative number, the program will return None result and stop, hence why documentation is so useful.**"
   ]
  },
  {
   "cell_type": "code",
   "execution_count": 14,
   "id": "4a093cf0",
   "metadata": {},
   "outputs": [
    {
     "name": "stdout",
     "output_type": "stream",
     "text": [
      "0 0\n",
      "1 1\n",
      "2 1\n",
      "3 2\n",
      "4 3\n",
      "5 5\n",
      "6 8\n",
      "7 13\n",
      "8 21\n",
      "9 34\n",
      "10 55\n",
      "11 89\n",
      "12 144\n",
      "13 233\n",
      "14 377\n",
      "15 610\n",
      "16 987\n",
      "17 1597\n",
      "18 2584\n",
      "19 4181\n",
      "20 6765\n",
      "21 10946\n",
      "22 17711\n",
      "23 28657\n",
      "24 46368\n",
      "25 75025\n",
      "26 121393\n",
      "27 196418\n",
      "28 317811\n",
      "29 514229\n",
      "30 832040\n",
      "31 1346269\n",
      "32 2178309\n",
      "33 3524578\n",
      "34 5702887\n",
      "35 9227465\n"
     ]
    }
   ],
   "source": [
    "# Print Fibonacci sequence upto 35\n",
    "\n",
    "for i in range(36):\n",
    "    print(i, fibonacci(i))"
   ]
  },
  {
   "cell_type": "code",
   "execution_count": null,
   "id": "14afa796",
   "metadata": {},
   "outputs": [],
   "source": []
  }
 ],
 "metadata": {
  "kernelspec": {
   "display_name": "Python 3 (ipykernel)",
   "language": "python",
   "name": "python3"
  },
  "language_info": {
   "codemirror_mode": {
    "name": "ipython",
    "version": 3
   },
   "file_extension": ".py",
   "mimetype": "text/x-python",
   "name": "python",
   "nbconvert_exporter": "python",
   "pygments_lexer": "ipython3",
   "version": "3.9.17"
  }
 },
 "nbformat": 4,
 "nbformat_minor": 5
}
