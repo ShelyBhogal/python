{
 "cells": [
  {
   "cell_type": "markdown",
   "id": "81834d8f",
   "metadata": {},
   "source": [
    "# Args, or multiple Positional Arguments\n",
    "\n",
    "**When you want to pass an unlimited number of arguments to a function to be processed, rather than calling the function for each individual input, you can use `*args` parameter.**\n",
    "\n",
    "    def funct(*args):\n",
    "        # Function body\n",
    "        \n",
    "**A well-known example of a built-in function with `*args` is Python `print()` function:**\n",
    "\n",
    "    print(\"Hello\", \"Earth\", \"People\")"
   ]
  },
  {
   "cell_type": "code",
   "execution_count": 1,
   "id": "f87ecf5a",
   "metadata": {},
   "outputs": [],
   "source": [
    "numbers = (1, 2, 3, 4, 5, 6)"
   ]
  },
  {
   "cell_type": "code",
   "execution_count": 2,
   "id": "aadb2e8c",
   "metadata": {},
   "outputs": [
    {
     "name": "stdout",
     "output_type": "stream",
     "text": [
      "(1, 2, 3, 4, 5, 6)\n",
      "1 2 3 4 5 6\n"
     ]
    }
   ],
   "source": [
    "print(numbers)\n",
    "\n",
    "print(*numbers)"
   ]
  },
  {
   "cell_type": "markdown",
   "id": "2afe535e",
   "metadata": {},
   "source": [
    "**The first function call treats the numbers tuple as single input and prints as one. The second function call 'unpacks' the tuple of numbers and prints each number, same as if you passed each number individually to the function.**"
   ]
  },
  {
   "cell_type": "code",
   "execution_count": 3,
   "id": "18cc1a0a",
   "metadata": {},
   "outputs": [
    {
     "name": "stdout",
     "output_type": "stream",
     "text": [
      "1 2 3 4 5 6\n"
     ]
    }
   ],
   "source": [
    "print(1, 2, 3, 4, 5, 6)"
   ]
  },
  {
   "cell_type": "code",
   "execution_count": 3,
   "id": "eedfef00",
   "metadata": {},
   "outputs": [
    {
     "name": "stdout",
     "output_type": "stream",
     "text": [
      "<class 'tuple'>\n",
      "('hello', 'planet', 'earth', 'take', 'me', 'to', 'your', 'leader')\n",
      "<class 'tuple'>\n",
      "(1, 2, 3, 4, 5, 6)\n"
     ]
    }
   ],
   "source": [
    "def build_tuple(*args):\n",
    "    return args\n",
    "\n",
    "\n",
    "message = build_tuple(\"hello\", \"planet\", \"earth\", \"take\", \"me\", \"to\", \"your\", \"leader\")\n",
    "\n",
    "print(type(message))\n",
    "print(message)\n",
    "\n",
    "numbers = build_tuple(1, 2, 3, 4, 5, 6)\n",
    "\n",
    "print(type(numbers))\n",
    "print(numbers)"
   ]
  },
  {
   "cell_type": "markdown",
   "id": "a9bb8e3f",
   "metadata": {},
   "source": [
    "**The formal definition for `print()` function:**\n",
    "\n",
    "`print(*objects, sep=' ', end='\\n', file=None, flush=False)`\n",
    "\n",
    "**The function prints `*objects` to a text stream `file` (IDE display by default), separated by a `sep` character, and terminated by an `end` character.**\n",
    "\n",
    "**The varying number of print objects are simply listed in the function call, but parameters `sep`, `end`, `file`, and `flush`, if required, must be passed with their keyword arguments.**"
   ]
  },
  {
   "cell_type": "code",
   "execution_count": 4,
   "id": "485dedbb",
   "metadata": {},
   "outputs": [
    {
     "name": "stdout",
     "output_type": "stream",
     "text": [
      "(1, 2, 3, 4, 5, 6)\n",
      "1;2;3;4;5;6\n",
      "1;2;3;4;5;6\n"
     ]
    }
   ],
   "source": [
    "print(numbers, sep=';')\n",
    "\n",
    "print(*numbers, sep=';')\n",
    "\n",
    "print(1, 2, 3, 4, 5, 6, sep=';')"
   ]
  },
  {
   "cell_type": "markdown",
   "id": "9490479e",
   "metadata": {},
   "source": [
    "**The `*args` functionality is very useful when you want to specify that a parameter is a sequence to be 'unpacked'. The `*` replaces the parameter with an unpacked tuple.**"
   ]
  },
  {
   "cell_type": "code",
   "execution_count": 5,
   "id": "7cffd800",
   "metadata": {},
   "outputs": [],
   "source": [
    "def test_star(*args):\n",
    "    # Python knows this is tuple due to *\n",
    "    print(args)\n",
    "    \n",
    "    for x in args:\n",
    "        print(x)"
   ]
  },
  {
   "cell_type": "code",
   "execution_count": 6,
   "id": "c84284e7",
   "metadata": {},
   "outputs": [
    {
     "name": "stdout",
     "output_type": "stream",
     "text": [
      "(1, 2, 3, 4, 5, 6)\n",
      "1\n",
      "2\n",
      "3\n",
      "4\n",
      "5\n",
      "6\n"
     ]
    }
   ],
   "source": [
    "test_star(1, 2, 3, 4, 5, 6)"
   ]
  },
  {
   "cell_type": "code",
   "execution_count": 7,
   "id": "1ba189e9",
   "metadata": {},
   "outputs": [
    {
     "name": "stdout",
     "output_type": "stream",
     "text": [
      "()\n"
     ]
    }
   ],
   "source": [
    "# It even runs with zero arguments - returns an empty tuple\n",
    "\n",
    "test_star()"
   ]
  },
  {
   "cell_type": "markdown",
   "id": "a887e4d2",
   "metadata": {},
   "source": [
    "## Add `*args` to `colour_print()` function\n",
    "\n",
    "**The original `colour_print()` function allows you to pass text with one formatting rule only, e.g. blue. If you want to add multiple formatting rules, e.g. blue in bold and underlined, you need to pass the effects as `*args` instead.**\n",
    "\n",
    "**The function accepts a text string and multiple string formats, which are defined by hexidecimal codes to be joined.**"
   ]
  },
  {
   "cell_type": "code",
   "execution_count": 9,
   "id": "b81fad94",
   "metadata": {},
   "outputs": [],
   "source": [
    "BLACK = '\\u001b[30m'\n",
    "RED = '\\u001b[31m'\n",
    "GREEN = '\\u001b[32m'\n",
    "YELLOW = '\\u001b[33m'\n",
    "BLUE = '\\u001b[34m'\n",
    "MAGENTA = '\\u001b[35m'\n",
    "CYAN = '\\u001b[36m'\n",
    "WHITE = '\\u001b[37m'\n",
    "RESET = '\\u001b[0m'\n",
    " \n",
    "BOLD = '\\u001b[1m'\n",
    "UNDERLINE = '\\u001b[4m'\n",
    "REVERSE = '\\u001b[7m'"
   ]
  },
  {
   "cell_type": "markdown",
   "id": "089cf905",
   "metadata": {},
   "source": [
    "**The original function accepts single text string and single format string:**\n",
    "\n",
    "    def colour_print(text, effect):\n",
    "        output_text = \"{0}{1}\".format(effect, text)\n",
    "        print(output_text)"
   ]
  },
  {
   "cell_type": "code",
   "execution_count": 15,
   "id": "332cfd9a",
   "metadata": {},
   "outputs": [],
   "source": [
    "# Update function with *args\n",
    "\n",
    "def colour_print(text, *effects):\n",
    "    effects_str = \"\".join(effects)\n",
    "    output_text = \"{0}{1}\".format(effects_str, text)\n",
    "    \n",
    "    print(output_text)"
   ]
  },
  {
   "cell_type": "code",
   "execution_count": 16,
   "id": "3334658a",
   "metadata": {},
   "outputs": [
    {
     "name": "stdout",
     "output_type": "stream",
     "text": [
      "\u001b[31m\u001b[1m\u001b[4mMy mum went to the market\n"
     ]
    }
   ],
   "source": [
    "colour_print(\"My mum went to the market\", RED, BOLD, UNDERLINE)"
   ]
  },
  {
   "cell_type": "code",
   "execution_count": 17,
   "id": "42da3186",
   "metadata": {},
   "outputs": [
    {
     "name": "stdout",
     "output_type": "stream",
     "text": [
      "\u001b[33m\u001b[1m\u001b[7mThis is very important\n"
     ]
    }
   ],
   "source": [
    "colour_print(\"This is very important\", YELLOW, BOLD, REVERSE)"
   ]
  },
  {
   "cell_type": "markdown",
   "id": "26c8ee29",
   "metadata": {},
   "source": [
    "# Kwargs, or multiple Keyword Arguments\n",
    "\n",
    "**The `**kwargs` parameter unpacks sequences of keyword arguments, i.e. explicitly named in the function call. They must appear last in the order of function parameters:**\n",
    "\n",
    "                        def func(p1, p2, *args, k, **kwargs)\n",
    "                        \n",
    "**Since keyword arguments are named, they are packed into a dictionary rather than a tuple. You can assign any keyword name to eahc of the varying keyword arguments.**"
   ]
  },
  {
   "cell_type": "code",
   "execution_count": 6,
   "id": "03a39bb7",
   "metadata": {},
   "outputs": [
    {
     "name": "stdout",
     "output_type": "stream",
     "text": [
      "Postional arguments:... 1, 2\n",
      "Multiple *args:........ (3, 4, 5)\n",
      "Keyword argument:...... 6\n",
      "Multiple *kwargs:...... {'k1': 7, 'k2': 8, 'k3': 9}\n"
     ]
    }
   ],
   "source": [
    "def func(p1, p2, *args, k, **kwargs):\n",
    "    print(\"Postional arguments:... {}, {}\".format(p1, p2))\n",
    "    print(\"Multiple *args:........ {}\".format(args))\n",
    "    print(\"Keyword argument:...... {}\".format(k))\n",
    "    print(\"Multiple *kwargs:...... {}\".format(kwargs))\n",
    "\n",
    "\n",
    "func(1, 2, 3, 4, 5, k=6, k1=7, k2=8, k3=9)"
   ]
  },
  {
   "cell_type": "code",
   "execution_count": 5,
   "id": "eb785b0c",
   "metadata": {},
   "outputs": [
    {
     "name": "stdout",
     "output_type": "stream",
     "text": [
      "<class 'dict'>\n",
      "{'k1': 'hello', 'k2': 'planet', 'k3': 'earth', 'k4': 'people'}\n"
     ]
    }
   ],
   "source": [
    "def build_dict(**kwargs):\n",
    "    return kwargs\n",
    "\n",
    "\n",
    "word_dictionary = build_dict(k1=\"hello\", k2=\"planet\", k3=\"earth\", k4=\"people\")\n",
    "\n",
    "print(type(word_dictionary))\n",
    "print(word_dictonary)"
   ]
  },
  {
   "cell_type": "markdown",
   "id": "d7ab2062",
   "metadata": {},
   "source": [
    "**NOTE: If used in a function, positional and keyword arguments must be specified when calling the function, although args and kwargs are optional:**"
   ]
  },
  {
   "cell_type": "code",
   "execution_count": 7,
   "id": "11a19907",
   "metadata": {},
   "outputs": [
    {
     "ename": "TypeError",
     "evalue": "func() missing 2 required positional arguments: 'p1' and 'p2'",
     "output_type": "error",
     "traceback": [
      "\u001b[1;31m---------------------------------------------------------------------------\u001b[0m",
      "\u001b[1;31mTypeError\u001b[0m                                 Traceback (most recent call last)",
      "Cell \u001b[1;32mIn[7], line 1\u001b[0m\n\u001b[1;32m----> 1\u001b[0m \u001b[43mfunc\u001b[49m\u001b[43m(\u001b[49m\u001b[43mk\u001b[49m\u001b[38;5;241;43m=\u001b[39;49m\u001b[38;5;241;43m6\u001b[39;49m\u001b[43m)\u001b[49m\n",
      "\u001b[1;31mTypeError\u001b[0m: func() missing 2 required positional arguments: 'p1' and 'p2'"
     ]
    }
   ],
   "source": [
    "func(k=6)"
   ]
  },
  {
   "cell_type": "code",
   "execution_count": 8,
   "id": "30c02100",
   "metadata": {},
   "outputs": [
    {
     "ename": "TypeError",
     "evalue": "func() missing 1 required keyword-only argument: 'k'",
     "output_type": "error",
     "traceback": [
      "\u001b[1;31m---------------------------------------------------------------------------\u001b[0m",
      "\u001b[1;31mTypeError\u001b[0m                                 Traceback (most recent call last)",
      "Cell \u001b[1;32mIn[8], line 1\u001b[0m\n\u001b[1;32m----> 1\u001b[0m \u001b[43mfunc\u001b[49m\u001b[43m(\u001b[49m\u001b[38;5;241;43m1\u001b[39;49m\u001b[43m,\u001b[49m\u001b[43m \u001b[49m\u001b[38;5;241;43m2\u001b[39;49m\u001b[43m)\u001b[49m\n",
      "\u001b[1;31mTypeError\u001b[0m: func() missing 1 required keyword-only argument: 'k'"
     ]
    }
   ],
   "source": [
    "func(1, 2)"
   ]
  },
  {
   "cell_type": "code",
   "execution_count": 9,
   "id": "87d8ad22",
   "metadata": {},
   "outputs": [
    {
     "name": "stdout",
     "output_type": "stream",
     "text": [
      "Postional arguments:... 1, 2\n",
      "Multiple *args:........ ()\n",
      "Keyword argument:...... 6\n",
      "Multiple *kwargs:...... {}\n"
     ]
    }
   ],
   "source": [
    "func(1, 2, k=6)"
   ]
  },
  {
   "cell_type": "markdown",
   "id": "d386f00c",
   "metadata": {},
   "source": [
    "# Using `*args` and `**kwargs` together\n",
    "\n",
    "**You can use varying number of arguments and keyword arguments together in the same function:**"
   ]
  },
  {
   "cell_type": "code",
   "execution_count": 18,
   "id": "929643d0",
   "metadata": {},
   "outputs": [],
   "source": [
    "# Print text string backwards\n",
    "\n",
    "def print_backwards(*args, **kwargs):\n",
    "    print(kwargs)\n",
    "    for word in args[::-1]:\n",
    "        print(word[::-1], **kwargs)"
   ]
  },
  {
   "cell_type": "code",
   "execution_count": 25,
   "id": "1ed17dc0",
   "metadata": {},
   "outputs": [
    {
     "name": "stdout",
     "output_type": "stream",
     "text": [
      "{}\n",
      "enoz\n",
      "thgiliwt\n",
      "eht\n"
     ]
    }
   ],
   "source": [
    "print_backwards(\"the\", \"twilight\", \"zone\")"
   ]
  },
  {
   "cell_type": "code",
   "execution_count": 27,
   "id": "6ef07090",
   "metadata": {},
   "outputs": [
    {
     "name": "stdout",
     "output_type": "stream",
     "text": [
      "{'end': ','}\n",
      "enoz,thgiliwt,eht,"
     ]
    }
   ],
   "source": [
    "print_backwards(\"the\", \"twilight\", \"zone\", end=',')"
   ]
  },
  {
   "cell_type": "code",
   "execution_count": 35,
   "id": "7821ca80",
   "metadata": {},
   "outputs": [
    {
     "name": "stdout",
     "output_type": "stream",
     "text": [
      "{'end': ' '}\n",
      "enoz thgiliwt eht {'end': '\\n'}\n",
      "gnirts rehtona yb dewollof\n",
      "tnirp ot gnirts rehtonA\n"
     ]
    }
   ],
   "source": [
    "print_backwards(\"the\", \"twilight\", \"zone\", end=' ')\n",
    "\n",
    "print_backwards(\"Another string to print\", \"followed by another string\", end='\\n')"
   ]
  },
  {
   "cell_type": "markdown",
   "id": "31cdd949",
   "metadata": {},
   "source": [
    "**You use the `print()` function to print out each word backwards, and use any other keyword arguments belonging to `print()` function as optional varying parameters. This means if Python adds any more keyword arguments to the print function in the future, this function to print backwards will still work, because you are allowing for all the possible keyword arguments coming from the `print()` function, like writing the print output to `file=output.txt`**\n",
    "\n",
    "**NOTE: The `end` parameter acts like a separator and `sep` doesn't even work... You have to be careful that you don't subvert the meaning of the arguments you are parsing. So it doesn't behave exactly like the `print()` function.**\n",
    "\n",
    "\n",
    "# Function Annotation\n",
    "\n",
    "**Annotating the 'unpacking' parameters in a function should follow the styleguide set out in PEP8.**"
   ]
  },
  {
   "cell_type": "code",
   "execution_count": 31,
   "id": "56d66061",
   "metadata": {},
   "outputs": [],
   "source": [
    "def sum_numbers(*numbers: float) -> float:\n",
    "    \"\"\"\n",
    "    Params:\n",
    "        `*numbers` is unlimited sequence of numbers, or\n",
    "        even no numbers at all (returns zero)\n",
    "    \n",
    "    Returns:\n",
    "        A number representing the total sum of numbers passed\n",
    "        to function\n",
    "    \"\"\"\n",
    "    result = 0\n",
    "    \n",
    "    for num in numbers:\n",
    "        result += num\n",
    "        \n",
    "    return result"
   ]
  },
  {
   "cell_type": "code",
   "execution_count": 32,
   "id": "5d7503d1",
   "metadata": {},
   "outputs": [
    {
     "data": {
      "text/plain": [
       "6"
      ]
     },
     "execution_count": 32,
     "metadata": {},
     "output_type": "execute_result"
    }
   ],
   "source": [
    "sum_numbers(1, 2, 3)"
   ]
  },
  {
   "cell_type": "code",
   "execution_count": 34,
   "id": "d6c4a46c",
   "metadata": {},
   "outputs": [
    {
     "data": {
      "text/plain": [
       "113.747"
      ]
     },
     "execution_count": 34,
     "metadata": {},
     "output_type": "execute_result"
    }
   ],
   "source": [
    "sum_numbers(12.5, 3.147, 98.1)"
   ]
  },
  {
   "cell_type": "code",
   "execution_count": 36,
   "id": "4ec2a0f5",
   "metadata": {},
   "outputs": [
    {
     "data": {
      "text/plain": [
       "0"
      ]
     },
     "execution_count": 36,
     "metadata": {},
     "output_type": "execute_result"
    }
   ],
   "source": [
    "sum_numbers()"
   ]
  },
  {
   "cell_type": "code",
   "execution_count": null,
   "id": "8f810874",
   "metadata": {},
   "outputs": [],
   "source": []
  }
 ],
 "metadata": {
  "kernelspec": {
   "display_name": "Python 3 (ipykernel)",
   "language": "python",
   "name": "python3"
  },
  "language_info": {
   "codemirror_mode": {
    "name": "ipython",
    "version": 3
   },
   "file_extension": ".py",
   "mimetype": "text/x-python",
   "name": "python",
   "nbconvert_exporter": "python",
   "pygments_lexer": "ipython3",
   "version": "3.9.17"
  }
 },
 "nbformat": 4,
 "nbformat_minor": 5
}
