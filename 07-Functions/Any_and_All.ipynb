{
 "cells": [
  {
   "cell_type": "markdown",
   "id": "509dcff7",
   "metadata": {},
   "source": [
    "# The `all()` and `any()` functions\n",
    "\n",
    "**The `all()`function checks to see whether all the items in a sequence are True.**\n",
    "\n",
    "**The `any()` function checks to see whether any of the items in a sequence are True.**\n",
    "\n",
    "**Both functions accept the same argument - an iterable - and return `True` if any or all of the items are True, or `False` if the iterable is empty**"
   ]
  },
  {
   "cell_type": "code",
   "execution_count": 1,
   "id": "a23f58c5",
   "metadata": {},
   "outputs": [],
   "source": [
    "# Input iterable\n",
    "\n",
    "numbers = [1, 2, 3, 4, 5]"
   ]
  },
  {
   "cell_type": "code",
   "execution_count": 2,
   "id": "8b433703",
   "metadata": {},
   "outputs": [
    {
     "name": "stdout",
     "output_type": "stream",
     "text": [
      "any() function: True\n",
      "all() function: True\n"
     ]
    }
   ],
   "source": [
    "print(f\"any() function: {any(numbers)}\")\n",
    "\n",
    "print(f\"all() function: {all(numbers)}\")"
   ]
  },
  {
   "cell_type": "code",
   "execution_count": 3,
   "id": "6469a032",
   "metadata": {},
   "outputs": [
    {
     "name": "stdout",
     "output_type": "stream",
     "text": [
      "With zero in the iterable...\n",
      "any() function: True\n",
      "all() function: False\n"
     ]
    }
   ],
   "source": [
    "numbers = [1, 2, 0, 4, 5]\n",
    "\n",
    "print(\"With zero in the iterable...\")\n",
    "\n",
    "print(f\"any() function: {any(numbers)}\")\n",
    "\n",
    "print(f\"all() function: {all(numbers)}\")"
   ]
  },
  {
   "cell_type": "markdown",
   "id": "edd3f62d",
   "metadata": {},
   "source": [
    "**Python interprets some values as False, e.g. `0`, `None` and `False`, and all others as True:**"
   ]
  },
  {
   "cell_type": "code",
   "execution_count": 5,
   "id": "5dadfe19",
   "metadata": {},
   "outputs": [
    {
     "name": "stdout",
     "output_type": "stream",
     "text": [
      "Values interpreted as False:\n",
      "\n",
      "False: False\n",
      "None: False\n",
      "0: False\n",
      "0.0: False\n",
      "empty list []: False\n",
      "empty tuple (): False\n",
      "empty string '': False\n",
      "empty string \"\": False\n",
      "empty mapping {}: False\n",
      "\n"
     ]
    }
   ],
   "source": [
    "print(\"Values interpreted as False:\")\n",
    "print(f\"\"\"\n",
    "False: {False}\n",
    "None: {bool(None)}\n",
    "0: {bool(0)}\n",
    "0.0: {bool(0.0)}\n",
    "empty list []: {bool([])}\n",
    "empty tuple (): {bool(())}\n",
    "empty string '': {bool('')}\n",
    "empty string \"\": {bool(\"\")}\n",
    "empty mapping {{}}: {bool({})}\n",
    "\"\"\")"
   ]
  },
  {
   "cell_type": "code",
   "execution_count": 11,
   "id": "b38d57ab",
   "metadata": {},
   "outputs": [
    {
     "name": "stdout",
     "output_type": "stream",
     "text": [
      "Enter your name: \n",
      "Hello person with no name\n"
     ]
    }
   ],
   "source": [
    "name = input(\"Enter your name: \")\n",
    "\n",
    "if any(name):\n",
    "    print(f\"Hello {name}\")\n",
    "else:\n",
    "    print(\"Hello person with no name\")"
   ]
  },
  {
   "cell_type": "code",
   "execution_count": 12,
   "id": "838bf828",
   "metadata": {},
   "outputs": [
    {
     "name": "stdout",
     "output_type": "stream",
     "text": [
      "Enter your name: \n",
      "Hello \n"
     ]
    }
   ],
   "source": [
    "name = input(\"Enter your name: \")\n",
    "\n",
    "if all(name):\n",
    "    print(f\"Hello {name}\")\n",
    "else:\n",
    "    print(\"Hello person with no name\")"
   ]
  },
  {
   "cell_type": "code",
   "execution_count": 14,
   "id": "75408d25",
   "metadata": {},
   "outputs": [
    {
     "name": "stdout",
     "output_type": "stream",
     "text": [
      "False\n"
     ]
    }
   ],
   "source": [
    "# Check whether string is empty\n",
    "\n",
    "if name:\n",
    "    print(f\"all(): {all(name)}\")\n",
    "else:\n",
    "    print(False)"
   ]
  },
  {
   "cell_type": "markdown",
   "id": "8828ad64",
   "metadata": {},
   "source": [
    "**Note that when you input empty string with the `all()` function, the code is evaluating to True?! We're getting a name through but it's an empty string so you just see 'Hello '. THIS IS NOT A BUG! If there is any chance that the iterable you are checking could be empty, you need to check for that also. The `all()` function is checking whether all of the items in the list are False but since there are no items it has nothing to complain about and answers everything is True. Basically, be careful when using `all()` function.**\n",
    "\n",
    "**NOTE: You could simply have done `if name:` (without `any()` function) and you would still get False when inputting an empty string.**\n",
    "\n",
    "## With list comprehension\n",
    "\n",
    "**The `all()` and `any()` functions are most powerful when used with comprehensions or generator expressions.**\n",
    "\n",
    "**Assume you are writing an email client in Python, allowing a user to choose the people that will receive an email from a database. The first thing you need to check is that all the people have an email address (second element in tuple). If they do not, the user can edit the list of recipients.**"
   ]
  },
  {
   "cell_type": "code",
   "execution_count": 1,
   "id": "3921f452",
   "metadata": {},
   "outputs": [],
   "source": [
    "people = [\n",
    "    (\"John Cleese\", \"cleese@gmail.com\"),\n",
    "    (\"Terry Gilliam\", \"gilliam@gmail.com\"),\n",
    "    (\"Eric Idle\", \"\"),\n",
    "    (\"Terry Jones\", \"jones@gmail.com\"),\n",
    "    (\"Graham Chapman\", \"chapman@gmail.com\"),\n",
    "    (\"Michael Palin\", \"\")\n",
    "]"
   ]
  },
  {
   "cell_type": "code",
   "execution_count": 2,
   "id": "15dcc3fb",
   "metadata": {},
   "outputs": [
    {
     "name": "stdout",
     "output_type": "stream",
     "text": [
      "User must edit list of recipients\n"
     ]
    }
   ],
   "source": [
    "if all([person[1] for person in people]):\n",
    "    print(\"Sending email...\")\n",
    "else:\n",
    "    print(\"User must edit list of recipients\")"
   ]
  },
  {
   "cell_type": "markdown",
   "id": "b2fda689",
   "metadata": {},
   "source": [
    "**Eric Idle and Michael Palin don't have email addresses, so the `all()` function evaluates to False having found these false values (empty strings) and asks the user to edit the list. This is much simpler than iterating over the list, checking each email and then printing out statement. It shortcuts past the iterating, by stopping as soon as a false value is found.**\n",
    "\n",
    "**To see an example with `any()` function, assume you are working on a site that sells plant seeds. The site offers variety packs for customers, based on any likes and dislikes.**\n",
    "\n",
    "**NOTE: This example uses named tuples in the list of plant seeds.**"
   ]
  },
  {
   "cell_type": "code",
   "execution_count": 4,
   "id": "c41acb6f",
   "metadata": {},
   "outputs": [],
   "source": [
    "from collections import namedtuple\n",
    "\n",
    "Plant = namedtuple('Plant', ['name', 'scientific_name', 'lifecycle', 'plant_type'])"
   ]
  },
  {
   "cell_type": "code",
   "execution_count": 5,
   "id": "a217c194",
   "metadata": {},
   "outputs": [],
   "source": [
    "plants_list = [\n",
    "    Plant(\"Andromeda\", \"Pieris japonica\", \"Evergreen\", \"Shrub\"),\n",
    "    Plant(\"Bellflower\", \"Campanula\", \"perennial\", \"Flower\"),\n",
    "    Plant(\"China Pink\", \"Dianthus\", \"Perennial\", \"Flower\"),\n",
    "    Plant(\"Daffodil\", \"Narcissus\", \"Perennial\", \"Flower\"),\n",
    "    Plant(\"Evening Primrose\", \"Oenothera\", \"Biennial\", \"Flower\"),\n",
    "    Plant(\"French Marigold\", \"Tagetes patula\", \"Annual\", \"Flower\"),\n",
    "    Plant(\"Golden Hakone Grass\", \"Hakonechloa macra\", \"Perennial\", \"Grass\"),\n",
    "    Plant(\"Hydrangea\", \"Hydrangea\", \"evergreen\", \"Shrub\"),\n",
    "    Plant(\"Iris\", \"Iris\", \"Perennial\", \"Flower\"),\n",
    "    Plant(\"Japanese Camellia\", \"Camellia japonica\", \"Evergreen\", \"Shrub\"),\n",
    "    Plant(\"Lavender\", \"Lavendula\", \"Perennial\", \"Shrub\"),\n",
    "    Plant(\"Lilac\", \"Syringa vulgaris\", \"Deciduous\", \"Shrub\"),\n",
    "    Plant(\"Magnolia\", \"Magnolia\", \"Deciduous, evergreen\", \"Shrub\"),\n",
    "    Plant(\"Peony\", \"Paeonia\", \"Perennial\", \"Shrub\"),\n",
    "    Plant(\"Queen Anne's Lace\", \"Daucus carota\", \"Biennial\", \"Flower\"),\n",
    "    Plant(\"Red Hot Poker\", \"Kniphofia\", \"Perennial\", \"Flower\"),\n",
    "    Plant(\"Snapdragon\", \"Antirrhinum majus\", \"Annual\", \"Flower\"),\n",
    "    Plant(\"Sunflower\", \"Helianthus\", \"Annual\", \"Flower\"),\n",
    "    Plant(\"Tiger Lily\", \"Lilinium tigrinium\", \"Perennial\", \"Flower\"),\n",
    "    Plant(\"Witch Hazel\", \"Hamamelis\", \"Deciduous\", \"Shrub\"),\n",
    "]"
   ]
  },
  {
   "cell_type": "code",
   "execution_count": 8,
   "id": "0e22e9a0",
   "metadata": {},
   "outputs": [
    {
     "name": "stdout",
     "output_type": "stream",
     "text": [
      "There is a pack containing grass seeds\n"
     ]
    }
   ],
   "source": [
    "if any([plant.plant_type == 'Grass' for plant in plants_list]):\n",
    "    print(\"There is a pack containing grass seeds\")\n",
    "else:\n",
    "    print(\"There are no grass seeds available\")"
   ]
  },
  {
   "cell_type": "markdown",
   "id": "fb7c427e",
   "metadata": {},
   "source": [
    "**Remember that you can use any iterable type with `all()` and `any()`, e.g. a dictionary:**"
   ]
  },
  {
   "cell_type": "code",
   "execution_count": 9,
   "id": "250645db",
   "metadata": {},
   "outputs": [],
   "source": [
    "# Named tuple with 3 fields (no name field)\n",
    "\n",
    "PlantDetails = namedtuple('PlantDetails', ['scientific_name', 'lifecycle', 'plant_type'])"
   ]
  },
  {
   "cell_type": "code",
   "execution_count": 10,
   "id": "fce32330",
   "metadata": {},
   "outputs": [],
   "source": [
    "# Dictionary key is plant name\n",
    "\n",
    "plants_dict = {\n",
    "    \"Andromeda\": PlantDetails(\"Pieris japonica\", \"Evergreen\", \"Shrub\"),\n",
    "    \"Bellflower\": PlantDetails(\"Campanula\", \"Annual, biennial, perennial\", \"Flower\"),\n",
    "    \"China Pink\": PlantDetails(\"Dianthus\", \"Perennial\", \"Flower\"),\n",
    "    \"Daffodil\": PlantDetails(\"Narcissus\", \"Perennial\", \"Flower\"),\n",
    "    \"Evening Primrose\": PlantDetails(\"Oenothera\", \"Biennial\", \"Flower\"),\n",
    "    \"French Marigold\": PlantDetails(\"Tagetes patula\", \"Annual\", \"Flower\"),\n",
    "    \"Golden Hakone Grass\": PlantDetails(\"Hakonechloa macra\", \"Perennial\", \"Grass\"),\n",
    "    \"Hydrangea\": PlantDetails(\"Hydrangea\", \"Deciduous, evergreen\", \"Shrub\"),\n",
    "    \"Iris\": PlantDetails(\"Iris\", \"Perennial\", \"Flower\"),\n",
    "    \"Japanese Camellia\": PlantDetails(\"Camellia japonica\", \"Evergreen\", \"Shrub\"),\n",
    "    \"Lavender\": PlantDetails(\"Lavendula\", \"Perennial\", \"Shrub\"),\n",
    "    \"Lilac\": PlantDetails(\"Syringa vulgaris\", \"Deciduous\", \"Shrub\"),\n",
    "    \"Magnolia\": PlantDetails(\"Magnolia\", \"Deciduous, evergreen\", \"Shrub\"),\n",
    "    \"Peony\": PlantDetails(\"Paeonia\", \"Perennial\", \"Shrub\"),\n",
    "    \"Queen Anne's Lace\": PlantDetails(\"Daucus carota\", \"Biennial\", \"Flower\"),\n",
    "    \"Red Hot Poker\": PlantDetails(\"Kniphofia\", \"Perennial\", \"Flower\"),\n",
    "    \"Snapdragon\": PlantDetails(\"Antirrhinum majus\", \"Annual\", \"Flower\"),\n",
    "    \"Sunflower\": PlantDetails(\"Helianthus\", \"Annual\", \"Flower\"),\n",
    "    \"Tiger Lily\": PlantDetails(\"Lilinium tigrinium\", \"Perennial\", \"Flower\"),\n",
    "    \"Witch Hazel\": PlantDetails(\"Hamamelis\", \"Deciduous\", \"Shrub\"),\n",
    "}"
   ]
  },
  {
   "cell_type": "code",
   "execution_count": 23,
   "id": "94e810ba",
   "metadata": {},
   "outputs": [
    {
     "name": "stdout",
     "output_type": "stream",
     "text": [
      "There is a pack containing grass seeds\n"
     ]
    }
   ],
   "source": [
    "if any(plant.plant_type == 'Grass' for plant in plants_dict.values()):\n",
    "    print(\"There is a pack containing grass seeds\")\n",
    "else:\n",
    "    print(\"There are no grass seeds available\")"
   ]
  },
  {
   "cell_type": "code",
   "execution_count": 24,
   "id": "c8fd9eaa",
   "metadata": {},
   "outputs": [
    {
     "name": "stdout",
     "output_type": "stream",
     "text": [
      "There are no cactus seeds available\n"
     ]
    }
   ],
   "source": [
    "if any(plant.plant_type == 'Cactus' for plant in plants_dict.values()):\n",
    "    print(\"There is a pack containing cactus seeds\")\n",
    "else:\n",
    "    print(\"There are no cactus seeds available\")"
   ]
  },
  {
   "cell_type": "code",
   "execution_count": null,
   "id": "49ea5989",
   "metadata": {},
   "outputs": [],
   "source": []
  }
 ],
 "metadata": {
  "kernelspec": {
   "display_name": "Python 3 (ipykernel)",
   "language": "python",
   "name": "python3"
  },
  "language_info": {
   "codemirror_mode": {
    "name": "ipython",
    "version": 3
   },
   "file_extension": ".py",
   "mimetype": "text/x-python",
   "name": "python",
   "nbconvert_exporter": "python",
   "pygments_lexer": "ipython3",
   "version": "3.9.17"
  }
 },
 "nbformat": 4,
 "nbformat_minor": 5
}
