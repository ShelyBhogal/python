{
 "cells": [
  {
   "cell_type": "markdown",
   "id": "eb1cafa1",
   "metadata": {},
   "source": [
    "# Returning an action (not a value)\n",
    "\n",
    "**Sometimes, you want a function to perform an action, i.e. produce an output based on the action, rather than explicitly returning a value.**\n",
    "\n",
    "**In this adventure game exercise, use a function to generate a banner at the start of the game, with neatly formatted instructions on how to play, i.e. the instruction output remains static but the function triggers its display.**"
   ]
  },
  {
   "cell_type": "code",
   "execution_count": 1,
   "id": "4105fbe3",
   "metadata": {},
   "outputs": [],
   "source": [
    "def banner_text(text):\n",
    "    # Banner width\n",
    "    screen_width = 80\n",
    "    \n",
    "    # Check text length\n",
    "    if len(text) > screen_width - 4:\n",
    "        print(\"EEK!!\")\n",
    "        print(\"TEXT IS TOO LONG TO FIT IN SPECIFIED WIDTH\")\n",
    "    \n",
    "    # Print text if fits taking into account asterisks\n",
    "    if text == '*':\n",
    "        # Print row of asterisks\n",
    "        print(\"*\" * screen_width)\n",
    "    else:\n",
    "        # Print centered text with ** before-and-after\n",
    "        centered_text = text.center(screen_width - 4)\n",
    "        output_string = \"**{0}**\".format(centered_text)\n",
    "        print(output_string)"
   ]
  },
  {
   "cell_type": "code",
   "execution_count": 2,
   "id": "b99412a2",
   "metadata": {},
   "outputs": [
    {
     "name": "stdout",
     "output_type": "stream",
     "text": [
      "********************************************************************************\n",
      "**                 Always look on the bright side of life...                  **\n",
      "**                        If life seems jolly rotten,                         **\n",
      "**                    There's something you've forgotten!                     **\n",
      "**             And that's to laugh and smile and dance and sing,              **\n",
      "**                                                                            **\n",
      "**                     When you're feeling in the dumps,                      **\n",
      "**                           Don't be silly chumps,                           **\n",
      "**            Just purse your lips and whistle - that's the thing!            **\n",
      "**              And... always look on the bright side of life...              **\n",
      "********************************************************************************\n"
     ]
    }
   ],
   "source": [
    "banner_text(\"*\")\n",
    "banner_text(\"Always look on the bright side of life...\")\n",
    "banner_text(\"If life seems jolly rotten,\")\n",
    "banner_text(\"There's something you've forgotten!\")\n",
    "banner_text(\"And that's to laugh and smile and dance and sing,\")\n",
    "banner_text(\" \")\n",
    "banner_text(\"When you're feeling in the dumps,\")\n",
    "banner_text(\"Don't be silly chumps,\")\n",
    "banner_text(\"Just purse your lips and whistle - that's the thing!\")\n",
    "banner_text(\"And... always look on the bright side of life...\")\n",
    "banner_text(\"*\")"
   ]
  },
  {
   "cell_type": "markdown",
   "id": "95456e73",
   "metadata": {},
   "source": [
    "**Note that `return` statement is not used anywhere, even though something has been output.**"
   ]
  },
  {
   "cell_type": "code",
   "execution_count": 3,
   "id": "1f32117e",
   "metadata": {},
   "outputs": [
    {
     "name": "stdout",
     "output_type": "stream",
     "text": [
      "**                                   OUTPUT                                   **\n",
      "None\n"
     ]
    }
   ],
   "source": [
    "result = banner_text(\"OUTPUT\")\n",
    "\n",
    "print(result)"
   ]
  },
  {
   "cell_type": "markdown",
   "id": "9970f29a",
   "metadata": {},
   "source": [
    "**As you can see, there is no return value to be saved, so the result is `None`. An example of built-in method that does not return a value is `sort()`, which sorts a list in place. It does not return a useful value.**\n",
    "\n",
    "**The issue with this function is knowing how many characters fit in a line...**"
   ]
  },
  {
   "cell_type": "code",
   "execution_count": 4,
   "id": "9bc878cf",
   "metadata": {},
   "outputs": [
    {
     "name": "stdout",
     "output_type": "stream",
     "text": [
      "EEK!!\n",
      "TEXT IS TOO LONG TO FIT IN SPECIFIED WIDTH\n",
      "**My very photogenic mother died in a freak accident (picnic, lightning) when I was three.**\n"
     ]
    }
   ],
   "source": [
    "banner_text(\"My very photogenic mother died in a freak accident (picnic, lightning) when I was three.\")"
   ]
  },
  {
   "cell_type": "markdown",
   "id": "0a5f2237",
   "metadata": {},
   "source": [
    "**If this function is part of an automated real-world scenario, you need to make the code crash if the text is too long, i.e. stop the function by raising an exception.**"
   ]
  },
  {
   "cell_type": "code",
   "execution_count": 5,
   "id": "10f4fc00",
   "metadata": {},
   "outputs": [],
   "source": [
    "def banner_text(text):\n",
    "    screen_width = 80\n",
    "    \n",
    "    if len(text) > screen_width - 4:\n",
    "        raise ValueError(\"'{0}' is larger than specified width {1}\".format(text, screen_width))\n",
    "    \n",
    "    if text == '*':\n",
    "        print(\"*\" * screen_width)\n",
    "    else:\n",
    "        centered_text = text.center(screen_width - 4)\n",
    "        output_string = \"**{0}**\".format(centered_text)\n",
    "        print(output_string)"
   ]
  },
  {
   "cell_type": "code",
   "execution_count": 6,
   "id": "7bb19a7c",
   "metadata": {},
   "outputs": [
    {
     "ename": "ValueError",
     "evalue": "'My very photogenic mother died in a freak accident (picnic, lightning) when I was three.' is larger than specified width 80",
     "output_type": "error",
     "traceback": [
      "\u001b[1;31m---------------------------------------------------------------------------\u001b[0m",
      "\u001b[1;31mValueError\u001b[0m                                Traceback (most recent call last)",
      "Cell \u001b[1;32mIn[6], line 1\u001b[0m\n\u001b[1;32m----> 1\u001b[0m \u001b[43mbanner_text\u001b[49m\u001b[43m(\u001b[49m\u001b[38;5;124;43m\"\u001b[39;49m\u001b[38;5;124;43mMy very photogenic mother died in a freak accident (picnic, lightning) when I was three.\u001b[39;49m\u001b[38;5;124;43m\"\u001b[39;49m\u001b[43m)\u001b[49m\n",
      "Cell \u001b[1;32mIn[5], line 5\u001b[0m, in \u001b[0;36mbanner_text\u001b[1;34m(text)\u001b[0m\n\u001b[0;32m      2\u001b[0m screen_width \u001b[38;5;241m=\u001b[39m \u001b[38;5;241m80\u001b[39m\n\u001b[0;32m      4\u001b[0m \u001b[38;5;28;01mif\u001b[39;00m \u001b[38;5;28mlen\u001b[39m(text) \u001b[38;5;241m>\u001b[39m screen_width \u001b[38;5;241m-\u001b[39m \u001b[38;5;241m4\u001b[39m:\n\u001b[1;32m----> 5\u001b[0m     \u001b[38;5;28;01mraise\u001b[39;00m \u001b[38;5;167;01mValueError\u001b[39;00m(\u001b[38;5;124m\"\u001b[39m\u001b[38;5;124m'\u001b[39m\u001b[38;5;132;01m{0}\u001b[39;00m\u001b[38;5;124m'\u001b[39m\u001b[38;5;124m is larger than specified width \u001b[39m\u001b[38;5;132;01m{1}\u001b[39;00m\u001b[38;5;124m\"\u001b[39m\u001b[38;5;241m.\u001b[39mformat(text, screen_width))\n\u001b[0;32m      7\u001b[0m \u001b[38;5;28;01mif\u001b[39;00m text \u001b[38;5;241m==\u001b[39m \u001b[38;5;124m'\u001b[39m\u001b[38;5;124m*\u001b[39m\u001b[38;5;124m'\u001b[39m:\n\u001b[0;32m      8\u001b[0m     \u001b[38;5;28mprint\u001b[39m(\u001b[38;5;124m\"\u001b[39m\u001b[38;5;124m*\u001b[39m\u001b[38;5;124m\"\u001b[39m \u001b[38;5;241m*\u001b[39m screen_width)\n",
      "\u001b[1;31mValueError\u001b[0m: 'My very photogenic mother died in a freak accident (picnic, lightning) when I was three.' is larger than specified width 80"
     ]
    }
   ],
   "source": [
    "banner_text(\"My very photogenic mother died in a freak accident (picnic, lightning) when I was three.\")"
   ]
  },
  {
   "cell_type": "markdown",
   "id": "bca9bf4c",
   "metadata": {},
   "source": [
    "**Raising a `ValueError` may not seem ideal but it is preferable to allowing an automated program to run when it should stop. This is more relevant to the field of robotics and engineering.**\n",
    "\n",
    "**Alternatively, you should allow the user to specify the banner width so that they have more control, by adding new parameter.**"
   ]
  },
  {
   "cell_type": "code",
   "execution_count": 9,
   "id": "fd975019",
   "metadata": {},
   "outputs": [],
   "source": [
    "def banner_text(text, banner_width=80):\n",
    "    if len(text) > banner_width - 4:\n",
    "        raise ValueError(\"'{0}' is larger than specified width {1}\".format(text, banner_width))\n",
    "    \n",
    "    if text == '*':\n",
    "        print(\"*\" * banner_width)\n",
    "    else:\n",
    "        centered_text = text.center(banner_width - 4)\n",
    "        output_string = \"**{0}**\".format(centered_text)\n",
    "        print(output_string)"
   ]
  },
  {
   "cell_type": "code",
   "execution_count": 10,
   "id": "12e1f35e",
   "metadata": {},
   "outputs": [
    {
     "name": "stdout",
     "output_type": "stream",
     "text": [
      "**    My very photogenic mother died in a freak accident (picnic, lightning) when I was three.    **\n"
     ]
    }
   ],
   "source": [
    "banner_text(\"My very photogenic mother died in a freak accident (picnic, lightning) when I was three.\", 100)"
   ]
  },
  {
   "cell_type": "markdown",
   "id": "b723609e",
   "metadata": {},
   "source": [
    "**What if updating the function to allow the user to choose the banner width causes previous banners to crash, i.e. this is not backwards compatible. In this case, the new function parameter should be default parameter, i.e. 80 in case width not specified by user. This means that the earlier function calls are still valid (without passing `banner_width` argument):**"
   ]
  },
  {
   "cell_type": "code",
   "execution_count": 11,
   "id": "090f11a9",
   "metadata": {},
   "outputs": [
    {
     "name": "stdout",
     "output_type": "stream",
     "text": [
      "********************************************************************************\n",
      "**                 Always look on the bright side of life...                  **\n",
      "**                        If life seems jolly rotten,                         **\n",
      "**                    There's something you've forgotten!                     **\n",
      "**             And that's to laugh and smile and dance and sing,              **\n",
      "**                                                                            **\n",
      "**                     When you're feeling in the dumps,                      **\n",
      "**                           Don't be silly chumps,                           **\n",
      "**            Just purse your lips and whistle - that's the thing!            **\n",
      "**              And... always look on the bright side of life...              **\n",
      "********************************************************************************\n"
     ]
    }
   ],
   "source": [
    "banner_text(\"*\")\n",
    "banner_text(\"Always look on the bright side of life...\")\n",
    "banner_text(\"If life seems jolly rotten,\")\n",
    "banner_text(\"There's something you've forgotten!\")\n",
    "banner_text(\"And that's to laugh and smile and dance and sing,\")\n",
    "banner_text(\" \")\n",
    "banner_text(\"When you're feeling in the dumps,\")\n",
    "banner_text(\"Don't be silly chumps,\")\n",
    "banner_text(\"Just purse your lips and whistle - that's the thing!\")\n",
    "banner_text(\"And... always look on the bright side of life...\")\n",
    "banner_text(\"*\")"
   ]
  },
  {
   "cell_type": "markdown",
   "id": "344fb949",
   "metadata": {},
   "source": [
    "**In fact, if you update both parameters to have default setting, the code is more readable, i.e. use `banner_text` function like `print()` function:**"
   ]
  },
  {
   "cell_type": "code",
   "execution_count": 1,
   "id": "33c4cf8b",
   "metadata": {},
   "outputs": [],
   "source": [
    "def banner_text(text=\" \", banner_width=80):\n",
    "    if len(text) > banner_width - 4:\n",
    "        raise ValueError(\"'{0}' is larger than specified width {1}\".format(text, banner_width))\n",
    "    \n",
    "    if text == '*':\n",
    "        print(\"*\" * banner_width)\n",
    "    else:\n",
    "        centered_text = text.center(banner_width - 4)\n",
    "        output_string = \"**{0}**\".format(centered_text)\n",
    "        print(output_string)"
   ]
  },
  {
   "cell_type": "code",
   "execution_count": 2,
   "id": "41154436",
   "metadata": {},
   "outputs": [
    {
     "name": "stdout",
     "output_type": "stream",
     "text": [
      "********************************************************************************\n",
      "**                 Always look on the bright side of life...                  **\n",
      "**                        If life seems jolly rotten,                         **\n",
      "**                    There's something you've forgotten!                     **\n",
      "**             And that's to laugh and smile and dance and sing,              **\n",
      "**                                                                            **\n",
      "**                     When you're feeling in the dumps,                      **\n",
      "**                           Don't be silly chumps,                           **\n",
      "**            Just purse your lips and whistle - that's the thing!            **\n",
      "**              And... always look on the bright side of life...              **\n",
      "********************************************************************************\n"
     ]
    }
   ],
   "source": [
    "banner_text(\"*\")\n",
    "banner_text(\"Always look on the bright side of life...\")\n",
    "banner_text(\"If life seems jolly rotten,\")\n",
    "banner_text(\"There's something you've forgotten!\")\n",
    "banner_text(\"And that's to laugh and smile and dance and sing,\")\n",
    "# Call function to output blank line\n",
    "banner_text()\n",
    "banner_text(\"When you're feeling in the dumps,\")\n",
    "banner_text(\"Don't be silly chumps,\")\n",
    "banner_text(\"Just purse your lips and whistle - that's the thing!\")\n",
    "banner_text(\"And... always look on the bright side of life...\")\n",
    "banner_text(\"*\")"
   ]
  },
  {
   "cell_type": "code",
   "execution_count": 3,
   "id": "211fe448",
   "metadata": {},
   "outputs": [
    {
     "name": "stdout",
     "output_type": "stream",
     "text": [
      "********************************************************************************\n",
      "**                 Always look on the bright side of life...                  **\n",
      "**                        If life seems jolly rotten,                         **\n",
      "**                    There's something you've forgotten!                     **\n",
      "**             And that's to laugh and smile and dance and sing,              **\n"
     ]
    },
    {
     "ename": "ValueError",
     "evalue": "'My very photogenic mother died in a freak accident (picnic, lightning) when I was three.' is larger than specified width 80",
     "output_type": "error",
     "traceback": [
      "\u001b[1;31m---------------------------------------------------------------------------\u001b[0m",
      "\u001b[1;31mValueError\u001b[0m                                Traceback (most recent call last)",
      "Cell \u001b[1;32mIn[3], line 6\u001b[0m\n\u001b[0;32m      4\u001b[0m banner_text(\u001b[38;5;124m\"\u001b[39m\u001b[38;5;124mThere\u001b[39m\u001b[38;5;124m'\u001b[39m\u001b[38;5;124ms something you\u001b[39m\u001b[38;5;124m'\u001b[39m\u001b[38;5;124mve forgotten!\u001b[39m\u001b[38;5;124m\"\u001b[39m)\n\u001b[0;32m      5\u001b[0m banner_text(\u001b[38;5;124m\"\u001b[39m\u001b[38;5;124mAnd that\u001b[39m\u001b[38;5;124m'\u001b[39m\u001b[38;5;124ms to laugh and smile and dance and sing,\u001b[39m\u001b[38;5;124m\"\u001b[39m)\n\u001b[1;32m----> 6\u001b[0m \u001b[43mbanner_text\u001b[49m\u001b[43m(\u001b[49m\u001b[38;5;124;43m\"\u001b[39;49m\u001b[38;5;124;43mMy very photogenic mother died in a freak accident (picnic, lightning) when I was three.\u001b[39;49m\u001b[38;5;124;43m\"\u001b[39;49m\u001b[43m)\u001b[49m\n\u001b[0;32m      7\u001b[0m banner_text(\u001b[38;5;124m\"\u001b[39m\u001b[38;5;124mWhen you\u001b[39m\u001b[38;5;124m'\u001b[39m\u001b[38;5;124mre feeling in the dumps,\u001b[39m\u001b[38;5;124m\"\u001b[39m)\n\u001b[0;32m      8\u001b[0m banner_text(\u001b[38;5;124m\"\u001b[39m\u001b[38;5;124mDon\u001b[39m\u001b[38;5;124m'\u001b[39m\u001b[38;5;124mt be silly chumps,\u001b[39m\u001b[38;5;124m\"\u001b[39m)\n",
      "Cell \u001b[1;32mIn[1], line 3\u001b[0m, in \u001b[0;36mbanner_text\u001b[1;34m(text, banner_width)\u001b[0m\n\u001b[0;32m      1\u001b[0m \u001b[38;5;28;01mdef\u001b[39;00m \u001b[38;5;21mbanner_text\u001b[39m(text\u001b[38;5;241m=\u001b[39m\u001b[38;5;124m\"\u001b[39m\u001b[38;5;124m \u001b[39m\u001b[38;5;124m\"\u001b[39m, banner_width\u001b[38;5;241m=\u001b[39m\u001b[38;5;241m80\u001b[39m):\n\u001b[0;32m      2\u001b[0m     \u001b[38;5;28;01mif\u001b[39;00m \u001b[38;5;28mlen\u001b[39m(text) \u001b[38;5;241m>\u001b[39m banner_width \u001b[38;5;241m-\u001b[39m \u001b[38;5;241m4\u001b[39m:\n\u001b[1;32m----> 3\u001b[0m         \u001b[38;5;28;01mraise\u001b[39;00m \u001b[38;5;167;01mValueError\u001b[39;00m(\u001b[38;5;124m\"\u001b[39m\u001b[38;5;124m'\u001b[39m\u001b[38;5;132;01m{0}\u001b[39;00m\u001b[38;5;124m'\u001b[39m\u001b[38;5;124m is larger than specified width \u001b[39m\u001b[38;5;132;01m{1}\u001b[39;00m\u001b[38;5;124m\"\u001b[39m\u001b[38;5;241m.\u001b[39mformat(text, banner_width))\n\u001b[0;32m      5\u001b[0m     \u001b[38;5;28;01mif\u001b[39;00m text \u001b[38;5;241m==\u001b[39m \u001b[38;5;124m'\u001b[39m\u001b[38;5;124m*\u001b[39m\u001b[38;5;124m'\u001b[39m:\n\u001b[0;32m      6\u001b[0m         \u001b[38;5;28mprint\u001b[39m(\u001b[38;5;124m\"\u001b[39m\u001b[38;5;124m*\u001b[39m\u001b[38;5;124m\"\u001b[39m \u001b[38;5;241m*\u001b[39m banner_width)\n",
      "\u001b[1;31mValueError\u001b[0m: 'My very photogenic mother died in a freak accident (picnic, lightning) when I was three.' is larger than specified width 80"
     ]
    }
   ],
   "source": [
    "banner_text(\"*\")\n",
    "banner_text(\"Always look on the bright side of life...\")\n",
    "banner_text(\"If life seems jolly rotten,\")\n",
    "banner_text(\"There's something you've forgotten!\")\n",
    "banner_text(\"And that's to laugh and smile and dance and sing,\")\n",
    "banner_text(\"My very photogenic mother died in a freak accident (picnic, lightning) when I was three.\")\n",
    "banner_text(\"When you're feeling in the dumps,\")\n",
    "banner_text(\"Don't be silly chumps,\")\n",
    "banner_text(\"Just purse your lips and whistle - that's the thing!\")\n",
    "banner_text(\"And... always look on the bright side of life...\")\n",
    "banner_text(\"*\")"
   ]
  },
  {
   "cell_type": "code",
   "execution_count": 6,
   "id": "52480010",
   "metadata": {},
   "outputs": [
    {
     "name": "stdout",
     "output_type": "stream",
     "text": [
      "********************************************************************************\n",
      "**                 Always look on the bright side of life...                  **\n",
      "**                        If life seems jolly rotten,                         **\n",
      "**                    There's something you've forgotten!                     **\n",
      "**             And that's to laugh and smile and dance and sing,              **\n",
      "**                                                                                           **\n",
      "**  My very photogenic mother died in a freak accident (picnic, lightning) when I was three. **\n",
      "**                                                                                           **\n",
      "**                     When you're feeling in the dumps,                      **\n",
      "**                           Don't be silly chumps,                           **\n",
      "**            Just purse your lips and whistle - that's the thing!            **\n",
      "**              And... always look on the bright side of life...              **\n",
      "********************************************************************************\n"
     ]
    }
   ],
   "source": [
    "banner_text(\"*\")\n",
    "banner_text(\"Always look on the bright side of life...\")\n",
    "banner_text(\"If life seems jolly rotten,\")\n",
    "banner_text(\"There's something you've forgotten!\")\n",
    "banner_text(\"And that's to laugh and smile and dance and sing,\")\n",
    "banner_text(banner_width=95)\n",
    "banner_text(\"My very photogenic mother died in a freak accident (picnic, lightning) when I was three.\", 95)\n",
    "banner_text(banner_width=95)\n",
    "banner_text(\"When you're feeling in the dumps,\")\n",
    "banner_text(\"Don't be silly chumps,\")\n",
    "banner_text(\"Just purse your lips and whistle - that's the thing!\")\n",
    "banner_text(\"And... always look on the bright side of life...\")\n",
    "banner_text(\"*\")"
   ]
  },
  {
   "cell_type": "markdown",
   "id": "9839130f",
   "metadata": {},
   "source": [
    "**When you edit the default parameter value by naming it in the function call, i.e. `banner_width=95`, the default argument becomes a keyword argument.**"
   ]
  },
  {
   "cell_type": "code",
   "execution_count": null,
   "id": "4362a73d",
   "metadata": {},
   "outputs": [],
   "source": []
  }
 ],
 "metadata": {
  "kernelspec": {
   "display_name": "Python 3 (ipykernel)",
   "language": "python",
   "name": "python3"
  },
  "language_info": {
   "codemirror_mode": {
    "name": "ipython",
    "version": 3
   },
   "file_extension": ".py",
   "mimetype": "text/x-python",
   "name": "python",
   "nbconvert_exporter": "python",
   "pygments_lexer": "ipython3",
   "version": "3.9.17"
  }
 },
 "nbformat": 4,
 "nbformat_minor": 5
}
