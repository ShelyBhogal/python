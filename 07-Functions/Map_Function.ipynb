{
 "cells": [
  {
   "cell_type": "markdown",
   "id": "e01680c1",
   "metadata": {},
   "source": [
    "# The `map()` Function\n",
    "\n",
    "**Python provides the `map()` function to map contents from one iterable to another, and transforming them along the way. In most cases, it is better to use list comprehension or a generator expression.**"
   ]
  },
  {
   "cell_type": "code",
   "execution_count": 1,
   "id": "d8ff49aa",
   "metadata": {},
   "outputs": [],
   "source": [
    "text = \"what have the romans ever done for us\""
   ]
  },
  {
   "cell_type": "code",
   "execution_count": 2,
   "id": "a77866b1",
   "metadata": {},
   "outputs": [
    {
     "name": "stdout",
     "output_type": "stream",
     "text": [
      "['W', 'H', 'A', 'T', ' ', 'H', 'A', 'V', 'E', ' ', 'T', 'H', 'E', ' ', 'R', 'O', 'M', 'A', 'N', 'S', ' ', 'E', 'V', 'E', 'R', ' ', 'D', 'O', 'N', 'E', ' ', 'F', 'O', 'R', ' ', 'U', 'S']\n"
     ]
    }
   ],
   "source": [
    "capital_letters = [char.upper() for char in text]\n",
    "\n",
    "print(capital_letters)"
   ]
  },
  {
   "cell_type": "code",
   "execution_count": 3,
   "id": "e3ffd90b",
   "metadata": {},
   "outputs": [
    {
     "name": "stdout",
     "output_type": "stream",
     "text": [
      "['WHAT', 'HAVE', 'THE', 'ROMANS', 'EVER', 'DONE', 'FOR', 'US']\n"
     ]
    }
   ],
   "source": [
    "capital_words = [word.upper() for word in text.split(' ')]\n",
    "\n",
    "print(capital_words)"
   ]
  },
  {
   "cell_type": "markdown",
   "id": "8a60a3e1",
   "metadata": {},
   "source": [
    "**You can do the same thing with `map()` function:**"
   ]
  },
  {
   "cell_type": "code",
   "execution_count": 6,
   "id": "0b8521f3",
   "metadata": {},
   "outputs": [
    {
     "name": "stdout",
     "output_type": "stream",
     "text": [
      "['W', 'H', 'A', 'T', ' ', 'H', 'A', 'V', 'E', ' ', 'T', 'H', 'E', ' ', 'R', 'O', 'M', 'A', 'N', 'S', ' ', 'E', 'V', 'E', 'R', ' ', 'D', 'O', 'N', 'E', ' ', 'F', 'O', 'R', ' ', 'U', 'S']\n"
     ]
    }
   ],
   "source": [
    "capital_letters = list(map(str.upper, text))\n",
    "\n",
    "print(capital_letters)"
   ]
  },
  {
   "cell_type": "code",
   "execution_count": 7,
   "id": "1eb01546",
   "metadata": {},
   "outputs": [
    {
     "name": "stdout",
     "output_type": "stream",
     "text": [
      "['WHAT', 'HAVE', 'THE', 'ROMANS', 'EVER', 'DONE', 'FOR', 'US']\n"
     ]
    }
   ],
   "source": [
    "capital_letters = list(map(str.upper, text.split(' ')))\n",
    "\n",
    "print(capital_letters)"
   ]
  },
  {
   "cell_type": "markdown",
   "id": "cd21dda3",
   "metadata": {},
   "source": [
    "**You can also use `for` loop to print the transformed item with each iteration.**"
   ]
  },
  {
   "cell_type": "code",
   "execution_count": 8,
   "id": "0b0d0ec5",
   "metadata": {},
   "outputs": [
    {
     "name": "stdout",
     "output_type": "stream",
     "text": [
      "WHAT\n",
      "HAVE\n",
      "THE\n",
      "ROMANS\n",
      "EVER\n",
      "DONE\n",
      "FOR\n",
      "US\n"
     ]
    }
   ],
   "source": [
    "for word in map(str.upper, text.split(' ')):\n",
    "    print(word)"
   ]
  },
  {
   "cell_type": "markdown",
   "id": "cabd1c6e",
   "metadata": {},
   "source": [
    "**In these simple examples, there is nothing much to be gained in performance by using list comprehension over `map()`, but list comprehensions are easier to read and write.**\n",
    "\n",
    "**You can test the performance of the different transformations with `timeit` module. In this case, it would be best to wrap the code in functions, rather than passing them as strings to the `timeit()` method.** "
   ]
  },
  {
   "cell_type": "code",
   "execution_count": 9,
   "id": "d7508741",
   "metadata": {},
   "outputs": [],
   "source": [
    "import timeit"
   ]
  },
  {
   "cell_type": "code",
   "execution_count": 11,
   "id": "5a1ff4eb",
   "metadata": {},
   "outputs": [
    {
     "name": "stdout",
     "output_type": "stream",
     "text": [
      "['W', 'H', 'A', 'T', ' ', 'H', 'A', 'V', 'E', ' ', 'T', 'H', 'E', ' ', 'R', 'O', 'M', 'A', 'N', 'S', ' ', 'E', 'V', 'E', 'R', ' ', 'D', 'O', 'N', 'E', ' ', 'F', 'O', 'R', ' ', 'U', 'S']\n"
     ]
    }
   ],
   "source": [
    "def capital_letters():\n",
    "    cl = [char.upper() for char in text]\n",
    "    return cl\n",
    "\n",
    "\n",
    "print(capital_letters())"
   ]
  },
  {
   "cell_type": "code",
   "execution_count": 12,
   "id": "15ed8c79",
   "metadata": {},
   "outputs": [
    {
     "name": "stdout",
     "output_type": "stream",
     "text": [
      "['WHAT', 'HAVE', 'THE', 'ROMANS', 'EVER', 'DONE', 'FOR', 'US']\n"
     ]
    }
   ],
   "source": [
    "def capital_words():\n",
    "    cw = [word.upper() for word in text.split(' ')]\n",
    "    return cw\n",
    "\n",
    "\n",
    "print(capital_words())"
   ]
  },
  {
   "cell_type": "code",
   "execution_count": 13,
   "id": "420aeb4e",
   "metadata": {},
   "outputs": [
    {
     "name": "stdout",
     "output_type": "stream",
     "text": [
      "['W', 'H', 'A', 'T', ' ', 'H', 'A', 'V', 'E', ' ', 'T', 'H', 'E', ' ', 'R', 'O', 'M', 'A', 'N', 'S', ' ', 'E', 'V', 'E', 'R', ' ', 'D', 'O', 'N', 'E', ' ', 'F', 'O', 'R', ' ', 'U', 'S']\n"
     ]
    }
   ],
   "source": [
    "def mapped_capitals():\n",
    "    cl = list(map(str.upper, text))\n",
    "    return cl\n",
    "\n",
    "\n",
    "print(mapped_capitals())"
   ]
  },
  {
   "cell_type": "code",
   "execution_count": 15,
   "id": "5a945702",
   "metadata": {},
   "outputs": [
    {
     "name": "stdout",
     "output_type": "stream",
     "text": [
      "['WHAT', 'HAVE', 'THE', 'ROMANS', 'EVER', 'DONE', 'FOR', 'US']\n"
     ]
    }
   ],
   "source": [
    "def mapped_words():\n",
    "    cw = list(map(str.upper, text.split(' ')))\n",
    "    return cw\n",
    "\n",
    "\n",
    "print(mapped_words())"
   ]
  },
  {
   "cell_type": "code",
   "execution_count": 24,
   "id": "2bdc373a",
   "metadata": {},
   "outputs": [
    {
     "name": "stdout",
     "output_type": "stream",
     "text": [
      "Capital Letters with List Comprehension: 0.03839349999998376 seconds\n",
      "Capital Letters 'mapped':\t\t0.01841119999971852 seconds\n",
      "Capital Words with List Comprehension:  0.01013150000017049 seconds\n",
      "Capital Words 'mapped':\t\t\t0.00822150000021793 seconds\n"
     ]
    }
   ],
   "source": [
    "cl_list_comp = timeit.timeit(capital_letters, number=10000)\n",
    "print(f\"Capital Letters with List Comprehension: {cl_list_comp} seconds\")\n",
    "\n",
    "cl_mapped = timeit.timeit(mapped_capitals, number=10000)\n",
    "print(f\"Capital Letters 'mapped':\\t\\t{cl_mapped} seconds\")\n",
    "\n",
    "cw_list_comp = timeit.timeit(capital_words, number=10000)\n",
    "print(f\"Capital Words with List Comprehension:  {cw_list_comp} seconds\")\n",
    "\n",
    "cw_mapped = timeit.timeit(mapped_words, number=10000)\n",
    "print(f\"Capital Words 'mapped':\\t\\t\\t{cw_mapped} seconds\")"
   ]
  },
  {
   "cell_type": "markdown",
   "id": "7329c318",
   "metadata": {},
   "source": [
    "**It appears that mapping the objects is generally quicker than using list comprehension, which is unusual... On most operating systems, the list comprehension would be faster.**"
   ]
  },
  {
   "cell_type": "code",
   "execution_count": null,
   "id": "98171484",
   "metadata": {},
   "outputs": [],
   "source": []
  }
 ],
 "metadata": {
  "kernelspec": {
   "display_name": "Python 3 (ipykernel)",
   "language": "python",
   "name": "python3"
  },
  "language_info": {
   "codemirror_mode": {
    "name": "ipython",
    "version": 3
   },
   "file_extension": ".py",
   "mimetype": "text/x-python",
   "name": "python",
   "nbconvert_exporter": "python",
   "pygments_lexer": "ipython3",
   "version": "3.9.17"
  }
 },
 "nbformat": 4,
 "nbformat_minor": 5
}
