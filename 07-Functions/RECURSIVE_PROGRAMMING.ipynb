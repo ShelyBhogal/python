{
 "cells": [
  {
   "cell_type": "markdown",
   "id": "a45ddb78",
   "metadata": {},
   "source": [
    "# Recursive Programming\n",
    "\n",
    "**Python allows for recursive programming in nested functions and loops. Take the simple example of calculating factorials for a range of numbers:**"
   ]
  },
  {
   "cell_type": "code",
   "execution_count": 1,
   "id": "3af5b209",
   "metadata": {},
   "outputs": [],
   "source": [
    "def factorial(n):\n",
    "    result = 1\n",
    "    \n",
    "    if n > 1:\n",
    "        for f in range(2, n + 1):\n",
    "            result *= f\n",
    "            \n",
    "    return result"
   ]
  },
  {
   "cell_type": "code",
   "execution_count": 2,
   "id": "5cb092df",
   "metadata": {},
   "outputs": [
    {
     "name": "stdout",
     "output_type": "stream",
     "text": [
      "0 1\n",
      "1 1\n",
      "2 2\n",
      "3 6\n",
      "4 24\n",
      "5 120\n",
      "6 720\n",
      "7 5040\n",
      "8 40320\n",
      "9 362880\n",
      "10 3628800\n",
      "11 39916800\n",
      "12 479001600\n",
      "13 6227020800\n",
      "14 87178291200\n",
      "15 1307674368000\n",
      "16 20922789888000\n",
      "17 355687428096000\n",
      "18 6402373705728000\n",
      "19 121645100408832000\n",
      "20 2432902008176640000\n"
     ]
    }
   ],
   "source": [
    "for i in range(21):\n",
    "    print(i, factorial(i))"
   ]
  },
  {
   "cell_type": "markdown",
   "id": "721acd25",
   "metadata": {},
   "source": [
    "**This is a good demonstration of recursion because each iteration depends on the previous output, i.e. the current solution depends on the solutions to smaller instances of the same problem:**\n",
    "\n",
    "    2! = 1! x 2\n",
    "    3! = 2! x 3\n",
    "    4! = 3! x 4\n",
    "    5! = 4! x 5\n",
    "    6! = 5! x 6\n",
    "    etc\n",
    "    \n",
    "**This can be rewritten as `n! = n * (n - 1)!` mathematically. Nest the factorial function in another function to perform this calculation, and you get the same output, but *recursively*!**"
   ]
  },
  {
   "cell_type": "code",
   "execution_count": 3,
   "id": "37d7a9ea",
   "metadata": {},
   "outputs": [],
   "source": [
    "def fact(n):\n",
    "    if n <= 1:\n",
    "        return 1\n",
    "    else:\n",
    "        # Nested factorial() function to find (n-1)!\n",
    "        return n * factorial(n-1)"
   ]
  },
  {
   "cell_type": "code",
   "execution_count": 4,
   "id": "d2d56168",
   "metadata": {},
   "outputs": [
    {
     "name": "stdout",
     "output_type": "stream",
     "text": [
      "0 1\n",
      "1 1\n",
      "2 2\n",
      "3 6\n",
      "4 24\n",
      "5 120\n",
      "6 720\n",
      "7 5040\n",
      "8 40320\n",
      "9 362880\n",
      "10 3628800\n",
      "11 39916800\n",
      "12 479001600\n",
      "13 6227020800\n",
      "14 87178291200\n",
      "15 1307674368000\n",
      "16 20922789888000\n",
      "17 355687428096000\n",
      "18 6402373705728000\n",
      "19 121645100408832000\n",
      "20 2432902008176640000\n"
     ]
    }
   ],
   "source": [
    "for i in range(21):\n",
    "    print(i, fact(i))"
   ]
  },
  {
   "cell_type": "markdown",
   "id": "084e4379",
   "metadata": {},
   "source": [
    "**Another recursive pattern in mathematics is the Fibonacci Series, which occurs on its own in nature. The function below is another example of recursive programming, because it calls its own function in the function...!**"
   ]
  },
  {
   "cell_type": "code",
   "execution_count": 5,
   "id": "3be1bfe8",
   "metadata": {},
   "outputs": [],
   "source": [
    "def fibonacci(n):\n",
    "    \"\"\"(n - 1) + (n - 2)\"\"\"\n",
    "    if n < 2:\n",
    "        return n\n",
    "    else:\n",
    "        return fibonacci(n - 1) + fibonacci(n - 2)"
   ]
  },
  {
   "cell_type": "code",
   "execution_count": 6,
   "id": "bb023208",
   "metadata": {},
   "outputs": [
    {
     "name": "stdout",
     "output_type": "stream",
     "text": [
      "0 0\n",
      "1 1\n",
      "2 1\n",
      "3 2\n",
      "4 3\n",
      "5 5\n",
      "6 8\n",
      "7 13\n",
      "8 21\n",
      "9 34\n",
      "10 55\n",
      "11 89\n",
      "12 144\n",
      "13 233\n",
      "14 377\n",
      "15 610\n",
      "16 987\n",
      "17 1597\n",
      "18 2584\n",
      "19 4181\n",
      "20 6765\n",
      "21 10946\n",
      "22 17711\n",
      "23 28657\n",
      "24 46368\n",
      "25 75025\n",
      "26 121393\n",
      "27 196418\n",
      "28 317811\n",
      "29 514229\n",
      "30 832040\n"
     ]
    }
   ],
   "source": [
    "for i in range(31):\n",
    "    print(i, fibonacci(i))"
   ]
  },
  {
   "cell_type": "markdown",
   "id": "15cf6ba7",
   "metadata": {},
   "source": [
    "**Saying that, this is not a good way to show Fibonacci pattern as the computation is much slower. It is much more efficient if done iteratively, as below. Recursion is not always the answer.**"
   ]
  },
  {
   "cell_type": "code",
   "execution_count": 7,
   "id": "5a7a2bc6",
   "metadata": {},
   "outputs": [],
   "source": [
    "def fib(n):\n",
    "    if n == 0:\n",
    "        result = 0\n",
    "    elif n == 1:\n",
    "        result = 1\n",
    "    else:\n",
    "        n_minus1 = 1\n",
    "        n_minus2 = 0\n",
    "        \n",
    "        for f in range(1, n):\n",
    "            result = n_minus2 + n_minus1\n",
    "            n_minus2 = n_minus1\n",
    "            n_minus1 = result\n",
    "            \n",
    "    return result"
   ]
  },
  {
   "cell_type": "code",
   "execution_count": 8,
   "id": "789e3358",
   "metadata": {},
   "outputs": [
    {
     "name": "stdout",
     "output_type": "stream",
     "text": [
      "0 0\n",
      "1 1\n",
      "2 1\n",
      "3 2\n",
      "4 3\n",
      "5 5\n",
      "6 8\n",
      "7 13\n",
      "8 21\n",
      "9 34\n",
      "10 55\n",
      "11 89\n",
      "12 144\n",
      "13 233\n",
      "14 377\n",
      "15 610\n",
      "16 987\n",
      "17 1597\n",
      "18 2584\n",
      "19 4181\n",
      "20 6765\n",
      "21 10946\n",
      "22 17711\n",
      "23 28657\n",
      "24 46368\n",
      "25 75025\n",
      "26 121393\n",
      "27 196418\n",
      "28 317811\n",
      "29 514229\n",
      "30 832040\n"
     ]
    }
   ],
   "source": [
    "for i in range(31):\n",
    "    print(i, fib(i))"
   ]
  },
  {
   "cell_type": "markdown",
   "id": "46e17548",
   "metadata": {},
   "source": [
    "## The `os` walk\n",
    "\n",
    "**There are some useful applications using recursion, including folder management in computer systems. Since folders can contain files and sub-folders, which in turn can contain files and sub-folders etc., there is an element of recursion. To 'walk' through a current folder requires breaking the whole part into smaller sub-sections, so the function is constantly going back a step to go forward.**\n",
    "\n",
    "**NOTE: Current folder notation is `'.'` (period).**"
   ]
  },
  {
   "cell_type": "code",
   "execution_count": 1,
   "id": "ea3ace18",
   "metadata": {},
   "outputs": [],
   "source": [
    "import os"
   ]
  },
  {
   "cell_type": "code",
   "execution_count": 10,
   "id": "a33b1c93",
   "metadata": {},
   "outputs": [
    {
     "name": "stdout",
     "output_type": "stream",
     "text": [
      ".\n",
      "\t .ipynb_checkpoints\n",
      "\t\t Any_and_All.ipynb\n",
      "\t\t ARGS_and_KWARGS.ipynb\n",
      "\t\t Banner_Generation.ipynb\n",
      "\t\t Colour_Printing.ipynb\n",
      "\t\t Factorial.ipynb\n",
      "\t\t Fibonacci.ipynb\n",
      "\t\t fibonacci.png\n",
      "\t\t fibonacci_nums.png\n",
      "\t\t Filter_Function.ipynb\n",
      "\t\t Fizz_Buzz.ipynb\n",
      "\t\t Guessing_Game.ipynb\n",
      "\t\t Hash_Functions.ipynb\n",
      "\t\t Intro.ipynb\n",
      "\t\t LAMBDA.ipynb\n",
      "\t\t Map_Function.ipynb\n",
      "\t\t Nested_Functions.ipynb\n",
      "\t\t Recursive_Programming.ipynb\n",
      "\t\t Reduce_Function.ipynb\n",
      ".\\.ipynb_checkpoints\n",
      "\t\t Any_and_All-checkpoint.ipynb\n",
      "\t\t ARGS_and_KWARGS-checkpoint.ipynb\n",
      "\t\t Banner_Generation-checkpoint.ipynb\n",
      "\t\t Colour_Printing-checkpoint.ipynb\n",
      "\t\t Factorial-checkpoint.ipynb\n",
      "\t\t Fibonacci-checkpoint.ipynb\n",
      "\t\t Filter_Function-checkpoint.ipynb\n",
      "\t\t Fizz_Buzz-checkpoint.ipynb\n",
      "\t\t Guessing_Game-checkpoint.ipynb\n",
      "\t\t Hash_Functions-checkpoint.ipynb\n",
      "\t\t Intro-checkpoint.ipynb\n",
      "\t\t LAMBDA-checkpoint.ipynb\n",
      "\t\t Map_Function-checkpoint.ipynb\n",
      "\t\t Nested_Functions-checkpoint.ipynb\n",
      "\t\t Recursive_Programming-checkpoint.ipynb\n",
      "\t\t Reduce_Function-checkpoint.ipynb\n"
     ]
    }
   ],
   "source": [
    "# Walk returns list of tuples containing current folder name and two lists:\n",
    "# list 1 is any sub-folders\n",
    "# list 2 is any files\n",
    "listing = os.walk('.')\n",
    "\n",
    "for root, directories, files in listing:\n",
    "    print(root)\n",
    "    \n",
    "    for d in directories:\n",
    "        print('\\t', d)\n",
    "        \n",
    "    for file in files:\n",
    "        print('\\t\\t', file)"
   ]
  },
  {
   "cell_type": "markdown",
   "id": "d87cb62d",
   "metadata": {},
   "source": [
    "**For the same output, you can create an outer function to list directories, which has an inner function defined to check whether it is the current folder to be looking at, then list the contents.**"
   ]
  },
  {
   "cell_type": "code",
   "execution_count": 11,
   "id": "7431a6fe",
   "metadata": {},
   "outputs": [],
   "source": [
    "# Outer function\n",
    "def list_directories(s):\n",
    "    \n",
    "    # Inner function\n",
    "    def dir_list(d):\n",
    "        # Access tab_stop from outer function\n",
    "        nonlocal tab_stop\n",
    "        \n",
    "        files = os.listdir(d)\n",
    "        for f in files:\n",
    "            current_dir = os.path.join(d, f)\n",
    "            if os.path.isdir(current_dir):\n",
    "                print(\"\\t\" * tab_stop + \"DIRECTORY \" + f)\n",
    "                tab_stop += 1\n",
    "                dir_list(current_dir)\n",
    "                tab_stop -= 1\n",
    "            else:\n",
    "                print(\"\\t\" * tab_stop + f)\n",
    "    \n",
    "    \n",
    "    tab_stop = 0\n",
    "    \n",
    "    if os.path.exists(s):\n",
    "        print(\"DIRECTORY LISTING FOR \" + s)\n",
    "        # Call nested function\n",
    "        dir_list(s)\n",
    "    else:\n",
    "        print(s + \" DOES NOT EXIST\")"
   ]
  },
  {
   "cell_type": "code",
   "execution_count": 12,
   "id": "9c405d4e",
   "metadata": {},
   "outputs": [
    {
     "name": "stdout",
     "output_type": "stream",
     "text": [
      "DIRECTORY LISTING FOR .\n",
      "DIRECTORY .ipynb_checkpoints\n",
      "\tAny_and_All-checkpoint.ipynb\n",
      "\tARGS_and_KWARGS-checkpoint.ipynb\n",
      "\tBanner_Generation-checkpoint.ipynb\n",
      "\tColour_Printing-checkpoint.ipynb\n",
      "\tFactorial-checkpoint.ipynb\n",
      "\tFibonacci-checkpoint.ipynb\n",
      "\tFilter_Function-checkpoint.ipynb\n",
      "\tFizz_Buzz-checkpoint.ipynb\n",
      "\tGuessing_Game-checkpoint.ipynb\n",
      "\tHash_Functions-checkpoint.ipynb\n",
      "\tIntro-checkpoint.ipynb\n",
      "\tLAMBDA-checkpoint.ipynb\n",
      "\tMap_Function-checkpoint.ipynb\n",
      "\tNested_Functions-checkpoint.ipynb\n",
      "\tRecursive_Programming-checkpoint.ipynb\n",
      "\tReduce_Function-checkpoint.ipynb\n",
      "Any_and_All.ipynb\n",
      "ARGS_and_KWARGS.ipynb\n",
      "Banner_Generation.ipynb\n",
      "Colour_Printing.ipynb\n",
      "Factorial.ipynb\n",
      "Fibonacci.ipynb\n",
      "fibonacci.png\n",
      "fibonacci_nums.png\n",
      "Filter_Function.ipynb\n",
      "Fizz_Buzz.ipynb\n",
      "Guessing_Game.ipynb\n",
      "Hash_Functions.ipynb\n",
      "Intro.ipynb\n",
      "LAMBDA.ipynb\n",
      "Map_Function.ipynb\n",
      "Nested_Functions.ipynb\n",
      "Recursive_Programming.ipynb\n",
      "Reduce_Function.ipynb\n"
     ]
    }
   ],
   "source": [
    "list_directories('.')"
   ]
  },
  {
   "cell_type": "code",
   "execution_count": 2,
   "id": "0b1f4f5b",
   "metadata": {},
   "outputs": [
    {
     "name": "stdout",
     "output_type": "stream",
     "text": [
      "C:/Users/shmel/repositories/nlp-advanced\n",
      "\t .git\n",
      "\t 01-Vector-Models-and-Text-Preprocessing\n",
      "\t 02-Markov-Models\n",
      "\t 03-Spam-Detection\n",
      "\t 04-Sentiment-Analysis\n",
      "\t 05-Text-Summarization\n",
      "\t 06-Topic-Modelling\n",
      "\t 07-Latent-Semantic-Analysis\n",
      "\t 08-Basic-Neural-Network\n",
      "\t 09-ANNs\n",
      "\t 10-CNNs\n",
      "\t 11-RNNs\n",
      "\t 12-PyTorch\n"
     ]
    },
    {
     "ename": "FileNotFoundError",
     "evalue": "[WinError 2] The system cannot find the file specified: '.gitignore'",
     "output_type": "error",
     "traceback": [
      "\u001b[1;31m---------------------------------------------------------------------------\u001b[0m",
      "\u001b[1;31mFileNotFoundError\u001b[0m                         Traceback (most recent call last)",
      "Cell \u001b[1;32mIn[2], line 10\u001b[0m\n\u001b[0;32m      7\u001b[0m     \u001b[38;5;28mprint\u001b[39m(\u001b[38;5;124m'\u001b[39m\u001b[38;5;130;01m\\t\u001b[39;00m\u001b[38;5;124m'\u001b[39m, d)\n\u001b[0;32m      9\u001b[0m \u001b[38;5;28;01mfor\u001b[39;00m file \u001b[38;5;129;01min\u001b[39;00m files:\n\u001b[1;32m---> 10\u001b[0m     \u001b[38;5;28;01mif\u001b[39;00m \u001b[43mos\u001b[49m\u001b[38;5;241;43m.\u001b[39;49m\u001b[43mpath\u001b[49m\u001b[38;5;241;43m.\u001b[39;49m\u001b[43mgetsize\u001b[49m\u001b[43m(\u001b[49m\u001b[43mfile\u001b[49m\u001b[43m)\u001b[49m \u001b[38;5;241m>\u001b[39m \u001b[38;5;241m100000000\u001b[39m:\n\u001b[0;32m     11\u001b[0m         \u001b[38;5;28mprint\u001b[39m(\u001b[38;5;124m'\u001b[39m\u001b[38;5;130;01m\\t\u001b[39;00m\u001b[38;5;130;01m\\t\u001b[39;00m\u001b[38;5;124m'\u001b[39m, file)\n",
      "File \u001b[1;32m~\\Anaconda3\\lib\\genericpath.py:50\u001b[0m, in \u001b[0;36mgetsize\u001b[1;34m(filename)\u001b[0m\n\u001b[0;32m     48\u001b[0m \u001b[38;5;28;01mdef\u001b[39;00m \u001b[38;5;21mgetsize\u001b[39m(filename):\n\u001b[0;32m     49\u001b[0m \u001b[38;5;250m    \u001b[39m\u001b[38;5;124;03m\"\"\"Return the size of a file, reported by os.stat().\"\"\"\u001b[39;00m\n\u001b[1;32m---> 50\u001b[0m     \u001b[38;5;28;01mreturn\u001b[39;00m \u001b[43mos\u001b[49m\u001b[38;5;241;43m.\u001b[39;49m\u001b[43mstat\u001b[49m\u001b[43m(\u001b[49m\u001b[43mfilename\u001b[49m\u001b[43m)\u001b[49m\u001b[38;5;241m.\u001b[39mst_size\n",
      "\u001b[1;31mFileNotFoundError\u001b[0m: [WinError 2] The system cannot find the file specified: '.gitignore'"
     ]
    }
   ],
   "source": [
    "# Get all files over 100MB in specified repository\n",
    "\n",
    "listing = os.walk('C:/Users/shmel/repositories/nlp-advanced')\n",
    "\n",
    "for root, directories, files in listing:\n",
    "    print(root)\n",
    "    \n",
    "    for d in directories:\n",
    "        print('\\t', d)\n",
    "        \n",
    "    for file in files:\n",
    "        if os.path.getsize(file) > 100000000:\n",
    "            print('\\t\\t', file)"
   ]
  },
  {
   "cell_type": "code",
   "execution_count": null,
   "id": "9607c7f1",
   "metadata": {},
   "outputs": [],
   "source": []
  }
 ],
 "metadata": {
  "kernelspec": {
   "display_name": "Python 3 (ipykernel)",
   "language": "python",
   "name": "python3"
  },
  "language_info": {
   "codemirror_mode": {
    "name": "ipython",
    "version": 3
   },
   "file_extension": ".py",
   "mimetype": "text/x-python",
   "name": "python",
   "nbconvert_exporter": "python",
   "pygments_lexer": "ipython3",
   "version": "3.9.17"
  }
 },
 "nbformat": 4,
 "nbformat_minor": 5
}
