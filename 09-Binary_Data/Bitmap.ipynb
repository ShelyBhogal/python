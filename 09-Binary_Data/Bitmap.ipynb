{
 "cells": [
  {
   "cell_type": "markdown",
   "id": "9bc10809",
   "metadata": {},
   "source": [
    "# Bitmap - the binary datatype\n",
    "\n",
    "**You can read the binary data structure for an image from a bitmap file. You can make changes to the image via the bitmap file.**\n",
    "\n",
    "**In this exercise, read in a monochrome image of Halloween bat and invert the colours by writing updates back to the bitmap file. Yo unee to import the os module to access operating system requirements for processing bitmap files in Windows. Bitmap file formats change per operating system. The code below contains several steps to check whether the source file is actually a valid bitmap file.**\n",
    "\n",
    "**NOTE: This is 3rd-party code, i.e. someone else wrote it! This exercise is more to understand the process, rather than the code, but make sure the source and test files are stored in the current working directory (not data folder). Otherwise the code will crash when writing the changes to the new 'inverted' file.** "
   ]
  },
  {
   "cell_type": "code",
   "execution_count": 6,
   "id": "b3d79ecd",
   "metadata": {},
   "outputs": [],
   "source": [
    "import os\n",
    "\n",
    "source_file = 'vintage-halloween-bat.bmp'\n",
    "\n",
    "# To test code handles files that are not bitmap (invalid)\n",
    "#source_file = 'bm_test.txt'\n",
    "\n",
    "inverted_file = f'inverted-{source_file}'"
   ]
  },
  {
   "cell_type": "code",
   "execution_count": 7,
   "id": "7761a860",
   "metadata": {},
   "outputs": [
    {
     "name": "stdout",
     "output_type": "stream",
     "text": [
      "b'BM'\n",
      "File size in header: 20862\n",
      "File size reported by the operating system: 20862\n",
      "For information, reserved bytes are: b'\\x00\\x00\\x00\\x00'\n",
      "Bitmap data starts at: 62\n",
      "Bitmap header is 40 bytes\n",
      "image is 396 by 400\n",
      "Size of pixel array (bytes) = 20800\n",
      "File pointer is at position 62\n",
      "\tWriting header\n",
      "\tWriting DIB header and other blocks\n",
      "\tWriting image data\n",
      "Image file inverted-vintage-halloween-bat.bmp created.\n"
     ]
    }
   ],
   "source": [
    "with open(source_file, 'rb') as bat:  # No encoding\n",
    "    # Read the 14 byte header\n",
    "    file_header = bat.read(14)\n",
    "\n",
    "    bmp_id = file_header[0:2]\n",
    "    print(bmp_id)\n",
    "    if bmp_id == b'BM':  # If we have Windows bitmap file\n",
    "        file_size = int.from_bytes(file_header[2:6], 'little')\n",
    "        print(f'File size in header: {file_size}')\n",
    "        os_size = os.path.getsize(source_file)\n",
    "        print(f'File size reported by the operating system: {os_size}')\n",
    "        \n",
    "        # If file size meets operating system requirements, then it's bitmap\n",
    "        if file_size != os_size:\n",
    "            print('File size does not match file header size. '\n",
    "                  'Are you sure this is a bitmap file?')\n",
    "        else:\n",
    "            reserved = file_header[6:10]\n",
    "            print(f'For information, reserved bytes are: {reserved}')\n",
    "\n",
    "            # Store when pixel data starts as an integer\n",
    "            offset = int.from_bytes(file_header[-4:], 'little')\n",
    "            print(f'Bitmap data starts at: {offset}')\n",
    "\n",
    "            # Now read the DIB header and other information.\n",
    "            # We're not interested in most of these values, but\n",
    "            # we'll need them when writing the inverted file.\n",
    "            # We read all bytes from the current position to 'offset'.\n",
    "            dib_header_etc = bat.read(offset - bat.tell())\n",
    "\n",
    "            # Check DIB header size\n",
    "            dib_header_size = int.from_bytes(dib_header_etc[0:4], 'little')\n",
    "\n",
    "            # We're only going to process BITMAPINFOHEADER files\n",
    "            print(f'Bitmap header is {dib_header_size} bytes')\n",
    "            if dib_header_size == 40:\n",
    "                image_width = int.from_bytes(dib_header_etc[4:8], 'little', signed=True)\n",
    "                image_height = int.from_bytes(dib_header_etc[8:12], 'little', signed=True)\n",
    "                print(f'image is {image_width} by {image_height}')\n",
    "\n",
    "                # Get the pixel data size (in bytes)\n",
    "                pixel_array_size = int.from_bytes(dib_header_etc[20:24], 'little')\n",
    "                print(f'Size of pixel array (bytes) = {pixel_array_size}')\n",
    "\n",
    "                # Check: we should now be at 'offset' in the file.\n",
    "                current_position = bat.tell()\n",
    "                print(f'File pointer is at position {current_position}')\n",
    "                if current_position != offset:\n",
    "                    print(f\"Something's gone wrong. We're at {current_position}, should be at {offset}\")\n",
    "\n",
    "                bat.seek(offset)  # Strictly speaking, this is redundant.\n",
    "\n",
    "                # Read `pixel_array_size` bytes to get the image pixel data as bytearray\n",
    "                image = bytearray(bat.read(pixel_array_size))\n",
    "                \n",
    "                # Invert image data by iterating over bytearray (mutable) \n",
    "                for index, bite in enumerate(image):\n",
    "                    # Reverse the bits in each byte\n",
    "                    image[index] = bite ^ 255\n",
    "\n",
    "                # Now read the remainder of the file (if any)\n",
    "                remainder = bat.read()\n",
    "                \n",
    "                # Open new inverted file for writing\n",
    "                with open(inverted_file, 'wb') as inverted_bat:\n",
    "                    print(f'\\tWriting header')\n",
    "                    inverted_bat.write(file_header)\n",
    "                    print(f'\\tWriting DIB header and other blocks')\n",
    "                    inverted_bat.write(dib_header_etc)\n",
    "                    print(f'\\tWriting image data')\n",
    "                    inverted_bat.write(image)\n",
    "                    if remainder:\n",
    "                        print(f'\\tWriting remaining bytes')\n",
    "                        inverted_bat.write(remainder)\n",
    "\n",
    "                print(f'Image file {inverted_file} created.')\n",
    "            else:\n",
    "                print(f'{source_file} is not a supported bitmap format.')\n",
    "    else:\n",
    "        print(f'{source_file} does not appear to be a bitmap (.bmp) file.')\n"
   ]
  },
  {
   "cell_type": "markdown",
   "id": "c92169d2",
   "metadata": {},
   "source": [
    "**A new bitmap file should appear in your working directory called 'inverted-vintage-halloween-bat.bmp '. You also have information on the file itself, like the correct 'BM' format and file size, and whether the file size in header is the same as reported by the operating system.**\n",
    "\n",
    "**The pixel data starts at pointer position 62 (`offset` variable), which is used when working directly with the pixels. It is from this offset position that the pixel data is read in, and converted to bytearray to then invert the pixel data.**\n",
    "\n",
    "**You can open the bitmap files in the IDE to view the inverted file along with the original source file. Technically, you should be able to process any bitmap file with this program, even colour images. You will get some interesting results though!**"
   ]
  },
  {
   "cell_type": "code",
   "execution_count": null,
   "id": "a0f50594",
   "metadata": {},
   "outputs": [],
   "source": []
  }
 ],
 "metadata": {
  "kernelspec": {
   "display_name": "Python 3 (ipykernel)",
   "language": "python",
   "name": "python3"
  },
  "language_info": {
   "codemirror_mode": {
    "name": "ipython",
    "version": 3
   },
   "file_extension": ".py",
   "mimetype": "text/x-python",
   "name": "python",
   "nbconvert_exporter": "python",
   "pygments_lexer": "ipython3",
   "version": "3.9.17"
  }
 },
 "nbformat": 4,
 "nbformat_minor": 5
}
