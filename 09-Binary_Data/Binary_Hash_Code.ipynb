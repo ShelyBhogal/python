{
 "cells": [
  {
   "cell_type": "markdown",
   "id": "f89aca52",
   "metadata": {},
   "source": [
    "# Checking the hash code of binary object\n",
    "\n",
    "**For this exercise, you need to download the `colorama-0.4.6-py2.py3-none-any.whl` file from https://pypi.org/project/colorama/. View the hashes for the file to get the hash for the SHA256 algorithm, i.e. `4f1d9991f5acc0ca119f9d443620b77f9d6b33703e51011c16baf57afb285fc6`**"
   ]
  },
  {
   "cell_type": "code",
   "execution_count": 1,
   "id": "dbb6e471",
   "metadata": {},
   "outputs": [],
   "source": [
    "import hashlib"
   ]
  },
  {
   "cell_type": "code",
   "execution_count": 2,
   "id": "25a4df64",
   "metadata": {},
   "outputs": [],
   "source": [
    "published_hash = '4f1d9991f5acc0ca119f9d443620b77f9d6b33703e51011c16baf57afb285fc6'"
   ]
  },
  {
   "cell_type": "code",
   "execution_count": 3,
   "id": "f48ae0f8",
   "metadata": {},
   "outputs": [
    {
     "name": "stdout",
     "output_type": "stream",
     "text": [
      "4f1d9991f5acc0ca119f9d443620b77f9d6b33703e51011c16baf57afb285fc6\n"
     ]
    }
   ],
   "source": [
    "filename = 'data/colorama-0.4.6-py2.py3-none-any.whl'\n",
    "\n",
    "with open(filename, 'rb') as downloaded_file:\n",
    "    contents = downloaded_file.read()\n",
    "    \n",
    "\n",
    "file_hash = hashlib.sha256(contents).hexdigest()\n",
    "print(file_hash)"
   ]
  },
  {
   "cell_type": "markdown",
   "id": "f0b452c5",
   "metadata": {},
   "source": [
    "**The file hash value should match the published hash. This shows, through Python, that the colorama file downloaded from the internet has not been compromised while you were downloading.**"
   ]
  },
  {
   "cell_type": "code",
   "execution_count": 5,
   "id": "411e4d0b",
   "metadata": {},
   "outputs": [
    {
     "name": "stdout",
     "output_type": "stream",
     "text": [
      "data/colorama-0.4.6-py2.py3-none-any.whl hash is correct\n"
     ]
    }
   ],
   "source": [
    "if file_hash != published_hash:\n",
    "    print(f'The file {filename} has been modified')\n",
    "else:\n",
    "    print(f'{filename} hash is correct')"
   ]
  },
  {
   "cell_type": "code",
   "execution_count": null,
   "id": "40dd5053",
   "metadata": {},
   "outputs": [],
   "source": []
  }
 ],
 "metadata": {
  "kernelspec": {
   "display_name": "Python 3 (ipykernel)",
   "language": "python",
   "name": "python3"
  },
  "language_info": {
   "codemirror_mode": {
    "name": "ipython",
    "version": 3
   },
   "file_extension": ".py",
   "mimetype": "text/x-python",
   "name": "python",
   "nbconvert_exporter": "python",
   "pygments_lexer": "ipython3",
   "version": "3.9.17"
  }
 },
 "nbformat": 4,
 "nbformat_minor": 5
}
