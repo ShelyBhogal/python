{
 "cells": [
  {
   "cell_type": "markdown",
   "id": "b60226ff",
   "metadata": {},
   "source": [
    "# Bytes - the binary datatype\n",
    "\n",
    "**A bytes-like object is an array of bytes, i.e. numerical values ranging between 0 and 255. The bytes datatype is an immutable object.**\n",
    "\n",
    "**They are useful when reading binary data from a Unicode text file. If you open a text file in binary mode, you'll see an array of bytes, not a string.**\n",
    "\n",
    "**You can create a bytes type by passing an iterable to the `bytes()` function.**"
   ]
  },
  {
   "cell_type": "code",
   "execution_count": 2,
   "id": "03b3b896",
   "metadata": {},
   "outputs": [
    {
     "name": "stdout",
     "output_type": "stream",
     "text": [
      "b'\\xcf\\x80r\\xc2\\xb2'\n",
      "<class 'bytes'>\n",
      "5\n"
     ]
    }
   ],
   "source": [
    "# Tuple-to-bytes\n",
    "\n",
    "equation = bytes((207, 128, 114, 194, 178))\n",
    "\n",
    "print(equation)\n",
    "print(type(equation))\n",
    "print(len(equation))"
   ]
  },
  {
   "cell_type": "markdown",
   "id": "740bc4c9",
   "metadata": {},
   "source": [
    "**You can *literally* create the bytes object, which looks like a string with `b` prefix containing hexidecimal codes - it is a bytes literal, but as you can see, it is not easy to work with.**"
   ]
  },
  {
   "cell_type": "code",
   "execution_count": 3,
   "id": "d9a416d0",
   "metadata": {},
   "outputs": [
    {
     "name": "stdout",
     "output_type": "stream",
     "text": [
      "b'\\xcf\\x80r\\xc2\\xb2'\n",
      "<class 'bytes'>\n",
      "5\n"
     ]
    }
   ],
   "source": [
    "# You can use any ASCII character in string\n",
    "\n",
    "equation = b'\\xcf\\x80r\\xc2\\xb2'\n",
    "\n",
    "print(equation)\n",
    "print(type(equation))\n",
    "print(len(equation))"
   ]
  },
  {
   "cell_type": "code",
   "execution_count": 4,
   "id": "3d088ccd",
   "metadata": {},
   "outputs": [
    {
     "name": "stdout",
     "output_type": "stream",
     "text": [
      "207\n",
      "128\n",
      "114\n",
      "194\n",
      "178\n"
     ]
    }
   ],
   "source": [
    "for b in equation:\n",
    "    print(b)"
   ]
  },
  {
   "cell_type": "code",
   "execution_count": 5,
   "id": "91e8ef33",
   "metadata": {},
   "outputs": [
    {
     "name": "stdout",
     "output_type": "stream",
     "text": [
      "πr²\n"
     ]
    }
   ],
   "source": [
    "# Decode bytes object to see what it actually is in Unicode - area of a circle\n",
    "\n",
    "print(equation.decode('utf-8'))"
   ]
  },
  {
   "cell_type": "code",
   "execution_count": null,
   "id": "05131bec",
   "metadata": {},
   "outputs": [],
   "source": []
  },
  {
   "cell_type": "code",
   "execution_count": null,
   "id": "76e49d75",
   "metadata": {},
   "outputs": [],
   "source": []
  }
 ],
 "metadata": {
  "kernelspec": {
   "display_name": "Python 3 (ipykernel)",
   "language": "python",
   "name": "python3"
  },
  "language_info": {
   "codemirror_mode": {
    "name": "ipython",
    "version": 3
   },
   "file_extension": ".py",
   "mimetype": "text/x-python",
   "name": "python",
   "nbconvert_exporter": "python",
   "pygments_lexer": "ipython3",
   "version": "3.9.17"
  }
 },
 "nbformat": 4,
 "nbformat_minor": 5
}
