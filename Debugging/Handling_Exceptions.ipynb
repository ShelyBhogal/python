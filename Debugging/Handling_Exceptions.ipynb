{
 "cells": [
  {
   "cell_type": "markdown",
   "id": "bfb01370",
   "metadata": {},
   "source": [
    "# Handling Exceptions in Python\n",
    "\n",
    "**Handling exceptions is a way to prevent the code from crashing. There are two types of errors in Python - syntax errors and exceptions.**\n",
    "\n",
    "**A syntax error is an error in the code grammar, like mis-spelling a keyword or mis-typing a calculation.**\n",
    "\n",
    "**An exception is an error that is the result of a flaw in the code's logic or conditions, like trying to create a database but there is not enough space on the drive. If you do not handle an exception, the program will always crash.**\n",
    "\n",
    "**You can 'handle' the potential exception errors using the `try` and `except` clauses, so that an entire program will not crash if a specific event occurs.** "
   ]
  },
  {
   "cell_type": "code",
   "execution_count": 1,
   "id": "fee46680",
   "metadata": {},
   "outputs": [
    {
     "ename": "SyntaxError",
     "evalue": "cannot assign to literal (3373942923.py, line 3)",
     "output_type": "error",
     "traceback": [
      "\u001b[1;36m  Cell \u001b[1;32mIn[1], line 3\u001b[1;36m\u001b[0m\n\u001b[1;33m    x = 8 = 5\u001b[0m\n\u001b[1;37m        ^\u001b[0m\n\u001b[1;31mSyntaxError\u001b[0m\u001b[1;31m:\u001b[0m cannot assign to literal\n"
     ]
    }
   ],
   "source": [
    "# Syntax Error\n",
    "\n",
    "x = 8 = 5"
   ]
  },
  {
   "cell_type": "code",
   "execution_count": 2,
   "id": "0e66bf46",
   "metadata": {},
   "outputs": [
    {
     "ename": "ZeroDivisionError",
     "evalue": "division by zero",
     "output_type": "error",
     "traceback": [
      "\u001b[1;31m---------------------------------------------------------------------------\u001b[0m",
      "\u001b[1;31mZeroDivisionError\u001b[0m                         Traceback (most recent call last)",
      "Cell \u001b[1;32mIn[2], line 5\u001b[0m\n\u001b[0;32m      1\u001b[0m \u001b[38;5;66;03m# Exception\u001b[39;00m\n\u001b[0;32m      3\u001b[0m x \u001b[38;5;241m=\u001b[39m \u001b[38;5;241m8\u001b[39m\n\u001b[1;32m----> 5\u001b[0m y \u001b[38;5;241m=\u001b[39m \u001b[43mx\u001b[49m\u001b[43m \u001b[49m\u001b[38;5;241;43m/\u001b[39;49m\u001b[43m \u001b[49m\u001b[38;5;241;43m0\u001b[39;49m\n",
      "\u001b[1;31mZeroDivisionError\u001b[0m: division by zero"
     ]
    }
   ],
   "source": [
    "# Exception\n",
    "\n",
    "x = 8\n",
    "\n",
    "y = x / 0"
   ]
  },
  {
   "cell_type": "markdown",
   "id": "a52e0f58",
   "metadata": {},
   "source": [
    "**Each exception has a type, e.g. `ZeroDivisionError` - https://docs.python.org/3/library/exceptions.html#ZeroDivisionError.**\n",
    "\n",
    "**The built-in Python exception types can be found online, if you are unsure of the meaning.**\n",
    "\n",
    "**For example, the `RecursionError` exception usually occurs when writing a 'recursive' function and overloading the stack. In some IDEs, the program will crash with a recursion error message, but in Jupyter Notebook, the kernel crashes and the function call fails. In order to fix the problem you either re-write the function or add an exception condition to the function call, with `try` and `except`.**\n",
    "\n",
    "**NOTE: Jupyter Notebook works differently to all other IDEs. With recursion errors, the entire program is killed, regardless of you adding clauses to NOT crash the entire notebook.**"
   ]
  },
  {
   "cell_type": "code",
   "execution_count": 3,
   "id": "56ed2506",
   "metadata": {},
   "outputs": [
    {
     "name": "stdout",
     "output_type": "stream",
     "text": [
      "30414093201713378043612608166064768844377641568960512000000000000\n"
     ]
    }
   ],
   "source": [
    "def factorial(n):\n",
    "    if n <= 1:\n",
    "        return 1\n",
    "    else:\n",
    "        return n * factorial(n - 1)\n",
    "    \n",
    "\n",
    "print(factorial(50))"
   ]
  },
  {
   "cell_type": "code",
   "execution_count": null,
   "id": "e4c1ab69",
   "metadata": {},
   "outputs": [],
   "source": [
    "# Number causes overflow - PROGRAM CRASHES\n",
    "\n",
    "print(factorial(5000))"
   ]
  },
  {
   "cell_type": "code",
   "execution_count": null,
   "id": "595b07a9",
   "metadata": {},
   "outputs": [],
   "source": [
    "# PROGRAM CRASHES!!!!!!!!!!!!!!!! Even with OverflowError\n",
    "\n",
    "try:\n",
    "    factorial(5000)\n",
    "except RecursionError:\n",
    "    print(\"This function cannot handle factorials that large\")\n",
    "    \n",
    "\n",
    "print(factorial(20))"
   ]
  },
  {
   "cell_type": "markdown",
   "id": "e3d34984",
   "metadata": {},
   "source": [
    "**It seems Jupyter Notebook cannot check Recursion errors... it may be the same for `OverflowError` or `MemoryError`.**\n",
    "\n",
    "**You use `try` and `except` clauses when you are dealing with a function that will crash if a certain event occurs. There is the added bonus of adding a print message detailing why the function terminated in the `except` clause. The entire program itself will not crash, but continue on after the print statement, having terminated the function call. You are pre-empting a potential error and dealing with it before it can crash the entire program.**"
   ]
  },
  {
   "cell_type": "code",
   "execution_count": 4,
   "id": "e50c9850",
   "metadata": {},
   "outputs": [
    {
     "name": "stdout",
     "output_type": "stream",
     "text": [
      "Cannot divide by zero numb-nuts!\n",
      "Calculation terminating...\n",
      "Program is still running though...\n"
     ]
    }
   ],
   "source": [
    "# Try something that you know will raise an error\n",
    "\n",
    "try:\n",
    "    n = 3 / 0\n",
    "except ZeroDivisionError:\n",
    "    print(\"Cannot divide by zero numb-nuts!\")\n",
    "    print(\"Calculation terminating...\")\n",
    "\n",
    "print(\"Program is still running though...\")"
   ]
  },
  {
   "cell_type": "code",
   "execution_count": 5,
   "id": "16a660df",
   "metadata": {},
   "outputs": [
    {
     "ename": "NameError",
     "evalue": "name 'n' is not defined",
     "output_type": "error",
     "traceback": [
      "\u001b[1;31m---------------------------------------------------------------------------\u001b[0m",
      "\u001b[1;31mNameError\u001b[0m                                 Traceback (most recent call last)",
      "Cell \u001b[1;32mIn[5], line 3\u001b[0m\n\u001b[0;32m      1\u001b[0m \u001b[38;5;66;03m# Variable was never initialized\u001b[39;00m\n\u001b[1;32m----> 3\u001b[0m \u001b[38;5;28mprint\u001b[39m(\u001b[43mn\u001b[49m)\n",
      "\u001b[1;31mNameError\u001b[0m: name 'n' is not defined"
     ]
    }
   ],
   "source": [
    "# Variable was never initialized\n",
    "\n",
    "print(n)"
   ]
  },
  {
   "cell_type": "markdown",
   "id": "60009c41",
   "metadata": {},
   "source": [
    "**You can 'handle' more than one exception by adding multiple `except` clauses, or add multiple exceptions to one `except` clause.**\n",
    "\n",
    "**Create a program that divides two integers provided by a user. Write the maths as a function that can be repeatedly called until it hits an exception, like invalid input (`ValueError`).**"
   ]
  },
  {
   "cell_type": "code",
   "execution_count": 6,
   "id": "9a5b73bd",
   "metadata": {},
   "outputs": [
    {
     "name": "stdout",
     "output_type": "stream",
     "text": [
      "Enter a number: 10\n",
      "Enter another number: 0\n",
      "Cannot divide by zero!\n"
     ]
    }
   ],
   "source": [
    "def division():\n",
    "    try:\n",
    "        n1 = int(input(\"Enter a number: \"))\n",
    "        n2 = int(input(\"Enter another number: \"))\n",
    "        return n1 / n2\n",
    "    except ValueError:\n",
    "        print(\"Invalid number entered, try again.\")\n",
    "    except ZeroDivisionError:\n",
    "        print(\"Cannot divide by zero!\")\n",
    "\n",
    "\n",
    "division()"
   ]
  },
  {
   "cell_type": "code",
   "execution_count": 7,
   "id": "6b228916",
   "metadata": {},
   "outputs": [
    {
     "name": "stdout",
     "output_type": "stream",
     "text": [
      "Enter a number: one\n",
      "Invalid number entered, try again.\n",
      "Enter a number: 1\n",
      "Enter a another number: four\n",
      "Invalid number entered, try again.\n",
      "Enter a another number: 4\n",
      "1 divided by 4 is 0.25\n",
      "Division performed successfully :)\n"
     ]
    }
   ],
   "source": [
    "import sys\n",
    "\n",
    "# Function to get valid integer\n",
    "\n",
    "def get_integer(prompt):\n",
    "    while True:\n",
    "        try:\n",
    "            number = int(input(prompt))\n",
    "            return number\n",
    "        except ValueError:\n",
    "            print(\"Invalid number entered, try again.\")\n",
    "        except EOFError:\n",
    "            # Exit program\n",
    "            sys.exit(1)\n",
    "\n",
    "\n",
    "n1 = get_integer(\"Enter a number: \")\n",
    "n2 = get_integer(\"Enter a another number: \")\n",
    "\n",
    "try:\n",
    "    print(f\"{n1} divided by {n2} is {n1 / n2}\")\n",
    "except ZeroDivisionError:\n",
    "    print(\"You cannot divide by zero.\")\n",
    "else:\n",
    "    print(\"Division performed successfully :)\")"
   ]
  },
  {
   "cell_type": "markdown",
   "id": "05960b4a",
   "metadata": {},
   "source": [
    "**You can use `else` statement in `try` and `except` clause, that executes if the previous code ran successfully. It must come after the `except` statements but before a `finally` clause.**\n",
    "\n",
    "**The `finally` clause can be used when you want something to happen whether an exception is raised or not, i.e. it will always be executed.**"
   ]
  },
  {
   "cell_type": "code",
   "execution_count": 8,
   "id": "8d4e0feb",
   "metadata": {},
   "outputs": [
    {
     "name": "stdout",
     "output_type": "stream",
     "text": [
      "Enter a number: 1\n",
      "Enter another number: 6\n",
      "The finally clause always runs\n"
     ]
    },
    {
     "data": {
      "text/plain": [
       "0.16666666666666666"
      ]
     },
     "execution_count": 8,
     "metadata": {},
     "output_type": "execute_result"
    }
   ],
   "source": [
    "def division():\n",
    "    try:\n",
    "        n1 = int(input(\"Enter a number: \"))\n",
    "        n2 = int(input(\"Enter another number: \"))\n",
    "        return n1 / n2\n",
    "    except ValueError:\n",
    "        print(\"Invalid number entered, try again.\")\n",
    "    except ZeroDivisionError:\n",
    "        print(\"Cannot divide by zero!\")\n",
    "    finally:\n",
    "        print(\"The finally clause always runs\")\n",
    "\n",
    "\n",
    "division()"
   ]
  },
  {
   "cell_type": "markdown",
   "id": "9475bcd5",
   "metadata": {},
   "source": [
    "## Handling exceptions in classes\n",
    "\n",
    "**Defining exceptions is useful when you are dealing with a proprietary system, and the wrong input is provided, e.g. incorrect filename. An option is to raise an exception to let the calling class/function know that something went wrong.**\n",
    "\n",
    "**Using previous examples for `Duck` and `Penguin` classes, find the best place to insert an exception to handle errors.**"
   ]
  },
  {
   "cell_type": "code",
   "execution_count": 9,
   "id": "66e2afe6",
   "metadata": {},
   "outputs": [],
   "source": [
    "class Wing(object):\n",
    "    \n",
    "    def __init__(self, ratio):\n",
    "        self.ratio = ratio\n",
    "    \n",
    "    def fly(self):\n",
    "        if self.ratio > 1:\n",
    "            print(\"Weeeeeeeee I'm flying!\")\n",
    "        elif self.ratio == 1:\n",
    "            print(\"Yikes this is hard but I'm off the ground\")\n",
    "        else:\n",
    "            # Less than 1 metre\n",
    "            print(\"I'll swim, thanks\")\n",
    "\n",
    "\n",
    "\n",
    "class Duck(object):\n",
    "    \n",
    "    def __init__(self):\n",
    "        self._wing = Wing(1.8)\n",
    "    \n",
    "    def walk(self):\n",
    "        print(\"Waddle, waddle, waddle.\")\n",
    "    \n",
    "    def swim(self):\n",
    "        print(\"Ooh, the water's lovely.\")\n",
    "    \n",
    "    def quack(self):\n",
    "        print(\"Quack, quack, quack.\")\n",
    "    \n",
    "    # Overriding method which uses Wing fly() method\n",
    "    def fly(self):\n",
    "        self._wing.fly()\n",
    "\n",
    "\n",
    "\n",
    "# New class to create flock of birds\n",
    "\n",
    "class Flock(object):\n",
    "    \n",
    "    def __init__(self):\n",
    "        self.flock = []\n",
    "    \n",
    "    def add_bird(self, bird):\n",
    "        self.flock.append(bird)\n",
    "    \n",
    "    def migrate(self):\n",
    "        for bird in self.flock:\n",
    "            bird.fly()\n"
   ]
  },
  {
   "cell_type": "code",
   "execution_count": 10,
   "id": "d8326223",
   "metadata": {},
   "outputs": [
    {
     "name": "stdout",
     "output_type": "stream",
     "text": [
      "Weeeeeeeee I'm flying!\n",
      "Weeeeeeeee I'm flying!\n",
      "Weeeeeeeee I'm flying!\n",
      "Weeeeeeeee I'm flying!\n",
      "Weeeeeeeee I'm flying!\n",
      "Weeeeeeeee I'm flying!\n",
      "Weeeeeeeee I'm flying!\n"
     ]
    }
   ],
   "source": [
    "# Ducks or geese en masse is a 'raft'\n",
    "\n",
    "raft = Flock()\n",
    "\n",
    "donald = Duck()\n",
    "daisy = Duck()\n",
    "daffy = Duck()\n",
    "howard = Duck()\n",
    "huey = Duck()\n",
    "scrooge = Duck()\n",
    "orville = Duck()\n",
    "\n",
    "raft.add_bird(donald)\n",
    "raft.add_bird(daisy)\n",
    "raft.add_bird(daffy)\n",
    "raft.add_bird(howard)\n",
    "raft.add_bird(huey)\n",
    "raft.add_bird(scrooge)\n",
    "raft.add_bird(orville)\n",
    "\n",
    "raft.migrate()"
   ]
  },
  {
   "cell_type": "markdown",
   "id": "0c1ec9f6",
   "metadata": {},
   "source": [
    "**So far everything works fine, until you try to add a type of bird to a flock that does not have the ability to fly, e.g. a penguin, and try make the flock migrate.**"
   ]
  },
  {
   "cell_type": "code",
   "execution_count": 11,
   "id": "1696b65b",
   "metadata": {},
   "outputs": [],
   "source": [
    "class Penguin(object):\n",
    "    \n",
    "    def walk(self):\n",
    "        print(\"I waddle too\")\n",
    "    \n",
    "    def swim(self):\n",
    "        print(\"I prefer chillier waters\")\n",
    "    \n",
    "    def quack(self):\n",
    "        print(\"I do not QUACK, thank you very much\")\n"
   ]
  },
  {
   "cell_type": "code",
   "execution_count": 12,
   "id": "a52707e1",
   "metadata": {},
   "outputs": [
    {
     "name": "stdout",
     "output_type": "stream",
     "text": [
      "Weeeeeeeee I'm flying!\n",
      "Weeeeeeeee I'm flying!\n",
      "Weeeeeeeee I'm flying!\n",
      "Weeeeeeeee I'm flying!\n",
      "Weeeeeeeee I'm flying!\n",
      "Weeeeeeeee I'm flying!\n",
      "Weeeeeeeee I'm flying!\n"
     ]
    },
    {
     "ename": "AttributeError",
     "evalue": "'Penguin' object has no attribute 'fly'",
     "output_type": "error",
     "traceback": [
      "\u001b[1;31m---------------------------------------------------------------------------\u001b[0m",
      "\u001b[1;31mAttributeError\u001b[0m                            Traceback (most recent call last)",
      "Cell \u001b[1;32mIn[12], line 5\u001b[0m\n\u001b[0;32m      1\u001b[0m percy \u001b[38;5;241m=\u001b[39m Penguin()\n\u001b[0;32m      3\u001b[0m raft\u001b[38;5;241m.\u001b[39madd_bird(percy)\n\u001b[1;32m----> 5\u001b[0m \u001b[43mraft\u001b[49m\u001b[38;5;241;43m.\u001b[39;49m\u001b[43mmigrate\u001b[49m\u001b[43m(\u001b[49m\u001b[43m)\u001b[49m\n",
      "Cell \u001b[1;32mIn[9], line 48\u001b[0m, in \u001b[0;36mFlock.migrate\u001b[1;34m(self)\u001b[0m\n\u001b[0;32m     46\u001b[0m \u001b[38;5;28;01mdef\u001b[39;00m \u001b[38;5;21mmigrate\u001b[39m(\u001b[38;5;28mself\u001b[39m):\n\u001b[0;32m     47\u001b[0m     \u001b[38;5;28;01mfor\u001b[39;00m bird \u001b[38;5;129;01min\u001b[39;00m \u001b[38;5;28mself\u001b[39m\u001b[38;5;241m.\u001b[39mflock:\n\u001b[1;32m---> 48\u001b[0m         \u001b[43mbird\u001b[49m\u001b[38;5;241;43m.\u001b[39;49m\u001b[43mfly\u001b[49m()\n",
      "\u001b[1;31mAttributeError\u001b[0m: 'Penguin' object has no attribute 'fly'"
     ]
    }
   ],
   "source": [
    "percy = Penguin()\n",
    "\n",
    "raft.add_bird(percy)\n",
    "\n",
    "raft.migrate()"
   ]
  },
  {
   "cell_type": "markdown",
   "id": "04119d2a",
   "metadata": {},
   "source": [
    "**You could add parameter annotation to the `add_bird` method in `Flock` class, stating that only flying birds should be added to a flock, i.e. a duck:**\n",
    "\n",
    "    def add_bird(self, bird: Duck) -> None:\n",
    "           self.flock.append(bird)\n",
    "           \n",
    "**This will warn the user (in other IDEs) if they add a penguin to a flock, i.e. not a duck, but it does not stop them from adding a penguin.**\n",
    "\n",
    "**You could update the `Penguin` class with an init method to add `Wing` instance for a penguin, which could cause problems if it is a shared program, but would be my preferred choice:**\n",
    "\n",
    "    class Penguin:\n",
    "        def __init__(self):\n",
    "            self._wing = Wing(0.5)\n",
    "\n",
    "**OR, this is a perfect situation for a try and except clause, to handle birds in a flock that cannot fly.**"
   ]
  },
  {
   "cell_type": "code",
   "execution_count": 13,
   "id": "cf87d125",
   "metadata": {},
   "outputs": [
    {
     "name": "stdout",
     "output_type": "stream",
     "text": [
      "Weeeeeeeee I'm flying!\n",
      "Weeeeeeeee I'm flying!\n",
      "Weeeeeeeee I'm flying!\n",
      "Weeeeeeeee I'm flying!\n",
      "Weeeeeeeee I'm flying!\n",
      "Weeeeeeeee I'm flying!\n",
      "Weeeeeeeee I'm flying!\n",
      "Penguins can't fly dummy\n"
     ]
    }
   ],
   "source": [
    "try:\n",
    "    raft.add_bird(percy)\n",
    "    raft.migrate()\n",
    "except AttributeError:\n",
    "    print(\"Penguins can't fly dummy\")"
   ]
  },
  {
   "cell_type": "markdown",
   "id": "1c03630e",
   "metadata": {},
   "source": [
    "**Even better, you can handle the exception within the `migrate()` method of the `Flock` class, the root of the error.**"
   ]
  },
  {
   "cell_type": "code",
   "execution_count": 14,
   "id": "d4c0705a",
   "metadata": {},
   "outputs": [],
   "source": [
    "# You can ignore the exception by passing over it\n",
    "\n",
    "class Flock(object):\n",
    "    \n",
    "    def __init__(self):\n",
    "        self.flock = []\n",
    "    \n",
    "    def add_bird(self, bird):\n",
    "        self.flock.append(bird)\n",
    "    \n",
    "    def migrate(self):\n",
    "        for bird in self.flock:\n",
    "            try:\n",
    "                bird.fly()\n",
    "            except AttributeError:\n",
    "                # Ignore the exception\n",
    "                pass\n"
   ]
  },
  {
   "cell_type": "code",
   "execution_count": 15,
   "id": "e3643e16",
   "metadata": {},
   "outputs": [
    {
     "name": "stdout",
     "output_type": "stream",
     "text": [
      "Weeeeeeeee I'm flying!\n",
      "Weeeeeeeee I'm flying!\n",
      "Weeeeeeeee I'm flying!\n",
      "Weeeeeeeee I'm flying!\n",
      "Weeeeeeeee I'm flying!\n",
      "Weeeeeeeee I'm flying!\n",
      "Weeeeeeeee I'm flying!\n"
     ]
    }
   ],
   "source": [
    "raft = Flock()\n",
    "\n",
    "raft.add_bird(donald)\n",
    "raft.add_bird(daisy)\n",
    "raft.add_bird(daffy)\n",
    "raft.add_bird(howard)\n",
    "\n",
    "# Non-flying bird\n",
    "raft.add_bird(percy)\n",
    "\n",
    "raft.add_bird(huey)\n",
    "raft.add_bird(scrooge)\n",
    "raft.add_bird(orville)\n",
    "\n",
    "raft.migrate()"
   ]
  },
  {
   "cell_type": "code",
   "execution_count": 16,
   "id": "9479743d",
   "metadata": {},
   "outputs": [],
   "source": [
    "# You can print a message when exception occurs\n",
    "\n",
    "class Flock(object):\n",
    "    \n",
    "    def __init__(self):\n",
    "        self.flock = []\n",
    "    \n",
    "    def add_bird(self, bird):\n",
    "        self.flock.append(bird)\n",
    "    \n",
    "    def migrate(self):\n",
    "        for bird in self.flock:\n",
    "            try:\n",
    "                bird.fly()\n",
    "            except AttributeError:\n",
    "                print(\"BIRD DOWN! BIRD DOWN!\")\n"
   ]
  },
  {
   "cell_type": "code",
   "execution_count": 17,
   "id": "71cd9eb7",
   "metadata": {},
   "outputs": [
    {
     "name": "stdout",
     "output_type": "stream",
     "text": [
      "Weeeeeeeee I'm flying!\n",
      "Weeeeeeeee I'm flying!\n",
      "Weeeeeeeee I'm flying!\n",
      "Weeeeeeeee I'm flying!\n",
      "BIRD DOWN! BIRD DOWN!\n",
      "Weeeeeeeee I'm flying!\n",
      "Weeeeeeeee I'm flying!\n",
      "Weeeeeeeee I'm flying!\n"
     ]
    }
   ],
   "source": [
    "raft = Flock()\n",
    "\n",
    "raft.add_bird(donald)\n",
    "raft.add_bird(daisy)\n",
    "raft.add_bird(daffy)\n",
    "raft.add_bird(howard)\n",
    "\n",
    "# Non-flying bird\n",
    "raft.add_bird(percy)\n",
    "\n",
    "raft.add_bird(huey)\n",
    "raft.add_bird(scrooge)\n",
    "raft.add_bird(orville)\n",
    "\n",
    "raft.migrate()"
   ]
  },
  {
   "cell_type": "markdown",
   "id": "ae2a1e3f",
   "metadata": {},
   "source": [
    "**There are many other things you could do, like updating `add_bird()` method (see below) to prevent flightless birds from being added to the flock, or creating subclasses for different types of flocks. The `try` and `except` clauses are excellent for handling exceptions downstream.**\n",
    "\n",
    "    def add_bird(self, bird):\n",
    "        fly_method = getattr(bird, 'fly', None)\n",
    "        \n",
    "        if callable(fly_method):\n",
    "            self.flock.append(bird)\n",
    "        else:\n",
    "            raise TypeError(\"Cannot add \" + str(type(bird).__name__) + \" as it cannot fly\")\n",
    "            \n",
    "**As you can see, you can also `raise` exception errors. I still prefer the choice of adding init method to `Penguin` class to include a small (less than 1m) `Wing` instance.**\n",
    "\n",
    "    def __init__(self):\n",
    "        self._wing = Wing(0.8)\n"
   ]
  },
  {
   "cell_type": "code",
   "execution_count": null,
   "id": "1b6f79fe",
   "metadata": {},
   "outputs": [],
   "source": []
  }
 ],
 "metadata": {
  "kernelspec": {
   "display_name": "Python 3 (ipykernel)",
   "language": "python",
   "name": "python3"
  },
  "language_info": {
   "codemirror_mode": {
    "name": "ipython",
    "version": 3
   },
   "file_extension": ".py",
   "mimetype": "text/x-python",
   "name": "python",
   "nbconvert_exporter": "python",
   "pygments_lexer": "ipython3",
   "version": "3.9.17"
  }
 },
 "nbformat": 4,
 "nbformat_minor": 5
}
