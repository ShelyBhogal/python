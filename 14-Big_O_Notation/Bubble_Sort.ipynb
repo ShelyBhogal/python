{
 "cells": [
  {
   "cell_type": "markdown",
   "id": "fd476f57",
   "metadata": {},
   "source": [
    "# Bubble Sort Algorithm\n",
    "\n",
    "**The 'bubble sort' alorithm is the simplest sorting algorithm in existence. It compares each successive pair of values, and swaps them if they are not in order. Large values 'bubble up' to the end of the sorted list.**\n",
    "\n",
    "**In Big O notation, the bubble sort algorithm is O(n<sup>2</sup>), i.e. quadratic time. Algorithms that run in quadratic time usually use nested loops.**"
   ]
  },
  {
   "cell_type": "code",
   "execution_count": 4,
   "id": "99388e00",
   "metadata": {},
   "outputs": [],
   "source": [
    "# Function accepts list of numbers for sorting\n",
    "\n",
    "def bubble_sort(data):\n",
    "    n = len(data)\n",
    "    comparison_counter = 0\n",
    "    \n",
    "    for i in range(n - 1):\n",
    "        for j in range(n - 1):\n",
    "            comparison_counter += 1\n",
    "            if data[j] > data[j + 1]:\n",
    "                # Swap the positions by unpacking\n",
    "                data[j], data[j + 1] = data[j + 1], data[j]\n",
    "        \n",
    "        # Show how data changes in each inner loop\n",
    "        print(f\"End of inner loop {i}. 'data' is now {data}\")\n",
    "    \n",
    "    # How many times inner loop executes\n",
    "    print(f\"Comparison counter is {comparison_counter}\")"
   ]
  },
  {
   "cell_type": "code",
   "execution_count": 5,
   "id": "dd025631",
   "metadata": {},
   "outputs": [
    {
     "name": "stdout",
     "output_type": "stream",
     "text": [
      "Sorting list [3, 2, 4, 1, 5, 7, 6]...\n",
      "End of inner loop 0. 'data' is now [2, 3, 1, 4, 5, 6, 7]\n",
      "End of inner loop 1. 'data' is now [2, 1, 3, 4, 5, 6, 7]\n",
      "End of inner loop 2. 'data' is now [1, 2, 3, 4, 5, 6, 7]\n",
      "End of inner loop 3. 'data' is now [1, 2, 3, 4, 5, 6, 7]\n",
      "End of inner loop 4. 'data' is now [1, 2, 3, 4, 5, 6, 7]\n",
      "End of inner loop 5. 'data' is now [1, 2, 3, 4, 5, 6, 7]\n",
      "Comparison counter is 36\n",
      "Sorted list is [1, 2, 3, 4, 5, 6, 7]\n"
     ]
    }
   ],
   "source": [
    "# Sort list of integers in place\n",
    "\n",
    "numbers = [3, 2, 4, 1, 5, 7, 6]\n",
    "\n",
    "print(f\"Sorting list {numbers}...\")\n",
    "\n",
    "bubble_sort(numbers)\n",
    "\n",
    "print(f\"Sorted list is {numbers}\")"
   ]
  },
  {
   "cell_type": "markdown",
   "id": "a848f10a",
   "metadata": {},
   "source": [
    "**Why did it take 36 iterations to sort the list when you can see the list is sorted in six inner passes? Because the outer loop also iterates six times, i.e. 6<sup>2</sup>, or n<sup>2</sup>. If the list were longer, e.g. 70 items, then the comparison counter would be 4761 times (69<sup>2</sup>).**\n",
    "\n",
    "**ANIMATED BUBBLE SORT**\n",
    "\n",
    "**There is a custom-made program to show a more animated version of the bubble sort algorithm. In order to work, you must install and import `colorama` (if you haven't already). Press ENTER to swap the values in the debugger.**\n",
    "\n",
    "**NOTE: It uses ANSI escape sequences to colour the output (if supported) and position the cursor on the screen.**"
   ]
  },
  {
   "cell_type": "code",
   "execution_count": 6,
   "id": "e2e3b26e",
   "metadata": {},
   "outputs": [],
   "source": [
    "import colorama"
   ]
  },
  {
   "cell_type": "code",
   "execution_count": 7,
   "id": "6f04ad41",
   "metadata": {},
   "outputs": [],
   "source": [
    "# ANSI escape sequences\n",
    "CLEAR_SCREEN = '\\u001b[2J'\n",
    "START_OF_LINE = '\\u001b[1G'\n",
    "CLEAR_LINE = f'{START_OF_LINE}\\u001b[0K'\n",
    "PREVIOUS_LINE = colorama.Cursor.UP(1)\n",
    "HIDE_CURSOR = '\\u001b[?25l'\n",
    "\n",
    "# Function to \n",
    "def format_data(data, position=None):\n",
    "    result = \"[ \"\n",
    "    inverse = False\n",
    "    \n",
    "    for index, val in enumerate(data):\n",
    "        if (position is not None) and (position == index):\n",
    "            result += colorama.Back.LIGHTYELLOW_EX\n",
    "            inverse = True\n",
    "        \n",
    "        result += f\"{val}\"\n",
    "        if (position is not None) and (index == position + 1) and inverse:\n",
    "            result += colorama.Back.RESET\n",
    "            inverse = False\n",
    "        \n",
    "        result += \" \"\n",
    "\n",
    "    result += \"]\"\n",
    "    \n",
    "    return result\n",
    "\n",
    "\n",
    "# Updated function to bubble sort list of numbers \n",
    "def bubble_sort(data: list) -> None:\n",
    "    \"\"\"Sorts a list in place.\"\"\"\n",
    "    n = len(data)\n",
    "    comparison_count = 0\n",
    "    \n",
    "    for i in range(n - 1):\n",
    "        print(f\"i = {i}. Starting inner loop with {format_data(data)}\")\n",
    "        print(end=\"\")\n",
    "        \n",
    "        for j in range(n - 1):\n",
    "            print(f\"{CLEAR_LINE}j = {j}, {format_data(data, j)}\", end=\"\")\n",
    "            comparison_count += 1\n",
    "            \n",
    "            if data[j] > data[j + 1]:\n",
    "                print(f\"\\t{colorama.Fore.RED}\" \n",
    "                      f\"Swapping {data[j]} and {data[j + 1]}\" \n",
    "                      f\"{colorama.Fore.RESET}\", end=\"\")\n",
    "                data[j], data[j + 1] = data[j + 1], data[j]\n",
    "                input(f\"{PREVIOUS_LINE}\")\n",
    "            \n",
    "            print(f\"{CLEAR_LINE}j = {j}, {format_data(data, j)}\", end=\"\")\n",
    "\n",
    "            # PAUSE\n",
    "            input(f\"{PREVIOUS_LINE}\")\n",
    "\n",
    "        print(f\"End of pass {i}.  `data` is now {format_data(data)}\")\n",
    "    \n",
    "    print(f\"comparison_count is {comparison_count}\")"
   ]
  },
  {
   "cell_type": "code",
   "execution_count": 8,
   "id": "7ccbcb0a",
   "metadata": {},
   "outputs": [
    {
     "name": "stdout",
     "output_type": "stream",
     "text": [
      "\u001b[?25lSorting list [ 3 2 4 1 5 7 6 ]\n",
      "i = 0. Starting inner loop with [ 3 2 4 1 5 7 6 ]\n",
      "j = 0, [ 3 2 4 1 5 7 6 ]\tSwapping 3 and 2\n",
      "j = 0, [ 2 3 4 1 5 7 6 ]\n",
      "j = 1, [ 2 3 4 1 5 7 6 ]j = 1, [ 2 3 4 1 5 7 6 ]\n",
      "j = 2, [ 2 3 4 1 5 7 6 ]\tSwapping 4 and 1\n",
      "j = 2, [ 2 3 1 4 5 7 6 ]\n",
      "j = 3, [ 2 3 1 4 5 7 6 ]j = 3, [ 2 3 1 4 5 7 6 ]\n",
      "j = 4, [ 2 3 1 4 5 7 6 ]j = 4, [ 2 3 1 4 5 7 6 ]\n",
      "j = 5, [ 2 3 1 4 5 7 6 ]\tSwapping 7 and 6\n",
      "j = 5, [ 2 3 1 4 5 6 7 ]\n",
      "End of pass 0.  `data` is now [ 2 3 1 4 5 6 7 ]\n",
      "i = 1. Starting inner loop with [ 2 3 1 4 5 6 7 ]\n",
      "j = 0, [ 2 3 1 4 5 6 7 ]j = 0, [ 2 3 1 4 5 6 7 ]\n",
      "j = 1, [ 2 3 1 4 5 6 7 ]\tSwapping 3 and 1\n",
      "j = 1, [ 2 1 3 4 5 6 7 ]\n",
      "j = 2, [ 2 1 3 4 5 6 7 ]j = 2, [ 2 1 3 4 5 6 7 ]\n",
      "j = 3, [ 2 1 3 4 5 6 7 ]j = 3, [ 2 1 3 4 5 6 7 ]\n",
      "j = 4, [ 2 1 3 4 5 6 7 ]j = 4, [ 2 1 3 4 5 6 7 ]\n",
      "j = 5, [ 2 1 3 4 5 6 7 ]j = 5, [ 2 1 3 4 5 6 7 ]\n",
      "End of pass 1.  `data` is now [ 2 1 3 4 5 6 7 ]\n",
      "i = 2. Starting inner loop with [ 2 1 3 4 5 6 7 ]\n",
      "j = 0, [ 2 1 3 4 5 6 7 ]\tSwapping 2 and 1\n",
      "j = 0, [ 1 2 3 4 5 6 7 ]\n",
      "j = 1, [ 1 2 3 4 5 6 7 ]j = 1, [ 1 2 3 4 5 6 7 ]\n",
      "j = 2, [ 1 2 3 4 5 6 7 ]j = 2, [ 1 2 3 4 5 6 7 ]\n",
      "j = 3, [ 1 2 3 4 5 6 7 ]j = 3, [ 1 2 3 4 5 6 7 ]\n",
      "j = 4, [ 1 2 3 4 5 6 7 ]j = 4, [ 1 2 3 4 5 6 7 ]\n",
      "j = 5, [ 1 2 3 4 5 6 7 ]j = 5, [ 1 2 3 4 5 6 7 ]\n",
      "End of pass 2.  `data` is now [ 1 2 3 4 5 6 7 ]\n",
      "i = 3. Starting inner loop with [ 1 2 3 4 5 6 7 ]\n",
      "j = 0, [ 1 2 3 4 5 6 7 ]j = 0, [ 1 2 3 4 5 6 7 ]\n",
      "j = 1, [ 1 2 3 4 5 6 7 ]j = 1, [ 1 2 3 4 5 6 7 ]\n",
      "j = 2, [ 1 2 3 4 5 6 7 ]j = 2, [ 1 2 3 4 5 6 7 ]\n",
      "j = 3, [ 1 2 3 4 5 6 7 ]j = 3, [ 1 2 3 4 5 6 7 ]\n",
      "j = 4, [ 1 2 3 4 5 6 7 ]j = 4, [ 1 2 3 4 5 6 7 ]\n",
      "j = 5, [ 1 2 3 4 5 6 7 ]j = 5, [ 1 2 3 4 5 6 7 ]\n",
      "End of pass 3.  `data` is now [ 1 2 3 4 5 6 7 ]\n",
      "i = 4. Starting inner loop with [ 1 2 3 4 5 6 7 ]\n",
      "j = 0, [ 1 2 3 4 5 6 7 ]j = 0, [ 1 2 3 4 5 6 7 ]\n",
      "j = 1, [ 1 2 3 4 5 6 7 ]j = 1, [ 1 2 3 4 5 6 7 ]\n",
      "j = 2, [ 1 2 3 4 5 6 7 ]j = 2, [ 1 2 3 4 5 6 7 ]\n",
      "j = 3, [ 1 2 3 4 5 6 7 ]j = 3, [ 1 2 3 4 5 6 7 ]\n",
      "j = 4, [ 1 2 3 4 5 6 7 ]j = 4, [ 1 2 3 4 5 6 7 ]\n",
      "j = 5, [ 1 2 3 4 5 6 7 ]j = 5, [ 1 2 3 4 5 6 7 ]\n",
      "End of pass 4.  `data` is now [ 1 2 3 4 5 6 7 ]\n",
      "i = 5. Starting inner loop with [ 1 2 3 4 5 6 7 ]\n",
      "j = 0, [ 1 2 3 4 5 6 7 ]j = 0, [ 1 2 3 4 5 6 7 ]\n",
      "j = 1, [ 1 2 3 4 5 6 7 ]j = 1, [ 1 2 3 4 5 6 7 ]\n",
      "j = 2, [ 1 2 3 4 5 6 7 ]j = 2, [ 1 2 3 4 5 6 7 ]\n",
      "j = 3, [ 1 2 3 4 5 6 7 ]j = 3, [ 1 2 3 4 5 6 7 ]\n",
      "j = 4, [ 1 2 3 4 5 6 7 ]j = 4, [ 1 2 3 4 5 6 7 ]\n",
      "j = 5, [ 1 2 3 4 5 6 7 ]j = 5, [ 1 2 3 4 5 6 7 ]\n",
      "End of pass 5.  `data` is now [ 1 2 3 4 5 6 7 ]\n",
      "comparison_count is 36\n",
      "The sorted list is [ 1 2 3 4 5 6 7 ]\n"
     ]
    }
   ],
   "source": [
    "colorama.init()\n",
    "\n",
    "numbers = [3, 2, 4, 1, 5, 7, 6]\n",
    "# numbers = [7, 6, 5, 4, 3, 2, 1]\n",
    "\n",
    "print(f\"{CLEAR_SCREEN}{HIDE_CURSOR}Sorting list {format_data(numbers)}\")\n",
    "\n",
    "bubble_sort(numbers)\n",
    "\n",
    "print(f\"The sorted list is {format_data(numbers)}\")\n",
    "\n",
    "colorama.deinit()"
   ]
  },
  {
   "cell_type": "markdown",
   "id": "15a0bd7e",
   "metadata": {},
   "source": [
    "## Optimization of algorithm\n",
    "\n",
    "**It might not seem efficient, but that's how the algorithm works. Even when the list is sorted, the final loop is run to check that all the values are in order and the looping ends. Technically, bubble sort algorithm is O((n - 1)<sup>2</sup>), because each loop goes round n-1 times.**\n",
    "\n",
    "   (n - 1)<sup>2</sup> = n<sup>2</sup> - 2n + 1\n",
    "   \n",
    "   \"In Big O notation, we only care about the term that increases the most, i.e. n<sup>2</sup>. `2n` does not increase as fast,    and `1` just stays the same. Hence why those terms are ignored.\"\n",
    "\n",
    "**There are ways to optimize the code for the original function by reducing the range of the inner loop, by removing the iteration for the outer loop control variable:**\n",
    "\n",
    "    for j in range(n - 1 - i):"
   ]
  },
  {
   "cell_type": "code",
   "execution_count": 9,
   "id": "13b72154",
   "metadata": {},
   "outputs": [
    {
     "name": "stdout",
     "output_type": "stream",
     "text": [
      "Sorting list [3, 2, 4, 1, 5, 7, 6]...\n",
      "End of inner loop 0. 'data' is now [2, 3, 1, 4, 5, 6, 7]\n",
      "End of inner loop 1. 'data' is now [2, 1, 3, 4, 5, 6, 7]\n",
      "End of inner loop 2. 'data' is now [1, 2, 3, 4, 5, 6, 7]\n",
      "End of inner loop 3. 'data' is now [1, 2, 3, 4, 5, 6, 7]\n",
      "End of inner loop 4. 'data' is now [1, 2, 3, 4, 5, 6, 7]\n",
      "End of inner loop 5. 'data' is now [1, 2, 3, 4, 5, 6, 7]\n",
      "Comparison counter is 21\n",
      "Sorted list is [1, 2, 3, 4, 5, 6, 7]\n"
     ]
    }
   ],
   "source": [
    "def bubble_sort(data):\n",
    "    n = len(data)\n",
    "    comparison_counter = 0\n",
    "    \n",
    "    for i in range(n - 1):\n",
    "        # Reduce range of inner loops\n",
    "        for j in range(n - 1 - i):\n",
    "            comparison_counter += 1\n",
    "            if data[j] > data[j + 1]:\n",
    "                data[j], data[j + 1] = data[j + 1], data[j]\n",
    "        \n",
    "        print(f\"End of inner loop {i}. 'data' is now {data}\")\n",
    "    \n",
    "    print(f\"Comparison counter is {comparison_counter}\")\n",
    "\n",
    "\n",
    "\n",
    "numbers = [3, 2, 4, 1, 5, 7, 6]\n",
    "\n",
    "print(f\"Sorting list {numbers}...\")\n",
    "\n",
    "bubble_sort(numbers)\n",
    "\n",
    "print(f\"Sorted list is {numbers}\")"
   ]
  },
  {
   "cell_type": "code",
   "execution_count": 10,
   "id": "4fa452d8",
   "metadata": {},
   "outputs": [
    {
     "name": "stdout",
     "output_type": "stream",
     "text": [
      "Sorting list [7, 6, 5, 4, 3, 2, 1]...\n",
      "End of inner loop 0. 'data' is now [6, 5, 4, 3, 2, 1, 7]\n",
      "End of inner loop 1. 'data' is now [5, 4, 3, 2, 1, 6, 7]\n",
      "End of inner loop 2. 'data' is now [4, 3, 2, 1, 5, 6, 7]\n",
      "End of inner loop 3. 'data' is now [3, 2, 1, 4, 5, 6, 7]\n",
      "End of inner loop 4. 'data' is now [2, 1, 3, 4, 5, 6, 7]\n",
      "End of inner loop 5. 'data' is now [1, 2, 3, 4, 5, 6, 7]\n",
      "Comparison counter is 21\n",
      "Sorted list is [1, 2, 3, 4, 5, 6, 7]\n"
     ]
    }
   ],
   "source": [
    "# Input list in reversed order\n",
    "\n",
    "numbers = [7, 6, 5, 4, 3, 2, 1]\n",
    "\n",
    "print(f\"Sorting list {numbers}...\")\n",
    "\n",
    "bubble_sort(numbers)\n",
    "\n",
    "print(f\"Sorted list is {numbers}\")"
   ]
  },
  {
   "cell_type": "markdown",
   "id": "b114462d",
   "metadata": {},
   "source": [
    "**The comparison counter is now 21 comparisons made in total. With each outer loop, the inner loops starts iterating but doesn't perform the final loop, keeping the last pair of items in the list unchecked. This is OK since the large values move towards the end anyway.**\n",
    "\n",
    "        36 - 5 = 31 - 4 = 27 - 3 = 24 - 2 = 22 - 1 = 21 ... (inner loop minus by 1 each loop)\n",
    "\n",
    "**or**\n",
    "\n",
    "        6 + 5 + 4 + 3 + 2 + 1 = 21 ...  n / 2 * (n - 1)\n",
    "        1 + 2 + 3 + 4 + 5 + 6 = 21 ...  n / 2 * (n + 1)\n",
    "\n",
    "**i.e. 6/2 = 3 * 7 = 21**\n",
    "\n",
    "**This is an example of a good optimization, since it is a big improvement without breaking the code.**\n",
    "\n",
    "**You can make the same change in the animated version, to see the effects on the data during iterations.**\n",
    "\n",
    "## Another optimization of algorithm\n",
    "\n",
    "**Lets say you have a list of nearly sorted numbers, so only one or two numbers are out of order. You don't care how many comparisons are made, only whether there is a swap made. If you keep track of when a swap is made, or more precisely not made, you can further optimize the algorithm by breaking out of the outer loop when no swaps are made in an iteration.**"
   ]
  },
  {
   "cell_type": "code",
   "execution_count": 4,
   "id": "32904897",
   "metadata": {},
   "outputs": [
    {
     "name": "stdout",
     "output_type": "stream",
     "text": [
      "Sorting list [1, 2, 3, 4, 6, 5, 7]...\n",
      "End of inner loop 0. 'data' is now [1, 2, 3, 4, 5, 6, 7]\n",
      "End of inner loop 1. 'data' is now [1, 2, 3, 4, 5, 6, 7]\n",
      "Data is now sorted\n",
      "Comparison counter is 11\n",
      "Sorted list is [1, 2, 3, 4, 5, 6, 7]\n"
     ]
    }
   ],
   "source": [
    "def bubble_sort(data):\n",
    "    n = len(data)\n",
    "    comparison_counter = 0\n",
    "    \n",
    "    for i in range(n - 1):\n",
    "        # Keep track of when swap is made\n",
    "        swapped = False\n",
    "        for j in range(n - 1 - i):\n",
    "            comparison_counter += 1\n",
    "            if data[j] > data[j + 1]:\n",
    "                data[j], data[j + 1] = data[j + 1], data[j]\n",
    "                swapped = True\n",
    "        \n",
    "        print(f\"End of inner loop {i}. 'data' is now {data}\")\n",
    "        \n",
    "        if not swapped:\n",
    "            # Last pass resulted in no swaps\n",
    "            print(\"Data is now sorted\")\n",
    "            break\n",
    "    \n",
    "    print(f\"Comparison counter is {comparison_counter}\")\n",
    "\n",
    "\n",
    "\n",
    "# Only one number out of order (5 and 6 positions need to be swapped)\n",
    "numbers = [1, 2, 3, 4, 6, 5, 7]\n",
    "\n",
    "print(f\"Sorting list {numbers}...\")\n",
    "\n",
    "bubble_sort(numbers)\n",
    "\n",
    "print(f\"Sorted list is {numbers}\")"
   ]
  },
  {
   "cell_type": "markdown",
   "id": "d0417c91",
   "metadata": {},
   "source": [
    "**The comparison counter has now dropped to nearly half, with 11 iterations. This is very close to the best-case scenario for bubble sort algorithm, working in `O(n)` memory. If the input list is already sorted, the number of comparisons drops to 6 times, i.e. `O(n - 1)`.**\n",
    "\n",
    "**The worst-case scenario is when the input list is ordered in reverse `[7, 6, 5, 4, 3, 2, 1]`, which results in 21 times, or `O(n^2)`.**\n",
    "\n",
    "\n",
    "**NOTE: You can make the same updates to the animated version as this function, to see how the list changes with each iteration.**"
   ]
  },
  {
   "cell_type": "code",
   "execution_count": 5,
   "id": "9d0e4f09",
   "metadata": {},
   "outputs": [
    {
     "name": "stdout",
     "output_type": "stream",
     "text": [
      "Sorting list [1, 2, 3, 4, 5, 6, 7]...\n",
      "End of inner loop 0. 'data' is now [1, 2, 3, 4, 5, 6, 7]\n",
      "Data is now sorted\n",
      "Comparison counter is 6\n",
      "Sorted list is [1, 2, 3, 4, 5, 6, 7]\n"
     ]
    }
   ],
   "source": [
    "# Already sorted list - BEST CASE SCENARIO\n",
    "numbers = [1, 2, 3, 4, 5, 6, 7]\n",
    "\n",
    "print(f\"Sorting list {numbers}...\")\n",
    "\n",
    "bubble_sort(numbers)\n",
    "\n",
    "print(f\"Sorted list is {numbers}\")"
   ]
  },
  {
   "cell_type": "code",
   "execution_count": 6,
   "id": "93ab8bea",
   "metadata": {},
   "outputs": [
    {
     "name": "stdout",
     "output_type": "stream",
     "text": [
      "Sorting list [7, 6, 5, 4, 3, 2, 1]...\n",
      "End of inner loop 0. 'data' is now [6, 5, 4, 3, 2, 1, 7]\n",
      "End of inner loop 1. 'data' is now [5, 4, 3, 2, 1, 6, 7]\n",
      "End of inner loop 2. 'data' is now [4, 3, 2, 1, 5, 6, 7]\n",
      "End of inner loop 3. 'data' is now [3, 2, 1, 4, 5, 6, 7]\n",
      "End of inner loop 4. 'data' is now [2, 1, 3, 4, 5, 6, 7]\n",
      "End of inner loop 5. 'data' is now [1, 2, 3, 4, 5, 6, 7]\n",
      "Comparison counter is 21\n",
      "Sorted list is [1, 2, 3, 4, 5, 6, 7]\n"
     ]
    }
   ],
   "source": [
    "# List in reverse order - WORST CASE SCENARIO\n",
    "numbers = [7, 6, 5, 4, 3, 2, 1]\n",
    "\n",
    "print(f\"Sorting list {numbers}...\")\n",
    "\n",
    "bubble_sort(numbers)\n",
    "\n",
    "print(f\"Sorted list is {numbers}\")"
   ]
  },
  {
   "cell_type": "code",
   "execution_count": 7,
   "id": "711e319b",
   "metadata": {},
   "outputs": [
    {
     "name": "stdout",
     "output_type": "stream",
     "text": [
      "Sorting list [3, 2, 1, 4, 5, 7, 6]...\n",
      "End of inner loop 0. 'data' is now [2, 1, 3, 4, 5, 6, 7]\n",
      "End of inner loop 1. 'data' is now [1, 2, 3, 4, 5, 6, 7]\n",
      "End of inner loop 2. 'data' is now [1, 2, 3, 4, 5, 6, 7]\n",
      "Data is now sorted\n",
      "Comparison counter is 15\n",
      "Sorted list is [1, 2, 3, 4, 5, 6, 7]\n"
     ]
    }
   ],
   "source": [
    "# Half-mixed list - AVERAGE CASE SCENARIO\n",
    "numbers = [3, 2, 1, 4, 5, 7, 6]\n",
    "\n",
    "print(f\"Sorting list {numbers}...\")\n",
    "\n",
    "bubble_sort(numbers)\n",
    "\n",
    "print(f\"Sorted list is {numbers}\")"
   ]
  },
  {
   "cell_type": "code",
   "execution_count": null,
   "id": "093d138c",
   "metadata": {},
   "outputs": [],
   "source": []
  }
 ],
 "metadata": {
  "kernelspec": {
   "display_name": "Python 3 (ipykernel)",
   "language": "python",
   "name": "python3"
  },
  "language_info": {
   "codemirror_mode": {
    "name": "ipython",
    "version": 3
   },
   "file_extension": ".py",
   "mimetype": "text/x-python",
   "name": "python",
   "nbconvert_exporter": "python",
   "pygments_lexer": "ipython3",
   "version": "3.9.17"
  }
 },
 "nbformat": 4,
 "nbformat_minor": 5
}
