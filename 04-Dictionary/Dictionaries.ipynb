{
 "cells": [
  {
   "cell_type": "markdown",
   "id": "532b10e2",
   "metadata": {},
   "source": [
    "# Dictionary Type (`dict`)\n",
    "\n",
    "**Unlike lists or tuples, dictionaries are unordered and structure the data in key-value pairs (even though insertion order is preserved):**\n",
    "\n",
    "                          {'key_1': value, 'key_2': [value, value, value], 'key_3': value, ...}\n",
    "                          \n",
    "**where each key ID is unique, i.e. keys cannot be duplicated. Also, key IDs must be strings, i.e. never integers.**\n",
    "                          \n",
    "**Dictionaries cannot be indexed by index position (unordered), but values can be accessed by indexing with the key name, e.g. `dictionary[key_1]`. In this way, a dictionary is a collection of values but they are organised by keys, similar to the concept of a column and its values. The keys themselves are cannot be changed, but you can add/delete/replace any of the values.**\n",
    "\n",
    "**NOTE: You can delete an entire key-value pair.**\n",
    "\n",
    "**Dictionaries can be created in several ways - literally, converting lists or tuples with `dict()` or indexing-and-assigning items into empty dictionary.**\n",
    "\n",
    "**The documentation for dictionaries (available properties and methods) can be found from this link:**\n",
    "\n",
    "**https://docs.python.org/3/library/stdtypes.html?highlight=dict#mapping-types-dict**"
   ]
  },
  {
   "cell_type": "code",
   "execution_count": 1,
   "id": "af2ff1c1",
   "metadata": {},
   "outputs": [],
   "source": [
    "# Keys are descriptive name for type of vehicle\n",
    "# Values are manufacturer name and model\n",
    "\n",
    "vehicles = {\n",
    "    'dream': 'Honda 250T', \n",
    "    'roadster': 'BMW R1100', \n",
    "    'er5': 'Kawasaki ER5', \n",
    "    'can-am': 'Bombardier Can-Am 250', \n",
    "    'virago': 'Yamaha XV250', \n",
    "    'tenere': 'Yamaha XT650', \n",
    "    'jimny': 'Suzuki Jimny 1.5', \n",
    "    'fiesta': 'Ford Fiesta Ghia 1.4'\n",
    "}"
   ]
  },
  {
   "cell_type": "code",
   "execution_count": 4,
   "id": "6bdc32d7",
   "metadata": {},
   "outputs": [
    {
     "name": "stdout",
     "output_type": "stream",
     "text": [
      "I own a Ford Fiesta Ghia 1.4 yay!\n"
     ]
    }
   ],
   "source": [
    "print(\"I own a\", vehicles['fiesta'], \"yay!\")"
   ]
  },
  {
   "cell_type": "code",
   "execution_count": 6,
   "id": "669b0439",
   "metadata": {},
   "outputs": [
    {
     "ename": "KeyError",
     "evalue": "'canam'",
     "output_type": "error",
     "traceback": [
      "\u001b[1;31m---------------------------------------------------------------------------\u001b[0m",
      "\u001b[1;31mKeyError\u001b[0m                                  Traceback (most recent call last)",
      "Cell \u001b[1;32mIn[6], line 1\u001b[0m\n\u001b[1;32m----> 1\u001b[0m \u001b[43mvehicles\u001b[49m\u001b[43m[\u001b[49m\u001b[38;5;124;43m'\u001b[39;49m\u001b[38;5;124;43mcanam\u001b[39;49m\u001b[38;5;124;43m'\u001b[39;49m\u001b[43m]\u001b[49m\n",
      "\u001b[1;31mKeyError\u001b[0m: 'canam'"
     ]
    }
   ],
   "source": [
    "vehicles['canam']"
   ]
  },
  {
   "cell_type": "markdown",
   "id": "775deeb1",
   "metadata": {},
   "source": [
    "**The `get()` method also allows you to retrieve the values for a specific key. It has the added advantage of not crashing the program if the key does not exist (although indexing is faster).**"
   ]
  },
  {
   "cell_type": "code",
   "execution_count": 5,
   "id": "f2d3e63d",
   "metadata": {},
   "outputs": [
    {
     "data": {
      "text/plain": [
       "'Kawasaki ER5'"
      ]
     },
     "execution_count": 5,
     "metadata": {},
     "output_type": "execute_result"
    }
   ],
   "source": [
    "vehicles.get('er5')"
   ]
  },
  {
   "cell_type": "code",
   "execution_count": 7,
   "id": "a7a6e5d2",
   "metadata": {},
   "outputs": [],
   "source": [
    "vehicles.get('canam')"
   ]
  },
  {
   "cell_type": "markdown",
   "id": "32a04b99",
   "metadata": {},
   "source": [
    "**The `keys()` method returns a list of all keys in the dictionary, or you can print out the key names with a simple `for` loop, since dictionaries are iterable.**"
   ]
  },
  {
   "cell_type": "code",
   "execution_count": 12,
   "id": "54dbd489",
   "metadata": {},
   "outputs": [
    {
     "data": {
      "text/plain": [
       "dict_keys(['dream', 'roadster', 'er5', 'can-am', 'virago', 'tenere', 'jimny', 'fiesta'])"
      ]
     },
     "execution_count": 12,
     "metadata": {},
     "output_type": "execute_result"
    }
   ],
   "source": [
    "vehicles.keys()"
   ]
  },
  {
   "cell_type": "code",
   "execution_count": 18,
   "id": "073d415c",
   "metadata": {},
   "outputs": [
    {
     "name": "stdout",
     "output_type": "stream",
     "text": [
      "Category: dream\n",
      "Name and Model: Honda 250T\n",
      "\n",
      "Category: roadster\n",
      "Name and Model: BMW R1100\n",
      "\n",
      "Category: er5\n",
      "Name and Model: Kawasaki ER5\n",
      "\n",
      "Category: can-am\n",
      "Name and Model: Bombardier Can-Am 250\n",
      "\n",
      "Category: virago\n",
      "Name and Model: Yamaha XV250\n",
      "\n",
      "Category: tenere\n",
      "Name and Model: Yamaha XT650\n",
      "\n",
      "Category: jimny\n",
      "Name and Model: Suzuki Jimny 1.5\n",
      "\n",
      "Category: fiesta\n",
      "Name and Model: Ford Fiesta Ghia 1.4\n",
      "\n"
     ]
    }
   ],
   "source": [
    "for key in vehicles:\n",
    "    print(f\"Category: {key}\")\n",
    "    print(f\"Name and Model: {vehicles[key]}\")\n",
    "    print()"
   ]
  },
  {
   "cell_type": "markdown",
   "id": "085e3c56",
   "metadata": {},
   "source": [
    "**The `items()` method is very useful when iterating, since it retrieves both the keys and the values, and returns each key-value pairing in a tuple, contained within a list (similar to `enumerate()` function with lists and tuples).**"
   ]
  },
  {
   "cell_type": "code",
   "execution_count": 13,
   "id": "bf0d09fe",
   "metadata": {},
   "outputs": [
    {
     "data": {
      "text/plain": [
       "dict_items([('dream', 'Honda 250T'), ('roadster', 'BMW R1100'), ('er5', 'Kawasaki ER5'), ('can-am', 'Bombardier Can-Am 250'), ('virago', 'Yamaha XV250'), ('tenere', 'Yamaha XT650'), ('jimny', 'Suzuki Jimny 1.5'), ('fiesta', 'Ford Fiesta Ghia 1.4')])"
      ]
     },
     "execution_count": 13,
     "metadata": {},
     "output_type": "execute_result"
    }
   ],
   "source": [
    "vehicles.items()"
   ]
  },
  {
   "cell_type": "code",
   "execution_count": 20,
   "id": "fb05dfde",
   "metadata": {},
   "outputs": [
    {
     "name": "stdout",
     "output_type": "stream",
     "text": [
      "dream | Honda 250T\n",
      "roadster | BMW R1100\n",
      "er5 | Kawasaki ER5\n",
      "can-am | Bombardier Can-Am 250\n",
      "virago | Yamaha XV250\n",
      "tenere | Yamaha XT650\n",
      "jimny | Suzuki Jimny 1.5\n",
      "fiesta | Ford Fiesta Ghia 1.4\n"
     ]
    }
   ],
   "source": [
    "for key, value in vehicles.items():\n",
    "    print(key, value, sep=\" | \")"
   ]
  },
  {
   "cell_type": "markdown",
   "id": "6c2bd4e1",
   "metadata": {},
   "source": [
    "## Add items to dictionary\n",
    "\n",
    "**You can add items to a dictionary by assignation, using the new key as a variable that is indexed into the dictionary.**\n",
    "\n",
    "**NOTE: You cannot use `append()` method with dictionaries.**"
   ]
  },
  {
   "cell_type": "code",
   "execution_count": 23,
   "id": "45f8b586",
   "metadata": {},
   "outputs": [],
   "source": [
    "vehicles['starfighter'] = 'Lockheed F-104'\n",
    "vehicles['toy'] = 'Glider'"
   ]
  },
  {
   "cell_type": "code",
   "execution_count": 24,
   "id": "fb6e75cf",
   "metadata": {},
   "outputs": [
    {
     "name": "stdout",
     "output_type": "stream",
     "text": [
      "dream | Honda 250T\n",
      "roadster | BMW R1100\n",
      "er5 | Kawasaki ER5\n",
      "can-am | Bombardier Can-Am 250\n",
      "virago | Yamaha XV250\n",
      "tenere | Yamaha XT650\n",
      "jimny | Suzuki Jimny 1.5\n",
      "fiesta | Ford Fiesta Ghia 1.4\n",
      "starfighter | Lockheed F-104\n",
      "toy | Glider\n"
     ]
    }
   ],
   "source": [
    "for key, value in vehicles.items():\n",
    "    print(key, value, sep=\" | \")"
   ]
  },
  {
   "cell_type": "markdown",
   "id": "a9d09948",
   "metadata": {},
   "source": [
    "## Replacing Values\n",
    "\n",
    "**Changing a value is also through assignation - index by the key and assign a new value. This is because each key ID is unique. Note that the insertion order is preserved**"
   ]
  },
  {
   "cell_type": "code",
   "execution_count": 25,
   "id": "4fa2b394",
   "metadata": {},
   "outputs": [],
   "source": [
    "vehicles['virago'] = 'Yamaha XV535'"
   ]
  },
  {
   "cell_type": "code",
   "execution_count": 26,
   "id": "bf647cbc",
   "metadata": {},
   "outputs": [
    {
     "name": "stdout",
     "output_type": "stream",
     "text": [
      "dream | Honda 250T\n",
      "roadster | BMW R1100\n",
      "er5 | Kawasaki ER5\n",
      "can-am | Bombardier Can-Am 250\n",
      "virago | Yamaha XV535\n",
      "tenere | Yamaha XT650\n",
      "jimny | Suzuki Jimny 1.5\n",
      "fiesta | Ford Fiesta Ghia 1.4\n",
      "starfighter | Lockheed F-104\n",
      "toy | Glider\n"
     ]
    }
   ],
   "source": [
    "for key, value in vehicles.items():\n",
    "    print(key, value, sep=\" | \")"
   ]
  },
  {
   "cell_type": "markdown",
   "id": "a6819167",
   "metadata": {},
   "source": [
    "## Deleting Keys\n",
    "\n",
    "**Deleting keys can be done with `del` operator, just like items in lists or tuples, which removes the key and its value(s). This method completely removes the item, with no record left. If you want to remove an item, but have it returned so it can be stored separately, use `pop()` method.**\n",
    "\n",
    "**NOTE: If you try to delete an item that does not exist with `del` operator or `pop()` method, a KeyError will be raised.**"
   ]
  },
  {
   "cell_type": "code",
   "execution_count": 27,
   "id": "d91e9edc",
   "metadata": {},
   "outputs": [],
   "source": [
    "del vehicles['starfighter']"
   ]
  },
  {
   "cell_type": "code",
   "execution_count": 28,
   "id": "f9c7e558",
   "metadata": {},
   "outputs": [
    {
     "name": "stdout",
     "output_type": "stream",
     "text": [
      "dream | Honda 250T\n",
      "roadster | BMW R1100\n",
      "er5 | Kawasaki ER5\n",
      "can-am | Bombardier Can-Am 250\n",
      "virago | Yamaha XV535\n",
      "tenere | Yamaha XT650\n",
      "jimny | Suzuki Jimny 1.5\n",
      "fiesta | Ford Fiesta Ghia 1.4\n",
      "toy | Glider\n"
     ]
    }
   ],
   "source": [
    "for key, value in vehicles.items():\n",
    "    print(key, value, sep=\" | \")"
   ]
  },
  {
   "cell_type": "code",
   "execution_count": 29,
   "id": "31697d15",
   "metadata": {},
   "outputs": [
    {
     "data": {
      "text/plain": [
       "'Glider'"
      ]
     },
     "execution_count": 29,
     "metadata": {},
     "output_type": "execute_result"
    }
   ],
   "source": [
    "vehicles.pop('toy')"
   ]
  },
  {
   "cell_type": "code",
   "execution_count": 30,
   "id": "e1b76006",
   "metadata": {},
   "outputs": [
    {
     "name": "stdout",
     "output_type": "stream",
     "text": [
      "dream | Honda 250T\n",
      "roadster | BMW R1100\n",
      "er5 | Kawasaki ER5\n",
      "can-am | Bombardier Can-Am 250\n",
      "virago | Yamaha XV535\n",
      "tenere | Yamaha XT650\n",
      "jimny | Suzuki Jimny 1.5\n",
      "fiesta | Ford Fiesta Ghia 1.4\n"
     ]
    }
   ],
   "source": [
    "for key, value in vehicles.items():\n",
    "    print(key, value, sep=\" | \")"
   ]
  },
  {
   "cell_type": "code",
   "execution_count": 31,
   "id": "cf43e8e4",
   "metadata": {},
   "outputs": [
    {
     "ename": "KeyError",
     "evalue": "'f1'",
     "output_type": "error",
     "traceback": [
      "\u001b[1;31m---------------------------------------------------------------------------\u001b[0m",
      "\u001b[1;31mKeyError\u001b[0m                                  Traceback (most recent call last)",
      "Cell \u001b[1;32mIn[31], line 1\u001b[0m\n\u001b[1;32m----> 1\u001b[0m \u001b[43mvehicles\u001b[49m\u001b[38;5;241;43m.\u001b[39;49m\u001b[43mpop\u001b[49m\u001b[43m(\u001b[49m\u001b[38;5;124;43m'\u001b[39;49m\u001b[38;5;124;43mf1\u001b[39;49m\u001b[38;5;124;43m'\u001b[39;49m\u001b[43m)\u001b[49m\n",
      "\u001b[1;31mKeyError\u001b[0m: 'f1'"
     ]
    }
   ],
   "source": [
    "vehicles.pop('f1')"
   ]
  },
  {
   "cell_type": "markdown",
   "id": "517ff17b",
   "metadata": {},
   "source": [
    "**If you do not want the program to crash in case the key does not exist, specify a default return value, i.e. `None`:**"
   ]
  },
  {
   "cell_type": "code",
   "execution_count": 32,
   "id": "61668bff",
   "metadata": {},
   "outputs": [],
   "source": [
    "vehicles.pop('f1', None)"
   ]
  },
  {
   "cell_type": "code",
   "execution_count": 33,
   "id": "d0549842",
   "metadata": {},
   "outputs": [
    {
     "name": "stdout",
     "output_type": "stream",
     "text": [
      "dream | Honda 250T\n",
      "roadster | BMW R1100\n",
      "er5 | Kawasaki ER5\n",
      "can-am | Bombardier Can-Am 250\n",
      "virago | Yamaha XV535\n",
      "tenere | Yamaha XT650\n",
      "jimny | Suzuki Jimny 1.5\n",
      "fiesta | Ford Fiesta Ghia 1.4\n"
     ]
    }
   ],
   "source": [
    "for key, value in vehicles.items():\n",
    "    print(key, value, sep=\" | \")"
   ]
  },
  {
   "cell_type": "code",
   "execution_count": 34,
   "id": "ffa5e65f",
   "metadata": {},
   "outputs": [
    {
     "data": {
      "text/plain": [
       "\"There is no 'f1' key\""
      ]
     },
     "execution_count": 34,
     "metadata": {},
     "output_type": "execute_result"
    }
   ],
   "source": [
    "vehicles.pop('f1', \"There is no 'f1' key\")"
   ]
  },
  {
   "cell_type": "markdown",
   "id": "dbb3fb08",
   "metadata": {},
   "source": [
    "## Advantages and Disadvantages\n",
    "\n",
    "**Using the program to buy computer parts, replace all lists with dictionaries.**"
   ]
  },
  {
   "cell_type": "code",
   "execution_count": 11,
   "id": "d9abc621",
   "metadata": {},
   "outputs": [
    {
     "name": "stdout",
     "output_type": "stream",
     "text": [
      "Please choose from options below:\n",
      "1: monitor\n",
      "2: keyboard\n",
      "3: mouse\n",
      "4: mat\n",
      "5: screen\n",
      "6: hdmi cable\n",
      "Press 0 to finish\n",
      "> 4\n",
      "Adding mat...\n",
      "> 4\n",
      "Removing mat...\n",
      "> 1\n",
      "Adding monitor...\n",
      "> 2\n",
      "Adding keyboard...\n",
      "> 3\n",
      "Adding mouse...\n",
      "> 4\n",
      "Adding mat...\n",
      "> 5\n",
      "Adding screen...\n",
      "> 6\n",
      "Adding hdmi cable...\n",
      "> 77\n",
      "Please choose from options below:\n",
      "1: monitor\n",
      "2: keyboard\n",
      "3: mouse\n",
      "4: mat\n",
      "5: screen\n",
      "6: hdmi cable\n",
      "Press 0 to finish\n",
      "> 0\n",
      "{'1': 'monitor', '2': 'keyboard', '3': 'mouse', '4': 'mat', '5': 'screen', '6': 'hdmi cable'}\n"
     ]
    }
   ],
   "source": [
    "# Remember that keys are always strings\n",
    "available_parts = {'1': 'monitor', '2': 'keyboard', '3': 'mouse', '4': 'mat', '5': 'screen', '6': 'hdmi cable'}\n",
    "\n",
    "# Initialize to any value except 0-6\n",
    "current_choice = None\n",
    "\n",
    "shopping_list = {} # Create empty dictionary\n",
    "\n",
    "while current_choice != '0':\n",
    "    if current_choice in available_parts:\n",
    "        chosen_part = available_parts[current_choice]\n",
    "        \n",
    "        if current_choice in shopping_list:\n",
    "            print(f\"Removing {chosen_part}...\")\n",
    "            shopping_list.pop(current_choice)\n",
    "        else:\n",
    "            print(f\"Adding {chosen_part}...\")\n",
    "            shopping_list[current_choice] = chosen_part\n",
    "    else:\n",
    "        print(\"Please choose from options below:\")\n",
    "        for key, value in available_parts.items():\n",
    "            print(f\"{key}: {value}\")\n",
    "        print(\"Press 0 to finish\")\n",
    "        \n",
    "    current_choice = input(\"> \")\n",
    "    \n",
    "print(shopping_list)"
   ]
  },
  {
   "cell_type": "markdown",
   "id": "d0f23891",
   "metadata": {},
   "source": [
    "**As you can see, this code is bit shorter than using lists, where you had to create an additional list for valid number choices to map to the computer part name (see lists notebook).**\n",
    "\n",
    "**You can still use both lists and dictionaries in the same code (see below) - you don't have to use only lists, or only dictionaries. You can initialize an empty list `[]` for the shopping list instead, and then easily append or remove items.**"
   ]
  },
  {
   "cell_type": "code",
   "execution_count": 10,
   "id": "33d47b27",
   "metadata": {},
   "outputs": [
    {
     "name": "stdout",
     "output_type": "stream",
     "text": [
      "Please add options from the list:\n",
      "1: monitor\n",
      "2: keyboard\n",
      "3: mouse\n",
      "4: mat\n",
      "5: screen\n",
      "6: hdmi cable\n",
      "0: to finish\n",
      "> 1\n",
      "Adding monitor\n",
      "Your list now contains: ['monitor']\n",
      "> 2\n",
      "Adding keyboard\n",
      "Your list now contains: ['monitor', 'keyboard']\n",
      "> 3\n",
      "Adding mouse\n",
      "Your list now contains: ['monitor', 'keyboard', 'mouse']\n",
      "> 4\n",
      "Adding mat\n",
      "Your list now contains: ['monitor', 'keyboard', 'mouse', 'mat']\n",
      "> 5\n",
      "Adding screen\n",
      "Your list now contains: ['monitor', 'keyboard', 'mouse', 'mat', 'screen']\n",
      "> 6\n",
      "Adding hdmi cable\n",
      "Your list now contains: ['monitor', 'keyboard', 'mouse', 'mat', 'screen', 'hdmi cable']\n",
      "> 7\n",
      "Please add options from the list:\n",
      "1: monitor\n",
      "2: keyboard\n",
      "3: mouse\n",
      "4: mat\n",
      "5: screen\n",
      "6: hdmi cable\n",
      "0: to finish\n",
      "> 4\n",
      "Removing mat\n",
      "Your list now contains: ['monitor', 'keyboard', 'mouse', 'screen', 'hdmi cable']\n",
      "> 0\n",
      "['monitor', 'keyboard', 'mouse', 'screen', 'hdmi cable']\n"
     ]
    }
   ],
   "source": [
    "available_parts = {'1': 'monitor', '2': 'keyboard', '3': 'mouse', '4': 'mat', '5': 'screen', '6': 'hdmi cable'}\n",
    "\n",
    "current_choice = None\n",
    "\n",
    "computer_parts = []  # Create empty list\n",
    " \n",
    "while current_choice != \"0\":\n",
    "    if current_choice in available_parts:\n",
    "        chosen_part = available_parts[current_choice]\n",
    "        \n",
    "        if chosen_part in computer_parts:\n",
    "            print(f\"Removing {chosen_part}\")\n",
    "            computer_parts.remove(chosen_part)\n",
    "        else:\n",
    "            print(f\"Adding {chosen_part}\")\n",
    "            computer_parts.append(chosen_part)\n",
    "        print(f\"Your list now contains: {computer_parts}\")\n",
    "        \n",
    "    else:\n",
    "        print(\"Please add options from the list:\")\n",
    "        for key, value in available_parts.items():\n",
    "            print(f\"{key}: {value}\")\n",
    "        print(\"0: to finish\")\n",
    " \n",
    "    current_choice = input(\"> \")\n",
    "\n",
    "print(computer_parts)"
   ]
  },
  {
   "cell_type": "markdown",
   "id": "ae903823",
   "metadata": {},
   "source": [
    "## Smart Fridge Example\n",
    "\n",
    "**How about iterating over a dictionary to create a new one? You can iterate over the keys in one dictionary to make them the values in a new dictionary.**"
   ]
  },
  {
   "cell_type": "code",
   "execution_count": 1,
   "id": "1d8ed30a",
   "metadata": {},
   "outputs": [],
   "source": [
    "# Pantry dictionary KEYS: food item, VALUE: weight\n",
    "\n",
    "pantry = {\n",
    "    \"chicken\": 500,\n",
    "    \"lemon\": 2,\n",
    "    \"cumin\": 24,\n",
    "    \"paprika\": 18,\n",
    "    \"chilli powder\": 7,\n",
    "    \"yogurt\": 300,\n",
    "    \"oil\": 450,\n",
    "    \"onion\": 5,\n",
    "    \"garlic\": 9,\n",
    "    \"ginger\": 2,\n",
    "    \"tomato puree\": 125,\n",
    "    \"almonds\": 75,\n",
    "    \"rice\": 500,\n",
    "    \"coriander\": 20,\n",
    "    \"lime\": 3,\n",
    "    \"pepper\": 8,\n",
    "    \"egg\": 6,\n",
    "    \"pizza\": 2,\n",
    "    \"spam\": 1,\n",
    "}\n",
    "\n",
    "# Recipes dictionary KEYS: recipe, VALUE: food item\n",
    "\n",
    "recipes = {\n",
    "    \"Butter chicken\": [\n",
    "        \"chicken\", \n",
    "        \"lemon\", \n",
    "        \"cumin\", \n",
    "        \"paprika\", \n",
    "        \"chilli powder\", \n",
    "        \"yogurt\", \n",
    "        \"oil\", \n",
    "        \"onion\", \n",
    "        \"garlic\", \n",
    "        \"ginger\",\n",
    "        \"tomato puree\",\n",
    "        \"almonds\", \n",
    "        \"rice\", \n",
    "        \"coriander\", \n",
    "        \"lime\"\n",
    "    ],\n",
    "    \"Chicken and chips\": [\n",
    "        \"chicken\", \n",
    "        \"potatoes\", \n",
    "        \"salt\", \n",
    "        \"malt vinegar\"\n",
    "    ],\n",
    "    \"Pizza\": [\n",
    "        \"pizza\"\n",
    "    ],\n",
    "    \"Egg sandwich\": [\n",
    "        \"egg\", \n",
    "        \"bread\", \n",
    "        \"butter\"\n",
    "    ],\n",
    "    \"Beans on toast\": [\n",
    "        \"beans\", \n",
    "        \"bread\"\n",
    "    ],\n",
    "    \"Spam a la tin\": [\n",
    "        \"spam\", \n",
    "        \"tin opener\", \n",
    "        \"spoon\"\n",
    "    ]\n",
    "}\n"
   ]
  },
  {
   "cell_type": "code",
   "execution_count": 17,
   "id": "ba22701c",
   "metadata": {},
   "outputs": [
    {
     "name": "stdout",
     "output_type": "stream",
     "text": [
      "Choose a Recipe:\n",
      "==================\n",
      "1 - Butter chicken\n",
      "2 - Chicken and chips\n",
      "3 - Pizza\n",
      "4 - Egg sandwich\n",
      "5 - Beans on toast\n",
      "6 - Spam a la tin\n",
      "> 2\n",
      "You have selected Chicken and chips\n",
      "You need the following ingredients:\n",
      "\tGot chicken\n",
      "\tYou don't have potatoes\n",
      "\tYou don't have salt\n",
      "\tYou don't have malt vinegar\n",
      "Choose a Recipe:\n",
      "==================\n",
      "1 - Butter chicken\n",
      "2 - Chicken and chips\n",
      "3 - Pizza\n",
      "4 - Egg sandwich\n",
      "5 - Beans on toast\n",
      "6 - Spam a la tin\n",
      "> 0\n"
     ]
    }
   ],
   "source": [
    "display_dict = {}\n",
    "\n",
    "for index, key in enumerate(recipes):\n",
    "    display_dict[str(index + 1)] = key\n",
    "    \n",
    "    \n",
    "while True:\n",
    "    print(\"Choose a Recipe:\")\n",
    "    print(\"==================\")\n",
    "    \n",
    "    for key, value in display_dict.items():\n",
    "        print(f\"{key} - {value}\")\n",
    "        \n",
    "    recipe_choice = input(\"> \")\n",
    "    \n",
    "    if recipe_choice == \"0\":\n",
    "        break\n",
    "    elif recipe_choice in display_dict:\n",
    "        selected_item = display_dict[recipe_choice]\n",
    "        print(f\"You have selected {selected_item}\")\n",
    "        print(\"You need the following ingredients:\")\n",
    "        ingredients = recipes[selected_item]\n",
    "        #print(ingredients)\n",
    "        \n",
    "        for item in ingredients:\n",
    "            if item in pantry:\n",
    "                print(f\"\\tGot {item}\")\n",
    "            else:\n",
    "                print(f\"\\tYou don't have {item}\")"
   ]
  },
  {
   "cell_type": "markdown",
   "id": "ee9548c5",
   "metadata": {},
   "source": [
    "## Nested dictionaries\n",
    "\n",
    "**You can add more information, like does your pantry have enough of the food item for the recipe, i.e. add weights for each food item to the recipe dictionary, as nested dictionaries.**\n",
    "\n",
    "**As with lists or tuples, you can iterate over the nested dictionary with a nested `for` loop.**"
   ]
  },
  {
   "cell_type": "code",
   "execution_count": 25,
   "id": "f6a0ad79",
   "metadata": {},
   "outputs": [],
   "source": [
    "pantry = {\n",
    "    \"chicken\": 500,\n",
    "    \"lemon\": 2,\n",
    "    \"cumin\": 24,\n",
    "    \"paprika\": 18,\n",
    "    \"chilli powder\": 7,\n",
    "    \"yogurt\": 300,\n",
    "    \"oil\": 450,\n",
    "    \"onion\": 5,\n",
    "    \"garlic\": 9,\n",
    "    \"ginger\": 2,\n",
    "    \"tomato puree\": 125,\n",
    "    \"almonds\": 75,\n",
    "    \"rice\": 500,\n",
    "    \"coriander\": 20,\n",
    "    \"lime\": 3,\n",
    "    \"pepper\": 8,\n",
    "    \"egg\": 6,\n",
    "    \"pizza\": 2,\n",
    "    \"spam\": 1,\n",
    "}\n",
    "\n",
    "\n",
    "# Added weights for ingredients\n",
    "recipes = {\n",
    "    \"Butter chicken\": {\n",
    "        \"chicken\": 750,\n",
    "        \"lemon\": 1,\n",
    "        \"cumin\": 1,\n",
    "        \"paprika\": 1,\n",
    "        \"chilli powder\": 2,\n",
    "        \"yogurt\": 250,\n",
    "        \"oil\": 50,\n",
    "        \"onion\": 1,\n",
    "        \"garlic\": 2,\n",
    "        \"ginger\": 3,\n",
    "        \"tomato puree\": 240,\n",
    "        \"almonds\": 25,\n",
    "        \"rice\": 360,\n",
    "        \"coriander\": 1,\n",
    "        \"lime\": 1,\n",
    "    },\n",
    "    \"Chicken and chips\": {\n",
    "        \"chicken\": 100,\n",
    "        \"potatoes\": 3,\n",
    "        \"salt\": 1,\n",
    "        \"malt vinegar\": 5,\n",
    "    },\n",
    "    \"Pizza\": {\n",
    "        \"pizza\": 1,\n",
    "    },\n",
    "    \"Egg sandwich\": {\n",
    "        \"egg\": 2,\n",
    "        \"bread\": 80,\n",
    "        \"butter\": 10,\n",
    "    },\n",
    "    \"Beans on toast\": {\n",
    "        \"beans\": 1,\n",
    "        \"bread\": 40,\n",
    "    },\n",
    "    \"Spam a la tin\": {\n",
    "        \"spam\": 1,\n",
    "        \"tin opener\": 1,\n",
    "        \"spoon\": 1,\n",
    "    },\n",
    "}"
   ]
  },
  {
   "cell_type": "code",
   "execution_count": 29,
   "id": "b0e026f8",
   "metadata": {},
   "outputs": [
    {
     "name": "stdout",
     "output_type": "stream",
     "text": [
      "Ingredients for Butter chicken:\n",
      "chicken, 750\n",
      "lemon, 1\n",
      "cumin, 1\n",
      "paprika, 1\n",
      "chilli powder, 2\n",
      "yogurt, 250\n",
      "oil, 50\n",
      "onion, 1\n",
      "garlic, 2\n",
      "ginger, 3\n",
      "tomato puree, 240\n",
      "almonds, 25\n",
      "rice, 360\n",
      "coriander, 1\n",
      "lime, 1\n",
      "\n",
      "Ingredients for Chicken and chips:\n",
      "chicken, 100\n",
      "potatoes, 3\n",
      "salt, 1\n",
      "malt vinegar, 5\n",
      "\n",
      "Ingredients for Pizza:\n",
      "pizza, 1\n",
      "\n",
      "Ingredients for Egg sandwich:\n",
      "egg, 2\n",
      "bread, 80\n",
      "butter, 10\n",
      "\n",
      "Ingredients for Beans on toast:\n",
      "beans, 1\n",
      "bread, 40\n",
      "\n",
      "Ingredients for Spam a la tin:\n",
      "spam, 1\n",
      "tin opener, 1\n",
      "spoon, 1\n",
      "\n"
     ]
    }
   ],
   "source": [
    "for recipe, ingredients in recipes.items():\n",
    "    print(f\"Ingredients for {recipe}:\")\n",
    "    for ingredient, quantity in ingredients.items():  # Ingredients is inner dictionary\n",
    "        print(ingredient, quantity, sep=', ')\n",
    "    \n",
    "    print()"
   ]
  },
  {
   "cell_type": "code",
   "execution_count": 34,
   "id": "3bc99a82",
   "metadata": {},
   "outputs": [
    {
     "name": "stdout",
     "output_type": "stream",
     "text": [
      "Choose a Recipe:\n",
      "==================\n",
      "1 - Butter chicken\n",
      "2 - Chicken and chips\n",
      "3 - Pizza\n",
      "4 - Egg sandwich\n",
      "5 - Beans on toast\n",
      "6 - Spam a la tin\n",
      "> 1\n",
      "You have selected Butter chicken\n",
      "Checking ingredients...\n",
      "\tYou're missing 250 of chicken\n",
      "\tGot enough lemon\n",
      "\tGot enough cumin\n",
      "\tGot enough paprika\n",
      "\tGot enough chilli powder\n",
      "\tGot enough yogurt\n",
      "\tGot enough oil\n",
      "\tGot enough onion\n",
      "\tGot enough garlic\n",
      "\tYou're missing 1 of ginger\n",
      "\tYou're missing 115 of tomato puree\n",
      "\tGot enough almonds\n",
      "\tGot enough rice\n",
      "\tGot enough coriander\n",
      "\tGot enough lime\n",
      "\n",
      "Choose a Recipe:\n",
      "==================\n",
      "1 - Butter chicken\n",
      "2 - Chicken and chips\n",
      "3 - Pizza\n",
      "4 - Egg sandwich\n",
      "5 - Beans on toast\n",
      "6 - Spam a la tin\n",
      "> 0\n"
     ]
    }
   ],
   "source": [
    "display_dict = {}\n",
    "\n",
    "for index, key in enumerate(recipes):\n",
    "    display_dict[str(index + 1)] = key\n",
    "    \n",
    "    \n",
    "while True:\n",
    "    print(\"Choose a Recipe:\")\n",
    "    print(\"==================\")\n",
    "    \n",
    "    for key, value in display_dict.items():\n",
    "        print(f\"{key} - {value}\")\n",
    "        \n",
    "    recipe_choice = input(\"> \")\n",
    "    \n",
    "    if recipe_choice == \"0\":\n",
    "        break\n",
    "    elif recipe_choice in display_dict:\n",
    "        selected_item = display_dict[recipe_choice]\n",
    "        print(f\"You have selected {selected_item}\")\n",
    "        print(\"Checking ingredients...\")\n",
    "        ingredients = recipes[selected_item]\n",
    "        #print(ingredients)\n",
    "        \n",
    "        for item, quantity in ingredients.items():\n",
    "            # Get quantity from pantry, otherwise 0 if none\n",
    "            available_quantity = pantry.get(item, 0)\n",
    "            if quantity <= available_quantity:\n",
    "                print(f\"\\tGot enough {item}\")\n",
    "            else:\n",
    "                quantity_missing = quantity - available_quantity\n",
    "                print(f\"\\tYou're missing {quantity_missing} of {item}\")\n",
    "        print()"
   ]
  },
  {
   "cell_type": "markdown",
   "id": "191edd32",
   "metadata": {},
   "source": [
    "## Challenge\n",
    "\n",
    "**Modify the code so that the items that you need to buy, i.e. items & quantity in the final else block, are output to a shopping list.**\n",
    "\n",
    "**The data structure of the shopping list can be any sequence (lists in a list, tuples in a list, dictionary), but it must be a valid iterable.**"
   ]
  },
  {
   "cell_type": "code",
   "execution_count": 51,
   "id": "b9df76bf",
   "metadata": {},
   "outputs": [
    {
     "name": "stdout",
     "output_type": "stream",
     "text": [
      "Choose a Recipe:\n",
      "==================\n",
      "1 - Butter chicken\n",
      "2 - Chicken and chips\n",
      "3 - Pizza\n",
      "4 - Egg sandwich\n",
      "5 - Beans on toast\n",
      "6 - Spam a la tin\n",
      "> 1\n",
      "You have selected Butter chicken\n",
      "Checking ingredients...\n",
      "\tYou're missing 250 of chicken\n",
      "\tGot enough lemon\n",
      "\tGot enough cumin\n",
      "\tGot enough paprika\n",
      "\tGot enough chilli powder\n",
      "\tGot enough yogurt\n",
      "\tGot enough oil\n",
      "\tGot enough onion\n",
      "\tGot enough garlic\n",
      "\tYou're missing 1 of ginger\n",
      "\tYou're missing 115 of tomato puree\n",
      "\tGot enough almonds\n",
      "\tGot enough rice\n",
      "\tGot enough coriander\n",
      "\tGot enough lime\n",
      "\n",
      "Choose a Recipe:\n",
      "==================\n",
      "1 - Butter chicken\n",
      "2 - Chicken and chips\n",
      "3 - Pizza\n",
      "4 - Egg sandwich\n",
      "5 - Beans on toast\n",
      "6 - Spam a la tin\n",
      "> 2\n",
      "You have selected Chicken and chips\n",
      "Checking ingredients...\n",
      "\tGot enough chicken\n",
      "\tYou're missing 3 of potatoes\n",
      "\tYou're missing 1 of salt\n",
      "\tYou're missing 5 of malt vinegar\n",
      "\n",
      "Choose a Recipe:\n",
      "==================\n",
      "1 - Butter chicken\n",
      "2 - Chicken and chips\n",
      "3 - Pizza\n",
      "4 - Egg sandwich\n",
      "5 - Beans on toast\n",
      "6 - Spam a la tin\n",
      "> 3\n",
      "You have selected Pizza\n",
      "Checking ingredients...\n",
      "\tGot enough pizza\n",
      "\n",
      "Choose a Recipe:\n",
      "==================\n",
      "1 - Butter chicken\n",
      "2 - Chicken and chips\n",
      "3 - Pizza\n",
      "4 - Egg sandwich\n",
      "5 - Beans on toast\n",
      "6 - Spam a la tin\n",
      "> 4\n",
      "You have selected Egg sandwich\n",
      "Checking ingredients...\n",
      "\tGot enough egg\n",
      "\tYou're missing 80 of bread\n",
      "\tYou're missing 10 of butter\n",
      "\n",
      "Choose a Recipe:\n",
      "==================\n",
      "1 - Butter chicken\n",
      "2 - Chicken and chips\n",
      "3 - Pizza\n",
      "4 - Egg sandwich\n",
      "5 - Beans on toast\n",
      "6 - Spam a la tin\n",
      "> 5\n",
      "You have selected Beans on toast\n",
      "Checking ingredients...\n",
      "\tYou're missing 1 of beans\n",
      "\tYou're missing 40 of bread\n",
      "\n",
      "Choose a Recipe:\n",
      "==================\n",
      "1 - Butter chicken\n",
      "2 - Chicken and chips\n",
      "3 - Pizza\n",
      "4 - Egg sandwich\n",
      "5 - Beans on toast\n",
      "6 - Spam a la tin\n",
      "> 6\n",
      "You have selected Spam a la tin\n",
      "Checking ingredients...\n",
      "\tGot enough spam\n",
      "\tYou're missing 1 of tin opener\n",
      "\tYou're missing 1 of spoon\n",
      "\n",
      "Choose a Recipe:\n",
      "==================\n",
      "1 - Butter chicken\n",
      "2 - Chicken and chips\n",
      "3 - Pizza\n",
      "4 - Egg sandwich\n",
      "5 - Beans on toast\n",
      "6 - Spam a la tin\n",
      "> 0\n"
     ]
    }
   ],
   "source": [
    "display_dict = {}\n",
    "\n",
    "for index, key in enumerate(recipes):\n",
    "    display_dict[str(index + 1)] = key\n",
    "    \n",
    "\n",
    "shopping_list = {}\n",
    "\n",
    "while True:\n",
    "    print(\"Choose a Recipe:\")\n",
    "    print(\"==================\")\n",
    "    \n",
    "    for key, value in display_dict.items():\n",
    "        print(f\"{key} - {value}\")\n",
    "        \n",
    "    recipe_choice = input(\"> \")\n",
    "    \n",
    "    if recipe_choice == \"0\":\n",
    "        break\n",
    "    elif recipe_choice in display_dict:\n",
    "        selected_item = display_dict[recipe_choice]\n",
    "        print(f\"You have selected {selected_item}\")\n",
    "        print(\"Checking ingredients...\")\n",
    "        ingredients = recipes[selected_item]\n",
    "        #print(ingredients)\n",
    "        \n",
    "        for item, quantity in ingredients.items():\n",
    "            # Get quantity value from pantry, otherwise 0 if item is new\n",
    "            available_quantity = pantry.get(item, 0)\n",
    "            if quantity <= available_quantity:\n",
    "                print(f\"\\tGot enough {item}\")\n",
    "            else: \n",
    "                quantity_missing = quantity - available_quantity\n",
    "                print(f\"\\tYou're missing {quantity_missing} of {item}\")\n",
    "                if item in shopping_list:\n",
    "                    shopping_list[item] += quantity_missing\n",
    "                else:\n",
    "                    shopping_list[item] = quantity_missing\n",
    "        print()"
   ]
  },
  {
   "cell_type": "code",
   "execution_count": 52,
   "id": "ea7f9aa7",
   "metadata": {},
   "outputs": [
    {
     "name": "stdout",
     "output_type": "stream",
     "text": [
      "{'chicken': 250, 'ginger': 1, 'tomato puree': 115, 'potatoes': 3, 'salt': 1, 'malt vinegar': 5, 'bread': 120, 'butter': 10, 'beans': 1, 'tin opener': 1, 'spoon': 1}\n"
     ]
    }
   ],
   "source": [
    "print(shopping_list)"
   ]
  },
  {
   "cell_type": "markdown",
   "id": "6a5cf66e",
   "metadata": {},
   "source": [
    "**Wouldn't it be nice to see the items sorted alphabetically:**"
   ]
  },
  {
   "cell_type": "code",
   "execution_count": 59,
   "id": "3ab8f1f5",
   "metadata": {},
   "outputs": [
    {
     "name": "stdout",
     "output_type": "stream",
     "text": [
      "beans - 1\n",
      "bread - 120\n",
      "butter - 10\n",
      "chicken - 250\n",
      "ginger - 1\n",
      "malt vinegar - 5\n",
      "potatoes - 3\n",
      "salt - 1\n",
      "spoon - 1\n",
      "tin opener - 1\n",
      "tomato puree - 115\n"
     ]
    }
   ],
   "source": [
    "for key, value in sorted(shopping_list.items()):\n",
    "    print(key, value, sep=' - ')"
   ]
  },
  {
   "cell_type": "markdown",
   "id": "4bd14a39",
   "metadata": {},
   "source": [
    "**In summary, all you have to do is update your pantry dictionary. The shopping list now contains all the missing ingredients for all the recipes.**\n",
    "\n",
    "**NOTE: If you stored the shopping list in a list of tuples, instead of a dictionary, you would not have been able to augment the ingredient quantities in case the food item is needed for more than one recipe.**\n",
    "\n",
    "**Instead of assigning and augmenting ingredients to the shopping list, you can use `setdefault()` method.**\n",
    "\n",
    "**FROM:**\n",
    "\n",
    "    if item in shopping_list:\n",
    "        shopping_list[item] += quantity_missing\n",
    "    else:\n",
    "        shopping_list[item] = quantity_missing\n",
    "\n",
    "**TO:**\n",
    "\n",
    "    shopping_list[item] = shopping_list.setdefault(item, 0) + quantity_missing\n",
    "    \n",
    "**The `setdefault` method returns the value of a key, if the key exists. If the key doesn't exist, the method creates a new entry for the item as a key and assigns a default amount to it (`0`). Then it adds the quantity needed to the item value.**\n",
    "\n",
    "**This method is a useful tool in the dictionary toolkit, and can be used to check whether a key exists in a dictionary AND it adds entries to a dictionary.**"
   ]
  },
  {
   "cell_type": "code",
   "execution_count": 54,
   "id": "b3defc78",
   "metadata": {},
   "outputs": [
    {
     "name": "stdout",
     "output_type": "stream",
     "text": [
      "Chicken: 500g\n"
     ]
    }
   ],
   "source": [
    "chicken_quantity = pantry.setdefault(\"chicken\", 0)\n",
    "\n",
    "print(f\"Chicken: {chicken_quantity}g\")"
   ]
  },
  {
   "cell_type": "code",
   "execution_count": 56,
   "id": "e4faf920",
   "metadata": {},
   "outputs": [
    {
     "name": "stdout",
     "output_type": "stream",
     "text": [
      "Salt: 0g\n"
     ]
    }
   ],
   "source": [
    "salt_quantity = pantry.setdefault(\"salt\", 0)\n",
    "\n",
    "print(f\"Salt: {salt_quantity}g\")"
   ]
  },
  {
   "cell_type": "code",
   "execution_count": 57,
   "id": "ab508b3f",
   "metadata": {},
   "outputs": [
    {
     "name": "stdout",
     "output_type": "stream",
     "text": [
      "Ketchup: 0\n"
     ]
    }
   ],
   "source": [
    "ketchup_quantity = pantry.setdefault(\"ketchup\", 0)\n",
    "\n",
    "print(f\"Ketchup: {ketchup_quantity}\")"
   ]
  },
  {
   "cell_type": "code",
   "execution_count": 60,
   "id": "37e3255e",
   "metadata": {},
   "outputs": [
    {
     "name": "stdout",
     "output_type": "stream",
     "text": [
      "{'chicken': 500, 'lemon': 2, 'cumin': 24, 'paprika': 18, 'chilli powder': 7, 'yogurt': 300, 'oil': 450, 'onion': 5, 'garlic': 9, 'ginger': 2, 'tomato puree': 125, 'almonds': 75, 'rice': 500, 'coriander': 20, 'lime': 3, 'pepper': 8, 'egg': 6, 'pizza': 2, 'spam': 1, 'salt': 0, 'ketchup': 0}\n"
     ]
    }
   ],
   "source": [
    "print(pantry)"
   ]
  },
  {
   "cell_type": "markdown",
   "id": "41421a67",
   "metadata": {},
   "source": [
    "**Note that ketchup and salt have now been added to the pantry dictionary.**\n",
    "\n",
    "## Count characters in a string"
   ]
  },
  {
   "cell_type": "code",
   "execution_count": 71,
   "id": "58f6e180",
   "metadata": {},
   "outputs": [
    {
     "name": "stdout",
     "output_type": "stream",
     "text": [
      "a 2\n",
      "c 5\n",
      "e 9\n",
      "h 3\n",
      "i 2\n",
      "l 6\n",
      "n 3\n",
      "o 7\n",
      "r 3\n",
      "s 6\n",
      "t 6\n",
      "u 4\n",
      "w 1\n",
      "y 1\n"
     ]
    }
   ],
   "source": [
    "# We need an empty dictionary to store and display the character frequencies\n",
    "word_count = {}\n",
    " \n",
    "# Text string\n",
    "text = \"Later in the course, you'll see how to use the collections Counter class.\"\n",
    " \n",
    "# Count no of times each char occurs (no punct or whitespace) - use casefold()\n",
    "\n",
    "joined_text = \"\".join(char if char.isalnum() else \"\" for char in text.casefold())\n",
    "\n",
    "for c in joined_text:\n",
    "    if c in word_count:\n",
    "        word_count[c] += 1\n",
    "    else:\n",
    "        word_count[c] = 1\n",
    "        \n",
    "\n",
    "\n",
    "# Print the word-count\n",
    "for letter, count in sorted(word_count.items()):\n",
    "    print(letter, count)\n"
   ]
  },
  {
   "cell_type": "markdown",
   "id": "b5e2a3a7",
   "metadata": {},
   "source": [
    "## `fromkeys` method\n",
    "\n",
    "**If you have a list of values that you want to turn into dictionary keys, but you have no values, this method is extremely handy. By default, it sets the values to `None` but you can change for any other value, e.g. `0`.**"
   ]
  },
  {
   "cell_type": "code",
   "execution_count": 74,
   "id": "978cc023",
   "metadata": {},
   "outputs": [],
   "source": [
    "pantry_items = ['chicken', 'spam', 'egg', 'bread', 'lemon']"
   ]
  },
  {
   "cell_type": "code",
   "execution_count": 77,
   "id": "54698f6a",
   "metadata": {},
   "outputs": [
    {
     "name": "stdout",
     "output_type": "stream",
     "text": [
      "{'chicken': None, 'spam': None, 'egg': None, 'bread': None, 'lemon': None}\n"
     ]
    }
   ],
   "source": [
    "# Create dictionary of keys only\n",
    "\n",
    "pantry_dict = dict.fromkeys(pantry_items)\n",
    "#pantry_dict = dict.fromkeys(pantry_items, 0)\n",
    "\n",
    "print(pantry_dict)"
   ]
  },
  {
   "cell_type": "markdown",
   "id": "2c9f1ff4",
   "metadata": {},
   "source": [
    "## `update` method\n",
    "\n",
    "**Simply put, it updates one dictionary with the contents of another dictionary.**\n",
    "\n",
    "**REMEMBER! Keys are unique so watch for matching keys between dictionaries. If the key matches, the value(s) from the new dictionary overwrites the value(s) from the original dictionary.**"
   ]
  },
  {
   "cell_type": "code",
   "execution_count": 80,
   "id": "da74b914",
   "metadata": {},
   "outputs": [],
   "source": [
    "d = {\n",
    "    0: \"zero\",\n",
    "    1: \"one\",\n",
    "    2: \"two\",\n",
    "    3: \"three\",\n",
    "    4: \"four\",\n",
    "    5: \"five\",\n",
    "    6: \"six\",\n",
    "    7: \"seven\",\n",
    "    8: \"eight\",\n",
    "    9: \"nine\",\n",
    "}\n",
    "\n",
    "\n",
    "# Note that ordering is mixed up\n",
    "\n",
    "d2 = {\n",
    "    7: \"lucky seven\", \n",
    "    10: \"ten\", \n",
    "    3: \"this is the new three\"\n",
    "}"
   ]
  },
  {
   "cell_type": "code",
   "execution_count": 81,
   "id": "47389d4a",
   "metadata": {},
   "outputs": [],
   "source": [
    "d.update(d2)"
   ]
  },
  {
   "cell_type": "code",
   "execution_count": 82,
   "id": "2631c38f",
   "metadata": {},
   "outputs": [
    {
     "name": "stdout",
     "output_type": "stream",
     "text": [
      "0 zero\n",
      "1 one\n",
      "2 two\n",
      "3 this is the new three\n",
      "4 four\n",
      "5 five\n",
      "6 six\n",
      "7 lucky seven\n",
      "8 eight\n",
      "9 nine\n",
      "10 ten\n"
     ]
    }
   ],
   "source": [
    "for key, value in d.items():\n",
    "    print(key, value)"
   ]
  },
  {
   "cell_type": "markdown",
   "id": "780871ff",
   "metadata": {},
   "source": [
    "## `values` method\n",
    "\n",
    "**You can access the values directly with the `values()` method, and is useful when checking whether a specific value exists in a dictionary.**"
   ]
  },
  {
   "cell_type": "code",
   "execution_count": 8,
   "id": "e32d882a",
   "metadata": {},
   "outputs": [],
   "source": [
    "d = {\n",
    "    0: {\n",
    "        0.1: \"zero point one\", \n",
    "        0.2: \"zero point two\", \n",
    "        0.3: \"zero point three\"\n",
    "    },\n",
    "    1: \"one\",\n",
    "    2: \"two\",\n",
    "    3: \"three\",\n",
    "    4: \"four\",\n",
    "    5: \"five\",\n",
    "    6: \"six\",\n",
    "    7: \"seven\",\n",
    "    8: \"eight\",\n",
    "    9: \"nine\",\n",
    "}\n"
   ]
  },
  {
   "cell_type": "code",
   "execution_count": 9,
   "id": "1d5465c1",
   "metadata": {},
   "outputs": [
    {
     "name": "stdout",
     "output_type": "stream",
     "text": [
      "dict_values([{0.1: 'zero point one', 0.2: 'zero point two', 0.3: 'zero point three'}, 'one', 'two', 'three', 'four', 'five', 'six', 'seven', 'eight', 'nine'])\n"
     ]
    }
   ],
   "source": [
    "v = d.values()\n",
    "\n",
    "print(v)"
   ]
  },
  {
   "cell_type": "code",
   "execution_count": 6,
   "id": "28f7cb82",
   "metadata": {},
   "outputs": [
    {
     "name": "stdout",
     "output_type": "stream",
     "text": [
      "True\n"
     ]
    }
   ],
   "source": [
    "print(\"four\" in v)"
   ]
  },
  {
   "cell_type": "code",
   "execution_count": 7,
   "id": "bf465941",
   "metadata": {},
   "outputs": [
    {
     "name": "stdout",
     "output_type": "stream",
     "text": [
      "False\n"
     ]
    }
   ],
   "source": [
    "print(\"ten\" in v)"
   ]
  },
  {
   "cell_type": "markdown",
   "id": "ab243077",
   "metadata": {},
   "source": [
    "## Shallow vs Deep Copy of dictionary\n",
    "\n",
    "**Mutable objects can be changed at any point, which means that the original version is changed every time you mutate it. Making a shallow copy of a dictionary means that you can save the original version.**\n",
    "\n",
    "**A shallow copy copies data by referencing the values to one-level deep. A deep copy copies every instance at every level, i.e. it is exactly the same as the original, whereas a shallow copy stores the contents as if taking a snapshot at a given time.** "
   ]
  },
  {
   "cell_type": "code",
   "execution_count": 10,
   "id": "306f594a",
   "metadata": {},
   "outputs": [],
   "source": [
    "animals = {\n",
    "    \"lion\": \"scary\", \n",
    "    \"elephant\": \"big\", \n",
    "    \"teddy\": \"cuddly\"\n",
    "}"
   ]
  },
  {
   "cell_type": "code",
   "execution_count": 11,
   "id": "3d898b79",
   "metadata": {},
   "outputs": [
    {
     "name": "stdout",
     "output_type": "stream",
     "text": [
      "toy\n",
      "cuddly\n"
     ]
    }
   ],
   "source": [
    "# Make a copy \n",
    "things = animals.copy()\n",
    "\n",
    "# Animals dict has been permanently changed\n",
    "animals[\"teddy\"] = \"toy\"\n",
    "\n",
    "print(animals[\"teddy\"])\n",
    "\n",
    "# Shallow copy is unchanged\n",
    "print(things[\"teddy\"])"
   ]
  },
  {
   "cell_type": "code",
   "execution_count": 12,
   "id": "0a5f6fc4",
   "metadata": {},
   "outputs": [],
   "source": [
    "animals = {\n",
    "    \"lion\": [\"scary\", \"big\", \"cat\"], \n",
    "    \"elephant\": [\"big\", \"grey\", \"wrinkled\"], \n",
    "    \"teddy\": [\"cuddly\", \"stuffed\"]\n",
    "}"
   ]
  },
  {
   "cell_type": "code",
   "execution_count": 13,
   "id": "52a03fb7",
   "metadata": {},
   "outputs": [],
   "source": [
    "animals_copy = animals.copy()"
   ]
  },
  {
   "cell_type": "code",
   "execution_count": 14,
   "id": "656f4867",
   "metadata": {},
   "outputs": [
    {
     "name": "stdout",
     "output_type": "stream",
     "text": [
      "{'lion': ['scary', 'big', 'cat'], 'elephant': ['big', 'grey', 'wrinkled'], 'teddy': ['cuddly', 'stuffed', 'toy']}\n"
     ]
    }
   ],
   "source": [
    "animals_copy[\"teddy\"].append(\"toy\")\n",
    "\n",
    "print(animals_copy[\"teddy\"])"
   ]
  },
  {
   "cell_type": "code",
   "execution_count": 15,
   "id": "46fd94d9",
   "metadata": {},
   "outputs": [
    {
     "name": "stdout",
     "output_type": "stream",
     "text": [
      "{'lion': ['scary', 'big', 'cat'], 'elephant': ['big', 'grey', 'wrinkled'], 'teddy': ['cuddly', 'stuffed', 'toy']}\n"
     ]
    }
   ],
   "source": [
    "print(animals[\"teddy\"])"
   ]
  },
  {
   "cell_type": "markdown",
   "id": "ec2a464b",
   "metadata": {},
   "source": [
    "**WHAT?!? Why has the original version changed also? When dealing with mutable values in a list, in a dictionary, even though the values are associated with a dictionary key, they are stored in memory as a separate list, i.e. `[\"cuddly\", \"stuffed\"]` which the dictionary references. When you append a new item to the list, it changes the list outside of the dictionary, which only references it, and the list is updated in both versions to `[\"cuddly\", \"stuffed\", \"toy\"]`.**\n",
    "\n",
    "**In the case of a dictionary that contains mutable objects, use `deepcopy()` method instead, for which you need to import the `copy` module:**"
   ]
  },
  {
   "cell_type": "code",
   "execution_count": 18,
   "id": "c6079ed5",
   "metadata": {},
   "outputs": [],
   "source": [
    "import copy\n",
    "\n",
    "\n",
    "animals = {\n",
    "    \"lion\": [\"scary\", \"big\", \"cat\"], \n",
    "    \"elephant\": [\"big\", \"grey\", \"wrinkled\"], \n",
    "    \"teddy\": [\"cuddly\", \"stuffed\"]\n",
    "}\n"
   ]
  },
  {
   "cell_type": "code",
   "execution_count": 19,
   "id": "3fb1abc7",
   "metadata": {},
   "outputs": [
    {
     "name": "stdout",
     "output_type": "stream",
     "text": [
      "['cuddly', 'stuffed', 'toy']\n"
     ]
    }
   ],
   "source": [
    "animals_copy = copy.deepcopy(animals)\n",
    "\n",
    "animals_copy[\"teddy\"].append(\"toy\")\n",
    "\n",
    "print(animals_copy[\"teddy\"])"
   ]
  },
  {
   "cell_type": "code",
   "execution_count": 20,
   "id": "24f73fd3",
   "metadata": {},
   "outputs": [
    {
     "name": "stdout",
     "output_type": "stream",
     "text": [
      "['cuddly', 'stuffed']\n"
     ]
    }
   ],
   "source": [
    "print(animals[\"teddy\"])"
   ]
  },
  {
   "cell_type": "code",
   "execution_count": 32,
   "id": "d6190787",
   "metadata": {},
   "outputs": [],
   "source": [
    "# Function that accepts dict and returns deep copy WITHOUT using deepcopy()\n",
    "\n",
    "def deep_copy(d):\n",
    "    dict_copy = {}\n",
    "    \n",
    "    for key, value in d.items():\n",
    "        dict_copy[key] = value.copy()\n",
    "        \n",
    "    return dict_copy"
   ]
  },
  {
   "cell_type": "code",
   "execution_count": 33,
   "id": "d65167f2",
   "metadata": {},
   "outputs": [],
   "source": [
    "animals = {\n",
    "    \"lion\": [\"scary\", \"big\", \"cat\"], \n",
    "    \"elephant\": [\"big\", \"grey\", \"wrinkled\"], \n",
    "    \"teddy\": [\"cuddly\", \"stuffed\"]\n",
    "}"
   ]
  },
  {
   "cell_type": "code",
   "execution_count": 34,
   "id": "bcb4d4e6",
   "metadata": {},
   "outputs": [],
   "source": [
    "d_copy = deep_copy(animals)"
   ]
  },
  {
   "cell_type": "code",
   "execution_count": 35,
   "id": "5d242f7a",
   "metadata": {},
   "outputs": [],
   "source": [
    "d_copy[\"teddy\"][1] = \"soft\""
   ]
  },
  {
   "cell_type": "code",
   "execution_count": 36,
   "id": "7e5a0473",
   "metadata": {},
   "outputs": [
    {
     "name": "stdout",
     "output_type": "stream",
     "text": [
      "['cuddly', 'stuffed']\n"
     ]
    }
   ],
   "source": [
    "print(animals[\"teddy\"])"
   ]
  },
  {
   "cell_type": "code",
   "execution_count": 37,
   "id": "223d39db",
   "metadata": {},
   "outputs": [
    {
     "name": "stdout",
     "output_type": "stream",
     "text": [
      "['cuddly', 'soft']\n"
     ]
    }
   ],
   "source": [
    "print(d_copy[\"teddy\"])"
   ]
  },
  {
   "cell_type": "markdown",
   "id": "2beac19f",
   "metadata": {},
   "source": [
    "**NOTE: This is not a 'real' deep copy because it only copies the top-level values. If there were nested dictionaries, this function would not work because it is not recursive.**"
   ]
  },
  {
   "cell_type": "code",
   "execution_count": null,
   "id": "ab5f1247",
   "metadata": {},
   "outputs": [],
   "source": []
  }
 ],
 "metadata": {
  "kernelspec": {
   "display_name": "Python 3 (ipykernel)",
   "language": "python",
   "name": "python3"
  },
  "language_info": {
   "codemirror_mode": {
    "name": "ipython",
    "version": 3
   },
   "file_extension": ".py",
   "mimetype": "text/x-python",
   "name": "python",
   "nbconvert_exporter": "python",
   "pygments_lexer": "ipython3",
   "version": "3.9.17"
  }
 },
 "nbformat": 4,
 "nbformat_minor": 5
}
