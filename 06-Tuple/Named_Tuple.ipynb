{
 "cells": [
  {
   "cell_type": "markdown",
   "id": "4e7bf441",
   "metadata": {},
   "source": [
    "# Named Tuples\n",
    "\n",
    "**A 'named' tuple is a regular tuple with meaning assigned to each position. To create a named tuple, you must import the `namedtuple()` function from the `collections` library.**\n",
    "\n",
    "    namedtuple(typename, field_names, *, rename=False, defaults=None, module=None)\n",
    "\n"
   ]
  },
  {
   "cell_type": "code",
   "execution_count": 1,
   "id": "89244544",
   "metadata": {},
   "outputs": [],
   "source": [
    "from collections import namedtuple"
   ]
  },
  {
   "cell_type": "code",
   "execution_count": 2,
   "id": "4f0013cd",
   "metadata": {},
   "outputs": [],
   "source": [
    "# Named tuple for plant species (4 fields)\n",
    "\n",
    "Plant = namedtuple('Plant', ['name', 'scientific_name', 'lifecycle', 'plant_type'])"
   ]
  },
  {
   "cell_type": "code",
   "execution_count": 3,
   "id": "41893f07",
   "metadata": {},
   "outputs": [],
   "source": [
    "# Llst of regular tuples\n",
    "\n",
    "basic_plants_list = [\n",
    "    (\"Andromeda\", \"Pieris japonica\", \"Evergreen\", \"Shrub\"),\n",
    "    (\"Bellflower\", \"Campanula\", \"perennial\", \"Flower\"),\n",
    "    (\"China Pink\", \"Dianthus\", \"Perennial\", \"Flower\"),\n",
    "    (\"Daffodil\", \"Narcissus\", \"Perennial\", \"Flower\"),\n",
    "    (\"Evening Primrose\", \"Oenothera\", \"Biennial\", \"Flower\"),\n",
    "    (\"French Marigold\", \"Tagetes patula\", \"Annual\", \"Flower\"),\n",
    "    (\"Golden Hakone Grass\", \"Hakonechloa macra\", \"Perennial\", \"Grass\"),\n",
    "    (\"Hydrangea\", \"Hydrangea\", \"evergreen\", \"Shrub\"),\n",
    "    (\"Iris\", \"Iris\", \"Perennial\", \"Flower\"),\n",
    "    (\"Japanese Camellia\", \"Camellia japonica\", \"Evergreen\", \"Shrub\"),\n",
    "    (\"Lavender\", \"Lavendula\", \"Perennial\", \"Plant/shrub\"),\n",
    "    (\"Lilac\", \"Syringa vulgaris\", \"Deciduous\", \"Shrub\"),\n",
    "    (\"Magnolia\", \"Magnolia\", \"Deciduous, evergreen\", \"Shrub\"),\n",
    "    (\"Peony\", \"Paeonia\", \"Perennial\", \"Shrub\"),\n",
    "    (\"Queen Anne's Lace\", \"Daucus carota\", \"Biennial\", \"Flower\"),\n",
    "    (\"Red Hot Poker\", \"Kniphofia\", \"Perennial\", \"Flower\"),\n",
    "    (\"Snapdragon\", \"Antirrhinum majus\", \"Annual\", \"Flower\"),\n",
    "    (\"Sunflower\", \"Helianthus\", \"Annual\", \"Flower\"),\n",
    "    (\"Tiger Lily\", \"Lilinium tigrinium\", \"Perennial\", \"Flower\"),\n",
    "    (\"Witch Hazel\", \"Hamamelis\", \"Deciduous\", \"Shrubs\"),\n",
    "]"
   ]
  },
  {
   "cell_type": "code",
   "execution_count": 4,
   "id": "5983430f",
   "metadata": {},
   "outputs": [
    {
     "name": "stdout",
     "output_type": "stream",
     "text": [
      "Andromeda\n",
      "Bellflower\n",
      "China Pink\n",
      "Daffodil\n",
      "Evening Primrose\n",
      "French Marigold\n",
      "Golden Hakone Grass\n",
      "Hydrangea\n",
      "Iris\n",
      "Japanese Camellia\n",
      "Lavender\n",
      "Lilac\n",
      "Magnolia\n",
      "Peony\n",
      "Queen Anne's Lace\n",
      "Red Hot Poker\n",
      "Snapdragon\n",
      "Sunflower\n",
      "Tiger Lily\n",
      "Witch Hazel\n"
     ]
    }
   ],
   "source": [
    "# Index by position\n",
    "\n",
    "for plant in basic_plants_list:\n",
    "    print(plant[0])"
   ]
  },
  {
   "cell_type": "code",
   "execution_count": 5,
   "id": "11ac6ce5",
   "metadata": {},
   "outputs": [],
   "source": [
    "# List of named tuples\n",
    "\n",
    "plants_list = [\n",
    "    Plant(\"Andromeda\", \"Pieris japonica\", \"Evergreen\", \"Shrub\"),\n",
    "    Plant(\"Bellflower\", \"Campanula\", \"perennial\", \"Flower\"),\n",
    "    Plant(\"China Pink\", \"Dianthus\", \"Perennial\", \"Flower\"),\n",
    "    Plant(\"Daffodil\", \"Narcissus\", \"Perennial\", \"Flower\"),\n",
    "    Plant(\"Evening Primrose\", \"Oenothera\", \"Biennial\", \"Flower\"),\n",
    "    Plant(\"French Marigold\", \"Tagetes patula\", \"Annual\", \"Flower\"),\n",
    "    Plant(\"Golden Hakone Grass\", \"Hakonechloa macra\", \"Perennial\", \"Grass\"),\n",
    "    Plant(\"Hydrangea\", \"Hydrangea\", \"evergreen\", \"Shrub\"),\n",
    "    Plant(\"Iris\", \"Iris\", \"Perennial\", \"Flower\"),\n",
    "    Plant(\"Japanese Camellia\", \"Camellia japonica\", \"Evergreen\", \"Shrub\"),\n",
    "    Plant(\"Lavender\", \"Lavendula\", \"Perennial\", \"Shrub\"),\n",
    "    Plant(\"Lilac\", \"Syringa vulgaris\", \"Deciduous\", \"Shrub\"),\n",
    "    Plant(\"Magnolia\", \"Magnolia\", \"Deciduous, evergreen\", \"Shrub\"),\n",
    "    Plant(\"Peony\", \"Paeonia\", \"Perennial\", \"Shrub\"),\n",
    "    Plant(\"Queen Anne's Lace\", \"Daucus carota\", \"Biennial\", \"Flower\"),\n",
    "    Plant(\"Red Hot Poker\", \"Kniphofia\", \"Perennial\", \"Flower\"),\n",
    "    Plant(\"Snapdragon\", \"Antirrhinum majus\", \"Annual\", \"Flower\"),\n",
    "    Plant(\"Sunflower\", \"Helianthus\", \"Annual\", \"Flower\"),\n",
    "    Plant(\"Tiger Lily\", \"Lilinium tigrinium\", \"Perennial\", \"Flower\"),\n",
    "    Plant(\"Witch Hazel\", \"Hamamelis\", \"Deciduous\", \"Shrub\"),\n",
    "]"
   ]
  },
  {
   "cell_type": "code",
   "execution_count": 7,
   "id": "ad50b579",
   "metadata": {},
   "outputs": [
    {
     "name": "stdout",
     "output_type": "stream",
     "text": [
      "Andromeda\n",
      "Bellflower\n",
      "China Pink\n",
      "Daffodil\n",
      "Evening Primrose\n",
      "French Marigold\n",
      "Golden Hakone Grass\n",
      "Hydrangea\n",
      "Iris\n",
      "Japanese Camellia\n",
      "Lavender\n",
      "Lilac\n",
      "Magnolia\n",
      "Peony\n",
      "Queen Anne's Lace\n",
      "Red Hot Poker\n",
      "Snapdragon\n",
      "Sunflower\n",
      "Tiger Lily\n",
      "Witch Hazel\n"
     ]
    }
   ],
   "source": [
    "# Index by name\n",
    "\n",
    "for plant in plants_list:\n",
    "    print(plant.name)"
   ]
  },
  {
   "cell_type": "markdown",
   "id": "a5a4b40a",
   "metadata": {},
   "source": [
    "**A named tuple can do everything a regular tuple can do, and more. Even though tuples are immutable, you can replace field values in a named tuple using `_replace()` method.**"
   ]
  },
  {
   "cell_type": "code",
   "execution_count": 8,
   "id": "d01d5a00",
   "metadata": {},
   "outputs": [
    {
     "name": "stdout",
     "output_type": "stream",
     "text": [
      "Plant(name='Andromeda', scientific_name='Pieris japonica', lifecycle='Evergreen', plant_type='Shrub')\n",
      "Plant(name='Andromeda', scientific_name='Pieris japonica', lifecycle='Annual', plant_type='Shrub')\n"
     ]
    }
   ],
   "source": [
    "example = plants_list[0]\n",
    "print(example)\n",
    "\n",
    "example = example._replace(lifecycle='Annual')\n",
    "print(example)"
   ]
  },
  {
   "cell_type": "markdown",
   "id": "248ccacc",
   "metadata": {},
   "source": [
    "**You don't have to store named tuples in a list - they can also be stored in a dictionary. In the case of the plants data, the name of the plant serves nicely as the dictionary key, so the named tuple holds the scientific details only.**"
   ]
  },
  {
   "cell_type": "code",
   "execution_count": 9,
   "id": "af9ebf3c",
   "metadata": {},
   "outputs": [],
   "source": [
    "# Named tuple for scientific details (3 fields - no name)\n",
    "\n",
    "PlantDetails = namedtuple('PlantDetails', ['scientific_name', 'lifecycle', 'plant_type'])"
   ]
  },
  {
   "cell_type": "code",
   "execution_count": 10,
   "id": "0452a36a",
   "metadata": {},
   "outputs": [],
   "source": [
    "plants_dict = {\n",
    "    \"Andromeda\": PlantDetails(\"Pieris japonica\", \"Evergreen\", \"Shrub\"),\n",
    "    \"Bellflower\": PlantDetails(\"Campanula\", \"Annual, biennial, perennial\", \"Flower\"),\n",
    "    \"China Pink\": PlantDetails(\"Dianthus\", \"Perennial\", \"Flower\"),\n",
    "    \"Daffodil\": PlantDetails(\"Narcissus\", \"Perennial\", \"Flower\"),\n",
    "    \"Evening Primrose\": PlantDetails(\"Oenothera\", \"Biennial\", \"Flower\"),\n",
    "    \"French Marigold\": PlantDetails(\"Tagetes patula\", \"Annual\", \"Flower\"),\n",
    "    \"Golden Hakone Grass\": PlantDetails(\"Hakonechloa macra\", \"Perennial\", \"Grass\"),\n",
    "    \"Hydrangea\": PlantDetails(\"Hydrangea\", \"Deciduous, evergreen\", \"Shrub\"),\n",
    "    \"Iris\": PlantDetails(\"Iris\", \"Perennial\", \"Flower\"),\n",
    "    \"Japanese Camellia\": PlantDetails(\"Camellia japonica\", \"Evergreen\", \"Shrub\"),\n",
    "    \"Lavender\": PlantDetails(\"Lavendula\", \"Perennial\", \"Shrub\"),\n",
    "    \"Lilac\": PlantDetails(\"Syringa vulgaris\", \"Deciduous\", \"Shrub\"),\n",
    "    \"Magnolia\": PlantDetails(\"Magnolia\", \"Deciduous, evergreen\", \"Shrub\"),\n",
    "    \"Peony\": PlantDetails(\"Paeonia\", \"Perennial\", \"Shrub\"),\n",
    "    \"Queen Anne's Lace\": PlantDetails(\"Daucus carota\", \"Biennial\", \"Flower\"),\n",
    "    \"Red Hot Poker\": PlantDetails(\"Kniphofia\", \"Perennial\", \"Flower\"),\n",
    "    \"Snapdragon\": PlantDetails(\"Antirrhinum majus\", \"Annual\", \"Flower\"),\n",
    "    \"Sunflower\": PlantDetails(\"Helianthus\", \"Annual\", \"Flower\"),\n",
    "    \"Tiger Lily\": PlantDetails(\"Lilinium tigrinium\", \"Perennial\", \"Flower\"),\n",
    "    \"Witch Hazel\": PlantDetails(\"Hamamelis\", \"Deciduous\", \"Shrub\"),\n",
    "}"
   ]
  },
  {
   "cell_type": "code",
   "execution_count": 18,
   "id": "fa4a9046",
   "metadata": {},
   "outputs": [
    {
     "name": "stdout",
     "output_type": "stream",
     "text": [
      "The Andromeda plant is a Shrub\n",
      "The Andromeda is also known as Pieris japonica\n"
     ]
    }
   ],
   "source": [
    "print(f\"The Andromeda plant is a {plants_dict['Andromeda'].plant_type}\")\n",
    "print(f\"The Andromeda is also known as {plants_dict['Andromeda'].scientific_name}\")"
   ]
  },
  {
   "cell_type": "code",
   "execution_count": null,
   "id": "06ad0376",
   "metadata": {},
   "outputs": [],
   "source": []
  }
 ],
 "metadata": {
  "kernelspec": {
   "display_name": "Python 3 (ipykernel)",
   "language": "python",
   "name": "python3"
  },
  "language_info": {
   "codemirror_mode": {
    "name": "ipython",
    "version": 3
   },
   "file_extension": ".py",
   "mimetype": "text/x-python",
   "name": "python",
   "nbconvert_exporter": "python",
   "pygments_lexer": "ipython3",
   "version": "3.9.17"
  }
 },
 "nbformat": 4,
 "nbformat_minor": 5
}
