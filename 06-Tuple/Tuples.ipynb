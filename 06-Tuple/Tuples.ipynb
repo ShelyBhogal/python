{
 "cells": [
  {
   "cell_type": "markdown",
   "id": "f3c0f2ba",
   "metadata": {},
   "source": [
    "# Tuples\n",
    "\n",
    "**A tuple is an ordered set of data, so it can be indexed and iterated over, but it is immutable. It is another sequence datatype, like strings and lists, so you can apply all Python common sequence operations. It looks like a list, except it is surrounded by normal brackets `()` instead of square brackets.**\n",
    "\n",
    "**By default, Python applies tuple datatype to all sequences if type is not specified.**"
   ]
  },
  {
   "cell_type": "code",
   "execution_count": 24,
   "id": "28fdccdf",
   "metadata": {},
   "outputs": [
    {
     "name": "stdout",
     "output_type": "stream",
     "text": [
      "('a', 'b', 'c')\n"
     ]
    }
   ],
   "source": [
    "t = \"a\", \"b\", \"c\"\n",
    "\n",
    "print(t)"
   ]
  },
  {
   "cell_type": "code",
   "execution_count": 25,
   "id": "17c9e5b7",
   "metadata": {},
   "outputs": [
    {
     "data": {
      "text/plain": [
       "tuple"
      ]
     },
     "execution_count": 25,
     "metadata": {},
     "output_type": "execute_result"
    }
   ],
   "source": [
    "type(t)"
   ]
  },
  {
   "cell_type": "code",
   "execution_count": 2,
   "id": "e5e54d77",
   "metadata": {},
   "outputs": [
    {
     "name": "stdout",
     "output_type": "stream",
     "text": [
      "yes\n"
     ]
    }
   ],
   "source": [
    "if \"a\" in t:\n",
    "    print(\"yes\")\n",
    "else:\n",
    "    print(\"no\")"
   ]
  },
  {
   "cell_type": "code",
   "execution_count": 5,
   "id": "e32891cb",
   "metadata": {},
   "outputs": [
    {
     "name": "stdout",
     "output_type": "stream",
     "text": [
      "('Ride the Lightning', 'Metallica', 1984)\n",
      "Ride the Lightning\n",
      "Metallica\n",
      "1984\n"
     ]
    }
   ],
   "source": [
    "# Album titles, artist and release year\n",
    "\n",
    "welcome = \"Welcome to my Nightmare\", \"Alice Cooper\", 1975\n",
    "bad = \"Bad Company\", \"Bad Company\", 1974\n",
    "budgie = \"Nightflight\", \"Budgie\", 1981\n",
    "imelda = \"More Mayhem\", \"Emilda May\", 2011\n",
    "metallica = \"Ride the Lightning\", \"Metallica\", 1984\n",
    "\n",
    "print(metallica)\n",
    "print(metallica[0])\n",
    "print(metallica[1])\n",
    "print(metallica[2])"
   ]
  },
  {
   "cell_type": "markdown",
   "id": "fcb65ac5",
   "metadata": {},
   "source": [
    "**If you need to edit any of the items in a tuple, you need to convert it to a list, change the item as required, then convert back to a tuple. If you try to alter a tuple element, the code will crash.**"
   ]
  },
  {
   "cell_type": "code",
   "execution_count": 6,
   "id": "375c3c77",
   "metadata": {},
   "outputs": [
    {
     "name": "stdout",
     "output_type": "stream",
     "text": [
      "['More Mayhem', 'Emilda May', 2011]\n"
     ]
    }
   ],
   "source": [
    "# Convert to list\n",
    "\n",
    "imelda_list = list(imelda)\n",
    "\n",
    "print(imelda_list)"
   ]
  },
  {
   "cell_type": "code",
   "execution_count": 7,
   "id": "ca6e4b52",
   "metadata": {},
   "outputs": [
    {
     "name": "stdout",
     "output_type": "stream",
     "text": [
      "['More Mayhem', 'Imelda May', 2011]\n"
     ]
    }
   ],
   "source": [
    "# Edit singer name\n",
    "\n",
    "imelda_list[1] = \"Imelda May\"\n",
    "\n",
    "print(imelda_list)"
   ]
  },
  {
   "cell_type": "code",
   "execution_count": 8,
   "id": "c84f4a78",
   "metadata": {},
   "outputs": [
    {
     "name": "stdout",
     "output_type": "stream",
     "text": [
      "('More Mayhem', 'Imelda May', 2011)\n"
     ]
    }
   ],
   "source": [
    "# Convert back to tuple\n",
    "\n",
    "imelda2 = tuple(imelda_list)\n",
    "\n",
    "print(imelda2)"
   ]
  },
  {
   "cell_type": "markdown",
   "id": "bbe3d8e4",
   "metadata": {},
   "source": [
    "## Unpacking tuples\n",
    "\n",
    "**You can bind several variables to one value, or you can bind several variables to different values. Either way, this is referred to as 'unpacking' a tuple.**\n",
    "\n",
    "**NOTE: You can 'unpack' any sequence datatype.**"
   ]
  },
  {
   "cell_type": "code",
   "execution_count": 9,
   "id": "87cd89f2",
   "metadata": {},
   "outputs": [
    {
     "name": "stdout",
     "output_type": "stream",
     "text": [
      "12\n"
     ]
    }
   ],
   "source": [
    "a = b = c = d = e = f = 12\n",
    "\n",
    "print(c)"
   ]
  },
  {
   "cell_type": "code",
   "execution_count": 10,
   "id": "7345647a",
   "metadata": {},
   "outputs": [
    {
     "name": "stdout",
     "output_type": "stream",
     "text": [
      "6\n"
     ]
    }
   ],
   "source": [
    "# Python automatically assumes the values are a tuple\n",
    "\n",
    "a, b, c, d, e, f = 2, 4, 6, 8, 10, 12\n",
    "\n",
    "print(c)"
   ]
  },
  {
   "cell_type": "code",
   "execution_count": 12,
   "id": "6adf755c",
   "metadata": {},
   "outputs": [
    {
     "name": "stdout",
     "output_type": "stream",
     "text": [
      "0 a\n",
      "1 b\n",
      "2 c\n",
      "3 d\n",
      "4 e\n",
      "5 f\n",
      "6 g\n"
     ]
    }
   ],
   "source": [
    "for t in enumerate(\"abcdefg\"):\n",
    "    index, value = t\n",
    "    print(index, value)"
   ]
  },
  {
   "cell_type": "markdown",
   "id": "5a0bdaa3",
   "metadata": {},
   "source": [
    "**With each loop, the index and value are 'unpacked' from the sequence with `enumerate()` function.**"
   ]
  },
  {
   "cell_type": "code",
   "execution_count": 17,
   "id": "1b75f239",
   "metadata": {},
   "outputs": [
    {
     "name": "stdout",
     "output_type": "stream",
     "text": [
      "ALBUM: Welcome to my Nightmare\n",
      "ARTIST: Alice Cooper\n",
      "YEAR: 1975\n"
     ]
    }
   ],
   "source": [
    "welcome = \"Welcome to my Nightmare\", \"Alice Cooper\", 1975\n",
    "\n",
    "title, artist, year = welcome\n",
    "\n",
    "print(\"ALBUM:\", title)\n",
    "print(\"ARTIST:\", artist)\n",
    "print(\"YEAR:\", year)"
   ]
  },
  {
   "cell_type": "markdown",
   "id": "1c59aaab",
   "metadata": {},
   "source": [
    "## Nested Tuples\n",
    "\n",
    "**When unpacking nested tuples, the variables to which the values will be unpacked should be contained in parentheses.**"
   ]
  },
  {
   "cell_type": "code",
   "execution_count": 1,
   "id": "02b3b7a7",
   "metadata": {},
   "outputs": [],
   "source": [
    "# List of tuples - can add/delete tuples\n",
    "\n",
    "albums = [\n",
    "    (\"Welcome to my Nightmare\", \"Alice Cooper\", 1975), \n",
    "    (\"Bad Company\", \"Bad Company\", 1974), \n",
    "    (\"Nightflight\", \"Budgie\", 1981), \n",
    "    (\"More Mayhem\", \"Imelda May\", 2011), \n",
    "    (\"Ride the Lightning\", \"Metallica\", 1984)\n",
    "]\n"
   ]
  },
  {
   "cell_type": "code",
   "execution_count": 2,
   "id": "da8cf1d0",
   "metadata": {},
   "outputs": [
    {
     "name": "stdout",
     "output_type": "stream",
     "text": [
      "ALBUM: Welcome to my Nightmare, ARTIST: Alice Cooper, YEAR: 1975\n",
      "ALBUM: Bad Company, ARTIST: Bad Company, YEAR: 1974\n",
      "ALBUM: Nightflight, ARTIST: Budgie, YEAR: 1981\n",
      "ALBUM: More Mayhem, ARTIST: Imelda May, YEAR: 2011\n",
      "ALBUM: Ride the Lightning, ARTIST: Metallica, YEAR: 1984\n"
     ]
    }
   ],
   "source": [
    "for (title, artist, year) in albums:\n",
    "    print(\"ALBUM: {}, ARTIST: {}, YEAR: {}\".format(title, artist, year))"
   ]
  },
  {
   "cell_type": "code",
   "execution_count": 3,
   "id": "d14044f1",
   "metadata": {},
   "outputs": [],
   "source": [
    "# Tuple of tuples - cannot add/delete tuples\n",
    "\n",
    "albums = (\n",
    "    (\"Welcome to my Nightmare\", \"Alice Cooper\", 1975), \n",
    "    (\"Bad Company\", \"Bad Company\", 1974), \n",
    "    (\"Nightflight\", \"Budgie\", 1981), \n",
    "    (\"More Mayhem\", \"Imelda May\", 2011), \n",
    "    (\"Ride the Lightning\", \"Metallica\", 1984)\n",
    ")"
   ]
  },
  {
   "cell_type": "code",
   "execution_count": 4,
   "id": "3c327f0f",
   "metadata": {},
   "outputs": [
    {
     "data": {
      "text/plain": [
       "tuple"
      ]
     },
     "execution_count": 4,
     "metadata": {},
     "output_type": "execute_result"
    }
   ],
   "source": [
    "type(albums)"
   ]
  },
  {
   "cell_type": "markdown",
   "id": "b3994e9b",
   "metadata": {},
   "source": [
    "**If you have a tuple of tuples, the data is well protected but you cannot add any songs for an album, hence a list of tuples is best.**"
   ]
  },
  {
   "cell_type": "code",
   "execution_count": 1,
   "id": "73afc9b8",
   "metadata": {},
   "outputs": [],
   "source": [
    "albums = [\n",
    "    (\"Welcome to my Nightmare\", \"Alice Cooper\", 1975, \n",
    "     [\n",
    "         (1, \"Welcome to my Nightmare\"), \n",
    "         (2, \"Devil's Food\"), \n",
    "         (3, \"The Black Widow\"), \n",
    "         (4, \"Some Folks\"), \n",
    "         (5, \"Only Women Bleed\")\n",
    "     ]\n",
    "    ), \n",
    "    (\"Bad Company\", \"Bad Company\", 1974, \n",
    "     [\n",
    "         (1, \"Can't Get Enough\"), \n",
    "         (2, \"Rock Steady\"), \n",
    "         (3, \"Ready for Love\"), \n",
    "         (4, \"Don't Let Me Down\"), \n",
    "         (5, \"Bad Company\"), \n",
    "         (6, \"The Way I Choose\"), \n",
    "         (7, \"Movin' On\"), \n",
    "         (8, \"Seagull\")\n",
    "     ]\n",
    "    ), \n",
    "    (\"Nightflight\", \"Budgie\", 1981, \n",
    "     [\n",
    "         (1, \"I Turned to Stone\"), \n",
    "         (2, \"Keeping a Rendezvous\"), \n",
    "         (3, \"Reaper of the Glory\"), \n",
    "         (4, \"She Used Me Up\")\n",
    "     ]\n",
    "    ), \n",
    "    (\"More Mayhem\", \"Imelda May\", 2011, \n",
    "     [\n",
    "         (1, \"Pulling the Rug\"), \n",
    "         (2, \"Psycho\"), \n",
    "         (3, \"Mayhem\"), \n",
    "         (4, \"Kentish Town Waltz\")\n",
    "     ]\n",
    "    )\n",
    "]"
   ]
  },
  {
   "cell_type": "code",
   "execution_count": 2,
   "id": "502183f3",
   "metadata": {},
   "outputs": [
    {
     "name": "stdout",
     "output_type": "stream",
     "text": [
      "TITLE: Welcome to my Nightmare\n",
      "ARTIST: Alice Cooper\n",
      "YEAR: 1975\n",
      "SONGS: [(1, 'Welcome to my Nightmare'), (2, \"Devil's Food\"), (3, 'The Black Widow'), (4, 'Some Folks'), (5, 'Only Women Bleed')]\n",
      "\n",
      "TITLE: Bad Company\n",
      "ARTIST: Bad Company\n",
      "YEAR: 1974\n",
      "SONGS: [(1, \"Can't Get Enough\"), (2, 'Rock Steady'), (3, 'Ready for Love'), (4, \"Don't Let Me Down\"), (5, 'Bad Company'), (6, 'The Way I Choose'), (7, \"Movin' On\"), (8, 'Seagull')]\n",
      "\n",
      "TITLE: Nightflight\n",
      "ARTIST: Budgie\n",
      "YEAR: 1981\n",
      "SONGS: [(1, 'I Turned to Stone'), (2, 'Keeping a Rendezvous'), (3, 'Reaper of the Glory'), (4, 'She Used Me Up')]\n",
      "\n",
      "TITLE: More Mayhem\n",
      "ARTIST: Imelda May\n",
      "YEAR: 2011\n",
      "SONGS: [(1, 'Pulling the Rug'), (2, 'Psycho'), (3, 'Mayhem'), (4, 'Kentish Town Waltz')]\n",
      "\n"
     ]
    }
   ],
   "source": [
    "for (title, artist, year, songs) in albums:\n",
    "    print(\"TITLE: {}\".format(title))\n",
    "    print(\"ARTIST: {}\".format(artist))\n",
    "    print(\"YEAR: {}\".format(year))\n",
    "    print(\"SONGS: {}\".format(songs))\n",
    "    print()"
   ]
  },
  {
   "cell_type": "markdown",
   "id": "e9521493",
   "metadata": {},
   "source": [
    "**Indexing nested tuples works the same as indexing nested lists, i.e. multiple square brackets.**"
   ]
  },
  {
   "cell_type": "code",
   "execution_count": 3,
   "id": "2a849267",
   "metadata": {},
   "outputs": [
    {
     "data": {
      "text/plain": [
       "'C'"
      ]
     },
     "execution_count": 3,
     "metadata": {},
     "output_type": "execute_result"
    }
   ],
   "source": [
    "# Bad Company --> Songs --> 1, Can't Get Enough --> Can't Get Enough --> C\n",
    "\n",
    "albums[1][3][0][1][0]"
   ]
  },
  {
   "cell_type": "code",
   "execution_count": 4,
   "id": "ee74c0d8",
   "metadata": {},
   "outputs": [
    {
     "data": {
      "text/plain": [
       "'The Way I Choose'"
      ]
     },
     "execution_count": 4,
     "metadata": {},
     "output_type": "execute_result"
    }
   ],
   "source": [
    "# Print song 'The Way I Choose' by Bad Company\n",
    "\n",
    "albums[1][3][5][1]"
   ]
  },
  {
   "cell_type": "code",
   "execution_count": 5,
   "id": "8d68b741",
   "metadata": {},
   "outputs": [
    {
     "data": {
      "text/plain": [
       "1981"
      ]
     },
     "execution_count": 5,
     "metadata": {},
     "output_type": "execute_result"
    }
   ],
   "source": [
    "# Release year for Nightflight\n",
    "\n",
    "albums[2][2]"
   ]
  },
  {
   "cell_type": "code",
   "execution_count": 6,
   "id": "b1b4fd79",
   "metadata": {},
   "outputs": [
    {
     "data": {
      "text/plain": [
       "4"
      ]
     },
     "execution_count": 6,
     "metadata": {},
     "output_type": "execute_result"
    }
   ],
   "source": [
    "# Track number for 'Kentish Town Waltz' (Imelda May)\n",
    "\n",
    "albums[3][3][3][0]"
   ]
  },
  {
   "cell_type": "code",
   "execution_count": 7,
   "id": "14f94703",
   "metadata": {},
   "outputs": [
    {
     "data": {
      "text/plain": [
       "(2, 'Keeping a Rendezvous')"
      ]
     },
     "execution_count": 7,
     "metadata": {},
     "output_type": "execute_result"
    }
   ],
   "source": [
    "# Track and song for 'Keeping a Rendezvous' (Budgie)\n",
    "\n",
    "albums[2][3][1]"
   ]
  },
  {
   "cell_type": "markdown",
   "id": "626e312c",
   "metadata": {},
   "source": [
    "## Jukebox Machine\n",
    "\n",
    "**Using the albums nested structure, create a jukebox program to select an album and a song to play.**"
   ]
  },
  {
   "cell_type": "code",
   "execution_count": 17,
   "id": "4825bc4f",
   "metadata": {},
   "outputs": [
    {
     "name": "stdout",
     "output_type": "stream",
     "text": [
      "Please choose album (invalid choice exits program):\n",
      "1: Welcome to my Nightmare, by Alice Cooper\n",
      "2: Bad Company, by Bad Company\n",
      "3: Nightflight, by Budgie\n",
      "4: More Mayhem, by Imelda May\n",
      "2\n",
      "Please choose song (invalid choice exits program):\n",
      "1: Can't Get Enough\n",
      "2: Rock Steady\n",
      "3: Ready for Love\n",
      "4: Don't Let Me Down\n",
      "5: Bad Company\n",
      "6: The Way I Choose\n",
      "7: Movin' On\n",
      "8: Seagull\n",
      "8\n",
      "Playing 'Seagull'...\n",
      "========================================\n",
      "\n",
      "Please choose album (invalid choice exits program):\n",
      "1: Welcome to my Nightmare, by Alice Cooper\n",
      "2: Bad Company, by Bad Company\n",
      "3: Nightflight, by Budgie\n",
      "4: More Mayhem, by Imelda May\n",
      "0\n"
     ]
    }
   ],
   "source": [
    "while True:\n",
    "    print(\"Please choose album (invalid choice exits program):\")\n",
    "    for index, (title, artist, year, songs) in enumerate(albums):\n",
    "        print(\"{}: {}, by {}\".format(index + 1, title, artist))\n",
    "        \n",
    "    album_choice = int(input())\n",
    "    \n",
    "    if album_choice in range(1, 5):\n",
    "        song_list = albums[album_choice - 1][3]\n",
    "    else:\n",
    "        break\n",
    "        \n",
    "    print(\"Please choose song (invalid choice exits program):\")\n",
    "    for index, (track_num, track_name) in enumerate(song_list):\n",
    "        print(\"{}: {}\".format(index + 1, track_name))\n",
    "        \n",
    "    song_choice = int(input())\n",
    "    \n",
    "    if 1 <= song_choice <= len(song_list):\n",
    "        song = song_list[song_choice - 1][1]\n",
    "    else:\n",
    "        break\n",
    "        \n",
    "    print(\"Playing '{}'...\".format(song))\n",
    "    print(\"=\" * 40)\n",
    "    print()"
   ]
  },
  {
   "cell_type": "markdown",
   "id": "6fb0fea2",
   "metadata": {},
   "source": [
    "**Edit code so that an invalid song choice goes back to the album list again:**"
   ]
  },
  {
   "cell_type": "code",
   "execution_count": 26,
   "id": "0653c5bb",
   "metadata": {},
   "outputs": [
    {
     "name": "stdout",
     "output_type": "stream",
     "text": [
      "Please choose album (invalid choice exits program):\n",
      "1: Welcome to my Nightmare, by Alice Cooper\n",
      "2: Bad Company, by Bad Company\n",
      "3: Nightflight, by Budgie\n",
      "4: More Mayhem, by Imelda May\n",
      "1\n",
      "Please choose song (invalid choice goes back to album list):\n",
      "1: Welcome to my Nightmare\n",
      "2: Devil's Food\n",
      "3: The Black Widow\n",
      "4: Some Folks\n",
      "5: Only Women Bleed\n",
      "2\n",
      "Playing 'Devil's Food'...\n",
      "========================================\n",
      "\n",
      "Please choose album (invalid choice exits program):\n",
      "1: Welcome to my Nightmare, by Alice Cooper\n",
      "2: Bad Company, by Bad Company\n",
      "3: Nightflight, by Budgie\n",
      "4: More Mayhem, by Imelda May\n",
      "4\n",
      "Please choose song (invalid choice goes back to album list):\n",
      "1: Pulling the Rug\n",
      "2: Psycho\n",
      "3: Mayhem\n",
      "4: Kentish Town Waltz\n",
      "5\n",
      "========================================\n",
      "\n",
      "Please choose album (invalid choice exits program):\n",
      "1: Welcome to my Nightmare, by Alice Cooper\n",
      "2: Bad Company, by Bad Company\n",
      "3: Nightflight, by Budgie\n",
      "4: More Mayhem, by Imelda May\n",
      "0\n"
     ]
    }
   ],
   "source": [
    "while True:\n",
    "    print(\"Please choose album (invalid choice exits program):\")\n",
    "    for index, (title, artist, year, songs) in enumerate(albums):\n",
    "        print(\"{}: {}, by {}\".format(index + 1, title, artist))\n",
    "        \n",
    "    album_choice = int(input())\n",
    "    \n",
    "    if album_choice in range(1, 5):\n",
    "        song_list = albums[album_choice - 1][3]\n",
    "    else:\n",
    "        break\n",
    "        \n",
    "    print(\"Please choose song (invalid choice goes back to album list):\")\n",
    "    for index, (track_num, track_name) in enumerate(song_list):\n",
    "        print(\"{}: {}\".format(index + 1, track_name))\n",
    "        \n",
    "    song_choice = int(input())\n",
    "    \n",
    "    if 1 <= song_choice <= len(song_list):\n",
    "        song = song_list[song_choice - 1][1]\n",
    "        print(\"Playing '{}'...\".format(song))\n",
    "        \n",
    "    print(\"=\" * 40)\n",
    "    print()\n"
   ]
  },
  {
   "cell_type": "markdown",
   "id": "48001434",
   "metadata": {},
   "source": [
    "## Computer parts challenge\n",
    "\n",
    "**Edit the code so that price for each computer part is included as tuples in a list. Then calculate the total cost of the shopping list.**"
   ]
  },
  {
   "cell_type": "code",
   "execution_count": 31,
   "id": "c09a723b",
   "metadata": {},
   "outputs": [
    {
     "name": "stdout",
     "output_type": "stream",
     "text": [
      "Choose from options below:\n",
      "1: monitor for £56.95\n",
      "2: keyboard for £35.0\n",
      "3: mouse for £15.99\n",
      "4: mat for £4.5\n",
      "5: screen for £46.7\n",
      "6: hdmi cable for £3.99\n",
      "1\n",
      "Adding 1...\n",
      "2\n",
      "Adding 2...\n",
      "3\n",
      "Adding 3...\n",
      "4\n",
      "Adding 4...\n",
      "5\n",
      "Adding 5...\n",
      "6\n",
      "Adding 6...\n",
      "7\n",
      "Choose from options below:\n",
      "1: monitor for £56.95\n",
      "2: keyboard for £35.0\n",
      "3: mouse for £15.99\n",
      "4: mat for £4.5\n",
      "5: screen for £46.7\n",
      "6: hdmi cable for £3.99\n",
      "0\n",
      "[('monitor', 56.95), ('keyboard', 35.0), ('mouse', 15.99), ('mat', 4.5), ('screen', 46.7), ('hdmi cable', 3.99)]\n",
      "TOTAL:  163.13\n"
     ]
    }
   ],
   "source": [
    "available_parts = [\n",
    "    ('monitor', 56.95), \n",
    "    ('keyboard', 35.00), \n",
    "    ('mouse', 15.99), \n",
    "    ('mat', 4.50), \n",
    "    ('screen', 46.70), \n",
    "    ('hdmi cable', 3.99)\n",
    "]\n",
    "\n",
    "# List of valid input choices\n",
    "valid_choices = []\n",
    "\n",
    "for i in range(1, len(available_parts) + 1):\n",
    "    valid_choices.append(str(i))\n",
    "\n",
    "#print(valid_choices)\n",
    "\n",
    "choice = '-'\n",
    "\n",
    "computer_parts = []\n",
    "\n",
    "# i.e. press 0 to exit\n",
    "while choice != '0':\n",
    "    if choice in valid_choices:\n",
    "        print(\"Adding {}...\".format(choice))\n",
    "        index = int(choice) - 1\n",
    "        chosen_tuple = available_parts[index]\n",
    "        computer_parts.append(chosen_tuple)\n",
    "    else:\n",
    "        print(\"Choose from options below:\")\n",
    "        # Iterate over full list of parts\n",
    "        for index, (part, cost) in enumerate(available_parts):\n",
    "            print(\"{0}: {1} for £{2}\".format(index + 1, part, cost))\n",
    "            \n",
    "    choice = input()\n",
    "    \n",
    "print(computer_parts)\n",
    "\n",
    "total = 0\n",
    "\n",
    "for part, cost in computer_parts:\n",
    "    total += cost\n",
    "    \n",
    "print(\"TOTAL: \", total)"
   ]
  },
  {
   "cell_type": "code",
   "execution_count": null,
   "id": "b0e5a31d",
   "metadata": {},
   "outputs": [],
   "source": []
  }
 ],
 "metadata": {
  "kernelspec": {
   "display_name": "Python 3 (ipykernel)",
   "language": "python",
   "name": "python3"
  },
  "language_info": {
   "codemirror_mode": {
    "name": "ipython",
    "version": 3
   },
   "file_extension": ".py",
   "mimetype": "text/x-python",
   "name": "python",
   "nbconvert_exporter": "python",
   "pygments_lexer": "ipython3",
   "version": "3.9.17"
  }
 },
 "nbformat": 4,
 "nbformat_minor": 5
}
