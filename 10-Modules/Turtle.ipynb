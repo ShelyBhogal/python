{
 "cells": [
  {
   "cell_type": "markdown",
   "id": "48f7ada1",
   "metadata": {},
   "source": [
    "# The `turtle` module\n",
    "\n",
    "**The `turtle` module in Python is based on an educational programming language from the 1960s, that allowed children to control the movements of a turtle on-screen. As the turtle moved, it drew a line behind it, creating a graphic output of connecting lines. The `turtle` module uses an arrow head instead of a turtle, like the mouse drawing lines and circles.**\n"
   ]
  },
  {
   "cell_type": "code",
   "execution_count": 2,
   "id": "2f25fd01",
   "metadata": {},
   "outputs": [],
   "source": [
    "import turtle as t"
   ]
  },
  {
   "cell_type": "code",
   "execution_count": 3,
   "id": "2ea4cd5a",
   "metadata": {},
   "outputs": [],
   "source": [
    "# Move forward 150 points\n",
    "t.forward(150)\n",
    "\n",
    "# Turn cursor right 90 degrees\n",
    "t.right(90)\n",
    "\n",
    "# Move forward 150 points\n",
    "t.forward(150)\n",
    "\n",
    "t.done()"
   ]
  },
  {
   "cell_type": "code",
   "execution_count": 5,
   "id": "e6ac1eca",
   "metadata": {},
   "outputs": [],
   "source": [
    "t.pendown()\n",
    "\n",
    "t.forward(100)\n",
    "t.right(90)\n",
    "t.forward(100)\n",
    "t.right(90)\n",
    "\n",
    "t.done()"
   ]
  },
  {
   "cell_type": "markdown",
   "id": "176499ff",
   "metadata": {},
   "source": [
    "**The `done()` method is necessary so that the program knows that there are no more movement commands to be executed - the program will keep running until you close the graphic, hence giving the user more control. Without it, the code will inevitably crash.**\n",
    "\n",
    "**If the pen is not down when it starts writing, it moves without making a line. Although both blocks produce the same output. In the second block, the final `right()` instruction moves the cursor 90 degrees, but does not make another line. The second block is the official demonstration of drawing a step.**"
   ]
  },
  {
   "cell_type": "code",
   "execution_count": 4,
   "id": "4d773680",
   "metadata": {},
   "outputs": [],
   "source": [
    "# How to draw a heart!\n",
    "\n",
    "t.forward(200)\n",
    "t.left(170)\n",
    "t.circle(75)\n",
    "\n",
    "t.penup()\n",
    "\n",
    "t.left(60)\n",
    "t.forward(250)\n",
    "t.right(300)\n",
    "\n",
    "t.pendown()\n",
    "\n",
    "t.circle(75)\n",
    "t.right(185)\n",
    "t.forward(200)\n",
    "\n",
    "t.done()"
   ]
  },
  {
   "cell_type": "markdown",
   "id": "a6f15178",
   "metadata": {},
   "source": [
    "**To quickly view all available fnctionality in the `turtle` module, place cursor after period and press TAB:**"
   ]
  },
  {
   "cell_type": "code",
   "execution_count": 6,
   "id": "9de3d28f",
   "metadata": {},
   "outputs": [],
   "source": [
    "t."
   ]
  },
  {
   "cell_type": "markdown",
   "id": "ee5ea4a0",
   "metadata": {},
   "source": [
    "**You can do a few more things to make turtle more interesting, like using `for` loops. Note that these programs take a while to run because `turtle` updates the pop-up screen constantly.**"
   ]
  },
  {
   "cell_type": "code",
   "execution_count": 6,
   "id": "ac815a15",
   "metadata": {},
   "outputs": [],
   "source": [
    "# Function to draw square of specified length\n",
    "\n",
    "def turtle_square(length):\n",
    "    for side in range(4):\n",
    "        t.forward(length)\n",
    "        t.right(90)"
   ]
  },
  {
   "cell_type": "code",
   "execution_count": 17,
   "id": "05f0b19f",
   "metadata": {},
   "outputs": [],
   "source": [
    "turtle_square(120)\n",
    "\n",
    "t.done()"
   ]
  },
  {
   "cell_type": "code",
   "execution_count": 19,
   "id": "d66c00b2",
   "metadata": {},
   "outputs": [],
   "source": [
    "for s in range(72):\n",
    "    turtle_square(120)\n",
    "    # After each square is drawn, turn cursor 5 degrees to the left\n",
    "    t.left(5)\n",
    "\n",
    "t.done()"
   ]
  },
  {
   "cell_type": "markdown",
   "id": "84820bea",
   "metadata": {},
   "source": [
    "**Importing the `turtle` module, or any module, allows you to use code that has already been written and tested. You can import as many modules as you need to get the result you want.**"
   ]
  },
  {
   "cell_type": "code",
   "execution_count": 7,
   "id": "59bd1e11",
   "metadata": {},
   "outputs": [],
   "source": [
    "import math"
   ]
  },
  {
   "cell_type": "code",
   "execution_count": 8,
   "id": "3724cc11",
   "metadata": {},
   "outputs": [],
   "source": [
    "def encircled_square(length):\n",
    "    turtle_square(length)\n",
    "    \n",
    "    angle = math.radians(45)\n",
    "    radius = length * math.cos(angle)\n",
    "    \n",
    "    t.right(135)\n",
    "    t.circle(radius)"
   ]
  },
  {
   "cell_type": "code",
   "execution_count": 23,
   "id": "2c822140",
   "metadata": {},
   "outputs": [],
   "source": [
    "encircled_square(300)\n",
    "\n",
    "t.done()"
   ]
  },
  {
   "cell_type": "code",
   "execution_count": 25,
   "id": "8f544ddf",
   "metadata": {},
   "outputs": [],
   "source": [
    "# Speeds up the drawing process\n",
    "t.speed('fast')\n",
    "\n",
    "for s in range(72):\n",
    "    encircled_square(120)\n",
    "    t.left(5)\n",
    "\n",
    "t.done()"
   ]
  },
  {
   "cell_type": "markdown",
   "id": "2ecee293",
   "metadata": {},
   "source": [
    "**You would get a similar but different pattern if you add just one line of code to the function:**"
   ]
  },
  {
   "cell_type": "code",
   "execution_count": 9,
   "id": "a7c3466b",
   "metadata": {},
   "outputs": [],
   "source": [
    "def encircled_square(length):\n",
    "    turtle_square(length)\n",
    "    \n",
    "    angle = math.radians(45)\n",
    "    radius = length * math.cos(angle)\n",
    "    \n",
    "    t.right(135)\n",
    "    t.circle(radius)\n",
    "    # Turn cursor to the left after drawing circle\n",
    "    t.left(135)\n",
    "\n",
    "\n",
    "\n",
    "# Speeds up the drawing process\n",
    "t.speed('fast')\n",
    "\n",
    "for s in range(72):\n",
    "    encircled_square(120)\n",
    "    t.left(5)\n",
    "\n",
    "t.done()"
   ]
  },
  {
   "cell_type": "markdown",
   "id": "2a3099da",
   "metadata": {},
   "source": [
    "**Within the encircled_square function, note that only the functions defined show in the global module namespace - `encircled_square()` and `turtle_square()`. The `math` and turtle `t` module namespaces show in the global namespace, so that Python knows where to look for any functions, but the functions themselves are not part of the global namespace, only the module name.** "
   ]
  },
  {
   "cell_type": "code",
   "execution_count": 10,
   "id": "69e9687f",
   "metadata": {},
   "outputs": [
    {
     "name": "stdout",
     "output_type": "stream",
     "text": [
      "['In', 'Out', '_', '__', '___', '__builtin__', '__builtins__', '__doc__', '__loader__', '__name__', '__package__', '__spec__', '_dh', '_i', '_i1', '_i10', '_i2', '_i3', '_i4', '_i5', '_i6', '_i7', '_i8', '_i9', '_ih', '_ii', '_iii', '_oh', 'encircled_square', 'exit', 'get_ipython', 'math', 'open', 'quit', 't', 'turtle_square']\n"
     ]
    }
   ],
   "source": [
    "print(dir())"
   ]
  },
  {
   "cell_type": "markdown",
   "id": "a71be1df",
   "metadata": {},
   "source": [
    "**NOTE: You can optimize the drawing process slightly, by binding the module function name to a variable before calling it in a `for` loop. However, this is not generally advised.**\n",
    "\n",
    "    def turtle_square(length):\n",
    "        inner_forward = t.forward\n",
    "        inner_right = t.right\n",
    "        \n",
    "        for side in range(4):\n",
    "            inner_forward(length)\n",
    "            inner_right(90)\n",
    "\n",
    "**You can also turn off the constant screen updates while waiting for turtle to draw, which also speeds things up:**\n",
    "\n",
    "    Screen().tracer(0)\n",
    "\n",
    "**The `done()` method will update the screen automatically when the drawing is finished. Saying that, if you need to update the screen before finishing, e.g. `penup()` to draw something else, you need to do it manually:**\n",
    "\n",
    "    Screen().update()"
   ]
  },
  {
   "cell_type": "code",
   "execution_count": null,
   "id": "188e9d44",
   "metadata": {},
   "outputs": [],
   "source": []
  }
 ],
 "metadata": {
  "kernelspec": {
   "display_name": "Python 3 (ipykernel)",
   "language": "python",
   "name": "python3"
  },
  "language_info": {
   "codemirror_mode": {
    "name": "ipython",
    "version": 3
   },
   "file_extension": ".py",
   "mimetype": "text/x-python",
   "name": "python",
   "nbconvert_exporter": "python",
   "pygments_lexer": "ipython3",
   "version": "3.9.17"
  }
 },
 "nbformat": 4,
 "nbformat_minor": 5
}
