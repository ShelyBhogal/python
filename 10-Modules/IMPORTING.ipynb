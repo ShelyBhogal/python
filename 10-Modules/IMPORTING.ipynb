{
 "cells": [
  {
   "cell_type": "markdown",
   "id": "9c7a9ed7",
   "metadata": {},
   "source": [
    "# Importing Third-Party Module\n",
    "\n",
    "**Say you have stored a program in a separate `.py` file and you want to use it in another program. You can easily import it into notebook file with `import` command.**\n",
    "\n",
    "**Using the BlackJack game widget created with TKinter library, you can import the code directly into the notebook and it will be executed automatically, as long as the `.py` file is in the same working folder.**\n",
    "\n",
    "    import BlackJack"
   ]
  },
  {
   "cell_type": "code",
   "execution_count": 1,
   "id": "5686a83b",
   "metadata": {},
   "outputs": [],
   "source": [
    "import BlackJack"
   ]
  },
  {
   "cell_type": "code",
   "execution_count": 3,
   "id": "9af6010a",
   "metadata": {},
   "outputs": [],
   "source": [
    "BlackJack.play()"
   ]
  },
  {
   "cell_type": "code",
   "execution_count": 4,
   "id": "cabe020d",
   "metadata": {},
   "outputs": [
    {
     "name": "stdout",
     "output_type": "stream",
     "text": [
      "['__builtins__', '__cached__', '__doc__', '__file__', '__loader__', '__name__', '__package__', '__spec__', 'button_frame', 'card_frame', 'cards', 'deal_card', 'deal_dealer', 'deal_player', 'dealer_button', 'dealer_card_frame', 'dealer_hand', 'dealer_score_label', 'deck', 'load_images', 'main_window', 'new_button', 'new_game', 'play', 'player_button', 'player_card_frame', 'player_hand', 'player_score_label', 'random', 'result', 'result_text', 'score_hand', 'shuffle', 'shuffle_button', 'tkinter']\n"
     ]
    }
   ],
   "source": [
    "# Print all module properties\n",
    "\n",
    "print(dir(BlackJack))"
   ]
  },
  {
   "cell_type": "code",
   "execution_count": 5,
   "id": "247f4982",
   "metadata": {},
   "outputs": [
    {
     "name": "stdout",
     "output_type": "stream",
     "text": [
      "[(1, <tkinter.PhotoImage object at 0x000002022E01FC70>), (2, <tkinter.PhotoImage object at 0x000002022E01FCD0>), (3, <tkinter.PhotoImage object at 0x000002022E01FD30>), (4, <tkinter.PhotoImage object at 0x000002022E01FD90>), (5, <tkinter.PhotoImage object at 0x000002022E01FDF0>), (6, <tkinter.PhotoImage object at 0x000002022E01FE50>), (7, <tkinter.PhotoImage object at 0x000002022E01FEB0>), (8, <tkinter.PhotoImage object at 0x000002022E01FF10>), (9, <tkinter.PhotoImage object at 0x000002022E01FF70>), (10, <tkinter.PhotoImage object at 0x000002022E01FFD0>), (10, <tkinter.PhotoImage object at 0x000002022E06B0A0>), (10, <tkinter.PhotoImage object at 0x000002022E06B100>), (10, <tkinter.PhotoImage object at 0x000002022E06B160>), (1, <tkinter.PhotoImage object at 0x000002022E06B070>), (2, <tkinter.PhotoImage object at 0x000002022E06B1F0>), (3, <tkinter.PhotoImage object at 0x000002022E06B250>), (4, <tkinter.PhotoImage object at 0x000002022E06B2B0>), (5, <tkinter.PhotoImage object at 0x000002022E06B310>), (6, <tkinter.PhotoImage object at 0x000002022E06B370>), (7, <tkinter.PhotoImage object at 0x000002022E06B3D0>), (8, <tkinter.PhotoImage object at 0x000002022E06B430>), (9, <tkinter.PhotoImage object at 0x000002022E06B490>), (10, <tkinter.PhotoImage object at 0x000002022E06B4F0>), (10, <tkinter.PhotoImage object at 0x000002022E06B580>), (10, <tkinter.PhotoImage object at 0x000002022E06B5E0>), (10, <tkinter.PhotoImage object at 0x000002022E06B640>), (1, <tkinter.PhotoImage object at 0x000002022E06B550>), (2, <tkinter.PhotoImage object at 0x000002022E06B6D0>), (3, <tkinter.PhotoImage object at 0x000002022E06B730>), (4, <tkinter.PhotoImage object at 0x000002022E06B790>), (5, <tkinter.PhotoImage object at 0x000002022E06B7F0>), (6, <tkinter.PhotoImage object at 0x000002022E06B850>), (7, <tkinter.PhotoImage object at 0x000002022E06B8B0>), (8, <tkinter.PhotoImage object at 0x000002022E06B910>), (9, <tkinter.PhotoImage object at 0x000002022E06B970>), (10, <tkinter.PhotoImage object at 0x000002022E06B9D0>), (10, <tkinter.PhotoImage object at 0x000002022E06BA60>), (10, <tkinter.PhotoImage object at 0x000002022E06BAC0>), (10, <tkinter.PhotoImage object at 0x000002022E06BB20>), (1, <tkinter.PhotoImage object at 0x000002022E06BA30>), (2, <tkinter.PhotoImage object at 0x000002022E06BBB0>), (3, <tkinter.PhotoImage object at 0x000002022E06BC10>), (4, <tkinter.PhotoImage object at 0x000002022E06BC70>), (5, <tkinter.PhotoImage object at 0x000002022E06BCD0>), (6, <tkinter.PhotoImage object at 0x000002022E06BD30>), (7, <tkinter.PhotoImage object at 0x000002022E06BD90>), (8, <tkinter.PhotoImage object at 0x000002022E06BDF0>), (9, <tkinter.PhotoImage object at 0x000002022E06BE50>), (10, <tkinter.PhotoImage object at 0x000002022E06BEB0>), (10, <tkinter.PhotoImage object at 0x000002022E06BF40>), (10, <tkinter.PhotoImage object at 0x000002022E06BFA0>), (10, <tkinter.PhotoImage object at 0x000002022E06E040>)]\n"
     ]
    }
   ],
   "source": [
    "# Print attribute cards\n",
    "\n",
    "print(BlackJack.cards)"
   ]
  },
  {
   "cell_type": "markdown",
   "id": "ca6277c9",
   "metadata": {},
   "source": [
    "**Now, the same pack of cards can be used for any other program in this notebook. You can do the same with any of the module attributes, e.g. `BlackJack.deal_card(BlackJack.dealer_card_frame)`. Note that it does not contain all the code for the program, only a part, so only a part of the game is played.**"
   ]
  },
  {
   "cell_type": "code",
   "execution_count": 6,
   "id": "781f6f94",
   "metadata": {},
   "outputs": [],
   "source": [
    "# NOTE: There is duplicated code in the .py file module, which can be contained in its own function (e.g. initial_deal())\n",
    "# to save duplication (see dealer_player()... code)"
   ]
  },
  {
   "cell_type": "markdown",
   "id": "0b9d1ba9",
   "metadata": {},
   "source": [
    "## Impact on namespaces\n",
    "\n",
    "**Is there a difference between importing the module, or importing just the required module functions? You get the same output but there is a difference in how namespaces are affected.**\n",
    "\n",
    "**When you import a module, all the code in the module is executed. That is how importing works, so that any function or variable definitions are created. The module name is added to the current namespace, as the reference to its properties. If you only need a one or two functions, you can import the functions directly, but there is no real difference in performance between the two.**"
   ]
  },
  {
   "cell_type": "code",
   "execution_count": 7,
   "id": "db9ab280",
   "metadata": {},
   "outputs": [
    {
     "name": "stdout",
     "output_type": "stream",
     "text": [
      "['BlackJack', 'In', 'Out', '_', '__', '___', '__builtin__', '__builtins__', '__doc__', '__loader__', '__name__', '__package__', '__spec__', '_dh', '_i', '_i1', '_i2', '_i3', '_i4', '_i5', '_i6', '_i7', '_ih', '_ii', '_iii', '_oh', 'exit', 'get_ipython', 'open', 'quit']\n"
     ]
    }
   ],
   "source": [
    "# All objects in current global namespace\n",
    "\n",
    "print(dir())"
   ]
  },
  {
   "cell_type": "code",
   "execution_count": 8,
   "id": "dbec1591",
   "metadata": {},
   "outputs": [
    {
     "data": {
      "text/plain": [
       "8.0"
      ]
     },
     "execution_count": 8,
     "metadata": {},
     "output_type": "execute_result"
    }
   ],
   "source": [
    "from math import sqrt\n",
    "\n",
    "sqrt(64)"
   ]
  },
  {
   "cell_type": "code",
   "execution_count": 9,
   "id": "a9355cb9",
   "metadata": {},
   "outputs": [
    {
     "name": "stdout",
     "output_type": "stream",
     "text": [
      "['BlackJack', 'In', 'Out', '_', '_8', '__', '___', '__builtin__', '__builtins__', '__doc__', '__loader__', '__name__', '__package__', '__spec__', '_dh', '_i', '_i1', '_i2', '_i3', '_i4', '_i5', '_i6', '_i7', '_i8', '_i9', '_ih', '_ii', '_iii', '_oh', 'exit', 'get_ipython', 'open', 'quit', 'sqrt']\n"
     ]
    }
   ],
   "source": [
    "print(dir())"
   ]
  },
  {
   "cell_type": "markdown",
   "id": "0a47a703",
   "metadata": {},
   "source": [
    "**The current namespace now has the new entry `sqrt` for the maths function to find the square root of a number, but not the entire `math` module.**\n",
    "\n",
    "**The `__builtins__` object holds all the built-in Python objects, like `len()`, `None`, `True`...**\n",
    "\n",
    "**The `__doc__` object holds the docstring for the module, if there is one. Otherwise it is bound to `None`.**\n",
    "\n",
    "**When you run a program, the `__name__` object is set to the string value `'__main__'`. This indicates that all the code in the module has been executed, and the `name` variable is now bound to the name of the module.**\n",
    "\n",
    "**NOTE: All the module properties at the start have leading and trailing double underscores, meaning that they are executed first and should not be messed with.**"
   ]
  },
  {
   "cell_type": "code",
   "execution_count": 12,
   "id": "88ce2735",
   "metadata": {},
   "outputs": [
    {
     "name": "stdout",
     "output_type": "stream",
     "text": [
      "Global Namespace...\n",
      "NAME: __name__ OBJECT: __main__\n",
      "NAME: __doc__ OBJECT: Automatically created module for IPython interactive environment\n",
      "NAME: __package__ OBJECT: None\n",
      "NAME: __loader__ OBJECT: None\n",
      "NAME: __spec__ OBJECT: None\n",
      "NAME: __builtin__ OBJECT: <module 'builtins' (built-in)>\n",
      "NAME: __builtins__ OBJECT: <module 'builtins' (built-in)>\n",
      "NAME: _ih OBJECT: ['', 'import BlackJack', 'print(__name__)', 'BlackJack.play()', '# Print all module attributes\\n\\nprint(dir(BlackJack))', '# Print attribute cards\\n\\nprint(BlackJack.cards)', '# NOTE: There is duplicated code in the .py file module, which can be contained in its own function (e.g. initial_deal())\\n# to save duplication (see dealer_player()... code)', '# All objects in current global namespace\\n\\nprint(dir())', 'from math import sqrt\\n\\nsqrt(64)', 'print(dir())', 'print(\"Global Namespace...\")\\n\\ng = globals().copy()\\n\\nfor name, obj in g.items():\\n    print(name, obj)', 'print(\"Global Namespace...\")\\n\\ng = globals().copy()\\n\\nfor name, obj in g.items():\\n    print(f\"NAME: {name}, OBJECT: {obj}\")', 'print(\"Global Namespace...\")\\n\\ng = globals().copy()\\n\\nfor name, obj in g.items():\\n    print(f\"NAME: {name} OBJECT: {obj}\")']\n",
      "NAME: _oh OBJECT: {8: 8.0}\n",
      "NAME: _dh OBJECT: [WindowsPath('C:/Users/shmel/repositories/python/10-Modules')]\n",
      "NAME: In OBJECT: ['', 'import BlackJack', 'print(__name__)', 'BlackJack.play()', '# Print all module attributes\\n\\nprint(dir(BlackJack))', '# Print attribute cards\\n\\nprint(BlackJack.cards)', '# NOTE: There is duplicated code in the .py file module, which can be contained in its own function (e.g. initial_deal())\\n# to save duplication (see dealer_player()... code)', '# All objects in current global namespace\\n\\nprint(dir())', 'from math import sqrt\\n\\nsqrt(64)', 'print(dir())', 'print(\"Global Namespace...\")\\n\\ng = globals().copy()\\n\\nfor name, obj in g.items():\\n    print(name, obj)', 'print(\"Global Namespace...\")\\n\\ng = globals().copy()\\n\\nfor name, obj in g.items():\\n    print(f\"NAME: {name}, OBJECT: {obj}\")', 'print(\"Global Namespace...\")\\n\\ng = globals().copy()\\n\\nfor name, obj in g.items():\\n    print(f\"NAME: {name} OBJECT: {obj}\")']\n",
      "NAME: Out OBJECT: {8: 8.0}\n",
      "NAME: get_ipython OBJECT: <bound method InteractiveShell.get_ipython of <ipykernel.zmqshell.ZMQInteractiveShell object at 0x000002022DF0FD30>>\n",
      "NAME: exit OBJECT: <IPython.core.autocall.ZMQExitAutocall object at 0x000002022DF45940>\n",
      "NAME: quit OBJECT: <IPython.core.autocall.ZMQExitAutocall object at 0x000002022DF45940>\n",
      "NAME: open OBJECT: <function open at 0x000002022C535F70>\n",
      "NAME: _ OBJECT: 8.0\n",
      "NAME: __ OBJECT: \n",
      "NAME: ___ OBJECT: \n",
      "NAME: _i OBJECT: print(\"Global Namespace...\")\n",
      "\n",
      "g = globals().copy()\n",
      "\n",
      "for name, obj in g.items():\n",
      "    print(f\"NAME: {name}, OBJECT: {obj}\")\n",
      "NAME: _ii OBJECT: print(\"Global Namespace...\")\n",
      "\n",
      "g = globals().copy()\n",
      "\n",
      "for name, obj in g.items():\n",
      "    print(name, obj)\n",
      "NAME: _iii OBJECT: print(dir())\n",
      "NAME: _i1 OBJECT: import BlackJack\n",
      "NAME: BlackJack OBJECT: <module 'BlackJack' from 'C:\\\\Users\\\\shmel\\\\repositories\\\\python\\\\10-Modules\\\\BlackJack.py'>\n",
      "NAME: _i2 OBJECT: print(__name__)\n",
      "NAME: _i3 OBJECT: BlackJack.play()\n",
      "NAME: _i4 OBJECT: # Print all module attributes\n",
      "\n",
      "print(dir(BlackJack))\n",
      "NAME: _i5 OBJECT: # Print attribute cards\n",
      "\n",
      "print(BlackJack.cards)\n",
      "NAME: _i6 OBJECT: # NOTE: There is duplicated code in the .py file module, which can be contained in its own function (e.g. initial_deal())\n",
      "# to save duplication (see dealer_player()... code)\n",
      "NAME: _i7 OBJECT: # All objects in current global namespace\n",
      "\n",
      "print(dir())\n",
      "NAME: _i8 OBJECT: from math import sqrt\n",
      "\n",
      "sqrt(64)\n",
      "NAME: sqrt OBJECT: <built-in function sqrt>\n",
      "NAME: _8 OBJECT: 8.0\n",
      "NAME: _i9 OBJECT: print(dir())\n",
      "NAME: _i10 OBJECT: print(\"Global Namespace...\")\n",
      "\n",
      "g = globals().copy()\n",
      "\n",
      "for name, obj in g.items():\n",
      "    print(name, obj)\n",
      "NAME: g OBJECT: {'__name__': '__main__', '__doc__': 'Automatically created module for IPython interactive environment', '__package__': None, '__loader__': None, '__spec__': None, '__builtin__': <module 'builtins' (built-in)>, '__builtins__': <module 'builtins' (built-in)>, '_ih': ['', 'import BlackJack', 'print(__name__)', 'BlackJack.play()', '# Print all module attributes\\n\\nprint(dir(BlackJack))', '# Print attribute cards\\n\\nprint(BlackJack.cards)', '# NOTE: There is duplicated code in the .py file module, which can be contained in its own function (e.g. initial_deal())\\n# to save duplication (see dealer_player()... code)', '# All objects in current global namespace\\n\\nprint(dir())', 'from math import sqrt\\n\\nsqrt(64)', 'print(dir())', 'print(\"Global Namespace...\")\\n\\ng = globals().copy()\\n\\nfor name, obj in g.items():\\n    print(name, obj)', 'print(\"Global Namespace...\")\\n\\ng = globals().copy()\\n\\nfor name, obj in g.items():\\n    print(f\"NAME: {name}, OBJECT: {obj}\")', 'print(\"Global Namespace...\")\\n\\ng = globals().copy()\\n\\nfor name, obj in g.items():\\n    print(f\"NAME: {name} OBJECT: {obj}\")'], '_oh': {8: 8.0}, '_dh': [WindowsPath('C:/Users/shmel/repositories/python/10-Modules')], 'In': ['', 'import BlackJack', 'print(__name__)', 'BlackJack.play()', '# Print all module attributes\\n\\nprint(dir(BlackJack))', '# Print attribute cards\\n\\nprint(BlackJack.cards)', '# NOTE: There is duplicated code in the .py file module, which can be contained in its own function (e.g. initial_deal())\\n# to save duplication (see dealer_player()... code)', '# All objects in current global namespace\\n\\nprint(dir())', 'from math import sqrt\\n\\nsqrt(64)', 'print(dir())', 'print(\"Global Namespace...\")\\n\\ng = globals().copy()\\n\\nfor name, obj in g.items():\\n    print(name, obj)', 'print(\"Global Namespace...\")\\n\\ng = globals().copy()\\n\\nfor name, obj in g.items():\\n    print(f\"NAME: {name}, OBJECT: {obj}\")', 'print(\"Global Namespace...\")\\n\\ng = globals().copy()\\n\\nfor name, obj in g.items():\\n    print(f\"NAME: {name} OBJECT: {obj}\")'], 'Out': {8: 8.0}, 'get_ipython': <bound method InteractiveShell.get_ipython of <ipykernel.zmqshell.ZMQInteractiveShell object at 0x000002022DF0FD30>>, 'exit': <IPython.core.autocall.ZMQExitAutocall object at 0x000002022DF45940>, 'quit': <IPython.core.autocall.ZMQExitAutocall object at 0x000002022DF45940>, 'open': <function open at 0x000002022C535F70>, '_': 8.0, '__': '', '___': '', '_i': 'print(\"Global Namespace...\")\\n\\ng = globals().copy()\\n\\nfor name, obj in g.items():\\n    print(name, obj)', '_ii': 'print(dir())', '_iii': 'from math import sqrt\\n\\nsqrt(64)', '_i1': 'import BlackJack', 'BlackJack': <module 'BlackJack' from 'C:\\\\Users\\\\shmel\\\\repositories\\\\python\\\\10-Modules\\\\BlackJack.py'>, '_i2': 'print(__name__)', '_i3': 'BlackJack.play()', '_i4': '# Print all module attributes\\n\\nprint(dir(BlackJack))', '_i5': '# Print attribute cards\\n\\nprint(BlackJack.cards)', '_i6': '# NOTE: There is duplicated code in the .py file module, which can be contained in its own function (e.g. initial_deal())\\n# to save duplication (see dealer_player()... code)', '_i7': '# All objects in current global namespace\\n\\nprint(dir())', '_i8': 'from math import sqrt\\n\\nsqrt(64)', 'sqrt': <built-in function sqrt>, '_8': 8.0, '_i9': 'print(dir())', '_i10': 'print(\"Global Namespace...\")\\n\\ng = globals().copy()\\n\\nfor name, obj in g.items():\\n    print(name, obj)', 'g': {'__name__': '__main__', '__doc__': 'Automatically created module for IPython interactive environment', '__package__': None, '__loader__': None, '__spec__': None, '__builtin__': <module 'builtins' (built-in)>, '__builtins__': <module 'builtins' (built-in)>, '_ih': ['', 'import BlackJack', 'print(__name__)', 'BlackJack.play()', '# Print all module attributes\\n\\nprint(dir(BlackJack))', '# Print attribute cards\\n\\nprint(BlackJack.cards)', '# NOTE: There is duplicated code in the .py file module, which can be contained in its own function (e.g. initial_deal())\\n# to save duplication (see dealer_player()... code)', '# All objects in current global namespace\\n\\nprint(dir())', 'from math import sqrt\\n\\nsqrt(64)', 'print(dir())', 'print(\"Global Namespace...\")\\n\\ng = globals().copy()\\n\\nfor name, obj in g.items():\\n    print(name, obj)', 'print(\"Global Namespace...\")\\n\\ng = globals().copy()\\n\\nfor name, obj in g.items():\\n    print(f\"NAME: {name}, OBJECT: {obj}\")', 'print(\"Global Namespace...\")\\n\\ng = globals().copy()\\n\\nfor name, obj in g.items():\\n    print(f\"NAME: {name} OBJECT: {obj}\")'], '_oh': {8: 8.0}, '_dh': [WindowsPath('C:/Users/shmel/repositories/python/10-Modules')], 'In': ['', 'import BlackJack', 'print(__name__)', 'BlackJack.play()', '# Print all module attributes\\n\\nprint(dir(BlackJack))', '# Print attribute cards\\n\\nprint(BlackJack.cards)', '# NOTE: There is duplicated code in the .py file module, which can be contained in its own function (e.g. initial_deal())\\n# to save duplication (see dealer_player()... code)', '# All objects in current global namespace\\n\\nprint(dir())', 'from math import sqrt\\n\\nsqrt(64)', 'print(dir())', 'print(\"Global Namespace...\")\\n\\ng = globals().copy()\\n\\nfor name, obj in g.items():\\n    print(name, obj)', 'print(\"Global Namespace...\")\\n\\ng = globals().copy()\\n\\nfor name, obj in g.items():\\n    print(f\"NAME: {name}, OBJECT: {obj}\")', 'print(\"Global Namespace...\")\\n\\ng = globals().copy()\\n\\nfor name, obj in g.items():\\n    print(f\"NAME: {name} OBJECT: {obj}\")'], 'Out': {8: 8.0}, 'get_ipython': <bound method InteractiveShell.get_ipython of <ipykernel.zmqshell.ZMQInteractiveShell object at 0x000002022DF0FD30>>, 'exit': <IPython.core.autocall.ZMQExitAutocall object at 0x000002022DF45940>, 'quit': <IPython.core.autocall.ZMQExitAutocall object at 0x000002022DF45940>, 'open': <function open at 0x000002022C535F70>, '_': 8.0, '__': '', '___': '', '_i': 'print(dir())', '_ii': 'from math import sqrt\\n\\nsqrt(64)', '_iii': '# All objects in current global namespace\\n\\nprint(dir())', '_i1': 'import BlackJack', 'BlackJack': <module 'BlackJack' from 'C:\\\\Users\\\\shmel\\\\repositories\\\\python\\\\10-Modules\\\\BlackJack.py'>, '_i2': 'print(__name__)', '_i3': 'BlackJack.play()', '_i4': '# Print all module attributes\\n\\nprint(dir(BlackJack))', '_i5': '# Print attribute cards\\n\\nprint(BlackJack.cards)', '_i6': '# NOTE: There is duplicated code in the .py file module, which can be contained in its own function (e.g. initial_deal())\\n# to save duplication (see dealer_player()... code)', '_i7': '# All objects in current global namespace\\n\\nprint(dir())', '_i8': 'from math import sqrt\\n\\nsqrt(64)', 'sqrt': <built-in function sqrt>, '_8': 8.0, '_i9': 'print(dir())', '_i10': 'print(\"Global Namespace...\")\\n\\ng = globals().copy()\\n\\nfor name, obj in g.items():\\n    print(name, obj)'}, 'name': '_i10', 'obj': 'print(\"Global Namespace...\")\\n\\ng = globals().copy()\\n\\nfor name, obj in g.items():\\n    print(name, obj)', '_i11': 'print(\"Global Namespace...\")\\n\\ng = globals().copy()\\n\\nfor name, obj in g.items():\\n    print(f\"NAME: {name}, OBJECT: {obj}\")'}\n",
      "NAME: name OBJECT: _i11\n",
      "NAME: obj OBJECT: print(\"Global Namespace...\")\n",
      "\n",
      "g = globals().copy()\n",
      "\n",
      "for name, obj in g.items():\n",
      "    print(f\"NAME: {name}, OBJECT: {obj}\")\n",
      "NAME: _i11 OBJECT: print(\"Global Namespace...\")\n",
      "\n",
      "g = globals().copy()\n",
      "\n",
      "for name, obj in g.items():\n",
      "    print(f\"NAME: {name}, OBJECT: {obj}\")\n",
      "NAME: _i12 OBJECT: print(\"Global Namespace...\")\n",
      "\n",
      "g = globals().copy()\n",
      "\n",
      "for name, obj in g.items():\n",
      "    print(f\"NAME: {name} OBJECT: {obj}\")\n"
     ]
    }
   ],
   "source": [
    "print(\"Global Namespace...\")\n",
    "\n",
    "# Make a copy because iterating over globals() raises an error\n",
    "g = globals().copy()\n",
    "\n",
    "for name, obj in g.items():\n",
    "    print(f\"NAME: {name} OBJECT: {obj}\")"
   ]
  },
  {
   "cell_type": "markdown",
   "id": "46add590",
   "metadata": {},
   "source": [
    "**Note that the entire BlackJack module is printed out as the object value, as would happen when importing the whole module, and `sqrt` function value is cited as 'builtin function'. There is a slight improvement in performance compared to importing the whole `math` module, since it only executes the specified functions, but not enough to sacrifice code readability.**\n",
    "\n",
    "\n",
    "## `if __name__ == '__main__'`\n",
    "\n",
    "**When you import a module, it executes all the code in the module to create it. However, in order to import the contents of a module into memory without executing the code straight away, you need to add `if __name__ == \"__main__\":` clause. This should always appear inside the module at the end, after any functions, or the main program.**\n",
    "\n",
    "**The executable code, i.e. not the function definitions or global variables, must be referred to within the `if` statement. See BlackJack.py file. Once the module is imported, the functions and variables outside of the `if` clause will be made available for use.**\n",
    "\n",
    "**You cannot use the code without calling a function from the module, so the code to start a BlackJack game (and open the GUI app) must also be contained within that function, i.e. `play()`, to be called at any time. The function should be responsible for actually running the code that starts the game, but not the entire module.**\n",
    "\n",
    "    if __name__ == \"__main__\":\n",
    "        play()\n",
    "\n",
    "**SEE `BlackJack.py` FILE IN FOLDER**"
   ]
  },
  {
   "cell_type": "code",
   "execution_count": 5,
   "id": "ea9491ea",
   "metadata": {},
   "outputs": [
    {
     "name": "stdout",
     "output_type": "stream",
     "text": [
      "In the current namespace, the __name__ object is __main__\n"
     ]
    }
   ],
   "source": [
    "print(f\"In the current namespace, the __name__ object is {__name__}\")"
   ]
  },
  {
   "cell_type": "code",
   "execution_count": null,
   "id": "66e24333",
   "metadata": {},
   "outputs": [],
   "source": []
  }
 ],
 "metadata": {
  "kernelspec": {
   "display_name": "Python 3 (ipykernel)",
   "language": "python",
   "name": "python3"
  },
  "language_info": {
   "codemirror_mode": {
    "name": "ipython",
    "version": 3
   },
   "file_extension": ".py",
   "mimetype": "text/x-python",
   "name": "python",
   "nbconvert_exporter": "python",
   "pygments_lexer": "ipython3",
   "version": "3.9.17"
  }
 },
 "nbformat": 4,
 "nbformat_minor": 5
}
