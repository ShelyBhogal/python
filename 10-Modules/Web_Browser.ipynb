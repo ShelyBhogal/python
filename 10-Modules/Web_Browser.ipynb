{
 "cells": [
  {
   "cell_type": "markdown",
   "id": "87f9e46c",
   "metadata": {},
   "source": [
    "# The `webbrowser` module\n",
    "\n",
    "**One of the simplest modules in Python, the `webbrowser` allows you to launch an installed browser (i.e. default browser Google Chrome) and navigate to a given URL (that is valid, of course). It acts as a high-level interface for displaying web-based documents.**\n",
    "\n",
    "**Python's built-in `help()` function in fact uses `webbrowser` module in its functionality.**"
   ]
  },
  {
   "cell_type": "code",
   "execution_count": 1,
   "id": "e39aaf7b",
   "metadata": {},
   "outputs": [],
   "source": [
    "import webbrowser"
   ]
  },
  {
   "cell_type": "code",
   "execution_count": 2,
   "id": "933a5616",
   "metadata": {},
   "outputs": [
    {
     "data": {
      "text/plain": [
       "True"
      ]
     },
     "execution_count": 2,
     "metadata": {},
     "output_type": "execute_result"
    }
   ],
   "source": [
    "# Navigate to web browser documentation\n",
    "\n",
    "webbrowser.open('https://docs.python.org/3/library/webbrowser.html')"
   ]
  },
  {
   "cell_type": "code",
   "execution_count": 3,
   "id": "08d37ab2",
   "metadata": {},
   "outputs": [
    {
     "name": "stdout",
     "output_type": "stream",
     "text": [
      "Help on module webbrowser:\n",
      "\n",
      "NAME\n",
      "    webbrowser - Interfaces for launching and remotely controlling Web browsers.\n",
      "\n",
      "MODULE REFERENCE\n",
      "    https://docs.python.org/3.9/library/webbrowser\n",
      "    \n",
      "    The following documentation is automatically generated from the Python\n",
      "    source files.  It may be incomplete, incorrect or include features that\n",
      "    are considered implementation detail and may vary between Python\n",
      "    implementations.  When in doubt, consult the module reference at the\n",
      "    location listed above.\n",
      "\n",
      "CLASSES\n",
      "    builtins.Exception(builtins.BaseException)\n",
      "        Error\n",
      "    \n",
      "    class Error(builtins.Exception)\n",
      "     |  Method resolution order:\n",
      "     |      Error\n",
      "     |      builtins.Exception\n",
      "     |      builtins.BaseException\n",
      "     |      builtins.object\n",
      "     |  \n",
      "     |  Data descriptors defined here:\n",
      "     |  \n",
      "     |  __weakref__\n",
      "     |      list of weak references to the object (if defined)\n",
      "     |  \n",
      "     |  ----------------------------------------------------------------------\n",
      "     |  Methods inherited from builtins.Exception:\n",
      "     |  \n",
      "     |  __init__(self, /, *args, **kwargs)\n",
      "     |      Initialize self.  See help(type(self)) for accurate signature.\n",
      "     |  \n",
      "     |  ----------------------------------------------------------------------\n",
      "     |  Static methods inherited from builtins.Exception:\n",
      "     |  \n",
      "     |  __new__(*args, **kwargs) from builtins.type\n",
      "     |      Create and return a new object.  See help(type) for accurate signature.\n",
      "     |  \n",
      "     |  ----------------------------------------------------------------------\n",
      "     |  Methods inherited from builtins.BaseException:\n",
      "     |  \n",
      "     |  __delattr__(self, name, /)\n",
      "     |      Implement delattr(self, name).\n",
      "     |  \n",
      "     |  __getattribute__(self, name, /)\n",
      "     |      Return getattr(self, name).\n",
      "     |  \n",
      "     |  __reduce__(...)\n",
      "     |      Helper for pickle.\n",
      "     |  \n",
      "     |  __repr__(self, /)\n",
      "     |      Return repr(self).\n",
      "     |  \n",
      "     |  __setattr__(self, name, value, /)\n",
      "     |      Implement setattr(self, name, value).\n",
      "     |  \n",
      "     |  __setstate__(...)\n",
      "     |  \n",
      "     |  __str__(self, /)\n",
      "     |      Return str(self).\n",
      "     |  \n",
      "     |  with_traceback(...)\n",
      "     |      Exception.with_traceback(tb) --\n",
      "     |      set self.__traceback__ to tb and return self.\n",
      "     |  \n",
      "     |  ----------------------------------------------------------------------\n",
      "     |  Data descriptors inherited from builtins.BaseException:\n",
      "     |  \n",
      "     |  __cause__\n",
      "     |      exception cause\n",
      "     |  \n",
      "     |  __context__\n",
      "     |      exception context\n",
      "     |  \n",
      "     |  __dict__\n",
      "     |  \n",
      "     |  __suppress_context__\n",
      "     |  \n",
      "     |  __traceback__\n",
      "     |  \n",
      "     |  args\n",
      "\n",
      "FUNCTIONS\n",
      "    get(using=None)\n",
      "        Return a browser launcher instance appropriate for the environment.\n",
      "    \n",
      "    open(url, new=0, autoraise=True)\n",
      "        Display url using the default browser.\n",
      "        \n",
      "        If possible, open url in a location determined by new.\n",
      "        - 0: the same browser window (the default).\n",
      "        - 1: a new browser window.\n",
      "        - 2: a new browser page (\"tab\").\n",
      "        If possible, autoraise raises the window (the default) or not.\n",
      "    \n",
      "    open_new(url)\n",
      "        Open url in a new window of the default browser.\n",
      "        \n",
      "        If not possible, then open url in the only browser window.\n",
      "    \n",
      "    open_new_tab(url)\n",
      "        Open url in a new page (\"tab\") of the default browser.\n",
      "        \n",
      "        If not possible, then the behavior becomes equivalent to open_new().\n",
      "    \n",
      "    register(name, klass, instance=None, *, preferred=False)\n",
      "        Register a browser connector.\n",
      "\n",
      "DATA\n",
      "    __all__ = ['Error', 'open', 'open_new', 'open_new_tab', 'get', 'regist...\n",
      "\n",
      "FILE\n",
      "    c:\\users\\shmel\\anaconda3\\lib\\webbrowser.py\n",
      "\n",
      "\n"
     ]
    }
   ],
   "source": [
    "# Module Docstring\n",
    "\n",
    "help(webbrowser)"
   ]
  },
  {
   "cell_type": "markdown",
   "id": "df5c5d3f",
   "metadata": {},
   "source": [
    "**As you can see, this is a small module, especially when compared to others, so it is OK to import the whole thing.**\n",
    "\n",
    "**The `open_new()` function allows you to open URL in a new window, IF POSSIBLE, rather than a browser already open. I stress 'if possible', because this does not work in Chrome or Firefox. Unless all computers are set up the same, you cannot know for sure what works on what browser.**"
   ]
  },
  {
   "cell_type": "code",
   "execution_count": 4,
   "id": "9ea6f376",
   "metadata": {},
   "outputs": [
    {
     "data": {
      "text/plain": [
       "True"
      ]
     },
     "execution_count": 4,
     "metadata": {},
     "output_type": "execute_result"
    }
   ],
   "source": [
    "webbrowser.open_new('https://www.youtube.com/watch?v=YrsZtryhxjI')"
   ]
  },
  {
   "cell_type": "markdown",
   "id": "1335d7ce",
   "metadata": {},
   "source": [
    "**The `get()` function allows you to use another browser type, different to the default one, e.g. Internet Explorer. However, you need to register the browser type first, even if it is already installed on your computer system, by explicitly specifying the path to the Explorer browser `.exe` file in your Program Files.**\n",
    "\n",
    "    ie_path = 'C:\\\\Program Files (x86)\\\\Internet Explorer\\\\iexplore.exe'\n",
    "    \n",
    "    webbrowser.register('ie', webbrowser.BackgroundBrowser(ie_path), instance=None)\n",
    "\n",
    "    webbrowser.get(using='ie').open('https://www.youtube.com/watch?v=YrsZtryhxjI')"
   ]
  },
  {
   "cell_type": "markdown",
   "id": "390933e3",
   "metadata": {},
   "source": [
    "**NOTE: The online documentation on registering a different web browser is not that good, which is unusual for Python.**"
   ]
  },
  {
   "cell_type": "code",
   "execution_count": 6,
   "id": "3b7bc2dd",
   "metadata": {},
   "outputs": [
    {
     "data": {
      "text/plain": [
       "True"
      ]
     },
     "execution_count": 6,
     "metadata": {},
     "output_type": "execute_result"
    }
   ],
   "source": [
    "# %s will be replaced by URL you want to open in Firefox\n",
    "explorer = webbrowser.get(using='C:/Program Files/Mozilla Firefox/firefox.exe %s')\n",
    "\n",
    "# URL you want to open\n",
    "explorer.open('https://www.youtube.com/watch?v=YrsZtryhxjI')"
   ]
  },
  {
   "cell_type": "markdown",
   "id": "ad920bcb",
   "metadata": {},
   "source": [
    "**For anything other than the default browser settings, make sure to use computer configurations, rather than following the online documentation.**"
   ]
  },
  {
   "cell_type": "code",
   "execution_count": null,
   "id": "8ce8b8cc",
   "metadata": {},
   "outputs": [],
   "source": []
  }
 ],
 "metadata": {
  "kernelspec": {
   "display_name": "Python 3 (ipykernel)",
   "language": "python",
   "name": "python3"
  },
  "language_info": {
   "codemirror_mode": {
    "name": "ipython",
    "version": 3
   },
   "file_extension": ".py",
   "mimetype": "text/x-python",
   "name": "python",
   "nbconvert_exporter": "python",
   "pygments_lexer": "ipython3",
   "version": "3.9.17"
  }
 },
 "nbformat": 4,
 "nbformat_minor": 5
}
