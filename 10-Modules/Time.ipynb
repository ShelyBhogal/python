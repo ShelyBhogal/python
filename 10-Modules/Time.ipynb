{
 "cells": [
  {
   "cell_type": "markdown",
   "id": "549e8b19",
   "metadata": {},
   "source": [
    "# The `time` module\n",
    "\n",
    "**The `time` module deals with the timing of processes, or 'elapsed' time. Because there is a lot of underlying C-programming in this module, time is stored as the number of seconds since a particular start date - 1st January 1970. This is called the 'epoch'.**"
   ]
  },
  {
   "cell_type": "code",
   "execution_count": 1,
   "id": "5620dcf2",
   "metadata": {},
   "outputs": [],
   "source": [
    "import time"
   ]
  },
  {
   "cell_type": "code",
   "execution_count": 2,
   "id": "6e890f71",
   "metadata": {},
   "outputs": [
    {
     "name": "stdout",
     "output_type": "stream",
     "text": [
      "time.struct_time(tm_year=1970, tm_mon=1, tm_mday=1, tm_hour=0, tm_min=0, tm_sec=0, tm_wday=3, tm_yday=1, tm_isdst=0)\n",
      "\n",
      "time.struct_time(tm_year=2024, tm_mon=2, tm_mday=1, tm_hour=4, tm_min=6, tm_sec=20, tm_wday=3, tm_yday=32, tm_isdst=0)\n",
      "\n",
      "Number of seconds since 01-01-1970 00:00 is 1706760380.6670952\n"
     ]
    }
   ],
   "source": [
    "# Prints the start of epoch as GMT time (NOT local time)\n",
    "print(time.gmtime(0))\n",
    "print()\n",
    "\n",
    "# Prints local time\n",
    "print(time.localtime())\n",
    "print()\n",
    "\n",
    "print(\"Number of seconds since 01-01-1970 00:00 is\", time.time())"
   ]
  },
  {
   "cell_type": "markdown",
   "id": "51f46936",
   "metadata": {},
   "source": [
    "**The functions `gmtime()`, `localtime()` and `strptime()` all return tuples of nine integer values that represent the year, month, day, hour etc. These are formally known as `struct_time` objects.**"
   ]
  },
  {
   "cell_type": "code",
   "execution_count": 3,
   "id": "9c445875",
   "metadata": {},
   "outputs": [
    {
     "name": "stdout",
     "output_type": "stream",
     "text": [
      "Year: 2024 2024\n",
      "Month: 2 2\n",
      "Day: 1 1\n",
      "Hour: 4 4\n",
      "Minutes: 6 6\n",
      "Seconds: 23 23\n",
      "Day of Week: 3 3\n",
      "Day of Year: 32 32\n",
      "DST in effect? 0 0\n"
     ]
    }
   ],
   "source": [
    "now = time.localtime()\n",
    "\n",
    "print(\"Year:\", now[0], now.tm_year)\n",
    "print(\"Month:\", now[1], now.tm_mon)\n",
    "print(\"Day:\", now[2], now.tm_mday)\n",
    "print(\"Hour:\", now[3], now.tm_hour)\n",
    "print(\"Minutes:\", now[4], now.tm_min)\n",
    "print(\"Seconds:\", now[5], now.tm_sec)\n",
    "print(\"Day of Week:\", now[6], now.tm_wday)\n",
    "print(\"Day of Year:\", now[7], now.tm_yday)\n",
    "print(\"DST in effect?\", now[8], now.tm_isdst)"
   ]
  },
  {
   "cell_type": "markdown",
   "id": "f060dac5",
   "metadata": {},
   "source": [
    "**As already stated, the `time` module is mostly used to time processes. A simple program testing the users reaction time shows how the time.time() function can be used. By measuring the number of seconds before AND after asking for user reaction, you can simply subtract the before from after time to get the duration.**\n",
    "\n",
    "**The initial wait time at the start is randomly selected, so the goal is to measure how quickly the user reacts once the time delay is over.**"
   ]
  },
  {
   "cell_type": "code",
   "execution_count": 4,
   "id": "01eae2f7",
   "metadata": {},
   "outputs": [
    {
     "name": "stdout",
     "output_type": "stream",
     "text": [
      "Press ENTER to start\n",
      "Press ENTER to stop\n"
     ]
    }
   ],
   "source": [
    "import random\n",
    "\n",
    "input(\"Press ENTER to start\")\n",
    "\n",
    "# Generate random no of seconds for wait time\n",
    "wait_time = random.randint(1, 6)\n",
    "\n",
    "# Suspend time for this random no of seconds\n",
    "time.sleep(wait_time)\n",
    "\n",
    "# Wake up and get current time\n",
    "start_time = time.time()\n",
    "\n",
    "input(\"Press ENTER to stop\")\n",
    "\n",
    "end_time = time.time()"
   ]
  },
  {
   "cell_type": "code",
   "execution_count": 5,
   "id": "ebc7f114",
   "metadata": {},
   "outputs": [
    {
     "name": "stdout",
     "output_type": "stream",
     "text": [
      "Started at 04:06:30\n",
      "Ended at 04:06:30\n",
      "Your reaction time was 0.34464383125305176 seconds\n"
     ]
    }
   ],
   "source": [
    "print(\"Started at\", time.strftime(\"%X\", time.localtime(start_time)))\n",
    "\n",
    "print(\"Ended at\", time.strftime(\"%X\", time.localtime(end_time)))\n",
    "\n",
    "print(f\"Your reaction time was {end_time - start_time} seconds\")"
   ]
  },
  {
   "cell_type": "markdown",
   "id": "01fb24e4",
   "metadata": {},
   "source": [
    "**The `strftime()` function turns the start and end dates into string format 'HH:MM:SS'.**"
   ]
  },
  {
   "cell_type": "code",
   "execution_count": 6,
   "id": "176af36d",
   "metadata": {},
   "outputs": [
    {
     "name": "stdout",
     "output_type": "stream",
     "text": [
      "The time now is 04:14:08\n"
     ]
    }
   ],
   "source": [
    "print(\"The time now is\", time.strftime(\"%X\", time.localtime()))"
   ]
  },
  {
   "cell_type": "markdown",
   "id": "39518217",
   "metadata": {},
   "source": [
    "**An alternative to the `time()` function is the `perf_counter()` function, which also returns the time value since 01/01/1970 but as fractional seconds, i.e. more accurate.** \n",
    "\n",
    "**NOTE: There is very little difference between `perf_counter()` and `monotonic()` function. A monotonic clock is one that cannot go backwards, so is unaffected by clock changes. Most of the functions except for `time()` are monotonic.**"
   ]
  },
  {
   "cell_type": "code",
   "execution_count": 9,
   "id": "d9ccf326",
   "metadata": {},
   "outputs": [
    {
     "name": "stdout",
     "output_type": "stream",
     "text": [
      "Press ENTER to start\n",
      "Press ENTER to stop\n",
      "Started at 00:38:09\n",
      "Ended at 00:38:09\n",
      "Your reaction time was 0.4438435000001846 seconds\n"
     ]
    }
   ],
   "source": [
    "input(\"Press ENTER to start\")\n",
    "\n",
    "# Generate random no of seconds for wait time\n",
    "wait_time = random.randint(1, 6)\n",
    "\n",
    "# Suspend time for this random no of seconds\n",
    "time.sleep(wait_time)\n",
    "\n",
    "# Wake up and get current time\n",
    "start_time = time.perf_counter()\n",
    "\n",
    "input(\"Press ENTER to stop\")\n",
    "\n",
    "end_time = time.perf_counter()\n",
    "\n",
    "print(\"Started at\", time.strftime(\"%X\", time.localtime(start_time)))\n",
    "print(\"Ended at\", time.strftime(\"%X\", time.localtime(end_time)))\n",
    "print(f\"Your reaction time was {end_time - start_time} seconds\")"
   ]
  },
  {
   "cell_type": "markdown",
   "id": "1be5adf4",
   "metadata": {},
   "source": [
    "**The `process_time()` function records the number of seconds it takes the CPU to execute the program.**\n",
    "\n",
    "**NOTE: It will be barely negligible because it only records time spent on CPU, not the program. It is useful for profiling code.**"
   ]
  },
  {
   "cell_type": "code",
   "execution_count": 11,
   "id": "6a1ad638",
   "metadata": {},
   "outputs": [
    {
     "name": "stdout",
     "output_type": "stream",
     "text": [
      "Press ENTER to start\n",
      "Press ENTER to stop\n",
      "Started at 00:00:00\n",
      "Ended at 00:00:00\n",
      "The CPU took 0.0 seconds to execute\n"
     ]
    }
   ],
   "source": [
    "input(\"Press ENTER to start\")\n",
    "\n",
    "# Generate random no of seconds for wait time\n",
    "wait_time = random.randint(1, 6)\n",
    "\n",
    "# Suspend time for this random no of seconds\n",
    "time.sleep(wait_time)\n",
    "\n",
    "# Wake up and get current time\n",
    "start_time = time.process_time()\n",
    "\n",
    "input(\"Press ENTER to stop\")\n",
    "\n",
    "end_time = time.process_time()\n",
    "\n",
    "print(\"Started at\", time.strftime(\"%X\", time.localtime(start_time)))\n",
    "print(\"Ended at\", time.strftime(\"%X\", time.localtime(end_time)))\n",
    "print(f\"The CPU took {end_time - start_time} seconds to execute\")"
   ]
  },
  {
   "cell_type": "markdown",
   "id": "fddde1fd",
   "metadata": {},
   "source": [
    "**Write some print lines to display information on the four clocks for the functions we have just looked at, i.e. `time()`, `perf_counter`, `monotonic()` and `process_time()`:**\n",
    "\n",
    "* **Use the documentation for `get_clock_info()` function to work out how to call it for each of the clocks.**"
   ]
  },
  {
   "cell_type": "code",
   "execution_count": 27,
   "id": "25a8963e",
   "metadata": {},
   "outputs": [
    {
     "name": "stdout",
     "output_type": "stream",
     "text": [
      "time()\t\t namespace(implementation='GetSystemTimeAsFileTime()', monotonic=False, adjustable=True, resolution=0.015625)\n",
      "perf_counter()\t namespace(implementation='QueryPerformanceCounter()', monotonic=True, adjustable=False, resolution=1e-07)\n",
      "monotonic()\t namespace(implementation='GetTickCount64()', monotonic=True, adjustable=False, resolution=0.015625)\n",
      "process_time()\t namespace(implementation='GetProcessTimes()', monotonic=True, adjustable=False, resolution=1e-07)\n"
     ]
    }
   ],
   "source": [
    "print(\"time()\\t\\t\", time.get_clock_info('time'))\n",
    "print(\"perf_counter()\\t\", time.get_clock_info('perf_counter'))\n",
    "print(\"monotonic()\\t\", time.get_clock_info('monotonic'))\n",
    "print(\"process_time()\\t\", time.get_clock_info('process_time'))"
   ]
  },
  {
   "cell_type": "markdown",
   "id": "e8451ddf",
   "metadata": {},
   "source": [
    "**The `get_clock_info()` function also returns the precision of the clock in seconds, specified in the `resolution` attribute.**"
   ]
  },
  {
   "cell_type": "code",
   "execution_count": 29,
   "id": "96f98e1d",
   "metadata": {},
   "outputs": [
    {
     "name": "stdout",
     "output_type": "stream",
     "text": [
      "70\n",
      "Higher!\n",
      "Elapsed time during the whole program in seconds: 4.287705183029175\n",
      "\n",
      "Elapsed time during the whole program in fractional seconds: 4.2868029000001115\n",
      "\n",
      "Elapsed monotonic time during the whole program in seconds: 4.2810000000172295\n",
      "\n",
      "Elapsed time on CPU during the whole program in seconds: 0.0\n"
     ]
    }
   ],
   "source": [
    "# Start the stopwatches\n",
    "t_start = time.time()\n",
    "pf_start = time.perf_counter()\n",
    "m_start = time.monotonic()\n",
    "pt_start = time.process_time()\n",
    " \n",
    "i = random.randint(1, 20)\n",
    "\n",
    "t = int(input()) # User inputs integer\n",
    "\n",
    "if t > i:\n",
    "    print(\"Higher!\")\n",
    "else:\n",
    "    print(\"Lower!\")\n",
    "        \n",
    "# Stop the stopwatches\n",
    "t_stop = time.time()\n",
    "pf_stop = time.perf_counter()\n",
    "m_stop = time.monotonic()\n",
    "pt_stop = time.process_time()\n",
    "\n",
    "print(\"Elapsed time during the whole program in seconds:\", t_stop - t_start)\n",
    "print()\n",
    "print(\"Elapsed time during the whole program in fractional seconds:\", pf_stop - pf_start)\n",
    "print()\n",
    "print(\"Elapsed monotonic time during the whole program in seconds:\", m_stop - m_start)\n",
    "print()\n",
    "print(\"Elapsed time on CPU during the whole program in seconds:\", pt_stop - pt_start)"
   ]
  },
  {
   "cell_type": "markdown",
   "id": "bc838606",
   "metadata": {},
   "source": [
    "## Timezone Constants\n",
    "\n",
    "**You can access local timezone information via `timezone` and `tzname` module constants.**"
   ]
  },
  {
   "cell_type": "code",
   "execution_count": 31,
   "id": "df573c82",
   "metadata": {},
   "outputs": [
    {
     "data": {
      "text/plain": [
       "0"
      ]
     },
     "execution_count": 31,
     "metadata": {},
     "output_type": "execute_result"
    }
   ],
   "source": [
    "# Local non-DST timezone: 0 for UK, negative in Western Europe, positive in US\n",
    "\n",
    "time.timezone"
   ]
  },
  {
   "cell_type": "code",
   "execution_count": 30,
   "id": "f4a45b7f",
   "metadata": {},
   "outputs": [
    {
     "data": {
      "text/plain": [
       "('GMT Standard Time', 'GMT Daylight Time')"
      ]
     },
     "execution_count": 30,
     "metadata": {},
     "output_type": "execute_result"
    }
   ],
   "source": [
    "# Names of local non-DST timezone and local DST timezone \n",
    "\n",
    "time.tzname"
   ]
  },
  {
   "cell_type": "code",
   "execution_count": 33,
   "id": "1f41c2bc",
   "metadata": {},
   "outputs": [
    {
     "name": "stdout",
     "output_type": "stream",
     "text": [
      "The epoch on this system starts at Thu Jan  1 00:00:00 1970\n",
      "The current non-DST timezone is GMT Standard Time with an offset of 0\n"
     ]
    }
   ],
   "source": [
    "print(f\"The epoch on this system starts at {time.strftime('%c', time.gmtime(0))}\")\n",
    "\n",
    "print(f\"The current non-DST timezone is {time.tzname[0]} with an offset of {time.timezone}\")"
   ]
  },
  {
   "cell_type": "code",
   "execution_count": 34,
   "id": "fd59641b",
   "metadata": {},
   "outputs": [
    {
     "name": "stdout",
     "output_type": "stream",
     "text": [
      "Daylight Saving Time is in effect for this location\n",
      "The DST timezone is GMT Daylight Time\n",
      "Local time is  2024-02-01 08:27:41\n",
      "UTC time is  2024-02-01 08:27:41\n"
     ]
    }
   ],
   "source": [
    "if time.daylight != 0:\n",
    "    print(\"Daylight Saving Time is in effect for this location\")\n",
    "    print(f\"The DST timezone is {time.tzname[1]}\")\n",
    "    \n",
    "\n",
    "print(\"Local time is \", time.strftime('%Y-%m-%d %H:%M:%S', time.localtime()))\n",
    "\n",
    "print(\"UTC time is \", time.strftime('%Y-%m-%d %H:%M:%S', time.gmtime()))"
   ]
  },
  {
   "cell_type": "code",
   "execution_count": null,
   "id": "e687aa9d",
   "metadata": {},
   "outputs": [],
   "source": []
  }
 ],
 "metadata": {
  "kernelspec": {
   "display_name": "Python 3 (ipykernel)",
   "language": "python",
   "name": "python3"
  },
  "language_info": {
   "codemirror_mode": {
    "name": "ipython",
    "version": 3
   },
   "file_extension": ".py",
   "mimetype": "text/x-python",
   "name": "python",
   "nbconvert_exporter": "python",
   "pygments_lexer": "ipython3",
   "version": "3.9.17"
  }
 },
 "nbformat": 4,
 "nbformat_minor": 5
}
