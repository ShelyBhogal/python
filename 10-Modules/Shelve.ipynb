{
 "cells": [
  {
   "cell_type": "markdown",
   "id": "5cbd650b",
   "metadata": {},
   "source": [
    "# The `shelve` module\n",
    "\n",
    "**The shelve module handles object persistence.**\n",
    "\n",
    "**Per the Python documentation:**\n",
    "\n",
    "**\"A 'shelf' is a persistent, dictionary-like object. The difference with 'dbm' databases is that the values (not the keys!) in a shelf can essentially be arbitrary Python objects — anything that the `pickle` module can handle. This includes most class instances, recursive datatypes, and objects containing lots of shared sub-objects. The keys are ordinary strings.\"**"
   ]
  },
  {
   "cell_type": "code",
   "execution_count": 1,
   "id": "8359a440",
   "metadata": {},
   "outputs": [],
   "source": [
    "import shelve"
   ]
  },
  {
   "cell_type": "markdown",
   "id": "7637db48",
   "metadata": {},
   "source": [
    "**You can use TAB and SHIFT+TAB to see available documentation and functionality of a module, but you can also nicely print out the names of all classes and functions in a list:**"
   ]
  },
  {
   "cell_type": "code",
   "execution_count": 2,
   "id": "b2e3cdbb",
   "metadata": {},
   "outputs": [
    {
     "name": "stdout",
     "output_type": "stream",
     "text": [
      "['In', 'Out', '_', '__', '___', '__builtin__', '__builtins__', '__doc__', '__loader__', '__name__', '__package__', '__spec__', '_dh', '_i', '_i1', '_i2', '_ih', '_ii', '_iii', '_oh', 'exit', 'get_ipython', 'open', 'quit', 'shelve']\n",
      "\n",
      "['BsdDbShelf', 'BytesIO', 'DbfilenameShelf', 'Pickler', 'Shelf', 'Unpickler', '_ClosedDict', '__all__', '__builtins__', '__cached__', '__doc__', '__file__', '__loader__', '__name__', '__package__', '__spec__', 'collections', 'open']\n"
     ]
    }
   ],
   "source": [
    "# Python functionality - note that shelve module is at the end as it has been imported\n",
    "print(dir())\n",
    "\n",
    "print()\n",
    "\n",
    "# shelve functionality\n",
    "print(dir(shelve))"
   ]
  },
  {
   "cell_type": "code",
   "execution_count": 3,
   "id": "afb2bd52",
   "metadata": {},
   "outputs": [
    {
     "name": "stdout",
     "output_type": "stream",
     "text": [
      "clear\n",
      "close\n",
      "get\n",
      "items\n",
      "keys\n",
      "pop\n",
      "popitem\n",
      "setdefault\n",
      "sync\n",
      "update\n",
      "values\n"
     ]
    }
   ],
   "source": [
    "# What does the Shelf class do?\n",
    "\n",
    "for obj in dir(shelve.Shelf):\n",
    "    if obj[0] != '_':\n",
    "        print(obj)"
   ]
  },
  {
   "cell_type": "markdown",
   "id": "168b55fc",
   "metadata": {},
   "source": [
    "**Above are all methods for use with a `Shelf` object (similar to dictionary). Of course, you can always just use the `help()` function.**"
   ]
  },
  {
   "cell_type": "code",
   "execution_count": 4,
   "id": "31273ef3",
   "metadata": {},
   "outputs": [
    {
     "name": "stdout",
     "output_type": "stream",
     "text": [
      "Help on class Pickler in module _pickle:\n",
      "\n",
      "class Pickler(builtins.object)\n",
      " |  Pickler(file, protocol=None, fix_imports=True, buffer_callback=None)\n",
      " |  \n",
      " |  This takes a binary file for writing a pickle data stream.\n",
      " |  \n",
      " |  The optional *protocol* argument tells the pickler to use the given\n",
      " |  protocol; supported protocols are 0, 1, 2, 3, 4 and 5.  The default\n",
      " |  protocol is 4. It was introduced in Python 3.4, and is incompatible\n",
      " |  with previous versions.\n",
      " |  \n",
      " |  Specifying a negative protocol version selects the highest protocol\n",
      " |  version supported.  The higher the protocol used, the more recent the\n",
      " |  version of Python needed to read the pickle produced.\n",
      " |  \n",
      " |  The *file* argument must have a write() method that accepts a single\n",
      " |  bytes argument. It can thus be a file object opened for binary\n",
      " |  writing, an io.BytesIO instance, or any other custom object that meets\n",
      " |  this interface.\n",
      " |  \n",
      " |  If *fix_imports* is True and protocol is less than 3, pickle will try\n",
      " |  to map the new Python 3 names to the old module names used in Python\n",
      " |  2, so that the pickle data stream is readable with Python 2.\n",
      " |  \n",
      " |  If *buffer_callback* is None (the default), buffer views are\n",
      " |  serialized into *file* as part of the pickle stream.\n",
      " |  \n",
      " |  If *buffer_callback* is not None, then it can be called any number\n",
      " |  of times with a buffer view.  If the callback returns a false value\n",
      " |  (such as None), the given buffer is out-of-band; otherwise the\n",
      " |  buffer is serialized in-band, i.e. inside the pickle stream.\n",
      " |  \n",
      " |  It is an error if *buffer_callback* is not None and *protocol*\n",
      " |  is None or smaller than 5.\n",
      " |  \n",
      " |  Methods defined here:\n",
      " |  \n",
      " |  __init__(self, /, *args, **kwargs)\n",
      " |      Initialize self.  See help(type(self)) for accurate signature.\n",
      " |  \n",
      " |  __sizeof__(self, /)\n",
      " |      Returns size in memory, in bytes.\n",
      " |  \n",
      " |  clear_memo(self, /)\n",
      " |      Clears the pickler's \"memo\".\n",
      " |      \n",
      " |      The memo is the data structure that remembers which objects the\n",
      " |      pickler has already seen, so that shared or recursive objects are\n",
      " |      pickled by reference and not by value.  This method is useful when\n",
      " |      re-using picklers.\n",
      " |  \n",
      " |  dump(self, obj, /)\n",
      " |      Write a pickled representation of the given object to the open file.\n",
      " |  \n",
      " |  ----------------------------------------------------------------------\n",
      " |  Static methods defined here:\n",
      " |  \n",
      " |  __new__(*args, **kwargs) from builtins.type\n",
      " |      Create and return a new object.  See help(type) for accurate signature.\n",
      " |  \n",
      " |  ----------------------------------------------------------------------\n",
      " |  Data descriptors defined here:\n",
      " |  \n",
      " |  bin\n",
      " |  \n",
      " |  dispatch_table\n",
      " |  \n",
      " |  fast\n",
      " |  \n",
      " |  memo\n",
      " |  \n",
      " |  persistent_id\n",
      "\n"
     ]
    }
   ],
   "source": [
    "help(shelve.Pickler)"
   ]
  },
  {
   "cell_type": "code",
   "execution_count": null,
   "id": "ed00052c",
   "metadata": {},
   "outputs": [],
   "source": []
  }
 ],
 "metadata": {
  "kernelspec": {
   "display_name": "Python 3 (ipykernel)",
   "language": "python",
   "name": "python3"
  },
  "language_info": {
   "codemirror_mode": {
    "name": "ipython",
    "version": 3
   },
   "file_extension": ".py",
   "mimetype": "text/x-python",
   "name": "python",
   "nbconvert_exporter": "python",
   "pygments_lexer": "ipython3",
   "version": "3.9.17"
  }
 },
 "nbformat": 4,
 "nbformat_minor": 5
}
