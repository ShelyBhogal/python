{
 "cells": [
  {
   "cell_type": "markdown",
   "id": "ab54a8ae",
   "metadata": {},
   "source": [
    "# Python Namespaces\n",
    "\n",
    "**One of the many things that creates a namespace is creating a module. You can print out the namespace of a module with `dir()` function, which returns all the properties and methods of the specified object. It is only useful for educational purposes.**\n",
    "\n",
    "**Python finds the objects that we bind to variable names, and when looking for those variables, Python first looks in the local namespace, then in the enclosing namespace, then in the global namespace, then finally in the built-ins objects namespace.**\n",
    "\n",
    "            Local, Enclosing, Global, Built-ins - LEGB\n",
    "\n",
    "**NAMESPACE - where names are stored**\n",
    "\n",
    "**SCOPE - where an object can be used. Remember that scopes can be nested.**"
   ]
  },
  {
   "cell_type": "code",
   "execution_count": 1,
   "id": "7a1138d6",
   "metadata": {},
   "outputs": [
    {
     "name": "stdout",
     "output_type": "stream",
     "text": [
      "['In', 'Out', '_', '__', '___', '__builtin__', '__builtins__', '__doc__', '__loader__', '__name__', '__package__', '__spec__', '_dh', '_i', '_i1', '_ih', '_ii', '_iii', '_oh', 'exit', 'get_ipython', 'open', 'quit']\n"
     ]
    }
   ],
   "source": [
    "# Python global namespace\n",
    "\n",
    "print(dir())"
   ]
  },
  {
   "cell_type": "markdown",
   "id": "14557259",
   "metadata": {},
   "source": [
    "**The output is a list (sorted alphabetically) containing all the names that exist in the current namespace. If you imported a module for use, its name will also show up in the list.**\n",
    "\n",
    "**The first names in the list means they get imported into the namespace before anything else. Any objects with leading and trailing double underscores prevent others from accidentally changing any definitions and stopping everything from working. At the end of the list are the functions that can be called directly from the current environment without needing to import anything.**\n",
    "\n",
    "**The `builtins` namespace is part of the Python global namespace and it stores all objects built into Python, e.g. `False`, `None`, `len()`, `str()` etc.**\n",
    "\n",
    "**NOTE: The `__builtin__` object was renamed to `__builtins__`, so Python 3 only uses `__builtins__`, i.e. you can ignore `__builtin__`.**"
   ]
  },
  {
   "cell_type": "code",
   "execution_count": 2,
   "id": "fa1bf0c4",
   "metadata": {},
   "outputs": [
    {
     "name": "stdout",
     "output_type": "stream",
     "text": [
      "['ArithmeticError', 'AssertionError', 'AttributeError', 'BaseException', 'BlockingIOError', 'BrokenPipeError', 'BufferError', 'BytesWarning', 'ChildProcessError', 'ConnectionAbortedError', 'ConnectionError', 'ConnectionRefusedError', 'ConnectionResetError', 'DeprecationWarning', 'EOFError', 'Ellipsis', 'EnvironmentError', 'Exception', 'False', 'FileExistsError', 'FileNotFoundError', 'FloatingPointError', 'FutureWarning', 'GeneratorExit', 'IOError', 'ImportError', 'ImportWarning', 'IndentationError', 'IndexError', 'InterruptedError', 'IsADirectoryError', 'KeyError', 'KeyboardInterrupt', 'LookupError', 'MemoryError', 'ModuleNotFoundError', 'NameError', 'None', 'NotADirectoryError', 'NotImplemented', 'NotImplementedError', 'OSError', 'OverflowError', 'PendingDeprecationWarning', 'PermissionError', 'ProcessLookupError', 'RecursionError', 'ReferenceError', 'ResourceWarning', 'RuntimeError', 'RuntimeWarning', 'StopAsyncIteration', 'StopIteration', 'SyntaxError', 'SyntaxWarning', 'SystemError', 'SystemExit', 'TabError', 'TimeoutError', 'True', 'TypeError', 'UnboundLocalError', 'UnicodeDecodeError', 'UnicodeEncodeError', 'UnicodeError', 'UnicodeTranslateError', 'UnicodeWarning', 'UserWarning', 'ValueError', 'Warning', 'WindowsError', 'ZeroDivisionError', '__IPYTHON__', '__build_class__', '__debug__', '__doc__', '__import__', '__loader__', '__name__', '__package__', '__spec__', 'abs', 'all', 'any', 'ascii', 'bin', 'bool', 'breakpoint', 'bytearray', 'bytes', 'callable', 'chr', 'classmethod', 'compile', 'complex', 'copyright', 'credits', 'delattr', 'dict', 'dir', 'display', 'divmod', 'enumerate', 'eval', 'exec', 'execfile', 'filter', 'float', 'format', 'frozenset', 'get_ipython', 'getattr', 'globals', 'hasattr', 'hash', 'help', 'hex', 'id', 'input', 'int', 'isinstance', 'issubclass', 'iter', 'len', 'license', 'list', 'locals', 'map', 'max', 'memoryview', 'min', 'next', 'object', 'oct', 'open', 'ord', 'pow', 'print', 'property', 'range', 'repr', 'reversed', 'round', 'runfile', 'set', 'setattr', 'slice', 'sorted', 'staticmethod', 'str', 'sum', 'super', 'tuple', 'type', 'vars', 'zip']\n"
     ]
    }
   ],
   "source": [
    "print(dir(__builtins__))"
   ]
  },
  {
   "cell_type": "code",
   "execution_count": 3,
   "id": "fe31f707",
   "metadata": {},
   "outputs": [],
   "source": [
    "import math\n",
    "import pandas as pd"
   ]
  },
  {
   "cell_type": "code",
   "execution_count": 4,
   "id": "09db61bb",
   "metadata": {},
   "outputs": [
    {
     "name": "stdout",
     "output_type": "stream",
     "text": [
      "['In', 'Out', '_', '__', '___', '__builtin__', '__builtins__', '__doc__', '__loader__', '__name__', '__package__', '__spec__', '_dh', '_i', '_i1', '_i2', '_i3', '_i4', '_ih', '_ii', '_iii', '_oh', 'exit', 'get_ipython', 'math', 'open', 'pd', 'quit']\n"
     ]
    }
   ],
   "source": [
    "print(dir())"
   ]
  },
  {
   "cell_type": "markdown",
   "id": "ba19076e",
   "metadata": {},
   "source": [
    "**Only the module name is given in the list, or the alias you have assigned to it. If you want to use any of the objects belonging to the module, you must use the name as a namespace prefix `math.` or `pd.`, then Python knows to check the module for that function or property. Thankfully, you get a `NameError` exception if you don't use the namespace.**\n",
    "\n",
    "**If you want to use the module functions and properties WITHOUT prefixing the namespace, you import the functions directly from the module.** "
   ]
  },
  {
   "cell_type": "code",
   "execution_count": 5,
   "id": "f45577bb",
   "metadata": {},
   "outputs": [
    {
     "name": "stdout",
     "output_type": "stream",
     "text": [
      "Circle radius is 84.8528137423857\n"
     ]
    }
   ],
   "source": [
    "# Finding the radius of a circle from square inside it\n",
    "\n",
    "sq_length = 120\n",
    "\n",
    "angle = math.radians(45)\n",
    "\n",
    "radius = sq_length * math.cos(angle)\n",
    "\n",
    "print(f\"Circle radius is {radius}\")"
   ]
  },
  {
   "cell_type": "code",
   "execution_count": 6,
   "id": "fbbfb4ee",
   "metadata": {},
   "outputs": [
    {
     "name": "stdout",
     "output_type": "stream",
     "text": [
      "Circle radius is 84.8528137423857\n"
     ]
    }
   ],
   "source": [
    "# Import functions directly\n",
    "\n",
    "from math import radians, cos\n",
    "\n",
    "sq_length = 120\n",
    "\n",
    "angle = radians(45)\n",
    "\n",
    "radius = sq_length * cos(angle)\n",
    "\n",
    "print(f\"Circle radius is {radius}\")"
   ]
  },
  {
   "cell_type": "markdown",
   "id": "973386ec",
   "metadata": {},
   "source": [
    "**Now that you have imported the functions this way, they are now part of the importing module's namespace. Also note that all the global variables are now listed (`angle`, `radius` ...).**"
   ]
  },
  {
   "cell_type": "code",
   "execution_count": 7,
   "id": "9bb2cc6e",
   "metadata": {},
   "outputs": [
    {
     "name": "stdout",
     "output_type": "stream",
     "text": [
      "['In', 'Out', '_', '__', '___', '__builtin__', '__builtins__', '__doc__', '__loader__', '__name__', '__package__', '__spec__', '_dh', '_i', '_i1', '_i2', '_i3', '_i4', '_i5', '_i6', '_i7', '_ih', '_ii', '_iii', '_oh', 'angle', 'cos', 'exit', 'get_ipython', 'math', 'open', 'pd', 'quit', 'radians', 'radius', 'sq_length']\n"
     ]
    }
   ],
   "source": [
    "print(dir())"
   ]
  },
  {
   "cell_type": "markdown",
   "id": "8bb5049b",
   "metadata": {},
   "source": [
    "**You can also use `locals()` and `globals()` to check the current local and global namespace respectively. These functions, however, do not accept any arguments. They work best when debugging functions or to access local or global objects. In this case, the objects are the same.**"
   ]
  },
  {
   "cell_type": "code",
   "execution_count": 8,
   "id": "8914cecd",
   "metadata": {},
   "outputs": [
    {
     "name": "stdout",
     "output_type": "stream",
     "text": [
      "{'__name__': '__main__', '__doc__': 'Automatically created module for IPython interactive environment', '__package__': None, '__loader__': None, '__spec__': None, '__builtin__': <module 'builtins' (built-in)>, '__builtins__': <module 'builtins' (built-in)>, '_ih': ['', '# Python global namespace\\n\\nprint(dir())', 'print(dir(__builtins__))', 'import math\\nimport pandas as pd', 'print(dir())', '# Finding the radius of a circle from square inside it\\n\\nsq_length = 120\\n\\nangle = math.radians(45)\\n\\nradius = sq_length * math.cos(angle)\\n\\nprint(f\"Circle radius is {radius}\")', '# Import functions directly\\n\\nfrom math import radians, cos\\n\\nsq_length = 120\\n\\nangle = radians(45)\\n\\nradius = sq_length * cos(angle)\\n\\nprint(f\"Circle radius is {radius}\")', 'print(dir())', 'print(locals())'], '_oh': {}, '_dh': [WindowsPath('C:/Users/shmel/repositories/python/10-Modules')], 'In': ['', '# Python global namespace\\n\\nprint(dir())', 'print(dir(__builtins__))', 'import math\\nimport pandas as pd', 'print(dir())', '# Finding the radius of a circle from square inside it\\n\\nsq_length = 120\\n\\nangle = math.radians(45)\\n\\nradius = sq_length * math.cos(angle)\\n\\nprint(f\"Circle radius is {radius}\")', '# Import functions directly\\n\\nfrom math import radians, cos\\n\\nsq_length = 120\\n\\nangle = radians(45)\\n\\nradius = sq_length * cos(angle)\\n\\nprint(f\"Circle radius is {radius}\")', 'print(dir())', 'print(locals())'], 'Out': {}, 'get_ipython': <bound method InteractiveShell.get_ipython of <ipykernel.zmqshell.ZMQInteractiveShell object at 0x00000199466FFD60>>, 'exit': <IPython.core.autocall.ZMQExitAutocall object at 0x0000019946735970>, 'quit': <IPython.core.autocall.ZMQExitAutocall object at 0x0000019946735970>, 'open': <function open at 0x0000019944D25F70>, '_': '', '__': '', '___': '', '_i': 'print(dir())', '_ii': '# Import functions directly\\n\\nfrom math import radians, cos\\n\\nsq_length = 120\\n\\nangle = radians(45)\\n\\nradius = sq_length * cos(angle)\\n\\nprint(f\"Circle radius is {radius}\")', '_iii': '# Finding the radius of a circle from square inside it\\n\\nsq_length = 120\\n\\nangle = math.radians(45)\\n\\nradius = sq_length * math.cos(angle)\\n\\nprint(f\"Circle radius is {radius}\")', '_i1': '# Python global namespace\\n\\nprint(dir())', '_i2': 'print(dir(__builtins__))', '_i3': 'import math\\nimport pandas as pd', 'math': <module 'math' (built-in)>, 'pd': <module 'pandas' from 'C:\\\\Users\\\\shmel\\\\Anaconda3\\\\lib\\\\site-packages\\\\pandas\\\\__init__.py'>, '_i4': 'print(dir())', '_i5': '# Finding the radius of a circle from square inside it\\n\\nsq_length = 120\\n\\nangle = math.radians(45)\\n\\nradius = sq_length * math.cos(angle)\\n\\nprint(f\"Circle radius is {radius}\")', 'sq_length': 120, 'angle': 0.7853981633974483, 'radius': 84.8528137423857, '_i6': '# Import functions directly\\n\\nfrom math import radians, cos\\n\\nsq_length = 120\\n\\nangle = radians(45)\\n\\nradius = sq_length * cos(angle)\\n\\nprint(f\"Circle radius is {radius}\")', 'radians': <built-in function radians>, 'cos': <built-in function cos>, '_i7': 'print(dir())', '_i8': 'print(locals())'}\n"
     ]
    }
   ],
   "source": [
    "print(locals())"
   ]
  },
  {
   "cell_type": "code",
   "execution_count": 9,
   "id": "5350f0dc",
   "metadata": {},
   "outputs": [
    {
     "name": "stdout",
     "output_type": "stream",
     "text": [
      "dict_keys(['__name__', '__doc__', '__package__', '__loader__', '__spec__', '__builtin__', '__builtins__', '_ih', '_oh', '_dh', 'In', 'Out', 'get_ipython', 'exit', 'quit', 'open', '_', '__', '___', '_i', '_ii', '_iii', '_i1', '_i2', '_i3', 'math', 'pd', '_i4', '_i5', 'sq_length', 'angle', 'radius', '_i6', 'radians', 'cos', '_i7', '_i8', '_i9'])\n"
     ]
    }
   ],
   "source": [
    "print(globals().keys())"
   ]
  },
  {
   "cell_type": "code",
   "execution_count": 10,
   "id": "a28c00f8",
   "metadata": {},
   "outputs": [
    {
     "name": "stdout",
     "output_type": "stream",
     "text": [
      "dict_keys(['__name__', '__doc__', '__package__', '__loader__', '__spec__', '__builtin__', '__builtins__', '_ih', '_oh', '_dh', 'In', 'Out', 'get_ipython', 'exit', 'quit', 'open', '_', '__', '___', '_i', '_ii', '_iii', '_i1', '_i2', '_i3', 'math', 'pd', '_i4', '_i5', 'sq_length', 'angle', 'radius', '_i6', 'radians', 'cos', '_i7', '_i8', '_i9', '_i10'])\n"
     ]
    }
   ],
   "source": [
    "print(locals().keys())"
   ]
  },
  {
   "cell_type": "code",
   "execution_count": 11,
   "id": "6e925241",
   "metadata": {},
   "outputs": [
    {
     "name": "stdout",
     "output_type": "stream",
     "text": [
      "120\n"
     ]
    }
   ],
   "source": [
    "g = globals()\n",
    "\n",
    "print(g['sq_length'])"
   ]
  },
  {
   "cell_type": "markdown",
   "id": "c27bec24",
   "metadata": {},
   "source": [
    "**The `locals()` and `globals()` mapping is given in dictionary format, so you can check the value of an object within the local or global scope. The `dir()` function, on the other hand, does not give you the current value of an object, only the object names.**"
   ]
  },
  {
   "cell_type": "code",
   "execution_count": null,
   "id": "8a7780f8",
   "metadata": {},
   "outputs": [],
   "source": []
  }
 ],
 "metadata": {
  "kernelspec": {
   "display_name": "Python 3 (ipykernel)",
   "language": "python",
   "name": "python3"
  },
  "language_info": {
   "codemirror_mode": {
    "name": "ipython",
    "version": 3
   },
   "file_extension": ".py",
   "mimetype": "text/x-python",
   "name": "python",
   "nbconvert_exporter": "python",
   "pygments_lexer": "ipython3",
   "version": "3.9.17"
  }
 },
 "nbformat": 4,
 "nbformat_minor": 5
}
