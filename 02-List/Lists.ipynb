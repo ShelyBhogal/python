{
 "cells": [
  {
   "cell_type": "markdown",
   "id": "833d15c1",
   "metadata": {},
   "source": [
    "# Lists\n",
    "\n",
    "**Python list is a sequence datatype, i.e. an ordered set of values in square brackets. Since items are ordered, lists can be indexed and sliced, like strings. However, unlike strings, lists are *mutable*, meaning the contents can be changed at any time.** \n",
    "\n",
    "**Lists are also *iterables*, which means you can iterate over a list with `for` and `while` loops.**\n",
    "\n",
    "**REMEMBER: Indexing starts from 0.**\n",
    "\n",
    "**There are in fact twelve different ways to create a list in Python (literally, appending, concatenation, inserting, indexing, slicing etc.)! But not all are readable, or viable in certain situations.**"
   ]
  },
  {
   "cell_type": "code",
   "execution_count": 1,
   "id": "49a1e1f8",
   "metadata": {},
   "outputs": [
    {
     "data": {
      "text/plain": [
       "['9', '1', '0', '2', '4', '7', '3', '6', '5', '8']"
      ]
     },
     "execution_count": 1,
     "metadata": {},
     "output_type": "execute_result"
    }
   ],
   "source": [
    "list(\"9102473658\")"
   ]
  },
  {
   "cell_type": "code",
   "execution_count": 2,
   "id": "18490936",
   "metadata": {},
   "outputs": [],
   "source": [
    "# Empty list\n",
    "\n",
    "computer_parts = []"
   ]
  },
  {
   "cell_type": "code",
   "execution_count": 3,
   "id": "dbf4c725",
   "metadata": {},
   "outputs": [
    {
     "name": "stdout",
     "output_type": "stream",
     "text": [
      "monitor\n",
      "keyboard\n",
      "mouse\n",
      "mat\n",
      "screen\n"
     ]
    }
   ],
   "source": [
    "# Iterating over a list\n",
    "\n",
    "computer_parts = ['monitor', 'keyboard', 'mouse', 'mat', 'screen']\n",
    "\n",
    "for part in computer_parts:\n",
    "    print(part)"
   ]
  },
  {
   "cell_type": "code",
   "execution_count": 25,
   "id": "1fcfff37",
   "metadata": {},
   "outputs": [
    {
     "data": {
      "text/plain": [
       "list"
      ]
     },
     "execution_count": 25,
     "metadata": {},
     "output_type": "execute_result"
    }
   ],
   "source": [
    "type(computer_parts)"
   ]
  },
  {
   "cell_type": "code",
   "execution_count": 4,
   "id": "880a9ad2",
   "metadata": {},
   "outputs": [
    {
     "name": "stdout",
     "output_type": "stream",
     "text": [
      "I need to buy a computer screen\n"
     ]
    }
   ],
   "source": [
    "# Indexing a list\n",
    "\n",
    "print(\"I need to buy a computer\", computer_parts[4])"
   ]
  },
  {
   "cell_type": "code",
   "execution_count": 5,
   "id": "c69a830b",
   "metadata": {},
   "outputs": [
    {
     "data": {
      "text/plain": [
       "'screen'"
      ]
     },
     "execution_count": 5,
     "metadata": {},
     "output_type": "execute_result"
    }
   ],
   "source": [
    "computer_parts[-1]"
   ]
  },
  {
   "cell_type": "code",
   "execution_count": 6,
   "id": "d757a78c",
   "metadata": {},
   "outputs": [
    {
     "data": {
      "text/plain": [
       "['screen', 'mat', 'mouse']"
      ]
     },
     "execution_count": 6,
     "metadata": {},
     "output_type": "execute_result"
    }
   ],
   "source": [
    "# Negative slicing\n",
    "\n",
    "computer_parts[-1:-4:-1]"
   ]
  },
  {
   "cell_type": "markdown",
   "id": "e904d615",
   "metadata": {},
   "source": [
    "**Immutables include integer, float and Boolean datatypes, and strings and tuples, e.g.**\n",
    "\n",
    "    x = 1 \n",
    "    x = 5\n",
    "    \n",
    "**You are not changing the integer, you are re-binding the variable to a new integer. It is also why you can only concatenate or duplicate strings.**\n",
    "\n",
    "## Adding to the list"
   ]
  },
  {
   "cell_type": "code",
   "execution_count": 7,
   "id": "41b5556c",
   "metadata": {},
   "outputs": [
    {
     "name": "stdout",
     "output_type": "stream",
     "text": [
      "['monitor', 'keyboard', 'mouse', 'mat', 'screen', 'harddrive']\n"
     ]
    }
   ],
   "source": [
    "# Add at the end of list\n",
    "\n",
    "computer_parts += ['harddrive']\n",
    "\n",
    "print(computer_parts)"
   ]
  },
  {
   "cell_type": "code",
   "execution_count": 8,
   "id": "e0845ef3",
   "metadata": {},
   "outputs": [
    {
     "name": "stdout",
     "output_type": "stream",
     "text": [
      "['monitor', 'keyboard', 'mouse', 'mat', 'screen', 'harddrive', 'motherboard']\n"
     ]
    }
   ],
   "source": [
    "# Add at the end of list\n",
    "\n",
    "computer_parts.append('motherboard')\n",
    "\n",
    "print(computer_parts)"
   ]
  },
  {
   "cell_type": "code",
   "execution_count": 9,
   "id": "57d4189a",
   "metadata": {},
   "outputs": [
    {
     "name": "stdout",
     "output_type": "stream",
     "text": [
      "Please add options from below:\n",
      "        1. monitor\n",
      "        2. keyboard\n",
      "        3. mouse\n",
      "        4. mat\n",
      "        5. screen\n",
      "        6. hdmi cable\n",
      "        0. EXIT\n",
      "1\n",
      "Adding 1...\n",
      "2\n",
      "Adding 2...\n",
      "3\n",
      "Adding 3...\n",
      "4\n",
      "Adding 4...\n",
      "5\n",
      "Adding 5...\n",
      "6\n",
      "Adding 6...\n",
      "7\n",
      "Please add options from below:\n",
      "        1. monitor\n",
      "        2. keyboard\n",
      "        3. mouse\n",
      "        4. mat\n",
      "        5. screen\n",
      "        6. hdmi cable\n",
      "        0. EXIT\n",
      "0\n",
      "['monitor', 'keyboard', 'mouse', 'mat', 'screen', 'hdmi cable']\n"
     ]
    }
   ],
   "source": [
    "# Build list of computer parts using user input\n",
    "\n",
    "choice = '-'\n",
    "\n",
    "# Empty list to be populated\n",
    "computer_parts = []\n",
    "\n",
    "while choice != '0':\n",
    "    if choice in '123456':\n",
    "        print(\"Adding {}...\".format(choice))\n",
    "        if choice == '1':\n",
    "            computer_parts.append('monitor')\n",
    "        elif choice == '2':\n",
    "            computer_parts.append('keyboard')\n",
    "        elif choice == '3':\n",
    "            computer_parts.append('mouse')\n",
    "        elif choice == '4':\n",
    "            computer_parts.append('mat')\n",
    "        elif choice == '5':\n",
    "            computer_parts.append('screen')\n",
    "        elif choice == '6':\n",
    "            computer_parts.append('hdmi cable')\n",
    "    else:\n",
    "        print('''Please add options from below:\n",
    "        1. monitor\n",
    "        2. keyboard\n",
    "        3. mouse\n",
    "        4. mat\n",
    "        5. screen\n",
    "        6. hdmi cable\n",
    "        0. EXIT''')\n",
    "        \n",
    "    choice = input()\n",
    "    \n",
    "print(computer_parts)"
   ]
  },
  {
   "cell_type": "markdown",
   "id": "eb872a98",
   "metadata": {},
   "source": [
    "**This is a lot of coding when you can just iterate over a pre-defined list using `for` loops to print out the options to new lists.**\n",
    "\n",
    "**This means that if you need to add or delete items from the list, you only need to update the pre-defined list `available_parts`, making the code much easier to maintain. This is known as refactoring the code.**"
   ]
  },
  {
   "cell_type": "code",
   "execution_count": 1,
   "id": "efea7875",
   "metadata": {},
   "outputs": [
    {
     "name": "stdout",
     "output_type": "stream",
     "text": [
      "Choose from options below:\n",
      "1: hdmi cable\n",
      "2: keyboard\n",
      "3: mat\n",
      "4: monitor\n",
      "5: mouse\n",
      "6: screen\n",
      "1\n",
      "Adding 1...\n",
      "2\n",
      "Adding 2...\n",
      "3\n",
      "Adding 3...\n",
      "4\n",
      "Adding 4...\n",
      "5\n",
      "Adding 5...\n",
      "6\n",
      "Adding 6...\n",
      "7\n",
      "Choose from options below:\n",
      "1: hdmi cable\n",
      "2: keyboard\n",
      "3: mat\n",
      "4: monitor\n",
      "5: mouse\n",
      "6: screen\n",
      "0\n",
      "['hdmi cable', 'keyboard', 'mat', 'monitor', 'mouse', 'screen']\n"
     ]
    }
   ],
   "source": [
    "available_parts = ['monitor', 'keyboard', 'mouse', 'mat', 'screen', 'hdmi cable']\n",
    "\n",
    "# List of valid number choices (must be strings)\n",
    "valid_choices = []\n",
    "\n",
    "for i in range(1, len(available_parts) + 1):\n",
    "    valid_choices.append(str(i))\n",
    "\n",
    "\n",
    "#print(valid_choices) # Remove after testing\n",
    "\n",
    "choice = '-'\n",
    "\n",
    "computer_parts = []\n",
    "\n",
    "available_parts.sort()\n",
    "\n",
    "while choice != '0':\n",
    "    if choice in valid_choices:\n",
    "        print(\"Adding {}...\".format(choice))\n",
    "        index = int(choice) - 1\n",
    "        chosen_part = available_parts[index]\n",
    "        computer_parts.append(chosen_part)\n",
    "    else:\n",
    "        print(\"Choose from options below:\")\n",
    "        # Iterate over full list of parts\n",
    "        for number, part in enumerate(available_parts):\n",
    "            print(\"{0}: {1}\".format(number + 1, part))\n",
    "            \n",
    "    choice = input()\n",
    "    \n",
    "print(computer_parts)"
   ]
  },
  {
   "cell_type": "markdown",
   "id": "e2936590",
   "metadata": {},
   "source": [
    "**However, the '0: EXIT' option is no longer displayed.**\n",
    "\n",
    "**FYI, see below for an example of list comprehension used instead of the `for` loop to build the list of valid choices, which is what advanced programmers would use:**\n",
    "\n",
    "            valid_choices = [str(i) for i in range(1, len(available_parts) + 1)]\n",
    "\n",
    "## Creating list from list\n",
    "\n",
    "**If you want to filter or extract items from one list to another list, a simple `for` loop with a condition can achieve this.**"
   ]
  },
  {
   "cell_type": "code",
   "execution_count": 12,
   "id": "2ecf31f8",
   "metadata": {},
   "outputs": [
    {
     "name": "stdout",
     "output_type": "stream",
     "text": [
      "FLOWERS:\n",
      "['Bellflower - Flower', 'China Pink - Flower', 'Daffodil - Flower', 'Evening Primrose - Flower', 'French Marigold - Flower', 'Iris - Flower', \"Queen Anne's Lace - Flower\", 'Red Hot Poker - Flower', 'Snapdragon - Flower', 'Sunflower - Flower', 'Tiger Lily - Flower']\n",
      "\n",
      "SHRUBS:\n",
      "['Andromeda - Shrub', 'Hydrangea - Shrub', 'Japanese Camellia - Shrub', 'Lavender - Shrub', 'Lilac - Shrub', 'Magnolia - Shrub', 'Peony - Shrub', 'Witch Hazel - Shrub']\n"
     ]
    }
   ],
   "source": [
    "# 11 flowers & 8 shrubs - separate into two lists\n",
    "\n",
    "data = [\n",
    "    \"Andromeda - Shrub\",\n",
    "    \"Bellflower - Flower\",\n",
    "    \"China Pink - Flower\",\n",
    "    \"Daffodil - Flower\",\n",
    "    \"Evening Primrose - Flower\",\n",
    "    \"French Marigold - Flower\",\n",
    "    \"Hydrangea - Shrub\",\n",
    "    \"Iris - Flower\",\n",
    "    \"Japanese Camellia - Shrub\",\n",
    "    \"Lavender - Shrub\",\n",
    "    \"Lilac - Shrub\",\n",
    "    \"Magnolia - Shrub\",\n",
    "    \"Peony - Shrub\",\n",
    "    \"Queen Anne's Lace - Flower\",\n",
    "    \"Red Hot Poker - Flower\",\n",
    "    \"Snapdragon - Flower\",\n",
    "    \"Sunflower - Flower\",\n",
    "    \"Tiger Lily - Flower\",\n",
    "    \"Witch Hazel - Shrub\"\n",
    "]\n",
    "\n",
    "flowers = []\n",
    "shrubs = []\n",
    "\n",
    "for plant in data:\n",
    "    if \"shrub\" in plant.casefold():\n",
    "        shrubs.append(plant)\n",
    "    else:\n",
    "        flowers.append(plant)\n",
    "        \n",
    "print(\"FLOWERS:\")\n",
    "print(flowers)\n",
    "print()\n",
    "print(\"SHRUBS:\")\n",
    "print(shrubs)"
   ]
  },
  {
   "cell_type": "markdown",
   "id": "cff003de",
   "metadata": {},
   "source": [
    "## Adding list to list\n",
    "\n",
    "**You can concatenate lists (`+`)**"
   ]
  },
  {
   "cell_type": "code",
   "execution_count": 13,
   "id": "4ee325d9",
   "metadata": {},
   "outputs": [],
   "source": [
    "evens = [2, 4, 6, 8, 10, 12, 14]\n",
    "\n",
    "odds = [1, 3, 5, 7, 9, 11, 13]\n",
    "\n",
    "numbers = evens + odds"
   ]
  },
  {
   "cell_type": "code",
   "execution_count": 14,
   "id": "0a5ff5cc",
   "metadata": {},
   "outputs": [
    {
     "name": "stdout",
     "output_type": "stream",
     "text": [
      "[2, 4, 6, 8, 10, 12, 14, 1, 3, 5, 7, 9, 11, 13]\n"
     ]
    }
   ],
   "source": [
    "print(numbers)"
   ]
  },
  {
   "cell_type": "markdown",
   "id": "aa6c37f1",
   "metadata": {},
   "source": [
    "**If you want to copy a list, it is best to use `copy()` method, but if you want to create a new sub-list from a list, simply use indexing or slicing to copy the values to a new list:**"
   ]
  },
  {
   "cell_type": "code",
   "execution_count": 15,
   "id": "a2bd7dc1",
   "metadata": {},
   "outputs": [
    {
     "name": "stdout",
     "output_type": "stream",
     "text": [
      "[4, 8, 12, 1, 5, 9, 13]\n"
     ]
    }
   ],
   "source": [
    "digits = numbers[1::2]\n",
    "\n",
    "print(digits)"
   ]
  },
  {
   "cell_type": "markdown",
   "id": "64f348b4",
   "metadata": {},
   "source": [
    "## Deleting from the list\n",
    "\n",
    "**You can simply remove individual items from a list, or a range of items, using `del` operator, which accepts index positioning only. However, remember that every time you run the command, the index is automatically re-ordered, so if you want to remove further items, index positioning of items will have changed.**\n",
    "\n",
    "**A useful example is deleting outliers from a distribution, which requires a condition in a `for` loop.**"
   ]
  },
  {
   "cell_type": "code",
   "execution_count": 16,
   "id": "3223db3e",
   "metadata": {},
   "outputs": [],
   "source": [
    "# See outliers at start and end of list\n",
    "\n",
    "data = [4, 5, 104, 105, 110, 120, 130, 130, 150, 160, 170, 183, 185, 187, 188, 191, 350, 360]"
   ]
  },
  {
   "cell_type": "code",
   "execution_count": 17,
   "id": "5a0243d0",
   "metadata": {},
   "outputs": [
    {
     "name": "stdout",
     "output_type": "stream",
     "text": [
      "[104, 105, 110, 120, 130, 130, 150, 160, 170, 183, 185, 187, 188, 191, 350, 360]\n"
     ]
    }
   ],
   "source": [
    "del data[0:2]\n",
    "\n",
    "# Note 4 & 5 have been deleted from list\n",
    "print(data)"
   ]
  },
  {
   "cell_type": "markdown",
   "id": "496a837e",
   "metadata": {},
   "source": [
    "**With a small dataset, you can simply slice the list to extract the outliers. However, if you have a much larger dataset and can't easily locate the indices to remove a range of outliers, i.e. values below or above specific values, you need to iterate over the list to determine the indices for the low outliers, then another loop for the high outliers, using the newly-indexed list after removing the low outliers.**\n",
    "\n",
    "**NOTE: In a distribution, fortunately values are usually already sorted, but note that this method only works if the list values are sorted in order.**"
   ]
  },
  {
   "cell_type": "code",
   "execution_count": 18,
   "id": "fd7a52d6",
   "metadata": {},
   "outputs": [],
   "source": [
    "# See outliers at start and end of list\n",
    "\n",
    "data = [4, 5, 104, 105, 110, 120, 130, 130, 150, 160, 170, 183, 185, 187, 188, 191, 350, 360]\n",
    "\n",
    "min_outlier = 100\n",
    "max_outlier = 200"
   ]
  },
  {
   "cell_type": "code",
   "execution_count": 19,
   "id": "ef454396",
   "metadata": {},
   "outputs": [
    {
     "name": "stdout",
     "output_type": "stream",
     "text": [
      "2\n",
      "[104, 105, 110, 120, 130, 130, 150, 160, 170, 183, 185, 187, 188, 191, 350, 360]\n"
     ]
    }
   ],
   "source": [
    "# Process low outliers - stop loop when value gets to 100\n",
    "\n",
    "stop = 0\n",
    "\n",
    "for index, value in enumerate(data):\n",
    "    if value >= min_outlier:\n",
    "        stop = index\n",
    "        break\n",
    "\n",
    "# Index value when loop is forcibly stopped\n",
    "print(stop)\n",
    "\n",
    "del data[:stop]\n",
    "\n",
    "print(data)"
   ]
  },
  {
   "cell_type": "code",
   "execution_count": 20,
   "id": "e4b567fe",
   "metadata": {},
   "outputs": [
    {
     "name": "stdout",
     "output_type": "stream",
     "text": [
      "14\n",
      "[104, 105, 110, 120, 130, 130, 150, 160, 170, 183, 185, 187, 188, 191]\n"
     ]
    }
   ],
   "source": [
    "# Process high outliers - stop loop when value gets to 200\n",
    "\n",
    "start = 0\n",
    "\n",
    "for index, value in enumerate(data):\n",
    "    if value >= max_outlier:\n",
    "        start = index\n",
    "        break\n",
    "        \n",
    "# Index value when loop is forcibly stopped\n",
    "print(start)\n",
    "\n",
    "del data[start:]\n",
    "\n",
    "print(data)"
   ]
  },
  {
   "cell_type": "markdown",
   "id": "64850480",
   "metadata": {},
   "source": [
    "**Using an earlier example of adding computer parts to a list, what if the user accidentally adds a computer part to the list? You need to add a condition that allows the user to remove it. You could add an option to the list to delete item, or item can be removed if you select it twice in the input.**"
   ]
  },
  {
   "cell_type": "code",
   "execution_count": 21,
   "id": "34cc6cf9",
   "metadata": {},
   "outputs": [
    {
     "name": "stdout",
     "output_type": "stream",
     "text": [
      "Choose from options below:\n",
      "1: monitor\n",
      "2: keyboard\n",
      "3: mouse\n",
      "4: mat\n",
      "5: screen\n",
      "6: hdmi cable\n",
      "key\n",
      "Choose from options below:\n",
      "1: monitor\n",
      "2: keyboard\n",
      "3: mouse\n",
      "4: mat\n",
      "5: screen\n",
      "6: hdmi cable\n",
      "1\n",
      "Adding 1 to list\n",
      "Your list now contains: ['monitor']\n",
      "2\n",
      "Adding 2 to list\n",
      "Your list now contains: ['monitor', 'keyboard']\n",
      "3\n",
      "Adding 3 to list\n",
      "Your list now contains: ['monitor', 'keyboard', 'mouse']\n",
      "4\n",
      "Adding 4 to list\n",
      "Your list now contains: ['monitor', 'keyboard', 'mouse', 'mat']\n",
      "5\n",
      "Adding 5 to list\n",
      "Your list now contains: ['monitor', 'keyboard', 'mouse', 'mat', 'screen']\n",
      "6\n",
      "Adding 6 to list\n",
      "Your list now contains: ['monitor', 'keyboard', 'mouse', 'mat', 'screen', 'hdmi cable']\n",
      "1\n",
      "Removing 1 from list\n",
      "Your list now contains: ['keyboard', 'mouse', 'mat', 'screen', 'hdmi cable']\n",
      "0\n",
      "['keyboard', 'mouse', 'mat', 'screen', 'hdmi cable']\n"
     ]
    }
   ],
   "source": [
    "available_parts = ['monitor', 'keyboard', 'mouse', 'mat', 'screen', 'hdmi cable']\n",
    "\n",
    "# List of valid input choices\n",
    "valid_choices = []\n",
    "\n",
    "for i in range(1, len(available_parts) + 1):\n",
    "    valid_choices.append(str(i))\n",
    "\n",
    "# Initial choice\n",
    "choice = '-'\n",
    "\n",
    "# Final list of parts\n",
    "computer_parts = []\n",
    "\n",
    "while choice != '0':\n",
    "    if choice in valid_choices:\n",
    "        index = int(choice) - 1\n",
    "        chosen_part = available_parts[index]\n",
    "        if chosen_part in computer_parts:\n",
    "            print(\"Removing {} from list\".format(choice))\n",
    "            computer_parts.remove(chosen_part)\n",
    "        else:\n",
    "            print(\"Adding {} to list\".format(choice))\n",
    "            computer_parts.append(chosen_part)\n",
    "        print(\"Your list now contains: {}\".format(computer_parts))\n",
    "    else:\n",
    "        print(\"Choose from options below:\")\n",
    "        # Iterate over full list of parts\n",
    "        for number, part in enumerate(available_parts):\n",
    "            print(\"{0}: {1}\".format(number + 1, part))\n",
    "            \n",
    "    choice = input()\n",
    "    \n",
    "print(computer_parts)"
   ]
  },
  {
   "cell_type": "markdown",
   "id": "dbd7c3be",
   "metadata": {},
   "source": [
    "## Sort vs Sorted\n",
    "\n",
    "**The `sort()` method works specifically with lists only. The `sorted()` function works on any sequence, including lists.**\n",
    "\n",
    "* **The `sort()` method changes the list in place, i.e. mutates it without changing its ID.**\n",
    "\n",
    "* **The `sorted()` function creates a copy of the list and sorts it.**"
   ]
  },
  {
   "cell_type": "code",
   "execution_count": 22,
   "id": "cf1683e7",
   "metadata": {},
   "outputs": [
    {
     "name": "stdout",
     "output_type": "stream",
     "text": [
      "[2, 4, 6, 8, 10, 12, 14, 16, 18, 20]\n"
     ]
    }
   ],
   "source": [
    "even = [2, 6, 4, 8, 20, 18, 12, 10, 14, 16]\n",
    "\n",
    "even.sort()\n",
    "\n",
    "print(even)"
   ]
  },
  {
   "cell_type": "code",
   "execution_count": 23,
   "id": "710a33da",
   "metadata": {},
   "outputs": [
    {
     "name": "stdout",
     "output_type": "stream",
     "text": [
      "[20, 18, 16, 14, 12, 10, 8, 6, 4, 2]\n"
     ]
    }
   ],
   "source": [
    "even.sort(reverse=True)\n",
    "\n",
    "print(even)"
   ]
  },
  {
   "cell_type": "code",
   "execution_count": 26,
   "id": "3f982b01",
   "metadata": {},
   "outputs": [
    {
     "name": "stdout",
     "output_type": "stream",
     "text": [
      "[' ', ' ', ' ', ' ', ' ', ' ', ' ', ' ', 'T', 'a', 'b', 'c', 'd', 'e', 'e', 'e', 'f', 'g', 'h', 'h', 'i', 'j', 'k', 'l', 'm', 'n', 'o', 'o', 'o', 'o', 'p', 'q', 'r', 'r', 's', 't', 'u', 'u', 'v', 'w', 'x', 'y', 'z']\n"
     ]
    }
   ],
   "source": [
    "# Pangram is a phrase that contains all the letters in the alphabet\n",
    "\n",
    "pangram = \"The quick brown fox jumps over the lazy dog\"\n",
    "\n",
    "letters = sorted(pangram)\n",
    "\n",
    "print(letters)"
   ]
  },
  {
   "cell_type": "markdown",
   "id": "2f136219",
   "metadata": {},
   "source": [
    "**Note that the capital letters are processed, then the lowercase letters. You can perform case-insensitive sorting, by using the `key` argument to specify the string method `casefold()` or `lower()`.**"
   ]
  },
  {
   "cell_type": "code",
   "execution_count": 27,
   "id": "31b40853",
   "metadata": {},
   "outputs": [
    {
     "name": "stdout",
     "output_type": "stream",
     "text": [
      "[' ', ' ', ' ', ' ', ' ', ' ', ' ', ' ', 'a', 'b', 'c', 'd', 'e', 'e', 'e', 'f', 'g', 'h', 'h', 'i', 'j', 'k', 'l', 'm', 'n', 'o', 'o', 'o', 'o', 'p', 'q', 'r', 'r', 's', 'T', 't', 'u', 'u', 'v', 'w', 'x', 'y', 'z']\n"
     ]
    }
   ],
   "source": [
    "letters = sorted(pangram, key=str.casefold)\n",
    "\n",
    "print(letters)"
   ]
  },
  {
   "cell_type": "code",
   "execution_count": 28,
   "id": "c3b17168",
   "metadata": {},
   "outputs": [
    {
     "data": {
      "text/plain": [
       "['a',\n",
       " 'a',\n",
       " 'a',\n",
       " 'C',\n",
       " 'c',\n",
       " 'c',\n",
       " 'd',\n",
       " 'e',\n",
       " 'E',\n",
       " 'F',\n",
       " 'g',\n",
       " 'i',\n",
       " 'i',\n",
       " 'i',\n",
       " 'i',\n",
       " 'i',\n",
       " 'i',\n",
       " 'i',\n",
       " 'l',\n",
       " 'l',\n",
       " 'l',\n",
       " 'o',\n",
       " 'o',\n",
       " 'p',\n",
       " 'p',\n",
       " 'r',\n",
       " 'r',\n",
       " 'S',\n",
       " 's',\n",
       " 's',\n",
       " 't',\n",
       " 'u',\n",
       " 'u',\n",
       " 'x']"
      ]
     },
     "execution_count": 28,
     "metadata": {},
     "output_type": "execute_result"
    }
   ],
   "source": [
    "sorted(\"SuperCaliFragilisticExpialidocious\", key=str.casefold)"
   ]
  },
  {
   "cell_type": "markdown",
   "id": "08377138",
   "metadata": {},
   "source": [
    "**Remember that `sort()` method only works on lists, so it sorts multiple strings, rather than sorting the string itself.**"
   ]
  },
  {
   "cell_type": "code",
   "execution_count": 29,
   "id": "308257c9",
   "metadata": {},
   "outputs": [
    {
     "name": "stdout",
     "output_type": "stream",
     "text": [
      "['!', '40s', 'BEST', 'EVER', 'The', 'decade', 'the', 'was']\n"
     ]
    }
   ],
   "source": [
    "texts = ['The', '40s', 'was', 'the', 'BEST', 'decade', 'EVER', '!']\n",
    "\n",
    "texts.sort()\n",
    "\n",
    "print(texts)"
   ]
  },
  {
   "cell_type": "code",
   "execution_count": 30,
   "id": "bc455cef",
   "metadata": {},
   "outputs": [
    {
     "name": "stdout",
     "output_type": "stream",
     "text": [
      "['!', '40s', 'BEST', 'decade', 'EVER', 'The', 'the', 'was']\n"
     ]
    }
   ],
   "source": [
    "texts.sort(key=str.casefold)\n",
    "\n",
    "print(texts)"
   ]
  },
  {
   "cell_type": "markdown",
   "id": "e4ed6a30",
   "metadata": {},
   "source": [
    "## Replacing items in list\n",
    "\n",
    "**You can replace an individual item in a list using indexing and re-assigning that position to a new value:**"
   ]
  },
  {
   "cell_type": "code",
   "execution_count": 31,
   "id": "a844a0d6",
   "metadata": {},
   "outputs": [
    {
     "name": "stdout",
     "output_type": "stream",
     "text": [
      "['keyboard', 'mouse', 'mat', 'screen', 'hdmi cable']\n"
     ]
    }
   ],
   "source": [
    "print(computer_parts)"
   ]
  },
  {
   "cell_type": "code",
   "execution_count": 32,
   "id": "3b5db48b",
   "metadata": {},
   "outputs": [
    {
     "name": "stdout",
     "output_type": "stream",
     "text": [
      "['monitor', 'mouse', 'mat', 'screen', 'hdmi cable']\n"
     ]
    }
   ],
   "source": [
    "computer_parts[0] = 'monitor'\n",
    "\n",
    "print(computer_parts)"
   ]
  },
  {
   "cell_type": "markdown",
   "id": "3a226eb0",
   "metadata": {},
   "source": [
    "**You can replace an individual item with a nested list:**"
   ]
  },
  {
   "cell_type": "code",
   "execution_count": 33,
   "id": "0c7786fa",
   "metadata": {},
   "outputs": [
    {
     "name": "stdout",
     "output_type": "stream",
     "text": [
      "['monitor', 'mouse', 'mat', 'screen', ['trackball', 'monitor']]\n"
     ]
    }
   ],
   "source": [
    "computer_parts[4] = ['trackball', 'monitor']\n",
    "\n",
    "print(computer_parts)"
   ]
  },
  {
   "cell_type": "markdown",
   "id": "478ef907",
   "metadata": {},
   "source": [
    "**Or if you do not want the list to be nested, make sure to slice the list, not index:**"
   ]
  },
  {
   "cell_type": "code",
   "execution_count": 34,
   "id": "ed0f8eca",
   "metadata": {},
   "outputs": [
    {
     "name": "stdout",
     "output_type": "stream",
     "text": [
      "['monitor', 'mouse', 'mat', 'screen', 'trackball', 'monitor']\n"
     ]
    }
   ],
   "source": [
    "computer_parts[4:] = ['trackball', 'monitor']\n",
    "\n",
    "print(computer_parts)"
   ]
  },
  {
   "cell_type": "code",
   "execution_count": 35,
   "id": "e2158664",
   "metadata": {},
   "outputs": [
    {
     "name": "stdout",
     "output_type": "stream",
     "text": [
      "[['screen'], 'mouse', 'mat', 'screen', 'trackball', 'monitor']\n"
     ]
    }
   ],
   "source": [
    "computer_parts[0] = ['screen']\n",
    "\n",
    "print(computer_parts)"
   ]
  },
  {
   "cell_type": "markdown",
   "id": "cbe9c8ab",
   "metadata": {},
   "source": [
    "**As you can see, there are subtle differences depending on context and how coding is applied.**"
   ]
  },
  {
   "cell_type": "code",
   "execution_count": 36,
   "id": "c2a00db8",
   "metadata": {},
   "outputs": [
    {
     "name": "stdout",
     "output_type": "stream",
     "text": [
      "['screen', 'mouse', 'mat', 'screen', 'trackball', 'monitor']\n"
     ]
    }
   ],
   "source": [
    "computer_parts[0:1] = ['screen']\n",
    "\n",
    "print(computer_parts)"
   ]
  },
  {
   "cell_type": "markdown",
   "id": "5c57ae73",
   "metadata": {},
   "source": [
    "## Iterating backwards over a list\n",
    "\n",
    "**This technique allows you to change the size of a list easily.**"
   ]
  },
  {
   "cell_type": "code",
   "execution_count": 1,
   "id": "db872e54",
   "metadata": {},
   "outputs": [],
   "source": [
    "# Unsorted numbers\n",
    "\n",
    "data = [104, 101, 4, 105, 308, 103, 5, 107, 100, 306, 106, 102, 108]\n",
    "\n",
    "min_valid = 100\n",
    "max_valid = 200"
   ]
  },
  {
   "cell_type": "code",
   "execution_count": 2,
   "id": "165bdfb7",
   "metadata": {},
   "outputs": [
    {
     "name": "stdout",
     "output_type": "stream",
     "text": [
      "12\n",
      "11\n",
      "10\n",
      "9\n",
      "8\n",
      "7\n",
      "6\n",
      "5\n",
      "4\n",
      "3\n",
      "2\n",
      "1\n",
      "0\n"
     ]
    }
   ],
   "source": [
    "for index in range(len(data) -1, -1, -1):\n",
    "    print(index)"
   ]
  },
  {
   "cell_type": "code",
   "execution_count": 3,
   "id": "3f5feacf",
   "metadata": {},
   "outputs": [
    {
     "name": "stdout",
     "output_type": "stream",
     "text": [
      "9 [104, 101, 4, 105, 308, 103, 5, 107, 100, 306, 106, 102, 108]\n",
      "6 [104, 101, 4, 105, 308, 103, 5, 107, 100, 106, 102, 108]\n",
      "4 [104, 101, 4, 105, 308, 103, 107, 100, 106, 102, 108]\n",
      "2 [104, 101, 4, 105, 103, 107, 100, 106, 102, 108]\n"
     ]
    }
   ],
   "source": [
    "for index in range(len(data) -1, -1, -1):\n",
    "    if data[index] < min_valid or data[index] > max_valid:\n",
    "        print(index, data) # remove after testing\n",
    "        del data[index]"
   ]
  },
  {
   "cell_type": "code",
   "execution_count": 4,
   "id": "18303d8d",
   "metadata": {},
   "outputs": [
    {
     "name": "stdout",
     "output_type": "stream",
     "text": [
      "[104, 101, 105, 103, 107, 100, 106, 102, 108]\n"
     ]
    }
   ],
   "source": [
    "print(data)"
   ]
  },
  {
   "cell_type": "markdown",
   "id": "41e0ecd7",
   "metadata": {},
   "source": [
    "**You can also iterate backwards over a sequence, like a list, using the `reversed()` function. The advantage of using this function is that you can also use it in the `enumerate()` function.**"
   ]
  },
  {
   "cell_type": "code",
   "execution_count": 5,
   "id": "006e7f2c",
   "metadata": {
    "scrolled": true
   },
   "outputs": [
    {
     "name": "stdout",
     "output_type": "stream",
     "text": [
      "0 108\n",
      "1 102\n",
      "2 106\n",
      "3 306\n",
      "4 100\n",
      "5 107\n",
      "6 5\n",
      "7 103\n",
      "8 308\n",
      "9 105\n",
      "10 4\n",
      "11 101\n",
      "12 104\n"
     ]
    }
   ],
   "source": [
    "data = [104, 101, 4, 105, 308, 103, 5, 107, 100, 306, 106, 102, 108]\n",
    "\n",
    "min_valid = 100\n",
    "max_valid = 200\n",
    "\n",
    "for index, value in enumerate(reversed(data)):\n",
    "    print(index, value)"
   ]
  },
  {
   "cell_type": "markdown",
   "id": "4296d062",
   "metadata": {},
   "source": [
    "**As you can see, the numbers are reversed but the index still reads from 0 to 12. In order to reverse the index also, subtract one from the length of the data to get the top index position for each loop. Subtract the current index from that to get the index backwards.**"
   ]
  },
  {
   "cell_type": "code",
   "execution_count": 6,
   "id": "fdc0e757",
   "metadata": {},
   "outputs": [
    {
     "name": "stdout",
     "output_type": "stream",
     "text": [
      "12 108\n",
      "11 102\n",
      "10 106\n",
      "9 306\n",
      "8 100\n",
      "7 107\n",
      "6 5\n",
      "5 103\n",
      "4 308\n",
      "3 105\n",
      "2 4\n",
      "1 101\n",
      "0 104\n"
     ]
    }
   ],
   "source": [
    "top_index = len(data) - 1\n",
    "\n",
    "for index, value in enumerate(reversed(data)):\n",
    "    print(top_index - index, value)"
   ]
  },
  {
   "cell_type": "code",
   "execution_count": 8,
   "id": "10ad350d",
   "metadata": {},
   "outputs": [
    {
     "name": "stdout",
     "output_type": "stream",
     "text": [
      "9 306\n",
      "6 5\n",
      "4 308\n",
      "2 4\n",
      "[104, 101, 105, 103, 107, 100, 106, 102, 108]\n"
     ]
    }
   ],
   "source": [
    "top_index = len(data) - 1\n",
    "\n",
    "for index, value in enumerate(reversed(data)):\n",
    "    if value < min_valid or value > max_valid:\n",
    "        print(top_index - index, value)\n",
    "        del data[top_index - index]\n",
    "        \n",
    "print(data)"
   ]
  },
  {
   "cell_type": "markdown",
   "id": "83412342",
   "metadata": {},
   "source": [
    "**NOTE: Compared to the first example of removing outliers from dataset, using backwards iteration means the data does not need to be sorted in order.**\n",
    "\n",
    "## Nested lists\n",
    "\n",
    "**Nested lists can be a bit of headache, especially to iterate over. Earlier, you replaced a list item with a nested list by indexing. You can also nest lists literally, within square brackets.**"
   ]
  },
  {
   "cell_type": "code",
   "execution_count": 9,
   "id": "835f3149",
   "metadata": {},
   "outputs": [
    {
     "name": "stdout",
     "output_type": "stream",
     "text": [
      "[[2, 4, 6, 8, 10], [1, 3, 5, 7, 9, 11]]\n"
     ]
    }
   ],
   "source": [
    "even = [2, 4, 6, 8, 10]\n",
    "\n",
    "odd = [1, 3, 5, 7, 9, 11]\n",
    "\n",
    "numbers = [even, odd]\n",
    "\n",
    "print(numbers)"
   ]
  },
  {
   "cell_type": "code",
   "execution_count": 10,
   "id": "42c9bd10",
   "metadata": {},
   "outputs": [
    {
     "data": {
      "text/plain": [
       "[2, 4, 6, 8, 10]"
      ]
     },
     "execution_count": 10,
     "metadata": {},
     "output_type": "execute_result"
    }
   ],
   "source": [
    "numbers[0]"
   ]
  },
  {
   "cell_type": "code",
   "execution_count": 11,
   "id": "91ba51be",
   "metadata": {},
   "outputs": [
    {
     "data": {
      "text/plain": [
       "2"
      ]
     },
     "execution_count": 11,
     "metadata": {},
     "output_type": "execute_result"
    }
   ],
   "source": [
    "numbers[0][0]"
   ]
  },
  {
   "cell_type": "code",
   "execution_count": 12,
   "id": "ee15b71a",
   "metadata": {},
   "outputs": [
    {
     "name": "stdout",
     "output_type": "stream",
     "text": [
      "[2, 4, 6, 8, 10]\n",
      "[1, 3, 5, 7, 9, 11]\n"
     ]
    }
   ],
   "source": [
    "# The outer loop iterates over the nested lists\n",
    "\n",
    "for number_list in numbers:\n",
    "    print(number_list)"
   ]
  },
  {
   "cell_type": "code",
   "execution_count": 13,
   "id": "74fc08f2",
   "metadata": {},
   "outputs": [
    {
     "name": "stdout",
     "output_type": "stream",
     "text": [
      "[2, 4, 6, 8, 10]\n",
      "2\n",
      "4\n",
      "6\n",
      "8\n",
      "10\n",
      "[1, 3, 5, 7, 9, 11]\n",
      "1\n",
      "3\n",
      "5\n",
      "7\n",
      "9\n",
      "11\n"
     ]
    }
   ],
   "source": [
    "# The inner loop iterates over the values in each nested list\n",
    "\n",
    "for number_list in numbers:\n",
    "    print(number_list)\n",
    "    \n",
    "    for number in number_list:\n",
    "        print(number)"
   ]
  },
  {
   "cell_type": "markdown",
   "id": "d9150fb5",
   "metadata": {},
   "source": [
    "**Not many people know that the word 'spam', meaning junk email, comes from a Monty Python sketch:** "
   ]
  },
  {
   "cell_type": "code",
   "execution_count": 14,
   "id": "9b56a8b0",
   "metadata": {},
   "outputs": [],
   "source": [
    "# Literal nested lists should be formatted this way\n",
    "\n",
    "menu = [\n",
    "    ['egg', 'bacon'], \n",
    "    ['egg', 'sausage', 'bacon'], \n",
    "    ['egg', 'spam'], \n",
    "    ['egg', 'bacon', 'spam'], \n",
    "    ['egg', 'bacon', 'sausage', 'spam'], \n",
    "    ['spam', 'bacon', 'sausage', 'spam'], \n",
    "    ['spam', 'egg', 'spam', 'spam', 'bacon', 'spam'], \n",
    "    ['spam', 'sausage', 'spam', 'bacon', 'spam', 'tomato', 'spam']\n",
    "]"
   ]
  },
  {
   "cell_type": "code",
   "execution_count": 15,
   "id": "f4ab3f73",
   "metadata": {},
   "outputs": [
    {
     "name": "stdout",
     "output_type": "stream",
     "text": [
      "['egg', 'bacon']\n",
      "['egg', 'sausage', 'bacon']\n"
     ]
    }
   ],
   "source": [
    "for meal in menu:\n",
    "    if 'spam' not in meal:\n",
    "        print(meal)"
   ]
  },
  {
   "cell_type": "code",
   "execution_count": 18,
   "id": "7951bb28",
   "metadata": {},
   "outputs": [
    {
     "name": "stdout",
     "output_type": "stream",
     "text": [
      "['egg', 'bacon']\n",
      "egg\n",
      "bacon\n",
      "['egg', 'sausage', 'bacon']\n",
      "egg\n",
      "sausage\n",
      "bacon\n",
      "['egg', 'spam'] has 1 spam\n",
      "['egg', 'bacon', 'spam'] has 1 spam\n",
      "['egg', 'bacon', 'sausage', 'spam'] has 1 spam\n",
      "['spam', 'bacon', 'sausage', 'spam'] has 2 spam\n",
      "['spam', 'egg', 'spam', 'spam', 'bacon', 'spam'] has 4 spam\n",
      "['spam', 'sausage', 'spam', 'bacon', 'spam', 'tomato', 'spam'] has 4 spam\n"
     ]
    }
   ],
   "source": [
    "for meal in menu:\n",
    "    if 'spam' not in meal:\n",
    "        print(meal)\n",
    "        \n",
    "        for food in meal:\n",
    "            print(food)\n",
    "    else:\n",
    "        print(\"{0} has {1} spam\".format(meal, meal.count('spam')))"
   ]
  },
  {
   "cell_type": "code",
   "execution_count": 40,
   "id": "3954e80d",
   "metadata": {},
   "outputs": [
    {
     "name": "stdout",
     "output_type": "stream",
     "text": [
      "['egg', 'bacon']\n",
      "['egg', 'sausage', 'bacon']\n",
      "['egg']\n",
      "['egg', 'bacon']\n",
      "['egg', 'bacon', 'sausage']\n",
      "['bacon', 'sausage']\n",
      "['egg', 'bacon']\n",
      "['sausage', 'bacon', 'tomato']\n"
     ]
    }
   ],
   "source": [
    "# Print meals without 'spam' - deleting items so backwards iteration\n",
    "\n",
    "menu = [\n",
    "    ['egg', 'bacon'], \n",
    "    ['egg', 'sausage', 'bacon'], \n",
    "    ['egg', 'spam'], \n",
    "    ['egg', 'bacon', 'spam'], \n",
    "    ['egg', 'bacon', 'sausage', 'spam'], \n",
    "    ['spam', 'bacon', 'sausage', 'spam'], \n",
    "    ['spam', 'egg', 'spam', 'spam', 'bacon', 'spam'], \n",
    "    ['spam', 'sausage', 'spam', 'bacon', 'spam', 'tomato', 'spam']\n",
    "]\n",
    "\n",
    "for meal in menu:\n",
    "    for index in range(len(meal) - 1, -1, -1):\n",
    "        if meal[index] == 'spam':\n",
    "            del meal[index]\n",
    "            \n",
    "    print(meal)"
   ]
  },
  {
   "cell_type": "code",
   "execution_count": 5,
   "id": "c980359b",
   "metadata": {},
   "outputs": [
    {
     "name": "stdout",
     "output_type": "stream",
     "text": [
      "egg bacon \n",
      "egg sausage bacon \n",
      "egg \n",
      "egg bacon \n",
      "egg bacon sausage \n",
      "bacon sausage \n",
      "egg bacon \n",
      "sausage bacon tomato \n"
     ]
    }
   ],
   "source": [
    "# No mutating original menu, just print items that are not 'spam'\n",
    "# Note the use of end argument in print function\n",
    "\n",
    "menu = [\n",
    "    ['egg', 'bacon'], \n",
    "    ['egg', 'sausage', 'bacon'], \n",
    "    ['egg', 'spam'], \n",
    "    ['egg', 'bacon', 'spam'], \n",
    "    ['egg', 'bacon', 'sausage', 'spam'], \n",
    "    ['spam', 'bacon', 'sausage', 'spam'], \n",
    "    ['spam', 'egg', 'spam', 'spam', 'bacon', 'spam'], \n",
    "    ['spam', 'sausage', 'spam', 'bacon', 'spam', 'tomato', 'spam']\n",
    "]\n",
    "\n",
    "\n",
    "for meal in menu:\n",
    "    for item in meal:\n",
    "        if item != 'spam':\n",
    "            print(item, end=\" \")\n",
    "            \n",
    "    print()"
   ]
  },
  {
   "cell_type": "markdown",
   "id": "cee6c6f6",
   "metadata": {},
   "source": [
    "**You can replace the `if` statement with a generator expression, which is advanced Python. This is in order to add commas between each item without leaving a trailing comma at the end.**"
   ]
  },
  {
   "cell_type": "code",
   "execution_count": 3,
   "id": "112aa1f0",
   "metadata": {},
   "outputs": [
    {
     "name": "stdout",
     "output_type": "stream",
     "text": [
      "egg, bacon\n",
      "egg, sausage, bacon\n",
      "egg\n",
      "egg, bacon\n",
      "egg, bacon, sausage\n",
      "bacon, sausage\n",
      "egg, bacon\n",
      "sausage, bacon, tomato\n"
     ]
    }
   ],
   "source": [
    "for meal in menu:\n",
    "    items = \", \".join((item for item in meal if item != 'spam'))\n",
    "    print(items)"
   ]
  },
  {
   "cell_type": "code",
   "execution_count": null,
   "id": "72256934",
   "metadata": {},
   "outputs": [],
   "source": []
  }
 ],
 "metadata": {
  "kernelspec": {
   "display_name": "Python 3 (ipykernel)",
   "language": "python",
   "name": "python3"
  },
  "language_info": {
   "codemirror_mode": {
    "name": "ipython",
    "version": 3
   },
   "file_extension": ".py",
   "mimetype": "text/x-python",
   "name": "python",
   "nbconvert_exporter": "python",
   "pygments_lexer": "ipython3",
   "version": "3.9.17"
  }
 },
 "nbformat": 4,
 "nbformat_minor": 5
}
