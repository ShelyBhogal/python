{
 "cells": [
  {
   "cell_type": "markdown",
   "id": "47f68cf5",
   "metadata": {},
   "source": [
    "# Conditional Expressions in List Comprehension\n",
    "\n",
    "**i.e. adding an `if` clause to the list comprehension. The important thing to remember when using the `if` clause with list comprehension is that it can only act as a filter.** "
   ]
  },
  {
   "cell_type": "code",
   "execution_count": 1,
   "id": "6e3286cb",
   "metadata": {},
   "outputs": [],
   "source": [
    "menu = [\n",
    "    [\"egg\", \"spam\", \"bacon\"], \n",
    "    [\"egg\", \"sausage\", \"bacon\"], \n",
    "    [\"egg\", \"spam\"], \n",
    "    [\"egg\", \"bacon\", \"spam\"], \n",
    "    [\"egg\", \"bacon\", \"sausage\", \"spam\"], \n",
    "    [\"spam\", \"bacon\", \"sausage\", \"spam\"], \n",
    "    [\"spam\", \"egg\", \"spam\", \"spam\", \"bacon\", \"spam\"], \n",
    "    [\"spam\", \"egg\", \"sausage\", \"spam\"], \n",
    "    [\"chicken\", \"chips\"]\n",
    "]"
   ]
  },
  {
   "cell_type": "code",
   "execution_count": 2,
   "id": "e174db9b",
   "metadata": {},
   "outputs": [
    {
     "name": "stdout",
     "output_type": "stream",
     "text": [
      "[['egg', 'sausage', 'bacon'], ['chicken', 'chips']]\n"
     ]
    }
   ],
   "source": [
    "meals_without_spam = []\n",
    "\n",
    "for meal in menu:\n",
    "    if \"spam\" not in meal:\n",
    "        meals_without_spam.append(meal)\n",
    "\n",
    "print(meals_without_spam)"
   ]
  },
  {
   "cell_type": "code",
   "execution_count": 3,
   "id": "19a4f425",
   "metadata": {},
   "outputs": [
    {
     "name": "stdout",
     "output_type": "stream",
     "text": [
      "[['egg', 'sausage', 'bacon'], ['chicken', 'chips']]\n"
     ]
    }
   ],
   "source": [
    "meals_without_spam = [meal for meal in menu if \"spam\" not in meal]\n",
    "\n",
    "print(meals_without_spam)"
   ]
  },
  {
   "cell_type": "markdown",
   "id": "d9f87257",
   "metadata": {},
   "source": [
    "**You can add more than one filter using and and or keywords, however, you cannot include the `else` clause:**"
   ]
  },
  {
   "cell_type": "code",
   "execution_count": 4,
   "id": "c3e9d174",
   "metadata": {},
   "outputs": [
    {
     "ename": "SyntaxError",
     "evalue": "invalid syntax (277559340.py, line 1)",
     "output_type": "error",
     "traceback": [
      "\u001b[1;36m  Cell \u001b[1;32mIn[4], line 1\u001b[1;36m\u001b[0m\n\u001b[1;33m    meals_without_spam = [meal for meal in menu if \"spam\" not in meal else print(\"Missed a meal\")]\u001b[0m\n\u001b[1;37m                                                                      ^\u001b[0m\n\u001b[1;31mSyntaxError\u001b[0m\u001b[1;31m:\u001b[0m invalid syntax\n"
     ]
    }
   ],
   "source": [
    "meals_without_spam = [meal for meal in menu if \"spam\" not in meal else print(\"Missed a meal\")]\n",
    "\n",
    "print(meals_without_spam)"
   ]
  },
  {
   "cell_type": "code",
   "execution_count": 5,
   "id": "90398b33",
   "metadata": {},
   "outputs": [
    {
     "name": "stdout",
     "output_type": "stream",
     "text": [
      "[['egg', 'sausage', 'bacon']]\n"
     ]
    }
   ],
   "source": [
    "meals_without_spam_chicken = [meal for meal in menu if \"spam\" not in meal and \"chicken\" not in meal]\n",
    "\n",
    "print(meals_without_spam_chicken)"
   ]
  },
  {
   "cell_type": "markdown",
   "id": "6f14ef35",
   "metadata": {},
   "source": [
    "**This removes all meals that contain spam or chicken.**\n",
    "\n",
    "**What about removing meals that combine bacon and sausage, e.g. the customer hates too much meat on their plate. Or they definitely want any meal with spam and eggs, but not with sausage and bacon together.** \n",
    "\n",
    "**The first condition is spam and eggs:**\n",
    "\n",
    "    if \"spam\" in meal or \"eggs\" in meal\n",
    "\n",
    "**And the second condition chained on the end is not the combination of bacon and sausage together:**\n",
    "\n",
    "    if not (\"bacon\" in meal and \"sausage\" in meal)\n",
    "\n"
   ]
  },
  {
   "cell_type": "code",
   "execution_count": 6,
   "id": "cb3485ad",
   "metadata": {},
   "outputs": [
    {
     "name": "stdout",
     "output_type": "stream",
     "text": [
      "[['egg', 'spam', 'bacon'], ['egg', 'spam'], ['egg', 'bacon', 'spam'], ['spam', 'egg', 'spam', 'spam', 'bacon', 'spam'], ['spam', 'egg', 'sausage', 'spam']]\n"
     ]
    }
   ],
   "source": [
    "fussy_meals = [meal for meal in menu if \"spam\" in meal or \"eggs\" in meal if not (\"bacon\" in meal and \"sausage\" in meal)]\n",
    "\n",
    "print(fussy_meals)"
   ]
  },
  {
   "cell_type": "markdown",
   "id": "31fddd79",
   "metadata": {},
   "source": [
    "**You could get the same result putting both conditions in parentheses:**"
   ]
  },
  {
   "cell_type": "code",
   "execution_count": 7,
   "id": "8090253f",
   "metadata": {},
   "outputs": [
    {
     "name": "stdout",
     "output_type": "stream",
     "text": [
      "[['egg', 'spam', 'bacon'], ['egg', 'spam'], ['egg', 'bacon', 'spam'], ['spam', 'egg', 'spam', 'spam', 'bacon', 'spam'], ['spam', 'egg', 'sausage', 'spam']]\n"
     ]
    }
   ],
   "source": [
    "fussy_meals = [meal for meal in menu if (\"spam\" in meal or \"eggs\" in meal) and not (\"bacon\" in meal and \"sausage\" in meal)]\n",
    "\n",
    "print(fussy_meals)"
   ]
  },
  {
   "cell_type": "markdown",
   "id": "f9dc2d26",
   "metadata": {},
   "source": [
    "**No form is better than the other, it only depends on readability. If you think the second form is easier to understand, then by all means, use that one.**\n",
    "\n",
    "## Including `else` clause\n",
    "\n",
    "**There is a way to use the full `if` and `else` clause in list comprehension, by adding the conditional statement in the expression part of the list comprehension syntax.**"
   ]
  },
  {
   "cell_type": "code",
   "execution_count": 8,
   "id": "dad04d1b",
   "metadata": {},
   "outputs": [
    {
     "name": "stdout",
     "output_type": "stream",
     "text": [
      "Meal has been skipped\n",
      "Meal has been skipped\n",
      "Meal has been skipped\n",
      "Meal has been skipped\n",
      "Meal has been skipped\n",
      "Meal has been skipped\n",
      "Meal has been skipped\n",
      "[['egg', 'sausage', 'bacon'], ['chicken', 'chips']]\n"
     ]
    }
   ],
   "source": [
    "# Using for loop\n",
    "\n",
    "meals = []\n",
    "\n",
    "for meal in menu:\n",
    "    if \"spam\" not in meal:\n",
    "        meals.append(meal)\n",
    "    else:\n",
    "        print(\"Meal has been skipped\")\n",
    "\n",
    "print(meals)"
   ]
  },
  {
   "cell_type": "code",
   "execution_count": 9,
   "id": "944cdc74",
   "metadata": {},
   "outputs": [
    {
     "name": "stdout",
     "output_type": "stream",
     "text": [
      "[['egg', 'sausage', 'bacon'], ['chicken', 'chips']]\n"
     ]
    }
   ],
   "source": [
    "# Using List Comprehension\n",
    "\n",
    "meals = [meal for meal in menu if \"spam\" not in meal]\n",
    "\n",
    "print(meals)"
   ]
  },
  {
   "cell_type": "code",
   "execution_count": 13,
   "id": "4f462bd0",
   "metadata": {},
   "outputs": [
    {
     "name": "stdout",
     "output_type": "stream",
     "text": [
      "['Meal has been skipped', ['egg', 'sausage', 'bacon'], 'Meal has been skipped', 'Meal has been skipped', 'Meal has been skipped', 'Meal has been skipped', 'Meal has been skipped', 'Meal has been skipped', ['chicken', 'chips']]\n"
     ]
    }
   ],
   "source": [
    "meals = [meal if \"spam\" not in meal else \"Meal has been skipped\" for meal in menu]\n",
    "\n",
    "print(meals)"
   ]
  },
  {
   "cell_type": "markdown",
   "id": "4b6c042f",
   "metadata": {},
   "source": [
    "**The filter is removed and the condition is written in the expression section of the list comprehension. The expression part can be complicated as you need, but it is best to use a function in that case.**"
   ]
  },
  {
   "cell_type": "code",
   "execution_count": 15,
   "id": "165113f3",
   "metadata": {},
   "outputs": [
    {
     "name": "stdout",
     "output_type": "stream",
     "text": [
      "['egg', 'spam', 'bacon'] contains bacon\n",
      "['egg', 'sausage', 'bacon'] contains bacon\n",
      "['egg', 'spam'] contains egg\n",
      "['egg', 'bacon', 'spam'] contains bacon\n",
      "['egg', 'bacon', 'sausage', 'spam'] contains bacon\n",
      "['spam', 'bacon', 'sausage', 'spam'] contains bacon\n",
      "['spam', 'egg', 'spam', 'spam', 'bacon', 'spam'] contains bacon\n",
      "['spam', 'egg', 'sausage', 'spam'] contains egg\n",
      "['chicken', 'chips'] contains chicken\n"
     ]
    }
   ],
   "source": [
    "for meal in menu:\n",
    "    print(meal, \"contains chicken\" if \"chicken\" in meal else \"contains bacon\" if \"bacon\" in meal else \"contains egg\")"
   ]
  },
  {
   "cell_type": "markdown",
   "id": "f2dc6f59",
   "metadata": {},
   "source": [
    "**Order matters when creating the conditional expression. The \"contains egg\" statement is the default output and should appear last.**\n",
    "\n",
    "**Take the FizzBuzz game. Since you are going through a range of numbers, iterate over those numbers to output Fizz, Buzz or FizzBuzz using comprehension. Note the order of the conditions! The string function is the last condition (so that every output is string datatype for consistency)**"
   ]
  },
  {
   "cell_type": "code",
   "execution_count": 28,
   "id": "46978d02",
   "metadata": {},
   "outputs": [
    {
     "name": "stdout",
     "output_type": "stream",
     "text": [
      "fizzbuzz\n",
      "1\n",
      "2\n",
      "fizz\n",
      "4\n",
      "buzz\n",
      "fizz\n",
      "7\n",
      "8\n",
      "fizz\n",
      "buzz\n",
      "11\n",
      "fizz\n",
      "13\n",
      "14\n",
      "fizzbuzz\n",
      "16\n",
      "17\n",
      "fizz\n",
      "19\n",
      "buzz\n",
      "fizz\n",
      "22\n",
      "23\n",
      "fizz\n",
      "buzz\n",
      "26\n",
      "fizz\n",
      "28\n",
      "29\n",
      "fizzbuzz\n"
     ]
    }
   ],
   "source": [
    "for x in range(31):\n",
    "    fizzbuzz = \"fizzbuzz\" if x % 15 == 0 else \"fizz\" if x % 3 == 0 else \"buzz\" if x % 5 == 0 else str(x)\n",
    "    print(fizzbuzz)"
   ]
  },
  {
   "cell_type": "markdown",
   "id": "6b6693e7",
   "metadata": {},
   "source": [
    "**Use the expression above to produce the same results in a list comprehension.** "
   ]
  },
  {
   "cell_type": "code",
   "execution_count": 29,
   "id": "88c52c13",
   "metadata": {},
   "outputs": [
    {
     "name": "stdout",
     "output_type": "stream",
     "text": [
      "['fizzbuzz', '1', '2', 'fizz', '4', 'buzz', 'fizz', '7', '8', 'fizz', 'buzz', '11', 'fizz', '13', '14', 'fizzbuzz', '16', '17', 'fizz', '19', 'buzz', 'fizz', '22', '23', 'fizz', 'buzz', '26', 'fizz', '28', '29', 'fizzbuzz']\n"
     ]
    }
   ],
   "source": [
    "fizzbuzz = [\"fizzbuzz\" if x % 15 == 0 else \"fizz\" if x % 3 == 0 else \"buzz\" if x % 5 == 0 else str(x) for x in range(31)]\n",
    "\n",
    "print(fizzbuzz)"
   ]
  },
  {
   "cell_type": "markdown",
   "id": "25a01063",
   "metadata": {},
   "source": [
    "**Remember that you can use any other iterable to filter results when looping over an iterable.**"
   ]
  },
  {
   "cell_type": "code",
   "execution_count": 25,
   "id": "7f0fc26d",
   "metadata": {},
   "outputs": [
    {
     "name": "stdout",
     "output_type": "stream",
     "text": [
      "{'sausage', 'egg', 'chicken', 'chips', 'spam', 'bacon'}\n"
     ]
    }
   ],
   "source": [
    "items = set()\n",
    "\n",
    "for meal in menu:\n",
    "    for item in meal:\n",
    "        items.add(item)\n",
    "\n",
    "print(items)"
   ]
  },
  {
   "cell_type": "code",
   "execution_count": 26,
   "id": "22cdc312",
   "metadata": {},
   "outputs": [
    {
     "name": "stdout",
     "output_type": "stream",
     "text": [
      "['egg', 'spam', 'bacon'] contains egg\n",
      "['egg', 'sausage', 'bacon'] contains sausage\n",
      "['egg', 'spam'] contains egg\n",
      "['egg', 'bacon', 'spam'] contains egg\n",
      "['egg', 'bacon', 'sausage', 'spam'] contains sausage\n",
      "['spam', 'bacon', 'sausage', 'spam'] contains sausage\n",
      "['spam', 'egg', 'spam', 'spam', 'bacon', 'spam'] contains egg\n",
      "['spam', 'egg', 'sausage', 'spam'] contains sausage\n",
      "['chicken', 'chips'] contains chicken\n"
     ]
    }
   ],
   "source": [
    "# Iterate over each meal with items set, i.e nested for loops\n",
    "\n",
    "for meal in menu:\n",
    "    for item in items:\n",
    "        if item in meal:\n",
    "            print(f\"{meal} contains {item}\")\n",
    "            break"
   ]
  },
  {
   "cell_type": "markdown",
   "id": "3b49c780",
   "metadata": {},
   "source": [
    "## Challenge\n",
    "\n",
    "**Create a comprehension that returns a list of all the locations that have an exit to the forest.**\n",
    "\n",
    "**The list should contain the description of each location, if it is possible to get to the forest from there. The forest is location 5 in the `locations` dictionary. The exits for each location are represented in the `exits` dictionary.**\n",
    "\n",
    "**HINT: Dictionaries have `values()` method to return list of values.**\n",
    "\n",
    "**Basically, the forest can be reached from the road (location 1) and the hill (location 2), and those locations should have the descriptions in the list output.**"
   ]
  },
  {
   "cell_type": "code",
   "execution_count": 6,
   "id": "13bebdb9",
   "metadata": {},
   "outputs": [],
   "source": [
    "# Key - Location ID / Value - Description \n",
    "locations = {0: \"You are sitting in front of a computer learning Python\",\n",
    "             1: \"You are standing at the end of a road before a small brick building\",\n",
    "             2: \"You are at the top of a hill\",\n",
    "             3: \"You are inside a building, a well house for a small stream\",\n",
    "             4: \"You are in a valley beside a stream\",\n",
    "             5: \"You are in the forest\"}\n",
    "\n",
    "# Key - Exit ID / Value - Dict of locations to exit (location IDs are values)\n",
    "exits = {0: {\"Q\": 0},\n",
    "         1: {\"W\": 2, \"E\": 3, \"N\": 5, \"S\": 4, \"Q\": 0},\n",
    "         2: {\"N\": 5, \"Q\": 0},\n",
    "         3: {\"W\": 1, \"Q\": 0},\n",
    "         4: {\"N\": 1, \"W\": 2, \"Q\": 0},\n",
    "         5: {\"W\": 2, \"S\": 1, \"Q\": 0}}"
   ]
  },
  {
   "cell_type": "code",
   "execution_count": 3,
   "id": "5880a113",
   "metadata": {},
   "outputs": [
    {
     "name": "stdout",
     "output_type": "stream",
     "text": [
      "['You are standing at the end of a road before a small brick building', 'You are at the top of a hill']\n"
     ]
    }
   ],
   "source": [
    "# Use for loops\n",
    "\n",
    "forest_locations = []\n",
    "\n",
    "for location in locations:\n",
    "    for exit in exits:\n",
    "        if location == exit:\n",
    "            if 5 in exits[exit].values():\n",
    "                forest_locations.append(locations[location])\n",
    "\n",
    "print(forest_locations)"
   ]
  },
  {
   "cell_type": "code",
   "execution_count": 4,
   "id": "02e651aa",
   "metadata": {},
   "outputs": [
    {
     "name": "stdout",
     "output_type": "stream",
     "text": [
      "['You are standing at the end of a road before a small brick building', 'You are at the top of a hill']\n"
     ]
    }
   ],
   "source": [
    "# Use list comprehension\n",
    "\n",
    "forest_locations = [locations[location] for location in locations for exit in exits if location == exit if 5 in exits[exit].values()]\n",
    "\n",
    "print(forest_locations)"
   ]
  },
  {
   "cell_type": "code",
   "execution_count": 7,
   "id": "b10650a4",
   "metadata": {},
   "outputs": [
    {
     "name": "stdout",
     "output_type": "stream",
     "text": [
      "['You are inside a building, a well house for a small stream', 'You are in a valley beside a stream', 'You are in the forest']\n"
     ]
    }
   ],
   "source": [
    "# Test program with different locations\n",
    "\n",
    "loc = [locations[location] for location in locations for exit in exits if location == exit if 1 in exits[exit].values()]\n",
    "\n",
    "print(loc)"
   ]
  },
  {
   "cell_type": "code",
   "execution_count": 8,
   "id": "2026cdf8",
   "metadata": {},
   "outputs": [
    {
     "name": "stdout",
     "output_type": "stream",
     "text": [
      "['You are standing at the end of a road before a small brick building']\n"
     ]
    }
   ],
   "source": [
    "loc = [locations[location] for location in locations for exit in exits if location == exit if 4 in exits[exit].values()]\n",
    "\n",
    "print(loc)"
   ]
  },
  {
   "cell_type": "markdown",
   "id": "9b05e3d1",
   "metadata": {},
   "source": [
    "**Modify the program so that the comprehension returns a list of tuples, where each tuple contains location number and description.**\n",
    "\n",
    "    MUCH SIMPLER FORM!!! Teacher's example\n",
    "    \n",
    "    forest_locations = [locations[exit] for exit in exits if 5 in exits[exit].values()]\n",
    "\n",
    "**NOTE: The variable exit should be refactored since there already exists an `exit` name in Python.**"
   ]
  },
  {
   "cell_type": "code",
   "execution_count": 14,
   "id": "931c1c03",
   "metadata": {},
   "outputs": [
    {
     "name": "stdout",
     "output_type": "stream",
     "text": [
      "[(1, 'You are standing at the end of a road before a small brick building'), (2, 'You are at the top of a hill')]\n"
     ]
    }
   ],
   "source": [
    "forest_locations = [(exit, locations[location]) for location in locations for exit in exits if location == exit if 5 in exits[exit].values()]\n",
    "\n",
    "print(forest_locations)"
   ]
  },
  {
   "cell_type": "markdown",
   "id": "8d995b7a",
   "metadata": {},
   "source": [
    "**Wrap the comprehension in a `for` loop to print lists of all locations that lead to each of the other locations in turn.**\n",
    "\n",
    "**HINT: Use `for` loop to run the comprehension for each key in the `locations` dictionary**"
   ]
  },
  {
   "cell_type": "code",
   "execution_count": 15,
   "id": "b3a24432",
   "metadata": {},
   "outputs": [
    {
     "name": "stdout",
     "output_type": "stream",
     "text": [
      "\tLocations leading to 0 are:\n",
      "[(0, 'You are sitting in front of a computer learning Python'), (1, 'You are standing at the end of a road before a small brick building'), (2, 'You are at the top of a hill'), (3, 'You are inside a building, a well house for a small stream'), (4, 'You are in a valley beside a stream'), (5, 'You are in the forest')]\n",
      "\tLocations leading to 1 are:\n",
      "[(3, 'You are inside a building, a well house for a small stream'), (4, 'You are in a valley beside a stream'), (5, 'You are in the forest')]\n",
      "\tLocations leading to 2 are:\n",
      "[(1, 'You are standing at the end of a road before a small brick building'), (4, 'You are in a valley beside a stream'), (5, 'You are in the forest')]\n",
      "\tLocations leading to 3 are:\n",
      "[(1, 'You are standing at the end of a road before a small brick building')]\n",
      "\tLocations leading to 4 are:\n",
      "[(1, 'You are standing at the end of a road before a small brick building')]\n",
      "\tLocations leading to 5 are:\n",
      "[(1, 'You are standing at the end of a road before a small brick building'), (2, 'You are at the top of a hill')]\n"
     ]
    }
   ],
   "source": [
    "for loc in sorted(locations):\n",
    "    locs = [(exit, locations[exit]) for exit in exits if loc in exits[exit].values()]\n",
    "    print(f\"\\tLocations leading to {loc} are:\")\n",
    "    print(locs)"
   ]
  },
  {
   "cell_type": "markdown",
   "id": "08c88451",
   "metadata": {},
   "source": [
    "**Now, convert the program to `for` loops, i.e. go the other way. This means iterating over exit dictionary to output the same results as above and nesting that within an outer loop.**"
   ]
  },
  {
   "cell_type": "code",
   "execution_count": 19,
   "id": "1877d03e",
   "metadata": {},
   "outputs": [
    {
     "name": "stdout",
     "output_type": "stream",
     "text": [
      "\tLocations leading to 0 are:\n",
      "['You are sitting in front of a computer learning Python', 'You are standing at the end of a road before a small brick building', 'You are at the top of a hill', 'You are inside a building, a well house for a small stream', 'You are in a valley beside a stream', 'You are in the forest']\n",
      "\tLocations leading to 1 are:\n",
      "['You are inside a building, a well house for a small stream', 'You are in a valley beside a stream', 'You are in the forest']\n",
      "\tLocations leading to 2 are:\n",
      "['You are standing at the end of a road before a small brick building', 'You are in a valley beside a stream', 'You are in the forest']\n",
      "\tLocations leading to 3 are:\n",
      "['You are standing at the end of a road before a small brick building']\n",
      "\tLocations leading to 4 are:\n",
      "['You are standing at the end of a road before a small brick building']\n",
      "\tLocations leading to 5 are:\n",
      "['You are standing at the end of a road before a small brick building', 'You are at the top of a hill']\n"
     ]
    }
   ],
   "source": [
    "for loc in sorted(locations):\n",
    "    locs = []\n",
    "    for exit in exits:\n",
    "        if loc in exits[exit].values():\n",
    "            locs.append(locations[exit])\n",
    "    \n",
    "    print(f\"\\tLocations leading to {loc} are:\")\n",
    "    print(locs)"
   ]
  },
  {
   "cell_type": "code",
   "execution_count": 20,
   "id": "2c2e805f",
   "metadata": {},
   "outputs": [
    {
     "name": "stdout",
     "output_type": "stream",
     "text": [
      "\tLocations leading to 0 are:\n",
      "[(0, 'You are sitting in front of a computer learning Python'), (1, 'You are standing at the end of a road before a small brick building'), (2, 'You are at the top of a hill'), (3, 'You are inside a building, a well house for a small stream'), (4, 'You are in a valley beside a stream'), (5, 'You are in the forest')]\n",
      "\tLocations leading to 1 are:\n",
      "[(3, 'You are inside a building, a well house for a small stream'), (4, 'You are in a valley beside a stream'), (5, 'You are in the forest')]\n",
      "\tLocations leading to 2 are:\n",
      "[(1, 'You are standing at the end of a road before a small brick building'), (4, 'You are in a valley beside a stream'), (5, 'You are in the forest')]\n",
      "\tLocations leading to 3 are:\n",
      "[(1, 'You are standing at the end of a road before a small brick building')]\n",
      "\tLocations leading to 4 are:\n",
      "[(1, 'You are standing at the end of a road before a small brick building')]\n",
      "\tLocations leading to 5 are:\n",
      "[(1, 'You are standing at the end of a road before a small brick building'), (2, 'You are at the top of a hill')]\n"
     ]
    }
   ],
   "source": [
    "# To return list of tuples (location ID & description)\n",
    "\n",
    "for loc in sorted(locations):\n",
    "    locs = []\n",
    "    for exit in exits:\n",
    "        if loc in exits[exit].values():\n",
    "            locs.append((exit, locations[exit]))\n",
    "    \n",
    "    print(f\"\\tLocations leading to {loc} are:\")\n",
    "    print(locs)"
   ]
  },
  {
   "cell_type": "code",
   "execution_count": null,
   "id": "0e788dfe",
   "metadata": {},
   "outputs": [],
   "source": []
  }
 ],
 "metadata": {
  "kernelspec": {
   "display_name": "Python 3 (ipykernel)",
   "language": "python",
   "name": "python3"
  },
  "language_info": {
   "codemirror_mode": {
    "name": "ipython",
    "version": 3
   },
   "file_extension": ".py",
   "mimetype": "text/x-python",
   "name": "python",
   "nbconvert_exporter": "python",
   "pygments_lexer": "ipython3",
   "version": "3.9.17"
  }
 },
 "nbformat": 4,
 "nbformat_minor": 5
}
