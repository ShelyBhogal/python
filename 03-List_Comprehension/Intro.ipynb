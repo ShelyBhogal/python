{
 "cells": [
  {
   "cell_type": "markdown",
   "id": "6d2be1f0",
   "metadata": {},
   "source": [
    "# List Comprehension\n",
    "\n",
    "**Lets review the basics of iterating over a sequence, e.g. a list, with a normal `for` loop to produce a transformed output of the sequence.**"
   ]
  },
  {
   "cell_type": "code",
   "execution_count": null,
   "id": "daef3cf1",
   "metadata": {},
   "outputs": [],
   "source": [
    "# Print module path, if loaded\n",
    "\n",
    "#print(__file__)"
   ]
  },
  {
   "cell_type": "code",
   "execution_count": 2,
   "id": "59f11346",
   "metadata": {},
   "outputs": [
    {
     "name": "stdout",
     "output_type": "stream",
     "text": [
      "[1, 4, 9, 16, 25, 36]\n"
     ]
    }
   ],
   "source": [
    "# Input sequence\n",
    "numbers = [1, 2, 3, 4, 5, 6]\n",
    "\n",
    "# Output sequence (to be populated)\n",
    "squares = []\n",
    "\n",
    "for number in numbers:\n",
    "    squares.append(number ** 2)\n",
    "\n",
    "print(squares)"
   ]
  },
  {
   "cell_type": "markdown",
   "id": "97293d13",
   "metadata": {},
   "source": [
    "**The same iteration as a list comprehension:**"
   ]
  },
  {
   "cell_type": "code",
   "execution_count": 3,
   "id": "58c81961",
   "metadata": {},
   "outputs": [
    {
     "name": "stdout",
     "output_type": "stream",
     "text": [
      "[1, 4, 9, 16, 25, 36]\n"
     ]
    }
   ],
   "source": [
    "# Input sequence\n",
    "numbers = [1, 2, 3, 4, 5, 6]\n",
    "\n",
    "# Output sequence (initialized and populated at same time)\n",
    "squares = [number ** 2 for number in numbers]\n",
    "\n",
    "print(squares)"
   ]
  },
  {
   "cell_type": "markdown",
   "id": "8eacf9de",
   "metadata": {},
   "source": [
    "**List comprehension 'flattens out' the `for` loop into one line of code:**\n",
    "\n",
    "    new_list = [<expression> for item in iterable]\n",
    "\n",
    "**Each item in the iterable is evaluated against the expression, keeping the `for` and `in` keywords. This can be applied to any iterable type, e.g. string or generator.**\n",
    "\n",
    "**You can surround the statement with curly brackets to make a set comprehension:**"
   ]
  },
  {
   "cell_type": "code",
   "execution_count": 4,
   "id": "1e3f6e85",
   "metadata": {},
   "outputs": [
    {
     "name": "stdout",
     "output_type": "stream",
     "text": [
      "{1, 4, 36, 9, 16, 25}\n"
     ]
    }
   ],
   "source": [
    "# Input sequence\n",
    "numbers = [1, 2, 3, 4, 5, 6]\n",
    "\n",
    "# Output sequence (initialized and populated at same time)\n",
    "squares = {number ** 2 for number in numbers}\n",
    "\n",
    "print(squares)"
   ]
  },
  {
   "cell_type": "markdown",
   "id": "9540e7b1",
   "metadata": {},
   "source": [
    "## With string iterable\n",
    "\n",
    "**Since strings are iterables, you can use them as input for list comprehension. Remember that the each character in a string is considered an individual item, so comprehension returns a list of the transformed characters, i.e. each character separated by comma.**"
   ]
  },
  {
   "cell_type": "code",
   "execution_count": 5,
   "id": "518fdbd5",
   "metadata": {},
   "outputs": [
    {
     "name": "stdout",
     "output_type": "stream",
     "text": [
      "['W', 'H', 'A', 'T', ' ', 'H', 'A', 'V', 'E', ' ', 'T', 'H', 'E', ' ', 'R', 'O', 'M', 'A', 'N', 'S', ' ', 'E', 'V', 'E', 'R', ' ', 'D', 'O', 'N', 'E', ' ', 'F', 'O', 'R', ' ', 'U', 'S', '?']\n"
     ]
    }
   ],
   "source": [
    "text = \"what have the romans ever done for us?\"\n",
    "\n",
    "capitals = [char.upper() for char in text]\n",
    "\n",
    "print(capitals)"
   ]
  },
  {
   "cell_type": "code",
   "execution_count": 6,
   "id": "3290613a",
   "metadata": {},
   "outputs": [
    {
     "name": "stdout",
     "output_type": "stream",
     "text": [
      "['WHAT', 'HAVE', 'THE', 'ROMANS', 'EVER', 'DONE', 'FOR', 'US?']\n"
     ]
    }
   ],
   "source": [
    "words = [word.upper() for word in text.split(' ')]\n",
    "\n",
    "print(words)"
   ]
  },
  {
   "cell_type": "markdown",
   "id": "b3e8e836",
   "metadata": {},
   "source": [
    "## Why are list comprehensions useful?\n",
    "\n",
    "**Looking at a previous program to center printed text, update the function to use list comprehension.**\n",
    "\n",
    "    def center_text(*args):\n",
    "        text = \"\"\n",
    "    \n",
    "        for arg in args:\n",
    "            text += str(arg) + \" \"\n",
    "    \n",
    "        left_margin = (80 - len(text)) // 2\n",
    "        print(\" \" * left_margin, text)"
   ]
  },
  {
   "cell_type": "code",
   "execution_count": 16,
   "id": "76eb3a6c",
   "metadata": {},
   "outputs": [],
   "source": [
    "def center_text(*args):\n",
    "    text = \" \".join([str(arg) for arg in args])\n",
    "    \n",
    "    left_margin = (80 - len(text)) // 2\n",
    "    print(\" \" * left_margin, text)"
   ]
  },
  {
   "cell_type": "code",
   "execution_count": 17,
   "id": "29d6acfb",
   "metadata": {},
   "outputs": [
    {
     "name": "stdout",
     "output_type": "stream",
     "text": [
      "                                  spam and eggs\n",
      "                               spam, spam and eggs\n",
      "                                        12\n",
      "                            spam, spam, spam and spam\n",
      "                              first second 3 4 spam\n"
     ]
    }
   ],
   "source": [
    "center_text(\"spam and eggs\")\n",
    "center_text(\"spam, spam and eggs\")\n",
    "center_text(12)\n",
    "center_text(\"spam, spam, spam and spam\")\n",
    "center_text(\"first\", \"second\", 3, 4, \"spam\")"
   ]
  },
  {
   "cell_type": "markdown",
   "id": "61bf5f40",
   "metadata": {},
   "source": [
    "**You have avoided concatenating the string arguments in a `for` loop and used `join()` method to join the arguments while making sure they are string datatype in a comprehension.**\n",
    "\n",
    "**This is easier to read, and what if you wanted to separate each argument with a hyphen (omitting a trailing hyphen), so that you know what the separate arguments are in the printed output? You simply use a hyphen (`-`) in the `join()` statement.**"
   ]
  },
  {
   "cell_type": "code",
   "execution_count": 18,
   "id": "46864710",
   "metadata": {},
   "outputs": [],
   "source": [
    "def center_text(*args):\n",
    "    text = \"-\".join([str(arg) for arg in args])\n",
    "    \n",
    "    left_margin = (80 - len(text)) // 2\n",
    "    print(\" \" * left_margin, text)"
   ]
  },
  {
   "cell_type": "code",
   "execution_count": 20,
   "id": "51860d9c",
   "metadata": {},
   "outputs": [
    {
     "name": "stdout",
     "output_type": "stream",
     "text": [
      "                                  spam and eggs\n",
      "                               spam, spam and eggs\n",
      "                                      1-2-3\n",
      "                            spam, spam, spam and spam\n",
      "                              first-second-3-4-spam\n"
     ]
    }
   ],
   "source": [
    "center_text(\"spam and eggs\")\n",
    "center_text(\"spam, spam and eggs\")\n",
    "center_text(1, 2, 3)\n",
    "center_text(\"spam, spam, spam and spam\")\n",
    "center_text(\"first\", \"second\", 3, 4, \"spam\")"
   ]
  },
  {
   "cell_type": "markdown",
   "id": "583a4553",
   "metadata": {},
   "source": [
    "**NOTE: If you do not include the square brackets in the list comprehension (which you will see often), this becomes a GENERATOR EXPRESSION. You still get the same output, but the joining happens on-the-fly.**\n",
    "\n",
    "    text = \"-\".join(str(arg) for arg in args)\n",
    "\n",
    "**List comprehensions differ from `for` loop especially when using user input (inclusively between 0 and 6). When adding user input, only 36 (`6 ** 2`) is returned. If you use list comprehension, this is not a problem.**"
   ]
  },
  {
   "cell_type": "code",
   "execution_count": 6,
   "id": "0370b1b9",
   "metadata": {},
   "outputs": [
    {
     "name": "stdout",
     "output_type": "stream",
     "text": [
      "Please enter a number between 1 and 6: 2\n",
      "36\n"
     ]
    }
   ],
   "source": [
    "# For loop\n",
    "\n",
    "numbers = [1, 2, 3, 4, 5, 6]\n",
    "\n",
    "number = int(input(\"Please enter a number between 1 and 6: \"))\n",
    "\n",
    "squares = []\n",
    "\n",
    "for number in numbers:\n",
    "    squares.append(number ** 2)\n",
    "\n",
    "index_pos = numbers.index(number)\n",
    "\n",
    "print(squares[index_pos])"
   ]
  },
  {
   "cell_type": "code",
   "execution_count": 9,
   "id": "efb11e0b",
   "metadata": {},
   "outputs": [
    {
     "name": "stdout",
     "output_type": "stream",
     "text": [
      "Please enter a number between 1 and 6: 4\n",
      "16\n"
     ]
    }
   ],
   "source": [
    "# List comprehension\n",
    "\n",
    "numbers = [1, 2, 3, 4, 5, 6]\n",
    "\n",
    "number = int(input(\"Please enter a number between 1 and 6: \"))\n",
    "\n",
    "squares = [number ** 2 for number in numbers]\n",
    "\n",
    "index_pos = numbers.index(number)\n",
    "\n",
    "print(squares[index_pos])"
   ]
  },
  {
   "cell_type": "markdown",
   "id": "aebb7c16",
   "metadata": {},
   "source": [
    "**It works! The comprehension creates a new list then-and-there, so instead of only returning the last item iterated, it gives back the final output. There is no nasty side effect because there is no existing variable being modified.**\n",
    "\n",
    "## Challenge 1\n",
    "\n",
    "**Rewrite the following programs to use list comprehension instead of `for` loop. Make sure to check that both methods produce exactly the same list (and avoid entering input text twice).**\n",
    "\n",
    "**PRINT OUT LENGTH OF EACH WORD IN STRING**"
   ]
  },
  {
   "cell_type": "code",
   "execution_count": 25,
   "id": "a6a85eba",
   "metadata": {},
   "outputs": [
    {
     "name": "stdout",
     "output_type": "stream",
     "text": [
      "Please enter text:\n",
      "I am the snow??\n",
      "[1, 2, 3, 6]\n",
      "\n",
      "[1, 2, 3, 6]\n"
     ]
    }
   ],
   "source": [
    "text = input(\"Please enter text:\\n\")\n",
    " \n",
    "output_for = []\n",
    "\n",
    "for x in text.split():\n",
    "    output_for.append(len(x))\n",
    "\n",
    "print(output_for)\n",
    "\n",
    "print()\n",
    "\n",
    "# --------------------- SOLUTION:\n",
    "\n",
    "output_comp = [len(x) for x in text.split()]\n",
    "\n",
    "print(output_comp)"
   ]
  },
  {
   "cell_type": "markdown",
   "id": "9de540b5",
   "metadata": {},
   "source": [
    "**PRINT OUT EACH WORD AND ITS LENGTH FROM STRING**"
   ]
  },
  {
   "cell_type": "code",
   "execution_count": 23,
   "id": "501f1133",
   "metadata": {},
   "outputs": [
    {
     "name": "stdout",
     "output_type": "stream",
     "text": [
      "Please enter text:\n",
      "To be or not to be\n",
      "[('To', 2), ('be', 2), ('or', 2), ('not', 3), ('to', 2), ('be', 2)]\n",
      "\n",
      "[('To', 2), ('be', 2), ('or', 2), ('not', 3), ('to', 2), ('be', 2)]\n"
     ]
    }
   ],
   "source": [
    "text = input(\"Please enter text:\\n\")\n",
    "\n",
    "output_for = []\n",
    "\n",
    "# Note extra brackets so that you get tuples in a list\n",
    "for x in text.split():\n",
    "    output_for.append((x, len(x)))\n",
    "\n",
    "print(output_for)\n",
    "\n",
    "print()\n",
    "\n",
    "# -------------------- SOLUTION:\n",
    "\n",
    "output_comp = [(x, len(x)) for x in text.split()]\n",
    "\n",
    "print(output_comp)"
   ]
  },
  {
   "cell_type": "markdown",
   "id": "5352bc9c",
   "metadata": {},
   "source": [
    "**NOTE: You can make it a set comprehension by surrounding the comprehension with parentheses, but this means that duplicate words will be removed, i.e. `(('to', 2), ('be', 2), ('or', 2), ('not', 3))`. This can, of course, be useful in certain situations.**\n",
    "\n",
    "**NOTE: Any punctuation characters are included in the word length, which is undesirable in most cases. Use  .**\n",
    "\n",
    "## Challenge 2\n",
    "\n",
    "**In case it's not obvious, a list comprehension produces a list, but it doesn't have to be given a list to iterate over. You can use a list comprehension with any iterable type, so write a comprehension to convert given dimensions in a tuple from inches to centimetres. There are 2.54 centimetres to 1 inch. The dimensions are represented by a three-dimensional tuple - length, width and height in inches - so the output should mirror that in centimetres.**\n",
    "\n",
    "**Once you have the correct values, change the comprehension to produce a tuple rather than a list.**"
   ]
  },
  {
   "cell_type": "code",
   "execution_count": 26,
   "id": "4577262f",
   "metadata": {},
   "outputs": [
    {
     "name": "stdout",
     "output_type": "stream",
     "text": [
      "[7.62, 20.32, 50.8]\n",
      "(7.62, 20.32, 50.8)\n"
     ]
    }
   ],
   "source": [
    "# L x W x H\n",
    "inch_measurement = (3, 8, 20)\n",
    "\n",
    "cm_measurement = [d * 2.54 for d in inch_measurement]\n",
    "\n",
    "print(cm_measurement)\n",
    "\n",
    "cm_tuple = tuple([d * 2.54 for d in inch_measurement])\n",
    "\n",
    "print(cm_tuple)"
   ]
  },
  {
   "cell_type": "code",
   "execution_count": null,
   "id": "fcf62c39",
   "metadata": {},
   "outputs": [],
   "source": []
  }
 ],
 "metadata": {
  "kernelspec": {
   "display_name": "Python 3 (ipykernel)",
   "language": "python",
   "name": "python3"
  },
  "language_info": {
   "codemirror_mode": {
    "name": "ipython",
    "version": 3
   },
   "file_extension": ".py",
   "mimetype": "text/x-python",
   "name": "python",
   "nbconvert_exporter": "python",
   "pygments_lexer": "ipython3",
   "version": "3.9.17"
  }
 },
 "nbformat": 4,
 "nbformat_minor": 5
}
