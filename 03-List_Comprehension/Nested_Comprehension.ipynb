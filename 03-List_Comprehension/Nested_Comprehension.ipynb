{
 "cells": [
  {
   "cell_type": "markdown",
   "id": "5bd4cfd4",
   "metadata": {},
   "source": [
    "# Nested List Comprehensions\n",
    "\n",
    "**Just like nested `for` loops, you can get nested comprehensions.**"
   ]
  },
  {
   "cell_type": "code",
   "execution_count": 1,
   "id": "3799d33b",
   "metadata": {},
   "outputs": [],
   "source": [
    "burgers = [\"beef\", \"chicken\", \"spicy bean\"]\n",
    "\n",
    "toppings = [\"cheese\", \"egg\", \"beans\", \"spam\"]"
   ]
  },
  {
   "cell_type": "code",
   "execution_count": 2,
   "id": "adc0b0ff",
   "metadata": {},
   "outputs": [
    {
     "name": "stdout",
     "output_type": "stream",
     "text": [
      "[('beef', 'cheese'), ('beef', 'egg'), ('beef', 'beans'), ('beef', 'spam'), ('chicken', 'cheese'), ('chicken', 'egg'), ('chicken', 'beans'), ('chicken', 'spam'), ('spicy bean', 'cheese'), ('spicy bean', 'egg'), ('spicy bean', 'beans'), ('spicy bean', 'spam')]\n"
     ]
    }
   ],
   "source": [
    "meals = [(burger, topping) for burger in burgers for topping in toppings]\n",
    "\n",
    "print(meals)"
   ]
  },
  {
   "cell_type": "code",
   "execution_count": 4,
   "id": "445395c5",
   "metadata": {},
   "outputs": [
    {
     "name": "stdout",
     "output_type": "stream",
     "text": [
      "('beef', 'cheese')\n",
      "('beef', 'egg')\n",
      "('beef', 'beans')\n",
      "('beef', 'spam')\n",
      "('chicken', 'cheese')\n",
      "('chicken', 'egg')\n",
      "('chicken', 'beans')\n",
      "('chicken', 'spam')\n",
      "('spicy bean', 'cheese')\n",
      "('spicy bean', 'egg')\n",
      "('spicy bean', 'beans')\n",
      "('spicy bean', 'spam')\n"
     ]
    }
   ],
   "source": [
    "# Equivalent for loop\n",
    "\n",
    "for burger in burgers:\n",
    "    for topping in toppings:\n",
    "        print((burger, topping))"
   ]
  },
  {
   "cell_type": "markdown",
   "id": "e76f0ff1",
   "metadata": {},
   "source": [
    "**By adding brackets to the nested comprehension, you can re-structure the output as you need. Note that the `toppings` list has become the outer iterable now, even though the order hasn't changed in the syntax.** "
   ]
  },
  {
   "cell_type": "code",
   "execution_count": 5,
   "id": "0c9e6714",
   "metadata": {},
   "outputs": [
    {
     "name": "stdout",
     "output_type": "stream",
     "text": [
      "[[('beef', 'cheese'), ('chicken', 'cheese'), ('spicy bean', 'cheese')], [('beef', 'egg'), ('chicken', 'egg'), ('spicy bean', 'egg')], [('beef', 'beans'), ('chicken', 'beans'), ('spicy bean', 'beans')], [('beef', 'spam'), ('chicken', 'spam'), ('spicy bean', 'spam')]]\n"
     ]
    }
   ],
   "source": [
    "meals = [[(burger, topping) for burger in burgers] for topping in toppings]\n",
    "\n",
    "print(meals)"
   ]
  },
  {
   "cell_type": "code",
   "execution_count": 6,
   "id": "5839004f",
   "metadata": {},
   "outputs": [
    {
     "name": "stdout",
     "output_type": "stream",
     "text": [
      "[('beef', 'cheese'), ('chicken', 'cheese'), ('spicy bean', 'cheese')]\n",
      "[('beef', 'egg'), ('chicken', 'egg'), ('spicy bean', 'egg')]\n",
      "[('beef', 'beans'), ('chicken', 'beans'), ('spicy bean', 'beans')]\n",
      "[('beef', 'spam'), ('chicken', 'spam'), ('spicy bean', 'spam')]\n"
     ]
    }
   ],
   "source": [
    "# Outer loop uses `toppings`\n",
    "\n",
    "for meals in [[(burger, topping) for burger in burgers] for topping in toppings]:\n",
    "    print(meals)"
   ]
  },
  {
   "cell_type": "code",
   "execution_count": 7,
   "id": "6cdceeee",
   "metadata": {},
   "outputs": [
    {
     "name": "stdout",
     "output_type": "stream",
     "text": [
      "[('beef', 'cheese'), ('beef', 'egg'), ('beef', 'beans'), ('beef', 'spam')]\n",
      "[('chicken', 'cheese'), ('chicken', 'egg'), ('chicken', 'beans'), ('chicken', 'spam')]\n",
      "[('spicy bean', 'cheese'), ('spicy bean', 'egg'), ('spicy bean', 'beans'), ('spicy bean', 'spam')]\n"
     ]
    }
   ],
   "source": [
    "# Outer loop uses `burgers`\n",
    "\n",
    "for meals in [[(burger, topping) for topping in toppings] for burger in burgers]:\n",
    "    print(meals)"
   ]
  },
  {
   "cell_type": "markdown",
   "id": "b8d9897b",
   "metadata": {},
   "source": [
    "**Based on nested `for` loops that produces the twelve-times table (values 1-12), build the nested list comprehension to produce the same result.**\n",
    "\n",
    "**You can iterate over the number ranges to either print the list or produce same output as below.**"
   ]
  },
  {
   "cell_type": "code",
   "execution_count": 14,
   "id": "c6281810",
   "metadata": {},
   "outputs": [
    {
     "name": "stdout",
     "output_type": "stream",
     "text": [
      "1 1\n",
      "1 2\n",
      "1 3\n",
      "1 4\n",
      "1 5\n",
      "1 6\n",
      "1 7\n",
      "1 8\n",
      "1 9\n",
      "1 10\n",
      "1 11\n",
      "1 12\n",
      "2 2\n",
      "2 4\n",
      "2 6\n",
      "2 8\n",
      "2 10\n",
      "2 12\n",
      "2 14\n",
      "2 16\n",
      "2 18\n",
      "2 20\n",
      "2 22\n",
      "2 24\n",
      "3 3\n",
      "3 6\n",
      "3 9\n",
      "3 12\n",
      "3 15\n",
      "3 18\n",
      "3 21\n",
      "3 24\n",
      "3 27\n",
      "3 30\n",
      "3 33\n",
      "3 36\n",
      "4 4\n",
      "4 8\n",
      "4 12\n",
      "4 16\n",
      "4 20\n",
      "4 24\n",
      "4 28\n",
      "4 32\n",
      "4 36\n",
      "4 40\n",
      "4 44\n",
      "4 48\n",
      "5 5\n",
      "5 10\n",
      "5 15\n",
      "5 20\n",
      "5 25\n",
      "5 30\n",
      "5 35\n",
      "5 40\n",
      "5 45\n",
      "5 50\n",
      "5 55\n",
      "5 60\n",
      "6 6\n",
      "6 12\n",
      "6 18\n",
      "6 24\n",
      "6 30\n",
      "6 36\n",
      "6 42\n",
      "6 48\n",
      "6 54\n",
      "6 60\n",
      "6 66\n",
      "6 72\n",
      "7 7\n",
      "7 14\n",
      "7 21\n",
      "7 28\n",
      "7 35\n",
      "7 42\n",
      "7 49\n",
      "7 56\n",
      "7 63\n",
      "7 70\n",
      "7 77\n",
      "7 84\n",
      "8 8\n",
      "8 16\n",
      "8 24\n",
      "8 32\n",
      "8 40\n",
      "8 48\n",
      "8 56\n",
      "8 64\n",
      "8 72\n",
      "8 80\n",
      "8 88\n",
      "8 96\n",
      "9 9\n",
      "9 18\n",
      "9 27\n",
      "9 36\n",
      "9 45\n",
      "9 54\n",
      "9 63\n",
      "9 72\n",
      "9 81\n",
      "9 90\n",
      "9 99\n",
      "9 108\n",
      "10 10\n",
      "10 20\n",
      "10 30\n",
      "10 40\n",
      "10 50\n",
      "10 60\n",
      "10 70\n",
      "10 80\n",
      "10 90\n",
      "10 100\n",
      "10 110\n",
      "10 120\n",
      "11 11\n",
      "11 22\n",
      "11 33\n",
      "11 44\n",
      "11 55\n",
      "11 66\n",
      "11 77\n",
      "11 88\n",
      "11 99\n",
      "11 110\n",
      "11 121\n",
      "11 132\n",
      "12 12\n",
      "12 24\n",
      "12 36\n",
      "12 48\n",
      "12 60\n",
      "12 72\n",
      "12 84\n",
      "12 96\n",
      "12 108\n",
      "12 120\n",
      "12 132\n",
      "12 144\n"
     ]
    }
   ],
   "source": [
    "for i in range(1, 13):\n",
    "    for j in range(1, 13):\n",
    "        print(i, i * j)"
   ]
  },
  {
   "cell_type": "code",
   "execution_count": 12,
   "id": "310f97b0",
   "metadata": {},
   "outputs": [
    {
     "name": "stdout",
     "output_type": "stream",
     "text": [
      "[(1, 1), (1, 2), (1, 3), (1, 4), (1, 5), (1, 6), (1, 7), (1, 8), (1, 9), (1, 10), (1, 11), (1, 12), (2, 2), (2, 4), (2, 6), (2, 8), (2, 10), (2, 12), (2, 14), (2, 16), (2, 18), (2, 20), (2, 22), (2, 24), (3, 3), (3, 6), (3, 9), (3, 12), (3, 15), (3, 18), (3, 21), (3, 24), (3, 27), (3, 30), (3, 33), (3, 36), (4, 4), (4, 8), (4, 12), (4, 16), (4, 20), (4, 24), (4, 28), (4, 32), (4, 36), (4, 40), (4, 44), (4, 48), (5, 5), (5, 10), (5, 15), (5, 20), (5, 25), (5, 30), (5, 35), (5, 40), (5, 45), (5, 50), (5, 55), (5, 60), (6, 6), (6, 12), (6, 18), (6, 24), (6, 30), (6, 36), (6, 42), (6, 48), (6, 54), (6, 60), (6, 66), (6, 72), (7, 7), (7, 14), (7, 21), (7, 28), (7, 35), (7, 42), (7, 49), (7, 56), (7, 63), (7, 70), (7, 77), (7, 84), (8, 8), (8, 16), (8, 24), (8, 32), (8, 40), (8, 48), (8, 56), (8, 64), (8, 72), (8, 80), (8, 88), (8, 96), (9, 9), (9, 18), (9, 27), (9, 36), (9, 45), (9, 54), (9, 63), (9, 72), (9, 81), (9, 90), (9, 99), (9, 108), (10, 10), (10, 20), (10, 30), (10, 40), (10, 50), (10, 60), (10, 70), (10, 80), (10, 90), (10, 100), (10, 110), (10, 120), (11, 11), (11, 22), (11, 33), (11, 44), (11, 55), (11, 66), (11, 77), (11, 88), (11, 99), (11, 110), (11, 121), (11, 132), (12, 12), (12, 24), (12, 36), (12, 48), (12, 60), (12, 72), (12, 84), (12, 96), (12, 108), (12, 120), (12, 132), (12, 144)]\n"
     ]
    }
   ],
   "source": [
    "twelve_times = [(i, i * j) for i in range(1, 13) for j in range(1, 13)]\n",
    "\n",
    "print(twelve_times)"
   ]
  },
  {
   "cell_type": "code",
   "execution_count": 15,
   "id": "5cc6bcc4",
   "metadata": {},
   "outputs": [
    {
     "name": "stdout",
     "output_type": "stream",
     "text": [
      "1 1\n",
      "1 2\n",
      "1 3\n",
      "1 4\n",
      "1 5\n",
      "1 6\n",
      "1 7\n",
      "1 8\n",
      "1 9\n",
      "1 10\n",
      "1 11\n",
      "1 12\n",
      "2 2\n",
      "2 4\n",
      "2 6\n",
      "2 8\n",
      "2 10\n",
      "2 12\n",
      "2 14\n",
      "2 16\n",
      "2 18\n",
      "2 20\n",
      "2 22\n",
      "2 24\n",
      "3 3\n",
      "3 6\n",
      "3 9\n",
      "3 12\n",
      "3 15\n",
      "3 18\n",
      "3 21\n",
      "3 24\n",
      "3 27\n",
      "3 30\n",
      "3 33\n",
      "3 36\n",
      "4 4\n",
      "4 8\n",
      "4 12\n",
      "4 16\n",
      "4 20\n",
      "4 24\n",
      "4 28\n",
      "4 32\n",
      "4 36\n",
      "4 40\n",
      "4 44\n",
      "4 48\n",
      "5 5\n",
      "5 10\n",
      "5 15\n",
      "5 20\n",
      "5 25\n",
      "5 30\n",
      "5 35\n",
      "5 40\n",
      "5 45\n",
      "5 50\n",
      "5 55\n",
      "5 60\n",
      "6 6\n",
      "6 12\n",
      "6 18\n",
      "6 24\n",
      "6 30\n",
      "6 36\n",
      "6 42\n",
      "6 48\n",
      "6 54\n",
      "6 60\n",
      "6 66\n",
      "6 72\n",
      "7 7\n",
      "7 14\n",
      "7 21\n",
      "7 28\n",
      "7 35\n",
      "7 42\n",
      "7 49\n",
      "7 56\n",
      "7 63\n",
      "7 70\n",
      "7 77\n",
      "7 84\n",
      "8 8\n",
      "8 16\n",
      "8 24\n",
      "8 32\n",
      "8 40\n",
      "8 48\n",
      "8 56\n",
      "8 64\n",
      "8 72\n",
      "8 80\n",
      "8 88\n",
      "8 96\n",
      "9 9\n",
      "9 18\n",
      "9 27\n",
      "9 36\n",
      "9 45\n",
      "9 54\n",
      "9 63\n",
      "9 72\n",
      "9 81\n",
      "9 90\n",
      "9 99\n",
      "9 108\n",
      "10 10\n",
      "10 20\n",
      "10 30\n",
      "10 40\n",
      "10 50\n",
      "10 60\n",
      "10 70\n",
      "10 80\n",
      "10 90\n",
      "10 100\n",
      "10 110\n",
      "10 120\n",
      "11 11\n",
      "11 22\n",
      "11 33\n",
      "11 44\n",
      "11 55\n",
      "11 66\n",
      "11 77\n",
      "11 88\n",
      "11 99\n",
      "11 110\n",
      "11 121\n",
      "11 132\n",
      "12 12\n",
      "12 24\n",
      "12 36\n",
      "12 48\n",
      "12 60\n",
      "12 72\n",
      "12 84\n",
      "12 96\n",
      "12 108\n",
      "12 120\n",
      "12 132\n",
      "12 144\n"
     ]
    }
   ],
   "source": [
    "# Unpack tuple to produce same output as `for` loop\n",
    "\n",
    "for x, y in [(i, i * j) for i in range(1, 13) for j in range(1, 13)]:\n",
    "    print(x, y)"
   ]
  },
  {
   "cell_type": "code",
   "execution_count": null,
   "id": "d6c21db0",
   "metadata": {},
   "outputs": [],
   "source": []
  }
 ],
 "metadata": {
  "kernelspec": {
   "display_name": "Python 3 (ipykernel)",
   "language": "python",
   "name": "python3"
  },
  "language_info": {
   "codemirror_mode": {
    "name": "ipython",
    "version": 3
   },
   "file_extension": ".py",
   "mimetype": "text/x-python",
   "name": "python",
   "nbconvert_exporter": "python",
   "pygments_lexer": "ipython3",
   "version": "3.9.17"
  }
 },
 "nbformat": 4,
 "nbformat_minor": 5
}
