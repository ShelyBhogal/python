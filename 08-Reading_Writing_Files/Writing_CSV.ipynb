{
 "cells": [
  {
   "cell_type": "markdown",
   "id": "10d68ff9",
   "metadata": {},
   "source": [
    "# Writing data to CSV file\n",
    "\n",
    "**Writing content back to CSV file is much simpler than reading one in. Open the file for writing, create a writer object and write the data below to the CSV.**"
   ]
  },
  {
   "cell_type": "code",
   "execution_count": 1,
   "id": "d0a0ca50",
   "metadata": {},
   "outputs": [],
   "source": [
    "# List of lists\n",
    "\n",
    "cereals = [\n",
    "    ['Barley', 556.0, 1.7, 32.9, 10.1, 13.8], \n",
    "    ['Durum', 339.0, 5.0, 27.4, 4.09, 9.7], \n",
    "    ['Fonio', 240.0, 1.0, 4.0, 1.7, 0.05], \n",
    "    ['Maize', 442.0, 7.4, 37.45, 6.15, 11.03], \n",
    "    ['Millet', 484.0, 2.0, 37.9, 13.4, 9.15], \n",
    "    ['Oats', 231.0, 9.2, 35.1, 10.3, 3.73], \n",
    "    ['Rice (Brown)', 346.0, 2.8, 38.1, 9.9, 0.8], \n",
    "    ['Rice (White)', 345.0, 3.6, 37.6, 5.4, 0.1], \n",
    "    ['Rye', 422.0, 2.0, 31.4, 18.2, 21.2], \n",
    "    ['Sorghum', 316.0, 3.0, 37.8, 9.92, 9.15], \n",
    "    ['Triticale', 338.0, 1.81, 36.6, 19.0, 0.9], \n",
    "    ['Wheat', 407.0, 1.2, 27.8, 12.9, 13.8]\n",
    "]\n",
    "\n",
    "column_headings = ['Cereal', 'Calories', 'Fat', 'Protein', 'Fibre', 'Vitamin E']\n",
    "\n",
    "output_filename = 'my_cereals.csv'"
   ]
  },
  {
   "cell_type": "code",
   "execution_count": 2,
   "id": "8e03f37f",
   "metadata": {},
   "outputs": [],
   "source": [
    "import csv"
   ]
  },
  {
   "cell_type": "code",
   "execution_count": 3,
   "id": "edac6d7f",
   "metadata": {},
   "outputs": [],
   "source": [
    "with open(output_filename, 'w', encoding='utf-8', newline='') as output_csv:\n",
    "    writer = csv.writer(output_csv)\n",
    "    writer.writerows(cereals)"
   ]
  },
  {
   "cell_type": "markdown",
   "id": "b718c11e",
   "metadata": {},
   "source": [
    "**The `writerows()` method belongs to the CSV module, and it iterates over the nested lists in data that you pass to it to create CSV-formatted row for each nested list. In the CSV output, there are no quotations around the cereal names, so you cannot differentiate between numeric and non-numeric values.**\n",
    "\n",
    "**You can instruct the writer to add quotation marks around the string values by passing the `quoting` argument with the constant to quote non-numeric values:**"
   ]
  },
  {
   "cell_type": "code",
   "execution_count": 4,
   "id": "5581c0b0",
   "metadata": {},
   "outputs": [],
   "source": [
    "with open(output_filename, 'w', encoding='utf-8', newline='') as output_csv:\n",
    "    writer = csv.writer(output_csv, quoting=csv.QUOTE_NONNUMERIC)\n",
    "    writer.writerows(cereals)"
   ]
  },
  {
   "cell_type": "markdown",
   "id": "f14bab35",
   "metadata": {},
   "source": [
    "**Now the cereal names are \"quoted\" in the CSV file, which is good practice.**\n",
    "\n",
    "**The column headings can also be written to CSV, before the data itself, using `writerow()` method, that iterates over a single line only.** "
   ]
  },
  {
   "cell_type": "code",
   "execution_count": 5,
   "id": "2f1fff4d",
   "metadata": {},
   "outputs": [],
   "source": [
    "with open(output_filename, 'w', encoding='utf-8', newline='') as output_csv:\n",
    "    writer = csv.writer(output_csv, quoting=csv.QUOTE_NONNUMERIC)\n",
    "    writer.writerow(column_headings)\n",
    "    writer.writerows(cereals)"
   ]
  },
  {
   "cell_type": "markdown",
   "id": "1ec15b48",
   "metadata": {},
   "source": [
    "## Using `csv.DictWriter()` class\n",
    "\n",
    "**You can write nested dictionaries to CSV-formatted rows in a file.**\n",
    "\n",
    "**First, we need to create the dictionary data, which you can do by reading in any CSV file to dictionary format with `DictReader()` class.**"
   ]
  },
  {
   "cell_type": "code",
   "execution_count": 6,
   "id": "0274154c",
   "metadata": {},
   "outputs": [],
   "source": [
    "# Note lack of 'Total' - we don't want it - and 'Rank' is at the end\n",
    "ordering = ['Country', 'Gold', 'Silver', 'Bronze', 'Rank']\n",
    "\n",
    "# Open one file to read in and one file to write to\n",
    "with open('data/OlympicMedals_2020.csv', encoding='utf-8', newline='') as data, \n",
    "open('medals_dict.py', 'w', encoding='utf-8') as output_file:\n",
    "    # Write the first part of the code (excluding actual data) in output file\n",
    "    print('import csv', file=output_file)\n",
    "    print(file=output_file)\n",
    "    print('medals_table = [', file=output_file)\n",
    "\n",
    "    # Read each row from dictionary to produce a new dictionary, containing only the key/value pairs we want\n",
    "    reader = csv.DictReader(data)\n",
    "    \n",
    "    for row_dict in reader:\n",
    "        new_dict = {}\n",
    "        # Only print the values for the keys we want (in the order we want them)\n",
    "        for key in ordering:\n",
    "            value = row_dict[key]\n",
    "            if value.isnumeric():\n",
    "                value = int(value)\n",
    "            new_dict[key.casefold()] = value\n",
    "\n",
    "        # Print dictionary to output file (indented by 4 spaces, with trailing comma)\n",
    "        print(f'    {new_dict},', file=output_file)\n",
    "\n",
    "    # Once all data rows have been written to .py, print the terminating ]\n",
    "    print(']', file=output_file)\n",
    "    print(file=output_file)  # and finish with a blank line\n"
   ]
  },
  {
   "cell_type": "markdown",
   "id": "60f16537",
   "metadata": {},
   "source": [
    "**The newly-created .py file in working folder shows the Olympic medals for each country as nested dictionary within a list:**\n",
    "\n",
    "    import csv\n",
    "\n",
    "    medals_table = [\n",
    "        {'country': 'United States', 'gold': 39, 'silver': 41, 'bronze': 33, 'rank': 1},\n",
    "        {'country': 'China', 'gold': 38, 'silver': 32, 'bronze': 18, 'rank': 2},\n",
    "        {'country': 'Japan', 'gold': 27, 'silver': 14, 'bronze': 17, 'rank': 3},\n",
    "        ...\n",
    "    ]\n",
    "    \n",
    "**You could also create .ipynb file, but that will only work in Jupyter Notebook. You can copy-and-paste the code into notebook cell.**\n",
    "\n",
    "**Now you have Python data as nested dictionaries, you can use `csv.DictWriter()` class to write it back to CSV.**"
   ]
  },
  {
   "cell_type": "code",
   "execution_count": 7,
   "id": "7c872b4b",
   "metadata": {},
   "outputs": [],
   "source": [
    "medals_table = [\n",
    "    {'country': 'United States', 'gold': 39, 'silver': 41, 'bronze': 33, 'rank': 1},\n",
    "    {'country': 'China', 'gold': 38, 'silver': 32, 'bronze': 18, 'rank': 2},\n",
    "    {'country': 'Japan', 'gold': 27, 'silver': 14, 'bronze': 17, 'rank': 3},\n",
    "    {'country': 'Great Britain', 'gold': 22, 'silver': 21, 'bronze': 22, 'rank': 4},\n",
    "    {'country': 'ROC', 'gold': 20, 'silver': 28, 'bronze': 23, 'rank': 5},\n",
    "    {'country': 'Australia', 'gold': 17, 'silver': 7, 'bronze': 22, 'rank': 6},\n",
    "    {'country': 'Netherlands', 'gold': 10, 'silver': 12, 'bronze': 14, 'rank': 7},\n",
    "    {'country': 'France', 'gold': 10, 'silver': 12, 'bronze': 11, 'rank': 8},\n",
    "    {'country': 'Germany', 'gold': 10, 'silver': 11, 'bronze': 16, 'rank': 9},\n",
    "    {'country': 'Italy', 'gold': 10, 'silver': 10, 'bronze': 20, 'rank': 10},\n",
    "    {'country': 'Canada', 'gold': 7, 'silver': 6, 'bronze': 11, 'rank': 11},\n",
    "    {'country': 'Brazil', 'gold': 7, 'silver': 6, 'bronze': 8, 'rank': 12},\n",
    "    {'country': 'New Zealand', 'gold': 7, 'silver': 6, 'bronze': 7, 'rank': 13},\n",
    "    {'country': 'Cuba', 'gold': 7, 'silver': 3, 'bronze': 5, 'rank': 14},\n",
    "    {'country': 'Hungary', 'gold': 6, 'silver': 7, 'bronze': 7, 'rank': 15},\n",
    "    {'country': 'South Korea', 'gold': 6, 'silver': 4, 'bronze': 10, 'rank': 16},\n",
    "    {'country': 'Poland', 'gold': 4, 'silver': 5, 'bronze': 5, 'rank': 17},\n",
    "    {'country': 'Czech Republic', 'gold': 4, 'silver': 4, 'bronze': 3, 'rank': 18},\n",
    "    {'country': 'Kenya', 'gold': 4, 'silver': 4, 'bronze': 2, 'rank': 19},\n",
    "    {'country': 'Norway', 'gold': 4, 'silver': 2, 'bronze': 2, 'rank': 20},\n",
    "    {'country': 'Jamaica', 'gold': 4, 'silver': 1, 'bronze': 4, 'rank': 21},\n",
    "    {'country': 'Spain', 'gold': 3, 'silver': 8, 'bronze': 6, 'rank': 22},\n",
    "    {'country': 'Sweden', 'gold': 3, 'silver': 6, 'bronze': 0, 'rank': 23},\n",
    "    {'country': 'Switzerland', 'gold': 3, 'silver': 4, 'bronze': 6, 'rank': 24},\n",
    "    {'country': 'Denmark', 'gold': 3, 'silver': 4, 'bronze': 4, 'rank': 25},\n",
    "    {'country': 'Croatia', 'gold': 3, 'silver': 3, 'bronze': 2, 'rank': 26},\n",
    "    {'country': 'Iran', 'gold': 3, 'silver': 2, 'bronze': 2, 'rank': 27},\n",
    "    {'country': 'Serbia', 'gold': 3, 'silver': 1, 'bronze': 5, 'rank': 28},\n",
    "    {'country': 'Belgium', 'gold': 3, 'silver': 1, 'bronze': 3, 'rank': 29},\n",
    "    {'country': 'Bulgaria', 'gold': 3, 'silver': 1, 'bronze': 2, 'rank': 30},\n",
    "    {'country': 'Slovenia', 'gold': 3, 'silver': 1, 'bronze': 1, 'rank': 31},\n",
    "    {'country': 'Uzbekistan', 'gold': 3, 'silver': 0, 'bronze': 2, 'rank': 32},\n",
    "    {'country': 'Georgia', 'gold': 2, 'silver': 5, 'bronze': 1, 'rank': 33},\n",
    "    {'country': 'Chinese Taipei', 'gold': 2, 'silver': 4, 'bronze': 6, 'rank': 34},\n",
    "    {'country': 'Turkey', 'gold': 2, 'silver': 2, 'bronze': 9, 'rank': 35},\n",
    "    {'country': 'Greece', 'gold': 2, 'silver': 1, 'bronze': 1, 'rank': 36},\n",
    "    {'country': 'Uganda', 'gold': 2, 'silver': 1, 'bronze': 1, 'rank': 36},\n",
    "    {'country': 'Ecuador', 'gold': 2, 'silver': 1, 'bronze': 0, 'rank': 38},\n",
    "    {'country': 'Ireland', 'gold': 2, 'silver': 0, 'bronze': 2, 'rank': 39},\n",
    "    {'country': 'Israel', 'gold': 2, 'silver': 0, 'bronze': 2, 'rank': 39},\n",
    "    {'country': 'Qatar', 'gold': 2, 'silver': 0, 'bronze': 1, 'rank': 41},\n",
    "    {'country': 'Bahamas', 'gold': 2, 'silver': 0, 'bronze': 0, 'rank': 42},\n",
    "    {'country': 'Kosovo', 'gold': 2, 'silver': 0, 'bronze': 0, 'rank': 42},\n",
    "    {'country': 'Ukraine', 'gold': 1, 'silver': 6, 'bronze': 12, 'rank': 44},\n",
    "    {'country': 'Belarus', 'gold': 1, 'silver': 3, 'bronze': 3, 'rank': 45},\n",
    "    {'country': 'Romania', 'gold': 1, 'silver': 3, 'bronze': 0, 'rank': 46},\n",
    "    {'country': 'Venezuela', 'gold': 1, 'silver': 3, 'bronze': 0, 'rank': 46},\n",
    "    {'country': 'India', 'gold': 1, 'silver': 2, 'bronze': 4, 'rank': 48},\n",
    "    {'country': 'Hong Kong', 'gold': 1, 'silver': 2, 'bronze': 3, 'rank': 49},\n",
    "    {'country': 'Philippines', 'gold': 1, 'silver': 2, 'bronze': 1, 'rank': 50},\n",
    "    {'country': 'Slovakia', 'gold': 1, 'silver': 2, 'bronze': 1, 'rank': 50},\n",
    "    {'country': 'South Africa', 'gold': 1, 'silver': 2, 'bronze': 0, 'rank': 52},\n",
    "    {'country': 'Austria', 'gold': 1, 'silver': 1, 'bronze': 5, 'rank': 53},\n",
    "    {'country': 'Egypt', 'gold': 1, 'silver': 1, 'bronze': 4, 'rank': 54},\n",
    "    {'country': 'Indonesia', 'gold': 1, 'silver': 1, 'bronze': 3, 'rank': 55},\n",
    "    {'country': 'Ethiopia', 'gold': 1, 'silver': 1, 'bronze': 2, 'rank': 56},\n",
    "    {'country': 'Portugal', 'gold': 1, 'silver': 1, 'bronze': 2, 'rank': 56},\n",
    "    {'country': 'Tunisia', 'gold': 1, 'silver': 1, 'bronze': 0, 'rank': 58},\n",
    "    {'country': 'Estonia', 'gold': 1, 'silver': 0, 'bronze': 1, 'rank': 59},\n",
    "    {'country': 'Fiji', 'gold': 1, 'silver': 0, 'bronze': 1, 'rank': 59},\n",
    "    {'country': 'Latvia', 'gold': 1, 'silver': 0, 'bronze': 1, 'rank': 59},\n",
    "    {'country': 'Thailand', 'gold': 1, 'silver': 0, 'bronze': 1, 'rank': 59},\n",
    "    {'country': 'Bermuda', 'gold': 1, 'silver': 0, 'bronze': 0, 'rank': 63},\n",
    "    {'country': 'Morocco', 'gold': 1, 'silver': 0, 'bronze': 0, 'rank': 63},\n",
    "    {'country': 'Puerto Rico', 'gold': 1, 'silver': 0, 'bronze': 0, 'rank': 63},\n",
    "    {'country': 'Colombia', 'gold': 0, 'silver': 4, 'bronze': 1, 'rank': 66},\n",
    "    {'country': 'Azerbaijan', 'gold': 0, 'silver': 3, 'bronze': 4, 'rank': 67},\n",
    "    {'country': 'Dominican Republic', 'gold': 0, 'silver': 3, 'bronze': 2, 'rank': 68},\n",
    "    {'country': 'Armenia', 'gold': 0, 'silver': 2, 'bronze': 2, 'rank': 69},\n",
    "    {'country': 'Kyrgyzstan', 'gold': 0, 'silver': 2, 'bronze': 1, 'rank': 70},\n",
    "    {'country': 'Mongolia', 'gold': 0, 'silver': 1, 'bronze': 3, 'rank': 71},\n",
    "    {'country': 'Argentina', 'gold': 0, 'silver': 1, 'bronze': 2, 'rank': 72},\n",
    "    {'country': 'San Marino', 'gold': 0, 'silver': 1, 'bronze': 2, 'rank': 72},\n",
    "    {'country': 'Jordan', 'gold': 0, 'silver': 1, 'bronze': 1, 'rank': 74},\n",
    "    {'country': 'Malaysia', 'gold': 0, 'silver': 1, 'bronze': 1, 'rank': 74},\n",
    "    {'country': 'Nigeria', 'gold': 0, 'silver': 1, 'bronze': 1, 'rank': 74},\n",
    "    {'country': 'Bahrain', 'gold': 0, 'silver': 1, 'bronze': 0, 'rank': 77},\n",
    "    {'country': 'Saudi Arabia', 'gold': 0, 'silver': 1, 'bronze': 0, 'rank': 77},\n",
    "    {'country': 'Lithuania', 'gold': 0, 'silver': 1, 'bronze': 0, 'rank': 77},\n",
    "    {'country': 'North Macedonia', 'gold': 0, 'silver': 1, 'bronze': 0, 'rank': 77},\n",
    "    {'country': 'Namibia', 'gold': 0, 'silver': 1, 'bronze': 0, 'rank': 77},\n",
    "    {'country': 'Turkmenistan', 'gold': 0, 'silver': 1, 'bronze': 0, 'rank': 77},\n",
    "    {'country': 'Kazakhstan', 'gold': 0, 'silver': 0, 'bronze': 8, 'rank': 83},\n",
    "    {'country': 'Mexico', 'gold': 0, 'silver': 0, 'bronze': 4, 'rank': 84},\n",
    "    {'country': 'Finland', 'gold': 0, 'silver': 0, 'bronze': 2, 'rank': 85},\n",
    "    {'country': 'Botswana', 'gold': 0, 'silver': 0, 'bronze': 1, 'rank': 86},\n",
    "    {'country': 'Burkina Faso', 'gold': 0, 'silver': 0, 'bronze': 1, 'rank': 86},\n",
    "    {'country': \"Côte d'Ivoire\", 'gold': 0, 'silver': 0, 'bronze': 1, 'rank': 86},\n",
    "    {'country': 'Ghana', 'gold': 0, 'silver': 0, 'bronze': 1, 'rank': 86},\n",
    "    {'country': 'Grenada', 'gold': 0, 'silver': 0, 'bronze': 1, 'rank': 86},\n",
    "    {'country': 'Kuwait', 'gold': 0, 'silver': 0, 'bronze': 1, 'rank': 86},\n",
    "    {'country': 'Moldova', 'gold': 0, 'silver': 0, 'bronze': 1, 'rank': 86},\n",
    "    {'country': 'Syria', 'gold': 0, 'silver': 0, 'bronze': 1, 'rank': 86},\n",
    "]\n",
    "\n",
    "columns = ['country', 'gold', 'silver', 'bronze', 'rank']\n",
    "\n",
    "filename = 'country_medals.csv'"
   ]
  },
  {
   "cell_type": "code",
   "execution_count": 8,
   "id": "ef83c888",
   "metadata": {},
   "outputs": [],
   "source": [
    "# Write dictionary data row-by-row in a loop\n",
    "\n",
    "with open(filename, 'w', encoding='utf-8', newline='') as output_file:\n",
    "    dict_writer = csv.DictWriter(output_file, fieldnames=columns)\n",
    "    # Adds column headings to file\n",
    "    dict_writer.writeheader()\n",
    "    \n",
    "    for row in medals_table:\n",
    "        dict_writer.writerow(row)"
   ]
  },
  {
   "cell_type": "markdown",
   "id": "a7ee3a5a",
   "metadata": {},
   "source": [
    "**The CSV output file looks like:**\n",
    "\n",
    "    country,gold,silver,bronze,rank\n",
    "    United States,39,41,33,1\n",
    "    China,38,32,18,2\n",
    "    Japan,27,14,17,3"
   ]
  },
  {
   "cell_type": "code",
   "execution_count": 9,
   "id": "22dd9e65",
   "metadata": {},
   "outputs": [],
   "source": [
    "# Write dictionary data in one go\n",
    "\n",
    "with open(filename, 'w', encoding='utf-8', newline='') as output_file:\n",
    "    dict_writer = csv.DictWriter(output_file, fieldnames=columns)\n",
    "    dict_writer.writeheader()\n",
    "    dict_writer.writerows(medals_table)\n",
    "    "
   ]
  },
  {
   "cell_type": "markdown",
   "id": "d30d1d4e",
   "metadata": {},
   "source": [
    "**As you can see, the rows are listed in order of rank, but what if you want to write the data with countries listed in alphabetical order instead. You cannot simply use `sorted()` function - Python needs to check each country name string comes before or after, i.e. `<` or `>`, so create a function that returns the country name for each dictionary. Then sort them in order when writing the rows.**"
   ]
  },
  {
   "cell_type": "code",
   "execution_count": 10,
   "id": "37e94ec6",
   "metadata": {},
   "outputs": [],
   "source": [
    "def sort_key(input_dict):\n",
    "    return input_dict['country']"
   ]
  },
  {
   "cell_type": "code",
   "execution_count": 11,
   "id": "b39f9183",
   "metadata": {},
   "outputs": [],
   "source": [
    "with open(filename, 'w', encoding='utf-8', newline='') as output_file:\n",
    "    dict_writer = csv.DictWriter(output_file, fieldnames=columns)\n",
    "    dict_writer.writeheader()\n",
    "    dict_writer.writerows(sorted(medals_table, key=sort_key))"
   ]
  },
  {
   "cell_type": "markdown",
   "id": "bff97fdc",
   "metadata": {},
   "source": [
    "**You can remove column(s) from the output, like 'rank', by passing the `extrasaction` argument with 'ignore' when writing the input data. This instructs Python to ignore the error that will be raised saying that the dictionary contains fields that are not listed in the field names. We want `DictWriter` to explicitly ignore those extra fields.**"
   ]
  },
  {
   "cell_type": "code",
   "execution_count": 14,
   "id": "72c87021",
   "metadata": {},
   "outputs": [],
   "source": [
    "columns = ['country', 'gold', 'silver', 'bronze']\n",
    "    \n",
    "with open(filename, 'w', encoding='utf-8', newline='') as output_file:\n",
    "    dict_writer = csv.DictWriter(output_file, fieldnames=columns, extrasaction='ignore')\n",
    "    dict_writer.writeheader()\n",
    "    dict_writer.writerows(sorted(medals_table, key=sort_key))"
   ]
  },
  {
   "cell_type": "markdown",
   "id": "7165c962",
   "metadata": {},
   "source": [
    "## Writing Lists and Tuples to CSV\n",
    "\n",
    "**The `DictWriter` needs nested dictionaries, but what if you have lists or tuples? You can use the regular `csv.writer()` function or convert to dictionary before using DictWriter.**"
   ]
  },
  {
   "cell_type": "code",
   "execution_count": 15,
   "id": "3210e1ee",
   "metadata": {},
   "outputs": [],
   "source": [
    "albums = [\n",
    "    (\"Welcome to my Nightmare\", \"Alice Cooper\", 1975),\n",
    "    (\"Bad Company\", \"Bad Company\", 1974),\n",
    "    (\"Nightflight\", \"Budgie\", 1981),\n",
    "    (\"More Mayhem\", \"Imelda May\", 2011),\n",
    "    (\"Ride the Lightning\", \"Metallica\", 1984)\n",
    "]\n",
    "\n",
    "# Define column headings\n",
    "columns = ['album', 'artist', 'year']"
   ]
  },
  {
   "cell_type": "code",
   "execution_count": 17,
   "id": "2bf81017",
   "metadata": {},
   "outputs": [
    {
     "name": "stdout",
     "output_type": "stream",
     "text": [
      "<zip object at 0x0000013F75F08AC0>\n",
      "<zip object at 0x0000013F75E591C0>\n",
      "<zip object at 0x0000013F75F08AC0>\n",
      "<zip object at 0x0000013F75E591C0>\n",
      "<zip object at 0x0000013F75F08AC0>\n"
     ]
    }
   ],
   "source": [
    "for row in albums:\n",
    "    zip_object = zip(columns, row)\n",
    "    print(zip_object)"
   ]
  },
  {
   "cell_type": "markdown",
   "id": "32458caf",
   "metadata": {},
   "source": [
    "**To see the zipped elements themselves, iterate over the zip object again.**"
   ]
  },
  {
   "cell_type": "code",
   "execution_count": 20,
   "id": "ecc91134",
   "metadata": {},
   "outputs": [
    {
     "name": "stdout",
     "output_type": "stream",
     "text": [
      "\t ('album', 'Welcome to my Nightmare')\n",
      "\t ('artist', 'Alice Cooper')\n",
      "\t ('year', 1975)\n",
      "\t ('album', 'Bad Company')\n",
      "\t ('artist', 'Bad Company')\n",
      "\t ('year', 1974)\n",
      "\t ('album', 'Nightflight')\n",
      "\t ('artist', 'Budgie')\n",
      "\t ('year', 1981)\n",
      "\t ('album', 'More Mayhem')\n",
      "\t ('artist', 'Imelda May')\n",
      "\t ('year', 2011)\n",
      "\t ('album', 'Ride the Lightning')\n",
      "\t ('artist', 'Metallica')\n",
      "\t ('year', 1984)\n"
     ]
    }
   ],
   "source": [
    "for row in albums:\n",
    "    zip_object = zip(columns, row)\n",
    "    \n",
    "    for item in zip_object:\n",
    "        print(\"\\t\", item)\n",
    "        "
   ]
  },
  {
   "cell_type": "code",
   "execution_count": 21,
   "id": "dab7352f",
   "metadata": {},
   "outputs": [
    {
     "name": "stdout",
     "output_type": "stream",
     "text": [
      "{'album': 'Welcome to my Nightmare', 'artist': 'Alice Cooper', 'year': 1975}\n",
      "{'album': 'Bad Company', 'artist': 'Bad Company', 'year': 1974}\n",
      "{'album': 'Nightflight', 'artist': 'Budgie', 'year': 1981}\n",
      "{'album': 'More Mayhem', 'artist': 'Imelda May', 'year': 2011}\n",
      "{'album': 'Ride the Lightning', 'artist': 'Metallica', 'year': 1984}\n"
     ]
    }
   ],
   "source": [
    "# Convert zipped items to dictionary\n",
    "\n",
    "for row in albums:\n",
    "    zip_object = zip(columns, row)\n",
    "    albums_dict = dict(zip_object)\n",
    "    print(albums_dict)\n",
    "    "
   ]
  },
  {
   "cell_type": "code",
   "execution_count": 22,
   "id": "027e529c",
   "metadata": {},
   "outputs": [],
   "source": [
    "album_filename = 'albums.csv' \n",
    "\n",
    "with open(album_filename, 'w', encoding='utf-8', newline='') as album_file:\n",
    "    dict_writer = csv.DictWriter(album_file, fieldnames=columns)\n",
    "    dict_writer.writeheader()\n",
    "    \n",
    "    for row in albums:\n",
    "        zip_object = zip(columns, row)\n",
    "        albums_dict = dict(zip_object)\n",
    "        dict_writer.writerow(albums_dict)"
   ]
  },
  {
   "cell_type": "markdown",
   "id": "0602cf15",
   "metadata": {},
   "source": [
    "**The dictionary has now been nicely formatted to CSV file:**\n",
    "\n",
    "    album,artist,year\n",
    "    Welcome to my Nightmare,Alice Cooper,1975\n",
    "    Bad Company,Bad Company,1974\n",
    "    Nightflight,Budgie,1981\n",
    "    ..."
   ]
  },
  {
   "cell_type": "code",
   "execution_count": null,
   "id": "2132b786",
   "metadata": {},
   "outputs": [],
   "source": []
  }
 ],
 "metadata": {
  "kernelspec": {
   "display_name": "Python 3 (ipykernel)",
   "language": "python",
   "name": "python3"
  },
  "language_info": {
   "codemirror_mode": {
    "name": "ipython",
    "version": 3
   },
   "file_extension": ".py",
   "mimetype": "text/x-python",
   "name": "python",
   "nbconvert_exporter": "python",
   "pygments_lexer": "ipython3",
   "version": "3.9.17"
  }
 },
 "nbformat": 4,
 "nbformat_minor": 5
}
