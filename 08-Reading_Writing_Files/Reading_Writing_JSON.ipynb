{
 "cells": [
  {
   "cell_type": "markdown",
   "id": "611f8665",
   "metadata": {},
   "source": [
    "# Writing to JSON file ('w' mode)\n",
    "\n",
    "**Since JSON is plain text, Python handles JSON strings quite easily with the aid of the `json` module. If dealing with a Python object that you want to transform to JSON, you are going to 'serialize' the Python object. When you want to transform JSON to a Python format, you are 'de-serializing'. In the JSON module, you perform dumping and loading actions respectively.**\n",
    "\n",
    "**So, to convert Python object(s) to JSON (serialization), you need `json.dump()` function since it can parse the data *and* store the JSON output in an external `.json` file. You are 'dumping' the data to JSON.**"
   ]
  },
  {
   "cell_type": "code",
   "execution_count": 4,
   "id": "a10f3bfa",
   "metadata": {},
   "outputs": [],
   "source": [
    "import json"
   ]
  },
  {
   "cell_type": "code",
   "execution_count": 2,
   "id": "758303b4",
   "metadata": {},
   "outputs": [],
   "source": [
    "# List of lists (programming languages and year of first implementation) - inner lists could also be tuples but\n",
    "\n",
    "languages = [\n",
    "    ['ABC', 1987],\n",
    "    ['Algol 68', 1968],\n",
    "    ['APL', 1962],\n",
    "    ['C', 1973],\n",
    "    ['Haskell', 1990],\n",
    "    ['Lisp', 1958],\n",
    "    ['Modula-2', 1977],\n",
    "    ['Perl', 1987]\n",
    "]\n"
   ]
  },
  {
   "cell_type": "code",
   "execution_count": 4,
   "id": "961d76c5",
   "metadata": {},
   "outputs": [],
   "source": [
    "# Transform Python to JSON and store in file\n",
    "\n",
    "with open('json_test.json', 'w', encoding='utf_8') as json_text:\n",
    "    json.dump(languages, json_text)"
   ]
  },
  {
   "cell_type": "markdown",
   "id": "e57c07c9",
   "metadata": {},
   "source": [
    "**You now have a JSON file in the working directory with a JSON list of programming languages. Note that JSON also uses square brackets for arrays so will look the same as the Python list.** \n",
    "\n",
    "# Reading in JSON file ('r' mode)\n",
    "\n",
    "**Following in the opposite direction, you can read JSON data into Python format using the `json.loads()` function. Use the newly-created JSON file to 'de-serialize' the content to Python. You open the file with reading capability only, since you are only loading content, not writing to an external file.**"
   ]
  },
  {
   "cell_type": "code",
   "execution_count": 6,
   "id": "dafb5b25",
   "metadata": {},
   "outputs": [
    {
     "name": "stdout",
     "output_type": "stream",
     "text": [
      "[['ABC', 1987], ['Algol 68', 1968], ['APL', 1962], ['C', 1973], ['Haskell', 1990], ['Lisp', 1958], ['Modula-2', 1977], ['Perl', 1987]]\n",
      "The third item in the list is ['APL', 1962]\n"
     ]
    }
   ],
   "source": [
    "with open('json_test.json', encoding='utf_8') as python_text:\n",
    "    data = json.load(python_text)\n",
    "    \n",
    "print(data)\n",
    "print(\"The third item in the list is\", data[2])"
   ]
  },
  {
   "cell_type": "markdown",
   "id": "a1b79f6e",
   "metadata": {},
   "source": [
    "**NOTE: The JSON format does not recognise tuples. When converting tuples to JSON, it will become a list. Tuples belong inherently to object-oriented languages and JSON must be language-independent since it is the standard for exchanging data. Be aware of this issue when serializing and de-serializing.**"
   ]
  },
  {
   "cell_type": "code",
   "execution_count": 7,
   "id": "9b66df0f",
   "metadata": {},
   "outputs": [],
   "source": [
    "languages_tuples = [\n",
    "    ('ABC', 1987), \n",
    "    ('Algol 68', 1968),\n",
    "    ('APL', 1962),\n",
    "    ('C', 1973),\n",
    "    ('Haskell', 1990),\n",
    "    ('Lisp', 1958),\n",
    "    ('Modula-2', 1977),\n",
    "    ('Perl', 1987)\n",
    "]"
   ]
  },
  {
   "cell_type": "code",
   "execution_count": 8,
   "id": "77c29564",
   "metadata": {},
   "outputs": [],
   "source": [
    "# Writing to JSON file\n",
    "\n",
    "with open('json_issues.json', 'w', encoding='utf_8') as json_tuples:\n",
    "    json.dump(languages_tuples, json_tuples)"
   ]
  },
  {
   "cell_type": "markdown",
   "id": "88900cb9",
   "metadata": {},
   "source": [
    "**The newly-created `json_issues.json` file shows that the tuples have been parsed to arrays in JSON.**\n",
    "\n",
    "## Parsing JSON data\n",
    "\n",
    "**In many cases, downloaded data will be provided in JSON format, which you can parse to Python using the `load` function.**\n",
    "\n",
    "**The sample JSON data provides the global average temperature anomalies from 1880 to 2020. You can easily open the JSON file to inspect the data pre-trransformation, and as you can see, the syntax for storing data in JSON is very similar to a Python dictionary, so the JSON function automatically converts to Python dictionary:**\n",
    "\n",
    "    {\"description\": {\n",
    "        \"title\": \"Global Land and Ocean Temperature Anomalies, January-December\", \n",
    "        \"units\": \"Degrees Celsius\", \n",
    "        \"base_period\": \"1901-2000\", \n",
    "        \"missing\": -999\n",
    "        }, \n",
    "    \"data\": {\n",
    "        \"1880\": \"-0.12\", \n",
    "        \"1881\": \"-0.09\", \n",
    "        ...\n",
    "        },\n",
    "    \"citation\": \"NOAA National Centers for Environmental information ...\",\n",
    "    ...\n",
    "    }\n",
    "    \n",
    "**Above is how it would look like in Python, all nicely tabulated. In JSON, it is just one long string of text:**\n",
    "\n",
    "    {\"description\": {\"title\": \"Global Land and Ocean Temperature Anomalies, January-December\", \"units\": \"Degrees Celsius\",\n",
    "    \"base_period\": \"1901-2000\", \"missing\": -999}, \"data\": ...}\n",
    "    \n",
    "**Note that all years and numbers are stored as strings, which can only be changed once converted to Python.**"
   ]
  },
  {
   "cell_type": "code",
   "execution_count": 11,
   "id": "a899677d",
   "metadata": {},
   "outputs": [
    {
     "name": "stdout",
     "output_type": "stream",
     "text": [
      "{'title': 'Global Land and Ocean Temperature Anomalies, January-December', 'units': 'Degrees Celsius', 'base_period': '1901-2000', 'missing': -999}\n",
      "\n",
      "NOAA National Centers for Environmental information, Climate at a Glance: Global Time Series, published August 2021, retrieved on August 19, 2021 from https://www.ncdc.noaa.gov/cag/\n"
     ]
    }
   ],
   "source": [
    "json_source = 'data/temperature_anomaly.json'\n",
    "\n",
    "with open(json_source, encoding='utf_8') as temps:\n",
    "    temp_anomalies = json.load(temps)\n",
    "\n",
    "\n",
    "print(temp_anomalies['description'])\n",
    "print()\n",
    "print(temp_anomalies['citation'])"
   ]
  },
  {
   "cell_type": "code",
   "execution_count": 12,
   "id": "3f6b8d8e",
   "metadata": {},
   "outputs": [
    {
     "name": "stdout",
     "output_type": "stream",
     "text": [
      "Year 1880 ...  -0.12\n",
      "Year 1881 ...  -0.09\n",
      "Year 1882 ...  -0.10\n",
      "Year 1883 ...  -0.18\n",
      "Year 1884 ...  -0.27\n",
      "Year 1885 ...  -0.25\n",
      "Year 1886 ...  -0.24\n",
      "Year 1887 ...  -0.29\n",
      "Year 1888 ...  -0.13\n",
      "Year 1889 ...  -0.09\n",
      "Year 1890 ...  -0.34\n",
      "Year 1891 ...  -0.26\n",
      "Year 1892 ...  -0.30\n",
      "Year 1893 ...  -0.33\n",
      "Year 1894 ...  -0.31\n",
      "Year 1895 ...  -0.24\n",
      "Year 1896 ...  -0.10\n",
      "Year 1897 ...  -0.10\n",
      "Year 1898 ...  -0.27\n",
      "Year 1899 ...  -0.16\n",
      "Year 1900 ...  -0.07\n",
      "Year 1901 ...  -0.15\n",
      "Year 1902 ...  -0.26\n",
      "Year 1903 ...  -0.37\n",
      "Year 1904 ...  -0.45\n",
      "Year 1905 ...  -0.27\n",
      "Year 1906 ...  -0.21\n",
      "Year 1907 ...  -0.38\n",
      "Year 1908 ...  -0.43\n",
      "Year 1909 ...  -0.44\n",
      "Year 1910 ...  -0.40\n",
      "Year 1911 ...  -0.44\n",
      "Year 1912 ...  -0.33\n",
      "Year 1913 ...  -0.32\n",
      "Year 1914 ...  -0.14\n",
      "Year 1915 ...  -0.09\n",
      "Year 1916 ...  -0.32\n",
      "Year 1917 ...  -0.39\n",
      "Year 1918 ...  -0.30\n",
      "Year 1919 ...  -0.25\n",
      "Year 1920 ...  -0.23\n",
      "Year 1921 ...  -0.16\n",
      "Year 1922 ...  -0.25\n",
      "Year 1923 ...  -0.25\n",
      "Year 1924 ...  -0.24\n",
      "Year 1925 ...  -0.18\n",
      "Year 1926 ...  -0.07\n",
      "Year 1927 ...  -0.17\n",
      "Year 1928 ...  -0.18\n",
      "Year 1929 ...  -0.33\n",
      "Year 1930 ...  -0.11\n",
      "Year 1931 ...  -0.06\n",
      "Year 1932 ...  -0.13\n",
      "Year 1933 ...  -0.26\n",
      "Year 1934 ...  -0.11\n",
      "Year 1935 ...  -0.16\n",
      "Year 1936 ...  -0.12\n",
      "Year 1937 ...  -0.01\n",
      "Year 1938 ...  -0.02\n",
      "Year 1939 ...   0.01\n",
      "Year 1940 ...   0.16\n",
      "Year 1941 ...   0.27\n",
      "Year 1942 ...   0.11\n",
      "Year 1943 ...   0.11\n",
      "Year 1944 ...   0.28\n",
      "Year 1945 ...   0.18\n",
      "Year 1946 ...  -0.01\n",
      "Year 1947 ...  -0.03\n",
      "Year 1948 ...  -0.05\n",
      "Year 1949 ...  -0.07\n",
      "Year 1950 ...  -0.15\n",
      "Year 1951 ...   0.00\n",
      "Year 1952 ...   0.04\n",
      "Year 1953 ...   0.13\n",
      "Year 1954 ...  -0.10\n",
      "Year 1955 ...  -0.13\n",
      "Year 1956 ...  -0.18\n",
      "Year 1957 ...   0.07\n",
      "Year 1958 ...   0.12\n",
      "Year 1959 ...   0.08\n",
      "Year 1960 ...   0.05\n",
      "Year 1961 ...   0.09\n",
      "Year 1962 ...   0.10\n",
      "Year 1963 ...   0.12\n",
      "Year 1964 ...  -0.14\n",
      "Year 1965 ...  -0.07\n",
      "Year 1966 ...  -0.01\n",
      "Year 1967 ...   0.00\n",
      "Year 1968 ...  -0.03\n",
      "Year 1969 ...   0.10\n",
      "Year 1970 ...   0.06\n",
      "Year 1971 ...  -0.07\n",
      "Year 1972 ...   0.04\n",
      "Year 1973 ...   0.19\n",
      "Year 1974 ...  -0.06\n",
      "Year 1975 ...   0.01\n",
      "Year 1976 ...  -0.07\n",
      "Year 1977 ...   0.21\n",
      "Year 1978 ...   0.12\n",
      "Year 1979 ...   0.23\n",
      "Year 1980 ...   0.28\n",
      "Year 1981 ...   0.32\n",
      "Year 1982 ...   0.19\n",
      "Year 1983 ...   0.36\n",
      "Year 1984 ...   0.17\n",
      "Year 1985 ...   0.16\n",
      "Year 1986 ...   0.24\n",
      "Year 1987 ...   0.38\n",
      "Year 1988 ...   0.39\n",
      "Year 1989 ...   0.29\n",
      "Year 1990 ...   0.45\n",
      "Year 1991 ...   0.39\n",
      "Year 1992 ...   0.24\n",
      "Year 1993 ...   0.28\n",
      "Year 1994 ...   0.34\n",
      "Year 1995 ...   0.47\n",
      "Year 1996 ...   0.32\n",
      "Year 1997 ...   0.51\n",
      "Year 1998 ...   0.65\n",
      "Year 1999 ...   0.44\n",
      "Year 2000 ...   0.43\n",
      "Year 2001 ...   0.57\n",
      "Year 2002 ...   0.62\n",
      "Year 2003 ...   0.64\n",
      "Year 2004 ...   0.58\n",
      "Year 2005 ...   0.67\n",
      "Year 2006 ...   0.64\n",
      "Year 2007 ...   0.62\n",
      "Year 2008 ...   0.54\n",
      "Year 2009 ...   0.64\n",
      "Year 2010 ...   0.72\n",
      "Year 2011 ...   0.58\n",
      "Year 2012 ...   0.64\n",
      "Year 2013 ...   0.67\n",
      "Year 2014 ...   0.74\n",
      "Year 2015 ...   0.93\n",
      "Year 2016 ...   0.99\n",
      "Year 2017 ...   0.91\n",
      "Year 2018 ...   0.82\n",
      "Year 2019 ...   0.95\n",
      "Year 2020 ...   0.98\n"
     ]
    }
   ],
   "source": [
    "# Convert data strings to numbers\n",
    "\n",
    "for year, value in temp_anomalies['data'].items():\n",
    "    year, value = int(year), float(value)\n",
    "    print(f\"Year {year} ... {value:6.2f}\")\n",
    "    "
   ]
  },
  {
   "cell_type": "markdown",
   "id": "cf1af783",
   "metadata": {},
   "source": [
    "# Reading in JSON URL\n",
    "\n",
    "**You can retrieve the JSON data directly from the URL source, rather than downloading and storing locally. Python's `open()` function can handle URL requests, as long as you import the `urllib` package along with JSON module. The `urllib.request` module handles opening URLs and reading in data.**\n",
    "\n",
    "**As long as the URL address is valid, the process is fairly simple.**"
   ]
  },
  {
   "cell_type": "code",
   "execution_count": 1,
   "id": "f85223a8",
   "metadata": {},
   "outputs": [],
   "source": [
    "import urllib.request"
   ]
  },
  {
   "cell_type": "code",
   "execution_count": 2,
   "id": "06ff5512",
   "metadata": {},
   "outputs": [],
   "source": [
    "json_url = 'https://www.ncei.noaa.gov/access/monitoring/climate-at-a-glance/global/time-series/globe/land_ocean/1/10/1880-2022.json'"
   ]
  },
  {
   "cell_type": "code",
   "execution_count": 5,
   "id": "36e11f49",
   "metadata": {},
   "outputs": [],
   "source": [
    "with urllib.request.urlopen(json_url) as json_stream:\n",
    "    data = json_stream.read().decode('utf-8')\n",
    "    anomalies = json.loads(data)"
   ]
  },
  {
   "cell_type": "code",
   "execution_count": 6,
   "id": "0dcbb053",
   "metadata": {},
   "outputs": [
    {
     "name": "stdout",
     "output_type": "stream",
     "text": [
      "{'description': {'title': 'Global Land and Ocean October Temperature Anomalies', 'units': 'Degrees Celsius', 'base_period': '1901-2000', 'missing': '-999'}, 'data': {'1880': '-0.31', '1881': '-0.25', '1882': '-0.28', '1883': '-0.24', '1884': '-0.30', '1885': '-0.27', '1886': '-0.21', '1887': '-0.34', '1888': '-0.05', '1889': '-0.24', '1890': '-0.30', '1891': '-0.23', '1892': '-0.23', '1893': '-0.25', '1894': '-0.27', '1895': '-0.12', '1896': '0.04', '1897': '-0.10', '1898': '-0.36', '1899': '-0.07', '1900': '0.05', '1901': '-0.28', '1902': '-0.27', '1903': '-0.48', '1904': '-0.36', '1905': '-0.22', '1906': '-0.21', '1907': '-0.26', '1908': '-0.44', '1909': '-0.39', '1910': '-0.44', '1911': '-0.32', '1912': '-0.54', '1913': '-0.33', '1914': '-0.11', '1915': '-0.21', '1916': '-0.30', '1917': '-0.38', '1918': '-0.11', '1919': '-0.20', '1920': '-0.26', '1921': '-0.08', '1922': '-0.29', '1923': '-0.19', '1924': '-0.32', '1925': '-0.17', '1926': '-0.08', '1927': '-0.02', '1928': '-0.18', '1929': '-0.14', '1930': '-0.05', '1931': '0.02', '1932': '-0.10', '1933': '-0.20', '1934': '-0.02', '1935': '-0.04', '1936': '-0.05', '1937': '0.11', '1938': '0.12', '1939': '-0.02', '1940': '0.15', '1941': '0.36', '1942': '0.03', '1943': '0.25', '1944': '0.29', '1945': '0.17', '1946': '-0.03', '1947': '0.05', '1948': '-0.05', '1949': '-0.04', '1950': '-0.15', '1951': '0.13', '1952': '0.02', '1953': '0.13', '1954': '-0.01', '1955': '-0.09', '1956': '-0.22', '1957': '0.09', '1958': '0.04', '1959': '-0.06', '1960': '0.08', '1961': '-0.11', '1962': '0.03', '1963': '0.21', '1964': '-0.26', '1965': '0.01', '1966': '-0.14', '1967': '0.12', '1968': '0.04', '1969': '0.10', '1970': '-0.03', '1971': '-0.07', '1972': '0.12', '1973': '0.06', '1974': '-0.06', '1975': '-0.12', '1976': '-0.16', '1977': '0.12', '1978': '0.07', '1979': '0.31', '1980': '0.20', '1981': '0.25', '1982': '0.18', '1983': '0.23', '1984': '0.20', '1985': '0.16', '1986': '0.19', '1987': '0.35', '1988': '0.40', '1989': '0.35', '1990': '0.41', '1991': '0.33', '1992': '0.02', '1993': '0.22', '1994': '0.45', '1995': '0.44', '1996': '0.21', '1997': '0.68', '1998': '0.44', '1999': '0.37', '2000': '0.34', '2001': '0.47', '2002': '0.57', '2003': '0.77', '2004': '0.61', '2005': '0.75', '2006': '0.68', '2007': '0.60', '2008': '0.69', '2009': '0.69', '2010': '0.67', '2011': '0.71', '2012': '0.79', '2013': '0.68', '2014': '0.82', '2015': '1.10', '2016': '0.88', '2017': '0.92', '2018': '1.05', '2019': '1.01', '2020': '0.91', '2021': '0.99', '2022': '0.97'}}\n"
     ]
    }
   ],
   "source": [
    "# Note that URL source does not contain citation...\n",
    "\n",
    "print(anomalies)"
   ]
  },
  {
   "cell_type": "code",
   "execution_count": 7,
   "id": "9e1b68f7",
   "metadata": {},
   "outputs": [
    {
     "data": {
      "text/plain": [
       "dict"
      ]
     },
     "execution_count": 7,
     "metadata": {},
     "output_type": "execute_result"
    }
   ],
   "source": [
    "type(anomalies)"
   ]
  },
  {
   "cell_type": "markdown",
   "id": "f3676005",
   "metadata": {},
   "source": [
    "**Now that the data is saved to dictionary variable, you can convert the string data to numbers.**"
   ]
  },
  {
   "cell_type": "code",
   "execution_count": 8,
   "id": "a8d9d395",
   "metadata": {},
   "outputs": [
    {
     "name": "stdout",
     "output_type": "stream",
     "text": [
      "Year 1880 ...  -0.31\n",
      "Year 1881 ...  -0.25\n",
      "Year 1882 ...  -0.28\n",
      "Year 1883 ...  -0.24\n",
      "Year 1884 ...  -0.30\n",
      "Year 1885 ...  -0.27\n",
      "Year 1886 ...  -0.21\n",
      "Year 1887 ...  -0.34\n",
      "Year 1888 ...  -0.05\n",
      "Year 1889 ...  -0.24\n",
      "Year 1890 ...  -0.30\n",
      "Year 1891 ...  -0.23\n",
      "Year 1892 ...  -0.23\n",
      "Year 1893 ...  -0.25\n",
      "Year 1894 ...  -0.27\n",
      "Year 1895 ...  -0.12\n",
      "Year 1896 ...   0.04\n",
      "Year 1897 ...  -0.10\n",
      "Year 1898 ...  -0.36\n",
      "Year 1899 ...  -0.07\n",
      "Year 1900 ...   0.05\n",
      "Year 1901 ...  -0.28\n",
      "Year 1902 ...  -0.27\n",
      "Year 1903 ...  -0.48\n",
      "Year 1904 ...  -0.36\n",
      "Year 1905 ...  -0.22\n",
      "Year 1906 ...  -0.21\n",
      "Year 1907 ...  -0.26\n",
      "Year 1908 ...  -0.44\n",
      "Year 1909 ...  -0.39\n",
      "Year 1910 ...  -0.44\n",
      "Year 1911 ...  -0.32\n",
      "Year 1912 ...  -0.54\n",
      "Year 1913 ...  -0.33\n",
      "Year 1914 ...  -0.11\n",
      "Year 1915 ...  -0.21\n",
      "Year 1916 ...  -0.30\n",
      "Year 1917 ...  -0.38\n",
      "Year 1918 ...  -0.11\n",
      "Year 1919 ...  -0.20\n",
      "Year 1920 ...  -0.26\n",
      "Year 1921 ...  -0.08\n",
      "Year 1922 ...  -0.29\n",
      "Year 1923 ...  -0.19\n",
      "Year 1924 ...  -0.32\n",
      "Year 1925 ...  -0.17\n",
      "Year 1926 ...  -0.08\n",
      "Year 1927 ...  -0.02\n",
      "Year 1928 ...  -0.18\n",
      "Year 1929 ...  -0.14\n",
      "Year 1930 ...  -0.05\n",
      "Year 1931 ...   0.02\n",
      "Year 1932 ...  -0.10\n",
      "Year 1933 ...  -0.20\n",
      "Year 1934 ...  -0.02\n",
      "Year 1935 ...  -0.04\n",
      "Year 1936 ...  -0.05\n",
      "Year 1937 ...   0.11\n",
      "Year 1938 ...   0.12\n",
      "Year 1939 ...  -0.02\n",
      "Year 1940 ...   0.15\n",
      "Year 1941 ...   0.36\n",
      "Year 1942 ...   0.03\n",
      "Year 1943 ...   0.25\n",
      "Year 1944 ...   0.29\n",
      "Year 1945 ...   0.17\n",
      "Year 1946 ...  -0.03\n",
      "Year 1947 ...   0.05\n",
      "Year 1948 ...  -0.05\n",
      "Year 1949 ...  -0.04\n",
      "Year 1950 ...  -0.15\n",
      "Year 1951 ...   0.13\n",
      "Year 1952 ...   0.02\n",
      "Year 1953 ...   0.13\n",
      "Year 1954 ...  -0.01\n",
      "Year 1955 ...  -0.09\n",
      "Year 1956 ...  -0.22\n",
      "Year 1957 ...   0.09\n",
      "Year 1958 ...   0.04\n",
      "Year 1959 ...  -0.06\n",
      "Year 1960 ...   0.08\n",
      "Year 1961 ...  -0.11\n",
      "Year 1962 ...   0.03\n",
      "Year 1963 ...   0.21\n",
      "Year 1964 ...  -0.26\n",
      "Year 1965 ...   0.01\n",
      "Year 1966 ...  -0.14\n",
      "Year 1967 ...   0.12\n",
      "Year 1968 ...   0.04\n",
      "Year 1969 ...   0.10\n",
      "Year 1970 ...  -0.03\n",
      "Year 1971 ...  -0.07\n",
      "Year 1972 ...   0.12\n",
      "Year 1973 ...   0.06\n",
      "Year 1974 ...  -0.06\n",
      "Year 1975 ...  -0.12\n",
      "Year 1976 ...  -0.16\n",
      "Year 1977 ...   0.12\n",
      "Year 1978 ...   0.07\n",
      "Year 1979 ...   0.31\n",
      "Year 1980 ...   0.20\n",
      "Year 1981 ...   0.25\n",
      "Year 1982 ...   0.18\n",
      "Year 1983 ...   0.23\n",
      "Year 1984 ...   0.20\n",
      "Year 1985 ...   0.16\n",
      "Year 1986 ...   0.19\n",
      "Year 1987 ...   0.35\n",
      "Year 1988 ...   0.40\n",
      "Year 1989 ...   0.35\n",
      "Year 1990 ...   0.41\n",
      "Year 1991 ...   0.33\n",
      "Year 1992 ...   0.02\n",
      "Year 1993 ...   0.22\n",
      "Year 1994 ...   0.45\n",
      "Year 1995 ...   0.44\n",
      "Year 1996 ...   0.21\n",
      "Year 1997 ...   0.68\n",
      "Year 1998 ...   0.44\n",
      "Year 1999 ...   0.37\n",
      "Year 2000 ...   0.34\n",
      "Year 2001 ...   0.47\n",
      "Year 2002 ...   0.57\n",
      "Year 2003 ...   0.77\n",
      "Year 2004 ...   0.61\n",
      "Year 2005 ...   0.75\n",
      "Year 2006 ...   0.68\n",
      "Year 2007 ...   0.60\n",
      "Year 2008 ...   0.69\n",
      "Year 2009 ...   0.69\n",
      "Year 2010 ...   0.67\n",
      "Year 2011 ...   0.71\n",
      "Year 2012 ...   0.79\n",
      "Year 2013 ...   0.68\n",
      "Year 2014 ...   0.82\n",
      "Year 2015 ...   1.10\n",
      "Year 2016 ...   0.88\n",
      "Year 2017 ...   0.92\n",
      "Year 2018 ...   1.05\n",
      "Year 2019 ...   1.01\n",
      "Year 2020 ...   0.91\n",
      "Year 2021 ...   0.99\n",
      "Year 2022 ...   0.97\n"
     ]
    }
   ],
   "source": [
    "for year, value in anomalies['data'].items():\n",
    "    year, value = int(year), float(value)\n",
    "    print(f\"Year {year} ... {value:6.2f}\")"
   ]
  },
  {
   "cell_type": "code",
   "execution_count": null,
   "id": "b20ce020",
   "metadata": {},
   "outputs": [],
   "source": []
  }
 ],
 "metadata": {
  "kernelspec": {
   "display_name": "Python 3 (ipykernel)",
   "language": "python",
   "name": "python3"
  },
  "language_info": {
   "codemirror_mode": {
    "name": "ipython",
    "version": 3
   },
   "file_extension": ".py",
   "mimetype": "text/x-python",
   "name": "python",
   "nbconvert_exporter": "python",
   "pygments_lexer": "ipython3",
   "version": "3.9.17"
  }
 },
 "nbformat": 4,
 "nbformat_minor": 5
}
