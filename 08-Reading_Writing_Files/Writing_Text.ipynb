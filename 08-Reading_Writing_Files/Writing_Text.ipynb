{
 "cells": [
  {
   "cell_type": "markdown",
   "id": "79f149f3",
   "metadata": {},
   "source": [
    "# Writing data to text file\n",
    "\n",
    "**There are a couple of ways to write data to a text file, one of whih is to 'print' the Python data and send the print output to an empty text file, rather than printing on the computer screen as is default.** "
   ]
  },
  {
   "cell_type": "code",
   "execution_count": 1,
   "id": "6b71980c",
   "metadata": {},
   "outputs": [],
   "source": [
    "# Python data\n",
    "\n",
    "data = [\n",
    "    \"Andromeda - Shrub\",\n",
    "    \"Bellflower - Flower\",\n",
    "    \"China Pink - Flower\",\n",
    "    \"Daffodil - Flower\",\n",
    "    \"Evening Primrose - Flower\",\n",
    "    \"French Marigold - Flower\",\n",
    "    \"Hydrangea - Shrub\",\n",
    "    \"Iris - Flower\",\n",
    "    \"Japanese Camellia - Shrub\",\n",
    "    \"Lavender - Shrub\",\n",
    "    \"Lilac- Shrub\",\n",
    "    \"Magnolia - Shrub\",\n",
    "    \"Peony - Shrub\",\n",
    "    \"Queen Anne's Lace - Flower\",\n",
    "    \"Red Hot Poker - Flower\",\n",
    "    \"Snapdragon - Flower\",\n",
    "    \"Sunflower - Flower\",\n",
    "    \"Tiger Lily - Flower\",\n",
    "    \"Witch Hazel - Shrub\",\n",
    "]"
   ]
  },
  {
   "cell_type": "code",
   "execution_count": 2,
   "id": "91a3d476",
   "metadata": {},
   "outputs": [],
   "source": [
    "# Writing to this file\n",
    "\n",
    "plants_filename = 'plants_data.txt'"
   ]
  },
  {
   "cell_type": "code",
   "execution_count": 3,
   "id": "fcef3033",
   "metadata": {},
   "outputs": [],
   "source": [
    "# Open text file with writing capability\n",
    "\n",
    "with open(plants_filename, 'w') as plants:\n",
    "    for plant in data:\n",
    "        print(plant, file=plants)"
   ]
  },
  {
   "cell_type": "markdown",
   "id": "bc98e261",
   "metadata": {},
   "source": [
    "**You can also write data to a text file using the `write()` method, which is called off the text file object, i.e. the object that is being written in.**"
   ]
  },
  {
   "cell_type": "code",
   "execution_count": 4,
   "id": "e83c6af2",
   "metadata": {},
   "outputs": [],
   "source": [
    "plants_filename = 'plants_data_2.txt'\n",
    "\n",
    "with open(plants_filename, 'w') as plants:\n",
    "    for plant in data:\n",
    "        plants.write(plant)"
   ]
  },
  {
   "cell_type": "markdown",
   "id": "28578591",
   "metadata": {},
   "source": [
    "**NOTE: Only strings can be written to text since only plain text is allowed in text files. Numbers must be converted to string format before using the `write()` method. There is no need when printing data since the `print()` function automatically converts numbers to strings.**"
   ]
  },
  {
   "cell_type": "code",
   "execution_count": 5,
   "id": "53dabcd3",
   "metadata": {},
   "outputs": [],
   "source": [
    "# NUMBERS PASS THROUGH\n",
    "\n",
    "filename = 'printed_nos.txt'\n",
    "\n",
    "with open(filename, 'w') as num_test:\n",
    "    for i in range(10):\n",
    "        print(i, file=num_test)"
   ]
  },
  {
   "cell_type": "code",
   "execution_count": 6,
   "id": "73d476c7",
   "metadata": {},
   "outputs": [
    {
     "ename": "TypeError",
     "evalue": "write() argument must be str, not int",
     "output_type": "error",
     "traceback": [
      "\u001b[1;31m---------------------------------------------------------------------------\u001b[0m",
      "\u001b[1;31mTypeError\u001b[0m                                 Traceback (most recent call last)",
      "Cell \u001b[1;32mIn[6], line 7\u001b[0m\n\u001b[0;32m      5\u001b[0m \u001b[38;5;28;01mwith\u001b[39;00m \u001b[38;5;28mopen\u001b[39m(filename, \u001b[38;5;124m'\u001b[39m\u001b[38;5;124mw\u001b[39m\u001b[38;5;124m'\u001b[39m) \u001b[38;5;28;01mas\u001b[39;00m num_test:\n\u001b[0;32m      6\u001b[0m     \u001b[38;5;28;01mfor\u001b[39;00m i \u001b[38;5;129;01min\u001b[39;00m \u001b[38;5;28mrange\u001b[39m(\u001b[38;5;241m10\u001b[39m):\n\u001b[1;32m----> 7\u001b[0m         \u001b[43mnum_test\u001b[49m\u001b[38;5;241;43m.\u001b[39;49m\u001b[43mwrite\u001b[49m\u001b[43m(\u001b[49m\u001b[43mi\u001b[49m\u001b[43m)\u001b[49m\n",
      "\u001b[1;31mTypeError\u001b[0m: write() argument must be str, not int"
     ]
    }
   ],
   "source": [
    "# NUMBERS DO NOT PASS THROUGH\n",
    "\n",
    "filename = 'written_nos.txt'\n",
    "\n",
    "with open(filename, 'w') as num_test:\n",
    "    for i in range(10):\n",
    "        num_test.write(i)"
   ]
  },
  {
   "cell_type": "code",
   "execution_count": 7,
   "id": "b45add36",
   "metadata": {},
   "outputs": [],
   "source": [
    "filename = 'written_nos.txt'\n",
    "\n",
    "with open(filename, 'w') as num_test:\n",
    "    for i in range(10):\n",
    "        num_test.write(str(i))"
   ]
  },
  {
   "cell_type": "markdown",
   "id": "b3014ab5",
   "metadata": {},
   "source": [
    "## Reading and Writing to the same text file\n",
    "\n",
    "**'Random access' is the term used for accessing parts of data from any part of the file. Any computer can read or write to any location in its memory (RAM stands for Random Access Memory) - it's the same thing. Using a FILE POINTER, you can move to different postions in the file. The file pointer keeps track of where you are in a file, like the cursor on a document.**\n",
    "\n",
    "**When you write data to a file, it goes in at the current position of the file pointer, then moves forward, as a cursor does when you type. When reading in data from a file, it starts at the current position of the file pointer, and moves forward as well.**\n",
    "\n",
    "**NOTE: Random access wth text files is very limited. You can only re-position the file pointer to the start or the end of the file.**\n",
    "\n",
    "**The data for this exercise is lines of tab-separated values in CSV format. Python tends to convert tabs to whitespaces so be careful when writing data to the file.** \n",
    "\n",
    "    2022-0001\tSquirrel Storage\t132.50\n",
    "    2022-0002\tSquirrel Storage\t45.30\n",
    "    2022-0003\tSquirrel Storage\t834.25\n",
    "    ...\n",
    "    \n",
    "**The data holds the invoice number, company name and the amount.**\n",
    "\n",
    "**As an accountant, you need to update invoice file regularly so the aim is to input data for a new line, based on the last line in the file, in an efficient manner. You need to read in data AND write back to the file, so the file has to be opened in `r+` mode. You could, of course, use the `csv` module, but in this case, we will use functions to split the strings at each tabspace and parse the data.**\n",
    "\n",
    "**Parse the data by extracting the fields, and splitting the invoice numbers into two parts: 2022 and 0001, i.e. year and number, in order to generate the next invoice number in increasing numerically by one. The number should reset at the start of each year.**"
   ]
  },
  {
   "cell_type": "code",
   "execution_count": 8,
   "id": "09cc9292",
   "metadata": {},
   "outputs": [],
   "source": [
    "import datetime\n",
    "\n",
    "# Import text constant \n",
    "from os import SEEK_SET\n",
    "from typing import TextIO"
   ]
  },
  {
   "cell_type": "code",
   "execution_count": 9,
   "id": "ea320026",
   "metadata": {},
   "outputs": [],
   "source": [
    "def get_year() -> int:\n",
    "    \"\"\"Return the current year as an integer.\"\"\"\n",
    "    return datetime.datetime.now().year\n"
   ]
  },
  {
   "cell_type": "code",
   "execution_count": 10,
   "id": "0f30ed36",
   "metadata": {},
   "outputs": [],
   "source": [
    "def parse_invoice_number(invoice_number: str) -> tuple[int, int]:\n",
    "    \"\"\"Split a well-formed invoice \"number\" into its component parts.\n",
    "\n",
    "    :param invoice_number: A string of the form YYYY-NNNN\n",
    "        YYYY is the 4 digit year.\n",
    "        NNNN is a 4 digit invoice number, left padded with zeros.\n",
    "        The 2 parts are separated with a \"-\" character.\n",
    "    :return: The returned tuple will contain:\n",
    "        the 4 digit year as an integer,\n",
    "        the invoice number as an integer.\n",
    "    \"\"\"\n",
    "    year, number = invoice_number.split('-')\n",
    "    return int(year), int(number)\n"
   ]
  },
  {
   "cell_type": "code",
   "execution_count": 11,
   "id": "26250916",
   "metadata": {},
   "outputs": [],
   "source": [
    "def next_invoice_number(invoice_number: str) -> str:\n",
    "    \"\"\" Produce the next invoice \"number\" in sequence.\n",
    "\n",
    "    The format of `invoice_number` is described in `parse_invoice_number`.\n",
    "\n",
    "    :param invoice_number: A string representing an invoice number.\n",
    "    :return: A string representing the next invoice number.\n",
    "        The numerical part will be incremented, unless the current year\n",
    "        isn't the same as the year in `invoice_number`. In that case,\n",
    "        the new invoice number will contain the current year, and the\n",
    "        numerical part will be set to \"0001\".\n",
    "    \"\"\"\n",
    "    invoice_year, invoice_num = parse_invoice_number(invoice_number)\n",
    "    new_invoice_string = ''\n",
    "    current_year = get_year()\n",
    "    \n",
    "    if invoice_year == current_year:\n",
    "        invoice_num += 1\n",
    "        new_invoice_string += str(current_year) + '-' + str(invoice_num).zfill(4)\n",
    "    else:\n",
    "        new_invoice_string += str(current_year) + '-0001'\n",
    "        \n",
    "    return(new_invoice_string)"
   ]
  },
  {
   "cell_type": "code",
   "execution_count": 12,
   "id": "21ffad41",
   "metadata": {},
   "outputs": [
    {
     "name": "stdout",
     "output_type": "stream",
     "text": [
      "2019-0005 parsed successfully\n",
      "New number 2024-0001 generated correctly for 2019-0005\n",
      "--------------------------------------------------------------------------------\n",
      "2024-8514 parsed successfully\n",
      "New number 2024-8515 generated correctly for 2024-8514\n",
      "--------------------------------------------------------------------------------\n",
      "2024-0001 parsed successfully\n",
      "New number 2024-0002 generated correctly for 2024-0001\n",
      "--------------------------------------------------------------------------------\n",
      "2024-0023 parsed successfully\n",
      "New number 2024-0024 generated correctly for 2024-0023\n",
      "--------------------------------------------------------------------------------\n"
     ]
    }
   ],
   "source": [
    "# Test code for functions above\n",
    "\n",
    "current_year = get_year()\n",
    "\n",
    "# List of 4 tuples\n",
    "# Each tuple contains: \n",
    "# test string, \n",
    "# correct output for parse_invoice_number function\n",
    "# correct output for next_invoice_number function\n",
    "test_data = [\n",
    "    ('2019-0005', (2019, 5), f'{current_year}-0001'),\n",
    "    (f'{current_year}-8514', (current_year, 8514), f'{current_year}-8515'),\n",
    "    (f'{current_year}-0001', (current_year, 1), f'{current_year}-0002'),\n",
    "    (f'{current_year}-0023', (current_year, 23), f'{current_year}-0024'),\n",
    "]\n",
    "\n",
    "# Unpack tuples and iterate through to test string against the correct outputs with functions\n",
    "for test_string, result, next_number in test_data:\n",
    "    # Test parse_invoice_number function\n",
    "    parts = parse_invoice_number(test_string)\n",
    "    if parts == result:\n",
    "        print(f'{test_string} parsed successfully')\n",
    "    else:\n",
    "        print(f'{test_string} failed to parse. Expected {result} got {parts}')\n",
    "\n",
    "    # Test next_invoice_number function\n",
    "    new_number = next_invoice_number(test_string)\n",
    "    if next_number == new_number:\n",
    "        print(f'New number {new_number} generated correctly for {test_string}')\n",
    "    else:\n",
    "        print(f'New number {new_number} is not correct for {test_string}')\n",
    "\n",
    "    print('-' * 80)\n",
    "\n"
   ]
  },
  {
   "cell_type": "markdown",
   "id": "08877c84",
   "metadata": {},
   "source": [
    "**The function to write a new line to the file takes in an opened file to get the last line of the document and then split it into three parts - the invoice number, the company name and the amount, using string methods.**\n",
    "\n",
    "**The opened file should be read in line-by-line, to get the last line. You could read in all the lines at once, then slice the list to get the last line, but this takes up more memory, especially if you are dealing with a lot of data.**"
   ]
  },
  {
   "cell_type": "code",
   "execution_count": 13,
   "id": "24044905",
   "metadata": {},
   "outputs": [],
   "source": [
    "def record_invoice(invoice_file: TextIO, \n",
    "                   company: str, \n",
    "                   amount: float) -> None:\n",
    "    \"\"\"Create a new invoice number, and write it to a file on disk.\n",
    "\n",
    "    :param invoice_file: An open text file, opened using r+ mode\n",
    "    :param company: The name of the company being invoiced\n",
    "    :param amount: The amount on the invoice\n",
    "    \"\"\"\n",
    "    last_row = ''\n",
    "    \n",
    "    for line in invoice_file:\n",
    "        # Can remove after testing\n",
    "        print('*', end='')\n",
    "        last_row = line\n",
    "    \n",
    "    # If last row has content\n",
    "    if last_row:\n",
    "        invoice_number, c, a = last_row.split('\\t')\n",
    "        new_invoice_number = next_invoice_number(invoice_number)\n",
    "    else:\n",
    "        # i.e. if file is empty, start numbering from one\n",
    "        year = get_year()\n",
    "        new_invoice_number = \"{year}-{1:04d}\"\n",
    "    \n",
    "    print(f\"{new_invoice_number}\\t{company}\\t{amount}\", file=invoice_file)\n",
    "    \n"
   ]
  },
  {
   "cell_type": "code",
   "execution_count": 14,
   "id": "1ef5e554",
   "metadata": {},
   "outputs": [
    {
     "name": "stdout",
     "output_type": "stream",
     "text": [
      "**************"
     ]
    }
   ],
   "source": [
    "# Open file with reading AND writing mode\n",
    "\n",
    "data_file = 'data/invoices.csv'\n",
    "\n",
    "with open(data_file, 'r+', encoding='utf-8', newline='') as invoices:\n",
    "    record_invoice(invoices, 'Spaghetti Junction', 3400.00)\n",
    "    "
   ]
  },
  {
   "cell_type": "markdown",
   "id": "3840803b",
   "metadata": {},
   "source": [
    "**NOTE: You cannot call the `record_invoice` function more than once in the block of code above, because the file is already read in line-by-line during the first function call, so the file is considered empty because the loop is never executed and last row is reset to empty string. The new invoice number will start numbering from one, i.e. '*current_year*-0001'.**\n",
    "\n",
    "**You can store the position of the file pointer *before* reading the file, at the start of the function. When you call the function again, you start reading from the stored position of the file pointer, rather than from the end of the file. With text files, this is limited moving the file pointer to the start of file, but that suits our purposes fine.** \n",
    "\n",
    "## Using `seek()` and `tell()` methods\n",
    "\n",
    "**The `seek()` method moves the file pointer, and the `tell()` method retrieves the current position of the file pointer, although it is not used in code below.**"
   ]
  },
  {
   "cell_type": "code",
   "execution_count": 15,
   "id": "0be3fbf5",
   "metadata": {},
   "outputs": [],
   "source": [
    "def record_invoice(invoice_file: TextIO, \n",
    "                   company: str, \n",
    "                   amount: float) -> None:\n",
    "    \"\"\"Create a new invoice number, and write it to a file on disk.\n",
    "\n",
    "    :param invoice_file: An open text file, opened using r+ mode\n",
    "    :param company: The name of the company being invoiced\n",
    "    :param amount: The amount on the invoice\n",
    "    \"\"\"\n",
    "    # Store file pointer startpoint\n",
    "    start_line_pos = 0\n",
    "    # Move to position relative to the start of file\n",
    "    invoice_file.seek(start_line_pos, SEEK_SET)\n",
    "    \n",
    "    # Read from file pointer position, i.e. start of file\n",
    "    last_row = ''\n",
    "    for line in invoice_file:\n",
    "        print('*', end='')\n",
    "        last_row = line\n",
    "    \n",
    "    # If last row has content\n",
    "    if last_row:\n",
    "        invoice_number, c, a = last_row.split('\\t')\n",
    "        new_invoice_number = next_invoice_number(invoice_number)\n",
    "    else:\n",
    "        # i.e. if file is empty, start numbering from one\n",
    "        year = get_year()\n",
    "        new_invoice_number = \"{year}-{1:04d}\"\n",
    "    \n",
    "    print(f\"{new_invoice_number}\\t{company}\\t{amount}\", file=invoice_file)\n",
    "    "
   ]
  },
  {
   "cell_type": "code",
   "execution_count": 16,
   "id": "386432cd",
   "metadata": {},
   "outputs": [
    {
     "name": "stdout",
     "output_type": "stream",
     "text": [
      "*******************************"
     ]
    }
   ],
   "source": [
    "with open(data_file, 'r+', encoding='utf-8', newline='') as invoices:\n",
    "    record_invoice(invoices, 'Tongue Twister', 120.00)\n",
    "    record_invoice(invoices, 'ACME Roadrunner', 45.22)"
   ]
  },
  {
   "cell_type": "code",
   "execution_count": 17,
   "id": "96d2c21a",
   "metadata": {},
   "outputs": [
    {
     "name": "stdout",
     "output_type": "stream",
     "text": [
      "******************************************************"
     ]
    }
   ],
   "source": [
    "with open(data_file, 'r+', encoding='utf-8', newline='') as invoices:\n",
    "    record_invoice(invoices, 'Tongue Twister', 120.00)\n",
    "    record_invoice(invoices, 'ACME Roadrunner', 45.22)\n",
    "    record_invoice(invoices, 'Simply Red', 0.14)"
   ]
  },
  {
   "cell_type": "markdown",
   "id": "86092700",
   "metadata": {},
   "source": [
    "**You can store the position of the last line of data, rather than storing the position at the start of the file. This means adding a new parameter to the function, to take in the stored position of the file pointer as an argument, which is recorded *before* writing a new line to the file.**"
   ]
  },
  {
   "cell_type": "code",
   "execution_count": 18,
   "id": "aaf10b21",
   "metadata": {},
   "outputs": [],
   "source": [
    "def record_invoice(invoice_file: TextIO, \n",
    "                   company: str, \n",
    "                   amount: float, \n",
    "                   last_line_pos: int = 0) -> int:\n",
    "    \"\"\"Create a new invoice number, and write it to a file on disk.\n",
    "\n",
    "    :param invoice_file: An open text file, opened using 'r+'' mode.\n",
    "    :param company: The name of the company being invoiced.\n",
    "    :param amount: The amount on the invoice.\n",
    "    :param last_line_pos: The position of the start of last line in file.\n",
    "    Obtained from previous function call, or use default value of zero.\n",
    "    :return: The position of the last line of data (file pointer) as \n",
    "    an integer, to be used by any subsequent function calls in \n",
    "    already-opened file.\n",
    "    \"\"\"\n",
    "    # Move to last line position (relative to the start of file)\n",
    "    invoice_file.seek(last_line_pos, SEEK_SET)\n",
    "    \n",
    "    # Loop through lines from last line position\n",
    "    last_row = ''\n",
    "    for line in invoice_file:\n",
    "        print('*', end='')\n",
    "        last_row = line\n",
    "    \n",
    "    # If last row has content\n",
    "    if last_row:\n",
    "        invoice_number, c, a = last_row.split('\\t')\n",
    "        new_invoice_number = next_invoice_number(invoice_number)\n",
    "    else:\n",
    "        # i.e. if file is empty, start numbering from one\n",
    "        year = get_year()\n",
    "        new_invoice_number = \"{year}-{1:04d}\"\n",
    "        \n",
    "    # Store last line position\n",
    "    last_line_pos = invoice_file.tell()\n",
    "    \n",
    "    # Write new line to file\n",
    "    print(f\"{new_invoice_number}\\t{company}\\t{amount}\", file=invoice_file)\n",
    "    \n",
    "    return last_line_pos\n",
    "    \n"
   ]
  },
  {
   "cell_type": "code",
   "execution_count": 19,
   "id": "350b9f52",
   "metadata": {},
   "outputs": [
    {
     "name": "stdout",
     "output_type": "stream",
     "text": [
      "**********************"
     ]
    }
   ],
   "source": [
    "# Store each function call in a variable to store last line position\n",
    "\n",
    "with open(data_file, 'r+', encoding='utf-8', newline='') as invoices:\n",
    "    last_line = record_invoice(invoices, 'Tongue Twister', 120.00)\n",
    "    last_line = record_invoice(invoices, 'ACME Roadrunner', 45.22, last_line)\n",
    "    last_line = record_invoice(invoices, 'Simply Red', 0.14, last_line)"
   ]
  },
  {
   "cell_type": "code",
   "execution_count": null,
   "id": "7a5eb088",
   "metadata": {},
   "outputs": [],
   "source": []
  }
 ],
 "metadata": {
  "kernelspec": {
   "display_name": "Python 3 (ipykernel)",
   "language": "python",
   "name": "python3"
  },
  "language_info": {
   "codemirror_mode": {
    "name": "ipython",
    "version": 3
   },
   "file_extension": ".py",
   "mimetype": "text/x-python",
   "name": "python",
   "nbconvert_exporter": "python",
   "pygments_lexer": "ipython3",
   "version": "3.9.17"
  }
 },
 "nbformat": 4,
 "nbformat_minor": 5
}
