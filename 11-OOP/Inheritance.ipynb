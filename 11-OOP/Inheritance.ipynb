{
 "cells": [
  {
   "cell_type": "markdown",
   "id": "fcd86995",
   "metadata": {},
   "source": [
    "# Inheritance in Object-Oriented Programming\n",
    "\n",
    "**Using the same code for the `Player` class from the session on getters and setters, continue to add another class for enemies!**\n",
    "\n",
    "**The BASE CLASS, `Enemy`, comes with attributes that the player will have to fight, so in this game, you can create an enemy for your player.**"
   ]
  },
  {
   "cell_type": "code",
   "execution_count": 1,
   "id": "c3d4079d",
   "metadata": {},
   "outputs": [],
   "source": [
    "class Player(object):\n",
    "    \"\"\"\n",
    "    Data attributes of an instance:\n",
    "        `self.name` (str) - Name of player\n",
    "        `self._lives` (int) - Number of lives (default 3), not for client use\n",
    "        `self.level` (int) - Level (default 1)\n",
    "        `self._score` (int) - Score (default 0))\n",
    "    \"\"\"\n",
    "    \n",
    "    # Class constructor\n",
    "    def __init__(self, name):\n",
    "        self.name = name\n",
    "        self._lives = 3\n",
    "        self._level = 1\n",
    "        self._score = 0\n",
    "        \n",
    "    def _get_lives(self):\n",
    "        return self._lives\n",
    "    \n",
    "    def _set_lives(self, lives):\n",
    "        if lives >= 0:\n",
    "            self._lives = lives\n",
    "        else:\n",
    "            print(\"You have no more lives left\")\n",
    "            self._lives = 0\n",
    "    \n",
    "    lives = property(_get_lives, _set_lives)\n",
    "    \n",
    "    def _get_level(self):\n",
    "        return self._level\n",
    "    \n",
    "    def _set_level(self, level):\n",
    "        if level > 1:\n",
    "            delta = level - self._level\n",
    "            self._score += delta * 1000\n",
    "            self._level = level\n",
    "        else:\n",
    "            print(\"Level cannot go below one\")\n",
    "    \n",
    "    level = property(_get_level, _set_level)\n",
    "    \n",
    "    # PROPERTY DECORATOR\n",
    "    @property\n",
    "    def score(self):\n",
    "        return self._score\n",
    "    \n",
    "    # SETTER DECORATOR\n",
    "    @score.setter\n",
    "    def score(self, score):\n",
    "        self._score = score\n",
    "    \n",
    "    def __str__(self):\n",
    "        return \"Name: {0.name}, Lives: {0.lives}, Level: {0.level}, Score = {0.score}\".format(self)\n",
    "    \n"
   ]
  },
  {
   "cell_type": "code",
   "execution_count": 2,
   "id": "ca3ad8fc",
   "metadata": {},
   "outputs": [],
   "source": [
    "class Enemy:\n",
    "    \"\"\"\n",
    "    Data attributes of an instance:\n",
    "        `self.name`\n",
    "        `self.hit_points`\n",
    "        `self.lives`\n",
    "    \"\"\"\n",
    "    \n",
    "    def __init__(self, name='Enemy', hit_points=0, lives=1):\n",
    "        self.name = name\n",
    "        self.hit_points = hit_points\n",
    "        self.lives = lives\n",
    "    \n",
    "    def take_damage(self, damage):\n",
    "        remaining_points = self.hit_points - damage\n",
    "        \n",
    "        if remaining_points >= 0:\n",
    "            self.hit_points = remaining_points\n",
    "            print(f\"I took {damage} hits in damage and have {self.hit_points} points left\")\n",
    "        else:\n",
    "            self.lives -= 1\n",
    "    \n",
    "    def __str__(self):\n",
    "        return \"Name: {0.name}, Lives: {0.lives}, Hit Points = {0.hit_points}\".format(self)\n",
    "    "
   ]
  },
  {
   "cell_type": "code",
   "execution_count": 3,
   "id": "611cf927",
   "metadata": {},
   "outputs": [],
   "source": [
    "joker = Enemy(\"Joker\", 12, 1)"
   ]
  },
  {
   "cell_type": "code",
   "execution_count": 4,
   "id": "998b8f7a",
   "metadata": {},
   "outputs": [
    {
     "name": "stdout",
     "output_type": "stream",
     "text": [
      "Name: Joker, Lives: 1, Hit Points = 12\n"
     ]
    }
   ],
   "source": [
    "print(joker)"
   ]
  },
  {
   "cell_type": "code",
   "execution_count": 5,
   "id": "7950302f",
   "metadata": {},
   "outputs": [
    {
     "name": "stdout",
     "output_type": "stream",
     "text": [
      "I took 4 hits in damage and have 8 points left\n",
      "Name: Joker, Lives: 1, Hit Points = 8\n"
     ]
    }
   ],
   "source": [
    "joker.take_damage(4)\n",
    "\n",
    "print(joker)"
   ]
  },
  {
   "cell_type": "markdown",
   "id": "79820619",
   "metadata": {},
   "source": [
    "**Extend the `Enemy` class by inserting SUBCLASSES for different types of enemies, e.g. 'troll', 'vampire' etc.** \n",
    "\n",
    "**Update the `take_damage()` method to end in death for an enemy when they run out of hit points and lives.**"
   ]
  },
  {
   "cell_type": "code",
   "execution_count": 6,
   "id": "71ec91c6",
   "metadata": {},
   "outputs": [],
   "source": [
    "class Enemy:\n",
    "    \"\"\"\n",
    "    Data attributes of an instance:\n",
    "        `self.name` (str) - Name of enemy, defaults to 'Enemy'\n",
    "        `self.hit_points` (int) - Number of hit points, defaults to 0\n",
    "        `self.lives` (int) - Number of lives, defaults to 1\n",
    "        `self.alive` (bool) - Is enemy still alive? Defaults to True\n",
    "    \"\"\"\n",
    "    \n",
    "    def __init__(self, name='Enemy', hit_points=0, lives=1):\n",
    "        self.name = name\n",
    "        self.hit_points = hit_points\n",
    "        self.lives = lives\n",
    "        self.alive = True\n",
    "    \n",
    "    def take_damage(self, damage):\n",
    "        remaining_points = self.hit_points - damage\n",
    "        \n",
    "        if remaining_points >= 0:\n",
    "            self.hit_points = remaining_points\n",
    "            print(f\"I took {damage} hits in damage and have {self.hit_points} points left\")\n",
    "        else:\n",
    "            self.lives -= 1\n",
    "            if self.lives > 0:\n",
    "                print(f\"{self.name} lost a life\")\n",
    "            else:\n",
    "                print(f\"{self.name} is dead!\")\n",
    "                self.alive = False\n",
    "    \n",
    "    def __str__(self):\n",
    "        return \"Name: {0.name}, Lives: {0.lives}, Hit Points = {0.hit_points}\".format(self)\n",
    "\n",
    "\n",
    "# SUBCLASS where hit points are same for all trolls (23)\n",
    "\n",
    "class Troll(Enemy):\n",
    "    \"\"\"\n",
    "    Data attributes of instance:\n",
    "        `self.name` (str) - Name of troll must be specified\n",
    "        `hit_points` (int) - Number of hit points, defaults to 23\n",
    "        `lives` (int) - Number of lives, defaults to 1\n",
    "        `alive` (bool) - Is troll still alive? Defaults to True\n",
    "    \"\"\"\n",
    "    \n",
    "    def __init__(self, name):\n",
    "        # Call superclass init function (Enemy.__init__()) to initialize its attributes\n",
    "        super().__init__(name=name, hit_points=23, lives=1)\n",
    "    \n",
    "    def grunt(self):\n",
    "        print(f\"Me {self.name}.{self.name} stomp you grunt grr grunt\")\n"
   ]
  },
  {
   "cell_type": "code",
   "execution_count": 7,
   "id": "627f0c50",
   "metadata": {},
   "outputs": [
    {
     "name": "stdout",
     "output_type": "stream",
     "text": [
      "Name: Ug, Lives: 1, Hit Points = 23\n"
     ]
    }
   ],
   "source": [
    "ug = Troll(\"Ug\")\n",
    "\n",
    "print(ug)"
   ]
  },
  {
   "cell_type": "code",
   "execution_count": 8,
   "id": "36ef122e",
   "metadata": {},
   "outputs": [
    {
     "name": "stdout",
     "output_type": "stream",
     "text": [
      "Me Ug.Ug stomp you grunt grr grunt\n"
     ]
    }
   ],
   "source": [
    "# You cannot get Enemy instance to grunt\n",
    "\n",
    "ug.grunt()"
   ]
  },
  {
   "cell_type": "code",
   "execution_count": 9,
   "id": "c55b4ae3",
   "metadata": {},
   "outputs": [
    {
     "name": "stdout",
     "output_type": "stream",
     "text": [
      "I took 4 hits in damage and have 19 points left\n",
      "Name: Ug, Lives: 1, Hit Points = 19\n"
     ]
    }
   ],
   "source": [
    "# But you can get Troll instance to take damage\n",
    "\n",
    "ug.take_damage(4)\n",
    "\n",
    "print(ug)"
   ]
  },
  {
   "cell_type": "code",
   "execution_count": 10,
   "id": "28b37f15",
   "metadata": {},
   "outputs": [],
   "source": [
    "# New SUBCLASS for vampires (default 12 hit points & 3 lives)\n",
    "\n",
    "class Vampire(Enemy):\n",
    "    def __init__(self, name):\n",
    "        super().__init__(name=name, hit_points=12, lives=3)\n",
    "    \n"
   ]
  },
  {
   "cell_type": "code",
   "execution_count": 11,
   "id": "46f93270",
   "metadata": {},
   "outputs": [
    {
     "name": "stdout",
     "output_type": "stream",
     "text": [
      "Name: Vlad, Lives: 3, Hit Points = 12\n"
     ]
    }
   ],
   "source": [
    "vlad = Vampire(\"Vlad\")\n",
    "\n",
    "print(vlad)"
   ]
  },
  {
   "cell_type": "code",
   "execution_count": 12,
   "id": "29281cf6",
   "metadata": {},
   "outputs": [
    {
     "name": "stdout",
     "output_type": "stream",
     "text": [
      "I took 4 hits in damage and have 8 points left\n",
      "Name: Vlad, Lives: 3, Hit Points = 8\n"
     ]
    }
   ],
   "source": [
    "vlad.take_damage(4)\n",
    "\n",
    "print(vlad)"
   ]
  },
  {
   "cell_type": "code",
   "execution_count": 13,
   "id": "23311840",
   "metadata": {},
   "outputs": [
    {
     "name": "stdout",
     "output_type": "stream",
     "text": [
      "I took 1 hits in damage and have 7 points left\n",
      "Name: Vlad, Lives: 3, Hit Points = 7\n",
      "I took 1 hits in damage and have 6 points left\n",
      "Name: Vlad, Lives: 3, Hit Points = 6\n",
      "I took 1 hits in damage and have 5 points left\n",
      "Name: Vlad, Lives: 3, Hit Points = 5\n",
      "I took 1 hits in damage and have 4 points left\n",
      "Name: Vlad, Lives: 3, Hit Points = 4\n",
      "I took 1 hits in damage and have 3 points left\n",
      "Name: Vlad, Lives: 3, Hit Points = 3\n",
      "I took 1 hits in damage and have 2 points left\n",
      "Name: Vlad, Lives: 3, Hit Points = 2\n",
      "I took 1 hits in damage and have 1 points left\n",
      "Name: Vlad, Lives: 3, Hit Points = 1\n",
      "I took 1 hits in damage and have 0 points left\n",
      "Name: Vlad, Lives: 3, Hit Points = 0\n",
      "Vlad lost a life\n",
      "Name: Vlad, Lives: 2, Hit Points = 0\n",
      "Vlad lost a life\n",
      "Name: Vlad, Lives: 1, Hit Points = 0\n",
      "Vlad is dead!\n",
      "Name: Vlad, Lives: 0, Hit Points = 0\n"
     ]
    }
   ],
   "source": [
    "# Continually hit vampire until it dies\n",
    "\n",
    "while vlad.alive:\n",
    "    vlad.take_damage(1)\n",
    "    print(vlad)"
   ]
  },
  {
   "cell_type": "markdown",
   "id": "bce99846",
   "metadata": {},
   "source": [
    "**Add a new method to the `Vampire` subclass, to turn vampire into a bat or use superspeed, to avoid taking damage. This new method works against the `take_damage()` method that belongs to the `Enemy` superclass by avoiding a loss in hit points.**"
   ]
  },
  {
   "cell_type": "code",
   "execution_count": 14,
   "id": "0e8529e3",
   "metadata": {},
   "outputs": [],
   "source": [
    "import random\n",
    "\n",
    "class Vampire(Enemy):\n",
    "    \n",
    "    def __init__(self, name):\n",
    "        super().__init__(name=name, hit_points=12, lives=3)\n",
    "    \n",
    "    def dodge_attack(self):\n",
    "        # One-out-of-three chance of avoiding attack\n",
    "        if random.randint(1, 3) == 3:\n",
    "            print(f\"***** {self.name} dodges attack *****\")\n",
    "            return True\n",
    "        else:\n",
    "            return False\n",
    "    \n"
   ]
  },
  {
   "cell_type": "code",
   "execution_count": 15,
   "id": "b7d44d3e",
   "metadata": {},
   "outputs": [
    {
     "name": "stdout",
     "output_type": "stream",
     "text": [
      "Name: Vlad, Lives: 3, Hit Points = 12\n"
     ]
    }
   ],
   "source": [
    "vlad = Vampire(\"Vlad\")\n",
    "\n",
    "print(vlad)"
   ]
  },
  {
   "cell_type": "code",
   "execution_count": 16,
   "id": "4e9ed8e0",
   "metadata": {},
   "outputs": [
    {
     "name": "stdout",
     "output_type": "stream",
     "text": [
      "***** Vlad dodges attack *****\n",
      "I took 1 hits in damage and have 11 points left\n",
      "Name: Vlad, Lives: 3, Hit Points = 11\n",
      "I took 1 hits in damage and have 10 points left\n",
      "Name: Vlad, Lives: 3, Hit Points = 10\n",
      "I took 1 hits in damage and have 9 points left\n",
      "Name: Vlad, Lives: 3, Hit Points = 9\n",
      "I took 1 hits in damage and have 8 points left\n",
      "Name: Vlad, Lives: 3, Hit Points = 8\n",
      "***** Vlad dodges attack *****\n",
      "***** Vlad dodges attack *****\n",
      "***** Vlad dodges attack *****\n",
      "I took 1 hits in damage and have 7 points left\n",
      "Name: Vlad, Lives: 3, Hit Points = 7\n",
      "***** Vlad dodges attack *****\n",
      "***** Vlad dodges attack *****\n",
      "I took 1 hits in damage and have 6 points left\n",
      "Name: Vlad, Lives: 3, Hit Points = 6\n",
      "***** Vlad dodges attack *****\n",
      "I took 1 hits in damage and have 5 points left\n",
      "Name: Vlad, Lives: 3, Hit Points = 5\n",
      "I took 1 hits in damage and have 4 points left\n",
      "Name: Vlad, Lives: 3, Hit Points = 4\n",
      "I took 1 hits in damage and have 3 points left\n",
      "Name: Vlad, Lives: 3, Hit Points = 3\n",
      "I took 1 hits in damage and have 2 points left\n",
      "Name: Vlad, Lives: 3, Hit Points = 2\n",
      "***** Vlad dodges attack *****\n",
      "***** Vlad dodges attack *****\n",
      "I took 1 hits in damage and have 1 points left\n",
      "Name: Vlad, Lives: 3, Hit Points = 1\n",
      "***** Vlad dodges attack *****\n",
      "I took 1 hits in damage and have 0 points left\n",
      "Name: Vlad, Lives: 3, Hit Points = 0\n",
      "Vlad lost a life\n",
      "Name: Vlad, Lives: 2, Hit Points = 0\n",
      "Vlad lost a life\n",
      "Name: Vlad, Lives: 1, Hit Points = 0\n",
      "Vlad is dead!\n",
      "Name: Vlad, Lives: 0, Hit Points = 0\n"
     ]
    }
   ],
   "source": [
    "while vlad.alive:\n",
    "    if not vlad.dodge_attack():\n",
    "        vlad.take_damage(1)\n",
    "        print(vlad)"
   ]
  },
  {
   "cell_type": "markdown",
   "id": "977f202d",
   "metadata": {},
   "source": [
    "**As long as Vlad is alive, the loop keeps iterating over the hit points at each life. If Vlad has not dodged an attack, which you can see is happening randomly, he takes a hit with `take_damage()` method from `Enemy` superclass.**\n",
    "\n",
    "## Overriding superclass method\n",
    "\n",
    "**You can 'override' the `take_damage()` method from `Enemy` superclass completely, by adding a new method to the subclass with the same name. The new method still uses the superclass `take_damage()` method, when the Vampire fails to dodge an attack, so you don't have to write the code all over again.**"
   ]
  },
  {
   "cell_type": "code",
   "execution_count": 17,
   "id": "d0517f4c",
   "metadata": {},
   "outputs": [],
   "source": [
    "class Vampire(Enemy):\n",
    "    \n",
    "    def __init__(self, name):\n",
    "        super().__init__(name=name, hit_points=12, lives=3)\n",
    "    \n",
    "    def dodge_attack(self):\n",
    "        # One-out-of-three chance of avoiding attack\n",
    "        if random.randint(1, 3) == 3:\n",
    "            print(f\"***** {self.name} dodges attack *****\")\n",
    "            return True\n",
    "        else:\n",
    "            return False\n",
    "    \n",
    "    # Override take_damage() superclass method\n",
    "    def take_damage(self, damage):\n",
    "        if not self.dodge_attack():\n",
    "            super().take_damage(damage=damage)\n",
    "    \n"
   ]
  },
  {
   "cell_type": "code",
   "execution_count": 19,
   "id": "4cd1706b",
   "metadata": {},
   "outputs": [
    {
     "name": "stdout",
     "output_type": "stream",
     "text": [
      "Name: Vlad, Lives: 3, Hit Points = 12\n"
     ]
    }
   ],
   "source": [
    "vlad = Vampire(\"Vlad\")\n",
    "\n",
    "print(vlad)"
   ]
  },
  {
   "cell_type": "code",
   "execution_count": 20,
   "id": "5d138b86",
   "metadata": {},
   "outputs": [
    {
     "name": "stdout",
     "output_type": "stream",
     "text": [
      "I took 1 hits in damage and have 11 points left\n",
      "***** Vlad dodges attack *****\n",
      "I took 1 hits in damage and have 10 points left\n",
      "***** Vlad dodges attack *****\n",
      "I took 1 hits in damage and have 9 points left\n",
      "I took 1 hits in damage and have 8 points left\n",
      "I took 1 hits in damage and have 7 points left\n",
      "I took 1 hits in damage and have 6 points left\n",
      "***** Vlad dodges attack *****\n",
      "I took 1 hits in damage and have 5 points left\n",
      "I took 1 hits in damage and have 4 points left\n",
      "I took 1 hits in damage and have 3 points left\n",
      "I took 1 hits in damage and have 2 points left\n",
      "I took 1 hits in damage and have 1 points left\n",
      "I took 1 hits in damage and have 0 points left\n",
      "Vlad lost a life\n",
      "***** Vlad dodges attack *****\n",
      "Vlad lost a life\n",
      "Vlad is dead!\n"
     ]
    }
   ],
   "source": [
    "while vlad.alive:\n",
    "    vlad.take_damage(1)"
   ]
  },
  {
   "cell_type": "markdown",
   "id": "bfb4d33f",
   "metadata": {},
   "source": [
    "## Create subclass of a subclass\n",
    "\n",
    "**Create new `VampireKing` subclass in the `Vampire` subclass (making it the superclass), that creates an instance of a vampire lord, who is incredibly powerful, and when he takes a hit, the damage is divided by 4. The vampire king also starts with 140 hit points and 3 lives.**\n",
    "\n",
    "**Extend the `Vampre` class to create a `VampireKing` instance with the additional properties.**"
   ]
  },
  {
   "cell_type": "code",
   "execution_count": 28,
   "id": "3a1c269e",
   "metadata": {},
   "outputs": [],
   "source": [
    "class VampireKing(Vampire):\n",
    "    \n",
    "    # Single parameter because calling init method from `Vampire` class\n",
    "    def __init__(self, name):\n",
    "        super().__init__(name=name)\n",
    "        self.hit_points = 140\n",
    "    \n",
    "    def dodge_attack(self):\n",
    "        if random.randint(1, 3) == 3:\n",
    "            print(f\"***** {self.name} dodges attack *****\")\n",
    "            return True\n",
    "        else:\n",
    "            return False\n",
    "    \n",
    "    # Override take_damage() superclass method\n",
    "    def take_damage(self, damage):\n",
    "        if not self.dodge_attack():\n",
    "            damage //= 4\n",
    "            super().take_damage(damage=damage)\n",
    "    "
   ]
  },
  {
   "cell_type": "code",
   "execution_count": 29,
   "id": "c4ad2c92",
   "metadata": {},
   "outputs": [
    {
     "name": "stdout",
     "output_type": "stream",
     "text": [
      "Name: Dracula, Lives: 3, Hit Points = 140\n"
     ]
    }
   ],
   "source": [
    "dracula = VampireKing(\"Dracula\")\n",
    "\n",
    "print(dracula)"
   ]
  },
  {
   "cell_type": "code",
   "execution_count": 30,
   "id": "d1552f0a",
   "metadata": {},
   "outputs": [
    {
     "name": "stdout",
     "output_type": "stream",
     "text": [
      "***** Dracula dodges attack *****\n",
      "***** Dracula dodges attack *****\n",
      "***** Dracula dodges attack *****\n",
      "I took 2 hits in damage and have 138 points left\n",
      "***** Dracula dodges attack *****\n",
      "I took 2 hits in damage and have 136 points left\n",
      "***** Dracula dodges attack *****\n",
      "I took 2 hits in damage and have 134 points left\n",
      "I took 2 hits in damage and have 132 points left\n",
      "***** Dracula dodges attack *****\n",
      "***** Dracula dodges attack *****\n",
      "I took 2 hits in damage and have 130 points left\n",
      "***** Dracula dodges attack *****\n",
      "I took 2 hits in damage and have 128 points left\n",
      "***** Dracula dodges attack *****\n",
      "I took 2 hits in damage and have 126 points left\n",
      "***** Dracula dodges attack *****\n",
      "***** Dracula dodges attack *****\n",
      "I took 2 hits in damage and have 124 points left\n",
      "***** Dracula dodges attack *****\n",
      "***** Dracula dodges attack *****\n",
      "***** Dracula dodges attack *****\n",
      "***** Dracula dodges attack *****\n",
      "I took 2 hits in damage and have 122 points left\n",
      "***** Dracula dodges attack *****\n",
      "***** Dracula dodges attack *****\n",
      "I took 2 hits in damage and have 120 points left\n",
      "I took 2 hits in damage and have 118 points left\n",
      "I took 2 hits in damage and have 116 points left\n",
      "I took 2 hits in damage and have 114 points left\n",
      "***** Dracula dodges attack *****\n",
      "***** Dracula dodges attack *****\n",
      "***** Dracula dodges attack *****\n",
      "***** Dracula dodges attack *****\n",
      "***** Dracula dodges attack *****\n",
      "***** Dracula dodges attack *****\n",
      "I took 2 hits in damage and have 112 points left\n",
      "***** Dracula dodges attack *****\n",
      "I took 2 hits in damage and have 110 points left\n",
      "***** Dracula dodges attack *****\n",
      "***** Dracula dodges attack *****\n",
      "***** Dracula dodges attack *****\n",
      "I took 2 hits in damage and have 108 points left\n",
      "***** Dracula dodges attack *****\n",
      "***** Dracula dodges attack *****\n",
      "I took 2 hits in damage and have 106 points left\n",
      "***** Dracula dodges attack *****\n",
      "I took 2 hits in damage and have 104 points left\n",
      "***** Dracula dodges attack *****\n",
      "***** Dracula dodges attack *****\n",
      "***** Dracula dodges attack *****\n",
      "***** Dracula dodges attack *****\n",
      "***** Dracula dodges attack *****\n",
      "I took 2 hits in damage and have 102 points left\n",
      "***** Dracula dodges attack *****\n",
      "I took 2 hits in damage and have 100 points left\n",
      "***** Dracula dodges attack *****\n",
      "I took 2 hits in damage and have 98 points left\n",
      "***** Dracula dodges attack *****\n",
      "***** Dracula dodges attack *****\n",
      "I took 2 hits in damage and have 96 points left\n",
      "***** Dracula dodges attack *****\n",
      "***** Dracula dodges attack *****\n",
      "I took 2 hits in damage and have 94 points left\n",
      "I took 2 hits in damage and have 92 points left\n",
      "***** Dracula dodges attack *****\n",
      "***** Dracula dodges attack *****\n",
      "I took 2 hits in damage and have 90 points left\n",
      "***** Dracula dodges attack *****\n",
      "I took 2 hits in damage and have 88 points left\n",
      "I took 2 hits in damage and have 86 points left\n",
      "***** Dracula dodges attack *****\n",
      "***** Dracula dodges attack *****\n",
      "I took 2 hits in damage and have 84 points left\n",
      "***** Dracula dodges attack *****\n",
      "I took 2 hits in damage and have 82 points left\n",
      "I took 2 hits in damage and have 80 points left\n",
      "I took 2 hits in damage and have 78 points left\n",
      "I took 2 hits in damage and have 76 points left\n",
      "I took 2 hits in damage and have 74 points left\n",
      "I took 2 hits in damage and have 72 points left\n",
      "***** Dracula dodges attack *****\n",
      "***** Dracula dodges attack *****\n",
      "I took 2 hits in damage and have 70 points left\n",
      "***** Dracula dodges attack *****\n",
      "I took 2 hits in damage and have 68 points left\n",
      "I took 2 hits in damage and have 66 points left\n",
      "***** Dracula dodges attack *****\n",
      "***** Dracula dodges attack *****\n",
      "***** Dracula dodges attack *****\n",
      "***** Dracula dodges attack *****\n",
      "I took 2 hits in damage and have 64 points left\n",
      "***** Dracula dodges attack *****\n",
      "***** Dracula dodges attack *****\n",
      "I took 2 hits in damage and have 62 points left\n",
      "I took 2 hits in damage and have 60 points left\n",
      "I took 2 hits in damage and have 58 points left\n",
      "***** Dracula dodges attack *****\n",
      "***** Dracula dodges attack *****\n",
      "I took 2 hits in damage and have 56 points left\n",
      "I took 2 hits in damage and have 54 points left\n",
      "***** Dracula dodges attack *****\n",
      "I took 2 hits in damage and have 52 points left\n",
      "***** Dracula dodges attack *****\n",
      "I took 2 hits in damage and have 50 points left\n",
      "***** Dracula dodges attack *****\n",
      "***** Dracula dodges attack *****\n",
      "***** Dracula dodges attack *****\n",
      "***** Dracula dodges attack *****\n",
      "***** Dracula dodges attack *****\n",
      "I took 2 hits in damage and have 48 points left\n",
      "I took 2 hits in damage and have 46 points left\n",
      "I took 2 hits in damage and have 44 points left\n",
      "***** Dracula dodges attack *****\n",
      "I took 2 hits in damage and have 42 points left\n",
      "I took 2 hits in damage and have 40 points left\n",
      "***** Dracula dodges attack *****\n",
      "***** Dracula dodges attack *****\n",
      "I took 2 hits in damage and have 38 points left\n",
      "***** Dracula dodges attack *****\n",
      "***** Dracula dodges attack *****\n",
      "I took 2 hits in damage and have 36 points left\n",
      "I took 2 hits in damage and have 34 points left\n",
      "I took 2 hits in damage and have 32 points left\n",
      "***** Dracula dodges attack *****\n",
      "***** Dracula dodges attack *****\n",
      "***** Dracula dodges attack *****\n",
      "***** Dracula dodges attack *****\n",
      "I took 2 hits in damage and have 30 points left\n",
      "I took 2 hits in damage and have 28 points left\n",
      "I took 2 hits in damage and have 26 points left\n",
      "***** Dracula dodges attack *****\n",
      "***** Dracula dodges attack *****\n",
      "***** Dracula dodges attack *****\n",
      "I took 2 hits in damage and have 24 points left\n",
      "I took 2 hits in damage and have 22 points left\n",
      "***** Dracula dodges attack *****\n",
      "I took 2 hits in damage and have 20 points left\n",
      "I took 2 hits in damage and have 18 points left\n",
      "I took 2 hits in damage and have 16 points left\n",
      "I took 2 hits in damage and have 14 points left\n",
      "***** Dracula dodges attack *****\n",
      "I took 2 hits in damage and have 12 points left\n",
      "***** Dracula dodges attack *****\n",
      "I took 2 hits in damage and have 10 points left\n",
      "***** Dracula dodges attack *****\n",
      "I took 2 hits in damage and have 8 points left\n",
      "***** Dracula dodges attack *****\n",
      "***** Dracula dodges attack *****\n",
      "***** Dracula dodges attack *****\n",
      "***** Dracula dodges attack *****\n",
      "I took 2 hits in damage and have 6 points left\n",
      "I took 2 hits in damage and have 4 points left\n",
      "I took 2 hits in damage and have 2 points left\n",
      "I took 2 hits in damage and have 0 points left\n",
      "***** Dracula dodges attack *****\n",
      "***** Dracula dodges attack *****\n",
      "Dracula lost a life\n",
      "***** Dracula dodges attack *****\n",
      "***** Dracula dodges attack *****\n",
      "***** Dracula dodges attack *****\n",
      "***** Dracula dodges attack *****\n",
      "Dracula lost a life\n",
      "***** Dracula dodges attack *****\n",
      "***** Dracula dodges attack *****\n",
      "***** Dracula dodges attack *****\n",
      "***** Dracula dodges attack *****\n",
      "***** Dracula dodges attack *****\n",
      "***** Dracula dodges attack *****\n",
      "Dracula is dead!\n"
     ]
    }
   ],
   "source": [
    "while dracula.alive:\n",
    "    dracula.take_damage(10)"
   ]
  },
  {
   "cell_type": "markdown",
   "id": "d2214360",
   "metadata": {},
   "source": [
    "**To make it even simpler (which is always better):**"
   ]
  },
  {
   "cell_type": "code",
   "execution_count": 33,
   "id": "39412047",
   "metadata": {},
   "outputs": [],
   "source": [
    "class VampireKing(Vampire):\n",
    "    \n",
    "    # Single parameter because calling init method from `Vampire` class\n",
    "    def __init__(self, name):\n",
    "        super().__init__(name=name)\n",
    "        self.hit_points = 140\n",
    "    \n",
    "    # Override take_damage() method from `Vampire` class\n",
    "    def take_damage(self, damage):\n",
    "        super().take_damage(damage=damage // 4)\n",
    "    "
   ]
  },
  {
   "cell_type": "code",
   "execution_count": 34,
   "id": "7c085f91",
   "metadata": {},
   "outputs": [
    {
     "name": "stdout",
     "output_type": "stream",
     "text": [
      "Name: Dracula, Lives: 3, Hit Points = 140\n",
      "I took 2 hits in damage and have 138 points left\n",
      "I took 2 hits in damage and have 136 points left\n",
      "***** Dracula dodges attack *****\n",
      "***** Dracula dodges attack *****\n",
      "I took 2 hits in damage and have 134 points left\n",
      "I took 2 hits in damage and have 132 points left\n",
      "I took 2 hits in damage and have 130 points left\n",
      "***** Dracula dodges attack *****\n",
      "I took 2 hits in damage and have 128 points left\n",
      "I took 2 hits in damage and have 126 points left\n",
      "I took 2 hits in damage and have 124 points left\n",
      "I took 2 hits in damage and have 122 points left\n",
      "I took 2 hits in damage and have 120 points left\n",
      "I took 2 hits in damage and have 118 points left\n",
      "***** Dracula dodges attack *****\n",
      "***** Dracula dodges attack *****\n",
      "I took 2 hits in damage and have 116 points left\n",
      "I took 2 hits in damage and have 114 points left\n",
      "***** Dracula dodges attack *****\n",
      "I took 2 hits in damage and have 112 points left\n",
      "***** Dracula dodges attack *****\n",
      "***** Dracula dodges attack *****\n",
      "I took 2 hits in damage and have 110 points left\n",
      "I took 2 hits in damage and have 108 points left\n",
      "I took 2 hits in damage and have 106 points left\n",
      "***** Dracula dodges attack *****\n",
      "I took 2 hits in damage and have 104 points left\n",
      "***** Dracula dodges attack *****\n",
      "I took 2 hits in damage and have 102 points left\n",
      "I took 2 hits in damage and have 100 points left\n",
      "I took 2 hits in damage and have 98 points left\n",
      "I took 2 hits in damage and have 96 points left\n",
      "***** Dracula dodges attack *****\n",
      "I took 2 hits in damage and have 94 points left\n",
      "I took 2 hits in damage and have 92 points left\n",
      "I took 2 hits in damage and have 90 points left\n",
      "I took 2 hits in damage and have 88 points left\n",
      "***** Dracula dodges attack *****\n",
      "I took 2 hits in damage and have 86 points left\n",
      "***** Dracula dodges attack *****\n",
      "I took 2 hits in damage and have 84 points left\n",
      "I took 2 hits in damage and have 82 points left\n",
      "I took 2 hits in damage and have 80 points left\n",
      "I took 2 hits in damage and have 78 points left\n",
      "I took 2 hits in damage and have 76 points left\n",
      "***** Dracula dodges attack *****\n",
      "I took 2 hits in damage and have 74 points left\n",
      "***** Dracula dodges attack *****\n",
      "I took 2 hits in damage and have 72 points left\n",
      "I took 2 hits in damage and have 70 points left\n",
      "I took 2 hits in damage and have 68 points left\n",
      "I took 2 hits in damage and have 66 points left\n",
      "***** Dracula dodges attack *****\n",
      "***** Dracula dodges attack *****\n",
      "***** Dracula dodges attack *****\n",
      "I took 2 hits in damage and have 64 points left\n",
      "I took 2 hits in damage and have 62 points left\n",
      "I took 2 hits in damage and have 60 points left\n",
      "I took 2 hits in damage and have 58 points left\n",
      "I took 2 hits in damage and have 56 points left\n",
      "***** Dracula dodges attack *****\n",
      "I took 2 hits in damage and have 54 points left\n",
      "I took 2 hits in damage and have 52 points left\n",
      "***** Dracula dodges attack *****\n",
      "I took 2 hits in damage and have 50 points left\n",
      "I took 2 hits in damage and have 48 points left\n",
      "I took 2 hits in damage and have 46 points left\n",
      "***** Dracula dodges attack *****\n",
      "I took 2 hits in damage and have 44 points left\n",
      "I took 2 hits in damage and have 42 points left\n",
      "I took 2 hits in damage and have 40 points left\n",
      "***** Dracula dodges attack *****\n",
      "I took 2 hits in damage and have 38 points left\n",
      "I took 2 hits in damage and have 36 points left\n",
      "I took 2 hits in damage and have 34 points left\n",
      "***** Dracula dodges attack *****\n",
      "***** Dracula dodges attack *****\n",
      "I took 2 hits in damage and have 32 points left\n",
      "***** Dracula dodges attack *****\n",
      "I took 2 hits in damage and have 30 points left\n",
      "I took 2 hits in damage and have 28 points left\n",
      "I took 2 hits in damage and have 26 points left\n",
      "***** Dracula dodges attack *****\n",
      "I took 2 hits in damage and have 24 points left\n",
      "I took 2 hits in damage and have 22 points left\n",
      "I took 2 hits in damage and have 20 points left\n",
      "I took 2 hits in damage and have 18 points left\n",
      "***** Dracula dodges attack *****\n",
      "I took 2 hits in damage and have 16 points left\n",
      "***** Dracula dodges attack *****\n",
      "I took 2 hits in damage and have 14 points left\n",
      "***** Dracula dodges attack *****\n",
      "I took 2 hits in damage and have 12 points left\n",
      "I took 2 hits in damage and have 10 points left\n",
      "***** Dracula dodges attack *****\n",
      "I took 2 hits in damage and have 8 points left\n",
      "I took 2 hits in damage and have 6 points left\n",
      "I took 2 hits in damage and have 4 points left\n",
      "***** Dracula dodges attack *****\n",
      "I took 2 hits in damage and have 2 points left\n",
      "***** Dracula dodges attack *****\n",
      "I took 2 hits in damage and have 0 points left\n",
      "Dracula lost a life\n",
      "***** Dracula dodges attack *****\n",
      "***** Dracula dodges attack *****\n",
      "***** Dracula dodges attack *****\n",
      "Dracula lost a life\n",
      "Dracula is dead!\n"
     ]
    }
   ],
   "source": [
    "dracula = VampireKing(\"Dracula\")\n",
    "\n",
    "print(dracula)\n",
    "\n",
    "while dracula.alive:\n",
    "    dracula.take_damage(10)"
   ]
  },
  {
   "cell_type": "code",
   "execution_count": null,
   "id": "3386a2dd",
   "metadata": {},
   "outputs": [],
   "source": []
  }
 ],
 "metadata": {
  "kernelspec": {
   "display_name": "Python 3 (ipykernel)",
   "language": "python",
   "name": "python3"
  },
  "language_info": {
   "codemirror_mode": {
    "name": "ipython",
    "version": 3
   },
   "file_extension": ".py",
   "mimetype": "text/x-python",
   "name": "python",
   "nbconvert_exporter": "python",
   "pygments_lexer": "ipython3",
   "version": "3.9.17"
  }
 },
 "nbformat": 4,
 "nbformat_minor": 5
}
