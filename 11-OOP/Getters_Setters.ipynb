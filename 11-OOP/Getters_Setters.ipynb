{
 "cells": [
  {
   "cell_type": "markdown",
   "id": "600b4f1b",
   "metadata": {},
   "source": [
    "# Getters and Setters in Object-Oriented Programming\n",
    "\n",
    "**Getters and Setters should be created at the end of the class. Essentially they serve to make the data attributes of a class fully private, and only accessible via get-and-set methods.** \n",
    "\n",
    "**A 'getter' is a method used to get the value of a data attribute in a class, e.g. `get_attr()`. Normally, it returns the value of the corresponding variable, but it can also change the value, like multiply an integer.**\n",
    "\n",
    "**A 'setter' is a method used to set the value of a data attribute in a class, e.g. `set_attr()`. It is used when updating the attribute value.**"
   ]
  },
  {
   "cell_type": "code",
   "execution_count": 1,
   "id": "f3e06f98",
   "metadata": {},
   "outputs": [],
   "source": [
    "# Class to represent game players\n",
    "\n",
    "class Player(object):\n",
    "    \"\"\"\n",
    "    Data attributes of an instance:\n",
    "        `self.name` (str) - Name of player\n",
    "        `self._lives` (int) - Number of lives (default 3), not for client use\n",
    "        `self.level` (int) - Level (default 1)\n",
    "        `self.score` (int) - Score (default 0))\n",
    "    \"\"\"\n",
    "    \n",
    "    # Class constructor\n",
    "    def __init__(self, name):\n",
    "        self.name = name\n",
    "        self._lives = 3\n",
    "        self.level = 1\n",
    "        self.score = 0\n",
    "        \n",
    "    # Getter for `lives` attribute\n",
    "    def _get_lives(self):\n",
    "        return self._lives\n",
    "    \n",
    "    # Setter for `lives` attribute\n",
    "    def _set_lives(self, lives):\n",
    "        if lives >= 0:\n",
    "            self._lives = lives\n",
    "        else:\n",
    "            print(\"You have no more lives left\")\n",
    "            self._lives = 0\n",
    "    \n",
    "    lives = property(_get_lives, _set_lives)\n",
    "    \n",
    "    \n",
    "    # Method to return attribute values (leading underscores not used)\n",
    "    def __str__(self):\n",
    "        return \"Name: {0.name}, Lives: {0.lives}, Level: {0.level}, Score = {0.score}\".format(self)\n",
    "    \n",
    "    "
   ]
  },
  {
   "cell_type": "code",
   "execution_count": 2,
   "id": "71953dea",
   "metadata": {},
   "outputs": [
    {
     "name": "stdout",
     "output_type": "stream",
     "text": [
      "Player's name is Shely\n",
      "Shely has 3 lives\n"
     ]
    }
   ],
   "source": [
    "shely = Player(\"Shely\")\n",
    "\n",
    "print(f\"Player's name is {shely.name}\")\n",
    "print(f\"Shely has {shely.lives} lives\")"
   ]
  },
  {
   "cell_type": "code",
   "execution_count": 3,
   "id": "1a895fef",
   "metadata": {},
   "outputs": [
    {
     "name": "stdout",
     "output_type": "stream",
     "text": [
      "Name: Shely, Lives: 3, Level: 1, Score = 0\n"
     ]
    }
   ],
   "source": [
    "print(shely)"
   ]
  },
  {
   "cell_type": "markdown",
   "id": "ecd50b5f",
   "metadata": {},
   "source": [
    "    print(shely)\n",
    "\n",
    "**is the same as `print(shely.__str__())`.**\n",
    "\n",
    "**The getter and setter methods haven't been used when accessing the class instance attributes, but they exist to make the attributes less accessible, if needed. The method names have leading underscore to indicate they are for internal use only. The data attribute they are getting and setting also has leading underscore to make the data attribute itself more hidden.**\n",
    "\n",
    "**You can always access the attribute `lives` or `_lives` to change the value, but `_lives` will not be given as an option in drop-down documentation (press Tab after `shely.`). When using getter and setter methods, the data attribute must not have the same name as the property, i.e. you must include the leading underscore.**"
   ]
  },
  {
   "cell_type": "code",
   "execution_count": 4,
   "id": "90c4f679",
   "metadata": {},
   "outputs": [
    {
     "name": "stdout",
     "output_type": "stream",
     "text": [
      "Name: Shely, Lives: 99, Level: 1, Score = 0\n"
     ]
    }
   ],
   "source": [
    "shely.lives = 99\n",
    "\n",
    "print(shely)"
   ]
  },
  {
   "cell_type": "code",
   "execution_count": 5,
   "id": "6eb53832",
   "metadata": {},
   "outputs": [
    {
     "name": "stdout",
     "output_type": "stream",
     "text": [
      "Name: Shely, Lives: 1, Level: 1, Score = 0\n"
     ]
    }
   ],
   "source": [
    "shely._lives = 1\n",
    "\n",
    "print(shely)"
   ]
  },
  {
   "cell_type": "markdown",
   "id": "99115eab",
   "metadata": {},
   "source": [
    "**Modify the class so that the player's score is increased by 1000 each time the level increases by one. So if the player jumps up two levels, the score increases by 2000.**\n",
    "\n",
    "**If the player drops back a level, they lose 1000 points for every level they drop - i.e. opposite direction to above. The player cannot go below level one.**\n",
    "\n",
    "**Obviously this means creating getter and setter methods for the `level` attribute, as well as adding the `property()` object.**"
   ]
  },
  {
   "cell_type": "code",
   "execution_count": 6,
   "id": "2fd2142a",
   "metadata": {},
   "outputs": [],
   "source": [
    "class Player(object):\n",
    "    \"\"\"\n",
    "    Data attributes of an instance:\n",
    "        `self.name` (str) - Name of player\n",
    "        `self._lives` (int) - Number of lives (default 3), not for client use\n",
    "        `self.level` (int) - Level (default 1)\n",
    "        `self.score` (int) - Score (default 0))\n",
    "    \"\"\"\n",
    "    \n",
    "    # Class constructor\n",
    "    def __init__(self, name):\n",
    "        self.name = name\n",
    "        self._lives = 3\n",
    "        self._level = 1\n",
    "        self.score = 0\n",
    "        \n",
    "    def _get_lives(self):\n",
    "        return self._lives\n",
    "    \n",
    "    def _set_lives(self, lives):\n",
    "        if lives >= 0:\n",
    "            self._lives = lives\n",
    "        else:\n",
    "            print(\"You have no more lives left\")\n",
    "            self._lives = 0\n",
    "    \n",
    "    lives = property(_get_lives, _set_lives)\n",
    "    \n",
    "    # Getter for `level` attribute\n",
    "    def _get_level(self):\n",
    "        return self._level\n",
    "    \n",
    "    # Setter for `level` attribute\n",
    "    def _set_level(self, level):\n",
    "        if level > 1:\n",
    "            delta = level - self._level\n",
    "            self.score += delta * 1000\n",
    "            self._level = level\n",
    "        else:\n",
    "            print(\"Level cannot go below one\")\n",
    "    \n",
    "    # Define the class `level` property\n",
    "    level = property(_get_level, _set_level)\n",
    "    \n",
    "    def __str__(self):\n",
    "        return \"Name: {0.name}, Lives: {0.lives}, Level: {0.level}, Score = {0.score}\".format(self)\n",
    "    \n"
   ]
  },
  {
   "cell_type": "code",
   "execution_count": 7,
   "id": "219547dd",
   "metadata": {},
   "outputs": [
    {
     "name": "stdout",
     "output_type": "stream",
     "text": [
      "Name: Shely, Lives: 3, Level: 2, Score = 1000\n"
     ]
    }
   ],
   "source": [
    "shely = Player(\"Shely\")\n",
    "\n",
    "shely.level = 2\n",
    "\n",
    "print(shely)"
   ]
  },
  {
   "cell_type": "code",
   "execution_count": 8,
   "id": "bb5f8e8d",
   "metadata": {},
   "outputs": [
    {
     "name": "stdout",
     "output_type": "stream",
     "text": [
      "Name: Shely, Lives: 3, Level: 7, Score = 6000\n"
     ]
    }
   ],
   "source": [
    "shely.level += 5\n",
    "\n",
    "print(shely)"
   ]
  },
  {
   "cell_type": "code",
   "execution_count": 9,
   "id": "d3bb56e7",
   "metadata": {},
   "outputs": [
    {
     "name": "stdout",
     "output_type": "stream",
     "text": [
      "Name: Shely, Lives: 3, Level: 3, Score = 2000\n"
     ]
    }
   ],
   "source": [
    "shely.level = 3\n",
    "\n",
    "print(shely)"
   ]
  },
  {
   "cell_type": "markdown",
   "id": "b09be345",
   "metadata": {},
   "source": [
    "**Now add a `score` property for the `_score` attribute using another way to set it up, by the DECORATOR `@property`. It removes the need for the `property()` object line of code. It is simply an alternative syntax.**"
   ]
  },
  {
   "cell_type": "code",
   "execution_count": 10,
   "id": "6387e87c",
   "metadata": {},
   "outputs": [],
   "source": [
    "class Player(object):\n",
    "    \"\"\"\n",
    "    Data attributes of an instance:\n",
    "        `self.name` (str) - Name of player\n",
    "        `self._lives` (int) - Number of lives (default 3), not for client use\n",
    "        `self.level` (int) - Level (default 1)\n",
    "        `self.score` (int) - Score (default 0))\n",
    "    \"\"\"\n",
    "    \n",
    "    # Class constructor\n",
    "    def __init__(self, name):\n",
    "        self.name = name\n",
    "        self._lives = 3\n",
    "        self._level = 1\n",
    "        self._score = 0\n",
    "        \n",
    "    def _get_lives(self):\n",
    "        return self._lives\n",
    "    \n",
    "    def _set_lives(self, lives):\n",
    "        if lives >= 0:\n",
    "            self._lives = lives\n",
    "        else:\n",
    "            print(\"You have no more lives left\")\n",
    "            self._lives = 0\n",
    "    \n",
    "    lives = property(_get_lives, _set_lives)\n",
    "    \n",
    "    def _get_level(self):\n",
    "        return self._level\n",
    "    \n",
    "    def _set_level(self, level):\n",
    "        if level > 1:\n",
    "            delta = level - self._level\n",
    "            self._score += delta * 1000\n",
    "            self._level = level\n",
    "        else:\n",
    "            print(\"Level cannot go below one\")\n",
    "    \n",
    "    level = property(_get_level, _set_level)\n",
    "    \n",
    "    # PROPERTY DECORATOR\n",
    "    @property\n",
    "    def score(self):\n",
    "        return self._score\n",
    "    \n",
    "    # SETTER DECORATOR\n",
    "    @score.setter\n",
    "    def score(self, score):\n",
    "        self._score = score\n",
    "    \n",
    "    def __str__(self):\n",
    "        return \"Name: {0.name}, Lives: {0.lives}, Level: {0.level}, Score = {0.score}\".format(self)\n",
    "    \n"
   ]
  },
  {
   "cell_type": "code",
   "execution_count": 11,
   "id": "fd61c717",
   "metadata": {},
   "outputs": [
    {
     "name": "stdout",
     "output_type": "stream",
     "text": [
      "Name: Shely, Lives: 3, Level: 1, Score = 500\n"
     ]
    }
   ],
   "source": [
    "shely = Player(\"Shely\")\n",
    "\n",
    "shely.score = 500\n",
    "\n",
    "print(shely)"
   ]
  },
  {
   "cell_type": "code",
   "execution_count": null,
   "id": "27a7fb25",
   "metadata": {},
   "outputs": [],
   "source": []
  }
 ],
 "metadata": {
  "kernelspec": {
   "display_name": "Python 3 (ipykernel)",
   "language": "python",
   "name": "python3"
  },
  "language_info": {
   "codemirror_mode": {
    "name": "ipython",
    "version": 3
   },
   "file_extension": ".py",
   "mimetype": "text/x-python",
   "name": "python",
   "nbconvert_exporter": "python",
   "pygments_lexer": "ipython3",
   "version": "3.9.17"
  }
 },
 "nbformat": 4,
 "nbformat_minor": 5
}
