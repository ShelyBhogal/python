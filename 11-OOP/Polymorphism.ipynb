{
 "cells": [
  {
   "cell_type": "markdown",
   "id": "ce558413",
   "metadata": {},
   "source": [
    "# Polymorphism in Object-Oriented Programming\n",
    "\n",
    "**Using a simple class example, polymorphism is the ability of an object to have many different forms, some in relation to other objects, which have nothing in common with them. They can share traits with different types of objects.**"
   ]
  },
  {
   "cell_type": "code",
   "execution_count": 1,
   "id": "4bcc7f97",
   "metadata": {},
   "outputs": [],
   "source": [
    "class Duck(object):\n",
    "    \n",
    "    def walk(self):\n",
    "        print(\"Waddle, waddle, waddle.\")\n",
    "    \n",
    "    def swim(self):\n",
    "        print(\"Ooh, the water's lovely.\")\n",
    "    \n",
    "    def quack(self):\n",
    "        print(\"Quack, quack, quack.\")\n"
   ]
  },
  {
   "cell_type": "code",
   "execution_count": 2,
   "id": "5ac9d49c",
   "metadata": {},
   "outputs": [],
   "source": [
    "def test_class(instance):\n",
    "    instance.walk()\n",
    "    instance.swim()\n",
    "    instance.quack()\n",
    "    "
   ]
  },
  {
   "cell_type": "code",
   "execution_count": 3,
   "id": "ede74868",
   "metadata": {},
   "outputs": [
    {
     "name": "stdout",
     "output_type": "stream",
     "text": [
      "Waddle, waddle, waddle.\n",
      "Ooh, the water's lovely.\n",
      "Quack, quack, quack.\n"
     ]
    }
   ],
   "source": [
    "donald = Duck()\n",
    "\n",
    "test_class(donald)"
   ]
  },
  {
   "cell_type": "code",
   "execution_count": 4,
   "id": "60464fe8",
   "metadata": {},
   "outputs": [],
   "source": [
    "class Penguin(object):\n",
    "    \n",
    "    def walk(self):\n",
    "        print(\"I waddle too\")\n",
    "    \n",
    "    def swim(self):\n",
    "        print(\"I prefer chillier waters\")\n",
    "    \n",
    "    def quack(self):\n",
    "        print(\"I do not QUACK, thank you very much\")\n"
   ]
  },
  {
   "cell_type": "code",
   "execution_count": 5,
   "id": "740a2626",
   "metadata": {},
   "outputs": [
    {
     "name": "stdout",
     "output_type": "stream",
     "text": [
      "I waddle too\n",
      "I prefer chillier waters\n",
      "I do not QUACK, thank you very much\n"
     ]
    }
   ],
   "source": [
    "flipper = Penguin()\n",
    "\n",
    "test_class(flipper)"
   ]
  },
  {
   "cell_type": "markdown",
   "id": "f6f77189",
   "metadata": {},
   "source": [
    "**It is clear that a duck and a penguin are different classes, but they have the same class methods that can be called with the one test function. This is known as the 'duck test', where if it looks like a duck, swims like a duck, quacks like a duck, then it's probably a duck. Something is defined by how it behaves, and the test function doesn't care because it uses the same methods on both classes.**\n",
    "\n",
    "## Composition\n",
    "\n",
    "**Composition is another way to implement polymorphism, by composing an object of different class types.**"
   ]
  },
  {
   "cell_type": "code",
   "execution_count": 6,
   "id": "8d02594f",
   "metadata": {},
   "outputs": [],
   "source": [
    "class Wing(object):\n",
    "    \n",
    "    def __init__(self, ratio):\n",
    "        self.ratio = ratio\n",
    "    \n",
    "    def fly(self):\n",
    "        if self.ratio > 1:\n",
    "            print(\"Weeeeeeeee I'm flying!\")\n",
    "        elif self.ratio == 1:\n",
    "            print(\"Yikes this is hard but I'm off the ground\")\n",
    "        else:\n",
    "            print(\"I'll just walk, thanks\")\n"
   ]
  },
  {
   "cell_type": "code",
   "execution_count": 7,
   "id": "c4000734",
   "metadata": {},
   "outputs": [],
   "source": [
    "# Update Duck class to have wing ratio object through the Wing class\n",
    "\n",
    "class Duck(object):\n",
    "    \n",
    "    def __init__(self):\n",
    "        self._wing = Wing(1.8)\n",
    "    \n",
    "    def walk(self):\n",
    "        print(\"Waddle, waddle, waddle.\")\n",
    "    \n",
    "    def swim(self):\n",
    "        print(\"Ooh, the water's lovely.\")\n",
    "    \n",
    "    def quack(self):\n",
    "        print(\"Quack, quack, quack.\")\n",
    "    \n",
    "    # Overriding method which uses Wing fly() method\n",
    "    def fly(self):\n",
    "        self._wing.fly()\n"
   ]
  },
  {
   "cell_type": "code",
   "execution_count": 8,
   "id": "8a973651",
   "metadata": {},
   "outputs": [
    {
     "name": "stdout",
     "output_type": "stream",
     "text": [
      "Waddle, waddle, waddle.\n",
      "Ooh, the water's lovely.\n",
      "Quack, quack, quack.\n"
     ]
    }
   ],
   "source": [
    "donald = Duck()\n",
    "\n",
    "test_class(donald)"
   ]
  },
  {
   "cell_type": "code",
   "execution_count": 9,
   "id": "310f26b4",
   "metadata": {},
   "outputs": [
    {
     "name": "stdout",
     "output_type": "stream",
     "text": [
      "Weeeeeeeee I'm flying!\n"
     ]
    }
   ],
   "source": [
    "donald.fly()"
   ]
  },
  {
   "cell_type": "markdown",
   "id": "1c0d2651",
   "metadata": {},
   "source": [
    "**Any `Duck` object that you create will now have a `Wing` object attached, which can access the attributes and methods for the `Wing` class. The duck has an additional class object to impact its behaviour, by 'composition' of classes.**\n",
    "\n",
    "### HTML document\n",
    "\n",
    "**HTML document is a good example of composition. It is a structured document made up of three parts:**\n",
    "\n",
    "* **DOCTYPE tag containing DTD version information**\n",
    "* **Declarative document header (document title)**\n",
    "* **Main body that contains actual text content**\n",
    "\n",
    "    ```\n",
    "    <!DOCTYPE HTML PUBLIC \"-//W3C//DTD HTML 4.01//EN\"\n",
    "       \"http://www.w3.org/TR/html4/strict.dtd\">\n",
    "    <HTML>\n",
    "       <HEAD>\n",
    "          <TITLE>My first HTML document</TITLE>\n",
    "       </HEAD>\n",
    "       <BODY>\n",
    "          <P>Hello world!\n",
    "       </BODY>\n",
    "    </HTML>\n",
    "    ```\n"
   ]
  },
  {
   "cell_type": "code",
   "execution_count": 10,
   "id": "00fdb9d7",
   "metadata": {},
   "outputs": [],
   "source": [
    "# Class that accepts tag name and contents\n",
    "\n",
    "class Tag(object):\n",
    "    \n",
    "    def __init__(self, name, contents):\n",
    "        self.start_tag = \"<{}>\".format(name)\n",
    "        self.end_tag = \"</{}>\".format(name)\n",
    "        self.contents = contents\n",
    "    \n",
    "    def __str__(self):\n",
    "        return \"{0.start_tag}{0.contents}{0.end_tag}\".format(self)\n",
    "    \n",
    "    # Displays finished class instance\n",
    "    def display(self, file=None):\n",
    "        print(self, file=file)\n"
   ]
  },
  {
   "cell_type": "code",
   "execution_count": 11,
   "id": "b4b1c0e0",
   "metadata": {},
   "outputs": [
    {
     "name": "stdout",
     "output_type": "stream",
     "text": [
      "<TITLE>Creatures from the Black Lagoon</TITLE>\n"
     ]
    }
   ],
   "source": [
    "header = Tag(\"TITLE\", \"Creatures from the Black Lagoon\")\n",
    "\n",
    "print(header)"
   ]
  },
  {
   "cell_type": "code",
   "execution_count": 12,
   "id": "2b1995a2",
   "metadata": {},
   "outputs": [
    {
     "name": "stdout",
     "output_type": "stream",
     "text": [
      "<TITLE>Creatures from the Black Lagoon</TITLE>\n"
     ]
    }
   ],
   "source": [
    "header.display()"
   ]
  },
  {
   "cell_type": "markdown",
   "id": "71ad0abe",
   "metadata": {},
   "source": [
    "**All three components of the HTML document are defined as subclasses to the `Tag` class, e.g. the DOCTYPE information is made from the `DocType` subclass, making this inheritance rather than composition. But polymorphism in the case of HTML document is a mixture of the two methods. All three classes (`DocType`, `Head` and `Body`) are subclasses of the `Tag` class, but the document will be composed of these three subclasses (which inherit from Tag class) making it polymorphic.**"
   ]
  },
  {
   "cell_type": "code",
   "execution_count": 13,
   "id": "32344ed4",
   "metadata": {},
   "outputs": [],
   "source": [
    "# Subclass of Tag class - NOTE: DocType has no end tag\n",
    "\n",
    "class DocType(Tag):\n",
    "    \n",
    "    def __init__(self):\n",
    "        super().__init__('!DOCTYPE HTML PUBLIC \"-//W3C//DTD HTML 4.01//EN\" http://www.w3.org/TR/html4/strict.dtd', '')\n",
    "        self.end_tag = '' \n"
   ]
  },
  {
   "cell_type": "code",
   "execution_count": 14,
   "id": "a6a5ee81",
   "metadata": {},
   "outputs": [],
   "source": [
    "# Subclass of Tag class\n",
    "\n",
    "class Head(Tag):\n",
    "    \n",
    "    def __init__(self, title=None):\n",
    "        super().__init__('HEAD', '')\n",
    "        if title:\n",
    "            self._title = Tag('TITLE', title)\n",
    "            self.contents = str(self._title)\n"
   ]
  },
  {
   "cell_type": "code",
   "execution_count": 15,
   "id": "e6533098",
   "metadata": {},
   "outputs": [],
   "source": [
    "# Subclass of Tag class\n",
    "\n",
    "class Body(Tag):\n",
    "    \n",
    "    def __init__(self):\n",
    "        # Initialize contents to empty string (to be added to list)\n",
    "        super().__init__('BODY', '')\n",
    "        self._body_contents = []\n",
    "    \n",
    "    # Add content to BODY tag - composition!\n",
    "    def add_tag(self, name, contents):\n",
    "        new_tag = Tag(name, contents)\n",
    "        self._body_contents.append(new_tag)\n",
    "    \n",
    "    def display(self, file=None):\n",
    "        for tag in self._body_contents:\n",
    "            self.contents += str(tag)\n",
    "        \n",
    "        # Call display method from Tag class\n",
    "        super().display(file=file)\n"
   ]
  },
  {
   "cell_type": "code",
   "execution_count": 16,
   "id": "200857c6",
   "metadata": {},
   "outputs": [],
   "source": [
    "# HTML document is 'composed' of three class objects\n",
    "\n",
    "class HtmlDocument(object):\n",
    "    \n",
    "    def __init__(self, title=None):\n",
    "        self._doctype = DocType()\n",
    "        self._header = Head(title)\n",
    "        self._body = Body()\n",
    "    \n",
    "    # So you can add tags to main body\n",
    "    def add_tag(self, name, contents):\n",
    "        # add_tag method taken from Body class\n",
    "        self._body.add_tag(name, contents)\n",
    "    \n",
    "    def display(self, file=None):\n",
    "        self._doctype.display(file=file)\n",
    "        print('<HTML>', file=file)\n",
    "        self._header.display(file=file)\n",
    "        self._body.display(file=file)\n",
    "        print('</HTML>', file=file)\n"
   ]
  },
  {
   "cell_type": "code",
   "execution_count": 17,
   "id": "0772d0c6",
   "metadata": {},
   "outputs": [],
   "source": [
    "# Output content to file\n",
    "\n",
    "if __name__ == '__main__':\n",
    "    my_page = HtmlDocument('HTML Demonstration')\n",
    "    \n",
    "    my_page.add_tag('H1', 'Document about Oranges')\n",
    "    my_page.add_tag('H2', 'The seville orange')\n",
    "    my_page.add_tag('P', 'The seville orange originates from Seville in Spain.')\n",
    "    \n",
    "    with open('data/test.html', 'w') as html_doc:\n",
    "        my_page.display(file=html_doc)\n",
    "        "
   ]
  },
  {
   "cell_type": "markdown",
   "id": "98b89d60",
   "metadata": {},
   "source": [
    "**If you check the source page of the output HTML file, you will see that the header information is there (see the browser tab), just not on display in the browser page.**\n",
    "\n",
    "## Aggregation\n",
    "\n",
    "**Aggregation is another way to implement polymorphism, similar to composition, except that aggregation is made up of existing class instances, rather than creating the instances within the class.**"
   ]
  },
  {
   "cell_type": "code",
   "execution_count": 22,
   "id": "6c288dcb",
   "metadata": {},
   "outputs": [],
   "source": [
    "new_body = Body()\n",
    "\n",
    "new_body.add_tag('H1', 'Aggregation')\n",
    "new_body.add_tag('P', \"Unlike <STRONG>composition</STRONG>, \"\n",
    "                 \"aggregation uses existing instances of class objects to build another object.\")\n",
    "new_body.add_tag('P', \"The composed object does not own the objects it is composed of - \" \n",
    "                 \"if it were destroyed, those objects continue to exist.\")"
   ]
  },
  {
   "cell_type": "code",
   "execution_count": 23,
   "id": "e77b7c76",
   "metadata": {},
   "outputs": [],
   "source": [
    "# Give HTML document new content by switching its body\n",
    "\n",
    "my_page._body = new_body\n",
    "\n",
    "with open ('data/test.html' , 'w') as test_doc:\n",
    "    my_page.display(file=test_doc)\n"
   ]
  },
  {
   "cell_type": "markdown",
   "id": "f34f026f",
   "metadata": {},
   "source": [
    "**The new body of content replaces the body content of the existing `HtmlDocument` instance.**\n",
    "\n",
    "**You can re-write the `HtmlDocument` class so that it uses aggregation instead of composition. You need to create three class objects (`DocType`, `Head`, `Body`) before and outside of creating the HTML document instance.**"
   ]
  },
  {
   "cell_type": "code",
   "execution_count": 24,
   "id": "eca288e0",
   "metadata": {},
   "outputs": [],
   "source": [
    "# HTML document is 'aggregated' with three class objects\n",
    "\n",
    "class HtmlDocument(object):\n",
    "    \n",
    "    def __init__(self, doctype, header, body):\n",
    "        self._doctype = doctype\n",
    "        self._header = header\n",
    "        self._body = body\n",
    "    \n",
    "    # So you can add tags to main body\n",
    "    def add_tag(self, name, contents):\n",
    "        # add_tag method taken from Body class\n",
    "        self._body.add_tag(name, contents)\n",
    "    \n",
    "    def display(self, file=None):\n",
    "        self._doctype.display(file=file)\n",
    "        print('<HTML>', file=file)\n",
    "        self._header.display(file=file)\n",
    "        self._body.display(file=file)\n",
    "        print('</HTML>', file=file)\n"
   ]
  },
  {
   "cell_type": "code",
   "execution_count": 25,
   "id": "5faf35c8",
   "metadata": {},
   "outputs": [],
   "source": [
    "if __name__ == '__main__':\n",
    "    new_doctype = DocType() \n",
    "    \n",
    "    new_head = Head('Aggregation Document')\n",
    "    \n",
    "    new_body = Body()\n",
    "    new_body.add_tag('H1', 'Aggregation')\n",
    "    new_body.add_tag('P', \"Unlike <STRONG>composition</STRONG>, \"\n",
    "                 \"aggregation uses existing instances of class objects to build another object.\")\n",
    "    new_body.add_tag('P', \"The composed object does not own the objects it is composed of - \" \n",
    "                 \"if it were destroyed, those objects continue to exist.\")\n",
    "    \n",
    "    new_page = HtmlDocument(new_doctype, new_head, new_body)\n",
    "    \n",
    "    with open('data/test2.html', 'w') as html_doc:\n",
    "        new_page.display(file=html_doc)\n"
   ]
  },
  {
   "cell_type": "markdown",
   "id": "b3f7181f",
   "metadata": {},
   "source": [
    "**The Doctype, header and body instances are created separately, then the `HtmlDocument` class uses those instances to create the HTML document.**\n",
    "\n",
    "**You can do the same with the `Duck` and `Wing` class:**"
   ]
  },
  {
   "cell_type": "code",
   "execution_count": 26,
   "id": "bcbb37f8",
   "metadata": {},
   "outputs": [],
   "source": [
    "# UPDATED to 'aggregate' wing object\n",
    "\n",
    "class Duck(object):\n",
    "    \n",
    "    def __init__(self, wing):\n",
    "        self._wing = wing\n",
    "    \n",
    "    def walk(self):\n",
    "        print(\"Waddle, waddle, waddle.\")\n",
    "    \n",
    "    def swim(self):\n",
    "        print(\"Ooh, the water's lovely.\")\n",
    "    \n",
    "    def quack(self):\n",
    "        print(\"Quack, quack, quack.\")\n",
    "    \n",
    "    # Overriding method which uses Wing fly() method\n",
    "    def fly(self):\n",
    "        self._wing.fly()\n"
   ]
  },
  {
   "cell_type": "code",
   "execution_count": 28,
   "id": "b9f90a4c",
   "metadata": {},
   "outputs": [
    {
     "name": "stdout",
     "output_type": "stream",
     "text": [
      "Weeeeeeeee I'm flying!\n"
     ]
    }
   ],
   "source": [
    "new_wing = Wing(1.8)\n",
    "\n",
    "donald = Duck(new_wing)\n",
    "\n",
    "donald.fly()"
   ]
  },
  {
   "cell_type": "code",
   "execution_count": null,
   "id": "ace2a342",
   "metadata": {},
   "outputs": [],
   "source": []
  }
 ],
 "metadata": {
  "kernelspec": {
   "display_name": "Python 3 (ipykernel)",
   "language": "python",
   "name": "python3"
  },
  "language_info": {
   "codemirror_mode": {
    "name": "ipython",
    "version": 3
   },
   "file_extension": ".py",
   "mimetype": "text/x-python",
   "name": "python",
   "nbconvert_exporter": "python",
   "pygments_lexer": "ipython3",
   "version": "3.9.17"
  }
 },
 "nbformat": 4,
 "nbformat_minor": 5
}
