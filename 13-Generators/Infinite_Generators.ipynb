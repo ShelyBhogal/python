{
 "cells": [
  {
   "cell_type": "markdown",
   "id": "81942082",
   "metadata": {},
   "source": [
    "# Fibonacci Generator\n",
    "\n",
    "**The Fibonacci Series relies on previous numbers, by being the sum of the previous two numbers: 0 + 1 = 1, 1 + 1 = 2 etc. Remember that the sequence is endless, i.e. an infinite generator. Use `next()` function rather than looping through values to prevent endless loop.**\n",
    "\n",
    "    0, 1, 1, 2, 3, 5, 8, 13, 21, 34, 55, 89, 144, 233, 377, 610, 987, 1597, 2584, 4181, ...\n",
    "\n",
    "**NOTE: You need to swap variable values by unpacking tuples (in this case, otherwise you need to use an intermediary).**"
   ]
  },
  {
   "cell_type": "code",
   "execution_count": 2,
   "id": "86539255",
   "metadata": {},
   "outputs": [
    {
     "name": "stdout",
     "output_type": "stream",
     "text": [
      "a is 2 and b is 3\n"
     ]
    }
   ],
   "source": [
    "a = 2\n",
    "b = 3\n",
    "\n",
    "print(f\"a is {a} and b is {b}\")"
   ]
  },
  {
   "cell_type": "code",
   "execution_count": 3,
   "id": "d4252ab2",
   "metadata": {},
   "outputs": [
    {
     "name": "stdout",
     "output_type": "stream",
     "text": [
      "a is 3 and b is 2\n"
     ]
    }
   ],
   "source": [
    "# Swap values of a and b by unpacking\n",
    "\n",
    "a, b = b, a\n",
    "\n",
    "print(f\"a is {a} and b is {b}\")"
   ]
  },
  {
   "cell_type": "code",
   "execution_count": 6,
   "id": "019868a9",
   "metadata": {},
   "outputs": [],
   "source": [
    "# Function to generate Fibonacci series\n",
    "\n",
    "def fibonacci():\n",
    "    current, previous = 0, 1\n",
    "    \n",
    "    while True:\n",
    "        yield current\n",
    "        current, previous = current + previous, current\n"
   ]
  },
  {
   "cell_type": "code",
   "execution_count": 7,
   "id": "fd0f00df",
   "metadata": {},
   "outputs": [
    {
     "name": "stdout",
     "output_type": "stream",
     "text": [
      "0\n",
      "1\n",
      "1\n",
      "2\n",
      "3\n",
      "5\n",
      "8\n",
      "13\n",
      "21\n",
      "34\n"
     ]
    }
   ],
   "source": [
    "fib_series = fibonacci()\n",
    "\n",
    "print(next(fib_series))\n",
    "print(next(fib_series))\n",
    "print(next(fib_series))\n",
    "print(next(fib_series))\n",
    "print(next(fib_series))\n",
    "print(next(fib_series))\n",
    "print(next(fib_series))\n",
    "print(next(fib_series))\n",
    "print(next(fib_series))\n",
    "print(next(fib_series))"
   ]
  },
  {
   "cell_type": "markdown",
   "id": "54c848ef",
   "metadata": {},
   "source": [
    "**Infinite generators can be useful, just like the `while` loop, when you need to repeat an action over and over.**\n",
    "\n",
    "# Pi Generator\n",
    "\n",
    "**Obviously there are many ways to calculate pi, but there is a neat trick to making the code much simpler using an infinite generator. The formula is based on Leibniz interpretation of pi:**\n",
    "\n",
    "![Leibniz' pi](data/pi.png)\n",
    "\n",
    "                        3.1415924535897932384646433832795027...\n",
    "\n",
    "**The more recognised form is `1 - 1/3 + 1/5 - 1/7 + 1/9 - ... = pi/4`**\n",
    "\n",
    "**First start with a generator function that produces a sequence of odd numbers.**"
   ]
  },
  {
   "cell_type": "code",
   "execution_count": 7,
   "id": "ef1fbd37",
   "metadata": {},
   "outputs": [],
   "source": [
    "def odd_nos():\n",
    "    num = 1\n",
    "    while True:\n",
    "        if num % 2 != 0:\n",
    "            yield num\n",
    "        \n",
    "        num += 1"
   ]
  },
  {
   "cell_type": "code",
   "execution_count": 12,
   "id": "9a8c127b",
   "metadata": {},
   "outputs": [
    {
     "name": "stdout",
     "output_type": "stream",
     "text": [
      "1\n",
      "3\n",
      "5\n",
      "7\n",
      "9\n",
      "11\n",
      "13\n",
      "15\n",
      "17\n",
      "19\n",
      "21\n",
      "23\n",
      "25\n",
      "27\n",
      "29\n",
      "31\n"
     ]
    }
   ],
   "source": [
    "odd_numbers = odd_nos()\n",
    "\n",
    "for i in range(16):\n",
    "    print(next(odd_numbers))"
   ]
  },
  {
   "cell_type": "code",
   "execution_count": 13,
   "id": "ef66ac19",
   "metadata": {},
   "outputs": [],
   "source": [
    "def pi_series():\n",
    "    odds = odd_nos()\n",
    "    approximation = 0\n",
    "    \n",
    "    while True:\n",
    "        approximation += (4 / next(odds))\n",
    "        yield approximation\n",
    "        approximation -= (4 / next(odds))\n",
    "        yield approximation"
   ]
  },
  {
   "cell_type": "code",
   "execution_count": 16,
   "id": "17507b79",
   "metadata": {},
   "outputs": [
    {
     "name": "stdout",
     "output_type": "stream",
     "text": [
      "4.0\n",
      "2.666666666666667\n",
      "3.466666666666667\n",
      "2.8952380952380956\n",
      "3.3396825396825403\n",
      "2.9760461760461765\n",
      "3.2837384837384844\n",
      "3.017071817071818\n",
      "3.2523659347188767\n",
      "3.0418396189294032\n",
      "3.232315809405594\n",
      "3.058402765927333\n",
      "3.2184027659273333\n",
      "3.0702546177791854\n",
      "3.208185652261944\n",
      "3.079153394197428\n",
      "3.200365515409549\n",
      "3.0860798011238346\n",
      "3.1941879092319425\n",
      "3.09162380666784\n",
      "3.189184782277596\n",
      "3.0961615264636424\n",
      "3.1850504153525314\n",
      "3.099944032373808\n",
      "3.1815766854350325\n",
      "3.1031453128860127\n",
      "3.1786170109992202\n",
      "3.1058897382719475\n",
      "3.1760651768684385\n",
      "3.108268566698947\n",
      "3.1738423371907505\n",
      "3.110350273698687\n",
      "3.1718887352371485\n",
      "3.112187242699835\n",
      "3.1701582571925884\n",
      "3.1138202290235744\n",
      "3.1686147495715193\n",
      "3.115281416238186\n",
      "3.167229468186238\n",
      "3.116596556793833\n",
      "3.1659792728432157\n",
      "3.117786501758878\n",
      "3.1648453252882898\n",
      "3.118868313794037\n",
      "3.163812134018756\n",
      "3.1198560900627124\n",
      "3.1628668427508844\n",
      "3.1207615795929895\n",
      "3.161998692995051\n",
      "3.121594652591011\n",
      "3.1611986129870506\n",
      "3.12236366153074\n",
      "3.160458899625978\n",
      "3.1230757220558845\n",
      "3.1597729697623063\n",
      "3.12373693372627\n",
      "3.159135163814766\n",
      "3.124352555119114\n",
      "3.158540589307148\n",
      "3.1249271439289967\n",
      "3.157984995168666\n",
      "3.125464669965414\n",
      "3.157464669965414\n",
      "3.125968606973288\n",
      "3.1569763589112725\n",
      "3.1264420077662343\n",
      "3.156517195736159\n",
      "3.126887566106529\n",
      "3.1560846463985\n",
      "3.127307667981234\n",
      "3.155676462307475\n",
      "3.127704434335447\n",
      "3.155290641231999\n",
      "3.1280797568782575\n",
      "3.15492539446215\n",
      "3.1284353282369843\n",
      "3.1545791190866574\n",
      "3.128772667473754\n",
      "3.1542503744801236\n",
      "3.129093141775721\n",
      "3.1539378622726155\n",
      "3.129397984972002\n",
      "3.1536404092144266\n",
      "3.129688313406043\n",
      "3.1533569524592977\n",
      "3.129965139593801\n",
      "3.153086526877038\n",
      "3.1302293840198954\n",
      "3.1528282540763923\n",
      "3.1304818853613083\n",
      "3.1525813328751204\n",
      "3.1307234093778527\n",
      "3.1523450309994745\n",
      "3.1309546566679236\n",
      "3.152118677831945\n",
      "3.131176269454982\n",
      "3.151901658056018\n",
      "3.1313888375431977\n",
      "3.1516934060711166\n",
      "3.1315929035585537\n"
     ]
    }
   ],
   "source": [
    "leibniz_pi = pi_series()\n",
    "\n",
    "for i in range(100):\n",
    "    print(next(leibniz_pi))"
   ]
  },
  {
   "cell_type": "markdown",
   "id": "548f8d51",
   "metadata": {},
   "source": [
    "**As you add more iterations over the generated output, the number gets closer to 3.14159...pi! And if you try `range(1000)`, you will get much closer.** \n",
    "\n",
    "**This pi generator would be useful for mathematicians, but if you're not into maths, infinite generators is another of way saying unknown-number generator, e.g. Google web-indexing pages and returning unknown number of hits - as many as there are out there. There is no way of knowing how many before running the code.**"
   ]
  },
  {
   "cell_type": "code",
   "execution_count": null,
   "id": "834aa8c4",
   "metadata": {},
   "outputs": [],
   "source": []
  }
 ],
 "metadata": {
  "kernelspec": {
   "display_name": "Python 3 (ipykernel)",
   "language": "python",
   "name": "python3"
  },
  "language_info": {
   "codemirror_mode": {
    "name": "ipython",
    "version": 3
   },
   "file_extension": ".py",
   "mimetype": "text/x-python",
   "name": "python",
   "nbconvert_exporter": "python",
   "pygments_lexer": "ipython3",
   "version": "3.9.17"
  }
 },
 "nbformat": 4,
 "nbformat_minor": 5
}
