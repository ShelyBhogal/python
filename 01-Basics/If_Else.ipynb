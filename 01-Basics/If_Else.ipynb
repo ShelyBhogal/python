{
 "cells": [
  {
   "cell_type": "markdown",
   "id": "39262857",
   "metadata": {},
   "source": [
    "# `if...else...` statement\n",
    "\n",
    "**Python uses the `if...else...` statement to make a decision based on variable values and input. This means comparing condition(s) that result in True/False output.**\n",
    "\n",
    "**Remember that when comparing conditions Python will stop as soon as it meets a condition that is True. If the Boolean expression evaluates to False, it moves on to the next condition (or stops).**"
   ]
  },
  {
   "cell_type": "code",
   "execution_count": 20,
   "id": "961a587b",
   "metadata": {},
   "outputs": [
    {
     "name": "stdout",
     "output_type": "stream",
     "text": [
      "Enter your name: Sue\n",
      "How old are you, Sue? 10\n"
     ]
    }
   ],
   "source": [
    "name = input(\"Enter your name: \")\n",
    "\n",
    "age = int(input(\"How old are you, {0}? \".format(name)))"
   ]
  },
  {
   "cell_type": "code",
   "execution_count": 21,
   "id": "97a2acf5",
   "metadata": {},
   "outputs": [
    {
     "name": "stdout",
     "output_type": "stream",
     "text": [
      "You cannot vote yet, please come back in 8 years!\n"
     ]
    }
   ],
   "source": [
    "if age >= 18 and age < 70:\n",
    "    print(\"You can vote!\")\n",
    "elif age == 70:\n",
    "    print(\"This is your last year to vote!\")\n",
    "elif age > 70:\n",
    "    print(\"You are too old to vote!\")\n",
    "else:\n",
    "    print(\"You cannot vote yet, please come back in {} years!\".format(18 - age))"
   ]
  },
  {
   "cell_type": "markdown",
   "id": "4420e9bf",
   "metadata": {},
   "source": [
    "**The block of code must start with an `if` condition, but can contain multiple conditions with `elif` keyword. The `else` keyword is optional but usually recommended.**\n",
    "\n",
    "**You can use a debugger with an `if` statement containing nested `if` statements.**"
   ]
  },
  {
   "cell_type": "code",
   "execution_count": 5,
   "id": "a42f1a16",
   "metadata": {},
   "outputs": [],
   "source": [
    "from IPython.core.debugger import set_trace"
   ]
  },
  {
   "cell_type": "code",
   "execution_count": 23,
   "id": "aa53b48d",
   "metadata": {},
   "outputs": [
    {
     "name": "stdout",
     "output_type": "stream",
     "text": [
      "Guess a number between 1 and 10:\n",
      "7\n",
      "Incorrect! Guess lower\n",
      "4\n",
      "Nope.\n"
     ]
    }
   ],
   "source": [
    "answer = 5\n",
    "\n",
    "print(\"Guess a number between 1 and 10:\")\n",
    "guess = int(input())\n",
    "\n",
    "#set_trace()\n",
    "if guess < answer:\n",
    "    print(\"Incorrect! Guess higher\")\n",
    "    guess = int(input())\n",
    "    if guess == answer:\n",
    "        print(\"GOT IT!\")\n",
    "    else:\n",
    "        print(\"Wrong.\")\n",
    "elif guess > answer:\n",
    "    print(\"Incorrect! Guess lower\")\n",
    "    guess = int(input())\n",
    "    if guess == answer:\n",
    "        print(\"THERE YOU GO!\")\n",
    "    else:\n",
    "        print(\"Nope.\")\n",
    "else:\n",
    "    print(\"BINGO! Got it first time\")"
   ]
  },
  {
   "cell_type": "markdown",
   "id": "31d2ad98",
   "metadata": {},
   "source": [
    "**When comparing strings in an `if` statement, you can use the equality operators `==` and `!=` to compare strings, but you cannot use operators `<` and `>`. The full list of comparison operators is:**\n",
    "\n",
    "**`<` Less than**\n",
    "\n",
    "**`<=` Less than or equal to**\n",
    "\n",
    "**`>` Greater than**\n",
    " \n",
    "**`>=` Greater than or equal to**\n",
    "\n",
    "**`==` Equal to**\n",
    "\n",
    "**`!=` Not equal to**"
   ]
  },
  {
   "cell_type": "code",
   "execution_count": 10,
   "id": "610ade61",
   "metadata": {},
   "outputs": [
    {
     "name": "stdout",
     "output_type": "stream",
     "text": [
      "The trees are different\n"
     ]
    }
   ],
   "source": [
    "tree1 = 'oak'\n",
    "tree2 = 'cedar'\n",
    "\n",
    "if tree1 == tree2:\n",
    "    print(\"The trees are the same\")\n",
    "else:\n",
    "    print(\"The trees are different\")"
   ]
  },
  {
   "cell_type": "code",
   "execution_count": 14,
   "id": "a9d49b5a",
   "metadata": {},
   "outputs": [
    {
     "name": "stdout",
     "output_type": "stream",
     "text": [
      "x equals y\n"
     ]
    }
   ],
   "source": [
    "x = 7\n",
    "y = 7\n",
    "\n",
    "if x > y:\n",
    "    print(\"x is greater than y\")\n",
    "elif x < y:\n",
    "    print(\"x is smaller than y\")\n",
    "else:\n",
    "    print(\"x equals y\")"
   ]
  },
  {
   "cell_type": "code",
   "execution_count": 28,
   "id": "6c127548",
   "metadata": {},
   "outputs": [
    {
     "name": "stdout",
     "output_type": "stream",
     "text": [
      "Guess a number between 1 and 10:\n",
      "9\n",
      "Too high! Guess again\n",
      "4\n",
      "GOT IT!\n"
     ]
    }
   ],
   "source": [
    "answer = 4\n",
    "\n",
    "print(\"Guess a number between 1 and 10:\")\n",
    "guess = int(input())\n",
    "\n",
    "if guess != answer:\n",
    "    if guess < answer:\n",
    "        print(\"Too low! Guess again\")\n",
    "    else: # guess is greater than answer\n",
    "        print(\"Too high! Guess again\")\n",
    "    guess = int(input())\n",
    "    if guess == answer:\n",
    "        print(\"GOT IT!\")\n",
    "    else:\n",
    "        print(\"Nope\")\n",
    "else: # guess is equal to anwer\n",
    "    print(\"BINGO! You got it first time\")"
   ]
  },
  {
   "cell_type": "code",
   "execution_count": 36,
   "id": "94f66f0c",
   "metadata": {},
   "outputs": [
    {
     "name": "stdout",
     "output_type": "stream",
     "text": [
      "Guess a number between 1 and 10:\n",
      "5\n",
      "BINGO! You got it first time\n"
     ]
    }
   ],
   "source": [
    "# Change condition in initial if statement to guess == answer\n",
    "\n",
    "answer = 5\n",
    "\n",
    "print(\"Guess a number between 1 and 10:\")\n",
    "guess = int(input())\n",
    "\n",
    "if guess == answer:\n",
    "    print(\"BINGO! You got it first time\")\n",
    "else:\n",
    "    if guess < answer:\n",
    "        print(\"Incorrect. Guess higher\")\n",
    "    else:\n",
    "        print(\"Incorrect. Guess lower\")\n",
    "    guess = int(input())\n",
    "    if guess == answer:\n",
    "        print(\"GOT IT!\")\n",
    "    else:\n",
    "        print(\"Wrong\")"
   ]
  },
  {
   "cell_type": "markdown",
   "id": "fd089524",
   "metadata": {},
   "source": [
    "**Other than comparison operators, there are also conditional operators to add additional conditions:**\n",
    "\n",
    "**`and` where two conditions are True and True**\n",
    "\n",
    "**`or` where two conditions are True and True, True and False or False and True**\n",
    "\n",
    "**`in` to determine whether one condition is present in a collection (used with sequences)**\n",
    "\n",
    "**`not in` where the Boolean result is reversed.**"
   ]
  },
  {
   "cell_type": "code",
   "execution_count": 41,
   "id": "78c5a73e",
   "metadata": {},
   "outputs": [
    {
     "name": "stdout",
     "output_type": "stream",
     "text": [
      "How old are you? 25\n",
      "Have a good day at work\n"
     ]
    }
   ],
   "source": [
    "age = int(input(\"How old are you? \"))\n",
    "\n",
    "if age >= 18 and age <= 65:\n",
    "    print(\"Have a good day at work\")\n",
    "elif age < 18:\n",
    "    print(\"Why aren't you at school?\")\n",
    "else:\n",
    "    print(\"Early dinner?\")"
   ]
  },
  {
   "cell_type": "code",
   "execution_count": 42,
   "id": "6470797e",
   "metadata": {},
   "outputs": [
    {
     "name": "stdout",
     "output_type": "stream",
     "text": [
      "How old are you? 25\n",
      "Have a good day at work\n"
     ]
    }
   ],
   "source": [
    "age = int(input(\"How old are you? \"))\n",
    "\n",
    "# Use equality operators instead of 'and'\n",
    "if 18 <= age <= 65:\n",
    "    print(\"Have a good day at work\")\n",
    "elif age < 18:\n",
    "    print(\"Why aren't you at school?\")\n",
    "else:\n",
    "    print(\"Early dinner?\")"
   ]
  },
  {
   "cell_type": "markdown",
   "id": "889b6f50",
   "metadata": {},
   "source": [
    "**When comparing numbers, it is simpler to use `x <= y <= z` notation than using conditional `and` operator - it makes the code more readable.**"
   ]
  },
  {
   "cell_type": "code",
   "execution_count": 50,
   "id": "49dfab81",
   "metadata": {},
   "outputs": [
    {
     "name": "stdout",
     "output_type": "stream",
     "text": [
      "What's the temperature? 25\n",
      "Is it sunny or rainy? rainy\n",
      "Bring a jacket\n"
     ]
    }
   ],
   "source": [
    "# Temp is measured in degrees celsius\n",
    "\n",
    "temp = int(input(\"What's the temperature? \"))\n",
    "weather = input(\"Is it sunny or rainy? \")\n",
    "\n",
    "if temp < 15 or weather == \"rainy\":\n",
    "    print(\"Bring a jacket\")\n",
    "else:\n",
    "    print(\"Enjoy\")"
   ]
  },
  {
   "cell_type": "markdown",
   "id": "55b4c35a",
   "metadata": {},
   "source": [
    "**Remember that when the Boolean expression evaluates to False, it moves to the next condition block.**\n",
    "\n",
    "**In terms of precedence, `and` is more important than `or` when they are used together:**"
   ]
  },
  {
   "cell_type": "code",
   "execution_count": 4,
   "id": "b9cc5e0f",
   "metadata": {},
   "outputs": [
    {
     "name": "stdout",
     "output_type": "stream",
     "text": [
      "Go swimming\n"
     ]
    }
   ],
   "source": [
    "day = \"Friday\"\n",
    "temp = 30\n",
    "raining = False\n",
    "\n",
    "# Parentheses show Python thinking - as long as its Friday and over 27 degrees, you will go swimming\n",
    "if (day == \"Friday\" and temp > 27) or not raining:\n",
    "    print(\"Go swimming\")\n",
    "else:\n",
    "    print(\"Go study\")"
   ]
  },
  {
   "cell_type": "markdown",
   "id": "78164b1a",
   "metadata": {},
   "source": [
    "**The conditional operators `in` and `not in` can only be used with sequences.**"
   ]
  },
  {
   "cell_type": "code",
   "execution_count": 6,
   "id": "ab790798",
   "metadata": {},
   "outputs": [
    {
     "name": "stdout",
     "output_type": "stream",
     "text": [
      "Enter a letter here: x\n",
      "Hangman!\n"
     ]
    }
   ],
   "source": [
    "parrot = \"Norwegian Blue\"\n",
    "\n",
    "letter = input(\"Enter a letter here: \")\n",
    "\n",
    "# Note that it is case-sensitive\n",
    "if letter in parrot:\n",
    "    print(\"{} is in {}\".format(letter, parrot))\n",
    "else:\n",
    "    print(\"Hangman!\")"
   ]
  },
  {
   "cell_type": "code",
   "execution_count": 10,
   "id": "c0a54ac7",
   "metadata": {},
   "outputs": [
    {
     "name": "stdout",
     "output_type": "stream",
     "text": [
      "Do you want to go to the cinema or swimming? Cinema!\n",
      "Cool!\n"
     ]
    }
   ],
   "source": [
    "activity = input(\"Do you want to go to the cinema or swimming? \")\n",
    "\n",
    "if \"cinema\" not in activity.casefold():\n",
    "    print(\"But I want to go to the cinema!\")\n",
    "else:\n",
    "    print(\"Cool!\")"
   ]
  },
  {
   "cell_type": "code",
   "execution_count": 16,
   "id": "4ebde11f",
   "metadata": {},
   "outputs": [
    {
     "name": "stdout",
     "output_type": "stream",
     "text": [
      "Enter name here: Tim\n",
      "Enter age here: 30\n",
      "Welcome to 18-30s holiday Tim!\n"
     ]
    }
   ],
   "source": [
    "# Ask for name and age\n",
    "# Check if over 18 and under 31 - Welcome to holiday\n",
    "# Else refuse entry\n",
    "\n",
    "name = input(\"Enter name here: \")\n",
    "age = int(input(\"Enter age here: \"))\n",
    "\n",
    "if 18 <= age < 31:\n",
    "    print(\"Welcome to 18-30s holiday {}!\".format(name))\n",
    "else:\n",
    "    print(\"Apologies {}, you do not qualify for 18-30s holiday\".format(name))"
   ]
  },
  {
   "cell_type": "code",
   "execution_count": null,
   "id": "4d008cd7",
   "metadata": {},
   "outputs": [],
   "source": []
  }
 ],
 "metadata": {
  "kernelspec": {
   "display_name": "Python 3 (ipykernel)",
   "language": "python",
   "name": "python3"
  },
  "language_info": {
   "codemirror_mode": {
    "name": "ipython",
    "version": 3
   },
   "file_extension": ".py",
   "mimetype": "text/x-python",
   "name": "python",
   "nbconvert_exporter": "python",
   "pygments_lexer": "ipython3",
   "version": "3.9.17"
  }
 },
 "nbformat": 4,
 "nbformat_minor": 5
}
