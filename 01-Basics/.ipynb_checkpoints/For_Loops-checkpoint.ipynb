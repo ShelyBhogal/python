{
 "cells": [
  {
   "cell_type": "markdown",
   "id": "56019c41",
   "metadata": {},
   "source": [
    "# For Loops\n",
    "\n",
    "**Python provides several ways to repeat a block of code - `for` and `while` loops, list comprehension, and generator expressions.**\n",
    "\n",
    "**The `for` loop iterates over a finite set of values, so it assigns each value to one or more variable and performs a block of code for each value.**\n",
    "\n",
    "**The set of values must be contained within an *iterable*, which means anything that can be iterated over, e.g. string, list, tuple, dictionary, range etc.**"
   ]
  },
  {
   "cell_type": "code",
   "execution_count": 2,
   "id": "ded3fd90",
   "metadata": {},
   "outputs": [],
   "source": [
    "from IPython.core.debugger import set_trace"
   ]
  },
  {
   "cell_type": "code",
   "execution_count": 7,
   "id": "9b462971",
   "metadata": {},
   "outputs": [
    {
     "name": "stdout",
     "output_type": "stream",
     "text": [
      "--Return--\n",
      "None\n",
      "> \u001b[1;32mc:\\users\\shmel\\appdata\\local\\temp\\ipykernel_22252\\2630965146.py\u001b[0m(3)\u001b[0;36m<module>\u001b[1;34m()\u001b[0m\n",
      "\n",
      "ipdb> char\n",
      "'e'\n",
      "ipdb> c\n",
      "N\n",
      "o\n",
      "r\n",
      "w\n",
      "e\n",
      "g\n",
      "i\n",
      "a\n",
      "n\n",
      " \n",
      "B\n",
      "l\n",
      "u\n",
      "e\n"
     ]
    }
   ],
   "source": [
    "parrot = \"Norwegian Blue\"\n",
    "\n",
    "set_trace()\n",
    "for char in parrot:\n",
    "    print(char)"
   ]
  },
  {
   "cell_type": "markdown",
   "id": "4ddf0d93",
   "metadata": {},
   "source": [
    "**The cells below show looping over a string to identify punctuation, then extract it.**"
   ]
  },
  {
   "cell_type": "code",
   "execution_count": 12,
   "id": "a4682ebf",
   "metadata": {},
   "outputs": [],
   "source": [
    "number = \"£9,227,683.991 $487,562:803\"\n",
    "\n",
    "separators = \"\"\n",
    "\n",
    "# Loop to identify punctuation in string, i.e. not numeric\n",
    "for val in number:\n",
    "    if not val.isnumeric():\n",
    "        separators = separators + val"
   ]
  },
  {
   "cell_type": "code",
   "execution_count": 13,
   "id": "d91c6ae4",
   "metadata": {},
   "outputs": [
    {
     "name": "stdout",
     "output_type": "stream",
     "text": [
      "£,,. $,:\n"
     ]
    }
   ],
   "source": [
    "print(separators)"
   ]
  },
  {
   "cell_type": "code",
   "execution_count": 14,
   "id": "b4bcf6cd",
   "metadata": {},
   "outputs": [],
   "source": [
    "# Join characters if not in separators with whitespace, then split string by whitespace\n",
    "\n",
    "digits = \"\".join(char if char not in separators else \" \" for char in number).split()"
   ]
  },
  {
   "cell_type": "code",
   "execution_count": 17,
   "id": "16c75af4",
   "metadata": {},
   "outputs": [
    {
     "data": {
      "text/plain": [
       "str"
      ]
     },
     "execution_count": 17,
     "metadata": {},
     "output_type": "execute_result"
    }
   ],
   "source": [
    "# Note that the list of values are still strings\n",
    "\n",
    "type(digits[0])"
   ]
  },
  {
   "cell_type": "code",
   "execution_count": 18,
   "id": "22807a0f",
   "metadata": {},
   "outputs": [
    {
     "name": "stdout",
     "output_type": "stream",
     "text": [
      "[9, 227, 683, 991, 487, 562, 803]\n"
     ]
    }
   ],
   "source": [
    "print([int(num) for num in digits])"
   ]
  },
  {
   "cell_type": "markdown",
   "id": "366fd876",
   "metadata": {},
   "source": [
    "**Change the code to add `input()` function, and identify punctuation in strings and extract it to form list of words.**"
   ]
  },
  {
   "cell_type": "code",
   "execution_count": 26,
   "id": "9ed99860",
   "metadata": {},
   "outputs": [
    {
     "name": "stdout",
     "output_type": "stream",
     "text": [
      "How do you feel today? It's raining and I hate it. Especially since I have no life and nothing to do. I'm depressed\n",
      "\n",
      "'     .          . ' \n"
     ]
    }
   ],
   "source": [
    "import string\n",
    "\n",
    "text = input(\"How do you feel today? \")\n",
    "\n",
    "punct = \"\"\n",
    "\n",
    "# Loop to identify punctuation in string\n",
    "for char in text:\n",
    "    if not char.isalnum():\n",
    "        punct = punct + char\n",
    "\n",
    "print()\n",
    "print(punct)"
   ]
  },
  {
   "cell_type": "code",
   "execution_count": 27,
   "id": "14869719",
   "metadata": {},
   "outputs": [
    {
     "name": "stdout",
     "output_type": "stream",
     "text": [
      "['It', 's', 'raining', 'and', 'I', 'hate', 'it', 'Especially', 'since', 'I', 'have', 'no', 'life', 'and', 'nothing', 'to', 'do', 'I', 'm', 'depressed']\n"
     ]
    }
   ],
   "source": [
    "words = \"\".join(char if char not in punct else \" \" for char in text).split()\n",
    "\n",
    "print(words)"
   ]
  },
  {
   "cell_type": "markdown",
   "id": "7b5152af",
   "metadata": {},
   "source": [
    "**NOTE: The words `I'm`, `it's`, `there's` etc. (known as abbreviations) are split using this loop, because apostrophe `'` is considered punctuation. Therefore abbreviations end up forming two words, which is incorrect, e.g. 'I' and 'm'.**\n",
    "\n",
    "**In this situation, you could change the code in For loop to extract characters that are alphanumeric, instead of punctuation...however, this type of example is rare!** "
   ]
  },
  {
   "cell_type": "code",
   "execution_count": 25,
   "id": "696ad2a2",
   "metadata": {},
   "outputs": [
    {
     "name": "stdout",
     "output_type": "stream",
     "text": [
      "How much money have you spent today? £20, 45, 33\n",
      "98\n"
     ]
    }
   ],
   "source": [
    "# Example of extracting numbers from user input\n",
    "\n",
    "numbers = input(\"How much money have you spent today? \")\n",
    "\n",
    "separators = \"\"\n",
    "\n",
    "# Loop to identify punctuation in string, i.e. not numeric\n",
    "for val in numbers:\n",
    "    if not val.isnumeric():\n",
    "        separators = separators + val\n",
    "        \n",
    "values = \"\".join(char if char not in separators else \" \" for char in numbers).split()\n",
    "\n",
    "print(sum([int(num) for num in values]))"
   ]
  },
  {
   "cell_type": "markdown",
   "id": "54a2e32d",
   "metadata": {},
   "source": [
    "**NOTE: The code in cell above works when you input float numbers, e.g. £4.50. However, it will interpret the decimal point as punctuation/separator and split the float value into two integer values, 4 and 5.**"
   ]
  },
  {
   "cell_type": "code",
   "execution_count": 33,
   "id": "bcff1244",
   "metadata": {},
   "outputs": [
    {
     "name": "stdout",
     "output_type": "stream",
     "text": [
      "ASMEWPOIRFWSPHR\n"
     ]
    }
   ],
   "source": [
    "# Simply print out capital letters from quote\n",
    "\n",
    "quote = \"\"\"\n",
    "Alright, but apart from the Sanitation, the Medicine, Education, Wine,\n",
    "Public Order, Irrigation, Roads, the Fresh-Water System,\n",
    "and Public Health, what have the Romans ever done for us?\n",
    "\"\"\"\n",
    "\n",
    "uppers = \"\"\n",
    "\n",
    "for char in quote:\n",
    "    if char.isupper():\n",
    "        uppers = uppers + char\n",
    "        \n",
    "print(uppers)"
   ]
  },
  {
   "cell_type": "markdown",
   "id": "e5755101",
   "metadata": {},
   "source": [
    "**The `range` iterable is extremely useful, especially in Data Science and Finance analysis.**"
   ]
  },
  {
   "cell_type": "code",
   "execution_count": 1,
   "id": "bcbb1a20",
   "metadata": {},
   "outputs": [
    {
     "name": "stdout",
     "output_type": "stream",
     "text": [
      "i is 1\n",
      "i is 2\n",
      "i is 3\n",
      "i is 4\n",
      "i is 5\n",
      "i is 6\n",
      "i is 7\n",
      "i is 8\n",
      "i is 9\n",
      "i is 10\n"
     ]
    }
   ],
   "source": [
    "# If you print i, each value appears on its own line\n",
    "\n",
    "for i in range(1, 11):\n",
    "    print(\"i is {}\".format(i))"
   ]
  },
  {
   "cell_type": "code",
   "execution_count": 4,
   "id": "71ee5a1f",
   "metadata": {},
   "outputs": [
    {
     "name": "stdout",
     "output_type": "stream",
     "text": [
      "i is 10\n",
      "i is 9\n",
      "i is 8\n",
      "i is 7\n",
      "i is 6\n",
      "i is 5\n",
      "i is 4\n",
      "i is 3\n",
      "i is 2\n",
      "i is 1\n"
     ]
    }
   ],
   "source": [
    "for i in range(10, 0, -1):\n",
    "    print(\"i is {}\".format(i))"
   ]
  },
  {
   "cell_type": "code",
   "execution_count": 14,
   "id": "7ca58766",
   "metadata": {},
   "outputs": [
    {
     "name": "stdout",
     "output_type": "stream",
     "text": [
      "0 is divisible by 7\n",
      "7 is divisible by 7\n",
      "14 is divisible by 7\n",
      "21 is divisible by 7\n",
      "28 is divisible by 7\n",
      "35 is divisible by 7\n",
      "42 is divisible by 7\n",
      "49 is divisible by 7\n",
      "56 is divisible by 7\n",
      "63 is divisible by 7\n",
      "70 is divisible by 7\n",
      "77 is divisible by 7\n",
      "84 is divisible by 7\n",
      "91 is divisible by 7\n",
      "98 is divisible by 7\n"
     ]
    }
   ],
   "source": [
    "for i in range(0, 101):\n",
    "    if i % 7 == 0:\n",
    "        print(\"{} is divisible by 7\".format(i))"
   ]
  },
  {
   "cell_type": "code",
   "execution_count": 11,
   "id": "f0ce541d",
   "metadata": {},
   "outputs": [
    {
     "name": "stdout",
     "output_type": "stream",
     "text": [
      "How old are you? 71\n",
      "You're not allowed any booze!\n"
     ]
    }
   ],
   "source": [
    "age = int(input(\"How old are you? \"))\n",
    "\n",
    "if age in range(18, 71):\n",
    "    print(\"What drink would you like?\")\n",
    "else:\n",
    "    print(\"You're not allowed any booze!\")"
   ]
  },
  {
   "cell_type": "code",
   "execution_count": 11,
   "id": "8538d50d",
   "metadata": {},
   "outputs": [
    {
     "name": "stdout",
     "output_type": "stream",
     "text": [
      "1 times 8 is 8\n",
      "2 times 8 is 16\n",
      "3 times 8 is 24\n",
      "4 times 8 is 32\n",
      "5 times 8 is 40\n",
      "6 times 8 is 48\n",
      "7 times 8 is 56\n",
      "8 times 8 is 64\n",
      "9 times 8 is 72\n",
      "10 times 8 is 80\n",
      "11 times 8 is 88\n",
      "12 times 8 is 96\n"
     ]
    }
   ],
   "source": [
    "value = 8\n",
    "answer = 0\n",
    "\n",
    "for i in range(1, 13):\n",
    "    answer = value * i\n",
    "    print(\"{0} times {1} is {2}\".format(i, value, answer))"
   ]
  },
  {
   "cell_type": "markdown",
   "id": "b04ad33a",
   "metadata": {},
   "source": [
    "**Nested For Loops can be a headache, but it is done a lot. Look at the example of printing out the twelve-times tables. The outer loop goes round 12 times. Then there is an inner loop that goes round 12 times within each of the outer loops.**\n",
    "\n",
    "**When `i = 1`, `j` then loops through 1-to-12 times, then `i = 2` and `j` loops 1-to-12 times again, and so on, until the outer loop stops after 12.**"
   ]
  },
  {
   "cell_type": "code",
   "execution_count": 16,
   "id": "b06ea460",
   "metadata": {},
   "outputs": [
    {
     "name": "stdout",
     "output_type": "stream",
     "text": [
      "1 times 1 is 1\n",
      "2 times 1 is 2\n",
      "3 times 1 is 3\n",
      "4 times 1 is 4\n",
      "5 times 1 is 5\n",
      "6 times 1 is 6\n",
      "7 times 1 is 7\n",
      "8 times 1 is 8\n",
      "9 times 1 is 9\n",
      "10 times 1 is 10\n",
      "11 times 1 is 11\n",
      "12 times 1 is 12\n",
      "----------------------------------------------\n",
      "1 times 2 is 2\n",
      "2 times 2 is 4\n",
      "3 times 2 is 6\n",
      "4 times 2 is 8\n",
      "5 times 2 is 10\n",
      "6 times 2 is 12\n",
      "7 times 2 is 14\n",
      "8 times 2 is 16\n",
      "9 times 2 is 18\n",
      "10 times 2 is 20\n",
      "11 times 2 is 22\n",
      "12 times 2 is 24\n",
      "----------------------------------------------\n",
      "1 times 3 is 3\n",
      "2 times 3 is 6\n",
      "3 times 3 is 9\n",
      "4 times 3 is 12\n",
      "5 times 3 is 15\n",
      "6 times 3 is 18\n",
      "7 times 3 is 21\n",
      "8 times 3 is 24\n",
      "9 times 3 is 27\n",
      "10 times 3 is 30\n",
      "11 times 3 is 33\n",
      "12 times 3 is 36\n",
      "----------------------------------------------\n",
      "1 times 4 is 4\n",
      "2 times 4 is 8\n",
      "3 times 4 is 12\n",
      "4 times 4 is 16\n",
      "5 times 4 is 20\n",
      "6 times 4 is 24\n",
      "7 times 4 is 28\n",
      "8 times 4 is 32\n",
      "9 times 4 is 36\n",
      "10 times 4 is 40\n",
      "11 times 4 is 44\n",
      "12 times 4 is 48\n",
      "----------------------------------------------\n",
      "1 times 5 is 5\n",
      "2 times 5 is 10\n",
      "3 times 5 is 15\n",
      "4 times 5 is 20\n",
      "5 times 5 is 25\n",
      "6 times 5 is 30\n",
      "7 times 5 is 35\n",
      "8 times 5 is 40\n",
      "9 times 5 is 45\n",
      "10 times 5 is 50\n",
      "11 times 5 is 55\n",
      "12 times 5 is 60\n",
      "----------------------------------------------\n",
      "1 times 6 is 6\n",
      "2 times 6 is 12\n",
      "3 times 6 is 18\n",
      "4 times 6 is 24\n",
      "5 times 6 is 30\n",
      "6 times 6 is 36\n",
      "7 times 6 is 42\n",
      "8 times 6 is 48\n",
      "9 times 6 is 54\n",
      "10 times 6 is 60\n",
      "11 times 6 is 66\n",
      "12 times 6 is 72\n",
      "----------------------------------------------\n",
      "1 times 7 is 7\n",
      "2 times 7 is 14\n",
      "3 times 7 is 21\n",
      "4 times 7 is 28\n",
      "5 times 7 is 35\n",
      "6 times 7 is 42\n",
      "7 times 7 is 49\n",
      "8 times 7 is 56\n",
      "9 times 7 is 63\n",
      "10 times 7 is 70\n",
      "11 times 7 is 77\n",
      "12 times 7 is 84\n",
      "----------------------------------------------\n",
      "1 times 8 is 8\n",
      "2 times 8 is 16\n",
      "3 times 8 is 24\n",
      "4 times 8 is 32\n",
      "5 times 8 is 40\n",
      "6 times 8 is 48\n",
      "7 times 8 is 56\n",
      "8 times 8 is 64\n",
      "9 times 8 is 72\n",
      "10 times 8 is 80\n",
      "11 times 8 is 88\n",
      "12 times 8 is 96\n",
      "----------------------------------------------\n",
      "1 times 9 is 9\n",
      "2 times 9 is 18\n",
      "3 times 9 is 27\n",
      "4 times 9 is 36\n",
      "5 times 9 is 45\n",
      "6 times 9 is 54\n",
      "7 times 9 is 63\n",
      "8 times 9 is 72\n",
      "9 times 9 is 81\n",
      "10 times 9 is 90\n",
      "11 times 9 is 99\n",
      "12 times 9 is 108\n",
      "----------------------------------------------\n",
      "1 times 10 is 10\n",
      "2 times 10 is 20\n",
      "3 times 10 is 30\n",
      "4 times 10 is 40\n",
      "5 times 10 is 50\n",
      "6 times 10 is 60\n",
      "7 times 10 is 70\n",
      "8 times 10 is 80\n",
      "9 times 10 is 90\n",
      "10 times 10 is 100\n",
      "11 times 10 is 110\n",
      "12 times 10 is 120\n",
      "----------------------------------------------\n",
      "1 times 11 is 11\n",
      "2 times 11 is 22\n",
      "3 times 11 is 33\n",
      "4 times 11 is 44\n",
      "5 times 11 is 55\n",
      "6 times 11 is 66\n",
      "7 times 11 is 77\n",
      "8 times 11 is 88\n",
      "9 times 11 is 99\n",
      "10 times 11 is 110\n",
      "11 times 11 is 121\n",
      "12 times 11 is 132\n",
      "----------------------------------------------\n",
      "1 times 12 is 12\n",
      "2 times 12 is 24\n",
      "3 times 12 is 36\n",
      "4 times 12 is 48\n",
      "5 times 12 is 60\n",
      "6 times 12 is 72\n",
      "7 times 12 is 84\n",
      "8 times 12 is 96\n",
      "9 times 12 is 108\n",
      "10 times 12 is 120\n",
      "11 times 12 is 132\n",
      "12 times 12 is 144\n",
      "----------------------------------------------\n"
     ]
    }
   ],
   "source": [
    "# This is useful example to use with debugger in Spyder or JupyterLab\n",
    "\n",
    "for i in range(1, 13):\n",
    "    for j in range(1, 13):\n",
    "        print(\"{0} times {1} is {2}\".format(j, i, i * j))\n",
    "    print(\"----------------------------------------------\")"
   ]
  },
  {
   "cell_type": "markdown",
   "id": "9f472e46",
   "metadata": {},
   "source": [
    "**Use of `break` and `continue` commands when using `for` loops:**"
   ]
  },
  {
   "cell_type": "code",
   "execution_count": 2,
   "id": "0118d353",
   "metadata": {},
   "outputs": [
    {
     "name": "stdout",
     "output_type": "stream",
     "text": [
      "Buy milk\n",
      "Buy pasta\n",
      "Buy eggs\n",
      "Buy bread\n",
      "Buy rice\n"
     ]
    }
   ],
   "source": [
    "# Continue command does the same thing as excluding a value\n",
    "\n",
    "shopping_list = ['milk', 'pasta', 'eggs', 'spam', 'bread', 'rice']\n",
    "\n",
    "for item in shopping_list:\n",
    "    if item == 'spam':\n",
    "        continue\n",
    "        \n",
    "    print(\"Buy\", item)"
   ]
  },
  {
   "cell_type": "code",
   "execution_count": 3,
   "id": "4c8c6d0b",
   "metadata": {},
   "outputs": [
    {
     "name": "stdout",
     "output_type": "stream",
     "text": [
      "'spam' is found at index 3\n"
     ]
    }
   ],
   "source": [
    "# Break command takes you out of the loop completely when item is found\n",
    "\n",
    "item_to_find = 'spam'\n",
    "# Index position for spam (None means no value...yet)\n",
    "found_at = None\n",
    "\n",
    "# Loop over index positions in list\n",
    "for index in range(len(shopping_list)):\n",
    "    if shopping_list[index] == item_to_find:\n",
    "        found_at = index\n",
    "        break\n",
    "        \n",
    "print(\"'spam' is found at index\", found_at)"
   ]
  },
  {
   "cell_type": "code",
   "execution_count": 4,
   "id": "fc3cb671",
   "metadata": {},
   "outputs": [
    {
     "name": "stdout",
     "output_type": "stream",
     "text": [
      "albatross not found\n"
     ]
    }
   ],
   "source": [
    "# In case item is not in list\n",
    "\n",
    "item_to_find = 'albatross'\n",
    "# Index position for 'albatross' (if it exists)\n",
    "found_at = None\n",
    "\n",
    "# Loop over index positions in list\n",
    "for index in range(len(shopping_list)):\n",
    "    if shopping_list[index] == item_to_find:\n",
    "        found_at = index\n",
    "        break\n",
    "        \n",
    "if found_at is not None:\n",
    "    print(\"Item is found at index position {}\".format(found_at))\n",
    "else:\n",
    "    print(\"{} not found\".format(item_to_find))"
   ]
  },
  {
   "cell_type": "markdown",
   "id": "73f396fe",
   "metadata": {},
   "source": [
    "**NOTE: Using `break` command for this purpose is not good practice - there is a much better way:**"
   ]
  },
  {
   "cell_type": "code",
   "execution_count": 6,
   "id": "7db45a81",
   "metadata": {},
   "outputs": [
    {
     "name": "stdout",
     "output_type": "stream",
     "text": [
      "Index position 3\n"
     ]
    }
   ],
   "source": [
    "item_to_find = 'spam'\n",
    "\n",
    "if item_to_find in shopping_list:\n",
    "    found_at = shopping_list.index(item_to_find)\n",
    "    \n",
    "print(\"Index position\", found_at)"
   ]
  },
  {
   "cell_type": "markdown",
   "id": "b5c80389",
   "metadata": {},
   "source": [
    "## Augmented Assignment in `for` loop\n",
    "\n",
    "**It is necessary to increment a counter variable in a `while` loop, to stop endless looping, but you can also use augmented assignment (e.g. `x += 1`) in a `for` loop.**"
   ]
  },
  {
   "cell_type": "code",
   "execution_count": 5,
   "id": "8d62f9eb",
   "metadata": {},
   "outputs": [
    {
     "name": "stdout",
     "output_type": "stream",
     "text": [
      "40\n"
     ]
    }
   ],
   "source": [
    "# i.e.  5 + 5 + 5 + 5 + 5 + 5 + 5 + 5 = 40\n",
    "# range(1   2   3   4   5   6   7   8)\n",
    "\n",
    "number = 5\n",
    "multiplier = 8\n",
    "\n",
    "answer = 0\n",
    "\n",
    "for i in range(multiplier):\n",
    "    answer += number\n",
    "\n",
    "print(answer)"
   ]
  },
  {
   "cell_type": "code",
   "execution_count": 9,
   "id": "b549df0c",
   "metadata": {},
   "outputs": [
    {
     "name": "stdout",
     "output_type": "stream",
     "text": [
      "All numbers are not divisible by 8\n"
     ]
    }
   ],
   "source": [
    "# Using else to properly end the loop\n",
    "\n",
    "numbers = [1, 45, 50, 12, 60]\n",
    "\n",
    "for number in numbers:\n",
    "    if number % 8 == 0:\n",
    "        print(\"Number {} is divisible by 8\".format(number))\n",
    "        break\n",
    "else:\n",
    "    print(\"All numbers are not divisible by 8\")"
   ]
  },
  {
   "cell_type": "code",
   "execution_count": null,
   "id": "aead8eb2",
   "metadata": {},
   "outputs": [],
   "source": []
  },
  {
   "cell_type": "code",
   "execution_count": null,
   "id": "fe3408dd",
   "metadata": {},
   "outputs": [],
   "source": []
  }
 ],
 "metadata": {
  "kernelspec": {
   "display_name": "Python 3 (ipykernel)",
   "language": "python",
   "name": "python3"
  },
  "language_info": {
   "codemirror_mode": {
    "name": "ipython",
    "version": 3
   },
   "file_extension": ".py",
   "mimetype": "text/x-python",
   "name": "python",
   "nbconvert_exporter": "python",
   "pygments_lexer": "ipython3",
   "version": "3.9.17"
  }
 },
 "nbformat": 4,
 "nbformat_minor": 5
}
