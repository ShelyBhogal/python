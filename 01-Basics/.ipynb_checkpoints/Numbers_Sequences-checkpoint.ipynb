{
 "cells": [
  {
   "cell_type": "markdown",
   "id": "8f546d0d",
   "metadata": {},
   "source": [
    "# `print()` function\n",
    "\n",
    "**The `print()` function has 5 arguments with default settings:**\n",
    "\n",
    "    *objects\n",
    "    sep=' '\n",
    "    end='\\n'\n",
    "    file=None\n",
    "    flush=False\n",
    "    \n",
    "**The objects can be any expression or variable, separated by a comma. Python interprets this comma as a whitespace, defined in `sep` argument. Each print statement ends on a new line, and the `flush` option is for buffering purposes. The `file` argument must be an object that can be printed.**\n",
    "\n",
    "**NOTE: An expression is anything that can be computed to return a value. Binding a variable is an expression, but referencing the variable in another expression is also an expression.**"
   ]
  },
  {
   "cell_type": "code",
   "execution_count": 1,
   "id": "f446545c",
   "metadata": {},
   "outputs": [
    {
     "name": "stdout",
     "output_type": "stream",
     "text": [
      "Hello, World!\n"
     ]
    }
   ],
   "source": [
    "# String literal\n",
    "\n",
    "print(\"Hello, World!\")"
   ]
  },
  {
   "cell_type": "code",
   "execution_count": 2,
   "id": "f967aa03",
   "metadata": {},
   "outputs": [
    {
     "name": "stdout",
     "output_type": "stream",
     "text": [
      "123456789\n"
     ]
    }
   ],
   "source": [
    "# Numeric literal\n",
    "\n",
    "print(123456789)"
   ]
  },
  {
   "cell_type": "code",
   "execution_count": 3,
   "id": "7ef3825b",
   "metadata": {},
   "outputs": [
    {
     "name": "stdout",
     "output_type": "stream",
     "text": [
      "3\n"
     ]
    }
   ],
   "source": [
    "# Math expression\n",
    "\n",
    "print(1 + 2)"
   ]
  },
  {
   "cell_type": "code",
   "execution_count": 4,
   "id": "482f1473",
   "metadata": {},
   "outputs": [
    {
     "name": "stdout",
     "output_type": "stream",
     "text": [
      "42\n"
     ]
    }
   ],
   "source": [
    "print(7 * 6)"
   ]
  },
  {
   "cell_type": "code",
   "execution_count": 5,
   "id": "c068efb1",
   "metadata": {},
   "outputs": [
    {
     "name": "stdout",
     "output_type": "stream",
     "text": [
      "3 42\n"
     ]
    }
   ],
   "source": [
    "# Multiple expressions\n",
    "\n",
    "print(1 + 2, 7 * 6)"
   ]
  },
  {
   "cell_type": "code",
   "execution_count": 6,
   "id": "7adfe344",
   "metadata": {},
   "outputs": [
    {
     "name": "stdout",
     "output_type": "stream",
     "text": [
      "\n"
     ]
    }
   ],
   "source": [
    "print()"
   ]
  },
  {
   "cell_type": "code",
   "execution_count": 7,
   "id": "02c766ee",
   "metadata": {},
   "outputs": [
    {
     "name": "stdout",
     "output_type": "stream",
     "text": [
      "helloworld\n"
     ]
    }
   ],
   "source": [
    "# Concatenate strings\n",
    "\n",
    "print(\"hello\" + \"world\")"
   ]
  },
  {
   "cell_type": "code",
   "execution_count": 8,
   "id": "41578794",
   "metadata": {},
   "outputs": [
    {
     "name": "stdout",
     "output_type": "stream",
     "text": [
      "hello world\n"
     ]
    }
   ],
   "source": [
    "print(\"hello\" + \" \" + \"world\")"
   ]
  },
  {
   "cell_type": "markdown",
   "id": "1709b8a8",
   "metadata": {},
   "source": [
    "**Escape characters allow you to insert special characters in your print statements.**"
   ]
  },
  {
   "cell_type": "code",
   "execution_count": 9,
   "id": "5aa9ce96",
   "metadata": {},
   "outputs": [
    {
     "name": "stdout",
     "output_type": "stream",
     "text": [
      "This string has \n",
      "been split over \n",
      "several \n",
      "lines\n"
     ]
    }
   ],
   "source": [
    "split_string = \"This string has \\nbeen split over \\nseveral \\nlines\"\n",
    "\n",
    "print(split_string)"
   ]
  },
  {
   "cell_type": "code",
   "execution_count": 10,
   "id": "d71b3946",
   "metadata": {},
   "outputs": [
    {
     "name": "stdout",
     "output_type": "stream",
     "text": [
      "1 \t2 \t3 \t4 \t5\n"
     ]
    }
   ],
   "source": [
    "tabbed_string = \"1 \\t2 \\t3 \\t4 \\t5\"\n",
    "\n",
    "print(tabbed_string)"
   ]
  },
  {
   "cell_type": "code",
   "execution_count": 11,
   "id": "86b3e693",
   "metadata": {},
   "outputs": [
    {
     "name": "stdout",
     "output_type": "stream",
     "text": [
      "The human heart has hidden treasures, In secret kept, in silence sealed; \n",
      "The thoughts, the hopes, the dreams, the pleasures, \n",
      "Whose charms were broken if revealed.\n"
     ]
    }
   ],
   "source": [
    "# Use three quotes for large text excerpts (no need to use escape characters)\n",
    "\n",
    "print(\"\"\"The human heart has hidden treasures, In secret kept, in silence sealed; \n",
    "The thoughts, the hopes, the dreams, the pleasures, \n",
    "Whose charms were broken if revealed.\"\"\")"
   ]
  },
  {
   "cell_type": "code",
   "execution_count": 12,
   "id": "30dcae6f",
   "metadata": {},
   "outputs": [
    {
     "name": "stdout",
     "output_type": "stream",
     "text": [
      "I left £50 \"there\" and now its gone\\missing\n"
     ]
    }
   ],
   "source": [
    "print(\"I left \\xA350 \\\"there\\\" and now its gone\\\\missing\")"
   ]
  },
  {
   "cell_type": "code",
   "execution_count": 13,
   "id": "912297bd",
   "metadata": {},
   "outputs": [
    {
     "name": "stdout",
     "output_type": "stream",
     "text": [
      "C:\\Users\\Shmel\\repositories\n"
     ]
    }
   ],
   "source": [
    "# Use raw string property (r) to allow 'raw' text - not used often\n",
    "\n",
    "print(r\"C:\\Users\\Shmel\\repositories\")"
   ]
  },
  {
   "cell_type": "markdown",
   "id": "737f13cd",
   "metadata": {},
   "source": [
    "**Another Python function, which accepts string input only, is the `input()` function:**"
   ]
  },
  {
   "cell_type": "code",
   "execution_count": 14,
   "id": "968ccd50",
   "metadata": {},
   "outputs": [
    {
     "name": "stdout",
     "output_type": "stream",
     "text": [
      "Enter name here Smelly\n",
      "Hello Smelly\n"
     ]
    }
   ],
   "source": [
    "greeting = \"Hello \"\n",
    "\n",
    "name = input(\"Enter name here \")\n",
    "\n",
    "print(greeting + name)"
   ]
  },
  {
   "cell_type": "markdown",
   "id": "b6f417c7",
   "metadata": {},
   "source": [
    "# Variables\n",
    "\n",
    "**Bind an object to a meaningful name, then reference it in another command. The name is assigned using `=` symbol, and datatype is automatically determined by Python, meaning it is a 'strongly typed' language.**"
   ]
  },
  {
   "cell_type": "code",
   "execution_count": 15,
   "id": "7ab9937d",
   "metadata": {},
   "outputs": [],
   "source": [
    "age = 24"
   ]
  },
  {
   "cell_type": "code",
   "execution_count": 16,
   "id": "4fb98c60",
   "metadata": {},
   "outputs": [
    {
     "data": {
      "text/plain": [
       "int"
      ]
     },
     "execution_count": 16,
     "metadata": {},
     "output_type": "execute_result"
    }
   ],
   "source": [
    "type(age)"
   ]
  },
  {
   "cell_type": "code",
   "execution_count": 17,
   "id": "5bb68772",
   "metadata": {},
   "outputs": [
    {
     "data": {
      "text/plain": [
       "str"
      ]
     },
     "execution_count": 17,
     "metadata": {},
     "output_type": "execute_result"
    }
   ],
   "source": [
    "type(greeting)"
   ]
  },
  {
   "cell_type": "markdown",
   "id": "3e6a7614",
   "metadata": {},
   "source": [
    "**You can assign new values to an existing variable at any point:**"
   ]
  },
  {
   "cell_type": "code",
   "execution_count": 18,
   "id": "f9e7acaa",
   "metadata": {},
   "outputs": [],
   "source": [
    "age = \"24 years old\""
   ]
  },
  {
   "cell_type": "code",
   "execution_count": 19,
   "id": "a1b81c77",
   "metadata": {},
   "outputs": [
    {
     "data": {
      "text/plain": [
       "str"
      ]
     },
     "execution_count": 19,
     "metadata": {},
     "output_type": "execute_result"
    }
   ],
   "source": [
    "type(age)"
   ]
  },
  {
   "cell_type": "code",
   "execution_count": 20,
   "id": "8c977afe",
   "metadata": {},
   "outputs": [
    {
     "name": "stdout",
     "output_type": "stream",
     "text": [
      "Hello my age is 24 years old\n"
     ]
    }
   ],
   "source": [
    "# Python can cope with differences in datatype because it is strongly typed\n",
    "\n",
    "print(greeting + \"my age is\", age)"
   ]
  },
  {
   "cell_type": "markdown",
   "id": "d3c377d4",
   "metadata": {},
   "source": [
    "# Datatypes\n",
    "\n",
    "**Python has built-in datatypes:**\n",
    "\n",
    "* **numeric** (integer, float and complex numbers that have no size limit)\n",
    "* **iterator** (list, tuple, dictionary and set)\n",
    "* **sequence** (e.g. string, which is also an iterator, and have no size limit)\n",
    "* **mapping**\n",
    "* **file**\n",
    "* **class**\n",
    "* **exception**\n",
    "\n",
    "**Note that all datatypes have no size limit in Python, and only your computer memory affects the amount of data you can hold.**\n",
    "\n",
    "## Numeric Operations\n",
    "\n",
    "**There is a specific list of operators that can be used with numerics.**"
   ]
  },
  {
   "cell_type": "code",
   "execution_count": 21,
   "id": "3b4cdf23",
   "metadata": {},
   "outputs": [],
   "source": [
    "a, b = (12, 3)"
   ]
  },
  {
   "cell_type": "code",
   "execution_count": 22,
   "id": "8449eaf7",
   "metadata": {},
   "outputs": [
    {
     "data": {
      "text/plain": [
       "15"
      ]
     },
     "execution_count": 22,
     "metadata": {},
     "output_type": "execute_result"
    }
   ],
   "source": [
    "a + b"
   ]
  },
  {
   "cell_type": "code",
   "execution_count": 23,
   "id": "2c0f1bfe",
   "metadata": {},
   "outputs": [
    {
     "data": {
      "text/plain": [
       "9"
      ]
     },
     "execution_count": 23,
     "metadata": {},
     "output_type": "execute_result"
    }
   ],
   "source": [
    "a - b"
   ]
  },
  {
   "cell_type": "code",
   "execution_count": 24,
   "id": "de303346",
   "metadata": {},
   "outputs": [
    {
     "data": {
      "text/plain": [
       "36"
      ]
     },
     "execution_count": 24,
     "metadata": {},
     "output_type": "execute_result"
    }
   ],
   "source": [
    "a * b"
   ]
  },
  {
   "cell_type": "code",
   "execution_count": 25,
   "id": "f34ab885",
   "metadata": {},
   "outputs": [
    {
     "data": {
      "text/plain": [
       "4.0"
      ]
     },
     "execution_count": 25,
     "metadata": {},
     "output_type": "execute_result"
    }
   ],
   "source": [
    "a / b"
   ]
  },
  {
   "cell_type": "code",
   "execution_count": 26,
   "id": "b721b8f0",
   "metadata": {},
   "outputs": [
    {
     "data": {
      "text/plain": [
       "4"
      ]
     },
     "execution_count": 26,
     "metadata": {},
     "output_type": "execute_result"
    }
   ],
   "source": [
    "# Division with integer result (rounded to minus infinity)\n",
    "\n",
    "a // b"
   ]
  },
  {
   "cell_type": "code",
   "execution_count": 43,
   "id": "b8bc129b",
   "metadata": {},
   "outputs": [
    {
     "ename": "TypeError",
     "evalue": "'float' object cannot be interpreted as an integer",
     "output_type": "error",
     "traceback": [
      "\u001b[1;31m---------------------------------------------------------------------------\u001b[0m",
      "\u001b[1;31mTypeError\u001b[0m                                 Traceback (most recent call last)",
      "Cell \u001b[1;32mIn[43], line 1\u001b[0m\n\u001b[1;32m----> 1\u001b[0m \u001b[38;5;28;01mfor\u001b[39;00m i \u001b[38;5;129;01min\u001b[39;00m \u001b[38;5;28;43mrange\u001b[39;49m\u001b[43m(\u001b[49m\u001b[38;5;241;43m1\u001b[39;49m\u001b[43m,\u001b[49m\u001b[43m \u001b[49m\u001b[43ma\u001b[49m\u001b[43m \u001b[49m\u001b[38;5;241;43m/\u001b[39;49m\u001b[43m \u001b[49m\u001b[43mb\u001b[49m\u001b[43m)\u001b[49m:\n\u001b[0;32m      2\u001b[0m     \u001b[38;5;28mprint\u001b[39m(i)\n",
      "\u001b[1;31mTypeError\u001b[0m: 'float' object cannot be interpreted as an integer"
     ]
    }
   ],
   "source": [
    "## How // is useful:\n",
    "\n",
    "for i in range(1, a / b):\n",
    "    print(i)"
   ]
  },
  {
   "cell_type": "code",
   "execution_count": 27,
   "id": "8ad15ed4",
   "metadata": {},
   "outputs": [
    {
     "name": "stdout",
     "output_type": "stream",
     "text": [
      "1\n",
      "2\n",
      "3\n"
     ]
    }
   ],
   "source": [
    "for i in range(1, a // b):\n",
    "    print(i)"
   ]
  },
  {
   "cell_type": "code",
   "execution_count": 28,
   "id": "55607d5b",
   "metadata": {},
   "outputs": [
    {
     "data": {
      "text/plain": [
       "0"
      ]
     },
     "execution_count": 28,
     "metadata": {},
     "output_type": "execute_result"
    }
   ],
   "source": [
    "# Remainder after division\n",
    "\n",
    "a % b"
   ]
  },
  {
   "cell_type": "code",
   "execution_count": 29,
   "id": "3cbcc4de",
   "metadata": {},
   "outputs": [
    {
     "data": {
      "text/plain": [
       "21"
      ]
     },
     "execution_count": 29,
     "metadata": {},
     "output_type": "execute_result"
    }
   ],
   "source": [
    "a + b**2"
   ]
  },
  {
   "cell_type": "markdown",
   "id": "372716e0",
   "metadata": {},
   "source": [
    "**There is an operator precedence (applies to all maths, not just Python), which means there is an order of priority to how the operators are computed in an expression. Multiplication and Division have equally higher importance than addition and subtraction.**\n",
    "\n",
    "&emsp;**`*`** &emsp;**`/`**\n",
    "\n",
    "&emsp;**`+`** &emsp;**`-`**"
   ]
  },
  {
   "cell_type": "code",
   "execution_count": 30,
   "id": "1c77300a",
   "metadata": {},
   "outputs": [
    {
     "name": "stdout",
     "output_type": "stream",
     "text": [
      "-35.0\n"
     ]
    }
   ],
   "source": [
    "print(a + b / 3 - 4 * 12)"
   ]
  },
  {
   "cell_type": "markdown",
   "id": "b651dfc1",
   "metadata": {},
   "source": [
    "**If read from right-to-left, the expression equals 12. However, if done properly:**\n",
    "\n",
    "**b / 3 = 1 and 4 * 12 = 48**\n",
    "\n",
    "**The calculation becomes 12 + 1 - 48 = -35. If you need the expression to be calculated in order of appearance, use parentheses.**"
   ]
  },
  {
   "cell_type": "code",
   "execution_count": 31,
   "id": "7f7d324f",
   "metadata": {},
   "outputs": [
    {
     "name": "stdout",
     "output_type": "stream",
     "text": [
      "12.0\n"
     ]
    }
   ],
   "source": [
    "print((((a + b) / 3) - 4) * 12)"
   ]
  },
  {
   "cell_type": "markdown",
   "id": "3ed79ac5",
   "metadata": {},
   "source": [
    "## Sequence Operations\n",
    "\n",
    "**You've seen how to print string statements, but you can also extract individual characters or parts of the string by 'indexing' or 'slicing' respectively.**\n",
    "\n",
    "**NOTE: Python indexing starts from 0, not 1.**\n",
    "\n",
    "**NOTE: Slicing starts from a given index position and moves up to, but does not include, an end index position. You can optionally add a step in the range, i.e. skip steps.**\n",
    "\n",
    "                                            my_string[start:stop:step]\n",
    "                                            \n",
    "**You know you are slicing when there is a colon `:`.**"
   ]
  },
  {
   "cell_type": "code",
   "execution_count": 32,
   "id": "195cd419",
   "metadata": {},
   "outputs": [],
   "source": [
    "parrot = \"Norwegian Blue\""
   ]
  },
  {
   "cell_type": "code",
   "execution_count": 33,
   "id": "09d83e69",
   "metadata": {},
   "outputs": [
    {
     "data": {
      "text/plain": [
       "'N'"
      ]
     },
     "execution_count": 33,
     "metadata": {},
     "output_type": "execute_result"
    }
   ],
   "source": [
    "parrot[0]"
   ]
  },
  {
   "cell_type": "code",
   "execution_count": 34,
   "id": "53af496c",
   "metadata": {},
   "outputs": [
    {
     "data": {
      "text/plain": [
       "'Norwegian'"
      ]
     },
     "execution_count": 34,
     "metadata": {},
     "output_type": "execute_result"
    }
   ],
   "source": [
    "# Slicing\n",
    "\n",
    "parrot[0:9]"
   ]
  },
  {
   "cell_type": "code",
   "execution_count": 35,
   "id": "e07ecbdd",
   "metadata": {},
   "outputs": [
    {
     "data": {
      "text/plain": [
       "'B'"
      ]
     },
     "execution_count": 35,
     "metadata": {},
     "output_type": "execute_result"
    }
   ],
   "source": [
    "parrot[10]"
   ]
  },
  {
   "cell_type": "code",
   "execution_count": 36,
   "id": "8c0fa703",
   "metadata": {},
   "outputs": [
    {
     "data": {
      "text/plain": [
       "'Blue'"
      ]
     },
     "execution_count": 36,
     "metadata": {},
     "output_type": "execute_result"
    }
   ],
   "source": [
    "# Slicing\n",
    "\n",
    "parrot[10:]"
   ]
  },
  {
   "cell_type": "code",
   "execution_count": 37,
   "id": "f99ad55b",
   "metadata": {},
   "outputs": [
    {
     "name": "stdout",
     "output_type": "stream",
     "text": [
      "w\n",
      "e\n",
      " \n",
      "w\n",
      "i\n",
      "n\n"
     ]
    }
   ],
   "source": [
    "print(parrot[3])\n",
    "print(parrot[4])\n",
    "print(parrot[9])\n",
    "print(parrot[3])\n",
    "print(parrot[6])\n",
    "print(parrot[8])"
   ]
  },
  {
   "cell_type": "markdown",
   "id": "7c850813",
   "metadata": {},
   "source": [
    "**Negative indexing means starting from the end of the sequence, rather then the beginning**"
   ]
  },
  {
   "cell_type": "code",
   "execution_count": 38,
   "id": "0741e3ef",
   "metadata": {},
   "outputs": [
    {
     "data": {
      "text/plain": [
       "'B'"
      ]
     },
     "execution_count": 38,
     "metadata": {},
     "output_type": "execute_result"
    }
   ],
   "source": [
    "# Slicing\n",
    "\n",
    "parrot[-4:-3]"
   ]
  },
  {
   "cell_type": "code",
   "execution_count": 39,
   "id": "da47e858",
   "metadata": {},
   "outputs": [
    {
     "data": {
      "text/plain": [
       "'Blue'"
      ]
     },
     "execution_count": 39,
     "metadata": {},
     "output_type": "execute_result"
    }
   ],
   "source": [
    "# Slicing\n",
    "\n",
    "parrot[-4:]"
   ]
  },
  {
   "cell_type": "code",
   "execution_count": 40,
   "id": "d5341ce3",
   "metadata": {},
   "outputs": [
    {
     "data": {
      "text/plain": [
       "'N'"
      ]
     },
     "execution_count": 40,
     "metadata": {},
     "output_type": "execute_result"
    }
   ],
   "source": [
    "parrot[-14]"
   ]
  },
  {
   "cell_type": "code",
   "execution_count": 41,
   "id": "251f61ee",
   "metadata": {},
   "outputs": [
    {
     "name": "stdout",
     "output_type": "stream",
     "text": [
      "w\n",
      "e\n",
      " \n",
      "w\n",
      "i\n",
      "n\n"
     ]
    }
   ],
   "source": [
    "print(parrot[-11])\n",
    "print(parrot[-1])\n",
    "print(parrot[-5])\n",
    "print(parrot[-11])\n",
    "print(parrot[-8])\n",
    "print(parrot[-6])"
   ]
  },
  {
   "cell_type": "code",
   "execution_count": 42,
   "id": "1a86ecf7",
   "metadata": {},
   "outputs": [
    {
     "name": "stdout",
     "output_type": "stream",
     "text": [
      "w\n",
      "e\n",
      " \n",
      "w\n",
      "i\n",
      "n\n"
     ]
    }
   ],
   "source": [
    "print(parrot[3 - 14])\n",
    "print(parrot[4 - 14])\n",
    "print(parrot[9 - 14])\n",
    "print(parrot[3 - 14])\n",
    "print(parrot[6 - 14])\n",
    "print(parrot[8 - 14])"
   ]
  },
  {
   "cell_type": "code",
   "execution_count": 43,
   "id": "abfb1433",
   "metadata": {},
   "outputs": [
    {
     "data": {
      "text/plain": [
       "'we'"
      ]
     },
     "execution_count": 43,
     "metadata": {},
     "output_type": "execute_result"
    }
   ],
   "source": [
    "parrot[3:5]"
   ]
  },
  {
   "cell_type": "code",
   "execution_count": 44,
   "id": "13ffb9e3",
   "metadata": {},
   "outputs": [
    {
     "data": {
      "text/plain": [
       "'NreinBu'"
      ]
     },
     "execution_count": 44,
     "metadata": {},
     "output_type": "execute_result"
    }
   ],
   "source": [
    "# Skip one step\n",
    "\n",
    "parrot[0:13:2]"
   ]
  },
  {
   "cell_type": "markdown",
   "id": "1688355b",
   "metadata": {},
   "source": [
    "**When you see the step value as `-1`, you can assume that the sequence is read in reverse (make sure the start value is larger than the stop value when reading in reverse):**"
   ]
  },
  {
   "cell_type": "code",
   "execution_count": 55,
   "id": "aa51400d",
   "metadata": {},
   "outputs": [],
   "source": [
    "letters = \"abcdefghijklmnopqrstuvwxyz\""
   ]
  },
  {
   "cell_type": "code",
   "execution_count": 67,
   "id": "2152222e",
   "metadata": {},
   "outputs": [
    {
     "data": {
      "text/plain": [
       "'qpo'"
      ]
     },
     "execution_count": 67,
     "metadata": {},
     "output_type": "execute_result"
    }
   ],
   "source": [
    "# 'qpo'\n",
    "\n",
    "letters[-10:-13:-1]\n",
    "\n",
    "#letters[16:13:-1]"
   ]
  },
  {
   "cell_type": "code",
   "execution_count": 69,
   "id": "864d2b78",
   "metadata": {},
   "outputs": [
    {
     "data": {
      "text/plain": [
       "'edcba'"
      ]
     },
     "execution_count": 69,
     "metadata": {},
     "output_type": "execute_result"
    }
   ],
   "source": [
    "# 'edcba'\n",
    "\n",
    "letters[4::-1]"
   ]
  },
  {
   "cell_type": "code",
   "execution_count": 71,
   "id": "0ca41e75",
   "metadata": {},
   "outputs": [
    {
     "data": {
      "text/plain": [
       "'zyxwvuts'"
      ]
     },
     "execution_count": 71,
     "metadata": {},
     "output_type": "execute_result"
    }
   ],
   "source": [
    "# Last 8 characters (in reverse)\n",
    "\n",
    "letters[:-9:-1]"
   ]
  },
  {
   "cell_type": "code",
   "execution_count": 61,
   "id": "b0223e0f",
   "metadata": {},
   "outputs": [
    {
     "data": {
      "text/plain": [
       "'zyxwvutsrqponmlkjihgfedcba'"
      ]
     },
     "execution_count": 61,
     "metadata": {},
     "output_type": "execute_result"
    }
   ],
   "source": [
    "letters[-1::-1]"
   ]
  },
  {
   "cell_type": "code",
   "execution_count": 62,
   "id": "811e516f",
   "metadata": {},
   "outputs": [
    {
     "data": {
      "text/plain": [
       "'zyxwvutsrqponmlkjihgfedcba'"
      ]
     },
     "execution_count": 62,
     "metadata": {},
     "output_type": "execute_result"
    }
   ],
   "source": [
    "letters[25::-1]"
   ]
  },
  {
   "cell_type": "code",
   "execution_count": 63,
   "id": "7119804f",
   "metadata": {},
   "outputs": [
    {
     "data": {
      "text/plain": [
       "'zyxwvutsrqponmlkjihgfedcba'"
      ]
     },
     "execution_count": 63,
     "metadata": {},
     "output_type": "execute_result"
    }
   ],
   "source": [
    "letters[::-1]"
   ]
  },
  {
   "cell_type": "markdown",
   "id": "bdaeda6c",
   "metadata": {},
   "source": [
    "**We know that index 0 returns the first character, but what if the string is empty?**"
   ]
  },
  {
   "cell_type": "code",
   "execution_count": 72,
   "id": "d9471a10",
   "metadata": {},
   "outputs": [],
   "source": [
    "empty_string = \"\""
   ]
  },
  {
   "cell_type": "code",
   "execution_count": 73,
   "id": "4d44eacf",
   "metadata": {},
   "outputs": [
    {
     "ename": "IndexError",
     "evalue": "string index out of range",
     "output_type": "error",
     "traceback": [
      "\u001b[1;31m---------------------------------------------------------------------------\u001b[0m",
      "\u001b[1;31mIndexError\u001b[0m                                Traceback (most recent call last)",
      "Cell \u001b[1;32mIn[73], line 1\u001b[0m\n\u001b[1;32m----> 1\u001b[0m \u001b[43mempty_string\u001b[49m\u001b[43m[\u001b[49m\u001b[38;5;241;43m0\u001b[39;49m\u001b[43m]\u001b[49m\n",
      "\u001b[1;31mIndexError\u001b[0m: string index out of range"
     ]
    }
   ],
   "source": [
    "empty_string[0]"
   ]
  },
  {
   "cell_type": "markdown",
   "id": "f3fe08a2",
   "metadata": {},
   "source": [
    "**However, if you slice the elements literally, i.e. start at the beginning and stop after 1st character, there is no error message:**"
   ]
  },
  {
   "cell_type": "code",
   "execution_count": 74,
   "id": "1926c5f1",
   "metadata": {},
   "outputs": [
    {
     "data": {
      "text/plain": [
       "''"
      ]
     },
     "execution_count": 74,
     "metadata": {},
     "output_type": "execute_result"
    }
   ],
   "source": [
    "empty_string[:1]"
   ]
  },
  {
   "cell_type": "markdown",
   "id": "9d3933a8",
   "metadata": {},
   "source": [
    "**Why would you need to slice numerical strings?**"
   ]
  },
  {
   "cell_type": "code",
   "execution_count": null,
   "id": "33444090",
   "metadata": {},
   "outputs": [],
   "source": [
    "number = \"9,227,394,726,590,342,886\""
   ]
  },
  {
   "cell_type": "code",
   "execution_count": 46,
   "id": "ae098fa7",
   "metadata": {},
   "outputs": [
    {
     "name": "stdout",
     "output_type": "stream",
     "text": [
      ",,,,,,\n"
     ]
    }
   ],
   "source": [
    "seps = number[1::4]\n",
    "\n",
    "print(seps)"
   ]
  },
  {
   "cell_type": "code",
   "execution_count": 50,
   "id": "36a7c6e6",
   "metadata": {},
   "outputs": [],
   "source": [
    "# Extract number with punctuation removed\n",
    "\n",
    "digits = \"\".join(char if char not in seps else \"\" for char in number).split()\n",
    "\n",
    "value = [int(val) for val in digits]"
   ]
  },
  {
   "cell_type": "code",
   "execution_count": 51,
   "id": "37531f51",
   "metadata": {},
   "outputs": [
    {
     "name": "stdout",
     "output_type": "stream",
     "text": [
      "[9227394726590342886]\n"
     ]
    }
   ],
   "source": [
    "print(value)"
   ]
  },
  {
   "cell_type": "code",
   "execution_count": 54,
   "id": "85b59261",
   "metadata": {},
   "outputs": [
    {
     "data": {
      "text/plain": [
       "list"
      ]
     },
     "execution_count": 54,
     "metadata": {},
     "output_type": "execute_result"
    }
   ],
   "source": [
    "# List with one element --> a long integer\n",
    "\n",
    "type(value)"
   ]
  },
  {
   "cell_type": "code",
   "execution_count": null,
   "id": "59a9cd9d",
   "metadata": {},
   "outputs": [],
   "source": []
  },
  {
   "cell_type": "code",
   "execution_count": null,
   "id": "34da194a",
   "metadata": {},
   "outputs": [],
   "source": []
  },
  {
   "cell_type": "code",
   "execution_count": null,
   "id": "34c95a83",
   "metadata": {},
   "outputs": [],
   "source": []
  },
  {
   "cell_type": "code",
   "execution_count": null,
   "id": "19675daa",
   "metadata": {},
   "outputs": [],
   "source": []
  },
  {
   "cell_type": "code",
   "execution_count": null,
   "id": "dd8638c1",
   "metadata": {},
   "outputs": [],
   "source": []
  },
  {
   "cell_type": "code",
   "execution_count": null,
   "id": "c8d2cbd2",
   "metadata": {},
   "outputs": [],
   "source": []
  },
  {
   "cell_type": "code",
   "execution_count": null,
   "id": "4ed53106",
   "metadata": {},
   "outputs": [],
   "source": []
  },
  {
   "cell_type": "code",
   "execution_count": null,
   "id": "365fe04b",
   "metadata": {},
   "outputs": [],
   "source": [
    "# In Python, all functions return a value"
   ]
  },
  {
   "cell_type": "code",
   "execution_count": null,
   "id": "eae14d5d",
   "metadata": {},
   "outputs": [],
   "source": []
  }
 ],
 "metadata": {
  "kernelspec": {
   "display_name": "Python 3 (ipykernel)",
   "language": "python",
   "name": "python3"
  },
  "language_info": {
   "codemirror_mode": {
    "name": "ipython",
    "version": 3
   },
   "file_extension": ".py",
   "mimetype": "text/x-python",
   "name": "python",
   "nbconvert_exporter": "python",
   "pygments_lexer": "ipython3",
   "version": "3.9.17"
  }
 },
 "nbformat": 4,
 "nbformat_minor": 5
}
