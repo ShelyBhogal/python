{
 "cells": [
  {
   "cell_type": "markdown",
   "id": "f3c0f2ba",
   "metadata": {},
   "source": [
    "# Tuples\n",
    "\n",
    "**A tuple is an ordered set of data, so it can be indexed and iterated over, but it is immutable. It is another sequence datatype, like strings and lists, so you can apply all Python common sequence operations. It looks like a list, except it is surrounded by normal brackets `()` instead of square brackets.**\n",
    "\n",
    "**By default, Python applies tuple datatype to all sequences if type is not specified.**"
   ]
  },
  {
   "cell_type": "code",
   "execution_count": 24,
   "id": "28fdccdf",
   "metadata": {},
   "outputs": [
    {
     "name": "stdout",
     "output_type": "stream",
     "text": [
      "('a', 'b', 'c')\n"
     ]
    }
   ],
   "source": [
    "t = \"a\", \"b\", \"c\"\n",
    "\n",
    "print(t)"
   ]
  },
  {
   "cell_type": "code",
   "execution_count": 25,
   "id": "17c9e5b7",
   "metadata": {},
   "outputs": [
    {
     "data": {
      "text/plain": [
       "tuple"
      ]
     },
     "execution_count": 25,
     "metadata": {},
     "output_type": "execute_result"
    }
   ],
   "source": [
    "type(t)"
   ]
  },
  {
   "cell_type": "code",
   "execution_count": 2,
   "id": "e5e54d77",
   "metadata": {},
   "outputs": [
    {
     "name": "stdout",
     "output_type": "stream",
     "text": [
      "yes\n"
     ]
    }
   ],
   "source": [
    "if \"a\" in t:\n",
    "    print(\"yes\")\n",
    "else:\n",
    "    print(\"no\")"
   ]
  },
  {
   "cell_type": "code",
   "execution_count": 5,
   "id": "e32891cb",
   "metadata": {},
   "outputs": [
    {
     "name": "stdout",
     "output_type": "stream",
     "text": [
      "('Ride the Lightning', 'Metallica', 1984)\n",
      "Ride the Lightning\n",
      "Metallica\n",
      "1984\n"
     ]
    }
   ],
   "source": [
    "# Album titles, artist and release year\n",
    "\n",
    "welcome = \"Welcome to my Nightmare\", \"Alice Cooper\", 1975\n",
    "bad = \"Bad Company\", \"Bad Company\", 1974\n",
    "budgie = \"Nightflight\", \"Budgie\", 1981\n",
    "imelda = \"More Mayhem\", \"Emilda May\", 2011\n",
    "metallica = \"Ride the Lightning\", \"Metallica\", 1984\n",
    "\n",
    "print(metallica)\n",
    "print(metallica[0])\n",
    "print(metallica[1])\n",
    "print(metallica[2])"
   ]
  },
  {
   "cell_type": "markdown",
   "id": "fcb65ac5",
   "metadata": {},
   "source": [
    "**If you need to edit any of the items in a tuple, you need to convert it to a list, change the item as required, then convert back to a tuple. If you try to alter a tuple element, the code will crash.**"
   ]
  },
  {
   "cell_type": "code",
   "execution_count": 6,
   "id": "375c3c77",
   "metadata": {},
   "outputs": [
    {
     "name": "stdout",
     "output_type": "stream",
     "text": [
      "['More Mayhem', 'Emilda May', 2011]\n"
     ]
    }
   ],
   "source": [
    "# Convert to list\n",
    "\n",
    "imelda_list = list(imelda)\n",
    "\n",
    "print(imelda_list)"
   ]
  },
  {
   "cell_type": "code",
   "execution_count": 7,
   "id": "ca6e4b52",
   "metadata": {},
   "outputs": [
    {
     "name": "stdout",
     "output_type": "stream",
     "text": [
      "['More Mayhem', 'Imelda May', 2011]\n"
     ]
    }
   ],
   "source": [
    "# Edit singer name\n",
    "\n",
    "imelda_list[1] = \"Imelda May\"\n",
    "\n",
    "print(imelda_list)"
   ]
  },
  {
   "cell_type": "code",
   "execution_count": 8,
   "id": "c84f4a78",
   "metadata": {},
   "outputs": [
    {
     "name": "stdout",
     "output_type": "stream",
     "text": [
      "('More Mayhem', 'Imelda May', 2011)\n"
     ]
    }
   ],
   "source": [
    "# Convert back to tuple\n",
    "\n",
    "imelda2 = tuple(imelda_list)\n",
    "\n",
    "print(imelda2)"
   ]
  },
  {
   "cell_type": "markdown",
   "id": "bbe3d8e4",
   "metadata": {},
   "source": [
    "## Unpacking tuples\n",
    "\n",
    "**You can bind several variables to one value, or you can bind several variables to different values. Either way, this is referred to as 'unpacking' a tuple.**\n",
    "\n",
    "**NOTE: You can 'unpack' any sequence datatype.**"
   ]
  },
  {
   "cell_type": "code",
   "execution_count": 9,
   "id": "87cd89f2",
   "metadata": {},
   "outputs": [
    {
     "name": "stdout",
     "output_type": "stream",
     "text": [
      "12\n"
     ]
    }
   ],
   "source": [
    "a = b = c = d = e = f = 12\n",
    "\n",
    "print(c)"
   ]
  },
  {
   "cell_type": "code",
   "execution_count": 10,
   "id": "7345647a",
   "metadata": {},
   "outputs": [
    {
     "name": "stdout",
     "output_type": "stream",
     "text": [
      "6\n"
     ]
    }
   ],
   "source": [
    "# Python automatically assumes the values are a tuple\n",
    "\n",
    "a, b, c, d, e, f = 2, 4, 6, 8, 10, 12\n",
    "\n",
    "print(c)"
   ]
  },
  {
   "cell_type": "code",
   "execution_count": 12,
   "id": "6adf755c",
   "metadata": {},
   "outputs": [
    {
     "name": "stdout",
     "output_type": "stream",
     "text": [
      "0 a\n",
      "1 b\n",
      "2 c\n",
      "3 d\n",
      "4 e\n",
      "5 f\n",
      "6 g\n"
     ]
    }
   ],
   "source": [
    "for t in enumerate(\"abcdefg\"):\n",
    "    index, value = t\n",
    "    print(index, value)"
   ]
  },
  {
   "cell_type": "markdown",
   "id": "5a0bdaa3",
   "metadata": {},
   "source": [
    "**With each loop, the index and value are 'unpacked' from the sequence with `enumerate()` function.**"
   ]
  },
  {
   "cell_type": "code",
   "execution_count": 17,
   "id": "1b75f239",
   "metadata": {},
   "outputs": [
    {
     "name": "stdout",
     "output_type": "stream",
     "text": [
      "ALBUM: Welcome to my Nightmare\n",
      "ARTIST: Alice Cooper\n",
      "YEAR: 1975\n"
     ]
    }
   ],
   "source": [
    "welcome = \"Welcome to my Nightmare\", \"Alice Cooper\", 1975\n",
    "\n",
    "title, artist, year = welcome\n",
    "\n",
    "print(\"ALBUM:\", title)\n",
    "print(\"ARTIST:\", artist)\n",
    "print(\"YEAR:\", year)"
   ]
  },
  {
   "cell_type": "markdown",
   "id": "1c59aaab",
   "metadata": {},
   "source": [
    "## Nested Tuples\n",
    "\n",
    "**When unpacking nested tuples, the variables to which the values will be unpacked should be contained in parentheses.**"
   ]
  },
  {
   "cell_type": "code",
   "execution_count": 20,
   "id": "02b3b7a7",
   "metadata": {},
   "outputs": [],
   "source": [
    "albums = [\n",
    "    (\"Welcome to my Nightmare\", \"Alice Cooper\", 1975), \n",
    "    (\"Bad Company\", \"Bad Company\", 1974), \n",
    "    (\"Nightflight\", \"Budgie\", 1981), \n",
    "    (\"More Mayhem\", \"Imelda May\", 2011), \n",
    "    (\"Ride the Lightning\", \"Metallica\", 1984)\n",
    "]\n"
   ]
  },
  {
   "cell_type": "code",
   "execution_count": 21,
   "id": "da8cf1d0",
   "metadata": {},
   "outputs": [
    {
     "name": "stdout",
     "output_type": "stream",
     "text": [
      "ALBUM: Welcome to my Nightmare, ARTIST: Alice Cooper, YEAR: 1975\n",
      "ALBUM: Bad Company, ARTIST: Bad Company, YEAR: 1974\n",
      "ALBUM: Nightflight, ARTIST: Budgie, YEAR: 1981\n",
      "ALBUM: More Mayhem, ARTIST: Imelda May, YEAR: 2011\n",
      "ALBUM: Ride the Lightning, ARTIST: Metallica, YEAR: 1984\n"
     ]
    }
   ],
   "source": [
    "for (title, artist, year) in albums:\n",
    "    print(\"ALBUM: {}, ARTIST: {}, YEAR: {}\".format(title, artist, year))"
   ]
  },
  {
   "cell_type": "code",
   "execution_count": null,
   "id": "d14044f1",
   "metadata": {},
   "outputs": [],
   "source": []
  },
  {
   "cell_type": "code",
   "execution_count": null,
   "id": "3c327f0f",
   "metadata": {},
   "outputs": [],
   "source": []
  },
  {
   "cell_type": "code",
   "execution_count": null,
   "id": "e8806785",
   "metadata": {},
   "outputs": [],
   "source": []
  }
 ],
 "metadata": {
  "kernelspec": {
   "display_name": "Python 3 (ipykernel)",
   "language": "python",
   "name": "python3"
  },
  "language_info": {
   "codemirror_mode": {
    "name": "ipython",
    "version": 3
   },
   "file_extension": ".py",
   "mimetype": "text/x-python",
   "name": "python",
   "nbconvert_exporter": "python",
   "pygments_lexer": "ipython3",
   "version": "3.9.17"
  }
 },
 "nbformat": 4,
 "nbformat_minor": 5
}
