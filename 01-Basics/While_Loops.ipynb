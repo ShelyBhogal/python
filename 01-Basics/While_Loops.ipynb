{
 "cells": [
  {
   "cell_type": "markdown",
   "id": "d50832f7",
   "metadata": {},
   "source": [
    "# While Loops\n",
    "\n",
    "**Python has two main ways of looping a piece of code - `for` and `while` loops. The `while` loop still works on iterables, but the code keeps looping *while* a given condition is True, i.e. there is no limit to the number of items, only the Boolean condition matters. The code stops only when the condition becomes False.**\n",
    "\n",
    "**So, as long as the condition is True, the code within the loop is executed.**"
   ]
  },
  {
   "cell_type": "code",
   "execution_count": 1,
   "id": "39d71fdc",
   "metadata": {},
   "outputs": [
    {
     "name": "stdout",
     "output_type": "stream",
     "text": [
      "i is now 0\n",
      "i is now 1\n",
      "i is now 2\n",
      "i is now 3\n",
      "i is now 4\n",
      "i is now 5\n",
      "i is now 6\n",
      "i is now 7\n",
      "i is now 8\n",
      "i is now 9\n"
     ]
    }
   ],
   "source": [
    "# Counter variable\n",
    "i = 0\n",
    "\n",
    "while i < 10:\n",
    "    print(\"i is now {}\".format(i))\n",
    "    # Augment assigned counter variable\n",
    "    i += 1"
   ]
  },
  {
   "cell_type": "markdown",
   "id": "05cb488f",
   "metadata": {},
   "source": [
    "**This is not a realistic example. An ideal example is in online gaming, when a player has to choose a direction to exit. If a choice is not made, then the player stays in place.**"
   ]
  },
  {
   "cell_type": "code",
   "execution_count": 4,
   "id": "cdd411b7",
   "metadata": {},
   "outputs": [
    {
     "name": "stdout",
     "output_type": "stream",
     "text": [
      "Please choose a direction \n",
      "Please choose a direction up\n",
      "Please choose a direction down\n",
      "Please choose a direction east\n",
      "Aren't you glad you got out of there!\n"
     ]
    }
   ],
   "source": [
    "exits = ['north', 'south', 'east', 'west']\n",
    "\n",
    "chosen_exit = ''\n",
    "\n",
    "while chosen_exit not in exits:\n",
    "    chosen_exit = input(\"Please choose a direction \")\n",
    "    \n",
    "print(\"Aren't you glad you got out of there!\")"
   ]
  },
  {
   "cell_type": "markdown",
   "id": "648b24e8",
   "metadata": {},
   "source": [
    "**The problem with this code is that it will keep running until you choose the correct direction, which you may never know! Just like with `for` loops, you can use `break` or `continue` commmands to quit the entire `while` loop or quit the current iteration in the `while` loop.** "
   ]
  },
  {
   "cell_type": "code",
   "execution_count": 23,
   "id": "7a8df45a",
   "metadata": {},
   "outputs": [
    {
     "name": "stdout",
     "output_type": "stream",
     "text": [
      "Please choose a direction up\n",
      "Please choose a direction down\n",
      "Please choose a direction left\n",
      "Please choose a direction right\n",
      "Please choose a direction quit\n",
      "Game over :(\n",
      "Aren't you glad you got out of there!\n"
     ]
    }
   ],
   "source": [
    "exits = ['north', 'south', 'east', 'west']\n",
    "\n",
    "chosen_exit = ''\n",
    "\n",
    "while chosen_exit not in exits:\n",
    "    chosen_exit = input(\"Please choose a direction \")\n",
    "    if chosen_exit.casefold() == 'quit':\n",
    "        print(\"Game over :(\")\n",
    "        break\n",
    "        \n",
    "print(\"Aren't you glad you got out of there!\")"
   ]
  },
  {
   "cell_type": "markdown",
   "id": "de5d1ff8",
   "metadata": {},
   "source": [
    "**If you include the last print statement in an `else` statement, then it is only displayed if you choose the correct exit, thereby tidying up the code.**"
   ]
  },
  {
   "cell_type": "code",
   "execution_count": 26,
   "id": "66382ddf",
   "metadata": {},
   "outputs": [
    {
     "name": "stdout",
     "output_type": "stream",
     "text": [
      "Please choose a direction right\n",
      "Please choose a direction left\n",
      "Please choose a direction up\n",
      "Please choose a direction down\n",
      "Please choose a direction quit\n",
      "Game over :(\n"
     ]
    }
   ],
   "source": [
    "exits = ['north', 'south', 'east', 'west']\n",
    "\n",
    "chosen_exit = ''\n",
    "\n",
    "while chosen_exit not in exits:\n",
    "    chosen_exit = input(\"Please choose a direction \")\n",
    "    if chosen_exit.casefold() == 'quit':\n",
    "        print(\"Game over :(\")\n",
    "        break\n",
    "else:\n",
    "    print(\"Aren't you glad you got out of there!\")"
   ]
  },
  {
   "cell_type": "markdown",
   "id": "c71ba3cd",
   "metadata": {},
   "source": [
    "**The function `random.randint()` returns a randomly-chosen number from a given range of numbers, i.e. choose a number between 1 and 10!.**"
   ]
  },
  {
   "cell_type": "code",
   "execution_count": 18,
   "id": "dbfb51e9",
   "metadata": {},
   "outputs": [],
   "source": [
    "import random"
   ]
  },
  {
   "cell_type": "code",
   "execution_count": 29,
   "id": "8f455bf7",
   "metadata": {},
   "outputs": [
    {
     "name": "stdout",
     "output_type": "stream",
     "text": [
      "Guess a number between 1 and 10: 2\n",
      "Guess higher: \n",
      "9\n",
      "Guess lower: \n",
      "0\n"
     ]
    }
   ],
   "source": [
    "answer = random.randint(1, 10)\n",
    "#print(answer) # Remove after testing\n",
    "\n",
    "guess = int(input(\"Guess a number between 1 and 10: \"))\n",
    "        \n",
    "while guess != answer:\n",
    "    # If user wants to stop guessing, i.e. quit\n",
    "    if guess == 0:\n",
    "        break\n",
    "    \n",
    "    if guess < answer:\n",
    "        print(\"Guess higher: \")\n",
    "    else:\n",
    "        print(\"Guess lower: \")\n",
    "    guess = int(input())\n",
    "else:\n",
    "    print(\"Correct!\")"
   ]
  },
  {
   "cell_type": "markdown",
   "id": "04b99896",
   "metadata": {},
   "source": [
    "**The `while` loop allows the user to keep guessing until correct - there is also an option to quit the guessing game by selecting `0`, i.e. `if guess == 0`, break.**"
   ]
  },
  {
   "cell_type": "markdown",
   "id": "6d1c762b",
   "metadata": {},
   "source": [
    "## Hi-Lo Game\n",
    "\n",
    "**Using binary search, write an algorithm to get the computer to guess a number between 1 and 1000 that you have picked. It should be able to do this in 10 guesses...**\n",
    "\n",
    "**It is called a binary search because the data is halved with each guess, i.e. 'guess higher' or 'guess lower' so that in each case either the lower or upper half is discarded. You can do this by adjusting the lower or upper values of the range based on whether the computer should guess higher or lower.**"
   ]
  },
  {
   "cell_type": "code",
   "execution_count": 5,
   "id": "f70bd87e",
   "metadata": {},
   "outputs": [
    {
     "name": "stdout",
     "output_type": "stream",
     "text": [
      "Think of a number between 1 and 1000\n",
      "Press ENTER to start \n",
      "\tGuessing between 1 and 1000...\n",
      "My guess is 500. Should it be higher or lower? Insert 'h' or 'l', or 'c' if correct: h\n",
      "\tGuessing between 501 and 1000...\n",
      "My guess is 750. Should it be higher or lower? Insert 'h' or 'l', or 'c' if correct: l\n",
      "\tGuessing between 501 and 749...\n",
      "My guess is 625. Should it be higher or lower? Insert 'h' or 'l', or 'c' if correct: h\n",
      "\tGuessing between 626 and 749...\n",
      "My guess is 687. Should it be higher or lower? Insert 'h' or 'l', or 'c' if correct: h\n",
      "\tGuessing between 688 and 749...\n",
      "My guess is 718. Should it be higher or lower? Insert 'h' or 'l', or 'c' if correct: l\n",
      "\tGuessing between 688 and 717...\n",
      "My guess is 702. Should it be higher or lower? Insert 'h' or 'l', or 'c' if correct: h\n",
      "\tGuessing between 703 and 717...\n",
      "My guess is 710. Should it be higher or lower? Insert 'h' or 'l', or 'c' if correct: h\n",
      "\tGuessing between 711 and 717...\n",
      "My guess is 714. Should it be higher or lower? Insert 'h' or 'l', or 'c' if correct: l\n",
      "\tGuessing between 711 and 713...\n",
      "My guess is 712. Should it be higher or lower? Insert 'h' or 'l', or 'c' if correct: l\n",
      "\tGuessing between 711 and 711...\n",
      "My guess is 711. Should it be higher or lower? Insert 'h' or 'l', or 'c' if correct: c\n",
      "CORRECT! Got it in 10 guesses\n"
     ]
    }
   ],
   "source": [
    "low = 1\n",
    "high = 1000\n",
    "\n",
    "print(\"Think of a number between {} and {}\".format(low, high))\n",
    "input(\"Press ENTER to start \")\n",
    "\n",
    "# Store no of guesses\n",
    "guesses = 1\n",
    "\n",
    "while True:\n",
    "    print(\"\\tGuessing between {} and {}...\".format(low, high))\n",
    "    guess = low + (high - low) // 2\n",
    "    hi_lo = input(\"My guess is {}. Should it be higher or lower? Insert 'h' or 'l', or 'c' if correct: \".format(guess)).casefold()\n",
    "    \n",
    "    if hi_lo == 'h':\n",
    "        # Low value becomes 1 greater than guess\n",
    "        low = guess + 1\n",
    "    elif hi_lo == 'l':\n",
    "        # High value becomes 1 less than guess\n",
    "        high = guess - 1\n",
    "    elif hi_lo == 'c':\n",
    "        print(\"CORRECT! Got it in {} guesses\".format(guesses))\n",
    "        break\n",
    "    else:\n",
    "        print(\"Please enter 'h', 'l' or 'c'\")\n",
    "        \n",
    "    guesses += 1"
   ]
  },
  {
   "cell_type": "markdown",
   "id": "81e62e9c",
   "metadata": {},
   "source": [
    "**Printing the lower and upper values for each iteration is a quick way to see if the code is working like it should. As you can see the lower or upper range is halved each time using integer division (result is always integer).**\n",
    "\n",
    "**REMEMBER to augment the counter variable:**\n",
    "\n",
    "        guesses = guesses + 1\n",
    "\n",
    "**NOTE: If condition is always True, won't the loop be endless? Yes, unless you break out of it once the computer makes the correct guess.**\n",
    "\n",
    "**Using an `else` statement at the end of the `while` loop will add some sophistication, by adding a condition when the range between low and high becomes non-existent, i.e. `low == high`, which means the correct guess. The low and high values 'converge' to the correct answer.**"
   ]
  },
  {
   "cell_type": "code",
   "execution_count": 22,
   "id": "b7f86ce2",
   "metadata": {},
   "outputs": [
    {
     "name": "stdout",
     "output_type": "stream",
     "text": [
      "Think of a number between 1 and 1000\n",
      "Press ENTER to start \n",
      "\tGuessing between 1 and 1000...\n",
      "My guess is 500. Should it be higher or lower? Insert 'h' or 'l', or 'c' if correct: l\n",
      "\tGuessing between 1 and 499...\n",
      "My guess is 250. Should it be higher or lower? Insert 'h' or 'l', or 'c' if correct: l\n",
      "\tGuessing between 1 and 249...\n",
      "My guess is 125. Should it be higher or lower? Insert 'h' or 'l', or 'c' if correct: l\n",
      "\tGuessing between 1 and 124...\n",
      "My guess is 62. Should it be higher or lower? Insert 'h' or 'l', or 'c' if correct: h\n",
      "\tGuessing between 63 and 124...\n",
      "My guess is 93. Should it be higher or lower? Insert 'h' or 'l', or 'c' if correct: h\n",
      "\tGuessing between 94 and 124...\n",
      "My guess is 109. Should it be higher or lower? Insert 'h' or 'l', or 'c' if correct: l\n",
      "\tGuessing between 94 and 108...\n",
      "My guess is 101. Should it be higher or lower? Insert 'h' or 'l', or 'c' if correct: l\n",
      "\tGuessing between 94 and 100...\n",
      "My guess is 97. Should it be higher or lower? Insert 'h' or 'l', or 'c' if correct: h\n",
      "\tGuessing between 98 and 100...\n",
      "My guess is 99. Should it be higher or lower? Insert 'h' or 'l', or 'c' if correct: h\n",
      "So, obviously it's 100! In 10 guesses!\n"
     ]
    }
   ],
   "source": [
    "low = 1\n",
    "high = 1000\n",
    "\n",
    "print(\"Think of a number between {} and {}\".format(low, high))\n",
    "input(\"Press ENTER to start \")\n",
    "\n",
    "# Store no of guesses\n",
    "guesses = 1\n",
    "\n",
    "# i.e. when the range between guesses exists\n",
    "while low != high:\n",
    "    print(\"\\tGuessing between {} and {}...\".format(low, high))\n",
    "    guess = low + (high - low) // 2\n",
    "    hi_lo = input(\"My guess is {}. Should it be higher or lower? Insert 'h' or 'l', or 'c' if correct: \".format(guess)).casefold()\n",
    "    \n",
    "    if hi_lo == 'h':\n",
    "        # Low value becomes 1 greater than guess\n",
    "        low = guess + 1\n",
    "    elif hi_lo == 'l':\n",
    "        # High value becomes 1 less than guess\n",
    "        high = guess - 1\n",
    "    elif hi_lo == 'c':\n",
    "        print(\"CORRECT! Got it in {} guesses\".format(guesses))\n",
    "        break\n",
    "    else:\n",
    "        print(\"Please enter 'h', 'l' or 'c'\")\n",
    "        \n",
    "    guesses += 1\n",
    "else:\n",
    "    print(\"So, obviously it's {}! In {} guesses!\".format(low, guesses))"
   ]
  },
  {
   "cell_type": "markdown",
   "id": "f9feb7cf",
   "metadata": {},
   "source": [
    "**As you can see, the computer whittles down the options until 100 is the only possibility, so instead of you having to insert 'c' to confirm, when you and the computer know its the correct answer, the code automatically prints the `else` statement.**\n",
    "\n",
    "**Debugging `while` loops, especially with user input, can be quite frustrating, and it is recommended to use proper IDE tools like Spyder or JupyterLab.**"
   ]
  },
  {
   "cell_type": "code",
   "execution_count": 62,
   "id": "e062a562",
   "metadata": {},
   "outputs": [
    {
     "name": "stdout",
     "output_type": "stream",
     "text": [
      "Choose the number for one of the options below:\n",
      "1. Learn Python\n",
      "2. Go swimming\n",
      "3. Eat lunch\n",
      "4. Have dinner\n",
      "5. Clean house\n",
      "6. Smoke spliff\n",
      "7. Walk dog\n",
      "8. Play piano\n",
      "9. Go dancing\n",
      "0. Exit\n",
      "\n",
      "1\n",
      "You chose option 1\n",
      "2\n",
      "You chose option 2\n",
      "3\n",
      "You chose option 3\n",
      "4\n",
      "You chose option 4\n",
      "5\n",
      "You chose option 5\n",
      "6\n",
      "You chose option 6\n",
      "7\n",
      "You chose option 7\n",
      "8\n",
      "You chose option 8\n",
      "9\n",
      "You chose option 9\n",
      "10\n",
      "\n",
      "You made an invalid choice, try again:\n",
      "        1. Learn Python\n",
      "        2. Go swimming\n",
      "        3. Eat lunch\n",
      "        4. Have dinner\n",
      "        5. Clean house\n",
      "        6. Smoke spliff\n",
      "        7. Walk dog\n",
      "        8. Play piano\n",
      "        9. Go dancing\n",
      "        0. Exit\n",
      "        \n",
      "0\n",
      "Exiting...\n"
     ]
    }
   ],
   "source": [
    "# ----------------------------------------- CHALLENGE ---------------------------------------------\n",
    "\n",
    "# Keep looping, allowing user to choose each activity, and the loop only stops when user inputs 0\n",
    "# If user makes a valid choice, i.e. one from the list, print short message inc. value they chose\n",
    "# If user makes an invalid choice, e.g. 11, print full list of options again\n",
    "print('''Choose the number for one of the options below:\n",
    "1. Learn Python\n",
    "2. Go swimming\n",
    "3. Eat lunch\n",
    "4. Have dinner\n",
    "5. Clean house\n",
    "6. Smoke spliff\n",
    "7. Walk dog\n",
    "8. Play piano\n",
    "9. Go dancing\n",
    "0. Exit\n",
    "''')\n",
    "\n",
    "activity = -1\n",
    "\n",
    "while activity != 0:\n",
    "    activity = int(input())\n",
    "    \n",
    "    if activity == 0:\n",
    "        print(\"Exiting...\")\n",
    "        break\n",
    "    elif activity in range(1, 10):\n",
    "        print(\"You chose option {}\".format(activity))\n",
    "    else:\n",
    "        print('''\\nYou made an invalid choice, try again:\n",
    "        1. Learn Python\n",
    "        2. Go swimming\n",
    "        3. Eat lunch\n",
    "        4. Have dinner\n",
    "        5. Clean house\n",
    "        6. Smoke spliff\n",
    "        7. Walk dog\n",
    "        8. Play piano\n",
    "        9. Go dancing\n",
    "        0. Exit\n",
    "        ''')"
   ]
  },
  {
   "cell_type": "markdown",
   "id": "e854f2b6",
   "metadata": {},
   "source": [
    "**The disadvantage to this is if the user accidentally forgets to input a number and presses ENTER. The code will crash. You need to add a condition to account for empty value, `None` or `''`.**\n",
    "\n",
    "**If you had used `while True` statement instead, you would need to add two `break` commands...not good coding.**"
   ]
  },
  {
   "cell_type": "code",
   "execution_count": null,
   "id": "c89b6e8e",
   "metadata": {},
   "outputs": [],
   "source": []
  }
 ],
 "metadata": {
  "kernelspec": {
   "display_name": "Python 3 (ipykernel)",
   "language": "python",
   "name": "python3"
  },
  "language_info": {
   "codemirror_mode": {
    "name": "ipython",
    "version": 3
   },
   "file_extension": ".py",
   "mimetype": "text/x-python",
   "name": "python",
   "nbconvert_exporter": "python",
   "pygments_lexer": "ipython3",
   "version": "3.9.17"
  }
 },
 "nbformat": 4,
 "nbformat_minor": 5
}
