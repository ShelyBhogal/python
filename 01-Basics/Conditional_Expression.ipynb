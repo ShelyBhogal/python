{
 "cells": [
  {
   "cell_type": "markdown",
   "id": "8182908d",
   "metadata": {},
   "source": [
    "# Conditional Expressions\n",
    "\n",
    "**A conditional expression is essentially an `if... else...` clause flattened out into one line of code, i.e. an expression.**"
   ]
  },
  {
   "cell_type": "code",
   "execution_count": 3,
   "id": "80af4e8a",
   "metadata": {},
   "outputs": [
    {
     "name": "stdout",
     "output_type": "stream",
     "text": [
      "in range\n"
     ]
    }
   ],
   "source": [
    "x = 99\n",
    "\n",
    "if x < 100:\n",
    "    print('in range')\n",
    "else:\n",
    "    print('out of range')"
   ]
  },
  {
   "cell_type": "code",
   "execution_count": 2,
   "id": "fcdaa176",
   "metadata": {},
   "outputs": [
    {
     "name": "stdout",
     "output_type": "stream",
     "text": [
      "in range\n"
     ]
    }
   ],
   "source": [
    "# AS A CONDITIONAL EXPRESSION\n",
    "\n",
    "result = 'in range' if x < 100 else 'out of range'\n",
    "\n",
    "print(result)"
   ]
  },
  {
   "cell_type": "markdown",
   "id": "b8a15d12",
   "metadata": {},
   "source": [
    "**The structure is very simple:**\n",
    "\n",
    "        <True value> if <condition> else <False value>\n",
    "\n",
    "**When you use `if` as a statement (`if <condition is True>`), you don't have to include an `else` clause, but with conditional expressions, you must have an `else` clause. The expression has to evaluate to something, so if the condition is False, you need to specify a value.**\n",
    "\n",
    "**You can use a more complicated condition than `x < 100`, as long as it evaluates to `True` or `False`. However, for more complex `if` and `else` clauses, a conditional expression should not be used.**\n",
    "\n",
    "**Using a list of plants, write a conditional expression to decide where to plant them, e.g. perennials go in the window boxes and all other plants go in the garden.**\n",
    "\n",
    "**NOTE: The list of plants is made up of 'named' tuples. See notebook in Tuples folder for more details. Also, write the output to a file rather than printing on the screen.**"
   ]
  },
  {
   "cell_type": "code",
   "execution_count": 4,
   "id": "d9fac097",
   "metadata": {},
   "outputs": [],
   "source": [
    "from collections import namedtuple\n",
    "\n",
    "Plant = namedtuple('Plant', ['name', 'scientific_name', 'lifecycle', 'plant_type'])\n",
    "\n",
    "plants_list = [\n",
    "    Plant(\"Andromeda\", \"Pieris japonica\", \"Evergreen\", \"Shrub\"),\n",
    "    Plant(\"Bellflower\", \"Campanula\", \"perennial\", \"Flower\"),\n",
    "    Plant(\"China Pink\", \"Dianthus\", \"Perennial\", \"Flower\"),\n",
    "    Plant(\"Daffodil\", \"Narcissus\", \"Perennial\", \"Flower\"),\n",
    "    Plant(\"Evening Primrose\", \"Oenothera\", \"Biennial\", \"Flower\"),\n",
    "    Plant(\"French Marigold\", \"Tagetes patula\", \"Annual\", \"Flower\"),\n",
    "    Plant(\"Golden Hakone Grass\", \"Hakonechloa macra\", \"Perennial\", \"Grass\"),\n",
    "    Plant(\"Hydrangea\", \"Hydrangea\", \"evergreen\", \"Shrub\"),\n",
    "    Plant(\"Iris\", \"Iris\", \"Perennial\", \"Flower\"),\n",
    "    Plant(\"Japanese Camellia\", \"Camellia japonica\", \"Evergreen\", \"Shrub\"),\n",
    "    Plant(\"Lavender\", \"Lavendula\", \"Perennial\", \"Shrub\"),\n",
    "    Plant(\"Lilac\", \"Syringa vulgaris\", \"Deciduous\", \"Shrub\"),\n",
    "    Plant(\"Magnolia\", \"Magnolia\", \"Deciduous, evergreen\", \"Shrub\"),\n",
    "    Plant(\"Peony\", \"Paeonia\", \"Perennial\", \"Shrub\"),\n",
    "    Plant(\"Queen Anne's Lace\", \"Daucus carota\", \"Biennial\", \"Flower\"),\n",
    "    Plant(\"Red Hot Poker\", \"Kniphofia\", \"Perennial\", \"Flower\"),\n",
    "    Plant(\"Snapdragon\", \"Antirrhinum majus\", \"Annual\", \"Flower\"),\n",
    "    Plant(\"Sunflower\", \"Helianthus\", \"Annual\", \"Flower\"),\n",
    "    Plant(\"Tiger Lily\", \"Lilinium tigrinium\", \"Perennial\", \"Flower\"),\n",
    "    Plant(\"Witch Hazel\", \"Hamamelis\", \"Deciduous\", \"Shrub\"),\n",
    "]"
   ]
  },
  {
   "cell_type": "code",
   "execution_count": 5,
   "id": "58727faf",
   "metadata": {},
   "outputs": [],
   "source": [
    "with open('planting_instructions.txt', 'w', encoding='utf-8') as output_file:\n",
    "    for plant in plants_list:\n",
    "        where_to_plant = 'window box' if plant.lifecycle.lower() == 'perennial' else 'garden'\n",
    "        print(f\"{plant.name}: Plant in {where_to_plant}\", file=output_file)"
   ]
  },
  {
   "cell_type": "code",
   "execution_count": 6,
   "id": "be7a5aac",
   "metadata": {},
   "outputs": [],
   "source": [
    "# Add additional condition\n",
    "\n",
    "with open('planting_instructions.txt', 'w', encoding='utf-8') as output_file:\n",
    "    for plant in plants_list:\n",
    "        where_to_plant, who = ('window box', 'me') if plant.lifecycle.lower() == 'perennial' else ('garden', 'gardener')\n",
    "        print(f\"{plant.name}: {who} to plant in {where_to_plant}\", file=output_file)"
   ]
  },
  {
   "cell_type": "markdown",
   "id": "2edc6143",
   "metadata": {},
   "source": [
    "## Challenge\n",
    "\n",
    "**Change the code below to use conditional expression instead of writing out `if` and `else` statements.**"
   ]
  },
  {
   "cell_type": "code",
   "execution_count": 16,
   "id": "c9f06f9c",
   "metadata": {},
   "outputs": [
    {
     "name": "stdout",
     "output_type": "stream",
     "text": [
      "What's your name? Tim\n",
      "And how old are you Tim? 18\n",
      "18\n",
      "What'll you have to drink Tim?\n"
     ]
    }
   ],
   "source": [
    "# Original code\n",
    "\n",
    "name = input(\"What's your name? \")\n",
    "\n",
    "age = int(input(f\"And how old are you {name}? \"))\n",
    "print(age)\n",
    "\n",
    "if age >= 18:\n",
    "    print(f\"What'll you have to drink {name}?\")\n",
    "else:\n",
    "    print(f\"Piss off {name}, come back in {18 - age} years when you're old enough\")"
   ]
  },
  {
   "cell_type": "code",
   "execution_count": 14,
   "id": "5cf93604",
   "metadata": {},
   "outputs": [
    {
     "name": "stdout",
     "output_type": "stream",
     "text": [
      "Enter your name: Zoe\n",
      "Enter your age: 11\n",
      "11\n",
      "Piss off Zoe, come back in 7 years when you're old enough\n"
     ]
    }
   ],
   "source": [
    "# Updated code\n",
    "\n",
    "name = input(\"Enter your name: \")\n",
    "\n",
    "age = int(input(\"Enter your age: \"))\n",
    "print(age)\n",
    "\n",
    "message = f\"What you havin to drink {name}?\" if age >= 18 else f\"Piss off {name}, come back in {18 - age} years when you're old enough\"\n",
    "\n",
    "print(message)"
   ]
  },
  {
   "cell_type": "code",
   "execution_count": null,
   "id": "a5ade3f5",
   "metadata": {},
   "outputs": [],
   "source": []
  }
 ],
 "metadata": {
  "kernelspec": {
   "display_name": "Python 3 (ipykernel)",
   "language": "python",
   "name": "python3"
  },
  "language_info": {
   "codemirror_mode": {
    "name": "ipython",
    "version": 3
   },
   "file_extension": ".py",
   "mimetype": "text/x-python",
   "name": "python",
   "nbconvert_exporter": "python",
   "pygments_lexer": "ipython3",
   "version": "3.9.17"
  }
 },
 "nbformat": 4,
 "nbformat_minor": 5
}
