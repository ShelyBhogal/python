{
 "cells": [
  {
   "cell_type": "markdown",
   "id": "f40a2b53",
   "metadata": {},
   "source": [
    "# Random Module in Python\n",
    "\n",
    "**The `random` module allows you to generate pseudo-random number or sets of numbers, with many capabilities. It is external to Python so must always be imported.**"
   ]
  },
  {
   "cell_type": "code",
   "execution_count": 1,
   "id": "82acd197",
   "metadata": {},
   "outputs": [],
   "source": [
    "import random"
   ]
  },
  {
   "cell_type": "markdown",
   "id": "9247fc34",
   "metadata": {},
   "source": [
    "## Select single random number"
   ]
  },
  {
   "cell_type": "code",
   "execution_count": 2,
   "id": "9e41821c",
   "metadata": {},
   "outputs": [
    {
     "name": "stdout",
     "output_type": "stream",
     "text": [
      "Guess a number between 1 and 10: 2\n",
      "Guess higher\n",
      "5\n",
      "GOT IT!\n"
     ]
    }
   ],
   "source": [
    "# Random number between 1 and 10 (random.randint function)\n",
    "\n",
    "answer = random.randint(1, 10)\n",
    "\n",
    "guess = int(input(\"Guess a number between 1 and 10: \"))\n",
    "\n",
    "if guess == answer:\n",
    "    print(\"BINGO! You guessed it first time\")\n",
    "else:\n",
    "    if guess < answer:\n",
    "        print(\"Guess higher\")\n",
    "    else:\n",
    "        print(\"Guess lower\")\n",
    "    guess = int(input())\n",
    "    if guess == answer:\n",
    "        print(\"GOT IT!\")\n",
    "    else:\n",
    "        print(\"No no no\")"
   ]
  },
  {
   "cell_type": "markdown",
   "id": "6febfa2b",
   "metadata": {},
   "source": [
    "**NOTE: This works better in a `while` loop so you can make endless guesses until you get it right. See notebook on while loops.**\n",
    "\n",
    "**You can set the range in `randint` function as variables to make the code more robust:**"
   ]
  },
  {
   "cell_type": "code",
   "execution_count": 6,
   "id": "7105202d",
   "metadata": {},
   "outputs": [
    {
     "data": {
      "text/plain": [
       "88"
      ]
     },
     "execution_count": 6,
     "metadata": {},
     "output_type": "execute_result"
    }
   ],
   "source": [
    "highest = 100\n",
    "\n",
    "random.randint(1, highest)"
   ]
  },
  {
   "cell_type": "code",
   "execution_count": null,
   "id": "af526967",
   "metadata": {},
   "outputs": [],
   "source": []
  },
  {
   "cell_type": "code",
   "execution_count": null,
   "id": "ffc2599c",
   "metadata": {},
   "outputs": [],
   "source": []
  }
 ],
 "metadata": {
  "kernelspec": {
   "display_name": "Python 3 (ipykernel)",
   "language": "python",
   "name": "python3"
  },
  "language_info": {
   "codemirror_mode": {
    "name": "ipython",
    "version": 3
   },
   "file_extension": ".py",
   "mimetype": "text/x-python",
   "name": "python",
   "nbconvert_exporter": "python",
   "pygments_lexer": "ipython3",
   "version": "3.9.17"
  }
 },
 "nbformat": 4,
 "nbformat_minor": 5
}
