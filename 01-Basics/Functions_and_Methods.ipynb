{
 "cells": [
  {
   "cell_type": "markdown",
   "id": "3ba76955",
   "metadata": {},
   "source": [
    "# Functions\n",
    "\n",
    "**Functions and methods are used in the same way, but are syntactically different. You can define your own function but you cannot create your own method. Methods are pre-defined properties belonging to Python Class, and must be attached to the object of that Class.**\n",
    "\n",
    "    func(input)\n",
    "    input.method()\n",
    "    \n",
    "## Built-in Functions\n",
    "\n",
    "**You have already used many built-in functions, e.g. `print()` or `input()`.**"
   ]
  },
  {
   "cell_type": "code",
   "execution_count": 51,
   "id": "d040aa1d",
   "metadata": {},
   "outputs": [
    {
     "name": "stdout",
     "output_type": "stream",
     "text": [
      "Please enter three numbers separated by comma: 10,11,10\n",
      "11\n"
     ]
    }
   ],
   "source": [
    "# Returns string\n",
    "input_nums = input(\"Please enter three numbers separated by comma: \")\n",
    "\n",
    "# Split string on each comma\n",
    "string_nums = input_nums.split(\",\")\n",
    "\n",
    "# Convert string numbers to integers\n",
    "int_nums = []\n",
    "\n",
    "for num in string_nums:\n",
    "    int_nums.append(int(num))\n",
    "    \n",
    "# Perform calculation (a + b - c)\n",
    "answer = (int_nums[0] + int_nums[1]) - int_nums[2]\n",
    "\n",
    "print(answer)"
   ]
  },
  {
   "cell_type": "code",
   "execution_count": null,
   "id": "e5a90a24",
   "metadata": {},
   "outputs": [],
   "source": []
  },
  {
   "cell_type": "code",
   "execution_count": null,
   "id": "07637d07",
   "metadata": {},
   "outputs": [],
   "source": []
  },
  {
   "cell_type": "code",
   "execution_count": null,
   "id": "051a2661",
   "metadata": {},
   "outputs": [],
   "source": []
  },
  {
   "cell_type": "code",
   "execution_count": null,
   "id": "fb747238",
   "metadata": {},
   "outputs": [],
   "source": []
  },
  {
   "cell_type": "code",
   "execution_count": null,
   "id": "c80b07d0",
   "metadata": {},
   "outputs": [],
   "source": []
  },
  {
   "cell_type": "code",
   "execution_count": null,
   "id": "be346a22",
   "metadata": {},
   "outputs": [],
   "source": []
  },
  {
   "cell_type": "markdown",
   "id": "f6b70f4e",
   "metadata": {},
   "source": [
    "## String methods\n",
    "\n",
    "**The most common string methods are `join` and `split`.**"
   ]
  },
  {
   "cell_type": "code",
   "execution_count": 4,
   "id": "45f7a521",
   "metadata": {},
   "outputs": [],
   "source": [
    "flowers = [\"Daffodil\", \"Evening Primrose\", \"Hydrangea\", \"Iris\", \"Lavender\", \"Sunflower\", \"Tiger Lily\"]"
   ]
  },
  {
   "cell_type": "code",
   "execution_count": 5,
   "id": "9f835b40",
   "metadata": {},
   "outputs": [
    {
     "name": "stdout",
     "output_type": "stream",
     "text": [
      "Daffodil | Evening Primrose | Hydrangea | Iris | Lavender | Sunflower | Tiger Lily\n"
     ]
    }
   ],
   "source": [
    "separator = \" | \"\n",
    "\n",
    "output = separator.join(flowers)\n",
    "\n",
    "print(output)"
   ]
  },
  {
   "cell_type": "code",
   "execution_count": 6,
   "id": "fdb743eb",
   "metadata": {},
   "outputs": [
    {
     "name": "stdout",
     "output_type": "stream",
     "text": [
      "['The', 'quick', 'brown', 'fox', 'jumps', 'over', 'the', 'lazy', 'dog']\n"
     ]
    }
   ],
   "source": [
    "pangram = \"The quick brown fox jumps over the lazy dog\"\n",
    "\n",
    "words = pangram.split()\n",
    "\n",
    "print(words)"
   ]
  },
  {
   "cell_type": "code",
   "execution_count": 8,
   "id": "6d20fda3",
   "metadata": {},
   "outputs": [
    {
     "name": "stdout",
     "output_type": "stream",
     "text": [
      "['9', '202', '0.1', '50', '2', '10', '0.5', '90']\n"
     ]
    }
   ],
   "source": [
    "string_nums = \"9,202,0.1,50,2,10,0.5,90\"\n",
    "\n",
    "nums = string_nums.split(sep=\",\")\n",
    "\n",
    "print(nums)"
   ]
  },
  {
   "cell_type": "markdown",
   "id": "13cc3bef",
   "metadata": {},
   "source": [
    "**You can use join and split methods together:**"
   ]
  },
  {
   "cell_type": "code",
   "execution_count": 32,
   "id": "65e2e9fc",
   "metadata": {},
   "outputs": [
    {
     "name": "stdout",
     "output_type": "stream",
     "text": [
      "9 202 54 554 20 10 308 90\n",
      "['9', '202', '54', '554', '20', '10', '308', '90']\n"
     ]
    }
   ],
   "source": [
    "numbers = \"9,202,54,554,20,10,308,90\"\n",
    "\n",
    "seps = \",\"\n",
    "\n",
    "# Joins all characters in string (inc whitespace) if not a comma\n",
    "joined = \"\".join(char if char not in seps else \" \" for char in numbers)\n",
    "\n",
    "print(joined)\n",
    "\n",
    "# Splits string on each whitespace\n",
    "values = \"\".join(char if char not in seps else \" \" for char in numbers).split()\n",
    "\n",
    "print(values)"
   ]
  },
  {
   "cell_type": "markdown",
   "id": "1d0ed9e3",
   "metadata": {},
   "source": [
    "**Now you can easily convert those strings to integer datatypes using list comprehension, `for` loops or converting with built-in mapping function:**"
   ]
  },
  {
   "cell_type": "code",
   "execution_count": 28,
   "id": "5e7ba9f1",
   "metadata": {},
   "outputs": [
    {
     "data": {
      "text/plain": [
       "[9, 202, 54, 554, 20, 10, 308, 90]"
      ]
     },
     "execution_count": 28,
     "metadata": {},
     "output_type": "execute_result"
    }
   ],
   "source": [
    "# Replace values in place\n",
    "\n",
    "for index in range(len(values)):\n",
    "    values[index] = int(values[index])\n",
    "    \n",
    "values"
   ]
  },
  {
   "cell_type": "code",
   "execution_count": 29,
   "id": "410da620",
   "metadata": {},
   "outputs": [
    {
     "data": {
      "text/plain": [
       "int"
      ]
     },
     "execution_count": 29,
     "metadata": {},
     "output_type": "execute_result"
    }
   ],
   "source": [
    "type(values[0])"
   ]
  },
  {
   "cell_type": "code",
   "execution_count": 33,
   "id": "8cb2329f",
   "metadata": {},
   "outputs": [],
   "source": [
    "# Create new list and append integer items\n",
    "\n",
    "num_values = []\n",
    "\n",
    "for value in values:\n",
    "    num_values.append(int(value))"
   ]
  },
  {
   "cell_type": "code",
   "execution_count": 34,
   "id": "6a884f41",
   "metadata": {},
   "outputs": [
    {
     "name": "stdout",
     "output_type": "stream",
     "text": [
      "[9, 202, 54, 554, 20, 10, 308, 90]\n"
     ]
    }
   ],
   "source": [
    "print(num_values)"
   ]
  },
  {
   "cell_type": "code",
   "execution_count": 30,
   "id": "8e3833ed",
   "metadata": {},
   "outputs": [],
   "source": [
    "# In Python 3, this is better\n",
    "\n",
    "values = list(map(int, values))"
   ]
  },
  {
   "cell_type": "code",
   "execution_count": 31,
   "id": "4884bfec",
   "metadata": {},
   "outputs": [
    {
     "data": {
      "text/plain": [
       "[9, 202, 54, 554, 20, 10, 308, 90]"
      ]
     },
     "execution_count": 31,
     "metadata": {},
     "output_type": "execute_result"
    }
   ],
   "source": [
    "values"
   ]
  },
  {
   "cell_type": "code",
   "execution_count": null,
   "id": "6ca41809",
   "metadata": {},
   "outputs": [],
   "source": []
  }
 ],
 "metadata": {
  "kernelspec": {
   "display_name": "Python 3 (ipykernel)",
   "language": "python",
   "name": "python3"
  },
  "language_info": {
   "codemirror_mode": {
    "name": "ipython",
    "version": 3
   },
   "file_extension": ".py",
   "mimetype": "text/x-python",
   "name": "python",
   "nbconvert_exporter": "python",
   "pygments_lexer": "ipython3",
   "version": "3.9.17"
  }
 },
 "nbformat": 4,
 "nbformat_minor": 5
}
