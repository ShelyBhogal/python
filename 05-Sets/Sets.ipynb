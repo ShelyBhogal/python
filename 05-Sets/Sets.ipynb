{
 "cells": [
  {
   "cell_type": "markdown",
   "id": "2a6712e1",
   "metadata": {},
   "source": [
    "# Sets\n",
    "\n",
    "**A set is a collection of unordered data, like dictionaries, and there is no way to retrieve a specific item by index position. Most importantly, its unique characteristic is that a set can only contain unique values, i.e. duplicates are removed. Sets are most commonly used to test for membership. The union of two or more sets means combining all unique elements.**\n",
    "\n",
    "**There are several ways to create a set - literally, using `set()` function on a list or tuple, and loop over iterable to create a set.**"
   ]
  },
  {
   "cell_type": "code",
   "execution_count": 1,
   "id": "187a754a",
   "metadata": {},
   "outputs": [
    {
     "name": "stdout",
     "output_type": "stream",
     "text": [
      "{'goat', 'sheep', 'hen', 'cow', 'horse'}\n"
     ]
    }
   ],
   "source": [
    "farm_animals = {'cow', 'sheep', 'hen', 'goat', 'horse'}\n",
    "\n",
    "print(farm_animals)"
   ]
  },
  {
   "cell_type": "code",
   "execution_count": 2,
   "id": "067d343c",
   "metadata": {},
   "outputs": [
    {
     "name": "stdout",
     "output_type": "stream",
     "text": [
      "goat\n",
      "sheep\n",
      "hen\n",
      "cow\n",
      "horse\n"
     ]
    }
   ],
   "source": [
    "# You can iterate over a set\n",
    "\n",
    "for animal in farm_animals:\n",
    "    print(animal)"
   ]
  },
  {
   "cell_type": "markdown",
   "id": "286bb2eb",
   "metadata": {},
   "source": [
    "**Python is capable of comparing items in sets to see if they are the same or not, even if the order of insertion is different, i.e. unordered data. Lists will only compare equal if they contain the same items, in the same order. This is an advantage of using sets over lists or tuples.**"
   ]
  },
  {
   "cell_type": "code",
   "execution_count": 3,
   "id": "c97b3760",
   "metadata": {},
   "outputs": [
    {
     "name": "stdout",
     "output_type": "stream",
     "text": [
      "The sets are equal\n"
     ]
    }
   ],
   "source": [
    "farm_animals_2 = {'sheep', 'goat', 'cow', 'horse', 'hen'}\n",
    "\n",
    "if farm_animals_2 == farm_animals:\n",
    "    print(\"The sets are equal\")\n",
    "else:\n",
    "    print(\"The sets are not equal\")"
   ]
  },
  {
   "cell_type": "markdown",
   "id": "ea8b6b96",
   "metadata": {},
   "source": [
    "## Advantage of using set\n",
    "\n",
    "**Sets can be useful in identifying bugs in your code.** "
   ]
  },
  {
   "cell_type": "code",
   "execution_count": 4,
   "id": "c4c51e3e",
   "metadata": {},
   "outputs": [
    {
     "name": "stdout",
     "output_type": "stream",
     "text": [
      "Choose from options below:\n",
      "1: Learn Python\n",
      "2: Clean the house\n",
      "3: Go swimming\n",
      "4: Eat lunch\n",
      "5: Go to sleep\n",
      "0: EXIT\n",
      "1\n",
      "You chose to learn python\n",
      "99\n",
      "Choose from options below:\n",
      "1: Learn Python\n",
      "2: Clean the house\n",
      "3: Go swimming\n",
      "4: Eat lunch\n",
      "5: Go to sleep\n",
      "0: EXIT\n",
      "3\n",
      "You chose to go swimming\n",
      "0\n"
     ]
    }
   ],
   "source": [
    "# Program crashes if you enter nothing, i.e. press ENTER without inserting any values\n",
    "\n",
    "activities = [\n",
    "    (1, \"Learn Python\"), \n",
    "    (2, \"Clean the house\"), \n",
    "    (3, \"Go swimming\"), \n",
    "    (4, \"Eat lunch\"), \n",
    "    (5, \"Go to sleep\"), \n",
    "    (0, \"EXIT\")\n",
    "]\n",
    "\n",
    "choice = 99\n",
    "\n",
    "while choice != 0:\n",
    "    # Use set for input options instead of list\n",
    "    if choice in {1, 2, 3, 4, 5}:\n",
    "        print(f\"You chose to {activities[choice - 1][1].casefold()}\")\n",
    "    else:\n",
    "        print(\"Choose from options below:\")\n",
    "        for i, activity in activities:\n",
    "            print(f\"{i}: {activity}\")\n",
    "        \n",
    "    choice = int(input())"
   ]
  },
  {
   "cell_type": "markdown",
   "id": "f31a85b7",
   "metadata": {},
   "source": [
    "**You could have used a list for the input options, but Python accesses items in a set much faster than in a list. This is because sets use hashes to store their items, like the keys in a dictionary, so it works much faster than a list when comparing or searching items in a sequence.** \n",
    "\n",
    "**Another useful tip is that you can use `set()` function to find the unique characters in a string, i.e. remove duplicate characters:**"
   ]
  },
  {
   "cell_type": "code",
   "execution_count": 5,
   "id": "f5d2afef",
   "metadata": {},
   "outputs": [
    {
     "data": {
      "text/plain": [
       "{'a', 'c', 'd', 'e', 'f', 'g', 'i', 'l', 'o', 'p', 'r', 's', 't', 'u', 'x'}"
      ]
     },
     "execution_count": 5,
     "metadata": {},
     "output_type": "execute_result"
    }
   ],
   "source": [
    "set(\"supercalifragilisticexpealidocious\")"
   ]
  },
  {
   "cell_type": "code",
   "execution_count": 6,
   "id": "c4ba88a4",
   "metadata": {},
   "outputs": [
    {
     "data": {
      "text/plain": [
       "{'0', '1', '2', '3', '4', '5', '8', '9'}"
      ]
     },
     "execution_count": 6,
     "metadata": {},
     "output_type": "execute_result"
    }
   ],
   "source": [
    "set(\"83442530985300123\")"
   ]
  },
  {
   "cell_type": "markdown",
   "id": "0aa49b1b",
   "metadata": {},
   "source": [
    "**Another handy trick is extracting the unique values from a set to convert to keys for a dictionary:**"
   ]
  },
  {
   "cell_type": "code",
   "execution_count": 7,
   "id": "50432631",
   "metadata": {},
   "outputs": [],
   "source": [
    "farm_animals = {'cow', 'sheep', 'hen', 'goat', 'horse'}\n",
    "\n",
    "farm_animals_data = dict.fromkeys(farm_animals)"
   ]
  },
  {
   "cell_type": "code",
   "execution_count": 8,
   "id": "ca3b8082",
   "metadata": {},
   "outputs": [
    {
     "name": "stdout",
     "output_type": "stream",
     "text": [
      "{'goat': None, 'sheep': None, 'hen': None, 'cow': None, 'horse': None}\n"
     ]
    }
   ],
   "source": [
    "# Note that values automatically set to None\n",
    "\n",
    "print(farm_animals_data)"
   ]
  },
  {
   "cell_type": "markdown",
   "id": "3ab73e6d",
   "metadata": {},
   "source": [
    "## Add items to an existing Set\n",
    "\n",
    "**It is easy to add items to an existing set with `add()` method, but NEVER attempt to initialize an empty set literally, like `set = {}` - Python gets confused between an empty set and empty dictionary. Use empty `set()` function instead.**"
   ]
  },
  {
   "cell_type": "code",
   "execution_count": 9,
   "id": "1b0f690c",
   "metadata": {},
   "outputs": [],
   "source": [
    "numbers = {1, 2, 3, 4}\n",
    "\n",
    "numbers.add(5)"
   ]
  },
  {
   "cell_type": "code",
   "execution_count": 10,
   "id": "670ebbb7",
   "metadata": {},
   "outputs": [
    {
     "name": "stdout",
     "output_type": "stream",
     "text": [
      "{1, 2, 3, 4, 5}\n"
     ]
    }
   ],
   "source": [
    "print(numbers)"
   ]
  },
  {
   "cell_type": "code",
   "execution_count": 11,
   "id": "a955a750",
   "metadata": {},
   "outputs": [
    {
     "name": "stdout",
     "output_type": "stream",
     "text": [
      "Insert integer: 1\n",
      "Insert integer: 2\n",
      "Insert integer: 3\n",
      "Insert integer: 4\n"
     ]
    }
   ],
   "source": [
    "# Add numbers to empty set\n",
    "\n",
    "numbers = set()\n",
    "\n",
    "while len(numbers) < 4:\n",
    "    next_value = int(input(\"Insert integer: \"))\n",
    "    numbers.add(next_value)"
   ]
  },
  {
   "cell_type": "code",
   "execution_count": 12,
   "id": "7580f7ce",
   "metadata": {},
   "outputs": [
    {
     "name": "stdout",
     "output_type": "stream",
     "text": [
      "{1, 2, 3, 4}\n"
     ]
    }
   ],
   "source": [
    "# Note that set items are not sorted\n",
    "\n",
    "print(numbers)"
   ]
  },
  {
   "cell_type": "code",
   "execution_count": 13,
   "id": "39f564b5",
   "metadata": {},
   "outputs": [
    {
     "name": "stdout",
     "output_type": "stream",
     "text": [
      "[1, 2, 3, 4]\n"
     ]
    }
   ],
   "source": [
    "# You can use sorted() function that returns a list\n",
    "\n",
    "print(sorted(numbers))"
   ]
  },
  {
   "cell_type": "markdown",
   "id": "5800c9a9",
   "metadata": {},
   "source": [
    "## Delete items from a Set\n",
    "\n",
    "**You can add, update and delete items in a set.**\n",
    "\n",
    "**There are three ways to delete an item:**\n",
    "\n",
    "1. **`clear()` method deletes all the items in a set.**\n",
    "2. **`remove()` method deletes an individual item by its value, and will raise an exception if item does not exist.**\n",
    "3. **`discard()` method deletes an individual item by its value.**"
   ]
  },
  {
   "cell_type": "code",
   "execution_count": 14,
   "id": "ebfa076c",
   "metadata": {},
   "outputs": [
    {
     "name": "stdout",
     "output_type": "stream",
     "text": [
      "{0, 1, 2, 3, 4, 5, 6, 7, 8, 9, 10, 11, 12, 13, 14, 15, 16, 17, 18, 19, 20}\n"
     ]
    }
   ],
   "source": [
    "small_ints = set(range(21))\n",
    "\n",
    "# Integers appear printed sorted but don't be fooled!\n",
    "\n",
    "print(small_ints)"
   ]
  },
  {
   "cell_type": "code",
   "execution_count": 15,
   "id": "1ac773e9",
   "metadata": {},
   "outputs": [
    {
     "name": "stdout",
     "output_type": "stream",
     "text": [
      "set()\n"
     ]
    }
   ],
   "source": [
    "small_ints.clear()\n",
    "\n",
    "print(small_ints)"
   ]
  },
  {
   "cell_type": "code",
   "execution_count": 16,
   "id": "e70aa625",
   "metadata": {},
   "outputs": [
    {
     "name": "stdout",
     "output_type": "stream",
     "text": [
      "{0, 1, 2, 3, 4, 5, 6, 7, 8, 9, 11, 12, 13, 14, 15, 16, 17, 18, 19, 20}\n"
     ]
    }
   ],
   "source": [
    "small_ints = set(range(21))\n",
    "\n",
    "small_ints.discard(10)\n",
    "\n",
    "# Note that 10 has been deleted\n",
    "\n",
    "print(small_ints)"
   ]
  },
  {
   "cell_type": "code",
   "execution_count": 17,
   "id": "69c85067",
   "metadata": {},
   "outputs": [
    {
     "name": "stdout",
     "output_type": "stream",
     "text": [
      "{0, 1, 2, 3, 4, 5, 6, 7, 8, 9, 12, 13, 14, 15, 16, 17, 18, 19, 20}\n"
     ]
    }
   ],
   "source": [
    "small_ints.remove(11)\n",
    "\n",
    "# Note that 11 has been deleted\n",
    "\n",
    "print(small_ints)"
   ]
  },
  {
   "cell_type": "code",
   "execution_count": 18,
   "id": "92370a60",
   "metadata": {},
   "outputs": [],
   "source": [
    "# No error if value doesn't exist\n",
    "\n",
    "small_ints.discard(30)"
   ]
  },
  {
   "cell_type": "code",
   "execution_count": 19,
   "id": "0531ce2a",
   "metadata": {},
   "outputs": [
    {
     "ename": "KeyError",
     "evalue": "30",
     "output_type": "error",
     "traceback": [
      "\u001b[1;31m---------------------------------------------------------------------------\u001b[0m",
      "\u001b[1;31mKeyError\u001b[0m                                  Traceback (most recent call last)",
      "Cell \u001b[1;32mIn[19], line 1\u001b[0m\n\u001b[1;32m----> 1\u001b[0m \u001b[43msmall_ints\u001b[49m\u001b[38;5;241;43m.\u001b[39;49m\u001b[43mremove\u001b[49m\u001b[43m(\u001b[49m\u001b[38;5;241;43m30\u001b[39;49m\u001b[43m)\u001b[49m\n",
      "\u001b[1;31mKeyError\u001b[0m: 30"
     ]
    }
   ],
   "source": [
    "# Raise error if value doesn't exist\n",
    "\n",
    "small_ints.remove(30)"
   ]
  },
  {
   "cell_type": "code",
   "execution_count": 20,
   "id": "70422804",
   "metadata": {},
   "outputs": [
    {
     "name": "stdout",
     "output_type": "stream",
     "text": [
      "{0, 1, 2, 3, 4, 5, 6, 7, 8, 9, 12, 13, 14, 15, 16, 17, 18, 19, 20}\n"
     ]
    }
   ],
   "source": [
    "print(small_ints)"
   ]
  },
  {
   "cell_type": "markdown",
   "id": "cf27ac97",
   "metadata": {},
   "source": [
    "**When working with mixed collection datatypes, they can be looped over like any iterable or sequence.**"
   ]
  },
  {
   "cell_type": "code",
   "execution_count": 22,
   "id": "f85e6d1e",
   "metadata": {},
   "outputs": [],
   "source": [
    "# Dictionary\n",
    "travel_mode = {\n",
    "    \"1\": \"car\", \n",
    "    \"2\": \"plane\"\n",
    "}\n",
    "\n",
    "# Set items to pack\n",
    "items = {\n",
    "    \"can opener\", \n",
    "    \"fuel\", \n",
    "    \"jumper\", \n",
    "    \"knife\", \n",
    "    \"matches\", \n",
    "    \"razor blades\", \n",
    "    \"razor\", \n",
    "    \"scissors\", \n",
    "    \"shampoo\", \n",
    "    \"shaving cream\", \n",
    "    \"shirts (3)\", \n",
    "    \"shorts\", \n",
    "    \"sleeping bag(s)\", \n",
    "    \"soap\", \n",
    "    \"socks (3 pairs)\", \n",
    "    \"stove\", \n",
    "    \"tent\", \n",
    "    \"mug\", \n",
    "    \"toothbrush\", \n",
    "    \"toothpaste\", \n",
    "    \"towel\", \n",
    "    \"underwear (3 pairs)\", \n",
    "    \"water carrier\"\n",
    "}\n",
    "\n",
    "# Set items that cannot be carried on plane\n",
    "restricted_items = {\n",
    "    \"catapult\",\n",
    "    \"fuel\",\n",
    "    \"gun\",\n",
    "    \"knife\",\n",
    "    \"razor blades\",\n",
    "    \"scissors\",\n",
    "    \"shampoo\"\n",
    "}"
   ]
  },
  {
   "cell_type": "markdown",
   "id": "74fd37ef",
   "metadata": {},
   "source": [
    "**Remove restricted items from the packing set if travelling by plane, i.e. option \"2\" in dictionary (you can take everything if travelling by car). You don't care whether the packing list contains restricted items, as long as they are removed, so use `discard()` method. If the item is not in the packing list, an error is raised with `remove()` method. Note that you can also use the difference between the sets.**"
   ]
  },
  {
   "cell_type": "code",
   "execution_count": 23,
   "id": "1c3f83ae",
   "metadata": {},
   "outputs": [
    {
     "name": "stdout",
     "output_type": "stream",
     "text": [
      "Please choose your mode of travel:\n",
      "1: car\n",
      "2: plane\n",
      "> 2\n",
      "You need to pack:\n",
      "can opener\n",
      "jumper\n",
      "matches\n",
      "mug\n",
      "razor\n",
      "shaving cream\n",
      "shirts (3)\n",
      "shorts\n",
      "sleeping bag(s)\n",
      "soap\n",
      "socks (3 pairs)\n",
      "stove\n",
      "tent\n",
      "toothbrush\n",
      "toothpaste\n",
      "towel\n",
      "underwear (3 pairs)\n",
      "water carrier\n"
     ]
    }
   ],
   "source": [
    "print(\"Please choose your mode of travel:\")\n",
    "for key, value in travel_mode.items():\n",
    "    print(f\"{key}: {value}\")\n",
    "\n",
    "mode = \"-\"\n",
    "\n",
    "while mode not in travel_mode:\n",
    "    mode = input(\"> \")\n",
    "    \n",
    "\n",
    "if mode == \"2\":\n",
    "    # Travel by plane, remove restricted items\n",
    "    for item in restricted_items:\n",
    "        items.discard(item)\n",
    "\n",
    "# Print packing list\n",
    "print(\"You need to pack:\")\n",
    "\n",
    "for item in sorted(items):\n",
    "    print(item)"
   ]
  },
  {
   "cell_type": "markdown",
   "id": "82d6260d",
   "metadata": {},
   "source": [
    "**NOTE: When using `remove()` method, you need to know that the item to be removed will always be present.**\n",
    "\n",
    "**Lets say you have data of medication details for a patient, e.g. 'corticosteroid', 'warfarin', 'aldesterone' etc. There cannot be duplicate entries of each medication, otherwise you would be overdosing the patient! So it would make sense to store the patient prescriptions in sets. Medicines are constantly evolving in science, so if you need to change 'warfarin' to 'edoxaban', the patients need to have their details updated. Therefore, the code needs to check whether any patient is taking 'warfarin' in the first place and then discard it. In this case, you would use `discard()` method. If *every* patient in the list is supposed be taking 'warfarin', then use `remove()` method to crash program in case it is not part of a set.** "
   ]
  },
  {
   "cell_type": "code",
   "execution_count": 24,
   "id": "fc730fa8",
   "metadata": {},
   "outputs": [],
   "source": [
    "# Tuples of drugs for medication\n",
    "\n",
    "amlodipine = (\"amlodipine\", \"Blood pressure\")\n",
    "buspirone = (\"buspirone\", \"Anxiety disorders\")\n",
    "carbimazole = (\"carbimazole\", \"Antithyroid agent\")\n",
    "citalopram = (\"citalopram\", \"Antidepressant\")\n",
    "edoxaban = (\"edoxaban\", \"anti-coagulant\")\n",
    "erythromycin = (\"erythromycin\", \"Antibiotic\")\n",
    "lusinopril = (\"lusinopril\", \"High blood pressure\")\n",
    "metformin = (\"metformin\", \"Type 2 diabetes\")\n",
    "methotrexate = (\"methotrexate\", \"Rheumatoid arthritis\")\n",
    "paracetamol = (\"paracetamol\", \"Painkiller\")\n",
    "propranol = (\"propranol\", \"Beta blocker\")\n",
    "simvastatin = (\"simvastatin\", \"High cholesterol\")\n",
    "warfarin = (\"warfarin\", \"anti-coagulant\")\n",
    "\n",
    "\n",
    "# Patient prescriptions - dictionary, where values are sets containing tuples above\n",
    "\n",
    "patients = {\n",
    "    \"Anne\": {methotrexate, paracetamol},\n",
    "    \"Bob\": {carbimazole, erythromycin, methotrexate, paracetamol},\n",
    "    \"Charley\": {buspirone, lusinopril, metformin},\n",
    "    \"Denise\": {amlodipine, lusinopril, metformin, warfarin},\n",
    "    \"Eddie\": {amlodipine, propranol, simvastatin, warfarin},\n",
    "    \"Frank\": {buspirone, citalopram, propranol, warfarin},\n",
    "    \"Georgia\": {carbimazole, edoxaban, warfarin},\n",
    "    \"Helmut\": {erythromycin, paracetamol, propranol, simvastatin},\n",
    "    \"Izabella\": {amlodipine, citalopram, simvastatin, warfarin},\n",
    "    \"John\": {simvastatin},\n",
    "    \"Kenny\": {amlodipine, citalopram, metformin},\n",
    "}"
   ]
  },
  {
   "cell_type": "code",
   "execution_count": 25,
   "id": "f8aec000",
   "metadata": {},
   "outputs": [
    {
     "name": "stdout",
     "output_type": "stream",
     "text": [
      "Denise {('edoxaban', 'anti-coagulant'), ('lusinopril', 'High blood pressure'), ('amlodipine', 'Blood pressure'), ('metformin', 'Type 2 diabetes')}\n",
      "\n",
      "Eddie {('simvastatin', 'High cholesterol'), ('edoxaban', 'anti-coagulant'), ('propranol', 'Beta blocker'), ('amlodipine', 'Blood pressure')}\n",
      "\n",
      "Frank {('buspirone', 'Anxiety disorders'), ('edoxaban', 'anti-coagulant'), ('citalopram', 'Antidepressant'), ('propranol', 'Beta blocker')}\n",
      "\n",
      "Georgia {('edoxaban', 'anti-coagulant'), ('carbimazole', 'Antithyroid agent')}\n",
      "\n",
      "Izabella {('simvastatin', 'High cholesterol'), ('edoxaban', 'anti-coagulant'), ('citalopram', 'Antidepressant'), ('amlodipine', 'Blood pressure')}\n",
      "\n"
     ]
    }
   ],
   "source": [
    "# Select patients that take warfarin\n",
    "trial_patients = [\"Denise\", \"Eddie\", \"Frank\", \"Georgia\", \"Izabella\"]\n",
    "\n",
    "# Iterate over dictionary and replace warfarin with edoxaban\n",
    "for patient in trial_patients:\n",
    "    prescription = patients[patient]\n",
    "    prescription.remove(warfarin)\n",
    "    prescription.add(edoxaban)\n",
    "    print(patient, prescription)\n",
    "    print()"
   ]
  },
  {
   "cell_type": "code",
   "execution_count": 31,
   "id": "6c10f95c",
   "metadata": {},
   "outputs": [
    {
     "name": "stdout",
     "output_type": "stream",
     "text": [
      "Anne\n",
      "{('methotrexate', 'Rheumatoid arthritis'), ('paracetamol', 'Painkiller')}\n",
      "Bob\n",
      "{('methotrexate', 'Rheumatoid arthritis'), ('paracetamol', 'Painkiller'), ('erythromycin', 'Antibiotic'), ('carbimazole', 'Antithyroid agent')}\n",
      "Charley\n",
      "{('metformin', 'Type 2 diabetes'), ('lusinopril', 'High blood pressure'), ('buspirone', 'Anxiety disorders')}\n",
      "Denise\n",
      "{('edoxaban', 'anti-coagulant'), ('lusinopril', 'High blood pressure'), ('amlodipine', 'Blood pressure'), ('metformin', 'Type 2 diabetes')}\n",
      "Eddie\n",
      "{('simvastatin', 'High cholesterol'), ('edoxaban', 'anti-coagulant'), ('propranol', 'Beta blocker'), ('amlodipine', 'Blood pressure')}\n",
      "Frank\n",
      "{('buspirone', 'Anxiety disorders'), ('edoxaban', 'anti-coagulant'), ('citalopram', 'Antidepressant'), ('propranol', 'Beta blocker')}\n",
      "Georgia\n",
      "{('edoxaban', 'anti-coagulant'), ('carbimazole', 'Antithyroid agent')}\n",
      "Helmut\n",
      "{('propranol', 'Beta blocker'), ('paracetamol', 'Painkiller'), ('erythromycin', 'Antibiotic'), ('simvastatin', 'High cholesterol')}\n",
      "Izabella\n",
      "{('simvastatin', 'High cholesterol'), ('edoxaban', 'anti-coagulant'), ('citalopram', 'Antidepressant'), ('amlodipine', 'Blood pressure')}\n",
      "John\n",
      "{('simvastatin', 'High cholesterol')}\n",
      "Kenny\n",
      "{('amlodipine', 'Blood pressure'), ('citalopram', 'Antidepressant'), ('metformin', 'Type 2 diabetes')}\n"
     ]
    }
   ],
   "source": [
    "for key, value in patients.items():\n",
    "    print(key, value, sep='\\n')"
   ]
  },
  {
   "cell_type": "markdown",
   "id": "14540d4e",
   "metadata": {},
   "source": [
    "**If you had added a patient who didn't take warfarin? An error would be raised because you used `remove()` method. This is good because you don't want to give edoxaban to everyone...just those who take warfarin. You could have used `if` statement to check whether warfarin is in the prescription in the first place, but it increases computation time greatly.**\n",
    "\n",
    "### You REPLACE an item by removing the original item and adding a new one.\n",
    "\n",
    "**You can use the `pop()` method with sets, but you cannot pass a value argument otherwise an error is raised. Instead, it removes and returns an item randomly.**"
   ]
  },
  {
   "cell_type": "code",
   "execution_count": 32,
   "id": "3dba0beb",
   "metadata": {},
   "outputs": [
    {
     "name": "stdout",
     "output_type": "stream",
     "text": [
      "Kenny\n",
      "Georgia\n",
      "Denise\n",
      "Eddie\n",
      "Frank\n"
     ]
    }
   ],
   "source": [
    "trial_patients = {\"Denise\", \"Eddie\", \"Frank\", \"Georgia\", \"Kenny\"}\n",
    "\n",
    "# As long as set is not empty\n",
    "while trial_patients:\n",
    "    patient = trial_patients.pop()\n",
    "    print(patient)"
   ]
  },
  {
   "cell_type": "code",
   "execution_count": 33,
   "id": "b03d60eb",
   "metadata": {},
   "outputs": [
    {
     "name": "stdout",
     "output_type": "stream",
     "text": [
      "set()\n"
     ]
    }
   ],
   "source": [
    "# Remember that pop() removes the items also\n",
    "\n",
    "print(trial_patients)"
   ]
  },
  {
   "cell_type": "markdown",
   "id": "18c15105",
   "metadata": {},
   "source": [
    "## Union of Sets\n",
    "\n",
    "**Create a new set containing all the unique items from each set, using `union()` method or `|` operator.**"
   ]
  },
  {
   "cell_type": "code",
   "execution_count": 1,
   "id": "4a3c3b4f",
   "metadata": {},
   "outputs": [],
   "source": [
    "farm_animals = {'cow', 'sheep', 'hen', 'goat', 'horse'}\n",
    "\n",
    "wild_animals = {\"lion\", \"elephant\", \"tiger\", \"goat\", \"panther\", \"horse\"}"
   ]
  },
  {
   "cell_type": "code",
   "execution_count": 2,
   "id": "ff36c065",
   "metadata": {},
   "outputs": [
    {
     "name": "stdout",
     "output_type": "stream",
     "text": [
      "{'hen', 'lion', 'panther', 'elephant', 'sheep', 'tiger', 'horse', 'goat', 'cow'}\n"
     ]
    }
   ],
   "source": [
    "# Use union() method\n",
    "\n",
    "all_animals = farm_animals.union(wild_animals)\n",
    "\n",
    "print(all_animals)"
   ]
  },
  {
   "cell_type": "code",
   "execution_count": 17,
   "id": "ad992c73",
   "metadata": {},
   "outputs": [
    {
     "name": "stdout",
     "output_type": "stream",
     "text": [
      "hen lion panther elephant sheep tiger horse goat cow\n"
     ]
    }
   ],
   "source": [
    "# Use | operator, and unpacking * operator when printing output\n",
    "\n",
    "all_animals_2 = farm_animals | wild_animals\n",
    "\n",
    "print(*all_animals_2)"
   ]
  },
  {
   "cell_type": "code",
   "execution_count": 4,
   "id": "dfde2942",
   "metadata": {},
   "outputs": [
    {
     "data": {
      "text/plain": [
       "9"
      ]
     },
     "execution_count": 4,
     "metadata": {},
     "output_type": "execute_result"
    }
   ],
   "source": [
    "len(all_animals_2)"
   ]
  },
  {
   "cell_type": "markdown",
   "id": "d66553cd",
   "metadata": {},
   "source": [
    "**Neither union method is better or worse, it is up to your coding preference. Both methods output elements in alphabetical order. There are many use-cases for the union of sets, e.g. you need to collect all the unique data to understand the scope of something.**\n",
    "\n",
    "**Using the tuples of drugs in the section above, you have a separate list of sets below that contain drugs with adverse reactions when paired together. Create a union of all the sets in the list.**"
   ]
  },
  {
   "cell_type": "code",
   "execution_count": 7,
   "id": "ccfbe8bb",
   "metadata": {},
   "outputs": [],
   "source": [
    "# Drugs that shouldn't be taken together (list of sets, i.e. subsets)\n",
    "\n",
    "adverse_interactions = [\n",
    "    {metformin, amlodipine},\n",
    "    {simvastatin, erythromycin},\n",
    "    {citalopram, buspirone},\n",
    "    {warfarin, citalopram},\n",
    "    {warfarin, edoxaban},\n",
    "    {warfarin, erythromycin},\n",
    "    {warfarin, amlodipine}\n",
    "]"
   ]
  },
  {
   "cell_type": "markdown",
   "id": "b5faaff3",
   "metadata": {},
   "source": [
    "**You can also use the `update()` method with 'unpacking' operator (`*`) to unite multiple sets by modifying an empty set, and create a new set. Really, the method should be called 'union_update' since it only applies to unions of sets...**"
   ]
  },
  {
   "cell_type": "code",
   "execution_count": 8,
   "id": "b615a1e9",
   "metadata": {},
   "outputs": [
    {
     "name": "stdout",
     "output_type": "stream",
     "text": [
      "[('amlodipine', 'Blood pressure'), ('buspirone', 'Anxiety disorders'), ('citalopram', 'Antidepressant'), ('edoxaban', 'anti-coagulant'), ('erythromycin', 'Antibiotic'), ('metformin', 'Type 2 diabetes'), ('simvastatin', 'High cholesterol'), ('warfarin', 'anti-coagulant')]\n"
     ]
    }
   ],
   "source": [
    "meds_to_watch = set()\n",
    "\n",
    "for interaction in adverse_interactions:\n",
    "    #meds_to_watch = meds_to_watch | interaction ---> USING MATH OPERATOR\n",
    "    #meds_to_watch = meds_to_watch.union(interaction) ------> USING UNION METHOD\n",
    "    meds_to_watch.update(interaction)\n",
    "    \n",
    "# Print unique elements in list format\n",
    "print(sorted(meds_to_watch))"
   ]
  },
  {
   "cell_type": "markdown",
   "id": "e7f8f2a5",
   "metadata": {},
   "source": [
    "**The three lines below do the same thing as the For loop above, using the 'unpacking' operator `*`:**"
   ]
  },
  {
   "cell_type": "code",
   "execution_count": 15,
   "id": "8093f47b",
   "metadata": {},
   "outputs": [
    {
     "name": "stdout",
     "output_type": "stream",
     "text": [
      "('amlodipine', 'Blood pressure') ('buspirone', 'Anxiety disorders') ('citalopram', 'Antidepressant') ('edoxaban', 'anti-coagulant') ('erythromycin', 'Antibiotic') ('metformin', 'Type 2 diabetes') ('simvastatin', 'High cholesterol') ('warfarin', 'anti-coagulant')\n"
     ]
    }
   ],
   "source": [
    "meds_to_watch = set()\n",
    "meds_to_watch.update(*adverse_interactions)\n",
    "\n",
    "# Print unique elements 'unpacked'\n",
    "print(*sorted(meds_to_watch))"
   ]
  },
  {
   "cell_type": "code",
   "execution_count": 12,
   "id": "d1b26f5f",
   "metadata": {},
   "outputs": [
    {
     "name": "stdout",
     "output_type": "stream",
     "text": [
      "('amlodipine', 'Blood pressure')\n",
      "('buspirone', 'Anxiety disorders')\n",
      "('citalopram', 'Antidepressant')\n",
      "('edoxaban', 'anti-coagulant')\n",
      "('erythromycin', 'Antibiotic')\n",
      "('metformin', 'Type 2 diabetes')\n",
      "('simvastatin', 'High cholesterol')\n",
      "('warfarin', 'anti-coagulant')\n"
     ]
    }
   ],
   "source": [
    "print(*sorted(meds_to_watch), sep='\\n')"
   ]
  },
  {
   "cell_type": "markdown",
   "id": "d1ba05f6",
   "metadata": {},
   "source": [
    "**EXERCISES - Experiment with more than two sets**"
   ]
  },
  {
   "cell_type": "code",
   "execution_count": 18,
   "id": "b8238cb5",
   "metadata": {},
   "outputs": [],
   "source": [
    "scorpions = {\"emperor\", \"red claw\", \"arizona\", \"forest\", \"fat tail\"}\n",
    "snakes = {\"python\", \"cobra\", \"viper\", \"anaconda\", \"mamba\"}\n",
    "spiders = {\"tarantula\", \"black widow\", \"wolf spider\", \"crab spider\"}\n",
    "vespas = {\"yellowjacket\", \"hornet\", \"paper wasp\"}"
   ]
  },
  {
   "cell_type": "code",
   "execution_count": 20,
   "id": "c21f830a",
   "metadata": {},
   "outputs": [
    {
     "name": "stdout",
     "output_type": "stream",
     "text": [
      "['anaconda', 'arizona', 'black widow', 'cobra', 'crab spider', 'emperor', 'fat tail', 'forest', 'hornet', 'mamba', 'paper wasp', 'python', 'red claw', 'tarantula', 'viper', 'wolf spider', 'yellowjacket']\n"
     ]
    }
   ],
   "source": [
    "creatures = scorpions.union(snakes, spiders, vespas)\n",
    "\n",
    "print(sorted(creatures))"
   ]
  },
  {
   "cell_type": "code",
   "execution_count": 22,
   "id": "758a595e",
   "metadata": {},
   "outputs": [
    {
     "name": "stdout",
     "output_type": "stream",
     "text": [
      "CREATURES THAT BITE! \n",
      "\n",
      "{'wolf spider', 'anaconda', 'mamba', 'python', 'black widow', 'crab spider', 'cobra', 'viper', 'tarantula'}\n",
      "\n",
      "\n",
      "CREATURES THAT STING! \n",
      "\n",
      "{'yellowjacket', 'hornet', 'emperor', 'arizona', 'fat tail', 'paper wasp', 'forest', 'red claw'}\n"
     ]
    }
   ],
   "source": [
    "biting_animals = snakes.union(spiders)\n",
    "sting_animals = scorpions.union(vespas)\n",
    "\n",
    "print(\"CREATURES THAT BITE! \\n\")\n",
    "print(biting_animals)\n",
    "print(\"\\n\")\n",
    "print(\"CREATURES THAT STING! \\n\")\n",
    "print(sting_animals)"
   ]
  },
  {
   "cell_type": "code",
   "execution_count": 25,
   "id": "c09a54db",
   "metadata": {},
   "outputs": [
    {
     "name": "stdout",
     "output_type": "stream",
     "text": [
      "ARACHNIDS:\n",
      "arizona\n",
      "black widow\n",
      "crab spider\n",
      "emperor\n",
      "fat tail\n",
      "forest\n",
      "red claw\n",
      "tarantula\n",
      "wolf spider\n"
     ]
    }
   ],
   "source": [
    "arachnids = scorpions.union(spiders)\n",
    "\n",
    "print(\"ARACHNIDS:\")\n",
    "print(*sorted(arachnids), sep='\\n')"
   ]
  },
  {
   "cell_type": "markdown",
   "id": "8856a2c0",
   "metadata": {},
   "source": [
    "## Intersection of Sets\n",
    "\n",
    "**Simply put, intersection is the collection of unique elements that occur in all sets, i.e. in both sets.**"
   ]
  },
  {
   "cell_type": "code",
   "execution_count": 26,
   "id": "c45d9637",
   "metadata": {},
   "outputs": [
    {
     "name": "stdout",
     "output_type": "stream",
     "text": [
      "Both farm and wild animals: {'horse', 'goat'}\n"
     ]
    }
   ],
   "source": [
    "farm_and_wild = farm_animals.intersection(wild_animals)\n",
    "\n",
    "print(\"Both farm and wild animals:\", farm_and_wild)"
   ]
  },
  {
   "cell_type": "code",
   "execution_count": 16,
   "id": "d465d43e",
   "metadata": {},
   "outputs": [
    {
     "name": "stdout",
     "output_type": "stream",
     "text": [
      "{'horse', 'goat'}\n"
     ]
    }
   ],
   "source": [
    "# Using & operator\n",
    "\n",
    "farm_and_wild = farm_animals & wild_animals\n",
    "\n",
    "print(farm_and_wild)"
   ]
  },
  {
   "cell_type": "markdown",
   "id": "9e43fae2",
   "metadata": {},
   "source": [
    "**You can loop over sets like iterables to create a new set, or use the `range()` function to create a set of unique integers, e.g. all even numbers between 0 and 50.**"
   ]
  },
  {
   "cell_type": "code",
   "execution_count": 28,
   "id": "43bed1a2",
   "metadata": {},
   "outputs": [
    {
     "name": "stdout",
     "output_type": "stream",
     "text": [
      "{0, 2, 4, 6, 8, 10, 12, 14, 16, 18, 20, 22, 24, 26, 28, 30, 32, 34, 36, 38, 40, 42, 44, 46, 48}\n",
      "{1, 3, 5, 7, 9, 11, 13, 15, 17, 19, 21, 23, 25, 27, 29, 31, 33, 35, 37, 39, 41, 43, 45, 47, 49}\n"
     ]
    }
   ],
   "source": [
    "evens = set(range(0, 50, 2))\n",
    "print(evens)\n",
    "\n",
    "odds = set(range(1, 50, 2))\n",
    "print(odds)"
   ]
  },
  {
   "cell_type": "markdown",
   "id": "0956536b",
   "metadata": {},
   "source": [
    "**Using the sets of even and odd numbers, extract the even and odd PRIME and SQUARE numbers into two new sets. The functions below generate the prime or square numbers between zero and a specified positive integer, to then return as an iterable.**"
   ]
  },
  {
   "cell_type": "code",
   "execution_count": 29,
   "id": "89a5bb36",
   "metadata": {},
   "outputs": [],
   "source": [
    "from typing import Generator\n",
    "\n",
    "\n",
    "def squares_generator(n: int) -> Generator[int, None, None]:\n",
    "    \"\"\"Generator to return perfect squares less than `n`.\"\"\"\n",
    "    if n > 0:\n",
    "        i = next_square = 1\n",
    "        while next_square < n:\n",
    "            yield next_square\n",
    "            i += 1\n",
    "            next_square = i * i\n",
    "\n",
    "\n",
    "\n",
    "\n",
    "def primes_generator(n: int) -> Generator[int, None, None]:\n",
    "    \"\"\"\n",
    "    Very naive implementation of the Sieve of Eratosthenes to generate prime numbers.\n",
    "\n",
    "    This is *not* suitable for production use.\n",
    "    For an optimised algorithm, check out the work by Tim Peters et al @ActiveState, and Will Ness.\n",
    "\n",
    "    :param n: The number up to which generate primes.\n",
    "    :return: A generator of all positive prime numbers less than or equal to `n`.\n",
    "    \"\"\"\n",
    "    if n >= 2:\n",
    "        # Start with set of positive, odd integers from 3 to `n` (inclusive)\n",
    "        integers = set(range(3, n + 1, 2))\n",
    "        # No point in removing multiples of 2 from odd numbers\n",
    "        yield 2\n",
    "        next_prime = 3\n",
    "        while integers:\n",
    "            yield next_prime\n",
    "            # Remove all multiples of `next_prime`\n",
    "            integers.difference_update(range(next_prime, n + 1, 2 * next_prime))\n",
    "            next_prime = min(integers, default=None)  # None if set is empty\n",
    "\n",
    "\n"
   ]
  },
  {
   "cell_type": "markdown",
   "id": "ed4aa4d0",
   "metadata": {},
   "source": [
    "**The second function above was done by Tim Peters *et al* for the prime numbers generator, and can be found at the following link:**\n",
    "    \n",
    "https://stackoverflow.com/questions/2211990/how-to-implement-an-efficient-infinite-generator-of-prime-numbers-in-python/19391111#19391111"
   ]
  },
  {
   "cell_type": "code",
   "execution_count": 32,
   "id": "0bf620d3",
   "metadata": {},
   "outputs": [
    {
     "name": "stdout",
     "output_type": "stream",
     "text": [
      "[1, 4, 9, 16, 25, 36, 49, 64, 81]\n"
     ]
    }
   ],
   "source": [
    "# Set of square numbers under 100\n",
    "\n",
    "squares = set(squares_generator(100))\n",
    "\n",
    "print(sorted(squares))"
   ]
  },
  {
   "cell_type": "code",
   "execution_count": 40,
   "id": "2ba7d4c4",
   "metadata": {},
   "outputs": [
    {
     "name": "stdout",
     "output_type": "stream",
     "text": [
      "{2, 3, 5, 7, 11, 13, 17, 19, 23, 29, 31, 37, 41, 43, 47, 53, 59, 61, 67, 71, 73, 79, 83, 89, 97}\n"
     ]
    }
   ],
   "source": [
    "# Set of prime numbers under 100\n",
    "\n",
    "primes = set(primes_generator(100))\n",
    "\n",
    "print(primes)"
   ]
  },
  {
   "cell_type": "code",
   "execution_count": 34,
   "id": "2215041c",
   "metadata": {},
   "outputs": [
    {
     "name": "stdout",
     "output_type": "stream",
     "text": [
      "{1, 25, 9, 49}\n"
     ]
    }
   ],
   "source": [
    "# Intersection of odd numbers and square numbers = odd square numbers\n",
    "\n",
    "print(odds.intersection(squares))"
   ]
  },
  {
   "cell_type": "code",
   "execution_count": 35,
   "id": "44f29da6",
   "metadata": {},
   "outputs": [
    {
     "name": "stdout",
     "output_type": "stream",
     "text": [
      "{3, 5, 37, 7, 41, 11, 43, 13, 47, 17, 19, 23, 29, 31}\n"
     ]
    }
   ],
   "source": [
    "# Intersection of odd numbers and prime number = odd prime numbers\n",
    "\n",
    "print(odds.intersection(primes))"
   ]
  },
  {
   "cell_type": "code",
   "execution_count": 36,
   "id": "f5bb40f4",
   "metadata": {},
   "outputs": [
    {
     "name": "stdout",
     "output_type": "stream",
     "text": [
      "{16, 4, 36}\n"
     ]
    }
   ],
   "source": [
    "# Intersection of even numbers and square numbers = even square numbers\n",
    "\n",
    "print(evens.intersection(squares))"
   ]
  },
  {
   "cell_type": "code",
   "execution_count": 37,
   "id": "e1e72952",
   "metadata": {},
   "outputs": [
    {
     "name": "stdout",
     "output_type": "stream",
     "text": [
      "{2}\n"
     ]
    }
   ],
   "source": [
    "# Intersection of even numbers and prime number = even prime numbers\n",
    "\n",
    "print(evens.intersection(primes))"
   ]
  },
  {
   "cell_type": "markdown",
   "id": "3e55a4ad",
   "metadata": {},
   "source": [
    "**There is only one even prime under 50! The number 2, which makes sense since all other even numbers are divisible by 2...**\n",
    "\n",
    "**NOTE: `if __name__ == '__main__':` block executes only if the script is the main program. It enables you to structure the code in a way that separates re-usable components, like the generator functions, from any executable scripts.**"
   ]
  },
  {
   "cell_type": "code",
   "execution_count": 39,
   "id": "d311bad0",
   "metadata": {},
   "outputs": [
    {
     "name": "stdout",
     "output_type": "stream",
     "text": [
      "Squares less than 1000:\n",
      "[1, 4, 9, 16, 25, 36, 49, 64, 81, 100, 121, 144, 169, 196, 225, 256, 289, 324, 361, 400, 441, 484, 529, 576, 625, 676, 729, 784, 841, 900, 961]\n",
      "Generated 31 squares\n",
      "\n",
      "\n",
      "Primes up to 1000:\n",
      "[2, 3, 5, 7, 11, 13, 17, 19, 23, 29, 31, 37, 41, 43, 47, 53, 59, 61, 67, 71, 73, 79, 83, 89, 97, 101, 103, 107, 109, 113, 127, 131, 137, 139, 149, 151, 157, 163, 167, 173, 179, 181, 191, 193, 197, 199, 211, 223, 227, 229, 233, 239, 241, 251, 257, 263, 269, 271, 277, 281, 283, 293, 307, 311, 313, 317, 331, 337, 347, 349, 353, 359, 367, 373, 379, 383, 389, 397, 401, 409, 419, 421, 431, 433, 439, 443, 449, 457, 461, 463, 467, 479, 487, 491, 499, 503, 509, 521, 523, 541, 547, 557, 563, 569, 571, 577, 587, 593, 599, 601, 607, 613, 617, 619, 631, 641, 643, 647, 653, 659, 661, 673, 677, 683, 691, 701, 709, 719, 727, 733, 739, 743, 751, 757, 761, 769, 773, 787, 797, 809, 811, 821, 823, 827, 829, 839, 853, 857, 859, 863, 877, 881, 883, 887, 907, 911, 919, 929, 937, 941, 947, 953, 967, 971, 977, 983, 991, 997]\n",
      "Generated 168 primes\n",
      "\n",
      "\n",
      "Confirm list of primes is correct: True\n"
     ]
    }
   ],
   "source": [
    "if __name__ == '__main__':\n",
    "    print(\"Squares less than 1000:\")\n",
    "    squares = list(squares_generator(1000))\n",
    "    print(squares)\n",
    "    print(\"Generated {} squares\".format(len(squares)))\n",
    "    print(\"\\n\")\n",
    "\n",
    "    print(\"Primes up to 1000:\")\n",
    "    primes = set(primes_generator(1000))\n",
    "    print(sorted(primes))\n",
    "    print(\"Generated {} primes\".format(len(primes)))\n",
    "    print(\"\\n\")\n",
    "\n",
    "    check = {2, 3, 5, 7, 11, 13, 17, 19, 23, 29,\n",
    "             31, 37, 41, 43, 47, 53, 59, 61, 67, 71,\n",
    "             73, 79, 83, 89, 97, 101, 103, 107, 109, 113,\n",
    "             127, 131, 137, 139, 149, 151, 157, 163, 167, 173,\n",
    "             179, 181, 191, 193, 197, 199, 211, 223, 227, 229,\n",
    "             233, 239, 241, 251, 257, 263, 269, 271, 277, 281,\n",
    "             283, 293, 307, 311, 313, 317, 331, 337, 347, 349,\n",
    "             353, 359, 367, 373, 379, 383, 389, 397, 401, 409,\n",
    "             419, 421, 431, 433, 439, 443, 449, 457, 461, 463,\n",
    "             467, 479, 487, 491, 499, 503, 509, 521, 523, 541,\n",
    "             547, 557, 563, 569, 571, 577, 587, 593, 599, 601,\n",
    "             607, 613, 617, 619, 631, 641, 643, 647, 653, 659,\n",
    "             661, 673, 677, 683, 691, 701, 709, 719, 727, 733,\n",
    "             739, 743, 751, 757, 761, 769, 773, 787, 797, 809,\n",
    "             811, 821, 823, 827, 829, 839, 853, 857, 859, 863,\n",
    "             877, 881, 883, 887, 907, 911, 919, 929, 937, 941,\n",
    "             947, 953, 967, 971, 977, 983, 991, 997}\n",
    "    print(\"Confirm list of primes is correct:\", primes == check)"
   ]
  },
  {
   "cell_type": "markdown",
   "id": "6a2ef5e5",
   "metadata": {},
   "source": [
    "**Based on the drugs and patients info in sections above, identify any patients included in more than one trial.**"
   ]
  },
  {
   "cell_type": "code",
   "execution_count": 41,
   "id": "7bb0a498",
   "metadata": {},
   "outputs": [
    {
     "name": "stdout",
     "output_type": "stream",
     "text": [
      "{'Georgia', 'Charley'}\n"
     ]
    }
   ],
   "source": [
    "trial_1 = {\"Bob\", \"Charley\", \"Georgia\", \"John\"}\n",
    "trial_2 = {\"Anne\", \"Charley\", \"Eddie\", \"Georgia\"}\n",
    "\n",
    "both_trials = trial_1.intersection(trial_2)\n",
    "\n",
    "print(both_trials)"
   ]
  },
  {
   "cell_type": "code",
   "execution_count": 46,
   "id": "52a5df73",
   "metadata": {},
   "outputs": [],
   "source": [
    "trial_3 = {\"Bob\", \"Denise\", \"Frank\", \"Georgia\"}"
   ]
  },
  {
   "cell_type": "code",
   "execution_count": 49,
   "id": "e7370461",
   "metadata": {},
   "outputs": [
    {
     "name": "stdout",
     "output_type": "stream",
     "text": [
      "{'Georgia'}\n"
     ]
    }
   ],
   "source": [
    "all_three_trials = trial_1.intersection(trial_2, trial_3)\n",
    "\n",
    "print(all_three_trials)"
   ]
  },
  {
   "cell_type": "code",
   "execution_count": 50,
   "id": "784dd759",
   "metadata": {},
   "outputs": [
    {
     "name": "stdout",
     "output_type": "stream",
     "text": [
      "{'Georgia'}\n"
     ]
    }
   ],
   "source": [
    "all_trials = trial_1 & trial_2 & trial_3\n",
    "\n",
    "print(all_trials)"
   ]
  },
  {
   "cell_type": "code",
   "execution_count": 51,
   "id": "c508c04b",
   "metadata": {},
   "outputs": [
    {
     "name": "stdout",
     "output_type": "stream",
     "text": [
      "set()\n"
     ]
    }
   ],
   "source": [
    "multi_trials = set()\n",
    "\n",
    "print(multi_trials)"
   ]
  },
  {
   "cell_type": "markdown",
   "id": "4dea8ef2",
   "metadata": {},
   "source": [
    "**Using the sequences below, identify which prepositions are used in the text.**"
   ]
  },
  {
   "cell_type": "code",
   "execution_count": 52,
   "id": "e9c33632",
   "metadata": {},
   "outputs": [],
   "source": [
    "text = \"\"\"Education is not the learning of facts\n",
    "but the training of the mind to think\n",
    "\n",
    "– Albert Einstein\"\"\"\n",
    "\n",
    "\n",
    "prepositions = {\"as\", \"but\", \"by\", \"down\", \"for\", \"in\", \"of\", \"on\", \"to\", \"with\"}\n"
   ]
  },
  {
   "cell_type": "code",
   "execution_count": 56,
   "id": "4b62f65d",
   "metadata": {},
   "outputs": [
    {
     "name": "stdout",
     "output_type": "stream",
     "text": [
      "{'but', 'of', 'to'}\n"
     ]
    }
   ],
   "source": [
    "words = set(text.split())\n",
    "\n",
    "preps_used = words.intersection(prepositions)\n",
    "\n",
    "print(preps_used)"
   ]
  },
  {
   "cell_type": "markdown",
   "id": "017923ed",
   "metadata": {},
   "source": [
    "## Difference between Sets\n",
    "\n",
    "**Quite literally, the set of elements belonging to one set but not the other, i.e. excluding any intersected elements.**"
   ]
  },
  {
   "cell_type": "code",
   "execution_count": 58,
   "id": "fa8db116",
   "metadata": {},
   "outputs": [
    {
     "name": "stdout",
     "output_type": "stream",
     "text": [
      "[1, 9, 15, 21, 25, 27, 33, 35, 39, 45, 49]\n"
     ]
    }
   ],
   "source": [
    "# Odd numbers that are not in prime numbers, i.e. odd numbers minus any primes\n",
    "\n",
    "print(sorted(odds.difference(primes)))"
   ]
  },
  {
   "cell_type": "code",
   "execution_count": 59,
   "id": "b7c16694",
   "metadata": {},
   "outputs": [
    {
     "name": "stdout",
     "output_type": "stream",
     "text": [
      "{1, 33, 35, 39, 9, 45, 15, 49, 21, 25, 27}\n"
     ]
    }
   ],
   "source": [
    "# Use - operator \n",
    "\n",
    "print(odds - primes)"
   ]
  },
  {
   "cell_type": "code",
   "execution_count": 60,
   "id": "6e561f1a",
   "metadata": {},
   "outputs": [
    {
     "name": "stdout",
     "output_type": "stream",
     "text": [
      "{97, 2, 67, 71, 73, 79, 83, 53, 89, 59, 61}\n"
     ]
    }
   ],
   "source": [
    "print(primes - odds)"
   ]
  },
  {
   "cell_type": "markdown",
   "id": "919bb70d",
   "metadata": {},
   "source": [
    "**Set difference is useful when you want to remove a certain sequence of elements, e.g. items already bought from a set of items. In this way, you can avoid looping through a sequence to remove elements.**"
   ]
  },
  {
   "cell_type": "code",
   "execution_count": 61,
   "id": "dfb66f16",
   "metadata": {},
   "outputs": [],
   "source": [
    "items_bought = {\"can opener\", \"sleeping bag(s)\", \"knife\", \"tent\", \"water carrier\", \"fuel\", \"matches\"}\n",
    "\n",
    "items = {\n",
    "    \"can opener\", \n",
    "    \"fuel\", \n",
    "    \"jumper\", \n",
    "    \"knife\", \n",
    "    \"matches\", \n",
    "    \"razor blades\", \n",
    "    \"razor\", \n",
    "    \"scissors\", \n",
    "    \"shampoo\", \n",
    "    \"shaving cream\", \n",
    "    \"shirts (3)\", \n",
    "    \"shorts\", \n",
    "    \"sleeping bag(s)\", \n",
    "    \"soap\", \n",
    "    \"socks (3 pairs)\", \n",
    "    \"stove\", \n",
    "    \"tent\", \n",
    "    \"mug\", \n",
    "    \"toothbrush\", \n",
    "    \"toothpaste\", \n",
    "    \"towel\", \n",
    "    \"underwear (3 pairs)\", \n",
    "    \"water carrier\"\n",
    "}"
   ]
  },
  {
   "cell_type": "code",
   "execution_count": 63,
   "id": "9f9fa3bd",
   "metadata": {},
   "outputs": [
    {
     "name": "stdout",
     "output_type": "stream",
     "text": [
      "ITEMS LEFT:\n",
      "soap\n",
      "toothpaste\n",
      "jumper\n",
      "shorts\n",
      "scissors\n",
      "stove\n",
      "socks (3 pairs)\n",
      "shampoo\n",
      "mug\n",
      "shirts (3)\n",
      "underwear (3 pairs)\n",
      "towel\n",
      "razor blades\n",
      "razor\n",
      "shaving cream\n",
      "toothbrush\n"
     ]
    }
   ],
   "source": [
    "items_left = items.difference(items_bought)\n",
    "\n",
    "print(\"ITEMS LEFT:\")\n",
    "print(*items_left, sep='\\n')"
   ]
  },
  {
   "cell_type": "markdown",
   "id": "785d8067",
   "metadata": {},
   "source": [
    "**Working on a retail site, a customer can store their favourite items, as well as storing items to purchase in a shopping basket. Identify the favourite items that are not in the shopping basket, i.e. are you still interested in these items...?**\n",
    "\n",
    "**Output the suggested results sorted alphabetically.**"
   ]
  },
  {
   "cell_type": "code",
   "execution_count": 64,
   "id": "077e4bfd",
   "metadata": {},
   "outputs": [],
   "source": [
    "favourites = {'door screen',\n",
    "              'frying pan',\n",
    "              'roller blind',\n",
    "              'football',\n",
    "              'coffee grinder',\n",
    "              'bush hat',\n",
    "              'stirling engine',\n",
    "              'cachemira cd',\n",
    "              'shirt',\n",
    "              }\n",
    "\n",
    "\n",
    "basket = {'garlic crusher',\n",
    "          'stirling engine',\n",
    "          'frying pan',\n",
    "          'shirt',\n",
    "          'bush hat',\n",
    "          }"
   ]
  },
  {
   "cell_type": "code",
   "execution_count": 70,
   "id": "7b53096f",
   "metadata": {},
   "outputs": [
    {
     "name": "stdout",
     "output_type": "stream",
     "text": [
      "['cachemira cd', 'coffee grinder', 'door screen', 'football', 'roller blind']\n"
     ]
    }
   ],
   "source": [
    "suggestions = sorted(favourites.difference(basket))\n",
    "\n",
    "print(suggestions)"
   ]
  },
  {
   "cell_type": "markdown",
   "id": "3e0b744e",
   "metadata": {},
   "source": [
    "## Symmetric Difference between Sets\n",
    "\n",
    "**Symmetric difference is the collection of unique elements that occur in one or another set, but not both, i.e. the opposite of intersection.**"
   ]
  },
  {
   "cell_type": "code",
   "execution_count": 34,
   "id": "ecfbf85d",
   "metadata": {},
   "outputs": [],
   "source": [
    "morning_classes = {'Java', 'C', 'Ruby', 'Lisp', 'C#'}\n",
    "\n",
    "evening_classes = {'Python', 'C#', 'Java', 'C', 'Ruby'}"
   ]
  },
  {
   "cell_type": "code",
   "execution_count": 35,
   "id": "5ca4cba1",
   "metadata": {},
   "outputs": [
    {
     "name": "stdout",
     "output_type": "stream",
     "text": [
      "{'Python', 'Lisp'}\n"
     ]
    }
   ],
   "source": [
    "# Extract classes that are in morning or evening, but not both\n",
    "\n",
    "available_classes = morning_classes.symmetric_difference(evening_classes)\n",
    "\n",
    "print(available_classes)"
   ]
  },
  {
   "cell_type": "code",
   "execution_count": 36,
   "id": "00d3e8db",
   "metadata": {},
   "outputs": [
    {
     "name": "stdout",
     "output_type": "stream",
     "text": [
      "{'Python', 'Lisp'}\n"
     ]
    }
   ],
   "source": [
    "# Use ^ operator instead of method\n",
    "\n",
    "available_classes = morning_classes ^ evening_classes\n",
    "\n",
    "print(available_classes)"
   ]
  },
  {
   "cell_type": "markdown",
   "id": "8c71acd4",
   "metadata": {},
   "source": [
    "## Subsets and Supersets\n",
    "\n",
    "**You can use mathematical operator `<=` to check whether one set is a subset of another, or you can use `issubset()` method.**\n",
    "\n",
    "**You can use mathematical operator `>=` to check whether one set is the superset of another, or you can use `issuperset()` method.**"
   ]
  },
  {
   "cell_type": "code",
   "execution_count": 1,
   "id": "004ef17a",
   "metadata": {},
   "outputs": [],
   "source": [
    "animals = {'Turtle', 'Horse', 'Robin', 'Python', 'Swallow', 'Hedgehog', 'Wren', 'Aardvark', 'Cat'}\n",
    "\n",
    "birds = {'Robin', 'Swallow', 'Wren'}"
   ]
  },
  {
   "cell_type": "code",
   "execution_count": 2,
   "id": "d5381eee",
   "metadata": {},
   "outputs": [
    {
     "name": "stdout",
     "output_type": "stream",
     "text": [
      "Birds is a subset of Animals - True\n",
      "Animals is a superset of Birds - True\n"
     ]
    }
   ],
   "source": [
    "print(f\"Birds is a subset of Animals - {birds.issubset(animals)}\")\n",
    "\n",
    "print(f\"Animals is a superset of Birds - {animals.issuperset(birds)}\")"
   ]
  },
  {
   "cell_type": "code",
   "execution_count": 3,
   "id": "4b504ccf",
   "metadata": {},
   "outputs": [
    {
     "name": "stdout",
     "output_type": "stream",
     "text": [
      "Birds is a true subset of Animals - True\n",
      "Animals is a true superset of Birds - True\n"
     ]
    }
   ],
   "source": [
    "print(f\"Birds is a true subset of Animals - {birds < animals}\")\n",
    "\n",
    "print(f\"Animals is a true superset of Birds - {animals > birds}\")"
   ]
  },
  {
   "cell_type": "markdown",
   "id": "ffda97ff",
   "metadata": {},
   "source": [
    "**EXERCISE - Using a list of required skills for a job application, search a dictionary to find candidates that have the same skills.**"
   ]
  },
  {
   "cell_type": "code",
   "execution_count": 4,
   "id": "03085071",
   "metadata": {},
   "outputs": [],
   "source": [
    "required_skills = ['python', 'github', 'linux']\n",
    "\n",
    "candidates = {\n",
    "    'anna': {'java', 'linux', 'windows', 'github', 'python', 'full stack'},\n",
    "    'bob': {'github', 'linux', 'python'},\n",
    "    'carol': {'linux', 'javascript', 'html', 'python', 'github'}, \n",
    "    'daniel': {'pascal', 'java', 'c++', 'github'},\n",
    "    'ekani': {'html', 'css', 'github', 'python', 'linux'},\n",
    "    'fenna': {'linux' 'pascal', 'java', 'c', 'lisp', 'modula-2', 'perl', 'github'}\n",
    "}"
   ]
  },
  {
   "cell_type": "code",
   "execution_count": 5,
   "id": "f3462585",
   "metadata": {},
   "outputs": [
    {
     "name": "stdout",
     "output_type": "stream",
     "text": [
      "{'bob', 'carol', 'ekani', 'anna'}\n"
     ]
    }
   ],
   "source": [
    "interviewees = set()\n",
    "\n",
    "for candidate, skills in candidates.items():\n",
    "    if skills.issuperset(required_skills):\n",
    "        interviewees.add(candidate)\n",
    "        \n",
    "        \n",
    "print(interviewees)"
   ]
  },
  {
   "cell_type": "markdown",
   "id": "d2857ef2",
   "metadata": {},
   "source": [
    "**You can check the candidates on more stringent conditions like looking for *true* supersets, i.e. candidates who have more than the required skills. Remember that mathematical operators only work on sets.**"
   ]
  },
  {
   "cell_type": "code",
   "execution_count": 7,
   "id": "59a4096d",
   "metadata": {},
   "outputs": [
    {
     "name": "stdout",
     "output_type": "stream",
     "text": [
      "{'carol', 'ekani', 'anna'}\n"
     ]
    }
   ],
   "source": [
    "interviewees = set()\n",
    "\n",
    "for candidate, skills in candidates.items():\n",
    "    if skills > set(required_skills):\n",
    "        interviewees.add(candidate)\n",
    "        \n",
    "        \n",
    "print(interviewees)"
   ]
  },
  {
   "cell_type": "markdown",
   "id": "715ac8a7",
   "metadata": {},
   "source": [
    "**Ideally, the required skills should be initialized as a set, not a list, before running the loop. This is more efficient computation.**"
   ]
  },
  {
   "cell_type": "code",
   "execution_count": null,
   "id": "bac8f84f",
   "metadata": {},
   "outputs": [],
   "source": []
  }
 ],
 "metadata": {
  "kernelspec": {
   "display_name": "Python 3 (ipykernel)",
   "language": "python",
   "name": "python3"
  },
  "language_info": {
   "codemirror_mode": {
    "name": "ipython",
    "version": 3
   },
   "file_extension": ".py",
   "mimetype": "text/x-python",
   "name": "python",
   "nbconvert_exporter": "python",
   "pygments_lexer": "ipython3",
   "version": "3.9.17"
  }
 },
 "nbformat": 4,
 "nbformat_minor": 5
}
